{
  "nbformat": 4,
  "nbformat_minor": 0,
  "metadata": {
    "colab": {
      "name": "MoveIt.ipynb",
      "provenance": [],
      "collapsed_sections": []
    },
    "kernelspec": {
      "name": "python3",
      "display_name": "Python 3"
    }
  },
  "cells": [
    {
      "cell_type": "markdown",
      "metadata": {
        "id": "lFxeRD2gAxEf"
      },
      "source": [
        "### Instalando PySpark"
      ]
    },
    {
      "cell_type": "code",
      "metadata": {
        "id": "RTdmD5l4BCct",
        "outputId": "eed264ec-14ab-4e1b-aa82-4f60a9b1fbd4",
        "colab": {
          "base_uri": "https://localhost:8080/",
          "height": 238
        }
      },
      "source": [
        "!pip install pyspark"
      ],
      "execution_count": 1,
      "outputs": [
        {
          "output_type": "stream",
          "text": [
            "Collecting pyspark\n",
            "\u001b[?25l  Downloading https://files.pythonhosted.org/packages/f0/26/198fc8c0b98580f617cb03cb298c6056587b8f0447e20fa40c5b634ced77/pyspark-3.0.1.tar.gz (204.2MB)\n",
            "\u001b[K     |████████████████████████████████| 204.2MB 65kB/s \n",
            "\u001b[?25hCollecting py4j==0.10.9\n",
            "\u001b[?25l  Downloading https://files.pythonhosted.org/packages/9e/b6/6a4fb90cd235dc8e265a6a2067f2a2c99f0d91787f06aca4bcf7c23f3f80/py4j-0.10.9-py2.py3-none-any.whl (198kB)\n",
            "\u001b[K     |████████████████████████████████| 204kB 40.3MB/s \n",
            "\u001b[?25hBuilding wheels for collected packages: pyspark\n",
            "  Building wheel for pyspark (setup.py) ... \u001b[?25l\u001b[?25hdone\n",
            "  Created wheel for pyspark: filename=pyspark-3.0.1-py2.py3-none-any.whl size=204612243 sha256=672812b90c275bfbde2b37b137ef20b3685ef33bd1999f53b7b3a295353e43f6\n",
            "  Stored in directory: /root/.cache/pip/wheels/5e/bd/07/031766ca628adec8435bb40f0bd83bb676ce65ff4007f8e73f\n",
            "Successfully built pyspark\n",
            "Installing collected packages: py4j, pyspark\n",
            "Successfully installed py4j-0.10.9 pyspark-3.0.1\n"
          ],
          "name": "stdout"
        }
      ]
    },
    {
      "cell_type": "markdown",
      "metadata": {
        "id": "_AcB-QsuAm8K"
      },
      "source": [
        "### Criando Spark Context"
      ]
    },
    {
      "cell_type": "code",
      "metadata": {
        "id": "1udOWHIlCvbi"
      },
      "source": [
        "from pyspark import SparkContext\n",
        "from pyspark.sql import Row\n",
        "from pyspark.sql import *\n",
        "from pyspark.sql import SQLContext\n",
        "from pyspark import SparkFiles\n",
        "from pyspark.sql.functions import col"
      ],
      "execution_count": 2,
      "outputs": []
    },
    {
      "cell_type": "code",
      "metadata": {
        "id": "eel4ff5OA6qe"
      },
      "source": [
        "spark = SparkContext.getOrCreate()"
      ],
      "execution_count": 3,
      "outputs": []
    },
    {
      "cell_type": "markdown",
      "metadata": {
        "id": "HWVV98rzl07M"
      },
      "source": [
        "### Carregando Dataset"
      ]
    },
    {
      "cell_type": "code",
      "metadata": {
        "id": "SoH9WIshDvSJ"
      },
      "source": [
        "spark.addFile('https://raw.githubusercontent.com/JonatasDeOliveira/movie-it/master/data/moviesOnStreamingPlatforms_updated.csv')"
      ],
      "execution_count": 4,
      "outputs": []
    },
    {
      "cell_type": "code",
      "metadata": {
        "id": "aiXf8Wm7BX98"
      },
      "source": [
        "sql_context = SQLContext(spark)\n",
        "movies_df = sql_context.read.csv(SparkFiles.get(\"moviesOnStreamingPlatforms_updated.csv\"), header=True, inferSchema= True)"
      ],
      "execution_count": 5,
      "outputs": []
    },
    {
      "cell_type": "code",
      "metadata": {
        "id": "xt0mKG56EWGI",
        "outputId": "f7fa4cca-0b32-4340-d42d-0722fee38859",
        "colab": {
          "base_uri": "https://localhost:8080/",
          "height": 479
        }
      },
      "source": [
        "movies_df.show(20, False)"
      ],
      "execution_count": 6,
      "outputs": [
        {
          "output_type": "stream",
          "text": [
            "+---+---+----------------------------------+----+---+----+---------------+-------+----+-----------+-------+----+-------------------------------------------+----------------------------------------+-------------------------------------------+-------------------------------------------+-------+\n",
            "|_c0|ID |Title                             |Year|Age|IMDb|Rotten Tomatoes|Netflix|Hulu|Prime Video|Disney+|Type|Directors                                  |Genres                                  |Country                                    |Language                                   |Runtime|\n",
            "+---+---+----------------------------------+----+---+----+---------------+-------+----+-----------+-------+----+-------------------------------------------+----------------------------------------+-------------------------------------------+-------------------------------------------+-------+\n",
            "|0  |1  |Inception                         |2010|13+|8.8 |87%            |1      |0   |0          |0      |0   |Christopher Nolan                          |Action,Adventure,Sci-Fi,Thriller        |United States,United Kingdom               |English,Japanese,French                    |148    |\n",
            "|1  |2  |The Matrix                        |1999|18+|8.7 |87%            |1      |0   |0          |0      |0   |Lana Wachowski,Lilly Wachowski             |Action,Sci-Fi                           |United States                              |English                                    |136    |\n",
            "|2  |3  |Avengers: Infinity War            |2018|13+|8.5 |84%            |1      |0   |0          |0      |0   |Anthony Russo,Joe Russo                    |Action,Adventure,Sci-Fi                 |United States                              |English                                    |149    |\n",
            "|3  |4  |Back to the Future                |1985|7+ |8.5 |96%            |1      |0   |0          |0      |0   |Robert Zemeckis                            |Adventure,Comedy,Sci-Fi                 |United States                              |English                                    |116    |\n",
            "|4  |5  |The Good, the Bad and the Ugly    |1966|18+|8.8 |97%            |1      |0   |1          |0      |0   |Sergio Leone                               |Western                                 |Italy,Spain,West Germany                   |Italian                                    |161    |\n",
            "|5  |6  |Spider-Man: Into the Spider-Verse |2018|7+ |8.4 |97%            |1      |0   |0          |0      |0   |Bob Persichetti,Peter Ramsey,Rodney Rothman|Animation,Action,Adventure,Family,Sci-Fi|United States                              |English,Spanish                            |117    |\n",
            "|6  |7  |The Pianist                       |2002|18+|8.5 |95%            |1      |0   |1          |0      |0   |Roman Polanski                             |Biography,Drama,Music,War               |United Kingdom,France,Poland,Germany       |English,German,Russian                     |150    |\n",
            "|7  |8  |Django Unchained                  |2012|18+|8.4 |87%            |1      |0   |0          |0      |0   |Quentin Tarantino                          |Drama,Western                           |United States                              |English,German,French,Italian              |165    |\n",
            "|8  |9  |Raiders of the Lost Ark           |1981|7+ |8.4 |95%            |1      |0   |0          |0      |0   |Steven Spielberg                           |Action,Adventure                        |United States                              |English,German,Hebrew,Spanish,Arabic,Nepali|115    |\n",
            "|9  |10 |Inglourious Basterds              |2009|18+|8.3 |89%            |1      |0   |0          |0      |0   |Quentin Tarantino                          |Adventure,Drama,War                     |Germany,United States                      |English,German,French,Italian              |153    |\n",
            "|10 |11 |Taxi Driver                       |1976|18+|8.3 |95%            |1      |0   |0          |0      |0   |Martin Scorsese                            |Crime,Drama                             |United States                              |English,Spanish                            |114    |\n",
            "|11 |12 |3 Idiots                          |2009|13+|8.4 |100%           |1      |0   |1          |0      |0   |Rajkumar Hirani                            |Comedy,Drama                            |India                                      |Hindi,English                              |170    |\n",
            "|12 |13 |Pan's Labyrinth                   |2006|18+|8.2 |95%            |1      |0   |0          |0      |0   |Guillermo del Toro                         |Drama,Fantasy,War                       |Mexico,Spain                               |Spanish                                    |118    |\n",
            "|13 |14 |Room                              |2015|18+|8.1 |93%            |1      |0   |0          |0      |0   |Lenny Abrahamson                           |Drama,Thriller                          |Ireland,Canada,United Kingdom,United States|English                                    |118    |\n",
            "|14 |15 |Monty Python and the Holy Grail   |1975|7+ |8.2 |97%            |1      |0   |0          |0      |0   |Terry Gilliam,Terry Jones                  |Adventure,Comedy,Fantasy                |United Kingdom                             |English,French,Latin                       |91     |\n",
            "|15 |16 |Once Upon a Time in the West      |1968|13+|8.5 |95%            |1      |0   |1          |0      |0   |Sergio Leone                               |Western                                 |Italy,United States                        |Italian,English,Spanish                    |165    |\n",
            "|16 |17 |Indiana Jones and the Last Crusade|1989|13+|8.2 |88%            |1      |0   |0          |0      |0   |Steven Spielberg                           |Action,Adventure                        |United States                              |English,German,Greek,Arabic                |127    |\n",
            "|17 |18 |Groundhog Day                     |1993|7+ |8.0 |96%            |1      |0   |0          |0      |0   |Harold Ramis                               |Comedy,Fantasy,Romance                  |United States                              |English,French,Italian                     |101    |\n",
            "|18 |19 |The King's Speech                 |2010|18+|8.0 |95%            |1      |0   |0          |0      |0   |Tom Hooper                                 |Biography,Drama,History                 |United Kingdom,United States,Australia     |English                                    |118    |\n",
            "|19 |20 |Her                               |2013|18+|8.0 |95%            |1      |0   |0          |0      |0   |Spike Jonze                                |Drama,Romance,Sci-Fi                    |United States                              |English                                    |126    |\n",
            "+---+---+----------------------------------+----+---+----+---------------+-------+----+-----------+-------+----+-------------------------------------------+----------------------------------------+-------------------------------------------+-------------------------------------------+-------+\n",
            "only showing top 20 rows\n",
            "\n"
          ],
          "name": "stdout"
        }
      ]
    },
    {
      "cell_type": "code",
      "metadata": {
        "id": "8vDqAMflSdCA",
        "outputId": "fc171caa-ea15-442b-a883-7eecd3528e7f",
        "colab": {
          "base_uri": "https://localhost:8080/",
          "height": 323
        }
      },
      "source": [
        "movies_df.toPandas().isna().sum()"
      ],
      "execution_count": 7,
      "outputs": [
        {
          "output_type": "execute_result",
          "data": {
            "text/plain": [
              "_c0                    0\n",
              "ID                     0\n",
              "Title                  0\n",
              "Year                   0\n",
              "Age                 9389\n",
              "IMDb                 571\n",
              "Rotten Tomatoes    11586\n",
              "Netflix                1\n",
              "Hulu                   0\n",
              "Prime Video            0\n",
              "Disney+                0\n",
              "Type                   0\n",
              "Directors            725\n",
              "Genres               275\n",
              "Country              435\n",
              "Language             599\n",
              "Runtime              592\n",
              "dtype: int64"
            ]
          },
          "metadata": {
            "tags": []
          },
          "execution_count": 7
        }
      ]
    },
    {
      "cell_type": "markdown",
      "metadata": {
        "id": "33e7JpIHmFl9"
      },
      "source": [
        "### Pré Processamento"
      ]
    },
    {
      "cell_type": "code",
      "metadata": {
        "id": "P0RBQqh8SCsk",
        "outputId": "faade30d-ba11-49c7-e341-af2a6a338c65",
        "colab": {
          "base_uri": "https://localhost:8080/",
          "height": 340
        }
      },
      "source": [
        "movies_df.printSchema()"
      ],
      "execution_count": 8,
      "outputs": [
        {
          "output_type": "stream",
          "text": [
            "root\n",
            " |-- _c0: integer (nullable = true)\n",
            " |-- ID: integer (nullable = true)\n",
            " |-- Title: string (nullable = true)\n",
            " |-- Year: string (nullable = true)\n",
            " |-- Age: string (nullable = true)\n",
            " |-- IMDb: double (nullable = true)\n",
            " |-- Rotten Tomatoes: string (nullable = true)\n",
            " |-- Netflix: integer (nullable = true)\n",
            " |-- Hulu: integer (nullable = true)\n",
            " |-- Prime Video: integer (nullable = true)\n",
            " |-- Disney+: integer (nullable = true)\n",
            " |-- Type: integer (nullable = true)\n",
            " |-- Directors: string (nullable = true)\n",
            " |-- Genres: string (nullable = true)\n",
            " |-- Country: string (nullable = true)\n",
            " |-- Language: string (nullable = true)\n",
            " |-- Runtime: integer (nullable = true)\n",
            "\n"
          ],
          "name": "stdout"
        }
      ]
    },
    {
      "cell_type": "markdown",
      "metadata": {
        "id": "QJhDiA6HQU46"
      },
      "source": [
        "Pontos notados:\n",
        "\n",
        "- Primeiramente, percebemos que temos duas colunas com \"ids\". Como pegamos esses dados do kaggle possivelmente esta primeira coluna não é necessária.\n",
        "- Há uma coluna Type que possui somente valores iguais a 0. Procuramos entender o que seria mas não encontramos, vamos dropar essa coluna.\n",
        "- Outra observação é que as colunas Directors, Genres, Country e Language são listas e estão como strings devemos processar também as mesmas.\n",
        "- Colunas Age e Year estão como string, devem ser transformadas para integer."
      ]
    },
    {
      "cell_type": "code",
      "metadata": {
        "id": "KgTaLR7rH99C"
      },
      "source": [
        "from pyspark.sql.functions import split"
      ],
      "execution_count": 9,
      "outputs": []
    },
    {
      "cell_type": "code",
      "metadata": {
        "id": "DOn1LPu2ePtP"
      },
      "source": [
        "movies_df_drop_c0 = movies_df.drop('_c0')"
      ],
      "execution_count": 10,
      "outputs": []
    },
    {
      "cell_type": "code",
      "metadata": {
        "id": "V6o3brYnqdXK"
      },
      "source": [
        "movies_df_drop_type = movies_df_drop_c0.drop('Type')"
      ],
      "execution_count": 11,
      "outputs": []
    },
    {
      "cell_type": "code",
      "metadata": {
        "id": "2ymxnLPZIEWk"
      },
      "source": [
        "movies_df_split = (movies_df_drop_type.withColumn('DirectorsArray', split('Directors', ','))\n",
        ".withColumn('GenresArray', split('Genres', ','))\n",
        ".withColumn('CountriesArray', split('Country', ','))\n",
        ".withColumn('LanguagesArray', split('Language', ','))\n",
        ".drop('Directors')\n",
        ".drop('Genres')\n",
        ".drop('Country')\n",
        ".drop('Language'))"
      ],
      "execution_count": 12,
      "outputs": []
    },
    {
      "cell_type": "code",
      "metadata": {
        "id": "XbdrU1-VeGOI",
        "outputId": "5f980e3d-ada8-41eb-f97f-295235b822db",
        "colab": {
          "base_uri": "https://localhost:8080/",
          "height": 34
        }
      },
      "source": [
        "# checando se todas as idades seguem o regex [0-9]+\\+\n",
        "df_filtered_age_pattern = movies_df_split.filter(col('Age').rlike('[0-9]+\\+'))\n",
        "df_filtered_age_pattern.count() == movies_df_split.count()"
      ],
      "execution_count": 13,
      "outputs": [
        {
          "output_type": "execute_result",
          "data": {
            "text/plain": [
              "False"
            ]
          },
          "metadata": {
            "tags": []
          },
          "execution_count": 13
        }
      ]
    },
    {
      "cell_type": "code",
      "metadata": {
        "id": "2Hv27tusnUie",
        "outputId": "516ade55-68d4-4048-9413-c61d2374f60a",
        "colab": {
          "base_uri": "https://localhost:8080/",
          "height": 224
        }
      },
      "source": [
        "# verificar idades que não seguem o padrão\n",
        "df_filtered_not_age_pattern = movies_df_split.filter(~col('Age').rlike('[0-9]+\\+'))\n",
        "df_filtered_not_age_pattern.show(5, False)"
      ],
      "execution_count": 14,
      "outputs": [
        {
          "output_type": "stream",
          "text": [
            "+---+-----------------------------------+----+---+----+---------------+-------+----+-----------+-------+-------+---------------------------+-----------------------------------------------------------------+----------------------------------------------------+----------------------------------+\n",
            "|ID |Title                              |Year|Age|IMDb|Rotten Tomatoes|Netflix|Hulu|Prime Video|Disney+|Runtime|DirectorsArray             |GenresArray                                                      |CountriesArray                                      |LanguagesArray                    |\n",
            "+---+-----------------------------------+----+---+----+---------------+-------+----+-----------+-------+-------+---------------------------+-----------------------------------------------------------------+----------------------------------------------------+----------------------------------+\n",
            "|55 |Willy Wonka & the Chocolate Factory|1971|all|7.8 |91%            |1      |0   |0          |0      |100    |[Mel Stuart]               |[Family, Fantasy, Musical]                                       |[United States, East Germany, West Germany, Belgium]|[English, French, German, Italian]|\n",
            "|92 |Tarzan                             |1999|all|7.3 |89%            |1      |0   |0          |0      |110    |[David Yates]              |[Action, Adventure, Drama, Fantasy, Romance]                     |[United Kingdom, Canada, United States]             |[English, Lingala, French]        |\n",
            "|126|The Princess and the Frog          |2009|all|7.1 |85%            |1      |0   |0          |1      |97     |[Ron Clements, John Musker]|[Animation, Adventure, Comedy, Family, Fantasy, Musical, Romance]|[United States]                                     |[English, French]                 |\n",
            "|134|Barfi!                             |2012|all|8.1 |86%            |1      |0   |0          |0      |151    |[Anurag Basu]              |[Comedy, Drama, Romance]                                         |[India]                                             |[Hindi]                           |\n",
            "|152|Swades                             |2004|all|8.2 |83%            |1      |0   |0          |0      |210    |[Ashutosh Gowariker]       |[Drama]                                                          |[India]                                             |[Hindi, English]                  |\n",
            "+---+-----------------------------------+----+---+----+---------------+-------+----+-----------+-------+-------+---------------------------+-----------------------------------------------------------------+----------------------------------------------------+----------------------------------+\n",
            "only showing top 5 rows\n",
            "\n"
          ],
          "name": "stdout"
        }
      ]
    },
    {
      "cell_type": "code",
      "metadata": {
        "id": "fhvJGi9uoqx7",
        "outputId": "4d36598e-fbae-4285-8659-e1c3d6069b8c",
        "colab": {
          "base_uri": "https://localhost:8080/",
          "height": 34
        }
      },
      "source": [
        "# verficar que o padrão de idade em regex [0-9]+\\+ unido a o padrão com 'all' contemplam todo o dataframe\n",
        "df_filtered_pattern_all = movies_df_split.filter(col('Age').rlike('[0-9]+\\+') | (col('Age') == 'all'))\n",
        "movies_df_split.count() == df_filtered_pattern_all.count()"
      ],
      "execution_count": 15,
      "outputs": [
        {
          "output_type": "execute_result",
          "data": {
            "text/plain": [
              "False"
            ]
          },
          "metadata": {
            "tags": []
          },
          "execution_count": 15
        }
      ]
    },
    {
      "cell_type": "code",
      "metadata": {
        "id": "fGTUiTjXpwtv",
        "outputId": "c694f209-ee7e-4c0b-c892-9134bedb13d6",
        "colab": {
          "base_uri": "https://localhost:8080/",
          "height": 119
        }
      },
      "source": [
        "df_filtered_not_pattern_all = movies_df_split.filter(~(col('Age').rlike('[0-9]+\\+') | (col('Age') == 'all')))\n",
        "df_filtered_not_pattern_all.show(5, False)"
      ],
      "execution_count": 16,
      "outputs": [
        {
          "output_type": "stream",
          "text": [
            "+-----+-----------------------------+-------------------------+----+----+---------------+-------+----+-----------+-------+-------+--------------+-----------+--------------+--------------+\n",
            "|ID   |Title                        |Year                     |Age |IMDb|Rotten Tomatoes|Netflix|Hulu|Prime Video|Disney+|Runtime|DirectorsArray|GenresArray|CountriesArray|LanguagesArray|\n",
            "+-----+-----------------------------+-------------------------+----+----+---------------+-------+----+-----------+-------+-------+--------------+-----------+--------------+--------------+\n",
            "|15902|\"\"\"22\"\" A film about Veterans| Healthcare and Suicide.\"|2018|null|null           |null   |0   |0          |1      |null   |[0]           |null       |null          |null          |\n",
            "+-----+-----------------------------+-------------------------+----+----+---------------+-------+----+-----------+-------+-------+--------------+-----------+--------------+--------------+\n",
            "\n"
          ],
          "name": "stdout"
        }
      ]
    },
    {
      "cell_type": "markdown",
      "metadata": {
        "id": "D-Fe1vDxqYzC"
      },
      "source": [
        "Claramente a linha apresentada acima é um erro pois a idade está como um ano, o ano está como um texto e a maioria das outras colunas estão vazias, vamos remover essa linha."
      ]
    },
    {
      "cell_type": "code",
      "metadata": {
        "id": "79g8jIPdra00"
      },
      "source": [
        "movies_df_filtered_age = movies_df_split.where(col('ID') != 15902)"
      ],
      "execution_count": 17,
      "outputs": []
    },
    {
      "cell_type": "markdown",
      "metadata": {
        "id": "DP1WVvJPrwvu"
      },
      "source": [
        "Agora vamos processar Age para aparecer como um inteiro em todo dataframe. A idade (Age) possui dois formatos, a idade mínima pra assistir o filme acompanhada de um caracter '+' ou o texto escrito 'all'. Iremos seguir os seguintes passos:\n",
        "- remover o caracter '+' das idades mínimas;\n",
        "- tranformar todas linha com o valor 'all' para 0;\n",
        "- transformar para um inteiro renomeando a coluna para MinimumAge;"
      ]
    },
    {
      "cell_type": "code",
      "metadata": {
        "id": "3WhJu56-UouO",
        "outputId": "d3f87861-c212-4739-fc51-0afb171087cc",
        "colab": {
          "base_uri": "https://localhost:8080/",
          "height": 459
        }
      },
      "source": [
        "movies_df_filtered_age.where(col('Age').isNull()).show()"
      ],
      "execution_count": 18,
      "outputs": [
        {
          "output_type": "stream",
          "text": [
            "+---+--------------------+----+----+----+---------------+-------+----+-----------+-------+-------+--------------------+--------------------+--------------------+--------------------+\n",
            "| ID|               Title|Year| Age|IMDb|Rotten Tomatoes|Netflix|Hulu|Prime Video|Disney+|Runtime|      DirectorsArray|         GenresArray|      CountriesArray|      LanguagesArray|\n",
            "+---+--------------------+----+----+----+---------------+-------+----+-----------+-------+-------+--------------------+--------------------+--------------------+--------------------+\n",
            "| 33|      Train to Busan|2016|null| 7.5|            94%|      1|   0|          1|      0|    118|      [Sang-ho Yeon]|[Action, Horror, ...|       [South Korea]|  [Korean, Hawaiian]|\n",
            "| 58|      A Silent Voice|2016|null| 8.2|            94%|      1|   0|          0|      0|    130|      [Naoko Yamada]|[Animation, Drama...|             [Japan]|[Japanese, Japane...|\n",
            "| 90|       The Dawn Wall|2018|null| 8.1|           100%|      1|   0|          0|      0|    100|[Josh Lowell, Pet...|[Documentary, Bio...|[Austria, United ...|           [English]|\n",
            "|111|Black Mirror: Ban...|2018|null| 7.2|            92%|      1|   0|          0|      0|     90|       [David Slade]|[Drama, Mystery, ...|[United States, U...|           [English]|\n",
            "|124|Neon Genesis Evan...|1997|null| 8.1|            88%|      1|   0|          0|      0|     87|[Hideaki Anno, Ka...|[Animation, Actio...|             [Japan]|          [Japanese]|\n",
            "|149|          The Square|2013|null| 8.1|           100%|      1|   1|          1|      0|    151|     [Ruben Östlund]|     [Comedy, Drama]|[Sweden, Germany,...|[Swedish, English...|\n",
            "|165|             Virunga|2014|null| 8.2|           100%|      1|   0|          0|      0|    100|[Orlando von Eins...|  [Documentary, War]|[United Kingdom, ...|[English, French,...|\n",
            "|172|          Article 15|2019|null| 8.3|            89%|      1|   0|          0|      0|    130|     [Anubhav Sinha]|[Crime, Drama, My...|             [India]|             [Hindi]|\n",
            "|178|Hannah Gadsby: Na...|2018|null| 8.2|           100%|      1|   0|          0|      0|     69|[Jon Olb, Madelei...|[Documentary, Com...|         [Australia]|           [English]|\n",
            "|184|Winter on Fire: U...|2015|null| 8.4|            88%|      1|   0|          0|      0|    102| [Evgeny Afineevsky]|       [Documentary]|[United Kingdom, ...|[Ukrainian, Russi...|\n",
            "|189|      The Invitation|2015|null| 6.6|            88%|      1|   0|          1|      0|    100|      [Karyn Kusama]|[Drama, Mystery, ...|     [United States]|           [English]|\n",
            "|193|    On Body and Soul|2017|null| 7.6|            89%|      1|   0|          0|      0|    116|     [Ildikó Enyedi]|[Drama, Fantasy, ...|           [Hungary]|         [Hungarian]|\n",
            "|204|              Sairat|2016|null| 8.3|           100%|      1|   0|          0|      0|    174|    [Nagraj Manjule]|    [Drama, Romance]|             [India]|           [Marathi]|\n",
            "|216| The Young Offenders|2016|null| 7.1|           100%|      1|   0|          0|      0|     30|                null|            [Comedy]|[United Kingdom, ...|           [English]|\n",
            "|221|The Guernsey Lite...|2018|null| 7.4|            81%|      1|   0|          0|      0|    124|       [Mike Newell]|[Drama, Romance, ...|[United Kingdom, ...|[English, German,...|\n",
            "|223|         The Endless|2018|null| 6.5|            94%|      1|   0|          0|      0|    111|[Justin Benson, A...|[Drama, Fantasy, ...|     [United States]|           [English]|\n",
            "|225|   The Game Changers|2019|null| 7.9|            70%|      1|   0|          0|      0|    108|    [Louie Psihoyos]|       [Documentary]|     [United States]|           [English]|\n",
            "|231|      The Fear of 13|2015|null| 7.7|            94%|      1|   0|          0|      0|     96|     [David Sington]|[Documentary, Cri...|    [United Kingdom]|           [English]|\n",
            "|236|              Code 8|2019|null| 6.1|            79%|      1|   0|          0|      0|     98|         [Jeff Chan]|[Action, Crime, D...|            [Canada]|           [English]|\n",
            "|239|The Distinguished...|2016|null| 7.5|           100%|      1|   0|          0|      0|    118|[Gastón Duprat, M...|     [Comedy, Drama]|  [Argentina, Spain]|           [Spanish]|\n",
            "+---+--------------------+----+----+----+---------------+-------+----+-----------+-------+-------+--------------------+--------------------+--------------------+--------------------+\n",
            "only showing top 20 rows\n",
            "\n"
          ],
          "name": "stdout"
        }
      ]
    },
    {
      "cell_type": "code",
      "metadata": {
        "id": "T_cXQa3LQgxk"
      },
      "source": [
        "from pyspark.sql.functions import translate\n",
        "from pyspark.sql.types import IntegerType\n",
        "from pyspark.sql.functions import udf\n",
        "\n",
        "def transform_all_age_value(age):\n",
        "  if age == 'all':\n",
        "    return 0\n",
        "  if age is None:\n",
        "    return -1\n",
        "  return int(age)\n",
        "\n",
        "transformAllAgeValue = udf(lambda x: transform_all_age_value(x), IntegerType())\n",
        "\n",
        "movies_df_age_processed = movies_df_filtered_age.withColumn(\"Age\", translate('Age', '+', ''))\n",
        "movies_df_classification = movies_df_age_processed.withColumn(\"MinimumClassification\", transformAllAgeValue(col('Age'))).drop('Age')"
      ],
      "execution_count": 19,
      "outputs": []
    },
    {
      "cell_type": "markdown",
      "metadata": {
        "id": "uA2cBFSGhCEi"
      },
      "source": [
        "Note que existe idade indicativa nula, setamos esses valores como -1."
      ]
    },
    {
      "cell_type": "code",
      "metadata": {
        "id": "qDhJr90zgyAv",
        "outputId": "75abd2b6-582b-44b0-9f41-9a1c201beb50",
        "colab": {
          "base_uri": "https://localhost:8080/",
          "height": 374
        }
      },
      "source": [
        "movies_df_classification.printSchema()"
      ],
      "execution_count": 20,
      "outputs": [
        {
          "output_type": "stream",
          "text": [
            "root\n",
            " |-- ID: integer (nullable = true)\n",
            " |-- Title: string (nullable = true)\n",
            " |-- Year: string (nullable = true)\n",
            " |-- IMDb: double (nullable = true)\n",
            " |-- Rotten Tomatoes: string (nullable = true)\n",
            " |-- Netflix: integer (nullable = true)\n",
            " |-- Hulu: integer (nullable = true)\n",
            " |-- Prime Video: integer (nullable = true)\n",
            " |-- Disney+: integer (nullable = true)\n",
            " |-- Runtime: integer (nullable = true)\n",
            " |-- DirectorsArray: array (nullable = true)\n",
            " |    |-- element: string (containsNull = true)\n",
            " |-- GenresArray: array (nullable = true)\n",
            " |    |-- element: string (containsNull = true)\n",
            " |-- CountriesArray: array (nullable = true)\n",
            " |    |-- element: string (containsNull = true)\n",
            " |-- LanguagesArray: array (nullable = true)\n",
            " |    |-- element: string (containsNull = true)\n",
            " |-- MinimumClassification: integer (nullable = true)\n",
            "\n"
          ],
          "name": "stdout"
        }
      ]
    },
    {
      "cell_type": "markdown",
      "metadata": {
        "id": "H3yQHisWq3gv"
      },
      "source": [
        "Analisando o schema novamente, podemos ver que assim como o campo Age, o campo Year deveria estar como Integer, vamos arrumar isso."
      ]
    },
    {
      "cell_type": "code",
      "metadata": {
        "id": "lxIsJc9orTRT"
      },
      "source": [
        "movies_df_year_processed = movies_df_classification.withColumn(\"Year\", col(\"Year\").cast(IntegerType()))"
      ],
      "execution_count": 21,
      "outputs": []
    },
    {
      "cell_type": "code",
      "metadata": {
        "id": "i4lPBLH8WxkP",
        "outputId": "26140613-c838-4126-e23b-79706508ad10",
        "colab": {
          "base_uri": "https://localhost:8080/",
          "height": 374
        }
      },
      "source": [
        "movies_df_year_processed.printSchema()"
      ],
      "execution_count": 22,
      "outputs": [
        {
          "output_type": "stream",
          "text": [
            "root\n",
            " |-- ID: integer (nullable = true)\n",
            " |-- Title: string (nullable = true)\n",
            " |-- Year: integer (nullable = true)\n",
            " |-- IMDb: double (nullable = true)\n",
            " |-- Rotten Tomatoes: string (nullable = true)\n",
            " |-- Netflix: integer (nullable = true)\n",
            " |-- Hulu: integer (nullable = true)\n",
            " |-- Prime Video: integer (nullable = true)\n",
            " |-- Disney+: integer (nullable = true)\n",
            " |-- Runtime: integer (nullable = true)\n",
            " |-- DirectorsArray: array (nullable = true)\n",
            " |    |-- element: string (containsNull = true)\n",
            " |-- GenresArray: array (nullable = true)\n",
            " |    |-- element: string (containsNull = true)\n",
            " |-- CountriesArray: array (nullable = true)\n",
            " |    |-- element: string (containsNull = true)\n",
            " |-- LanguagesArray: array (nullable = true)\n",
            " |    |-- element: string (containsNull = true)\n",
            " |-- MinimumClassification: integer (nullable = true)\n",
            "\n"
          ],
          "name": "stdout"
        }
      ]
    },
    {
      "cell_type": "markdown",
      "metadata": {
        "id": "qkqjcZhtic65"
      },
      "source": [
        "Agora precisamos modificar a coluna Rotten Tomatoes para ser um integer."
      ]
    },
    {
      "cell_type": "code",
      "metadata": {
        "id": "hxNEA6ySibsD"
      },
      "source": [
        "movies_df_rotten_char = movies_df_year_processed.withColumn(\"RottenTomatoes\", translate('Rotten Tomatoes', '%', '')).drop('Rotten Tomatoes')\n",
        "movies_df_rotten_int = movies_df_rotten_char.withColumn(\"RottenTomatoes\", col(\"RottenTomatoes\").cast(IntegerType()))\n",
        "movies_df_padronized_rotten = movies_df_rotten_int.withColumn(\"RottenTomatoes\", col(\"RottenTomatoes\") / 10)"
      ],
      "execution_count": 23,
      "outputs": []
    },
    {
      "cell_type": "code",
      "metadata": {
        "id": "FBFkcESjkn5z",
        "outputId": "de8eecd0-9b51-41d3-c863-ad5acf9c5647",
        "colab": {
          "base_uri": "https://localhost:8080/",
          "height": 374
        }
      },
      "source": [
        "movies_df_padronized_rotten.printSchema()"
      ],
      "execution_count": 24,
      "outputs": [
        {
          "output_type": "stream",
          "text": [
            "root\n",
            " |-- ID: integer (nullable = true)\n",
            " |-- Title: string (nullable = true)\n",
            " |-- Year: integer (nullable = true)\n",
            " |-- IMDb: double (nullable = true)\n",
            " |-- Netflix: integer (nullable = true)\n",
            " |-- Hulu: integer (nullable = true)\n",
            " |-- Prime Video: integer (nullable = true)\n",
            " |-- Disney+: integer (nullable = true)\n",
            " |-- Runtime: integer (nullable = true)\n",
            " |-- DirectorsArray: array (nullable = true)\n",
            " |    |-- element: string (containsNull = true)\n",
            " |-- GenresArray: array (nullable = true)\n",
            " |    |-- element: string (containsNull = true)\n",
            " |-- CountriesArray: array (nullable = true)\n",
            " |    |-- element: string (containsNull = true)\n",
            " |-- LanguagesArray: array (nullable = true)\n",
            " |    |-- element: string (containsNull = true)\n",
            " |-- MinimumClassification: integer (nullable = true)\n",
            " |-- RottenTomatoes: double (nullable = true)\n",
            "\n"
          ],
          "name": "stdout"
        }
      ]
    },
    {
      "cell_type": "code",
      "metadata": {
        "id": "Hi2LBBtDn0OG"
      },
      "source": [
        "movies_df_processed = movies_df_padronized_rotten"
      ],
      "execution_count": 25,
      "outputs": []
    },
    {
      "cell_type": "code",
      "metadata": {
        "id": "YRHRwt1Wfw2F"
      },
      "source": [
        "from pyspark.sql.functions import explode\n",
        "\n",
        "movie_director_df = movies_df_processed.select('ID', 'DirectorsArray').withColumn('Director', explode(col('DirectorsArray'))).select('ID', 'Director')\n",
        "movie_genre_df = movies_df_processed.select('ID', 'GenresArray').withColumn('Genre', explode(col('GenresArray'))).select('ID', 'Genre')\n",
        "movie_country_df = movies_df_processed.select('ID', 'CountriesArray').withColumn('Country', explode(col('CountriesArray'))).select('ID', 'Country')\n",
        "movie_language_df = movies_df_processed.select('ID', 'LanguagesArray').withColumn('Language', explode(col('LanguagesArray'))).select('ID', 'Language')"
      ],
      "execution_count": 26,
      "outputs": []
    },
    {
      "cell_type": "markdown",
      "metadata": {
        "id": "zjph0XghngZJ"
      },
      "source": [
        "### Removendo Outliers "
      ]
    },
    {
      "cell_type": "code",
      "metadata": {
        "id": "qxkUiVwlkg-k"
      },
      "source": [
        "movies_df_pd = movies_df_processed.toPandas()"
      ],
      "execution_count": 27,
      "outputs": []
    },
    {
      "cell_type": "code",
      "metadata": {
        "id": "xNLqsM3aaaD0",
        "outputId": "60edb86d-d364-459b-cace-d08cd2dcb7dd",
        "colab": {
          "base_uri": "https://localhost:8080/",
          "height": 297
        }
      },
      "source": [
        "movies_df_pd.describe()"
      ],
      "execution_count": 28,
      "outputs": [
        {
          "output_type": "execute_result",
          "data": {
            "text/html": [
              "<div>\n",
              "<style scoped>\n",
              "    .dataframe tbody tr th:only-of-type {\n",
              "        vertical-align: middle;\n",
              "    }\n",
              "\n",
              "    .dataframe tbody tr th {\n",
              "        vertical-align: top;\n",
              "    }\n",
              "\n",
              "    .dataframe thead th {\n",
              "        text-align: right;\n",
              "    }\n",
              "</style>\n",
              "<table border=\"1\" class=\"dataframe\">\n",
              "  <thead>\n",
              "    <tr style=\"text-align: right;\">\n",
              "      <th></th>\n",
              "      <th>ID</th>\n",
              "      <th>Year</th>\n",
              "      <th>IMDb</th>\n",
              "      <th>Netflix</th>\n",
              "      <th>Hulu</th>\n",
              "      <th>Prime Video</th>\n",
              "      <th>Disney+</th>\n",
              "      <th>Runtime</th>\n",
              "      <th>MinimumClassification</th>\n",
              "      <th>RottenTomatoes</th>\n",
              "    </tr>\n",
              "  </thead>\n",
              "  <tbody>\n",
              "    <tr>\n",
              "      <th>count</th>\n",
              "      <td>16743.000000</td>\n",
              "      <td>16743.000000</td>\n",
              "      <td>16173.000000</td>\n",
              "      <td>16743.000000</td>\n",
              "      <td>16743.000000</td>\n",
              "      <td>16743.000000</td>\n",
              "      <td>16743.000000</td>\n",
              "      <td>16152.000000</td>\n",
              "      <td>16743.000000</td>\n",
              "      <td>5158.000000</td>\n",
              "    </tr>\n",
              "    <tr>\n",
              "      <th>mean</th>\n",
              "      <td>8372.050290</td>\n",
              "      <td>2003.013140</td>\n",
              "      <td>5.902751</td>\n",
              "      <td>0.212626</td>\n",
              "      <td>0.053933</td>\n",
              "      <td>0.737801</td>\n",
              "      <td>0.033686</td>\n",
              "      <td>93.413447</td>\n",
              "      <td>5.065520</td>\n",
              "      <td>6.542846</td>\n",
              "    </tr>\n",
              "    <tr>\n",
              "      <th>std</th>\n",
              "      <td>4833.514844</td>\n",
              "      <td>20.674614</td>\n",
              "      <td>1.347867</td>\n",
              "      <td>0.409178</td>\n",
              "      <td>0.225892</td>\n",
              "      <td>0.439843</td>\n",
              "      <td>0.180424</td>\n",
              "      <td>28.219222</td>\n",
              "      <td>7.998182</td>\n",
              "      <td>2.661450</td>\n",
              "    </tr>\n",
              "    <tr>\n",
              "      <th>min</th>\n",
              "      <td>1.000000</td>\n",
              "      <td>1902.000000</td>\n",
              "      <td>0.000000</td>\n",
              "      <td>0.000000</td>\n",
              "      <td>0.000000</td>\n",
              "      <td>0.000000</td>\n",
              "      <td>0.000000</td>\n",
              "      <td>1.000000</td>\n",
              "      <td>-1.000000</td>\n",
              "      <td>0.200000</td>\n",
              "    </tr>\n",
              "    <tr>\n",
              "      <th>25%</th>\n",
              "      <td>4186.500000</td>\n",
              "      <td>2000.000000</td>\n",
              "      <td>5.100000</td>\n",
              "      <td>0.000000</td>\n",
              "      <td>0.000000</td>\n",
              "      <td>0.000000</td>\n",
              "      <td>0.000000</td>\n",
              "      <td>82.000000</td>\n",
              "      <td>-1.000000</td>\n",
              "      <td>4.400000</td>\n",
              "    </tr>\n",
              "    <tr>\n",
              "      <th>50%</th>\n",
              "      <td>8372.000000</td>\n",
              "      <td>2012.000000</td>\n",
              "      <td>6.100000</td>\n",
              "      <td>0.000000</td>\n",
              "      <td>0.000000</td>\n",
              "      <td>1.000000</td>\n",
              "      <td>0.000000</td>\n",
              "      <td>92.000000</td>\n",
              "      <td>-1.000000</td>\n",
              "      <td>7.100000</td>\n",
              "    </tr>\n",
              "    <tr>\n",
              "      <th>75%</th>\n",
              "      <td>12557.500000</td>\n",
              "      <td>2016.000000</td>\n",
              "      <td>6.900000</td>\n",
              "      <td>0.000000</td>\n",
              "      <td>0.000000</td>\n",
              "      <td>1.000000</td>\n",
              "      <td>0.000000</td>\n",
              "      <td>104.000000</td>\n",
              "      <td>13.000000</td>\n",
              "      <td>8.800000</td>\n",
              "    </tr>\n",
              "    <tr>\n",
              "      <th>max</th>\n",
              "      <td>16744.000000</td>\n",
              "      <td>2020.000000</td>\n",
              "      <td>9.300000</td>\n",
              "      <td>1.000000</td>\n",
              "      <td>1.000000</td>\n",
              "      <td>1.000000</td>\n",
              "      <td>1.000000</td>\n",
              "      <td>1256.000000</td>\n",
              "      <td>18.000000</td>\n",
              "      <td>10.000000</td>\n",
              "    </tr>\n",
              "  </tbody>\n",
              "</table>\n",
              "</div>"
            ],
            "text/plain": [
              "                 ID          Year  ...  MinimumClassification  RottenTomatoes\n",
              "count  16743.000000  16743.000000  ...           16743.000000     5158.000000\n",
              "mean    8372.050290   2003.013140  ...               5.065520        6.542846\n",
              "std     4833.514844     20.674614  ...               7.998182        2.661450\n",
              "min        1.000000   1902.000000  ...              -1.000000        0.200000\n",
              "25%     4186.500000   2000.000000  ...              -1.000000        4.400000\n",
              "50%     8372.000000   2012.000000  ...              -1.000000        7.100000\n",
              "75%    12557.500000   2016.000000  ...              13.000000        8.800000\n",
              "max    16744.000000   2020.000000  ...              18.000000       10.000000\n",
              "\n",
              "[8 rows x 10 columns]"
            ]
          },
          "metadata": {
            "tags": []
          },
          "execution_count": 28
        }
      ]
    },
    {
      "cell_type": "markdown",
      "metadata": {
        "id": "N5yRCcjwbO6f"
      },
      "source": [
        "#### Univariado"
      ]
    },
    {
      "cell_type": "markdown",
      "metadata": {
        "id": "g43oozGTaLN-"
      },
      "source": [
        "Percebemos que as métricas do runtime estão um pouco estranhas o mínimo e o máximo estão muito distantes dos valores dos quartis, isso pode indicar que existem outliers. Analisando os quartis as durações dos filmes possuem valores esperados devido ao nosso conhecimento do problema (filmes), porém os mínimos e máximo tem valores muito díspares, o que indica que há outliers no dataset.\n",
        "\n",
        "Vamos visualizar o runtime em forma de gráfico."
      ]
    },
    {
      "cell_type": "code",
      "metadata": {
        "id": "eL8d5n_JcTmd",
        "outputId": "f14d0baa-75b0-4de6-d5ab-9e97402f59fd",
        "colab": {
          "base_uri": "https://localhost:8080/",
          "height": 282
        }
      },
      "source": [
        "movies_df_pd['Runtime'].hist()"
      ],
      "execution_count": 29,
      "outputs": [
        {
          "output_type": "execute_result",
          "data": {
            "text/plain": [
              "<matplotlib.axes._subplots.AxesSubplot at 0x7fe8ab142be0>"
            ]
          },
          "metadata": {
            "tags": []
          },
          "execution_count": 29
        },
        {
          "output_type": "display_data",
          "data": {
            "image/png": "[encoded data removed]",
            "text/plain": [
              "<Figure size 432x288 with 1 Axes>"
            ]
          },
          "metadata": {
            "tags": [],
            "needs_background": "light"
          }
        }
      ]
    },
    {
      "cell_type": "markdown",
      "metadata": {
        "id": "5vlKihS_cjQt"
      },
      "source": [
        "A distribuição de runtime dos filmes ficou ruim de ser visualizada no histograma possivelmente por causa de outliers. Iremos utiliza o log10 para visualizar melhor."
      ]
    },
    {
      "cell_type": "code",
      "metadata": {
        "id": "cnUWbbX0oerA",
        "outputId": "4d34d715-4745-47a3-9768-2343c4307757",
        "colab": {
          "base_uri": "https://localhost:8080/",
          "height": 282
        }
      },
      "source": [
        "from numpy import log10\n",
        "movies_df_pd['runtime_log'] = log10(movies_df_pd['Runtime'])\n",
        "movies_df_pd['runtime_log'].hist()"
      ],
      "execution_count": 30,
      "outputs": [
        {
          "output_type": "execute_result",
          "data": {
            "text/plain": [
              "<matplotlib.axes._subplots.AxesSubplot at 0x7fe8ab25b048>"
            ]
          },
          "metadata": {
            "tags": []
          },
          "execution_count": 30
        },
        {
          "output_type": "display_data",
          "data": {
            "image/png": "[encoded data removed]",
            "text/plain": [
              "<Figure size 432x288 with 1 Axes>"
            ]
          },
          "metadata": {
            "tags": [],
            "needs_background": "light"
          }
        }
      ]
    },
    {
      "cell_type": "code",
      "metadata": {
        "id": "JQjoIVyW5nyg",
        "outputId": "a9048fea-c2cd-4a60-cec3-46c3bd1c4008",
        "colab": {
          "base_uri": "https://localhost:8080/",
          "height": 282
        }
      },
      "source": [
        "movies_df_pd.boxplot(column='Runtime')"
      ],
      "execution_count": 31,
      "outputs": [
        {
          "output_type": "execute_result",
          "data": {
            "text/plain": [
              "<matplotlib.axes._subplots.AxesSubplot at 0x7fe8aad06da0>"
            ]
          },
          "metadata": {
            "tags": []
          },
          "execution_count": 31
        },
        {
          "output_type": "display_data",
          "data": {
            "image/png": "[encoded data removed]",
            "text/plain": [
              "<Figure size 432x288 with 1 Axes>"
            ]
          },
          "metadata": {
            "tags": [],
            "needs_background": "light"
          }
        }
      ]
    },
    {
      "cell_type": "markdown",
      "metadata": {
        "id": "KLrnuEQcdiZl"
      },
      "source": [
        "Analisando o boxplot, fica claro que existem outliers. Vamos Fazer o processo de remoção utilizando o Z-Score Robusto (MAD). "
      ]
    },
    {
      "cell_type": "code",
      "metadata": {
        "id": "r8Y9jaU95wap",
        "outputId": "d93fec1b-c1d5-4fea-9ab4-e320eb85c433",
        "colab": {
          "base_uri": "https://localhost:8080/",
          "height": 34
        }
      },
      "source": [
        "from numpy import abs\n",
        "mad = abs(movies_df_pd['runtime_log'] - movies_df_pd['runtime_log'].median()).median()*(1/0.6745)\n",
        "print(mad)"
      ],
      "execution_count": 32,
      "outputs": [
        {
          "output_type": "stream",
          "text": [
            "0.07409040023993868\n"
          ],
          "name": "stdout"
        }
      ]
    },
    {
      "cell_type": "code",
      "metadata": {
        "id": "GGKgC26p86o9",
        "outputId": "c9c09892-6a0b-4963-a319-aa53604a1c0c",
        "colab": {
          "base_uri": "https://localhost:8080/",
          "height": 282
        }
      },
      "source": [
        "(abs(movies_df_pd['runtime_log']-movies_df_pd['runtime_log'].median())/mad).hist()"
      ],
      "execution_count": 33,
      "outputs": [
        {
          "output_type": "execute_result",
          "data": {
            "text/plain": [
              "<matplotlib.axes._subplots.AxesSubplot at 0x7fe8ab0aa278>"
            ]
          },
          "metadata": {
            "tags": []
          },
          "execution_count": 33
        },
        {
          "output_type": "display_data",
          "data": {
            "image/png": "[encoded data removed]",
            "text/plain": [
              "<Figure size 432x288 with 1 Axes>"
            ]
          },
          "metadata": {
            "tags": [],
            "needs_background": "light"
          }
        }
      ]
    },
    {
      "cell_type": "markdown",
      "metadata": {
        "id": "Q5P2Igoh9Edz"
      },
      "source": [
        "Analisamos os dados que iriam sair (outliers) e os que iriam ficar e notamos que ainda existiam muitos filmes outliers iriam continuar no dataset, por isso escolhemos um valor de MAD maior."
      ]
    },
    {
      "cell_type": "code",
      "metadata": {
        "id": "HuQeDW3Q9F_r",
        "outputId": "8b19cc80-9c42-4295-87b7-8871c0bc87d6",
        "colab": {
          "base_uri": "https://localhost:8080/",
          "height": 572
        }
      },
      "source": [
        "movies_df_mad = movies_df_pd[abs(movies_df_pd['runtime_log']-movies_df_pd['runtime_log'].median())/mad < 6]\n",
        "movies_df_mad"
      ],
      "execution_count": 34,
      "outputs": [
        {
          "output_type": "execute_result",
          "data": {
            "text/html": [
              "<div>\n",
              "<style scoped>\n",
              "    .dataframe tbody tr th:only-of-type {\n",
              "        vertical-align: middle;\n",
              "    }\n",
              "\n",
              "    .dataframe tbody tr th {\n",
              "        vertical-align: top;\n",
              "    }\n",
              "\n",
              "    .dataframe thead th {\n",
              "        text-align: right;\n",
              "    }\n",
              "</style>\n",
              "<table border=\"1\" class=\"dataframe\">\n",
              "  <thead>\n",
              "    <tr style=\"text-align: right;\">\n",
              "      <th></th>\n",
              "      <th>ID</th>\n",
              "      <th>Title</th>\n",
              "      <th>Year</th>\n",
              "      <th>IMDb</th>\n",
              "      <th>Netflix</th>\n",
              "      <th>Hulu</th>\n",
              "      <th>Prime Video</th>\n",
              "      <th>Disney+</th>\n",
              "      <th>Runtime</th>\n",
              "      <th>DirectorsArray</th>\n",
              "      <th>GenresArray</th>\n",
              "      <th>CountriesArray</th>\n",
              "      <th>LanguagesArray</th>\n",
              "      <th>MinimumClassification</th>\n",
              "      <th>RottenTomatoes</th>\n",
              "      <th>runtime_log</th>\n",
              "    </tr>\n",
              "  </thead>\n",
              "  <tbody>\n",
              "    <tr>\n",
              "      <th>0</th>\n",
              "      <td>1</td>\n",
              "      <td>Inception</td>\n",
              "      <td>2010</td>\n",
              "      <td>8.8</td>\n",
              "      <td>1</td>\n",
              "      <td>0</td>\n",
              "      <td>0</td>\n",
              "      <td>0</td>\n",
              "      <td>148.0</td>\n",
              "      <td>[Christopher Nolan]</td>\n",
              "      <td>[Action, Adventure, Sci-Fi, Thriller]</td>\n",
              "      <td>[United States, United Kingdom]</td>\n",
              "      <td>[English, Japanese, French]</td>\n",
              "      <td>13</td>\n",
              "      <td>8.7</td>\n",
              "      <td>2.170262</td>\n",
              "    </tr>\n",
              "    <tr>\n",
              "      <th>1</th>\n",
              "      <td>2</td>\n",
              "      <td>The Matrix</td>\n",
              "      <td>1999</td>\n",
              "      <td>8.7</td>\n",
              "      <td>1</td>\n",
              "      <td>0</td>\n",
              "      <td>0</td>\n",
              "      <td>0</td>\n",
              "      <td>136.0</td>\n",
              "      <td>[Lana Wachowski, Lilly Wachowski]</td>\n",
              "      <td>[Action, Sci-Fi]</td>\n",
              "      <td>[United States]</td>\n",
              "      <td>[English]</td>\n",
              "      <td>18</td>\n",
              "      <td>8.7</td>\n",
              "      <td>2.133539</td>\n",
              "    </tr>\n",
              "    <tr>\n",
              "      <th>2</th>\n",
              "      <td>3</td>\n",
              "      <td>Avengers: Infinity War</td>\n",
              "      <td>2018</td>\n",
              "      <td>8.5</td>\n",
              "      <td>1</td>\n",
              "      <td>0</td>\n",
              "      <td>0</td>\n",
              "      <td>0</td>\n",
              "      <td>149.0</td>\n",
              "      <td>[Anthony Russo, Joe Russo]</td>\n",
              "      <td>[Action, Adventure, Sci-Fi]</td>\n",
              "      <td>[United States]</td>\n",
              "      <td>[English]</td>\n",
              "      <td>13</td>\n",
              "      <td>8.4</td>\n",
              "      <td>2.173186</td>\n",
              "    </tr>\n",
              "    <tr>\n",
              "      <th>3</th>\n",
              "      <td>4</td>\n",
              "      <td>Back to the Future</td>\n",
              "      <td>1985</td>\n",
              "      <td>8.5</td>\n",
              "      <td>1</td>\n",
              "      <td>0</td>\n",
              "      <td>0</td>\n",
              "      <td>0</td>\n",
              "      <td>116.0</td>\n",
              "      <td>[Robert Zemeckis]</td>\n",
              "      <td>[Adventure, Comedy, Sci-Fi]</td>\n",
              "      <td>[United States]</td>\n",
              "      <td>[English]</td>\n",
              "      <td>7</td>\n",
              "      <td>9.6</td>\n",
              "      <td>2.064458</td>\n",
              "    </tr>\n",
              "    <tr>\n",
              "      <th>4</th>\n",
              "      <td>5</td>\n",
              "      <td>The Good, the Bad and the Ugly</td>\n",
              "      <td>1966</td>\n",
              "      <td>8.8</td>\n",
              "      <td>1</td>\n",
              "      <td>0</td>\n",
              "      <td>1</td>\n",
              "      <td>0</td>\n",
              "      <td>161.0</td>\n",
              "      <td>[Sergio Leone]</td>\n",
              "      <td>[Western]</td>\n",
              "      <td>[Italy, Spain, West Germany]</td>\n",
              "      <td>[Italian]</td>\n",
              "      <td>18</td>\n",
              "      <td>9.7</td>\n",
              "      <td>2.206826</td>\n",
              "    </tr>\n",
              "    <tr>\n",
              "      <th>...</th>\n",
              "      <td>...</td>\n",
              "      <td>...</td>\n",
              "      <td>...</td>\n",
              "      <td>...</td>\n",
              "      <td>...</td>\n",
              "      <td>...</td>\n",
              "      <td>...</td>\n",
              "      <td>...</td>\n",
              "      <td>...</td>\n",
              "      <td>...</td>\n",
              "      <td>...</td>\n",
              "      <td>...</td>\n",
              "      <td>...</td>\n",
              "      <td>...</td>\n",
              "      <td>...</td>\n",
              "      <td>...</td>\n",
              "    </tr>\n",
              "    <tr>\n",
              "      <th>16733</th>\n",
              "      <td>16735</td>\n",
              "      <td>Sultan And The Rock Star</td>\n",
              "      <td>1980</td>\n",
              "      <td>5.9</td>\n",
              "      <td>0</td>\n",
              "      <td>0</td>\n",
              "      <td>0</td>\n",
              "      <td>1</td>\n",
              "      <td>60.0</td>\n",
              "      <td>[Edward M. Abroms]</td>\n",
              "      <td>[Adventure, Drama, Family]</td>\n",
              "      <td>[United States]</td>\n",
              "      <td>[English]</td>\n",
              "      <td>-1</td>\n",
              "      <td>NaN</td>\n",
              "      <td>1.778151</td>\n",
              "    </tr>\n",
              "    <tr>\n",
              "      <th>16736</th>\n",
              "      <td>16738</td>\n",
              "      <td>The Bears and I</td>\n",
              "      <td>1974</td>\n",
              "      <td>6.2</td>\n",
              "      <td>0</td>\n",
              "      <td>0</td>\n",
              "      <td>0</td>\n",
              "      <td>1</td>\n",
              "      <td>89.0</td>\n",
              "      <td>[Bernard McEveety]</td>\n",
              "      <td>[Drama, Family]</td>\n",
              "      <td>[United States]</td>\n",
              "      <td>[English]</td>\n",
              "      <td>0</td>\n",
              "      <td>NaN</td>\n",
              "      <td>1.949390</td>\n",
              "    </tr>\n",
              "    <tr>\n",
              "      <th>16737</th>\n",
              "      <td>16739</td>\n",
              "      <td>Whispers: An Elephant's Tale</td>\n",
              "      <td>2000</td>\n",
              "      <td>5.0</td>\n",
              "      <td>0</td>\n",
              "      <td>0</td>\n",
              "      <td>0</td>\n",
              "      <td>1</td>\n",
              "      <td>72.0</td>\n",
              "      <td>[Dereck Joubert]</td>\n",
              "      <td>[Adventure, Family]</td>\n",
              "      <td>[United States]</td>\n",
              "      <td>[English]</td>\n",
              "      <td>0</td>\n",
              "      <td>NaN</td>\n",
              "      <td>1.857332</td>\n",
              "    </tr>\n",
              "    <tr>\n",
              "      <th>16738</th>\n",
              "      <td>16740</td>\n",
              "      <td>The Ghosts of Buxley Hall</td>\n",
              "      <td>1980</td>\n",
              "      <td>6.2</td>\n",
              "      <td>0</td>\n",
              "      <td>0</td>\n",
              "      <td>0</td>\n",
              "      <td>1</td>\n",
              "      <td>120.0</td>\n",
              "      <td>[Bruce Bilson]</td>\n",
              "      <td>[Comedy, Family, Fantasy, Horror]</td>\n",
              "      <td>[United States]</td>\n",
              "      <td>[English]</td>\n",
              "      <td>-1</td>\n",
              "      <td>NaN</td>\n",
              "      <td>2.079181</td>\n",
              "    </tr>\n",
              "    <tr>\n",
              "      <th>16739</th>\n",
              "      <td>16741</td>\n",
              "      <td>The Poof Point</td>\n",
              "      <td>2001</td>\n",
              "      <td>4.7</td>\n",
              "      <td>0</td>\n",
              "      <td>0</td>\n",
              "      <td>0</td>\n",
              "      <td>1</td>\n",
              "      <td>90.0</td>\n",
              "      <td>[Neal Israel]</td>\n",
              "      <td>[Comedy, Family, Sci-Fi]</td>\n",
              "      <td>[United States]</td>\n",
              "      <td>[English]</td>\n",
              "      <td>7</td>\n",
              "      <td>NaN</td>\n",
              "      <td>1.954243</td>\n",
              "    </tr>\n",
              "  </tbody>\n",
              "</table>\n",
              "<p>15764 rows × 16 columns</p>\n",
              "</div>"
            ],
            "text/plain": [
              "          ID                           Title  ...  RottenTomatoes  runtime_log\n",
              "0          1                       Inception  ...             8.7     2.170262\n",
              "1          2                      The Matrix  ...             8.7     2.133539\n",
              "2          3          Avengers: Infinity War  ...             8.4     2.173186\n",
              "3          4              Back to the Future  ...             9.6     2.064458\n",
              "4          5  The Good, the Bad and the Ugly  ...             9.7     2.206826\n",
              "...      ...                             ...  ...             ...          ...\n",
              "16733  16735        Sultan And The Rock Star  ...             NaN     1.778151\n",
              "16736  16738                 The Bears and I  ...             NaN     1.949390\n",
              "16737  16739    Whispers: An Elephant's Tale  ...             NaN     1.857332\n",
              "16738  16740       The Ghosts of Buxley Hall  ...             NaN     2.079181\n",
              "16739  16741                  The Poof Point  ...             NaN     1.954243\n",
              "\n",
              "[15764 rows x 16 columns]"
            ]
          },
          "metadata": {
            "tags": []
          },
          "execution_count": 34
        }
      ]
    },
    {
      "cell_type": "code",
      "metadata": {
        "id": "zrg269Uc92oA",
        "outputId": "d0858ff1-3e2b-4d06-9cf3-9de106ddcdff",
        "colab": {
          "base_uri": "https://localhost:8080/",
          "height": 282
        }
      },
      "source": [
        "movies_df_mad.boxplot(column='Runtime')"
      ],
      "execution_count": 35,
      "outputs": [
        {
          "output_type": "execute_result",
          "data": {
            "text/plain": [
              "<matplotlib.axes._subplots.AxesSubplot at 0x7fe8aac7cf98>"
            ]
          },
          "metadata": {
            "tags": []
          },
          "execution_count": 35
        },
        {
          "output_type": "display_data",
          "data": {
            "image/png": "[encoded data removed]",
            "text/plain": [
              "<Figure size 432x288 with 1 Axes>"
            ]
          },
          "metadata": {
            "tags": [],
            "needs_background": "light"
          }
        }
      ]
    },
    {
      "cell_type": "code",
      "metadata": {
        "id": "PbJN_urKj6UI"
      },
      "source": [
        "movies_no_outliers = movies_df_mad"
      ],
      "execution_count": 36,
      "outputs": []
    },
    {
      "cell_type": "markdown",
      "metadata": {
        "id": "ttLVMkfubSoa"
      },
      "source": [
        "#### Bivariado"
      ]
    },
    {
      "cell_type": "markdown",
      "metadata": {
        "id": "ESxfCw9JbgZs"
      },
      "source": [
        "Vamos detectar outliers agora a partir das colunas de notas, IMDb e Rotten Tomatoes."
      ]
    },
    {
      "cell_type": "code",
      "metadata": {
        "id": "HMuvQY3mbVf6",
        "outputId": "094d0b42-f8ad-4f0a-a66e-bb2f46c78619",
        "colab": {
          "base_uri": "https://localhost:8080/",
          "height": 296
        }
      },
      "source": [
        "movies_no_outliers.plot.scatter(x='IMDb', y='RottenTomatoes')"
      ],
      "execution_count": 37,
      "outputs": [
        {
          "output_type": "execute_result",
          "data": {
            "text/plain": [
              "<matplotlib.axes._subplots.AxesSubplot at 0x7fe8aac00b38>"
            ]
          },
          "metadata": {
            "tags": []
          },
          "execution_count": 37
        },
        {
          "output_type": "display_data",
          "data": {
            "image/png": "[encoded data removed]",
            "text/plain": [
              "<Figure size 432x288 with 1 Axes>"
            ]
          },
          "metadata": {
            "tags": [],
            "needs_background": "light"
          }
        }
      ]
    },
    {
      "cell_type": "code",
      "metadata": {
        "id": "E6groq7ucXki",
        "outputId": "c13726f9-003e-44ac-a8c3-725ce1a3f9bb",
        "colab": {
          "base_uri": "https://localhost:8080/",
          "height": 272
        }
      },
      "source": [
        "movies_no_outliers['rating_rate'] = movies_no_outliers['RottenTomatoes'] / movies_no_outliers['IMDb']\n",
        "movies_no_outliers['rating_rate'].describe()"
      ],
      "execution_count": 38,
      "outputs": [
        {
          "output_type": "stream",
          "text": [
            "/usr/local/lib/python3.6/dist-packages/ipykernel_launcher.py:1: SettingWithCopyWarning: \n",
            "A value is trying to be set on a copy of a slice from a DataFrame.\n",
            "Try using .loc[row_indexer,col_indexer] = value instead\n",
            "\n",
            "See the caveats in the documentation: https://pandas.pydata.org/pandas-docs/stable/user_guide/indexing.html#returning-a-view-versus-a-copy\n",
            "  \"\"\"Entry point for launching an IPython kernel.\n"
          ],
          "name": "stderr"
        },
        {
          "output_type": "execute_result",
          "data": {
            "text/plain": [
              "count    5070.000000\n",
              "mean        1.008390\n",
              "std         0.373930\n",
              "min         0.037037\n",
              "25%         0.757576\n",
              "50%         1.094595\n",
              "75%         1.272727\n",
              "max         3.041667\n",
              "Name: rating_rate, dtype: float64"
            ]
          },
          "metadata": {
            "tags": []
          },
          "execution_count": 38
        }
      ]
    },
    {
      "cell_type": "code",
      "metadata": {
        "id": "A-05NtozczM3",
        "outputId": "4d22fbe1-764d-473e-e6bd-65ab062a04cd",
        "colab": {
          "base_uri": "https://localhost:8080/",
          "height": 283
        }
      },
      "source": [
        "movies_no_outliers['rating_rate'].plot.box()"
      ],
      "execution_count": 39,
      "outputs": [
        {
          "output_type": "execute_result",
          "data": {
            "text/plain": [
              "<matplotlib.axes._subplots.AxesSubplot at 0x7fe8aa903400>"
            ]
          },
          "metadata": {
            "tags": []
          },
          "execution_count": 39
        },
        {
          "output_type": "display_data",
          "data": {
            "image/png": "[encoded data removed]",
            "text/plain": [
              "<Figure size 432x288 with 1 Axes>"
            ]
          },
          "metadata": {
            "tags": [],
            "needs_background": "light"
          }
        }
      ]
    },
    {
      "cell_type": "code",
      "metadata": {
        "id": "PfSxD_p6dXLG",
        "outputId": "752865fe-07a5-4e7c-ef5f-d57465e567e3",
        "colab": {
          "base_uri": "https://localhost:8080/",
          "height": 282
        }
      },
      "source": [
        "movies_no_outliers['rating_rate'].hist()"
      ],
      "execution_count": 40,
      "outputs": [
        {
          "output_type": "execute_result",
          "data": {
            "text/plain": [
              "<matplotlib.axes._subplots.AxesSubplot at 0x7fe8a91a1f28>"
            ]
          },
          "metadata": {
            "tags": []
          },
          "execution_count": 40
        },
        {
          "output_type": "display_data",
          "data": {
            "image/png": "[encoded data removed]",
            "text/plain": [
              "<Figure size 432x288 with 1 Axes>"
            ]
          },
          "metadata": {
            "tags": [],
            "needs_background": "light"
          }
        }
      ]
    },
    {
      "cell_type": "code",
      "metadata": {
        "id": "cojmIg-KdvRd",
        "outputId": "39dea9cb-83fb-4c1c-c3f1-7a913f3571a2",
        "colab": {
          "base_uri": "https://localhost:8080/",
          "height": 34
        }
      },
      "source": [
        "mad = abs(movies_no_outliers['rating_rate'] - movies_no_outliers['rating_rate'].median()).median()*(1/0.6745)\n",
        "print(mad)"
      ],
      "execution_count": 41,
      "outputs": [
        {
          "output_type": "stream",
          "text": [
            "0.3405926311782501\n"
          ],
          "name": "stdout"
        }
      ]
    },
    {
      "cell_type": "code",
      "metadata": {
        "id": "QkKiNxVxddN5",
        "outputId": "ae7d48db-5bd1-45a0-c77a-3724f784d256",
        "colab": {
          "base_uri": "https://localhost:8080/",
          "height": 282
        }
      },
      "source": [
        "(abs(movies_no_outliers['rating_rate']-movies_no_outliers['rating_rate'].median())/mad).hist()"
      ],
      "execution_count": 42,
      "outputs": [
        {
          "output_type": "execute_result",
          "data": {
            "text/plain": [
              "<matplotlib.axes._subplots.AxesSubplot at 0x7fe8a91c1fd0>"
            ]
          },
          "metadata": {
            "tags": []
          },
          "execution_count": 42
        },
        {
          "output_type": "display_data",
          "data": {
            "image/png": "[encoded data removed]",
            "text/plain": [
              "<Figure size 432x288 with 1 Axes>"
            ]
          },
          "metadata": {
            "tags": [],
            "needs_background": "light"
          }
        }
      ]
    },
    {
      "cell_type": "code",
      "metadata": {
        "id": "2_Qi9FTOfU-9",
        "outputId": "72e6f530-a67a-4c6a-86da-60afc3728d78",
        "colab": {
          "base_uri": "https://localhost:8080/",
          "height": 731
        }
      },
      "source": [
        "movies_no_outliers[abs(movies_no_outliers['rating_rate']-movies_no_outliers['rating_rate'].median())/mad >= 3][['IMDb', 'RottenTomatoes', 'rating_rate']]"
      ],
      "execution_count": 43,
      "outputs": [
        {
          "output_type": "execute_result",
          "data": {
            "text/html": [
              "<div>\n",
              "<style scoped>\n",
              "    .dataframe tbody tr th:only-of-type {\n",
              "        vertical-align: middle;\n",
              "    }\n",
              "\n",
              "    .dataframe tbody tr th {\n",
              "        vertical-align: top;\n",
              "    }\n",
              "\n",
              "    .dataframe thead th {\n",
              "        text-align: right;\n",
              "    }\n",
              "</style>\n",
              "<table border=\"1\" class=\"dataframe\">\n",
              "  <thead>\n",
              "    <tr style=\"text-align: right;\">\n",
              "      <th></th>\n",
              "      <th>IMDb</th>\n",
              "      <th>RottenTomatoes</th>\n",
              "      <th>rating_rate</th>\n",
              "    </tr>\n",
              "  </thead>\n",
              "  <tbody>\n",
              "    <tr>\n",
              "      <th>1368</th>\n",
              "      <td>4.7</td>\n",
              "      <td>10.0</td>\n",
              "      <td>2.127660</td>\n",
              "    </tr>\n",
              "    <tr>\n",
              "      <th>2043</th>\n",
              "      <td>4.4</td>\n",
              "      <td>0.3</td>\n",
              "      <td>0.068182</td>\n",
              "    </tr>\n",
              "    <tr>\n",
              "      <th>4208</th>\n",
              "      <td>4.4</td>\n",
              "      <td>0.2</td>\n",
              "      <td>0.045455</td>\n",
              "    </tr>\n",
              "    <tr>\n",
              "      <th>4257</th>\n",
              "      <td>5.4</td>\n",
              "      <td>0.2</td>\n",
              "      <td>0.037037</td>\n",
              "    </tr>\n",
              "    <tr>\n",
              "      <th>5342</th>\n",
              "      <td>4.6</td>\n",
              "      <td>10.0</td>\n",
              "      <td>2.173913</td>\n",
              "    </tr>\n",
              "    <tr>\n",
              "      <th>5466</th>\n",
              "      <td>4.1</td>\n",
              "      <td>8.8</td>\n",
              "      <td>2.146341</td>\n",
              "    </tr>\n",
              "    <tr>\n",
              "      <th>5563</th>\n",
              "      <td>4.5</td>\n",
              "      <td>10.0</td>\n",
              "      <td>2.222222</td>\n",
              "    </tr>\n",
              "    <tr>\n",
              "      <th>5888</th>\n",
              "      <td>4.2</td>\n",
              "      <td>10.0</td>\n",
              "      <td>2.380952</td>\n",
              "    </tr>\n",
              "    <tr>\n",
              "      <th>6041</th>\n",
              "      <td>4.6</td>\n",
              "      <td>10.0</td>\n",
              "      <td>2.173913</td>\n",
              "    </tr>\n",
              "    <tr>\n",
              "      <th>6158</th>\n",
              "      <td>4.1</td>\n",
              "      <td>10.0</td>\n",
              "      <td>2.439024</td>\n",
              "    </tr>\n",
              "    <tr>\n",
              "      <th>6159</th>\n",
              "      <td>3.3</td>\n",
              "      <td>7.8</td>\n",
              "      <td>2.363636</td>\n",
              "    </tr>\n",
              "    <tr>\n",
              "      <th>6298</th>\n",
              "      <td>3.8</td>\n",
              "      <td>8.3</td>\n",
              "      <td>2.184211</td>\n",
              "    </tr>\n",
              "    <tr>\n",
              "      <th>6308</th>\n",
              "      <td>6.3</td>\n",
              "      <td>0.4</td>\n",
              "      <td>0.063492</td>\n",
              "    </tr>\n",
              "    <tr>\n",
              "      <th>6507</th>\n",
              "      <td>3.6</td>\n",
              "      <td>10.0</td>\n",
              "      <td>2.777778</td>\n",
              "    </tr>\n",
              "    <tr>\n",
              "      <th>6938</th>\n",
              "      <td>5.3</td>\n",
              "      <td>0.2</td>\n",
              "      <td>0.037736</td>\n",
              "    </tr>\n",
              "    <tr>\n",
              "      <th>7160</th>\n",
              "      <td>3.4</td>\n",
              "      <td>8.0</td>\n",
              "      <td>2.352941</td>\n",
              "    </tr>\n",
              "    <tr>\n",
              "      <th>7339</th>\n",
              "      <td>5.1</td>\n",
              "      <td>0.3</td>\n",
              "      <td>0.058824</td>\n",
              "    </tr>\n",
              "    <tr>\n",
              "      <th>7495</th>\n",
              "      <td>4.4</td>\n",
              "      <td>0.3</td>\n",
              "      <td>0.068182</td>\n",
              "    </tr>\n",
              "    <tr>\n",
              "      <th>8133</th>\n",
              "      <td>4.6</td>\n",
              "      <td>0.2</td>\n",
              "      <td>0.043478</td>\n",
              "    </tr>\n",
              "    <tr>\n",
              "      <th>8622</th>\n",
              "      <td>4.5</td>\n",
              "      <td>10.0</td>\n",
              "      <td>2.222222</td>\n",
              "    </tr>\n",
              "    <tr>\n",
              "      <th>9787</th>\n",
              "      <td>4.6</td>\n",
              "      <td>0.3</td>\n",
              "      <td>0.065217</td>\n",
              "    </tr>\n",
              "    <tr>\n",
              "      <th>16524</th>\n",
              "      <td>2.4</td>\n",
              "      <td>7.3</td>\n",
              "      <td>3.041667</td>\n",
              "    </tr>\n",
              "  </tbody>\n",
              "</table>\n",
              "</div>"
            ],
            "text/plain": [
              "       IMDb  RottenTomatoes  rating_rate\n",
              "1368    4.7            10.0     2.127660\n",
              "2043    4.4             0.3     0.068182\n",
              "4208    4.4             0.2     0.045455\n",
              "4257    5.4             0.2     0.037037\n",
              "5342    4.6            10.0     2.173913\n",
              "5466    4.1             8.8     2.146341\n",
              "5563    4.5            10.0     2.222222\n",
              "5888    4.2            10.0     2.380952\n",
              "6041    4.6            10.0     2.173913\n",
              "6158    4.1            10.0     2.439024\n",
              "6159    3.3             7.8     2.363636\n",
              "6298    3.8             8.3     2.184211\n",
              "6308    6.3             0.4     0.063492\n",
              "6507    3.6            10.0     2.777778\n",
              "6938    5.3             0.2     0.037736\n",
              "7160    3.4             8.0     2.352941\n",
              "7339    5.1             0.3     0.058824\n",
              "7495    4.4             0.3     0.068182\n",
              "8133    4.6             0.2     0.043478\n",
              "8622    4.5            10.0     2.222222\n",
              "9787    4.6             0.3     0.065217\n",
              "16524   2.4             7.3     3.041667"
            ]
          },
          "metadata": {
            "tags": []
          },
          "execution_count": 43
        }
      ]
    },
    {
      "cell_type": "code",
      "metadata": {
        "id": "4iqgJTi1eWsd"
      },
      "source": [
        "movies_df_mad_bi = movies_no_outliers[abs(movies_no_outliers['rating_rate']-movies_no_outliers['rating_rate'].median())/mad < 3]"
      ],
      "execution_count": 44,
      "outputs": []
    },
    {
      "cell_type": "code",
      "metadata": {
        "id": "gUw7mtiLfAmD",
        "outputId": "928487d1-ccb4-44a0-f8c4-3ecd24602de4",
        "colab": {
          "base_uri": "https://localhost:8080/",
          "height": 283
        }
      },
      "source": [
        "movies_df_mad_bi['rating_rate'].plot.box()"
      ],
      "execution_count": 45,
      "outputs": [
        {
          "output_type": "execute_result",
          "data": {
            "text/plain": [
              "<matplotlib.axes._subplots.AxesSubplot at 0x7fe8a912e828>"
            ]
          },
          "metadata": {
            "tags": []
          },
          "execution_count": 45
        },
        {
          "output_type": "display_data",
          "data": {
            "image/png": "[encoded data removed]",
            "text/plain": [
              "<Figure size 432x288 with 1 Axes>"
            ]
          },
          "metadata": {
            "tags": [],
            "needs_background": "light"
          }
        }
      ]
    },
    {
      "cell_type": "code",
      "metadata": {
        "id": "K_gJeVKw9L7V"
      },
      "source": [
        "movies_no_outliers = movies_df_mad_bi"
      ],
      "execution_count": 46,
      "outputs": []
    },
    {
      "cell_type": "markdown",
      "metadata": {
        "id": "tIA6B9pbvn5f"
      },
      "source": [
        "Vamos transformar o dataframe de Pandas em Pyspark para utilizar futuramente, a fim de fazer queries, etc."
      ]
    },
    {
      "cell_type": "code",
      "metadata": {
        "id": "adC4S__RlNj2",
        "outputId": "d64c97d7-98de-4424-e52f-1464f14c0ec0",
        "colab": {
          "base_uri": "https://localhost:8080/",
          "height": 224
        }
      },
      "source": [
        "movies_no_outliers_py = sql_context.createDataFrame(movies_no_outliers)\n",
        "movies_no_outliers_py.show(5)"
      ],
      "execution_count": 47,
      "outputs": [
        {
          "output_type": "stream",
          "text": [
            "+---+--------------------+----+----+-------+----+-----------+-------+-------+--------------------+--------------------+--------------------+--------------------+---------------------+--------------+------------------+------------------+\n",
            "| ID|               Title|Year|IMDb|Netflix|Hulu|Prime Video|Disney+|Runtime|      DirectorsArray|         GenresArray|      CountriesArray|      LanguagesArray|MinimumClassification|RottenTomatoes|       runtime_log|       rating_rate|\n",
            "+---+--------------------+----+----+-------+----+-----------+-------+-------+--------------------+--------------------+--------------------+--------------------+---------------------+--------------+------------------+------------------+\n",
            "|  1|           Inception|2010| 8.8|      1|   0|          0|      0|  148.0| [Christopher Nolan]|[Action, Adventur...|[United States, U...|[English, Japanes...|                   13|           8.7|2.1702617153949575|0.9886363636363634|\n",
            "|  2|          The Matrix|1999| 8.7|      1|   0|          0|      0|  136.0|[Lana Wachowski, ...|    [Action, Sci-Fi]|     [United States]|           [English]|                   18|           8.7|2.1335389083702174|               1.0|\n",
            "|  3|Avengers: Infinit...|2018| 8.5|      1|   0|          0|      0|  149.0|[Anthony Russo, J...|[Action, Adventur...|     [United States]|           [English]|                   13|           8.4| 2.173186268412274|0.9882352941176471|\n",
            "|  4|  Back to the Future|1985| 8.5|      1|   0|          0|      0|  116.0|   [Robert Zemeckis]|[Adventure, Comed...|     [United States]|           [English]|                    7|           9.6|2.0644579892269186|1.1294117647058823|\n",
            "|  5|The Good, the Bad...|1966| 8.8|      1|   0|          1|      0|  161.0|      [Sergio Leone]|           [Western]|[Italy, Spain, We...|           [Italian]|                   18|           9.7|2.2068258760318495| 1.102272727272727|\n",
            "+---+--------------------+----+----+-------+----+-----------+-------+-------+--------------------+--------------------+--------------------+--------------------+---------------------+--------------+------------------+------------------+\n",
            "only showing top 5 rows\n",
            "\n"
          ],
          "name": "stdout"
        }
      ]
    },
    {
      "cell_type": "markdown",
      "metadata": {
        "id": "SFopajQ0vx7s"
      },
      "source": [
        "Como removemos vários outliers, vamos atualizar as tabelas que explodimos anteriormente, para ter as informacoes dos arrays separadamente."
      ]
    },
    {
      "cell_type": "code",
      "metadata": {
        "id": "i-irKXJZn7nQ"
      },
      "source": [
        "movie_director_df = movies_no_outliers_py.select('ID', 'DirectorsArray').withColumn('Director', explode(col('DirectorsArray'))).select('ID', 'Director')\n",
        "movie_genre_df = movies_no_outliers_py.select('ID', 'GenresArray').withColumn('Genre', explode(col('GenresArray'))).select('ID', 'Genre')\n",
        "movie_country_df = movies_no_outliers_py.select('ID', 'CountriesArray').withColumn('Country', explode(col('CountriesArray'))).select('ID', 'Country')\n",
        "movie_language_df = movies_no_outliers_py.select('ID', 'LanguagesArray').withColumn('Language', explode(col('LanguagesArray'))).select('ID', 'Language')"
      ],
      "execution_count": 48,
      "outputs": []
    },
    {
      "cell_type": "markdown",
      "metadata": {
        "id": "jPMV5zICZwAV"
      },
      "source": [
        "### Análises Descritivas"
      ]
    },
    {
      "cell_type": "markdown",
      "metadata": {
        "id": "MKbBDsX4epjM"
      },
      "source": [
        "Iremos rodar a correlação de spearman sobre o dataset para verificar se há algum tipo de correlação entre as colunas."
      ]
    },
    {
      "cell_type": "markdown",
      "metadata": {
        "id": "3ELs_mNNh9Rk"
      },
      "source": [
        "Podemos perceber que há uma correlação alta e positiva entre as colunas RottenTomatoes e IMDb, que é esperado porque ambos representam a opinião sobre o filme."
      ]
    },
    {
      "cell_type": "code",
      "metadata": {
        "id": "HHy2GlcTz6m4",
        "outputId": "cd350018-aaf0-4bd7-bc5e-1d73ed0b1d99",
        "colab": {
          "base_uri": "https://localhost:8080/",
          "height": 421
        }
      },
      "source": [
        "movies_no_outliers.corr(method='spearman')"
      ],
      "execution_count": 49,
      "outputs": [
        {
          "output_type": "execute_result",
          "data": {
            "text/html": [
              "<div>\n",
              "<style scoped>\n",
              "    .dataframe tbody tr th:only-of-type {\n",
              "        vertical-align: middle;\n",
              "    }\n",
              "\n",
              "    .dataframe tbody tr th {\n",
              "        vertical-align: top;\n",
              "    }\n",
              "\n",
              "    .dataframe thead th {\n",
              "        text-align: right;\n",
              "    }\n",
              "</style>\n",
              "<table border=\"1\" class=\"dataframe\">\n",
              "  <thead>\n",
              "    <tr style=\"text-align: right;\">\n",
              "      <th></th>\n",
              "      <th>ID</th>\n",
              "      <th>Year</th>\n",
              "      <th>IMDb</th>\n",
              "      <th>Netflix</th>\n",
              "      <th>Hulu</th>\n",
              "      <th>Prime Video</th>\n",
              "      <th>Disney+</th>\n",
              "      <th>Runtime</th>\n",
              "      <th>MinimumClassification</th>\n",
              "      <th>RottenTomatoes</th>\n",
              "      <th>runtime_log</th>\n",
              "      <th>rating_rate</th>\n",
              "    </tr>\n",
              "  </thead>\n",
              "  <tbody>\n",
              "    <tr>\n",
              "      <th>ID</th>\n",
              "      <td>1.000000</td>\n",
              "      <td>-0.332790</td>\n",
              "      <td>-0.290336</td>\n",
              "      <td>-0.776263</td>\n",
              "      <td>-0.217045</td>\n",
              "      <td>0.539221</td>\n",
              "      <td>0.398049</td>\n",
              "      <td>-0.198961</td>\n",
              "      <td>-0.141576</td>\n",
              "      <td>-0.280370</td>\n",
              "      <td>-0.198961</td>\n",
              "      <td>-0.194900</td>\n",
              "    </tr>\n",
              "    <tr>\n",
              "      <th>Year</th>\n",
              "      <td>-0.332790</td>\n",
              "      <td>1.000000</td>\n",
              "      <td>-0.119711</td>\n",
              "      <td>0.322111</td>\n",
              "      <td>0.152627</td>\n",
              "      <td>-0.280248</td>\n",
              "      <td>-0.186697</td>\n",
              "      <td>0.022597</td>\n",
              "      <td>-0.037418</td>\n",
              "      <td>0.076419</td>\n",
              "      <td>0.022597</td>\n",
              "      <td>0.156005</td>\n",
              "    </tr>\n",
              "    <tr>\n",
              "      <th>IMDb</th>\n",
              "      <td>-0.290336</td>\n",
              "      <td>-0.119711</td>\n",
              "      <td>1.000000</td>\n",
              "      <td>0.032672</td>\n",
              "      <td>-0.013310</td>\n",
              "      <td>-0.049930</td>\n",
              "      <td>0.036764</td>\n",
              "      <td>0.205563</td>\n",
              "      <td>-0.098058</td>\n",
              "      <td>0.630890</td>\n",
              "      <td>0.205563</td>\n",
              "      <td>0.288594</td>\n",
              "    </tr>\n",
              "    <tr>\n",
              "      <th>Netflix</th>\n",
              "      <td>-0.776263</td>\n",
              "      <td>0.322111</td>\n",
              "      <td>0.032672</td>\n",
              "      <td>1.000000</td>\n",
              "      <td>-0.212864</td>\n",
              "      <td>-0.644810</td>\n",
              "      <td>-0.153063</td>\n",
              "      <td>0.107200</td>\n",
              "      <td>0.097192</td>\n",
              "      <td>0.020211</td>\n",
              "      <td>0.107200</td>\n",
              "      <td>-0.004528</td>\n",
              "    </tr>\n",
              "    <tr>\n",
              "      <th>Hulu</th>\n",
              "      <td>-0.217045</td>\n",
              "      <td>0.152627</td>\n",
              "      <td>-0.013310</td>\n",
              "      <td>-0.212864</td>\n",
              "      <td>1.000000</td>\n",
              "      <td>-0.244559</td>\n",
              "      <td>-0.086595</td>\n",
              "      <td>0.019192</td>\n",
              "      <td>0.047335</td>\n",
              "      <td>0.020343</td>\n",
              "      <td>0.019192</td>\n",
              "      <td>0.033851</td>\n",
              "    </tr>\n",
              "    <tr>\n",
              "      <th>Prime Video</th>\n",
              "      <td>0.539221</td>\n",
              "      <td>-0.280248</td>\n",
              "      <td>-0.049930</td>\n",
              "      <td>-0.644810</td>\n",
              "      <td>-0.244559</td>\n",
              "      <td>1.000000</td>\n",
              "      <td>-0.309820</td>\n",
              "      <td>-0.063600</td>\n",
              "      <td>-0.039630</td>\n",
              "      <td>-0.047219</td>\n",
              "      <td>-0.063600</td>\n",
              "      <td>-0.022291</td>\n",
              "    </tr>\n",
              "    <tr>\n",
              "      <th>Disney+</th>\n",
              "      <td>0.398049</td>\n",
              "      <td>-0.186697</td>\n",
              "      <td>0.036764</td>\n",
              "      <td>-0.153063</td>\n",
              "      <td>-0.086595</td>\n",
              "      <td>-0.309820</td>\n",
              "      <td>1.000000</td>\n",
              "      <td>-0.028815</td>\n",
              "      <td>-0.073778</td>\n",
              "      <td>-0.015980</td>\n",
              "      <td>-0.028815</td>\n",
              "      <td>-0.045844</td>\n",
              "    </tr>\n",
              "    <tr>\n",
              "      <th>Runtime</th>\n",
              "      <td>-0.198961</td>\n",
              "      <td>0.022597</td>\n",
              "      <td>0.205563</td>\n",
              "      <td>0.107200</td>\n",
              "      <td>0.019192</td>\n",
              "      <td>-0.063600</td>\n",
              "      <td>-0.028815</td>\n",
              "      <td>1.000000</td>\n",
              "      <td>0.162155</td>\n",
              "      <td>-0.007897</td>\n",
              "      <td>1.000000</td>\n",
              "      <td>-0.105624</td>\n",
              "    </tr>\n",
              "    <tr>\n",
              "      <th>MinimumClassification</th>\n",
              "      <td>-0.141576</td>\n",
              "      <td>-0.037418</td>\n",
              "      <td>-0.098058</td>\n",
              "      <td>0.097192</td>\n",
              "      <td>0.047335</td>\n",
              "      <td>-0.039630</td>\n",
              "      <td>-0.073778</td>\n",
              "      <td>0.162155</td>\n",
              "      <td>1.000000</td>\n",
              "      <td>-0.210626</td>\n",
              "      <td>0.162155</td>\n",
              "      <td>-0.214077</td>\n",
              "    </tr>\n",
              "    <tr>\n",
              "      <th>RottenTomatoes</th>\n",
              "      <td>-0.280370</td>\n",
              "      <td>0.076419</td>\n",
              "      <td>0.630890</td>\n",
              "      <td>0.020211</td>\n",
              "      <td>0.020343</td>\n",
              "      <td>-0.047219</td>\n",
              "      <td>-0.015980</td>\n",
              "      <td>-0.007897</td>\n",
              "      <td>-0.210626</td>\n",
              "      <td>1.000000</td>\n",
              "      <td>-0.007897</td>\n",
              "      <td>0.897601</td>\n",
              "    </tr>\n",
              "    <tr>\n",
              "      <th>runtime_log</th>\n",
              "      <td>-0.198961</td>\n",
              "      <td>0.022597</td>\n",
              "      <td>0.205563</td>\n",
              "      <td>0.107200</td>\n",
              "      <td>0.019192</td>\n",
              "      <td>-0.063600</td>\n",
              "      <td>-0.028815</td>\n",
              "      <td>1.000000</td>\n",
              "      <td>0.162155</td>\n",
              "      <td>-0.007897</td>\n",
              "      <td>1.000000</td>\n",
              "      <td>-0.105624</td>\n",
              "    </tr>\n",
              "    <tr>\n",
              "      <th>rating_rate</th>\n",
              "      <td>-0.194900</td>\n",
              "      <td>0.156005</td>\n",
              "      <td>0.288594</td>\n",
              "      <td>-0.004528</td>\n",
              "      <td>0.033851</td>\n",
              "      <td>-0.022291</td>\n",
              "      <td>-0.045844</td>\n",
              "      <td>-0.105624</td>\n",
              "      <td>-0.214077</td>\n",
              "      <td>0.897601</td>\n",
              "      <td>-0.105624</td>\n",
              "      <td>1.000000</td>\n",
              "    </tr>\n",
              "  </tbody>\n",
              "</table>\n",
              "</div>"
            ],
            "text/plain": [
              "                             ID      Year  ...  runtime_log  rating_rate\n",
              "ID                     1.000000 -0.332790  ...    -0.198961    -0.194900\n",
              "Year                  -0.332790  1.000000  ...     0.022597     0.156005\n",
              "IMDb                  -0.290336 -0.119711  ...     0.205563     0.288594\n",
              "Netflix               -0.776263  0.322111  ...     0.107200    -0.004528\n",
              "Hulu                  -0.217045  0.152627  ...     0.019192     0.033851\n",
              "Prime Video            0.539221 -0.280248  ...    -0.063600    -0.022291\n",
              "Disney+                0.398049 -0.186697  ...    -0.028815    -0.045844\n",
              "Runtime               -0.198961  0.022597  ...     1.000000    -0.105624\n",
              "MinimumClassification -0.141576 -0.037418  ...     0.162155    -0.214077\n",
              "RottenTomatoes        -0.280370  0.076419  ...    -0.007897     0.897601\n",
              "runtime_log           -0.198961  0.022597  ...     1.000000    -0.105624\n",
              "rating_rate           -0.194900  0.156005  ...    -0.105624     1.000000\n",
              "\n",
              "[12 rows x 12 columns]"
            ]
          },
          "metadata": {
            "tags": []
          },
          "execution_count": 49
        }
      ]
    },
    {
      "cell_type": "markdown",
      "metadata": {
        "id": "v2arJzBy7-jt"
      },
      "source": [
        "#### Análise Plataformas de streaming"
      ]
    },
    {
      "cell_type": "markdown",
      "metadata": {
        "id": "y9DLg5JJjikK"
      },
      "source": [
        "Agora ao analisar a quantidade de filmes por plataforma de streaming, percebemos que a maior parte dos dados é composta por filmes que estão no Prime Video."
      ]
    },
    {
      "cell_type": "code",
      "metadata": {
        "id": "fNFZy8gk13HM",
        "outputId": "22812750-107c-40e9-e4b2-097f43864966",
        "colab": {
          "base_uri": "https://localhost:8080/",
          "height": 332
        }
      },
      "source": [
        "movies_no_outliers[['Netflix', 'Prime Video', 'Disney+', 'Hulu']].sum(skipna=True).plot.bar()"
      ],
      "execution_count": 50,
      "outputs": [
        {
          "output_type": "execute_result",
          "data": {
            "text/plain": [
              "<matplotlib.axes._subplots.AxesSubplot at 0x7fe8a8f0cf98>"
            ]
          },
          "metadata": {
            "tags": []
          },
          "execution_count": 50
        },
        {
          "output_type": "display_data",
          "data": {
            "image/png": "[encoded data removed]",
            "text/plain": [
              "<Figure size 432x288 with 1 Axes>"
            ]
          },
          "metadata": {
            "tags": [],
            "needs_background": "light"
          }
        }
      ]
    },
    {
      "cell_type": "markdown",
      "metadata": {
        "id": "5DXsJUD08IZi"
      },
      "source": [
        "#### Análise de número de filmes por década e ano"
      ]
    },
    {
      "cell_type": "markdown",
      "metadata": {
        "id": "Pgft5iFToozr"
      },
      "source": [
        "Agora vamos analisar a criação de filmes ao longo das décadas."
      ]
    },
    {
      "cell_type": "code",
      "metadata": {
        "id": "0A1WiQKoCYzv",
        "outputId": "8220f426-3ae2-40e6-9458-9a65009182a5",
        "colab": {
          "base_uri": "https://localhost:8080/",
          "height": 416
        }
      },
      "source": [
        "movies_no_outliers['decade'] = movies_no_outliers['Year'].floordiv(10) * 10\n",
        "quantity_movies_by_decade = movies_no_outliers['decade'].value_counts().sort_index()\n",
        "quantity_movies_by_decade.plot.bar(color=(0,0,1), title='Quantidade de filmes por década')"
      ],
      "execution_count": 51,
      "outputs": [
        {
          "output_type": "stream",
          "text": [
            "/usr/local/lib/python3.6/dist-packages/ipykernel_launcher.py:1: SettingWithCopyWarning: \n",
            "A value is trying to be set on a copy of a slice from a DataFrame.\n",
            "Try using .loc[row_indexer,col_indexer] = value instead\n",
            "\n",
            "See the caveats in the documentation: https://pandas.pydata.org/pandas-docs/stable/user_guide/indexing.html#returning-a-view-versus-a-copy\n",
            "  \"\"\"Entry point for launching an IPython kernel.\n"
          ],
          "name": "stderr"
        },
        {
          "output_type": "execute_result",
          "data": {
            "text/plain": [
              "<matplotlib.axes._subplots.AxesSubplot at 0x7fe8a8f8fb70>"
            ]
          },
          "metadata": {
            "tags": []
          },
          "execution_count": 51
        },
        {
          "output_type": "display_data",
          "data": {
            "image/png": "[encoded data removed]",
            "text/plain": [
              "<Figure size 432x288 with 1 Axes>"
            ]
          },
          "metadata": {
            "tags": [],
            "needs_background": "light"
          }
        }
      ]
    },
    {
      "cell_type": "markdown",
      "metadata": {
        "id": "zPtZGoHO9gIl"
      },
      "source": [
        "Percebemos que a produção de filmes segue uma função exponencial."
      ]
    },
    {
      "cell_type": "markdown",
      "metadata": {
        "id": "lGcNtyv47r34"
      },
      "source": [
        "Vamos analisar a década de 2010, que é o que possui mais filmes."
      ]
    },
    {
      "cell_type": "code",
      "metadata": {
        "id": "7CLYbtwGGG4w",
        "outputId": "e5eaeca0-8332-4ac3-d69d-5ede7bd44040",
        "colab": {
          "base_uri": "https://localhost:8080/",
          "height": 314
        }
      },
      "source": [
        "movies_df_2010 = movies_no_outliers[movies_no_outliers['Year'] >= 2010]\n",
        "movies_df_2010 = movies_df_2010.sort_values(['Year'])\n",
        "quantity_movies_2010 = movies_df_2010['Year'].value_counts().sort_index()\n",
        "quantity_movies_2010.plot.bar(color=(0,0,1), title='Quantidade de filmes produzidos em 2010+')"
      ],
      "execution_count": 52,
      "outputs": [
        {
          "output_type": "execute_result",
          "data": {
            "text/plain": [
              "<matplotlib.axes._subplots.AxesSubplot at 0x7fe8a8fa8128>"
            ]
          },
          "metadata": {
            "tags": []
          },
          "execution_count": 52
        },
        {
          "output_type": "display_data",
          "data": {
            "image/png": "[encoded data removed]",
            "text/plain": [
              "<Figure size 432x288 with 1 Axes>"
            ]
          },
          "metadata": {
            "tags": [],
            "needs_background": "light"
          }
        }
      ]
    },
    {
      "cell_type": "markdown",
      "metadata": {
        "id": "N6LdRCPR7HXD"
      },
      "source": [
        "Houve uma queda de quantidade de filmes feitos em 2018 e 2019, porém não sabemos o motivo (procuramos na internet, porém não achamos nada) ou se foi falta de dados no dataset."
      ]
    },
    {
      "cell_type": "markdown",
      "metadata": {
        "id": "faXnAzZL8UCg"
      },
      "source": [
        "#### Análise de notas (IMBd e Rotten Tomatoes)"
      ]
    },
    {
      "cell_type": "markdown",
      "metadata": {
        "id": "NeaWoZZR6APe"
      },
      "source": [
        "Vamos analisar a média de notas durante a década de 2010."
      ]
    },
    {
      "cell_type": "code",
      "metadata": {
        "id": "MR50BocmVRCa",
        "outputId": "80e9a7ac-b81b-4de1-a058-1c16a3ad1862",
        "colab": {
          "base_uri": "https://localhost:8080/",
          "height": 346
        }
      },
      "source": [
        "movies_plataform_rate_mean = movies_no_outliers.groupby('decade')['IMDb', 'RottenTomatoes'].mean()\n",
        "movies_plataform_rate_mean.sort_index().plot.bar()"
      ],
      "execution_count": 53,
      "outputs": [
        {
          "output_type": "stream",
          "text": [
            "/usr/local/lib/python3.6/dist-packages/ipykernel_launcher.py:1: FutureWarning: Indexing with multiple keys (implicitly converted to a tuple of keys) will be deprecated, use a list instead.\n",
            "  \"\"\"Entry point for launching an IPython kernel.\n"
          ],
          "name": "stderr"
        },
        {
          "output_type": "execute_result",
          "data": {
            "text/plain": [
              "<matplotlib.axes._subplots.AxesSubplot at 0x7fe8a901f5c0>"
            ]
          },
          "metadata": {
            "tags": []
          },
          "execution_count": 53
        },
        {
          "output_type": "display_data",
          "data": {
            "image/png": "[encoded data removed]",
            "text/plain": [
              "<Figure size 432x288 with 1 Axes>"
            ]
          },
          "metadata": {
            "tags": [],
            "needs_background": "light"
          }
        }
      ]
    },
    {
      "cell_type": "markdown",
      "metadata": {
        "id": "bCWV61vY6NRK"
      },
      "source": [
        "Analisando o grafico acima, comparado ao Rotten Tomatoes, o IMDb parece ser mais crítico em relação as notas."
      ]
    },
    {
      "cell_type": "code",
      "metadata": {
        "id": "fd8zeM-KJLA5",
        "outputId": "68bbd72e-1e9a-4fec-cd6e-84fba4a15a4a",
        "colab": {
          "base_uri": "https://localhost:8080/",
          "height": 119
        }
      },
      "source": [
        "from pyspark.sql.functions import when,count,countDistinct\n",
        "\n",
        "movies_df_aval = movies_no_outliers_py.where(col('IMDb').isNotNull() & col('RottenTomatoes').isNotNull())\n",
        "\n",
        "movies_df_aval.agg(\n",
        "    count(when(col(\"IMDb\") >= 9, True)).alias('IMDb Count'),\n",
        "    count(when(col(\"RottenTomatoes\") >= 9, True)).alias('RottenTomatoes Count')\n",
        ").show()"
      ],
      "execution_count": 54,
      "outputs": [
        {
          "output_type": "stream",
          "text": [
            "+----------+--------------------+\n",
            "|IMDb Count|RottenTomatoes Count|\n",
            "+----------+--------------------+\n",
            "|         1|                1097|\n",
            "+----------+--------------------+\n",
            "\n"
          ],
          "name": "stdout"
        }
      ]
    },
    {
      "cell_type": "markdown",
      "metadata": {
        "id": "mfgw9bcM8dWD"
      },
      "source": [
        "#### Análise linguagem"
      ]
    },
    {
      "cell_type": "code",
      "metadata": {
        "id": "NO9M-VcDqr5_",
        "outputId": "34fa1d96-3c5c-4a84-8cfb-3f0af205e8b7",
        "colab": {
          "base_uri": "https://localhost:8080/",
          "height": 282
        }
      },
      "source": [
        "movies_count_by_language = movie_language_df.groupBy('Language').agg(countDistinct('ID').alias('count')).toPandas()\n",
        "movies_count_by_language.nlargest(15, 'count').plot.barh(x='Language')"
      ],
      "execution_count": 55,
      "outputs": [
        {
          "output_type": "execute_result",
          "data": {
            "text/plain": [
              "<matplotlib.axes._subplots.AxesSubplot at 0x7fe8aa903278>"
            ]
          },
          "metadata": {
            "tags": []
          },
          "execution_count": 55
        },
        {
          "output_type": "display_data",
          "data": {
            "image/png": "[encoded data removed]",
            "text/plain": [
              "<Figure size 432x288 with 1 Axes>"
            ]
          },
          "metadata": {
            "tags": [],
            "needs_background": "light"
          }
        }
      ]
    },
    {
      "cell_type": "markdown",
      "metadata": {
        "id": "eVWGehia9vEo"
      },
      "source": [
        "Podemos perceber que a linguagem predominante é inglês, o que é esperado."
      ]
    },
    {
      "cell_type": "markdown",
      "metadata": {
        "id": "9ZLK01_38jgk"
      },
      "source": [
        "#### Análise gênero"
      ]
    },
    {
      "cell_type": "code",
      "metadata": {
        "id": "jufgM5yWu0Lx",
        "outputId": "05a88ed8-5c39-4d62-fe2d-72df87e2a382",
        "colab": {
          "base_uri": "https://localhost:8080/",
          "height": 282
        }
      },
      "source": [
        "movies_count_by_genre = movie_genre_df.groupBy('Genre').agg(countDistinct('ID').alias('count')).toPandas()\n",
        "movies_count_by_genre.nlargest(20, 'count').plot.barh(x='Genre')"
      ],
      "execution_count": 56,
      "outputs": [
        {
          "output_type": "execute_result",
          "data": {
            "text/plain": [
              "<matplotlib.axes._subplots.AxesSubplot at 0x7fe8a8e347b8>"
            ]
          },
          "metadata": {
            "tags": []
          },
          "execution_count": 56
        },
        {
          "output_type": "display_data",
          "data": {
            "image/png": "[encoded data removed]",
            "text/plain": [
              "<Figure size 432x288 with 1 Axes>"
            ]
          },
          "metadata": {
            "tags": [],
            "needs_background": "light"
          }
        }
      ]
    },
    {
      "cell_type": "markdown",
      "metadata": {
        "id": "ueEUp0-W-V-f"
      },
      "source": [
        "Drama é o gênero que possui a maior quantidade de filmes."
      ]
    },
    {
      "cell_type": "markdown",
      "metadata": {
        "id": "pLiBb1hw8qPw"
      },
      "source": [
        "#### Análise país"
      ]
    },
    {
      "cell_type": "code",
      "metadata": {
        "id": "Zzrh8l0tvZC4",
        "outputId": "c0a3fad2-32fd-4328-a2f5-fa1a56194b92",
        "colab": {
          "base_uri": "https://localhost:8080/",
          "height": 283
        }
      },
      "source": [
        "movies_count_by_country = movie_country_df.groupBy('Country').agg(countDistinct('ID').alias('count')).toPandas()\n",
        "movies_count_by_country.nlargest(30, 'count').plot.barh(x='Country')"
      ],
      "execution_count": 57,
      "outputs": [
        {
          "output_type": "execute_result",
          "data": {
            "text/plain": [
              "<matplotlib.axes._subplots.AxesSubplot at 0x7fe8a8d6d9b0>"
            ]
          },
          "metadata": {
            "tags": []
          },
          "execution_count": 57
        },
        {
          "output_type": "display_data",
          "data": {
            "image/png": "[encoded data removed]",
            "text/plain": [
              "<Figure size 432x288 with 1 Axes>"
            ]
          },
          "metadata": {
            "tags": [],
            "needs_background": "light"
          }
        }
      ]
    },
    {
      "cell_type": "markdown",
      "metadata": {
        "id": "6JlMdzjG-mTk"
      },
      "source": [
        "Estatos Unidos é o maior produtor de filmes, o que explica a grande quantidade de filmes em inglês. "
      ]
    },
    {
      "cell_type": "markdown",
      "metadata": {
        "id": "sP2QkSXNVvFc"
      },
      "source": [
        "#### Análise Diretores\n",
        "\n",
        "\n",
        "\n"
      ]
    },
    {
      "cell_type": "markdown",
      "metadata": {
        "id": "yo_76ShUjALN"
      },
      "source": [
        "Inicialmente, vamos ver os top 20 diretores que fizeram mais filmes"
      ]
    },
    {
      "cell_type": "code",
      "metadata": {
        "id": "kmHKvpBAv1UA",
        "outputId": "f029efa2-e833-4e01-be8c-498c1a307f0f",
        "colab": {
          "base_uri": "https://localhost:8080/",
          "height": 282
        }
      },
      "source": [
        "movies_count_by_directors = movie_director_df.groupBy('Director').agg(countDistinct('ID').alias('count')).toPandas()\n",
        "movies_count_by_directors.nlargest(20, 'count').plot.barh(x='Director')"
      ],
      "execution_count": 58,
      "outputs": [
        {
          "output_type": "execute_result",
          "data": {
            "text/plain": [
              "<matplotlib.axes._subplots.AxesSubplot at 0x7fe8a8c59e80>"
            ]
          },
          "metadata": {
            "tags": []
          },
          "execution_count": 58
        },
        {
          "output_type": "display_data",
          "data": {
            "image/png": "[encoded data removed]",
            "text/plain": [
              "<Figure size 432x288 with 1 Axes>"
            ]
          },
          "metadata": {
            "tags": [],
            "needs_background": "light"
          }
        }
      ]
    },
    {
      "cell_type": "code",
      "metadata": {
        "id": "qti07AC00b5R",
        "outputId": "6a070b2c-af35-4f2c-b553-d5a8aa36909e",
        "colab": {
          "base_uri": "https://localhost:8080/",
          "height": 419
        }
      },
      "source": [
        "from pyspark.sql.functions import mean\n",
        "\n",
        "directors_stats_pyspark = movie_director_df.distinct()\\\n",
        "                            .join(movies_no_outliers_py, movies_no_outliers_py['ID'] == movie_director_df['ID'])\\\n",
        "                            .select('Director', 'IMDb', 'RottenTomatoes', movie_director_df['ID'])\\\n",
        "                            .groupBy('Director')\\\n",
        "                            .agg(count('ID').alias('movies_count'), mean('IMDb').alias('IMDb_mean'), mean('RottenTomatoes').alias('RottenTomatoes_mean'))\\\n",
        "                            \n",
        "directors_stats = directors_stats_pyspark.toPandas()\n",
        "directors_stats"
      ],
      "execution_count": 59,
      "outputs": [
        {
          "output_type": "execute_result",
          "data": {
            "text/html": [
              "<div>\n",
              "<style scoped>\n",
              "    .dataframe tbody tr th:only-of-type {\n",
              "        vertical-align: middle;\n",
              "    }\n",
              "\n",
              "    .dataframe tbody tr th {\n",
              "        vertical-align: top;\n",
              "    }\n",
              "\n",
              "    .dataframe thead th {\n",
              "        text-align: right;\n",
              "    }\n",
              "</style>\n",
              "<table border=\"1\" class=\"dataframe\">\n",
              "  <thead>\n",
              "    <tr style=\"text-align: right;\">\n",
              "      <th></th>\n",
              "      <th>Director</th>\n",
              "      <th>movies_count</th>\n",
              "      <th>IMDb_mean</th>\n",
              "      <th>RottenTomatoes_mean</th>\n",
              "    </tr>\n",
              "  </thead>\n",
              "  <tbody>\n",
              "    <tr>\n",
              "      <th>0</th>\n",
              "      <td>Perry Moore</td>\n",
              "      <td>1</td>\n",
              "      <td>5.9</td>\n",
              "      <td>1.2</td>\n",
              "    </tr>\n",
              "    <tr>\n",
              "      <th>1</th>\n",
              "      <td>John Wells</td>\n",
              "      <td>1</td>\n",
              "      <td>6.7</td>\n",
              "      <td>6.7</td>\n",
              "    </tr>\n",
              "    <tr>\n",
              "      <th>2</th>\n",
              "      <td>April Mullen</td>\n",
              "      <td>1</td>\n",
              "      <td>5.5</td>\n",
              "      <td>2.2</td>\n",
              "    </tr>\n",
              "    <tr>\n",
              "      <th>3</th>\n",
              "      <td>Jim Jarmusch</td>\n",
              "      <td>2</td>\n",
              "      <td>7.3</td>\n",
              "      <td>9.5</td>\n",
              "    </tr>\n",
              "    <tr>\n",
              "      <th>4</th>\n",
              "      <td>Dino Athanassiou</td>\n",
              "      <td>1</td>\n",
              "      <td>4.5</td>\n",
              "      <td>0.4</td>\n",
              "    </tr>\n",
              "    <tr>\n",
              "      <th>...</th>\n",
              "      <td>...</td>\n",
              "      <td>...</td>\n",
              "      <td>...</td>\n",
              "      <td>...</td>\n",
              "    </tr>\n",
              "    <tr>\n",
              "      <th>4285</th>\n",
              "      <td>Jay Alaimo</td>\n",
              "      <td>1</td>\n",
              "      <td>6.7</td>\n",
              "      <td>7.0</td>\n",
              "    </tr>\n",
              "    <tr>\n",
              "      <th>4286</th>\n",
              "      <td>Fab 5 Freddy</td>\n",
              "      <td>1</td>\n",
              "      <td>7.2</td>\n",
              "      <td>10.0</td>\n",
              "    </tr>\n",
              "    <tr>\n",
              "      <th>4287</th>\n",
              "      <td>Bernardo Ruiz</td>\n",
              "      <td>1</td>\n",
              "      <td>6.7</td>\n",
              "      <td>7.9</td>\n",
              "    </tr>\n",
              "    <tr>\n",
              "      <th>4288</th>\n",
              "      <td>Xavier Manrique</td>\n",
              "      <td>1</td>\n",
              "      <td>5.1</td>\n",
              "      <td>4.0</td>\n",
              "    </tr>\n",
              "    <tr>\n",
              "      <th>4289</th>\n",
              "      <td>Ramesh Sippy</td>\n",
              "      <td>2</td>\n",
              "      <td>6.8</td>\n",
              "      <td>8.8</td>\n",
              "    </tr>\n",
              "  </tbody>\n",
              "</table>\n",
              "<p>4290 rows × 4 columns</p>\n",
              "</div>"
            ],
            "text/plain": [
              "              Director  movies_count  IMDb_mean  RottenTomatoes_mean\n",
              "0          Perry Moore             1        5.9                  1.2\n",
              "1           John Wells             1        6.7                  6.7\n",
              "2         April Mullen             1        5.5                  2.2\n",
              "3         Jim Jarmusch             2        7.3                  9.5\n",
              "4     Dino Athanassiou             1        4.5                  0.4\n",
              "...                ...           ...        ...                  ...\n",
              "4285        Jay Alaimo             1        6.7                  7.0\n",
              "4286      Fab 5 Freddy             1        7.2                 10.0\n",
              "4287     Bernardo Ruiz             1        6.7                  7.9\n",
              "4288   Xavier Manrique             1        5.1                  4.0\n",
              "4289      Ramesh Sippy             2        6.8                  8.8\n",
              "\n",
              "[4290 rows x 4 columns]"
            ]
          },
          "metadata": {
            "tags": []
          },
          "execution_count": 59
        }
      ]
    },
    {
      "cell_type": "code",
      "metadata": {
        "id": "joLqUGVTXNE-",
        "outputId": "1f77f8d3-81b4-4df7-d0b4-301c60f09a84",
        "colab": {
          "base_uri": "https://localhost:8080/",
          "height": 495
        }
      },
      "source": [
        "import matplotlib.pyplot as plt\n",
        "\n",
        "sorted_imdb = directors_stats.sort_values(by='IMDb_mean', ascending=False).head(20) \n",
        "sorted_rotten = directors_stats.sort_values(by='RottenTomatoes_mean', ascending=False).head(20) \n",
        "\n",
        "fig, axes = plt.subplots(1, 2)\n",
        "fig.tight_layout(pad=3.0)\n",
        "sorted_imdb[['Director', 'IMDb_mean']].plot.barh(x='Director', ax=axes[0], figsize=(20, 8), title='IMDB TOP20 Diretores com maior média')\n",
        "sorted_rotten[['Director', 'RottenTomatoes_mean']].plot.barh(x='Director', ax=axes[1], figsize=(20, 8), title='RottenTomatoes TOP20 Diretores com maior média')"
      ],
      "execution_count": 60,
      "outputs": [
        {
          "output_type": "execute_result",
          "data": {
            "text/plain": [
              "<matplotlib.axes._subplots.AxesSubplot at 0x7fe8a8afecc0>"
            ]
          },
          "metadata": {
            "tags": []
          },
          "execution_count": 60
        },
        {
          "output_type": "display_data",
          "data": {
            "image/png": "[encoded data removed]",
            "text/plain": [
              "<Figure size 1440x576 with 2 Axes>"
            ]
          },
          "metadata": {
            "tags": [],
            "needs_background": "light"
          }
        }
      ]
    },
    {
      "cell_type": "markdown",
      "metadata": {
        "id": "X_Cc2anGWCcr"
      },
      "source": [
        "Esses diretores estão com uma média muito alta, principalmente os do Rotten Tomatoes, no qual todos os Top 20 possuem média 10. Analisando Irvin Kershner, por exemplo, podemos notar que só existe uma nota relacionada a ele"
      ]
    },
    {
      "cell_type": "code",
      "metadata": {
        "id": "VB0KocRpgJ7B",
        "outputId": "38bdafd8-f7f5-4d48-986e-41815d07bd05",
        "colab": {
          "base_uri": "https://localhost:8080/",
          "height": 119
        }
      },
      "source": [
        "movie_director_df.distinct()\\\n",
        ".join(movies_no_outliers_py, movies_no_outliers_py['ID'] == movie_director_df['ID'])\\\n",
        ".select('Director', 'IMDb').where(col('Director') == 'Irvin Kershner').show()"
      ],
      "execution_count": 61,
      "outputs": [
        {
          "output_type": "stream",
          "text": [
            "+--------------+----+\n",
            "|      Director|IMDb|\n",
            "+--------------+----+\n",
            "|Irvin Kershner| 8.7|\n",
            "+--------------+----+\n",
            "\n"
          ],
          "name": "stdout"
        }
      ]
    },
    {
      "cell_type": "markdown",
      "metadata": {
        "id": "dpEBK2QCgcXX"
      },
      "source": [
        "Vamos ver a quantidade de diretores por filmes feitos:"
      ]
    },
    {
      "cell_type": "code",
      "metadata": {
        "id": "SwBBaYoWShel",
        "outputId": "edf9c299-98b7-4e6a-9c08-8f71d21e35f1",
        "colab": {
          "base_uri": "https://localhost:8080/",
          "height": 359
        }
      },
      "source": [
        "directors_movie_count = movie_director_df.distinct()\\\n",
        "                            .groupBy('Director')\\\n",
        "                            .agg(count('ID').alias('Total Movies'))\\\n",
        "                            .groupBy('Total Movies').agg(count('Director').alias('Total Director')).orderBy(col('Total Movies')).toPandas()\n",
        "directors_movie_count"
      ],
      "execution_count": 62,
      "outputs": [
        {
          "output_type": "execute_result",
          "data": {
            "text/html": [
              "<div>\n",
              "<style scoped>\n",
              "    .dataframe tbody tr th:only-of-type {\n",
              "        vertical-align: middle;\n",
              "    }\n",
              "\n",
              "    .dataframe tbody tr th {\n",
              "        vertical-align: top;\n",
              "    }\n",
              "\n",
              "    .dataframe thead th {\n",
              "        text-align: right;\n",
              "    }\n",
              "</style>\n",
              "<table border=\"1\" class=\"dataframe\">\n",
              "  <thead>\n",
              "    <tr style=\"text-align: right;\">\n",
              "      <th></th>\n",
              "      <th>Total Movies</th>\n",
              "      <th>Total Director</th>\n",
              "    </tr>\n",
              "  </thead>\n",
              "  <tbody>\n",
              "    <tr>\n",
              "      <th>0</th>\n",
              "      <td>1</td>\n",
              "      <td>3384</td>\n",
              "    </tr>\n",
              "    <tr>\n",
              "      <th>1</th>\n",
              "      <td>2</td>\n",
              "      <td>599</td>\n",
              "    </tr>\n",
              "    <tr>\n",
              "      <th>2</th>\n",
              "      <td>3</td>\n",
              "      <td>179</td>\n",
              "    </tr>\n",
              "    <tr>\n",
              "      <th>3</th>\n",
              "      <td>4</td>\n",
              "      <td>67</td>\n",
              "    </tr>\n",
              "    <tr>\n",
              "      <th>4</th>\n",
              "      <td>5</td>\n",
              "      <td>34</td>\n",
              "    </tr>\n",
              "    <tr>\n",
              "      <th>5</th>\n",
              "      <td>6</td>\n",
              "      <td>14</td>\n",
              "    </tr>\n",
              "    <tr>\n",
              "      <th>6</th>\n",
              "      <td>7</td>\n",
              "      <td>7</td>\n",
              "    </tr>\n",
              "    <tr>\n",
              "      <th>7</th>\n",
              "      <td>8</td>\n",
              "      <td>3</td>\n",
              "    </tr>\n",
              "    <tr>\n",
              "      <th>8</th>\n",
              "      <td>9</td>\n",
              "      <td>2</td>\n",
              "    </tr>\n",
              "    <tr>\n",
              "      <th>9</th>\n",
              "      <td>11</td>\n",
              "      <td>1</td>\n",
              "    </tr>\n",
              "  </tbody>\n",
              "</table>\n",
              "</div>"
            ],
            "text/plain": [
              "   Total Movies  Total Director\n",
              "0             1            3384\n",
              "1             2             599\n",
              "2             3             179\n",
              "3             4              67\n",
              "4             5              34\n",
              "5             6              14\n",
              "6             7               7\n",
              "7             8               3\n",
              "8             9               2\n",
              "9            11               1"
            ]
          },
          "metadata": {
            "tags": []
          },
          "execution_count": 62
        }
      ]
    },
    {
      "cell_type": "markdown",
      "metadata": {
        "id": "PGP74-C8g6J2"
      },
      "source": [
        "Com isso iremos pegar a média de filmes feitos por diretor e fazer nossas analises baseado nos diretores que fizeram pelo menos a media de filmes."
      ]
    },
    {
      "cell_type": "code",
      "metadata": {
        "id": "lXkfjCMThPvF",
        "outputId": "7647e6bb-d9f9-41d0-9a50-444c1c7cb88f",
        "colab": {
          "base_uri": "https://localhost:8080/",
          "height": 34
        }
      },
      "source": [
        "directors_movies_mean = movie_director_df.distinct()\\\n",
        "                            .groupBy('Director')\\\n",
        "                            .agg(count('ID').alias('Total Movies'))\\\n",
        "                            .select(mean('Total Movies').alias('mean'))\\\n",
        "                            .collect()[0][0]\n",
        "directors_movies_mean"
      ],
      "execution_count": 63,
      "outputs": [
        {
          "output_type": "execute_result",
          "data": {
            "text/plain": [
              "1.3386946386946388"
            ]
          },
          "metadata": {
            "tags": []
          },
          "execution_count": 63
        }
      ]
    },
    {
      "cell_type": "markdown",
      "metadata": {
        "id": "w-IGoaRI_YsJ"
      },
      "source": [
        "Vamos agora analisar quais diretores produziram mais filmes."
      ]
    },
    {
      "cell_type": "code",
      "metadata": {
        "id": "dUWkWVn2jXwj",
        "outputId": "e5c8147d-7286-46dc-f75b-3e4cdb52889b",
        "colab": {
          "base_uri": "https://localhost:8080/",
          "height": 282
        }
      },
      "source": [
        "directors_filtered = directors_stats_pyspark.distinct()\\\n",
        "                            .where(col('movies_count') >= directors_movies_mean)\\\n",
        "                            .toPandas()\n",
        "directors_filtered.nlargest(20, 'movies_count')[['Director', 'movies_count']].plot.barh(x='Director')"
      ],
      "execution_count": 64,
      "outputs": [
        {
          "output_type": "execute_result",
          "data": {
            "text/plain": [
              "<matplotlib.axes._subplots.AxesSubplot at 0x7fe8a61ae278>"
            ]
          },
          "metadata": {
            "tags": []
          },
          "execution_count": 64
        },
        {
          "output_type": "display_data",
          "data": {
            "image/png": "[encoded data removed]",
            "text/plain": [
              "<Figure size 432x288 with 1 Axes>"
            ]
          },
          "metadata": {
            "tags": [],
            "needs_background": "light"
          }
        }
      ]
    },
    {
      "cell_type": "markdown",
      "metadata": {
        "id": "w3w9lI7k_eaS"
      },
      "source": [
        "Vamos analisar o diretor que possui maior média."
      ]
    },
    {
      "cell_type": "code",
      "metadata": {
        "id": "7FYuznxswzEe",
        "outputId": "ba779f0f-7350-4a91-a47f-a15d15c7e941",
        "colab": {
          "base_uri": "https://localhost:8080/",
          "height": 282
        }
      },
      "source": [
        "directors_high_grade_count = directors_stats_pyspark.distinct()\\\n",
        "                            .where(col('movies_count') >= directors_movies_mean).toPandas()\n",
        "directors_high_grade_count.nlargest(20, 'IMDb_mean')[['Director', 'IMDb_mean']].plot.barh(x='Director')"
      ],
      "execution_count": 65,
      "outputs": [
        {
          "output_type": "execute_result",
          "data": {
            "text/plain": [
              "<matplotlib.axes._subplots.AxesSubplot at 0x7fe8aad80518>"
            ]
          },
          "metadata": {
            "tags": []
          },
          "execution_count": 65
        },
        {
          "output_type": "display_data",
          "data": {
            "image/png": "[encoded data removed]",
            "text/plain": [
              "<Figure size 432x288 with 1 Axes>"
            ]
          },
          "metadata": {
            "tags": [],
            "needs_background": "light"
          }
        }
      ]
    },
    {
      "cell_type": "markdown",
      "metadata": {
        "id": "lqvAs5ykjaOz"
      },
      "source": [
        "### Hipóteses"
      ]
    },
    {
      "cell_type": "markdown",
      "metadata": {
        "id": "Rs5TFIcZjeU4"
      },
      "source": [
        "HIPOTESES\n",
        "1. Notas dos filmes seguem uma distribuição normal\n",
        "2. IMDb é mais rígido em relação a notas do que o Rotten Tomatoes\n",
        "3. Filmes de terror e ação tem uma classificacao indicativa maior\n",
        "4. Filmes de drama tem maiores notas\n",
        "5. Filmes na Plataforma da Netflix possuem notas mais altas"
      ]
    },
    {
      "cell_type": "code",
      "metadata": {
        "id": "Xtnt9LsMmwgZ"
      },
      "source": [
        "from scipy import stats"
      ],
      "execution_count": 66,
      "outputs": []
    },
    {
      "cell_type": "markdown",
      "metadata": {
        "id": "jTGVpYiFjo6y"
      },
      "source": [
        "#### Hipótese 1"
      ]
    },
    {
      "cell_type": "markdown",
      "metadata": {
        "id": "8HSgwY5qN-MR"
      },
      "source": [
        "Acreditamos que as notas dos filmes seguem uma distribuição normal, pelo fato de que as pessoas geralmente tendem a não avaliar muitos filmes com nota máxima nem mínima, mas sim com notas medianas, fazendo com que notas medianas tenham uma maior quantidade do que notas muito boas ou notas muito ruins."
      ]
    },
    {
      "cell_type": "code",
      "metadata": {
        "id": "EU2xLJ0xMhjL"
      },
      "source": [
        "# vamos dropar os nan porque não nos interessa nos cálculos\n",
        "movies_processed_pd = movies_no_outliers.dropna()"
      ],
      "execution_count": 67,
      "outputs": []
    },
    {
      "cell_type": "markdown",
      "metadata": {
        "id": "I6khgTlqqdpm"
      },
      "source": [
        "Vamos checar agora se as notas do imdb e rotten tomatoes seguem uma distribuição normal"
      ]
    },
    {
      "cell_type": "code",
      "metadata": {
        "id": "mi0ilb6Tleek",
        "outputId": "34e874b9-0939-4a2d-d1d2-73985c3c0664",
        "colab": {
          "base_uri": "https://localhost:8080/",
          "height": 337
        }
      },
      "source": [
        "fig, axes = plt.subplots(1, 2)\n",
        "\n",
        "movies_processed_pd[['RottenTomatoes']].plot(kind='hist', ax=axes[0], figsize=(12, 5))\n",
        "movies_processed_pd[['IMDb']].plot(kind='hist', ax=axes[1], figsize=(12, 5))"
      ],
      "execution_count": 68,
      "outputs": [
        {
          "output_type": "execute_result",
          "data": {
            "text/plain": [
              "<matplotlib.axes._subplots.AxesSubplot at 0x7fe89c88c6d8>"
            ]
          },
          "metadata": {
            "tags": []
          },
          "execution_count": 68
        },
        {
          "output_type": "display_data",
          "data": {
            "image/png": "[encoded data removed]",
            "text/plain": [
              "<Figure size 864x360 with 2 Axes>"
            ]
          },
          "metadata": {
            "tags": [],
            "needs_background": "light"
          }
        }
      ]
    },
    {
      "cell_type": "code",
      "metadata": {
        "id": "MknwleMfmZfM",
        "outputId": "27e1882d-991b-426e-f32e-98494ee44e68",
        "colab": {
          "base_uri": "https://localhost:8080/",
          "height": 51
        }
      },
      "source": [
        "stat_rotten, p_rotten = stats.shapiro(movies_processed_pd['RottenTomatoes'])\n",
        "stat_imdb, p_imdb = stats.shapiro(movies_processed_pd['IMDb'])\n",
        "\n",
        "print(\"p-value rotten tomatoes \", p_rotten)\n",
        "print(\"p-value imdb \", p_imdb)"
      ],
      "execution_count": 69,
      "outputs": [
        {
          "output_type": "stream",
          "text": [
            "p-value rotten tomatoes  4.3860641933366774e-43\n",
            "p-value imdb  7.0553333058729e-25\n"
          ],
          "name": "stdout"
        }
      ]
    },
    {
      "cell_type": "markdown",
      "metadata": {
        "id": "PDfYi-_OrDVh"
      },
      "source": [
        "Utilizando a função shapiro percebemos que o p value deu muito baixo rejeitando assim a hipótese nula de que as distribuições são normais. Desse modo, rejeitamos nossa hipótese 1."
      ]
    },
    {
      "cell_type": "markdown",
      "metadata": {
        "id": "xB7OkyA6Ledz"
      },
      "source": [
        "#### Hipótese 2"
      ]
    },
    {
      "cell_type": "markdown",
      "metadata": {
        "id": "lN639-aIOo9R"
      },
      "source": [
        "Acreditamos que o IMDb é mais crítico em relação a notas do que o Rotten Tomatoes. Acreditamos nisso porque ao olhar os dados na etapa de análise percebemos algumas notas do Rotten tomatoes maiores que as do IMDb. "
      ]
    },
    {
      "cell_type": "markdown",
      "metadata": {
        "id": "VNhrzhJNKF0x"
      },
      "source": [
        "Vamos utilizar a função do Wilcoxon para realizar esse teste. Colocaremos a hipótese nula como a distribuição das notas do Rotten tomatoes serem maiores que a dos IMDb, e assim utilizaremos o parametro alternative para configurar a hipotese alternativa como sendo menor.\\\n",
        "H0 - RottenTomatoes > IMDb\\\n",
        "HA - RottenTomatoes < IMDb (alternative = 'less')"
      ]
    },
    {
      "cell_type": "code",
      "metadata": {
        "id": "1Qk34HCTE2mv",
        "outputId": "0d97c839-94da-4a39-f63b-f2ade5bfe97b",
        "colab": {
          "base_uri": "https://localhost:8080/",
          "height": 34
        }
      },
      "source": [
        "stats.wilcoxon(movies_processed_pd['RottenTomatoes'], movies_processed_pd['IMDb'], alternative='less')"
      ],
      "execution_count": 70,
      "outputs": [
        {
          "output_type": "execute_result",
          "data": {
            "text/plain": [
              "WilcoxonResult(statistic=6680944.0, pvalue=0.9999999999899049)"
            ]
          },
          "metadata": {
            "tags": []
          },
          "execution_count": 70
        }
      ]
    },
    {
      "cell_type": "markdown",
      "metadata": {
        "id": "axcF-a6vKv4-"
      },
      "source": [
        "Como o p-value foi muito alto provamos a hipótese nula de que a distribuição de notas no Rotten Tomatoes são maiores do que a do IMDb, logo o IMDb é mais rígido em relação a notas."
      ]
    },
    {
      "cell_type": "markdown",
      "metadata": {
        "id": "CaRp1wrijzGv"
      },
      "source": [
        "#### Hipótese 3"
      ]
    },
    {
      "cell_type": "markdown",
      "metadata": {
        "id": "m_2lJFQSyHad"
      },
      "source": [
        "Vamos agora verificar as idades classificativas de acordo com os gêneros dos filmes, queremos mostrar que filmes de terror e ação são mais propensos a ter classificações mais altas."
      ]
    },
    {
      "cell_type": "code",
      "metadata": {
        "id": "MT1s3tp0s0Hw",
        "outputId": "1951b550-c51e-405c-bf85-8346493fca5a",
        "colab": {
          "base_uri": "https://localhost:8080/",
          "height": 419
        }
      },
      "source": [
        "# primeiro vamos cruzar os dados de gênero com os de filme\n",
        "movies_genre_by_minimum_class = movie_genre_df.join(movies_no_outliers_py, movies_no_outliers_py['ID'] == movie_genre_df['ID'])\\\n",
        "                                              .select('Genre', 'MinimumClassification')\\\n",
        "                                              .where(col('MinimumClassification') >= 0)\n",
        "movies_genre_by_minimum_class_pd = movies_genre_by_minimum_class.toPandas()\n",
        "movies_genre_by_minimum_class_pd"
      ],
      "execution_count": 71,
      "outputs": [
        {
          "output_type": "execute_result",
          "data": {
            "text/html": [
              "<div>\n",
              "<style scoped>\n",
              "    .dataframe tbody tr th:only-of-type {\n",
              "        vertical-align: middle;\n",
              "    }\n",
              "\n",
              "    .dataframe tbody tr th {\n",
              "        vertical-align: top;\n",
              "    }\n",
              "\n",
              "    .dataframe thead th {\n",
              "        text-align: right;\n",
              "    }\n",
              "</style>\n",
              "<table border=\"1\" class=\"dataframe\">\n",
              "  <thead>\n",
              "    <tr style=\"text-align: right;\">\n",
              "      <th></th>\n",
              "      <th>Genre</th>\n",
              "      <th>MinimumClassification</th>\n",
              "    </tr>\n",
              "  </thead>\n",
              "  <tbody>\n",
              "    <tr>\n",
              "      <th>0</th>\n",
              "      <td>Drama</td>\n",
              "      <td>18</td>\n",
              "    </tr>\n",
              "    <tr>\n",
              "      <th>1</th>\n",
              "      <td>Mystery</td>\n",
              "      <td>18</td>\n",
              "    </tr>\n",
              "    <tr>\n",
              "      <th>2</th>\n",
              "      <td>Sci-Fi</td>\n",
              "      <td>18</td>\n",
              "    </tr>\n",
              "    <tr>\n",
              "      <th>3</th>\n",
              "      <td>Thriller</td>\n",
              "      <td>18</td>\n",
              "    </tr>\n",
              "    <tr>\n",
              "      <th>4</th>\n",
              "      <td>Biography</td>\n",
              "      <td>18</td>\n",
              "    </tr>\n",
              "    <tr>\n",
              "      <th>...</th>\n",
              "      <td>...</td>\n",
              "      <td>...</td>\n",
              "    </tr>\n",
              "    <tr>\n",
              "      <th>9490</th>\n",
              "      <td>Fantasy</td>\n",
              "      <td>0</td>\n",
              "    </tr>\n",
              "    <tr>\n",
              "      <th>9491</th>\n",
              "      <td>Action</td>\n",
              "      <td>13</td>\n",
              "    </tr>\n",
              "    <tr>\n",
              "      <th>9492</th>\n",
              "      <td>Drama</td>\n",
              "      <td>13</td>\n",
              "    </tr>\n",
              "    <tr>\n",
              "      <th>9493</th>\n",
              "      <td>History</td>\n",
              "      <td>13</td>\n",
              "    </tr>\n",
              "    <tr>\n",
              "      <th>9494</th>\n",
              "      <td>War</td>\n",
              "      <td>13</td>\n",
              "    </tr>\n",
              "  </tbody>\n",
              "</table>\n",
              "<p>9495 rows × 2 columns</p>\n",
              "</div>"
            ],
            "text/plain": [
              "          Genre  MinimumClassification\n",
              "0         Drama                     18\n",
              "1       Mystery                     18\n",
              "2        Sci-Fi                     18\n",
              "3      Thriller                     18\n",
              "4     Biography                     18\n",
              "...         ...                    ...\n",
              "9490    Fantasy                      0\n",
              "9491     Action                     13\n",
              "9492      Drama                     13\n",
              "9493    History                     13\n",
              "9494        War                     13\n",
              "\n",
              "[9495 rows x 2 columns]"
            ]
          },
          "metadata": {
            "tags": []
          },
          "execution_count": 71
        }
      ]
    },
    {
      "cell_type": "code",
      "metadata": {
        "id": "U3fz8ZkQ1Mlw"
      },
      "source": [
        "genres = movies_genre_by_minimum_class_pd.Genre.unique()"
      ],
      "execution_count": 72,
      "outputs": []
    },
    {
      "cell_type": "code",
      "metadata": {
        "id": "NFsbnMcM6Uof",
        "outputId": "58259baa-0a85-4b1c-c074-f818ce799631",
        "colab": {
          "base_uri": "https://localhost:8080/",
          "height": 68
        }
      },
      "source": [
        "movies_genre_by_minimum_class_pd.dtypes"
      ],
      "execution_count": 73,
      "outputs": [
        {
          "output_type": "execute_result",
          "data": {
            "text/plain": [
              "Genre                    object\n",
              "MinimumClassification     int64\n",
              "dtype: object"
            ]
          },
          "metadata": {
            "tags": []
          },
          "execution_count": 73
        }
      ]
    },
    {
      "cell_type": "code",
      "metadata": {
        "id": "Mlr7Pzel0KgO",
        "outputId": "ceeca66d-7d63-4240-bcf1-286e151a81e8",
        "colab": {
          "base_uri": "https://localhost:8080/",
          "height": 348
        }
      },
      "source": [
        "import seaborn as sns\n",
        "fig, axes = plt.subplots(figsize=(15, 4))\n",
        "for tick in axes.get_xticklabels():\n",
        "    tick.set_rotation(55)\n",
        "sns.boxplot(x='Genre', y='MinimumClassification', data=movies_genre_by_minimum_class_pd, ax=axes)"
      ],
      "execution_count": 74,
      "outputs": [
        {
          "output_type": "execute_result",
          "data": {
            "text/plain": [
              "<matplotlib.axes._subplots.AxesSubplot at 0x7fe89bfae0f0>"
            ]
          },
          "metadata": {
            "tags": []
          },
          "execution_count": 74
        },
        {
          "output_type": "display_data",
          "data": {
            "image/png": "[encoded data removed]",
            "text/plain": [
              "<Figure size 1080x288 with 1 Axes>"
            ]
          },
          "metadata": {
            "tags": [],
            "needs_background": "light"
          }
        }
      ]
    },
    {
      "cell_type": "markdown",
      "metadata": {
        "id": "xZuM9Lza6jG7"
      },
      "source": [
        "Como podemos ver através do gráfico acima, genêros como: Ação (Action), Suspense (Thriller), Guerra (War), Crime (Crime), Mistério (Mystery) e Terror (Horror), são genêros que possuem uma variação de classificação bem alta, com foco em Ação, Gerra, Crime que tem o primeiro quartil em 13 anos e o terceiro em 18, com a mediana em 18 anos nos casos de Ação e Crime. Destaca-se o gênero de terror que possui o primeiro quartil em 16 anos e com mediana e terceiro quartil em 18 anos. Os dados mostraram o que já era esperado."
      ]
    },
    {
      "cell_type": "markdown",
      "metadata": {
        "id": "CFwzz6jXj_Jt"
      },
      "source": [
        "#### Hipótese 4"
      ]
    },
    {
      "cell_type": "markdown",
      "metadata": {
        "id": "EvO68MMK2Nga"
      },
      "source": [
        "Como drama é o gênero de filme que [possui mais Oscars](https://www.bbc.com/portuguese/curiosidades-51390633#:~:text=Drama%20%C3%A9%20o%20g%C3%AAnero%20mais,distribu%C3%ADdas%20entre%20diversos%20g%C3%AAneros%20diferentes), supomos que as suas notas são as maiores."
      ]
    },
    {
      "cell_type": "code",
      "metadata": {
        "id": "3cyLpKW60258"
      },
      "source": [
        "movies_without_missing_rating = movies_no_outliers_py.where(col('IMDb').isNotNull() & col('RottenTomatoes').isNotNull())\\\n",
        "                                                   .join(movie_genre_df, movies_no_outliers_py['ID'] == movie_genre_df['ID'])\\\n",
        "                                                   .select(movies_no_outliers_py['ID'], col('Genre'), col('IMDb'), col('RottenTomatoes'))\n",
        "movies_without_missing_rating_pd = movies_without_missing_rating.toPandas()"
      ],
      "execution_count": 75,
      "outputs": []
    },
    {
      "cell_type": "code",
      "metadata": {
        "id": "YSsUCUUWwccz"
      },
      "source": [
        "# vamos remover os outliers (gêneros que possuem poucos filmes)\n",
        "genres_count = movies_without_missing_rating.groupBy('Genre').agg(count('ID').alias('total')).select('Genre', 'total')\n",
        "non_outliers_genres = genres_count.where(col('total') >= genres_count.approxQuantile('total',[0.25], 0)[0]).select('Genre').rdd.map(lambda row : row[0]).collect()"
      ],
      "execution_count": 76,
      "outputs": []
    },
    {
      "cell_type": "code",
      "metadata": {
        "id": "2y-g58kNu9t1",
        "outputId": "28eb4876-f272-4052-bd04-28a67ad48cd4",
        "colab": {
          "base_uri": "https://localhost:8080/",
          "height": 348
        }
      },
      "source": [
        "non_outliers_genre_movies = movies_without_missing_rating_pd[movies_without_missing_rating_pd['Genre'].isin(non_outliers_genres)]\n",
        "fig, axes = plt.subplots(figsize=(15, 4))\n",
        "for tick in axes.get_xticklabels():\n",
        "    tick.set_rotation(55)\n",
        "sns.boxplot(x='Genre', y='IMDb', data=non_outliers_genre_movies, ax=axes)"
      ],
      "execution_count": 77,
      "outputs": [
        {
          "output_type": "execute_result",
          "data": {
            "text/plain": [
              "<matplotlib.axes._subplots.AxesSubplot at 0x7fe89bd5b860>"
            ]
          },
          "metadata": {
            "tags": []
          },
          "execution_count": 77
        },
        {
          "output_type": "display_data",
          "data": {
            "image/png": "[encoded data removed]",
            "text/plain": [
              "<Figure size 1080x288 with 1 Axes>"
            ]
          },
          "metadata": {
            "tags": [],
            "needs_background": "light"
          }
        }
      ]
    },
    {
      "cell_type": "markdown",
      "metadata": {
        "id": "j_N_iM5O1CZH"
      },
      "source": [
        "Para provarmos que `drama` não é o gênero com melhores notas, vamos comparar sua distribuição com `documentary`, pois é a que parece ter as melhores notas, analisando o box plot. Logo vamos definir as hipóteses:\n",
        "\n",
        "H0 - Drama > Documentary\\\n",
        "HA - Drama < Documentary (alternative = 'less')"
      ]
    },
    {
      "cell_type": "code",
      "metadata": {
        "id": "ExeBK6bzpzHY",
        "outputId": "c106476d-7f3d-44c0-a113-d8d332d9d48c",
        "colab": {
          "base_uri": "https://localhost:8080/",
          "height": 34
        }
      },
      "source": [
        "documentary_genre = non_outliers_genre_movies[non_outliers_genre_movies['Genre'] == 'Documentary']\n",
        "drama_genre = non_outliers_genre_movies[non_outliers_genre_movies['Genre'] == 'Drama']\n",
        "stats.mannwhitneyu(drama_genre['IMDb'], documentary_genre['IMDb'], alternative='less')"
      ],
      "execution_count": 78,
      "outputs": [
        {
          "output_type": "execute_result",
          "data": {
            "text/plain": [
              "MannwhitneyuResult(statistic=540041.5, pvalue=1.8686355017804276e-81)"
            ]
          },
          "metadata": {
            "tags": []
          },
          "execution_count": 78
        }
      ]
    },
    {
      "cell_type": "code",
      "metadata": {
        "id": "Lc8XMTY21pRN",
        "outputId": "2e02a051-33a3-4470-e090-89bd32ae5932",
        "colab": {
          "base_uri": "https://localhost:8080/",
          "height": 34
        }
      },
      "source": [
        "documentary_genre = non_outliers_genre_movies[non_outliers_genre_movies['Genre'] == 'Documentary']\n",
        "drama_genre = non_outliers_genre_movies[non_outliers_genre_movies['Genre'] == 'Drama']\n",
        "stats.mannwhitneyu(drama_genre['RottenTomatoes'], documentary_genre['RottenTomatoes'], alternative='less')"
      ],
      "execution_count": 79,
      "outputs": [
        {
          "output_type": "execute_result",
          "data": {
            "text/plain": [
              "MannwhitneyuResult(statistic=568227.0, pvalue=5.543028229005309e-72)"
            ]
          },
          "metadata": {
            "tags": []
          },
          "execution_count": 79
        }
      ]
    },
    {
      "cell_type": "markdown",
      "metadata": {
        "id": "CrAw-4e909hb"
      },
      "source": [
        "Como para as duas plataformas de avaliação o p-value deu muito baixo, a hipótese nula foi refutada. Portanto drama não é o gênero mais bem avaliado"
      ]
    },
    {
      "cell_type": "markdown",
      "metadata": {
        "id": "C0DDdueSmH9r"
      },
      "source": [
        "#### Hipótese 5"
      ]
    },
    {
      "cell_type": "markdown",
      "metadata": {
        "id": "Cfik8heNjjsI"
      },
      "source": [
        "Por ser a plataforma de streaming mais popular, supomos que as notas dos filmes da `Netflix` são maiores que as outras plataformas."
      ]
    },
    {
      "cell_type": "code",
      "metadata": {
        "id": "3bHNeaKfeGG6",
        "outputId": "ff5b741e-16bc-491a-e8d5-53b41beb0f31",
        "colab": {
          "base_uri": "https://localhost:8080/",
          "height": 638
        }
      },
      "source": [
        "# Vamos utilizar a função melt para transformar em valores de uma coluna (Platform) as colunas das plataformas, para todos os casos que a plataforma tenha o filme \n",
        "plataform_rating = movies_no_outliers.melt(id_vars=['IMDb', 'RottenTomatoes'], value_vars=['Netflix', 'Prime Video', 'Hulu', 'Disney+'], var_name='Platform', value_name='Has')\n",
        "plataform_rating = plataform_rating[plataform_rating['Has'] == 1]\n",
        "fig, axes = plt.subplots(1,2, figsize=(25, 10))\n",
        "sns.boxplot(x='Platform', y='IMDb', data=plataform_rating, ax=axes[0]).set_title('IMDb')\n",
        "sns.boxplot(x='Platform', y='RottenTomatoes', data=plataform_rating, ax=axes[1]).set_title('Rotten Tomatoes')"
      ],
      "execution_count": 80,
      "outputs": [
        {
          "output_type": "execute_result",
          "data": {
            "text/plain": [
              "Text(0.5, 1.0, 'Rotten Tomatoes')"
            ]
          },
          "metadata": {
            "tags": []
          },
          "execution_count": 80
        },
        {
          "output_type": "display_data",
          "data": {
            "image/png": "[encoded data removed]",
            "text/plain": [
              "<Figure size 1800x720 with 2 Axes>"
            ]
          },
          "metadata": {
            "tags": [],
            "needs_background": "light"
          }
        }
      ]
    },
    {
      "cell_type": "markdown",
      "metadata": {
        "id": "t2isqVD5lSpc"
      },
      "source": [
        "Analisando os boxes plots pode-se perceber que no caso do `IMDB`, `Netflix` e `Disney+` são os mais bem avaliados. Já para o caso do `Rotten Tomatoes`, são `Netflix`e `Hulu`. Vamos fazer um teste de hipótese para estes dois casos."
      ]
    },
    {
      "cell_type": "markdown",
      "metadata": {
        "id": "m0Gf6EHbmE8M"
      },
      "source": [
        "Vamos utilizar a função do Mannwhitneyu para realizar esse teste. Colocaremos a hipótese nula como a distribuição das notas do IMDb da Netflix serem maiores que a dos IMDb da Disney+.\n",
        "\n",
        "H0 - IMDb - Netflix > IMDb - Disney+\\\n",
        "HA - IMDb - Netflix < IMDb - Disney+ (alternative = 'less')"
      ]
    },
    {
      "cell_type": "code",
      "metadata": {
        "id": "_1FlU0kGmKSh",
        "outputId": "d299f4dc-c788-40fd-a345-e0243140db2f",
        "colab": {
          "base_uri": "https://localhost:8080/",
          "height": 34
        }
      },
      "source": [
        "netflix_rating = plataform_rating[plataform_rating['Platform'] == 'Netflix']\n",
        "disney_rating = plataform_rating[plataform_rating['Platform'] == 'Disney+']\n",
        "stats.mannwhitneyu(netflix_rating['IMDb'], disney_rating['IMDb'], alternative='less')"
      ],
      "execution_count": 81,
      "outputs": [
        {
          "output_type": "execute_result",
          "data": {
            "text/plain": [
              "MannwhitneyuResult(statistic=228203.0, pvalue=0.08698543336883019)"
            ]
          },
          "metadata": {
            "tags": []
          },
          "execution_count": 81
        }
      ]
    },
    {
      "cell_type": "markdown",
      "metadata": {
        "id": "cKw0bYr4sO1p"
      },
      "source": [
        "Como o p-value está próximo do intervalo de confiança, vamos ver se suas notas são parecidos.\n",
        "\n",
        "H0 - IMDb - Netflix == IMDb - Disney+\\\n",
        "HA - IMDb - Netflix != IMDb - Disney+ (alternative = 'two-sided')"
      ]
    },
    {
      "cell_type": "code",
      "metadata": {
        "id": "Wo-b5DaxsOmT",
        "outputId": "623e3920-829a-4706-aae6-f2d2c69a182a",
        "colab": {
          "base_uri": "https://localhost:8080/",
          "height": 34
        }
      },
      "source": [
        "stats.mannwhitneyu(netflix_rating['IMDb'], disney_rating['IMDb'], alternative='two-sided')"
      ],
      "execution_count": 82,
      "outputs": [
        {
          "output_type": "execute_result",
          "data": {
            "text/plain": [
              "MannwhitneyuResult(statistic=228203.0, pvalue=0.17397086673766038)"
            ]
          },
          "metadata": {
            "tags": []
          },
          "execution_count": 82
        }
      ]
    },
    {
      "cell_type": "code",
      "metadata": {
        "id": "FXtBQReLhE3y",
        "outputId": "db0c918c-c870-466c-fd94-bcdfee646c7d",
        "colab": {
          "base_uri": "https://localhost:8080/",
          "height": 282
        }
      },
      "source": [
        "sns.boxplot(data=[netflix_rating['IMDb'], disney_rating['IMDb']])"
      ],
      "execution_count": 83,
      "outputs": [
        {
          "output_type": "execute_result",
          "data": {
            "text/plain": [
              "<matplotlib.axes._subplots.AxesSubplot at 0x7fe89c8d1710>"
            ]
          },
          "metadata": {
            "tags": []
          },
          "execution_count": 83
        },
        {
          "output_type": "display_data",
          "data": {
            "image/png": "[encoded data removed]",
            "text/plain": [
              "<Figure size 432x288 with 1 Axes>"
            ]
          },
          "metadata": {
            "tags": [],
            "needs_background": "light"
          }
        }
      ]
    },
    {
      "cell_type": "markdown",
      "metadata": {
        "id": "5pjsAAkynZXA"
      },
      "source": [
        "Pelo segundo teste de hipósese (two-sided) foi provado que existe uma maior evidência que Netflix e Disney+ possuem notas semelhantes do que Netflix ser maior (primeiro teste de hipotese), logo podemos dizer que Netflix é uma das melhores plataformas pelo IMDb."
      ]
    },
    {
      "cell_type": "markdown",
      "metadata": {
        "id": "7XVxd99no3eI"
      },
      "source": [
        "Agora iremos fazer o mesmo teste entre `Rotten Tomatoes - Neflix` e `Rotten Tomatoes - Hulu`\n",
        "\n",
        "H0 - Rotten Tomatoes - Netflix > Rotten Tomatoes - Hulu\\\n",
        "HA - Rotten Tomatoes - Netflix < Rotten Tomatoes - Hulu (alternative = 'less')"
      ]
    },
    {
      "cell_type": "code",
      "metadata": {
        "id": "gpGmAMPUmsqc",
        "outputId": "871af714-60cd-4c11-f7e1-05a5d3bc0680",
        "colab": {
          "base_uri": "https://localhost:8080/",
          "height": 34
        }
      },
      "source": [
        "hulu_rating = plataform_rating[plataform_rating['Platform'] == 'Hulu']\n",
        "stats.mannwhitneyu(netflix_rating['RottenTomatoes'], hulu_rating['RottenTomatoes'], alternative='less')"
      ],
      "execution_count": 84,
      "outputs": [
        {
          "output_type": "execute_result",
          "data": {
            "text/plain": [
              "MannwhitneyuResult(statistic=433040.5, pvalue=0.35212913725358935)"
            ]
          },
          "metadata": {
            "tags": []
          },
          "execution_count": 84
        }
      ]
    },
    {
      "cell_type": "code",
      "metadata": {
        "id": "7wcJKf18pp_J",
        "outputId": "036df550-295f-4582-be49-da199b802782",
        "colab": {
          "base_uri": "https://localhost:8080/",
          "height": 282
        }
      },
      "source": [
        "sns.boxplot(data=[netflix_rating['RottenTomatoes'], hulu_rating['RottenTomatoes']])"
      ],
      "execution_count": 85,
      "outputs": [
        {
          "output_type": "execute_result",
          "data": {
            "text/plain": [
              "<matplotlib.axes._subplots.AxesSubplot at 0x7fe89b97ada0>"
            ]
          },
          "metadata": {
            "tags": []
          },
          "execution_count": 85
        },
        {
          "output_type": "display_data",
          "data": {
            "image/png": "[encoded data removed]",
            "text/plain": [
              "<Figure size 432x288 with 1 Axes>"
            ]
          },
          "metadata": {
            "tags": [],
            "needs_background": "light"
          }
        }
      ]
    },
    {
      "cell_type": "markdown",
      "metadata": {
        "id": "Xk84wa_wr9E2"
      },
      "source": [
        "Como o p-value foi alto provamos a hipótese nula de que a distribuição de notas da Netflix no Rotten Tomatoes são maiores do que a do Hulu no Rotten Tomatoes."
      ]
    }
  ]
}