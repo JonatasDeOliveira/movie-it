{
  "nbformat": 4,
  "nbformat_minor": 0,
  "metadata": {
    "colab": {
      "name": "MoveIt.ipynb",
      "provenance": [],
      "collapsed_sections": []
    },
    "kernelspec": {
      "name": "python3",
      "display_name": "Python 3"
    }
  },
  "cells": [
    {
      "cell_type": "markdown",
      "metadata": {
        "id": "lFxeRD2gAxEf"
      },
      "source": [
        "### Install PySpark"
      ]
    },
    {
      "cell_type": "code",
      "metadata": {
        "id": "RTdmD5l4BCct",
        "outputId": "87159b81-afad-4e12-cd50-8419f3e74e8e",
        "colab": {
          "base_uri": "https://localhost:8080/",
          "height": 0
        }
      },
      "source": [
        "!pip install pyspark"
      ],
      "execution_count": 1,
      "outputs": [
        {
          "output_type": "stream",
          "text": [
            "Collecting pyspark\n",
            "\u001b[?25l  Downloading https://files.pythonhosted.org/packages/f0/26/198fc8c0b98580f617cb03cb298c6056587b8f0447e20fa40c5b634ced77/pyspark-3.0.1.tar.gz (204.2MB)\n",
            "\u001b[K     |████████████████████████████████| 204.2MB 59kB/s \n",
            "\u001b[?25hCollecting py4j==0.10.9\n",
            "\u001b[?25l  Downloading https://files.pythonhosted.org/packages/9e/b6/6a4fb90cd235dc8e265a6a2067f2a2c99f0d91787f06aca4bcf7c23f3f80/py4j-0.10.9-py2.py3-none-any.whl (198kB)\n",
            "\u001b[K     |████████████████████████████████| 204kB 43.6MB/s \n",
            "\u001b[?25hBuilding wheels for collected packages: pyspark\n",
            "  Building wheel for pyspark (setup.py) ... \u001b[?25l\u001b[?25hdone\n",
            "  Created wheel for pyspark: filename=pyspark-3.0.1-py2.py3-none-any.whl size=204612243 sha256=1933ef2fedd8a02daeaef4822c6b5b891d7de4be11a7f7f484722e89d6eb18c7\n",
            "  Stored in directory: /root/.cache/pip/wheels/5e/bd/07/031766ca628adec8435bb40f0bd83bb676ce65ff4007f8e73f\n",
            "Successfully built pyspark\n",
            "Installing collected packages: py4j, pyspark\n",
            "Successfully installed py4j-0.10.9 pyspark-3.0.1\n"
          ],
          "name": "stdout"
        }
      ]
    },
    {
      "cell_type": "markdown",
      "metadata": {
        "id": "_AcB-QsuAm8K"
      },
      "source": [
        "### Create Spark Context"
      ]
    },
    {
      "cell_type": "code",
      "metadata": {
        "id": "1udOWHIlCvbi"
      },
      "source": [
        "from pyspark import SparkContext\n",
        "from pyspark.sql import Row\n",
        "from pyspark.sql import *\n",
        "from pyspark.sql import SQLContext\n",
        "from pyspark import SparkFiles\n",
        "from pyspark.sql.functions import col"
      ],
      "execution_count": 2,
      "outputs": []
    },
    {
      "cell_type": "code",
      "metadata": {
        "id": "eel4ff5OA6qe"
      },
      "source": [
        "spark = SparkContext.getOrCreate()"
      ],
      "execution_count": 3,
      "outputs": []
    },
    {
      "cell_type": "markdown",
      "metadata": {
        "id": "HWVV98rzl07M"
      },
      "source": [
        "### Load Dataset"
      ]
    },
    {
      "cell_type": "code",
      "metadata": {
        "id": "SoH9WIshDvSJ"
      },
      "source": [
        "spark.addFile('https://raw.githubusercontent.com/JonatasDeOliveira/movie-it/master/data/moviesOnStreamingPlatforms_updated.csv')"
      ],
      "execution_count": 4,
      "outputs": []
    },
    {
      "cell_type": "code",
      "metadata": {
        "id": "aiXf8Wm7BX98"
      },
      "source": [
        "sql_context = SQLContext(spark)\n",
        "movies_df = sql_context.read.csv(SparkFiles.get(\"moviesOnStreamingPlatforms_updated.csv\"), header=True, inferSchema= True)"
      ],
      "execution_count": 6,
      "outputs": []
    },
    {
      "cell_type": "code",
      "metadata": {
        "id": "xt0mKG56EWGI",
        "outputId": "f916113e-fdda-4770-df74-9ed73475d30f",
        "colab": {
          "base_uri": "https://localhost:8080/",
          "height": 0
        }
      },
      "source": [
        "movies_df.show(20, False)"
      ],
      "execution_count": 7,
      "outputs": [
        {
          "output_type": "stream",
          "text": [
            "+---+---+----------------------------------+----+---+----+---------------+-------+----+-----------+-------+----+-------------------------------------------+----------------------------------------+-------------------------------------------+-------------------------------------------+-------+\n",
            "|_c0|ID |Title                             |Year|Age|IMDb|Rotten Tomatoes|Netflix|Hulu|Prime Video|Disney+|Type|Directors                                  |Genres                                  |Country                                    |Language                                   |Runtime|\n",
            "+---+---+----------------------------------+----+---+----+---------------+-------+----+-----------+-------+----+-------------------------------------------+----------------------------------------+-------------------------------------------+-------------------------------------------+-------+\n",
            "|0  |1  |Inception                         |2010|13+|8.8 |87%            |1      |0   |0          |0      |0   |Christopher Nolan                          |Action,Adventure,Sci-Fi,Thriller        |United States,United Kingdom               |English,Japanese,French                    |148    |\n",
            "|1  |2  |The Matrix                        |1999|18+|8.7 |87%            |1      |0   |0          |0      |0   |Lana Wachowski,Lilly Wachowski             |Action,Sci-Fi                           |United States                              |English                                    |136    |\n",
            "|2  |3  |Avengers: Infinity War            |2018|13+|8.5 |84%            |1      |0   |0          |0      |0   |Anthony Russo,Joe Russo                    |Action,Adventure,Sci-Fi                 |United States                              |English                                    |149    |\n",
            "|3  |4  |Back to the Future                |1985|7+ |8.5 |96%            |1      |0   |0          |0      |0   |Robert Zemeckis                            |Adventure,Comedy,Sci-Fi                 |United States                              |English                                    |116    |\n",
            "|4  |5  |The Good, the Bad and the Ugly    |1966|18+|8.8 |97%            |1      |0   |1          |0      |0   |Sergio Leone                               |Western                                 |Italy,Spain,West Germany                   |Italian                                    |161    |\n",
            "|5  |6  |Spider-Man: Into the Spider-Verse |2018|7+ |8.4 |97%            |1      |0   |0          |0      |0   |Bob Persichetti,Peter Ramsey,Rodney Rothman|Animation,Action,Adventure,Family,Sci-Fi|United States                              |English,Spanish                            |117    |\n",
            "|6  |7  |The Pianist                       |2002|18+|8.5 |95%            |1      |0   |1          |0      |0   |Roman Polanski                             |Biography,Drama,Music,War               |United Kingdom,France,Poland,Germany       |English,German,Russian                     |150    |\n",
            "|7  |8  |Django Unchained                  |2012|18+|8.4 |87%            |1      |0   |0          |0      |0   |Quentin Tarantino                          |Drama,Western                           |United States                              |English,German,French,Italian              |165    |\n",
            "|8  |9  |Raiders of the Lost Ark           |1981|7+ |8.4 |95%            |1      |0   |0          |0      |0   |Steven Spielberg                           |Action,Adventure                        |United States                              |English,German,Hebrew,Spanish,Arabic,Nepali|115    |\n",
            "|9  |10 |Inglourious Basterds              |2009|18+|8.3 |89%            |1      |0   |0          |0      |0   |Quentin Tarantino                          |Adventure,Drama,War                     |Germany,United States                      |English,German,French,Italian              |153    |\n",
            "|10 |11 |Taxi Driver                       |1976|18+|8.3 |95%            |1      |0   |0          |0      |0   |Martin Scorsese                            |Crime,Drama                             |United States                              |English,Spanish                            |114    |\n",
            "|11 |12 |3 Idiots                          |2009|13+|8.4 |100%           |1      |0   |1          |0      |0   |Rajkumar Hirani                            |Comedy,Drama                            |India                                      |Hindi,English                              |170    |\n",
            "|12 |13 |Pan's Labyrinth                   |2006|18+|8.2 |95%            |1      |0   |0          |0      |0   |Guillermo del Toro                         |Drama,Fantasy,War                       |Mexico,Spain                               |Spanish                                    |118    |\n",
            "|13 |14 |Room                              |2015|18+|8.1 |93%            |1      |0   |0          |0      |0   |Lenny Abrahamson                           |Drama,Thriller                          |Ireland,Canada,United Kingdom,United States|English                                    |118    |\n",
            "|14 |15 |Monty Python and the Holy Grail   |1975|7+ |8.2 |97%            |1      |0   |0          |0      |0   |Terry Gilliam,Terry Jones                  |Adventure,Comedy,Fantasy                |United Kingdom                             |English,French,Latin                       |91     |\n",
            "|15 |16 |Once Upon a Time in the West      |1968|13+|8.5 |95%            |1      |0   |1          |0      |0   |Sergio Leone                               |Western                                 |Italy,United States                        |Italian,English,Spanish                    |165    |\n",
            "|16 |17 |Indiana Jones and the Last Crusade|1989|13+|8.2 |88%            |1      |0   |0          |0      |0   |Steven Spielberg                           |Action,Adventure                        |United States                              |English,German,Greek,Arabic                |127    |\n",
            "|17 |18 |Groundhog Day                     |1993|7+ |8.0 |96%            |1      |0   |0          |0      |0   |Harold Ramis                               |Comedy,Fantasy,Romance                  |United States                              |English,French,Italian                     |101    |\n",
            "|18 |19 |The King's Speech                 |2010|18+|8.0 |95%            |1      |0   |0          |0      |0   |Tom Hooper                                 |Biography,Drama,History                 |United Kingdom,United States,Australia     |English                                    |118    |\n",
            "|19 |20 |Her                               |2013|18+|8.0 |95%            |1      |0   |0          |0      |0   |Spike Jonze                                |Drama,Romance,Sci-Fi                    |United States                              |English                                    |126    |\n",
            "+---+---+----------------------------------+----+---+----+---------------+-------+----+-----------+-------+----+-------------------------------------------+----------------------------------------+-------------------------------------------+-------------------------------------------+-------+\n",
            "only showing top 20 rows\n",
            "\n"
          ],
          "name": "stdout"
        }
      ]
    },
    {
      "cell_type": "code",
      "metadata": {
        "id": "8vDqAMflSdCA",
        "outputId": "d4c9fd87-6a1b-40ee-db07-c8f845db9237",
        "colab": {
          "base_uri": "https://localhost:8080/",
          "height": 0
        }
      },
      "source": [
        "movies_df.toPandas().isna().sum()"
      ],
      "execution_count": 8,
      "outputs": [
        {
          "output_type": "execute_result",
          "data": {
            "text/plain": [
              "_c0                    0\n",
              "ID                     0\n",
              "Title                  0\n",
              "Year                   0\n",
              "Age                 9389\n",
              "IMDb                 571\n",
              "Rotten Tomatoes    11586\n",
              "Netflix                1\n",
              "Hulu                   0\n",
              "Prime Video            0\n",
              "Disney+                0\n",
              "Type                   0\n",
              "Directors            725\n",
              "Genres               275\n",
              "Country              435\n",
              "Language             599\n",
              "Runtime              592\n",
              "dtype: int64"
            ]
          },
          "metadata": {
            "tags": []
          },
          "execution_count": 8
        }
      ]
    },
    {
      "cell_type": "markdown",
      "metadata": {
        "id": "33e7JpIHmFl9"
      },
      "source": [
        "### Pre Processing Dataset "
      ]
    },
    {
      "cell_type": "code",
      "metadata": {
        "id": "P0RBQqh8SCsk",
        "outputId": "3a9a998b-113d-4f41-aa45-ff06867c340f",
        "colab": {
          "base_uri": "https://localhost:8080/",
          "height": 0
        }
      },
      "source": [
        "movies_df.printSchema()"
      ],
      "execution_count": 9,
      "outputs": [
        {
          "output_type": "stream",
          "text": [
            "root\n",
            " |-- _c0: integer (nullable = true)\n",
            " |-- ID: integer (nullable = true)\n",
            " |-- Title: string (nullable = true)\n",
            " |-- Year: string (nullable = true)\n",
            " |-- Age: string (nullable = true)\n",
            " |-- IMDb: double (nullable = true)\n",
            " |-- Rotten Tomatoes: string (nullable = true)\n",
            " |-- Netflix: integer (nullable = true)\n",
            " |-- Hulu: integer (nullable = true)\n",
            " |-- Prime Video: integer (nullable = true)\n",
            " |-- Disney+: integer (nullable = true)\n",
            " |-- Type: integer (nullable = true)\n",
            " |-- Directors: string (nullable = true)\n",
            " |-- Genres: string (nullable = true)\n",
            " |-- Country: string (nullable = true)\n",
            " |-- Language: string (nullable = true)\n",
            " |-- Runtime: integer (nullable = true)\n",
            "\n"
          ],
          "name": "stdout"
        }
      ]
    },
    {
      "cell_type": "markdown",
      "metadata": {
        "id": "QJhDiA6HQU46"
      },
      "source": [
        "Pontos notados:\n",
        "\n",
        "- Primeiramente, percebemos que temos duas colunas com \"ids\". Como pegamos esses dados do kaggle possivelmente esta primeira coluna não é necessária.\n",
        "- Há uma coluna Type que possui somente valores iguais a 0. Procuramos entender o que seria mas não encontramos, vamos dropar essa coluna.\n",
        "- Outra observação é que as colunas Directors, Genres, Country e Language são listas e estão como strings devemos processar também as mesmas.\n",
        "- Colunas Age e Year estão como string, devem ser transformadas para integer."
      ]
    },
    {
      "cell_type": "code",
      "metadata": {
        "id": "KgTaLR7rH99C"
      },
      "source": [
        "from pyspark.sql.functions import split"
      ],
      "execution_count": 10,
      "outputs": []
    },
    {
      "cell_type": "code",
      "metadata": {
        "id": "DOn1LPu2ePtP"
      },
      "source": [
        "movies_df_drop_c0 = movies_df.drop('_c0')"
      ],
      "execution_count": 11,
      "outputs": []
    },
    {
      "cell_type": "code",
      "metadata": {
        "id": "V6o3brYnqdXK"
      },
      "source": [
        "movies_df_drop_type = movies_df_drop_c0.drop('Type')"
      ],
      "execution_count": 12,
      "outputs": []
    },
    {
      "cell_type": "code",
      "metadata": {
        "id": "2ymxnLPZIEWk"
      },
      "source": [
        "movies_df_split = (movies_df_drop_type.withColumn('DirectorsArray', split('Directors', ','))\n",
        ".withColumn('GenresArray', split('Genres', ','))\n",
        ".withColumn('CountriesArray', split('Country', ','))\n",
        ".withColumn('LanguagesArray', split('Language', ','))\n",
        ".drop('Directors')\n",
        ".drop('Genres')\n",
        ".drop('Country')\n",
        ".drop('Language'))"
      ],
      "execution_count": 13,
      "outputs": []
    },
    {
      "cell_type": "code",
      "metadata": {
        "id": "XbdrU1-VeGOI",
        "outputId": "5c4cc87d-c976-40c3-bd2a-8248129cf230",
        "colab": {
          "base_uri": "https://localhost:8080/",
          "height": 0
        }
      },
      "source": [
        "# checando se todas as idades seguem o regex [0-9]+\\+\n",
        "df_filtered_age_pattern = movies_df_split.filter(col('Age').rlike('[0-9]+\\+'))\n",
        "df_filtered_age_pattern.count() == movies_df_split.count()"
      ],
      "execution_count": 14,
      "outputs": [
        {
          "output_type": "execute_result",
          "data": {
            "text/plain": [
              "False"
            ]
          },
          "metadata": {
            "tags": []
          },
          "execution_count": 14
        }
      ]
    },
    {
      "cell_type": "code",
      "metadata": {
        "id": "2Hv27tusnUie",
        "outputId": "6e61db69-fc7a-4b36-bb27-475edfd5d674",
        "colab": {
          "base_uri": "https://localhost:8080/",
          "height": 0
        }
      },
      "source": [
        "# verificar idades que não seguem o padrão\n",
        "df_filtered_not_age_pattern = movies_df_split.filter(~col('Age').rlike('[0-9]+\\+'))\n",
        "df_filtered_not_age_pattern.show(5, False)"
      ],
      "execution_count": 15,
      "outputs": [
        {
          "output_type": "stream",
          "text": [
            "+---+-----------------------------------+----+---+----+---------------+-------+----+-----------+-------+-------+---------------------------+-----------------------------------------------------------------+----------------------------------------------------+----------------------------------+\n",
            "|ID |Title                              |Year|Age|IMDb|Rotten Tomatoes|Netflix|Hulu|Prime Video|Disney+|Runtime|DirectorsArray             |GenresArray                                                      |CountriesArray                                      |LanguagesArray                    |\n",
            "+---+-----------------------------------+----+---+----+---------------+-------+----+-----------+-------+-------+---------------------------+-----------------------------------------------------------------+----------------------------------------------------+----------------------------------+\n",
            "|55 |Willy Wonka & the Chocolate Factory|1971|all|7.8 |91%            |1      |0   |0          |0      |100    |[Mel Stuart]               |[Family, Fantasy, Musical]                                       |[United States, East Germany, West Germany, Belgium]|[English, French, German, Italian]|\n",
            "|92 |Tarzan                             |1999|all|7.3 |89%            |1      |0   |0          |0      |110    |[David Yates]              |[Action, Adventure, Drama, Fantasy, Romance]                     |[United Kingdom, Canada, United States]             |[English, Lingala, French]        |\n",
            "|126|The Princess and the Frog          |2009|all|7.1 |85%            |1      |0   |0          |1      |97     |[Ron Clements, John Musker]|[Animation, Adventure, Comedy, Family, Fantasy, Musical, Romance]|[United States]                                     |[English, French]                 |\n",
            "|134|Barfi!                             |2012|all|8.1 |86%            |1      |0   |0          |0      |151    |[Anurag Basu]              |[Comedy, Drama, Romance]                                         |[India]                                             |[Hindi]                           |\n",
            "|152|Swades                             |2004|all|8.2 |83%            |1      |0   |0          |0      |210    |[Ashutosh Gowariker]       |[Drama]                                                          |[India]                                             |[Hindi, English]                  |\n",
            "+---+-----------------------------------+----+---+----+---------------+-------+----+-----------+-------+-------+---------------------------+-----------------------------------------------------------------+----------------------------------------------------+----------------------------------+\n",
            "only showing top 5 rows\n",
            "\n"
          ],
          "name": "stdout"
        }
      ]
    },
    {
      "cell_type": "code",
      "metadata": {
        "id": "fhvJGi9uoqx7",
        "outputId": "175d194a-fb02-4abf-faf4-533203ffcf50",
        "colab": {
          "base_uri": "https://localhost:8080/",
          "height": 0
        }
      },
      "source": [
        "# verficar que o padrão de idade em regex [0-9]+\\+ unido a o padrão com 'all' contemplam todo o dataframe\n",
        "df_filtered_pattern_all = movies_df_split.filter(col('Age').rlike('[0-9]+\\+') | (col('Age') == 'all'))\n",
        "movies_df_split.count() == df_filtered_pattern_all.count()"
      ],
      "execution_count": 16,
      "outputs": [
        {
          "output_type": "execute_result",
          "data": {
            "text/plain": [
              "False"
            ]
          },
          "metadata": {
            "tags": []
          },
          "execution_count": 16
        }
      ]
    },
    {
      "cell_type": "code",
      "metadata": {
        "id": "fGTUiTjXpwtv",
        "outputId": "ce3d1bc9-f8e3-48ec-b6eb-bfdc1d656eac",
        "colab": {
          "base_uri": "https://localhost:8080/",
          "height": 0
        }
      },
      "source": [
        "df_filtered_not_pattern_all = movies_df_split.filter(~(col('Age').rlike('[0-9]+\\+') | (col('Age') == 'all')))\n",
        "df_filtered_not_pattern_all.show(5, False)"
      ],
      "execution_count": 17,
      "outputs": [
        {
          "output_type": "stream",
          "text": [
            "+-----+-----------------------------+-------------------------+----+----+---------------+-------+----+-----------+-------+-------+--------------+-----------+--------------+--------------+\n",
            "|ID   |Title                        |Year                     |Age |IMDb|Rotten Tomatoes|Netflix|Hulu|Prime Video|Disney+|Runtime|DirectorsArray|GenresArray|CountriesArray|LanguagesArray|\n",
            "+-----+-----------------------------+-------------------------+----+----+---------------+-------+----+-----------+-------+-------+--------------+-----------+--------------+--------------+\n",
            "|15902|\"\"\"22\"\" A film about Veterans| Healthcare and Suicide.\"|2018|null|null           |null   |0   |0          |1      |null   |[0]           |null       |null          |null          |\n",
            "+-----+-----------------------------+-------------------------+----+----+---------------+-------+----+-----------+-------+-------+--------------+-----------+--------------+--------------+\n",
            "\n"
          ],
          "name": "stdout"
        }
      ]
    },
    {
      "cell_type": "markdown",
      "metadata": {
        "id": "D-Fe1vDxqYzC"
      },
      "source": [
        "Claramente a linha apresentada acima é um erro pois a idade está como um ano, o ano está como um texto e a maioria das outras colunas estão vazias, vamos remover essa linha."
      ]
    },
    {
      "cell_type": "code",
      "metadata": {
        "id": "79g8jIPdra00"
      },
      "source": [
        "movies_df_filtered_age = movies_df_split.where(col('ID') != 15902)"
      ],
      "execution_count": 18,
      "outputs": []
    },
    {
      "cell_type": "markdown",
      "metadata": {
        "id": "DP1WVvJPrwvu"
      },
      "source": [
        "Agora vamos processar Age para aparecer como um inteiro em todo dataframe. A idade (Age) possui dois formatos, a idade mínima pra assistir o filme acompanhada de um caracter '+' ou o texto escrito 'all'. Iremos seguir os seguintes passos:\n",
        "- remover o caracter '+' das idades mínimas;\n",
        "- tranformar todas linha com o valor 'all' para 0;\n",
        "- transformar para um inteiro renomeando a coluna para MinimumAge;"
      ]
    },
    {
      "cell_type": "code",
      "metadata": {
        "id": "3WhJu56-UouO",
        "outputId": "c51f9541-6b51-4bc4-8c8b-186ea595001a",
        "colab": {
          "base_uri": "https://localhost:8080/",
          "height": 0
        }
      },
      "source": [
        "movies_df_filtered_age.where(col('Age').isNull()).show()"
      ],
      "execution_count": 19,
      "outputs": [
        {
          "output_type": "stream",
          "text": [
            "+---+--------------------+----+----+----+---------------+-------+----+-----------+-------+-------+--------------------+--------------------+--------------------+--------------------+\n",
            "| ID|               Title|Year| Age|IMDb|Rotten Tomatoes|Netflix|Hulu|Prime Video|Disney+|Runtime|      DirectorsArray|         GenresArray|      CountriesArray|      LanguagesArray|\n",
            "+---+--------------------+----+----+----+---------------+-------+----+-----------+-------+-------+--------------------+--------------------+--------------------+--------------------+\n",
            "| 33|      Train to Busan|2016|null| 7.5|            94%|      1|   0|          1|      0|    118|      [Sang-ho Yeon]|[Action, Horror, ...|       [South Korea]|  [Korean, Hawaiian]|\n",
            "| 58|      A Silent Voice|2016|null| 8.2|            94%|      1|   0|          0|      0|    130|      [Naoko Yamada]|[Animation, Drama...|             [Japan]|[Japanese, Japane...|\n",
            "| 90|       The Dawn Wall|2018|null| 8.1|           100%|      1|   0|          0|      0|    100|[Josh Lowell, Pet...|[Documentary, Bio...|[Austria, United ...|           [English]|\n",
            "|111|Black Mirror: Ban...|2018|null| 7.2|            92%|      1|   0|          0|      0|     90|       [David Slade]|[Drama, Mystery, ...|[United States, U...|           [English]|\n",
            "|124|Neon Genesis Evan...|1997|null| 8.1|            88%|      1|   0|          0|      0|     87|[Hideaki Anno, Ka...|[Animation, Actio...|             [Japan]|          [Japanese]|\n",
            "|149|          The Square|2013|null| 8.1|           100%|      1|   1|          1|      0|    151|     [Ruben Östlund]|     [Comedy, Drama]|[Sweden, Germany,...|[Swedish, English...|\n",
            "|165|             Virunga|2014|null| 8.2|           100%|      1|   0|          0|      0|    100|[Orlando von Eins...|  [Documentary, War]|[United Kingdom, ...|[English, French,...|\n",
            "|172|          Article 15|2019|null| 8.3|            89%|      1|   0|          0|      0|    130|     [Anubhav Sinha]|[Crime, Drama, My...|             [India]|             [Hindi]|\n",
            "|178|Hannah Gadsby: Na...|2018|null| 8.2|           100%|      1|   0|          0|      0|     69|[Jon Olb, Madelei...|[Documentary, Com...|         [Australia]|           [English]|\n",
            "|184|Winter on Fire: U...|2015|null| 8.4|            88%|      1|   0|          0|      0|    102| [Evgeny Afineevsky]|       [Documentary]|[United Kingdom, ...|[Ukrainian, Russi...|\n",
            "|189|      The Invitation|2015|null| 6.6|            88%|      1|   0|          1|      0|    100|      [Karyn Kusama]|[Drama, Mystery, ...|     [United States]|           [English]|\n",
            "|193|    On Body and Soul|2017|null| 7.6|            89%|      1|   0|          0|      0|    116|     [Ildikó Enyedi]|[Drama, Fantasy, ...|           [Hungary]|         [Hungarian]|\n",
            "|204|              Sairat|2016|null| 8.3|           100%|      1|   0|          0|      0|    174|    [Nagraj Manjule]|    [Drama, Romance]|             [India]|           [Marathi]|\n",
            "|216| The Young Offenders|2016|null| 7.1|           100%|      1|   0|          0|      0|     30|                null|            [Comedy]|[United Kingdom, ...|           [English]|\n",
            "|221|The Guernsey Lite...|2018|null| 7.4|            81%|      1|   0|          0|      0|    124|       [Mike Newell]|[Drama, Romance, ...|[United Kingdom, ...|[English, German,...|\n",
            "|223|         The Endless|2018|null| 6.5|            94%|      1|   0|          0|      0|    111|[Justin Benson, A...|[Drama, Fantasy, ...|     [United States]|           [English]|\n",
            "|225|   The Game Changers|2019|null| 7.9|            70%|      1|   0|          0|      0|    108|    [Louie Psihoyos]|       [Documentary]|     [United States]|           [English]|\n",
            "|231|      The Fear of 13|2015|null| 7.7|            94%|      1|   0|          0|      0|     96|     [David Sington]|[Documentary, Cri...|    [United Kingdom]|           [English]|\n",
            "|236|              Code 8|2019|null| 6.1|            79%|      1|   0|          0|      0|     98|         [Jeff Chan]|[Action, Crime, D...|            [Canada]|           [English]|\n",
            "|239|The Distinguished...|2016|null| 7.5|           100%|      1|   0|          0|      0|    118|[Gastón Duprat, M...|     [Comedy, Drama]|  [Argentina, Spain]|           [Spanish]|\n",
            "+---+--------------------+----+----+----+---------------+-------+----+-----------+-------+-------+--------------------+--------------------+--------------------+--------------------+\n",
            "only showing top 20 rows\n",
            "\n"
          ],
          "name": "stdout"
        }
      ]
    },
    {
      "cell_type": "code",
      "metadata": {
        "id": "T_cXQa3LQgxk"
      },
      "source": [
        "from pyspark.sql.functions import translate\n",
        "from pyspark.sql.types import IntegerType\n",
        "from pyspark.sql.functions import udf\n",
        "\n",
        "def transform_all_age_value(age):\n",
        "  if age == 'all':\n",
        "    return 0\n",
        "  if age is None:\n",
        "    return -1\n",
        "  return int(age)\n",
        "\n",
        "transformAllAgeValue = udf(lambda x: transform_all_age_value(x), IntegerType())\n",
        "\n",
        "movies_df_age_processed = movies_df_filtered_age.withColumn(\"Age\", translate('Age', '+', ''))\n",
        "movies_df_classification = movies_df_age_processed.withColumn(\"MinimumClassification\", transformAllAgeValue(col('Age'))).drop('Age')"
      ],
      "execution_count": 20,
      "outputs": []
    },
    {
      "cell_type": "markdown",
      "metadata": {
        "id": "uA2cBFSGhCEi"
      },
      "source": [
        "Note que existe idade indicativa nula, setamos esses valores como -1."
      ]
    },
    {
      "cell_type": "code",
      "metadata": {
        "id": "qDhJr90zgyAv",
        "outputId": "a32ef61e-0122-44c3-ccd3-afc9724eba6e",
        "colab": {
          "base_uri": "https://localhost:8080/",
          "height": 0
        }
      },
      "source": [
        "movies_df_classification.printSchema()"
      ],
      "execution_count": 21,
      "outputs": [
        {
          "output_type": "stream",
          "text": [
            "root\n",
            " |-- ID: integer (nullable = true)\n",
            " |-- Title: string (nullable = true)\n",
            " |-- Year: string (nullable = true)\n",
            " |-- IMDb: double (nullable = true)\n",
            " |-- Rotten Tomatoes: string (nullable = true)\n",
            " |-- Netflix: integer (nullable = true)\n",
            " |-- Hulu: integer (nullable = true)\n",
            " |-- Prime Video: integer (nullable = true)\n",
            " |-- Disney+: integer (nullable = true)\n",
            " |-- Runtime: integer (nullable = true)\n",
            " |-- DirectorsArray: array (nullable = true)\n",
            " |    |-- element: string (containsNull = true)\n",
            " |-- GenresArray: array (nullable = true)\n",
            " |    |-- element: string (containsNull = true)\n",
            " |-- CountriesArray: array (nullable = true)\n",
            " |    |-- element: string (containsNull = true)\n",
            " |-- LanguagesArray: array (nullable = true)\n",
            " |    |-- element: string (containsNull = true)\n",
            " |-- MinimumClassification: integer (nullable = true)\n",
            "\n"
          ],
          "name": "stdout"
        }
      ]
    },
    {
      "cell_type": "markdown",
      "metadata": {
        "id": "H3yQHisWq3gv"
      },
      "source": [
        "Analisando o schema novamente, podemos ver que assim como o campo Age, o campo Year deveria estar como Integer, vamos arrumar isso."
      ]
    },
    {
      "cell_type": "code",
      "metadata": {
        "id": "lxIsJc9orTRT"
      },
      "source": [
        "movies_df_year_processed = movies_df_classification.withColumn(\"Year\", col(\"Year\").cast(IntegerType()))"
      ],
      "execution_count": 22,
      "outputs": []
    },
    {
      "cell_type": "code",
      "metadata": {
        "id": "i4lPBLH8WxkP",
        "outputId": "5caecef4-b988-447f-be73-95544a5c86e8",
        "colab": {
          "base_uri": "https://localhost:8080/",
          "height": 0
        }
      },
      "source": [
        "movies_df_year_processed.printSchema()"
      ],
      "execution_count": 23,
      "outputs": [
        {
          "output_type": "stream",
          "text": [
            "root\n",
            " |-- ID: integer (nullable = true)\n",
            " |-- Title: string (nullable = true)\n",
            " |-- Year: integer (nullable = true)\n",
            " |-- IMDb: double (nullable = true)\n",
            " |-- Rotten Tomatoes: string (nullable = true)\n",
            " |-- Netflix: integer (nullable = true)\n",
            " |-- Hulu: integer (nullable = true)\n",
            " |-- Prime Video: integer (nullable = true)\n",
            " |-- Disney+: integer (nullable = true)\n",
            " |-- Runtime: integer (nullable = true)\n",
            " |-- DirectorsArray: array (nullable = true)\n",
            " |    |-- element: string (containsNull = true)\n",
            " |-- GenresArray: array (nullable = true)\n",
            " |    |-- element: string (containsNull = true)\n",
            " |-- CountriesArray: array (nullable = true)\n",
            " |    |-- element: string (containsNull = true)\n",
            " |-- LanguagesArray: array (nullable = true)\n",
            " |    |-- element: string (containsNull = true)\n",
            " |-- MinimumClassification: integer (nullable = true)\n",
            "\n"
          ],
          "name": "stdout"
        }
      ]
    },
    {
      "cell_type": "markdown",
      "metadata": {
        "id": "qkqjcZhtic65"
      },
      "source": [
        "Agora precisamos modificar a coluna Rotten Tomatoes para ser um integer."
      ]
    },
    {
      "cell_type": "code",
      "metadata": {
        "id": "hxNEA6ySibsD"
      },
      "source": [
        "movies_df_rotten_char = movies_df_year_processed.withColumn(\"RottenTomatoes\", translate('Rotten Tomatoes', '%', '')).drop('Rotten Tomatoes')\n",
        "movies_df_rotten_int = movies_df_rotten_char.withColumn(\"RottenTomatoes\", col(\"RottenTomatoes\").cast(IntegerType()))\n",
        "movies_df_padronized_rotten = movies_df_rotten_int.withColumn(\"RottenTomatoes\", col(\"RottenTomatoes\") / 10)"
      ],
      "execution_count": 24,
      "outputs": []
    },
    {
      "cell_type": "code",
      "metadata": {
        "id": "FBFkcESjkn5z",
        "outputId": "0db9ecbb-17a9-42e9-99c1-ae50f4912254",
        "colab": {
          "base_uri": "https://localhost:8080/",
          "height": 0
        }
      },
      "source": [
        "movies_df_padronized_rotten.printSchema()"
      ],
      "execution_count": 25,
      "outputs": [
        {
          "output_type": "stream",
          "text": [
            "root\n",
            " |-- ID: integer (nullable = true)\n",
            " |-- Title: string (nullable = true)\n",
            " |-- Year: integer (nullable = true)\n",
            " |-- IMDb: double (nullable = true)\n",
            " |-- Netflix: integer (nullable = true)\n",
            " |-- Hulu: integer (nullable = true)\n",
            " |-- Prime Video: integer (nullable = true)\n",
            " |-- Disney+: integer (nullable = true)\n",
            " |-- Runtime: integer (nullable = true)\n",
            " |-- DirectorsArray: array (nullable = true)\n",
            " |    |-- element: string (containsNull = true)\n",
            " |-- GenresArray: array (nullable = true)\n",
            " |    |-- element: string (containsNull = true)\n",
            " |-- CountriesArray: array (nullable = true)\n",
            " |    |-- element: string (containsNull = true)\n",
            " |-- LanguagesArray: array (nullable = true)\n",
            " |    |-- element: string (containsNull = true)\n",
            " |-- MinimumClassification: integer (nullable = true)\n",
            " |-- RottenTomatoes: double (nullable = true)\n",
            "\n"
          ],
          "name": "stdout"
        }
      ]
    },
    {
      "cell_type": "code",
      "metadata": {
        "id": "Hi2LBBtDn0OG"
      },
      "source": [
        "movies_df_processed = movies_df_padronized_rotten"
      ],
      "execution_count": 26,
      "outputs": []
    },
    {
      "cell_type": "code",
      "metadata": {
        "id": "YRHRwt1Wfw2F"
      },
      "source": [
        "from pyspark.sql.functions import explode\n",
        "\n",
        "movie_director_df = movies_df_processed.select('ID', 'DirectorsArray').withColumn('Director', explode(col('DirectorsArray'))).select('ID', 'Director')\n",
        "movie_genre_df = movies_df_processed.select('ID', 'GenresArray').withColumn('Genre', explode(col('GenresArray'))).select('ID', 'Genre')\n",
        "movie_country_df = movies_df_processed.select('ID', 'CountriesArray').withColumn('Country', explode(col('CountriesArray'))).select('ID', 'Country')\n",
        "movie_language_df = movies_df_processed.select('ID', 'LanguagesArray').withColumn('Language', explode(col('LanguagesArray'))).select('ID', 'Language')"
      ],
      "execution_count": 27,
      "outputs": []
    },
    {
      "cell_type": "markdown",
      "metadata": {
        "id": "zjph0XghngZJ"
      },
      "source": [
        "### Removing Outliers "
      ]
    },
    {
      "cell_type": "code",
      "metadata": {
        "id": "qxkUiVwlkg-k"
      },
      "source": [
        "movies_df_pd = movies_df_processed.toPandas()"
      ],
      "execution_count": 28,
      "outputs": []
    },
    {
      "cell_type": "code",
      "metadata": {
        "id": "xNLqsM3aaaD0",
        "outputId": "df41ebc8-0d14-42d9-eab4-0bc76f66e00f",
        "colab": {
          "base_uri": "https://localhost:8080/",
          "height": 314
        }
      },
      "source": [
        "movies_df_pd.describe()"
      ],
      "execution_count": 29,
      "outputs": [
        {
          "output_type": "execute_result",
          "data": {
            "text/html": [
              "<div>\n",
              "<style scoped>\n",
              "    .dataframe tbody tr th:only-of-type {\n",
              "        vertical-align: middle;\n",
              "    }\n",
              "\n",
              "    .dataframe tbody tr th {\n",
              "        vertical-align: top;\n",
              "    }\n",
              "\n",
              "    .dataframe thead th {\n",
              "        text-align: right;\n",
              "    }\n",
              "</style>\n",
              "<table border=\"1\" class=\"dataframe\">\n",
              "  <thead>\n",
              "    <tr style=\"text-align: right;\">\n",
              "      <th></th>\n",
              "      <th>ID</th>\n",
              "      <th>Year</th>\n",
              "      <th>IMDb</th>\n",
              "      <th>Netflix</th>\n",
              "      <th>Hulu</th>\n",
              "      <th>Prime Video</th>\n",
              "      <th>Disney+</th>\n",
              "      <th>Runtime</th>\n",
              "      <th>MinimumClassification</th>\n",
              "      <th>RottenTomatoes</th>\n",
              "    </tr>\n",
              "  </thead>\n",
              "  <tbody>\n",
              "    <tr>\n",
              "      <th>count</th>\n",
              "      <td>16743.000000</td>\n",
              "      <td>16743.000000</td>\n",
              "      <td>16173.000000</td>\n",
              "      <td>16743.000000</td>\n",
              "      <td>16743.000000</td>\n",
              "      <td>16743.000000</td>\n",
              "      <td>16743.000000</td>\n",
              "      <td>16152.000000</td>\n",
              "      <td>16743.000000</td>\n",
              "      <td>5158.000000</td>\n",
              "    </tr>\n",
              "    <tr>\n",
              "      <th>mean</th>\n",
              "      <td>8372.050290</td>\n",
              "      <td>2003.013140</td>\n",
              "      <td>5.902751</td>\n",
              "      <td>0.212626</td>\n",
              "      <td>0.053933</td>\n",
              "      <td>0.737801</td>\n",
              "      <td>0.033686</td>\n",
              "      <td>93.413447</td>\n",
              "      <td>5.065520</td>\n",
              "      <td>6.542846</td>\n",
              "    </tr>\n",
              "    <tr>\n",
              "      <th>std</th>\n",
              "      <td>4833.514844</td>\n",
              "      <td>20.674614</td>\n",
              "      <td>1.347867</td>\n",
              "      <td>0.409178</td>\n",
              "      <td>0.225892</td>\n",
              "      <td>0.439843</td>\n",
              "      <td>0.180424</td>\n",
              "      <td>28.219222</td>\n",
              "      <td>7.998182</td>\n",
              "      <td>2.661450</td>\n",
              "    </tr>\n",
              "    <tr>\n",
              "      <th>min</th>\n",
              "      <td>1.000000</td>\n",
              "      <td>1902.000000</td>\n",
              "      <td>0.000000</td>\n",
              "      <td>0.000000</td>\n",
              "      <td>0.000000</td>\n",
              "      <td>0.000000</td>\n",
              "      <td>0.000000</td>\n",
              "      <td>1.000000</td>\n",
              "      <td>-1.000000</td>\n",
              "      <td>0.200000</td>\n",
              "    </tr>\n",
              "    <tr>\n",
              "      <th>25%</th>\n",
              "      <td>4186.500000</td>\n",
              "      <td>2000.000000</td>\n",
              "      <td>5.100000</td>\n",
              "      <td>0.000000</td>\n",
              "      <td>0.000000</td>\n",
              "      <td>0.000000</td>\n",
              "      <td>0.000000</td>\n",
              "      <td>82.000000</td>\n",
              "      <td>-1.000000</td>\n",
              "      <td>4.400000</td>\n",
              "    </tr>\n",
              "    <tr>\n",
              "      <th>50%</th>\n",
              "      <td>8372.000000</td>\n",
              "      <td>2012.000000</td>\n",
              "      <td>6.100000</td>\n",
              "      <td>0.000000</td>\n",
              "      <td>0.000000</td>\n",
              "      <td>1.000000</td>\n",
              "      <td>0.000000</td>\n",
              "      <td>92.000000</td>\n",
              "      <td>-1.000000</td>\n",
              "      <td>7.100000</td>\n",
              "    </tr>\n",
              "    <tr>\n",
              "      <th>75%</th>\n",
              "      <td>12557.500000</td>\n",
              "      <td>2016.000000</td>\n",
              "      <td>6.900000</td>\n",
              "      <td>0.000000</td>\n",
              "      <td>0.000000</td>\n",
              "      <td>1.000000</td>\n",
              "      <td>0.000000</td>\n",
              "      <td>104.000000</td>\n",
              "      <td>13.000000</td>\n",
              "      <td>8.800000</td>\n",
              "    </tr>\n",
              "    <tr>\n",
              "      <th>max</th>\n",
              "      <td>16744.000000</td>\n",
              "      <td>2020.000000</td>\n",
              "      <td>9.300000</td>\n",
              "      <td>1.000000</td>\n",
              "      <td>1.000000</td>\n",
              "      <td>1.000000</td>\n",
              "      <td>1.000000</td>\n",
              "      <td>1256.000000</td>\n",
              "      <td>18.000000</td>\n",
              "      <td>10.000000</td>\n",
              "    </tr>\n",
              "  </tbody>\n",
              "</table>\n",
              "</div>"
            ],
            "text/plain": [
              "                 ID          Year  ...  MinimumClassification  RottenTomatoes\n",
              "count  16743.000000  16743.000000  ...           16743.000000     5158.000000\n",
              "mean    8372.050290   2003.013140  ...               5.065520        6.542846\n",
              "std     4833.514844     20.674614  ...               7.998182        2.661450\n",
              "min        1.000000   1902.000000  ...              -1.000000        0.200000\n",
              "25%     4186.500000   2000.000000  ...              -1.000000        4.400000\n",
              "50%     8372.000000   2012.000000  ...              -1.000000        7.100000\n",
              "75%    12557.500000   2016.000000  ...              13.000000        8.800000\n",
              "max    16744.000000   2020.000000  ...              18.000000       10.000000\n",
              "\n",
              "[8 rows x 10 columns]"
            ]
          },
          "metadata": {
            "tags": []
          },
          "execution_count": 29
        }
      ]
    },
    {
      "cell_type": "markdown",
      "metadata": {
        "id": "N5yRCcjwbO6f"
      },
      "source": [
        "#### Univariado"
      ]
    },
    {
      "cell_type": "markdown",
      "metadata": {
        "id": "g43oozGTaLN-"
      },
      "source": [
        "Percebemos que as métricas do runtime estão um pouco estranhas o mínimo e o máximo estão muito distantes dos valores dos quartis, isso pode indicar que existem outliers. Analisando os quartis as durações dos filmes possuem valores esperados devido ao nosso conhecimento do problema (filmes), porém os mínimos e máximo tem valores muito díspares, o que indica que há outliers no dataset.\n",
        "\n",
        "Vamos visualizar o runtime em forma de gráfico."
      ]
    },
    {
      "cell_type": "code",
      "metadata": {
        "id": "eL8d5n_JcTmd",
        "outputId": "a8b393dc-2d9b-4545-fff9-af835586d52a",
        "colab": {
          "base_uri": "https://localhost:8080/",
          "height": 0
        }
      },
      "source": [
        "movies_df_pd['Runtime'].hist()"
      ],
      "execution_count": 30,
      "outputs": [
        {
          "output_type": "execute_result",
          "data": {
            "text/plain": [
              "<matplotlib.axes._subplots.AxesSubplot at 0x7fd7f68b1a20>"
            ]
          },
          "metadata": {
            "tags": []
          },
          "execution_count": 30
        },
        {
          "output_type": "display_data",
          "data": {
            "image/png": "[encoded data removed]",
            "text/plain": [
              "<Figure size 432x288 with 1 Axes>"
            ]
          },
          "metadata": {
            "tags": [],
            "needs_background": "light"
          }
        }
      ]
    },
    {
      "cell_type": "markdown",
      "metadata": {
        "id": "5vlKihS_cjQt"
      },
      "source": [
        "A distribuição de runtime dos filmes ficou ruim de ser visualizada no histograma possivelmente por causa de outliers. Iremos utiliza o log10 para visualizar melhor."
      ]
    },
    {
      "cell_type": "code",
      "metadata": {
        "id": "cnUWbbX0oerA",
        "outputId": "44f3542c-0c6e-4931-88b2-40d4c5fd3ad2",
        "colab": {
          "base_uri": "https://localhost:8080/",
          "height": 0
        }
      },
      "source": [
        "from numpy import log10\n",
        "movies_df_pd['runtime_log'] = log10(movies_df_pd['Runtime'])\n",
        "movies_df_pd['runtime_log'].hist()"
      ],
      "execution_count": 31,
      "outputs": [
        {
          "output_type": "execute_result",
          "data": {
            "text/plain": [
              "<matplotlib.axes._subplots.AxesSubplot at 0x7fd7f6985978>"
            ]
          },
          "metadata": {
            "tags": []
          },
          "execution_count": 31
        },
        {
          "output_type": "display_data",
          "data": {
            "image/png": "[encoded data removed]",
            "text/plain": [
              "<Figure size 432x288 with 1 Axes>"
            ]
          },
          "metadata": {
            "tags": [],
            "needs_background": "light"
          }
        }
      ]
    },
    {
      "cell_type": "code",
      "metadata": {
        "id": "JQjoIVyW5nyg",
        "outputId": "bf7ca38f-24ec-40e3-fe17-481fa7f7b650",
        "colab": {
          "base_uri": "https://localhost:8080/",
          "height": 0
        }
      },
      "source": [
        "movies_df_pd.boxplot(column='Runtime')"
      ],
      "execution_count": 32,
      "outputs": [
        {
          "output_type": "execute_result",
          "data": {
            "text/plain": [
              "<matplotlib.axes._subplots.AxesSubplot at 0x7fd7f6971898>"
            ]
          },
          "metadata": {
            "tags": []
          },
          "execution_count": 32
        },
        {
          "output_type": "display_data",
          "data": {
            "image/png": "[encoded data removed]",
            "text/plain": [
              "<Figure size 432x288 with 1 Axes>"
            ]
          },
          "metadata": {
            "tags": [],
            "needs_background": "light"
          }
        }
      ]
    },
    {
      "cell_type": "markdown",
      "metadata": {
        "id": "KLrnuEQcdiZl"
      },
      "source": [
        "Analisando o boxplot, fica claro que existem outliers. Vamos Fazer o processo de remoção utilizando o Z-Score Robusto (MAD). "
      ]
    },
    {
      "cell_type": "code",
      "metadata": {
        "id": "r8Y9jaU95wap",
        "outputId": "69b19a65-4f7c-4c90-e8c8-75f7a28d5e3b",
        "colab": {
          "base_uri": "https://localhost:8080/",
          "height": 0
        }
      },
      "source": [
        "from numpy import abs\n",
        "mad = abs(movies_df_pd['runtime_log'] - movies_df_pd['runtime_log'].median()).median()*(1/0.6745)\n",
        "print(mad)"
      ],
      "execution_count": 33,
      "outputs": [
        {
          "output_type": "stream",
          "text": [
            "0.07409040023993868\n"
          ],
          "name": "stdout"
        }
      ]
    },
    {
      "cell_type": "code",
      "metadata": {
        "id": "GGKgC26p86o9",
        "outputId": "e2766db5-70d4-4877-eb59-bf81056441ad",
        "colab": {
          "base_uri": "https://localhost:8080/",
          "height": 0
        }
      },
      "source": [
        "(abs(movies_df_pd['runtime_log']-movies_df_pd['runtime_log'].median())/mad).hist()"
      ],
      "execution_count": 34,
      "outputs": [
        {
          "output_type": "execute_result",
          "data": {
            "text/plain": [
              "<matplotlib.axes._subplots.AxesSubplot at 0x7fd7f6ba1e48>"
            ]
          },
          "metadata": {
            "tags": []
          },
          "execution_count": 34
        },
        {
          "output_type": "display_data",
          "data": {
            "image/png": "[encoded data removed]",
            "text/plain": [
              "<Figure size 432x288 with 1 Axes>"
            ]
          },
          "metadata": {
            "tags": [],
            "needs_background": "light"
          }
        }
      ]
    },
    {
      "cell_type": "code",
      "metadata": {
        "id": "HuQeDW3Q9F_r",
        "outputId": "e72539d8-efea-4c79-bbb8-bb00b34db481",
        "colab": {
          "base_uri": "https://localhost:8080/",
          "height": 0
        }
      },
      "source": [
        "movies_df_mad = movies_df_pd[abs(movies_df_pd['runtime_log']-movies_df_pd['runtime_log'].median())/mad < 6]\n",
        "movies_df_mad"
      ],
      "execution_count": 35,
      "outputs": [
        {
          "output_type": "execute_result",
          "data": {
            "text/html": [
              "<div>\n",
              "<style scoped>\n",
              "    .dataframe tbody tr th:only-of-type {\n",
              "        vertical-align: middle;\n",
              "    }\n",
              "\n",
              "    .dataframe tbody tr th {\n",
              "        vertical-align: top;\n",
              "    }\n",
              "\n",
              "    .dataframe thead th {\n",
              "        text-align: right;\n",
              "    }\n",
              "</style>\n",
              "<table border=\"1\" class=\"dataframe\">\n",
              "  <thead>\n",
              "    <tr style=\"text-align: right;\">\n",
              "      <th></th>\n",
              "      <th>ID</th>\n",
              "      <th>Title</th>\n",
              "      <th>Year</th>\n",
              "      <th>IMDb</th>\n",
              "      <th>Netflix</th>\n",
              "      <th>Hulu</th>\n",
              "      <th>Prime Video</th>\n",
              "      <th>Disney+</th>\n",
              "      <th>Runtime</th>\n",
              "      <th>DirectorsArray</th>\n",
              "      <th>GenresArray</th>\n",
              "      <th>CountriesArray</th>\n",
              "      <th>LanguagesArray</th>\n",
              "      <th>MinimumClassification</th>\n",
              "      <th>RottenTomatoes</th>\n",
              "      <th>runtime_log</th>\n",
              "    </tr>\n",
              "  </thead>\n",
              "  <tbody>\n",
              "    <tr>\n",
              "      <th>0</th>\n",
              "      <td>1</td>\n",
              "      <td>Inception</td>\n",
              "      <td>2010</td>\n",
              "      <td>8.8</td>\n",
              "      <td>1</td>\n",
              "      <td>0</td>\n",
              "      <td>0</td>\n",
              "      <td>0</td>\n",
              "      <td>148.0</td>\n",
              "      <td>[Christopher Nolan]</td>\n",
              "      <td>[Action, Adventure, Sci-Fi, Thriller]</td>\n",
              "      <td>[United States, United Kingdom]</td>\n",
              "      <td>[English, Japanese, French]</td>\n",
              "      <td>13</td>\n",
              "      <td>8.7</td>\n",
              "      <td>2.170262</td>\n",
              "    </tr>\n",
              "    <tr>\n",
              "      <th>1</th>\n",
              "      <td>2</td>\n",
              "      <td>The Matrix</td>\n",
              "      <td>1999</td>\n",
              "      <td>8.7</td>\n",
              "      <td>1</td>\n",
              "      <td>0</td>\n",
              "      <td>0</td>\n",
              "      <td>0</td>\n",
              "      <td>136.0</td>\n",
              "      <td>[Lana Wachowski, Lilly Wachowski]</td>\n",
              "      <td>[Action, Sci-Fi]</td>\n",
              "      <td>[United States]</td>\n",
              "      <td>[English]</td>\n",
              "      <td>18</td>\n",
              "      <td>8.7</td>\n",
              "      <td>2.133539</td>\n",
              "    </tr>\n",
              "    <tr>\n",
              "      <th>2</th>\n",
              "      <td>3</td>\n",
              "      <td>Avengers: Infinity War</td>\n",
              "      <td>2018</td>\n",
              "      <td>8.5</td>\n",
              "      <td>1</td>\n",
              "      <td>0</td>\n",
              "      <td>0</td>\n",
              "      <td>0</td>\n",
              "      <td>149.0</td>\n",
              "      <td>[Anthony Russo, Joe Russo]</td>\n",
              "      <td>[Action, Adventure, Sci-Fi]</td>\n",
              "      <td>[United States]</td>\n",
              "      <td>[English]</td>\n",
              "      <td>13</td>\n",
              "      <td>8.4</td>\n",
              "      <td>2.173186</td>\n",
              "    </tr>\n",
              "    <tr>\n",
              "      <th>3</th>\n",
              "      <td>4</td>\n",
              "      <td>Back to the Future</td>\n",
              "      <td>1985</td>\n",
              "      <td>8.5</td>\n",
              "      <td>1</td>\n",
              "      <td>0</td>\n",
              "      <td>0</td>\n",
              "      <td>0</td>\n",
              "      <td>116.0</td>\n",
              "      <td>[Robert Zemeckis]</td>\n",
              "      <td>[Adventure, Comedy, Sci-Fi]</td>\n",
              "      <td>[United States]</td>\n",
              "      <td>[English]</td>\n",
              "      <td>7</td>\n",
              "      <td>9.6</td>\n",
              "      <td>2.064458</td>\n",
              "    </tr>\n",
              "    <tr>\n",
              "      <th>4</th>\n",
              "      <td>5</td>\n",
              "      <td>The Good, the Bad and the Ugly</td>\n",
              "      <td>1966</td>\n",
              "      <td>8.8</td>\n",
              "      <td>1</td>\n",
              "      <td>0</td>\n",
              "      <td>1</td>\n",
              "      <td>0</td>\n",
              "      <td>161.0</td>\n",
              "      <td>[Sergio Leone]</td>\n",
              "      <td>[Western]</td>\n",
              "      <td>[Italy, Spain, West Germany]</td>\n",
              "      <td>[Italian]</td>\n",
              "      <td>18</td>\n",
              "      <td>9.7</td>\n",
              "      <td>2.206826</td>\n",
              "    </tr>\n",
              "    <tr>\n",
              "      <th>...</th>\n",
              "      <td>...</td>\n",
              "      <td>...</td>\n",
              "      <td>...</td>\n",
              "      <td>...</td>\n",
              "      <td>...</td>\n",
              "      <td>...</td>\n",
              "      <td>...</td>\n",
              "      <td>...</td>\n",
              "      <td>...</td>\n",
              "      <td>...</td>\n",
              "      <td>...</td>\n",
              "      <td>...</td>\n",
              "      <td>...</td>\n",
              "      <td>...</td>\n",
              "      <td>...</td>\n",
              "      <td>...</td>\n",
              "    </tr>\n",
              "    <tr>\n",
              "      <th>16733</th>\n",
              "      <td>16735</td>\n",
              "      <td>Sultan And The Rock Star</td>\n",
              "      <td>1980</td>\n",
              "      <td>5.9</td>\n",
              "      <td>0</td>\n",
              "      <td>0</td>\n",
              "      <td>0</td>\n",
              "      <td>1</td>\n",
              "      <td>60.0</td>\n",
              "      <td>[Edward M. Abroms]</td>\n",
              "      <td>[Adventure, Drama, Family]</td>\n",
              "      <td>[United States]</td>\n",
              "      <td>[English]</td>\n",
              "      <td>-1</td>\n",
              "      <td>NaN</td>\n",
              "      <td>1.778151</td>\n",
              "    </tr>\n",
              "    <tr>\n",
              "      <th>16736</th>\n",
              "      <td>16738</td>\n",
              "      <td>The Bears and I</td>\n",
              "      <td>1974</td>\n",
              "      <td>6.2</td>\n",
              "      <td>0</td>\n",
              "      <td>0</td>\n",
              "      <td>0</td>\n",
              "      <td>1</td>\n",
              "      <td>89.0</td>\n",
              "      <td>[Bernard McEveety]</td>\n",
              "      <td>[Drama, Family]</td>\n",
              "      <td>[United States]</td>\n",
              "      <td>[English]</td>\n",
              "      <td>0</td>\n",
              "      <td>NaN</td>\n",
              "      <td>1.949390</td>\n",
              "    </tr>\n",
              "    <tr>\n",
              "      <th>16737</th>\n",
              "      <td>16739</td>\n",
              "      <td>Whispers: An Elephant's Tale</td>\n",
              "      <td>2000</td>\n",
              "      <td>5.0</td>\n",
              "      <td>0</td>\n",
              "      <td>0</td>\n",
              "      <td>0</td>\n",
              "      <td>1</td>\n",
              "      <td>72.0</td>\n",
              "      <td>[Dereck Joubert]</td>\n",
              "      <td>[Adventure, Family]</td>\n",
              "      <td>[United States]</td>\n",
              "      <td>[English]</td>\n",
              "      <td>0</td>\n",
              "      <td>NaN</td>\n",
              "      <td>1.857332</td>\n",
              "    </tr>\n",
              "    <tr>\n",
              "      <th>16738</th>\n",
              "      <td>16740</td>\n",
              "      <td>The Ghosts of Buxley Hall</td>\n",
              "      <td>1980</td>\n",
              "      <td>6.2</td>\n",
              "      <td>0</td>\n",
              "      <td>0</td>\n",
              "      <td>0</td>\n",
              "      <td>1</td>\n",
              "      <td>120.0</td>\n",
              "      <td>[Bruce Bilson]</td>\n",
              "      <td>[Comedy, Family, Fantasy, Horror]</td>\n",
              "      <td>[United States]</td>\n",
              "      <td>[English]</td>\n",
              "      <td>-1</td>\n",
              "      <td>NaN</td>\n",
              "      <td>2.079181</td>\n",
              "    </tr>\n",
              "    <tr>\n",
              "      <th>16739</th>\n",
              "      <td>16741</td>\n",
              "      <td>The Poof Point</td>\n",
              "      <td>2001</td>\n",
              "      <td>4.7</td>\n",
              "      <td>0</td>\n",
              "      <td>0</td>\n",
              "      <td>0</td>\n",
              "      <td>1</td>\n",
              "      <td>90.0</td>\n",
              "      <td>[Neal Israel]</td>\n",
              "      <td>[Comedy, Family, Sci-Fi]</td>\n",
              "      <td>[United States]</td>\n",
              "      <td>[English]</td>\n",
              "      <td>7</td>\n",
              "      <td>NaN</td>\n",
              "      <td>1.954243</td>\n",
              "    </tr>\n",
              "  </tbody>\n",
              "</table>\n",
              "<p>15764 rows × 16 columns</p>\n",
              "</div>"
            ],
            "text/plain": [
              "          ID                           Title  ...  RottenTomatoes  runtime_log\n",
              "0          1                       Inception  ...             8.7     2.170262\n",
              "1          2                      The Matrix  ...             8.7     2.133539\n",
              "2          3          Avengers: Infinity War  ...             8.4     2.173186\n",
              "3          4              Back to the Future  ...             9.6     2.064458\n",
              "4          5  The Good, the Bad and the Ugly  ...             9.7     2.206826\n",
              "...      ...                             ...  ...             ...          ...\n",
              "16733  16735        Sultan And The Rock Star  ...             NaN     1.778151\n",
              "16736  16738                 The Bears and I  ...             NaN     1.949390\n",
              "16737  16739    Whispers: An Elephant's Tale  ...             NaN     1.857332\n",
              "16738  16740       The Ghosts of Buxley Hall  ...             NaN     2.079181\n",
              "16739  16741                  The Poof Point  ...             NaN     1.954243\n",
              "\n",
              "[15764 rows x 16 columns]"
            ]
          },
          "metadata": {
            "tags": []
          },
          "execution_count": 35
        }
      ]
    },
    {
      "cell_type": "code",
      "metadata": {
        "id": "zrg269Uc92oA",
        "outputId": "dfa18de6-59cd-4870-a090-87a614142abe",
        "colab": {
          "base_uri": "https://localhost:8080/",
          "height": 0
        }
      },
      "source": [
        "movies_df_mad.boxplot(column='Runtime')"
      ],
      "execution_count": 36,
      "outputs": [
        {
          "output_type": "execute_result",
          "data": {
            "text/plain": [
              "<matplotlib.axes._subplots.AxesSubplot at 0x7fd7f6613240>"
            ]
          },
          "metadata": {
            "tags": []
          },
          "execution_count": 36
        },
        {
          "output_type": "display_data",
          "data": {
            "image/png": "[encoded data removed]",
            "text/plain": [
              "<Figure size 432x288 with 1 Axes>"
            ]
          },
          "metadata": {
            "tags": [],
            "needs_background": "light"
          }
        }
      ]
    },
    {
      "cell_type": "code",
      "metadata": {
        "id": "PbJN_urKj6UI"
      },
      "source": [
        "movies_no_outliers = movies_df_mad"
      ],
      "execution_count": 37,
      "outputs": []
    },
    {
      "cell_type": "markdown",
      "metadata": {
        "id": "ttLVMkfubSoa"
      },
      "source": [
        "#### Bivariado"
      ]
    },
    {
      "cell_type": "markdown",
      "metadata": {
        "id": "ESxfCw9JbgZs"
      },
      "source": [
        "Vamos detectar outliers agora a partir das colunas de notas, IMDb e Rotten Tomatoes."
      ]
    },
    {
      "cell_type": "code",
      "metadata": {
        "id": "HMuvQY3mbVf6",
        "outputId": "0d5c0841-c972-437c-82e7-649a9f2b83c6",
        "colab": {
          "base_uri": "https://localhost:8080/",
          "height": 297
        }
      },
      "source": [
        "movies_df_pd.plot.scatter(x='IMDb', y='RottenTomatoes')"
      ],
      "execution_count": 72,
      "outputs": [
        {
          "output_type": "execute_result",
          "data": {
            "text/plain": [
              "<matplotlib.axes._subplots.AxesSubplot at 0x7fd7df7a3be0>"
            ]
          },
          "metadata": {
            "tags": []
          },
          "execution_count": 72
        },
        {
          "output_type": "display_data",
          "data": {
            "image/png": "[encoded data removed]",
            "text/plain": [
              "<Figure size 432x288 with 1 Axes>"
            ]
          },
          "metadata": {
            "tags": [],
            "needs_background": "light"
          }
        }
      ]
    },
    {
      "cell_type": "code",
      "metadata": {
        "id": "E6groq7ucXki",
        "outputId": "e3defa66-65e7-4719-a54f-0b231b30ef6c",
        "colab": {
          "base_uri": "https://localhost:8080/",
          "height": 173
        }
      },
      "source": [
        "movies_df_pd['rating_rate'] = movies_df_pd['RottenTomatoes'] / movies_df_pd['IMDb']\n",
        "movies_df_pd['rating_rate'].describe()"
      ],
      "execution_count": 79,
      "outputs": [
        {
          "output_type": "execute_result",
          "data": {
            "text/plain": [
              "count    5156.000000\n",
              "mean        1.009732\n",
              "std         0.373968\n",
              "min         0.037037\n",
              "25%         0.759815\n",
              "50%         1.095564\n",
              "75%         1.274395\n",
              "max         3.041667\n",
              "Name: rating_rate, dtype: float64"
            ]
          },
          "metadata": {
            "tags": []
          },
          "execution_count": 79
        }
      ]
    },
    {
      "cell_type": "code",
      "metadata": {
        "id": "A-05NtozczM3",
        "outputId": "4e8d6519-1b5a-4ff3-eea3-6519c688b6a4",
        "colab": {
          "base_uri": "https://localhost:8080/",
          "height": 283
        }
      },
      "source": [
        "movies_df_pd['rating_rate'].plot.box()"
      ],
      "execution_count": 80,
      "outputs": [
        {
          "output_type": "execute_result",
          "data": {
            "text/plain": [
              "<matplotlib.axes._subplots.AxesSubplot at 0x7fd7df4d4588>"
            ]
          },
          "metadata": {
            "tags": []
          },
          "execution_count": 80
        },
        {
          "output_type": "display_data",
          "data": {
            "image/png": "[encoded data removed]",
            "text/plain": [
              "<Figure size 432x288 with 1 Axes>"
            ]
          },
          "metadata": {
            "tags": [],
            "needs_background": "light"
          }
        }
      ]
    },
    {
      "cell_type": "code",
      "metadata": {
        "id": "PfSxD_p6dXLG",
        "outputId": "c55c1004-34c6-4179-ca5a-57118069a302",
        "colab": {
          "base_uri": "https://localhost:8080/",
          "height": 283
        }
      },
      "source": [
        "movies_df_pd['rating_rate'].hist()"
      ],
      "execution_count": 81,
      "outputs": [
        {
          "output_type": "execute_result",
          "data": {
            "text/plain": [
              "<matplotlib.axes._subplots.AxesSubplot at 0x7fd7df320080>"
            ]
          },
          "metadata": {
            "tags": []
          },
          "execution_count": 81
        },
        {
          "output_type": "display_data",
          "data": {
            "image/png": "[encoded data removed]",
            "text/plain": [
              "<Figure size 432x288 with 1 Axes>"
            ]
          },
          "metadata": {
            "tags": [],
            "needs_background": "light"
          }
        }
      ]
    },
    {
      "cell_type": "code",
      "metadata": {
        "id": "cojmIg-KdvRd",
        "outputId": "13d56755-1d2d-48ec-e8f4-e0565abec70f",
        "colab": {
          "base_uri": "https://localhost:8080/",
          "height": 35
        }
      },
      "source": [
        "mad = abs(movies_df_pd['rating_rate'] - movies_df_pd['rating_rate'].median()).median()*(1/0.6745)\n",
        "print(mad)"
      ],
      "execution_count": 83,
      "outputs": [
        {
          "output_type": "stream",
          "text": [
            "0.33925697380108055\n"
          ],
          "name": "stdout"
        }
      ]
    },
    {
      "cell_type": "code",
      "metadata": {
        "id": "QkKiNxVxddN5",
        "outputId": "b4899378-f47c-44b1-d526-8df0ad31817c",
        "colab": {
          "base_uri": "https://localhost:8080/",
          "height": 283
        }
      },
      "source": [
        "(abs(movies_df_pd['rating_rate']-movies_df_pd['rating_rate'].median())/mad).hist()"
      ],
      "execution_count": 84,
      "outputs": [
        {
          "output_type": "execute_result",
          "data": {
            "text/plain": [
              "<matplotlib.axes._subplots.AxesSubplot at 0x7fd7df346fd0>"
            ]
          },
          "metadata": {
            "tags": []
          },
          "execution_count": 84
        },
        {
          "output_type": "display_data",
          "data": {
            "image/png": "[encoded data removed]",
            "text/plain": [
              "<Figure size 432x288 with 1 Axes>"
            ]
          },
          "metadata": {
            "tags": [],
            "needs_background": "light"
          }
        }
      ]
    },
    {
      "cell_type": "code",
      "metadata": {
        "id": "2_Qi9FTOfU-9",
        "outputId": "442aad99-2479-4553-f365-7931e4e00644",
        "colab": {
          "base_uri": "https://localhost:8080/",
          "height": 754
        }
      },
      "source": [
        "movies_df_pd[abs(movies_df_pd['rating_rate']-movies_df_pd['rating_rate'].median())/mad >= 3][['IMDb', 'RottenTomatoes', 'rating_rate']]"
      ],
      "execution_count": 114,
      "outputs": [
        {
          "output_type": "execute_result",
          "data": {
            "text/html": [
              "<div>\n",
              "<style scoped>\n",
              "    .dataframe tbody tr th:only-of-type {\n",
              "        vertical-align: middle;\n",
              "    }\n",
              "\n",
              "    .dataframe tbody tr th {\n",
              "        vertical-align: top;\n",
              "    }\n",
              "\n",
              "    .dataframe thead th {\n",
              "        text-align: right;\n",
              "    }\n",
              "</style>\n",
              "<table border=\"1\" class=\"dataframe\">\n",
              "  <thead>\n",
              "    <tr style=\"text-align: right;\">\n",
              "      <th></th>\n",
              "      <th>IMDb</th>\n",
              "      <th>RottenTomatoes</th>\n",
              "      <th>rating_rate</th>\n",
              "    </tr>\n",
              "  </thead>\n",
              "  <tbody>\n",
              "    <tr>\n",
              "      <th>1368</th>\n",
              "      <td>4.7</td>\n",
              "      <td>10.0</td>\n",
              "      <td>2.127660</td>\n",
              "    </tr>\n",
              "    <tr>\n",
              "      <th>2043</th>\n",
              "      <td>4.4</td>\n",
              "      <td>0.3</td>\n",
              "      <td>0.068182</td>\n",
              "    </tr>\n",
              "    <tr>\n",
              "      <th>4208</th>\n",
              "      <td>4.4</td>\n",
              "      <td>0.2</td>\n",
              "      <td>0.045455</td>\n",
              "    </tr>\n",
              "    <tr>\n",
              "      <th>4257</th>\n",
              "      <td>5.4</td>\n",
              "      <td>0.2</td>\n",
              "      <td>0.037037</td>\n",
              "    </tr>\n",
              "    <tr>\n",
              "      <th>5342</th>\n",
              "      <td>4.6</td>\n",
              "      <td>10.0</td>\n",
              "      <td>2.173913</td>\n",
              "    </tr>\n",
              "    <tr>\n",
              "      <th>5466</th>\n",
              "      <td>4.1</td>\n",
              "      <td>8.8</td>\n",
              "      <td>2.146341</td>\n",
              "    </tr>\n",
              "    <tr>\n",
              "      <th>5563</th>\n",
              "      <td>4.5</td>\n",
              "      <td>10.0</td>\n",
              "      <td>2.222222</td>\n",
              "    </tr>\n",
              "    <tr>\n",
              "      <th>5888</th>\n",
              "      <td>4.2</td>\n",
              "      <td>10.0</td>\n",
              "      <td>2.380952</td>\n",
              "    </tr>\n",
              "    <tr>\n",
              "      <th>6041</th>\n",
              "      <td>4.6</td>\n",
              "      <td>10.0</td>\n",
              "      <td>2.173913</td>\n",
              "    </tr>\n",
              "    <tr>\n",
              "      <th>6158</th>\n",
              "      <td>4.1</td>\n",
              "      <td>10.0</td>\n",
              "      <td>2.439024</td>\n",
              "    </tr>\n",
              "    <tr>\n",
              "      <th>6159</th>\n",
              "      <td>3.3</td>\n",
              "      <td>7.8</td>\n",
              "      <td>2.363636</td>\n",
              "    </tr>\n",
              "    <tr>\n",
              "      <th>6298</th>\n",
              "      <td>3.8</td>\n",
              "      <td>8.3</td>\n",
              "      <td>2.184211</td>\n",
              "    </tr>\n",
              "    <tr>\n",
              "      <th>6308</th>\n",
              "      <td>6.3</td>\n",
              "      <td>0.4</td>\n",
              "      <td>0.063492</td>\n",
              "    </tr>\n",
              "    <tr>\n",
              "      <th>6507</th>\n",
              "      <td>3.6</td>\n",
              "      <td>10.0</td>\n",
              "      <td>2.777778</td>\n",
              "    </tr>\n",
              "    <tr>\n",
              "      <th>6856</th>\n",
              "      <td>5.4</td>\n",
              "      <td>0.4</td>\n",
              "      <td>0.074074</td>\n",
              "    </tr>\n",
              "    <tr>\n",
              "      <th>6938</th>\n",
              "      <td>5.3</td>\n",
              "      <td>0.2</td>\n",
              "      <td>0.037736</td>\n",
              "    </tr>\n",
              "    <tr>\n",
              "      <th>7160</th>\n",
              "      <td>3.4</td>\n",
              "      <td>8.0</td>\n",
              "      <td>2.352941</td>\n",
              "    </tr>\n",
              "    <tr>\n",
              "      <th>7339</th>\n",
              "      <td>5.1</td>\n",
              "      <td>0.3</td>\n",
              "      <td>0.058824</td>\n",
              "    </tr>\n",
              "    <tr>\n",
              "      <th>7495</th>\n",
              "      <td>4.4</td>\n",
              "      <td>0.3</td>\n",
              "      <td>0.068182</td>\n",
              "    </tr>\n",
              "    <tr>\n",
              "      <th>8133</th>\n",
              "      <td>4.6</td>\n",
              "      <td>0.2</td>\n",
              "      <td>0.043478</td>\n",
              "    </tr>\n",
              "    <tr>\n",
              "      <th>8622</th>\n",
              "      <td>4.5</td>\n",
              "      <td>10.0</td>\n",
              "      <td>2.222222</td>\n",
              "    </tr>\n",
              "    <tr>\n",
              "      <th>9787</th>\n",
              "      <td>4.6</td>\n",
              "      <td>0.3</td>\n",
              "      <td>0.065217</td>\n",
              "    </tr>\n",
              "    <tr>\n",
              "      <th>16524</th>\n",
              "      <td>2.4</td>\n",
              "      <td>7.3</td>\n",
              "      <td>3.041667</td>\n",
              "    </tr>\n",
              "  </tbody>\n",
              "</table>\n",
              "</div>"
            ],
            "text/plain": [
              "       IMDb  RottenTomatoes  rating_rate\n",
              "1368    4.7            10.0     2.127660\n",
              "2043    4.4             0.3     0.068182\n",
              "4208    4.4             0.2     0.045455\n",
              "4257    5.4             0.2     0.037037\n",
              "5342    4.6            10.0     2.173913\n",
              "5466    4.1             8.8     2.146341\n",
              "5563    4.5            10.0     2.222222\n",
              "5888    4.2            10.0     2.380952\n",
              "6041    4.6            10.0     2.173913\n",
              "6158    4.1            10.0     2.439024\n",
              "6159    3.3             7.8     2.363636\n",
              "6298    3.8             8.3     2.184211\n",
              "6308    6.3             0.4     0.063492\n",
              "6507    3.6            10.0     2.777778\n",
              "6856    5.4             0.4     0.074074\n",
              "6938    5.3             0.2     0.037736\n",
              "7160    3.4             8.0     2.352941\n",
              "7339    5.1             0.3     0.058824\n",
              "7495    4.4             0.3     0.068182\n",
              "8133    4.6             0.2     0.043478\n",
              "8622    4.5            10.0     2.222222\n",
              "9787    4.6             0.3     0.065217\n",
              "16524   2.4             7.3     3.041667"
            ]
          },
          "metadata": {
            "tags": []
          },
          "execution_count": 114
        }
      ]
    },
    {
      "cell_type": "code",
      "metadata": {
        "id": "4iqgJTi1eWsd"
      },
      "source": [
        "movies_df_mad_bi = movies_df_pd[abs(movies_df_pd['rating_rate']-movies_df_pd['rating_rate'].median())/mad < 3]"
      ],
      "execution_count": 115,
      "outputs": []
    },
    {
      "cell_type": "code",
      "metadata": {
        "id": "gUw7mtiLfAmD",
        "outputId": "bd7c7fcc-f1ec-46df-8420-172de112c6f1",
        "colab": {
          "base_uri": "https://localhost:8080/",
          "height": 283
        }
      },
      "source": [
        "movies_df_mad_bi['rating_rate'].plot.box()"
      ],
      "execution_count": 116,
      "outputs": [
        {
          "output_type": "execute_result",
          "data": {
            "text/plain": [
              "<matplotlib.axes._subplots.AxesSubplot at 0x7fd7df068400>"
            ]
          },
          "metadata": {
            "tags": []
          },
          "execution_count": 116
        },
        {
          "output_type": "display_data",
          "data": {
            "image/png": "[encoded data removed]",
            "text/plain": [
              "<Figure size 432x288 with 1 Axes>"
            ]
          },
          "metadata": {
            "tags": [],
            "needs_background": "light"
          }
        }
      ]
    },
    {
      "cell_type": "markdown",
      "metadata": {
        "id": "jPMV5zICZwAV"
      },
      "source": [
        "### Análises Descritivas"
      ]
    },
    {
      "cell_type": "markdown",
      "metadata": {
        "id": "MKbBDsX4epjM"
      },
      "source": [
        "Iremos rodar a correlação de spearman sobre o dataset para verificar se há algum tipo de correlação entre as colunas."
      ]
    },
    {
      "cell_type": "markdown",
      "metadata": {
        "id": "3ELs_mNNh9Rk"
      },
      "source": [
        "Podemos perceber que há uma correlação alta e positiva entre as colunas RottenTomatoes e IMDb, que é esperado porque ambos representam a opinião sobre o filme."
      ]
    },
    {
      "cell_type": "code",
      "metadata": {
        "id": "HHy2GlcTz6m4",
        "outputId": "05cbae76-ccab-41b1-f62e-16a5b91f9b63",
        "colab": {
          "base_uri": "https://localhost:8080/",
          "height": 485
        }
      },
      "source": [
        "movies_no_outliers.corr(method='spearman')"
      ],
      "execution_count": 113,
      "outputs": [
        {
          "output_type": "execute_result",
          "data": {
            "text/html": [
              "<div>\n",
              "<style scoped>\n",
              "    .dataframe tbody tr th:only-of-type {\n",
              "        vertical-align: middle;\n",
              "    }\n",
              "\n",
              "    .dataframe tbody tr th {\n",
              "        vertical-align: top;\n",
              "    }\n",
              "\n",
              "    .dataframe thead th {\n",
              "        text-align: right;\n",
              "    }\n",
              "</style>\n",
              "<table border=\"1\" class=\"dataframe\">\n",
              "  <thead>\n",
              "    <tr style=\"text-align: right;\">\n",
              "      <th></th>\n",
              "      <th>ID</th>\n",
              "      <th>Year</th>\n",
              "      <th>IMDb</th>\n",
              "      <th>Netflix</th>\n",
              "      <th>Hulu</th>\n",
              "      <th>Prime Video</th>\n",
              "      <th>Disney+</th>\n",
              "      <th>Runtime</th>\n",
              "      <th>MinimumClassification</th>\n",
              "      <th>RottenTomatoes</th>\n",
              "      <th>runtime_log</th>\n",
              "      <th>rating_diff</th>\n",
              "      <th>rating_rate</th>\n",
              "    </tr>\n",
              "  </thead>\n",
              "  <tbody>\n",
              "    <tr>\n",
              "      <th>ID</th>\n",
              "      <td>1.000000</td>\n",
              "      <td>-0.333977</td>\n",
              "      <td>-0.290945</td>\n",
              "      <td>-0.775652</td>\n",
              "      <td>-0.217908</td>\n",
              "      <td>0.540638</td>\n",
              "      <td>0.396864</td>\n",
              "      <td>-0.194860</td>\n",
              "      <td>-0.139791</td>\n",
              "      <td>-0.280900</td>\n",
              "      <td>-0.194860</td>\n",
              "      <td>-0.194904</td>\n",
              "      <td>-0.194904</td>\n",
              "    </tr>\n",
              "    <tr>\n",
              "      <th>Year</th>\n",
              "      <td>-0.333977</td>\n",
              "      <td>1.000000</td>\n",
              "      <td>-0.119598</td>\n",
              "      <td>0.322964</td>\n",
              "      <td>0.155237</td>\n",
              "      <td>-0.282387</td>\n",
              "      <td>-0.185283</td>\n",
              "      <td>0.022161</td>\n",
              "      <td>-0.038165</td>\n",
              "      <td>0.078673</td>\n",
              "      <td>0.022161</td>\n",
              "      <td>0.159531</td>\n",
              "      <td>0.159531</td>\n",
              "    </tr>\n",
              "    <tr>\n",
              "      <th>IMDb</th>\n",
              "      <td>-0.290945</td>\n",
              "      <td>-0.119598</td>\n",
              "      <td>1.000000</td>\n",
              "      <td>0.032704</td>\n",
              "      <td>-0.012826</td>\n",
              "      <td>-0.051463</td>\n",
              "      <td>0.038031</td>\n",
              "      <td>0.202972</td>\n",
              "      <td>-0.096270</td>\n",
              "      <td>0.628948</td>\n",
              "      <td>0.202972</td>\n",
              "      <td>0.284984</td>\n",
              "      <td>0.284984</td>\n",
              "    </tr>\n",
              "    <tr>\n",
              "      <th>Netflix</th>\n",
              "      <td>-0.775652</td>\n",
              "      <td>0.322964</td>\n",
              "      <td>0.032704</td>\n",
              "      <td>1.000000</td>\n",
              "      <td>-0.213105</td>\n",
              "      <td>-0.645898</td>\n",
              "      <td>-0.152230</td>\n",
              "      <td>0.103137</td>\n",
              "      <td>0.096332</td>\n",
              "      <td>0.021939</td>\n",
              "      <td>0.103137</td>\n",
              "      <td>-0.002564</td>\n",
              "      <td>-0.002564</td>\n",
              "    </tr>\n",
              "    <tr>\n",
              "      <th>Hulu</th>\n",
              "      <td>-0.217908</td>\n",
              "      <td>0.155237</td>\n",
              "      <td>-0.012826</td>\n",
              "      <td>-0.213105</td>\n",
              "      <td>1.000000</td>\n",
              "      <td>-0.243753</td>\n",
              "      <td>-0.086503</td>\n",
              "      <td>0.018298</td>\n",
              "      <td>0.045988</td>\n",
              "      <td>0.020820</td>\n",
              "      <td>0.018298</td>\n",
              "      <td>0.034433</td>\n",
              "      <td>0.034433</td>\n",
              "    </tr>\n",
              "    <tr>\n",
              "      <th>Prime Video</th>\n",
              "      <td>0.540638</td>\n",
              "      <td>-0.282387</td>\n",
              "      <td>-0.051463</td>\n",
              "      <td>-0.645898</td>\n",
              "      <td>-0.243753</td>\n",
              "      <td>1.000000</td>\n",
              "      <td>-0.309355</td>\n",
              "      <td>-0.060340</td>\n",
              "      <td>-0.039899</td>\n",
              "      <td>-0.049000</td>\n",
              "      <td>-0.060340</td>\n",
              "      <td>-0.023535</td>\n",
              "      <td>-0.023535</td>\n",
              "    </tr>\n",
              "    <tr>\n",
              "      <th>Disney+</th>\n",
              "      <td>0.396864</td>\n",
              "      <td>-0.185283</td>\n",
              "      <td>0.038031</td>\n",
              "      <td>-0.152230</td>\n",
              "      <td>-0.086503</td>\n",
              "      <td>-0.309355</td>\n",
              "      <td>1.000000</td>\n",
              "      <td>-0.028281</td>\n",
              "      <td>-0.071690</td>\n",
              "      <td>-0.015349</td>\n",
              "      <td>-0.028281</td>\n",
              "      <td>-0.046064</td>\n",
              "      <td>-0.046064</td>\n",
              "    </tr>\n",
              "    <tr>\n",
              "      <th>Runtime</th>\n",
              "      <td>-0.194860</td>\n",
              "      <td>0.022161</td>\n",
              "      <td>0.202972</td>\n",
              "      <td>0.103137</td>\n",
              "      <td>0.018298</td>\n",
              "      <td>-0.060340</td>\n",
              "      <td>-0.028281</td>\n",
              "      <td>1.000000</td>\n",
              "      <td>0.161117</td>\n",
              "      <td>-0.010858</td>\n",
              "      <td>1.000000</td>\n",
              "      <td>-0.107675</td>\n",
              "      <td>-0.107675</td>\n",
              "    </tr>\n",
              "    <tr>\n",
              "      <th>MinimumClassification</th>\n",
              "      <td>-0.139791</td>\n",
              "      <td>-0.038165</td>\n",
              "      <td>-0.096270</td>\n",
              "      <td>0.096332</td>\n",
              "      <td>0.045988</td>\n",
              "      <td>-0.039899</td>\n",
              "      <td>-0.071690</td>\n",
              "      <td>0.161117</td>\n",
              "      <td>1.000000</td>\n",
              "      <td>-0.211772</td>\n",
              "      <td>0.161117</td>\n",
              "      <td>-0.216616</td>\n",
              "      <td>-0.216616</td>\n",
              "    </tr>\n",
              "    <tr>\n",
              "      <th>RottenTomatoes</th>\n",
              "      <td>-0.280900</td>\n",
              "      <td>0.078673</td>\n",
              "      <td>0.628948</td>\n",
              "      <td>0.021939</td>\n",
              "      <td>0.020820</td>\n",
              "      <td>-0.049000</td>\n",
              "      <td>-0.015349</td>\n",
              "      <td>-0.010858</td>\n",
              "      <td>-0.211772</td>\n",
              "      <td>1.000000</td>\n",
              "      <td>-0.010858</td>\n",
              "      <td>0.896927</td>\n",
              "      <td>0.896927</td>\n",
              "    </tr>\n",
              "    <tr>\n",
              "      <th>runtime_log</th>\n",
              "      <td>-0.194860</td>\n",
              "      <td>0.022161</td>\n",
              "      <td>0.202972</td>\n",
              "      <td>0.103137</td>\n",
              "      <td>0.018298</td>\n",
              "      <td>-0.060340</td>\n",
              "      <td>-0.028281</td>\n",
              "      <td>1.000000</td>\n",
              "      <td>0.161117</td>\n",
              "      <td>-0.010858</td>\n",
              "      <td>1.000000</td>\n",
              "      <td>-0.107675</td>\n",
              "      <td>-0.107675</td>\n",
              "    </tr>\n",
              "    <tr>\n",
              "      <th>rating_diff</th>\n",
              "      <td>-0.194904</td>\n",
              "      <td>0.159531</td>\n",
              "      <td>0.284984</td>\n",
              "      <td>-0.002564</td>\n",
              "      <td>0.034433</td>\n",
              "      <td>-0.023535</td>\n",
              "      <td>-0.046064</td>\n",
              "      <td>-0.107675</td>\n",
              "      <td>-0.216616</td>\n",
              "      <td>0.896927</td>\n",
              "      <td>-0.107675</td>\n",
              "      <td>1.000000</td>\n",
              "      <td>1.000000</td>\n",
              "    </tr>\n",
              "    <tr>\n",
              "      <th>rating_rate</th>\n",
              "      <td>-0.194904</td>\n",
              "      <td>0.159531</td>\n",
              "      <td>0.284984</td>\n",
              "      <td>-0.002564</td>\n",
              "      <td>0.034433</td>\n",
              "      <td>-0.023535</td>\n",
              "      <td>-0.046064</td>\n",
              "      <td>-0.107675</td>\n",
              "      <td>-0.216616</td>\n",
              "      <td>0.896927</td>\n",
              "      <td>-0.107675</td>\n",
              "      <td>1.000000</td>\n",
              "      <td>1.000000</td>\n",
              "    </tr>\n",
              "  </tbody>\n",
              "</table>\n",
              "</div>"
            ],
            "text/plain": [
              "                             ID      Year  ...  rating_diff  rating_rate\n",
              "ID                     1.000000 -0.333977  ...    -0.194904    -0.194904\n",
              "Year                  -0.333977  1.000000  ...     0.159531     0.159531\n",
              "IMDb                  -0.290945 -0.119598  ...     0.284984     0.284984\n",
              "Netflix               -0.775652  0.322964  ...    -0.002564    -0.002564\n",
              "Hulu                  -0.217908  0.155237  ...     0.034433     0.034433\n",
              "Prime Video            0.540638 -0.282387  ...    -0.023535    -0.023535\n",
              "Disney+                0.396864 -0.185283  ...    -0.046064    -0.046064\n",
              "Runtime               -0.194860  0.022161  ...    -0.107675    -0.107675\n",
              "MinimumClassification -0.139791 -0.038165  ...    -0.216616    -0.216616\n",
              "RottenTomatoes        -0.280900  0.078673  ...     0.896927     0.896927\n",
              "runtime_log           -0.194860  0.022161  ...    -0.107675    -0.107675\n",
              "rating_diff           -0.194904  0.159531  ...     1.000000     1.000000\n",
              "rating_rate           -0.194904  0.159531  ...     1.000000     1.000000\n",
              "\n",
              "[13 rows x 13 columns]"
            ]
          },
          "metadata": {
            "tags": []
          },
          "execution_count": 113
        }
      ]
    },
    {
      "cell_type": "markdown",
      "metadata": {
        "id": "y9DLg5JJjikK"
      },
      "source": [
        "Agora ao analisar a quantidade de filmes por plataforma de streaming, percebemos que a maior parte dos dados é composta por filmes que estão no Prime Video."
      ]
    },
    {
      "cell_type": "code",
      "metadata": {
        "id": "fNFZy8gk13HM",
        "outputId": "fd96b72d-0edd-4ade-c2f1-e256d0ac0279",
        "colab": {
          "base_uri": "https://localhost:8080/",
          "height": 333
        }
      },
      "source": [
        "movies_no_outliers[['Netflix', 'Prime Video', 'Disney+', 'Hulu']].sum(skipna=True).plot.bar()"
      ],
      "execution_count": 39,
      "outputs": [
        {
          "output_type": "execute_result",
          "data": {
            "text/plain": [
              "<matplotlib.axes._subplots.AxesSubplot at 0x7fd7f63369e8>"
            ]
          },
          "metadata": {
            "tags": []
          },
          "execution_count": 39
        },
        {
          "output_type": "display_data",
          "data": {
            "image/png": "[encoded data removed]",
            "text/plain": [
              "<Figure size 432x288 with 1 Axes>"
            ]
          },
          "metadata": {
            "tags": [],
            "needs_background": "light"
          }
        }
      ]
    },
    {
      "cell_type": "markdown",
      "metadata": {
        "id": "Pgft5iFToozr"
      },
      "source": [
        "Agora vamos analisar a criação de filmes ao longo das décadas."
      ]
    },
    {
      "cell_type": "code",
      "metadata": {
        "id": "oa6pGrlRCXbG",
        "outputId": "f726b11d-28fc-44b5-f797-892bd69fd752",
        "colab": {
          "base_uri": "https://localhost:8080/",
          "height": 121
        }
      },
      "source": [
        "movies_no_outliers['decade'] = movies_no_outliers['Year'].floordiv(10) * 10"
      ],
      "execution_count": 105,
      "outputs": [
        {
          "output_type": "stream",
          "text": [
            "/usr/local/lib/python3.6/dist-packages/ipykernel_launcher.py:1: SettingWithCopyWarning: \n",
            "A value is trying to be set on a copy of a slice from a DataFrame.\n",
            "Try using .loc[row_indexer,col_indexer] = value instead\n",
            "\n",
            "See the caveats in the documentation: https://pandas.pydata.org/pandas-docs/stable/user_guide/indexing.html#returning-a-view-versus-a-copy\n",
            "  \"\"\"Entry point for launching an IPython kernel.\n"
          ],
          "name": "stderr"
        }
      ]
    },
    {
      "cell_type": "code",
      "metadata": {
        "id": "0A1WiQKoCYzv",
        "outputId": "7bb037b0-353c-48a1-ac16-b78213a569c2",
        "colab": {
          "base_uri": "https://localhost:8080/",
          "height": 315
        }
      },
      "source": [
        "quantity_movies_by_sec = movies_no_outliers['decade'].value_counts()\n",
        "quantity_movies_by_sec.plot.bar(color=(0,0,1), title='Quantidade de filmes por década')"
      ],
      "execution_count": 41,
      "outputs": [
        {
          "output_type": "execute_result",
          "data": {
            "text/plain": [
              "<matplotlib.axes._subplots.AxesSubplot at 0x7fd7f63e4be0>"
            ]
          },
          "metadata": {
            "tags": []
          },
          "execution_count": 41
        },
        {
          "output_type": "display_data",
          "data": {
            "image/png": "[encoded data removed]",
            "text/plain": [
              "<Figure size 432x288 with 1 Axes>"
            ]
          },
          "metadata": {
            "tags": [],
            "needs_background": "light"
          }
        }
      ]
    },
    {
      "cell_type": "code",
      "metadata": {
        "id": "7CLYbtwGGG4w",
        "outputId": "b129c8d3-ed2b-4353-b4d5-fa0669958a60",
        "colab": {
          "base_uri": "https://localhost:8080/",
          "height": 315
        }
      },
      "source": [
        "movies_df_2010 = movies_no_outliers[movies_no_outliers['Year'] >= 2010]\n",
        "movies_df_2010 = movies_df_2010.sort_values(['Year'])\n",
        "quantity_movies_2010 = movies_df_2010['Year'].value_counts()\n",
        "quantity_movies_2010.plot.bar(color=(0,0,1), title='Quantidade de filmes produzidos em 2010+')"
      ],
      "execution_count": 42,
      "outputs": [
        {
          "output_type": "execute_result",
          "data": {
            "text/plain": [
              "<matplotlib.axes._subplots.AxesSubplot at 0x7fd7f62abf28>"
            ]
          },
          "metadata": {
            "tags": []
          },
          "execution_count": 42
        },
        {
          "output_type": "display_data",
          "data": {
            "image/png": "[encoded data removed]",
            "text/plain": [
              "<Figure size 432x288 with 1 Axes>"
            ]
          },
          "metadata": {
            "tags": [],
            "needs_background": "light"
          }
        }
      ]
    },
    {
      "cell_type": "code",
      "metadata": {
        "id": "MR50BocmVRCa",
        "outputId": "4055b790-7c2b-448f-b77c-c7f53adc1b62",
        "colab": {
          "base_uri": "https://localhost:8080/",
          "height": 367
        }
      },
      "source": [
        "t = movies_df_mad.groupby('decade')['IMDb', 'RottenTomatoes'].mean()\n",
        "t.plot.bar()"
      ],
      "execution_count": 43,
      "outputs": [
        {
          "output_type": "stream",
          "text": [
            "/usr/local/lib/python3.6/dist-packages/ipykernel_launcher.py:1: FutureWarning: Indexing with multiple keys (implicitly converted to a tuple of keys) will be deprecated, use a list instead.\n",
            "  \"\"\"Entry point for launching an IPython kernel.\n"
          ],
          "name": "stderr"
        },
        {
          "output_type": "execute_result",
          "data": {
            "text/plain": [
              "<matplotlib.axes._subplots.AxesSubplot at 0x7fd7f62a9fd0>"
            ]
          },
          "metadata": {
            "tags": []
          },
          "execution_count": 43
        },
        {
          "output_type": "display_data",
          "data": {
            "image/png": "[encoded data removed]",
            "text/plain": [
              "<Figure size 432x288 with 1 Axes>"
            ]
          },
          "metadata": {
            "tags": [],
            "needs_background": "light"
          }
        }
      ]
    },
    {
      "cell_type": "code",
      "metadata": {
        "id": "xL_FfK1SWHlB",
        "outputId": "565d598c-4655-426b-b7ae-d28e9a48dd9a",
        "colab": {
          "base_uri": "https://localhost:8080/",
          "height": 367
        }
      },
      "source": [
        "t = movies_df_2010.groupby('Year')['IMDb', 'RottenTomatoes'].mean()\n",
        "t.plot.bar()"
      ],
      "execution_count": 44,
      "outputs": [
        {
          "output_type": "stream",
          "text": [
            "/usr/local/lib/python3.6/dist-packages/ipykernel_launcher.py:1: FutureWarning: Indexing with multiple keys (implicitly converted to a tuple of keys) will be deprecated, use a list instead.\n",
            "  \"\"\"Entry point for launching an IPython kernel.\n"
          ],
          "name": "stderr"
        },
        {
          "output_type": "execute_result",
          "data": {
            "text/plain": [
              "<matplotlib.axes._subplots.AxesSubplot at 0x7fd7f4b7fc88>"
            ]
          },
          "metadata": {
            "tags": []
          },
          "execution_count": 44
        },
        {
          "output_type": "display_data",
          "data": {
            "image/png": "[encoded data removed]",
            "text/plain": [
              "<Figure size 432x288 with 1 Axes>"
            ]
          },
          "metadata": {
            "tags": [],
            "needs_background": "light"
          }
        }
      ]
    },
    {
      "cell_type": "code",
      "metadata": {
        "id": "fd8zeM-KJLA5",
        "outputId": "ada817f2-0f04-490c-ac25-06c8d3159381",
        "colab": {
          "base_uri": "https://localhost:8080/",
          "height": 121
        }
      },
      "source": [
        "from pyspark.sql.functions import when,count,countDistinct\n",
        "\n",
        "movies_df_aval = movies_df_processed.where(col('IMDb').isNotNull() & col('RottenTomatoes').isNotNull())\n",
        "\n",
        "movies_df_aval.agg(\n",
        "    count(when(col(\"IMDb\") >= 9, True)).alias('IMDb Count'),\n",
        "    count(when(col(\"RottenTomatoes\") >= 9, True)).alias('RottenTomatoes Count')\n",
        ").show()"
      ],
      "execution_count": 45,
      "outputs": [
        {
          "output_type": "stream",
          "text": [
            "+----------+--------------------+\n",
            "|IMDb Count|RottenTomatoes Count|\n",
            "+----------+--------------------+\n",
            "|         1|                1126|\n",
            "+----------+--------------------+\n",
            "\n"
          ],
          "name": "stdout"
        }
      ]
    },
    {
      "cell_type": "code",
      "metadata": {
        "id": "NO9M-VcDqr5_",
        "outputId": "80915298-a058-4d9c-87b5-f96a777bfb4d",
        "colab": {
          "base_uri": "https://localhost:8080/",
          "height": 283
        }
      },
      "source": [
        "movies_count_by_language = movie_language_df.groupBy('Language').agg(countDistinct('ID').alias('count')).toPandas()\n",
        "movies_count_by_language.nlargest(15, 'count').plot.barh(x='Language')"
      ],
      "execution_count": 46,
      "outputs": [
        {
          "output_type": "execute_result",
          "data": {
            "text/plain": [
              "<matplotlib.axes._subplots.AxesSubplot at 0x7fd7f4aa2b00>"
            ]
          },
          "metadata": {
            "tags": []
          },
          "execution_count": 46
        },
        {
          "output_type": "display_data",
          "data": {
            "image/png": "[encoded data removed]",
            "text/plain": [
              "<Figure size 432x288 with 1 Axes>"
            ]
          },
          "metadata": {
            "tags": [],
            "needs_background": "light"
          }
        }
      ]
    },
    {
      "cell_type": "code",
      "metadata": {
        "id": "jufgM5yWu0Lx",
        "outputId": "1d61792e-a2d2-496e-c5c2-47e7625fe746",
        "colab": {
          "base_uri": "https://localhost:8080/",
          "height": 283
        }
      },
      "source": [
        "movies_count_by_genre = movie_genre_df.groupBy('Genre').agg(countDistinct('ID').alias('count')).toPandas()\n",
        "movies_count_by_genre.nlargest(20, 'count').plot.barh(x='Genre')"
      ],
      "execution_count": 47,
      "outputs": [
        {
          "output_type": "execute_result",
          "data": {
            "text/plain": [
              "<matplotlib.axes._subplots.AxesSubplot at 0x7fd7f49f6160>"
            ]
          },
          "metadata": {
            "tags": []
          },
          "execution_count": 47
        },
        {
          "output_type": "display_data",
          "data": {
            "image/png": "[encoded data removed]",
            "text/plain": [
              "<Figure size 432x288 with 1 Axes>"
            ]
          },
          "metadata": {
            "tags": [],
            "needs_background": "light"
          }
        }
      ]
    },
    {
      "cell_type": "code",
      "metadata": {
        "id": "Zzrh8l0tvZC4",
        "outputId": "b58eb6c6-5222-441b-d6a8-23239322dc85",
        "colab": {
          "base_uri": "https://localhost:8080/",
          "height": 283
        }
      },
      "source": [
        "movies_count_by_country = movie_country_df.groupBy('Country').agg(countDistinct('ID').alias('count')).toPandas()\n",
        "movies_count_by_country.nlargest(30, 'count').plot.barh(x='Country')"
      ],
      "execution_count": 48,
      "outputs": [
        {
          "output_type": "execute_result",
          "data": {
            "text/plain": [
              "<matplotlib.axes._subplots.AxesSubplot at 0x7fd7f4aff470>"
            ]
          },
          "metadata": {
            "tags": []
          },
          "execution_count": 48
        },
        {
          "output_type": "display_data",
          "data": {
            "image/png": "[encoded data removed]",
            "text/plain": [
              "<Figure size 432x288 with 1 Axes>"
            ]
          },
          "metadata": {
            "tags": [],
            "needs_background": "light"
          }
        }
      ]
    },
    {
      "cell_type": "markdown",
      "metadata": {
        "id": "sP2QkSXNVvFc"
      },
      "source": [
        "#### Análise Diretores\n",
        "\n",
        "\n",
        "\n"
      ]
    },
    {
      "cell_type": "markdown",
      "metadata": {
        "id": "yo_76ShUjALN"
      },
      "source": [
        "Inicialmente, vamos ver os top 20 diretores que fizeram mais filmes"
      ]
    },
    {
      "cell_type": "code",
      "metadata": {
        "id": "kmHKvpBAv1UA",
        "outputId": "9e9eb147-65c8-429e-8337-87482da5eb15",
        "colab": {
          "base_uri": "https://localhost:8080/",
          "height": 283
        }
      },
      "source": [
        "movies_count_by_directors = movie_director_df.groupBy('Director').agg(countDistinct('ID').alias('count')).toPandas()\n",
        "movies_count_by_directors.nlargest(20, 'count').plot.barh(x='Director')"
      ],
      "execution_count": 49,
      "outputs": [
        {
          "output_type": "execute_result",
          "data": {
            "text/plain": [
              "<matplotlib.axes._subplots.AxesSubplot at 0x7fd7f46528d0>"
            ]
          },
          "metadata": {
            "tags": []
          },
          "execution_count": 49
        },
        {
          "output_type": "display_data",
          "data": {
            "image/png": "[encoded data removed]",
            "text/plain": [
              "<Figure size 432x288 with 1 Axes>"
            ]
          },
          "metadata": {
            "tags": [],
            "needs_background": "light"
          }
        }
      ]
    },
    {
      "cell_type": "code",
      "metadata": {
        "id": "qti07AC00b5R",
        "outputId": "5cd5ab5e-191b-43c8-dd5e-509111f299e2",
        "colab": {
          "base_uri": "https://localhost:8080/",
          "height": 415
        }
      },
      "source": [
        "from pyspark.sql.functions import mean\n",
        "\n",
        "directors_stats_pyspark = movie_director_df.distinct()\\\n",
        "                            .join(movies_df_processed, movies_df_processed['ID'] == movie_director_df['ID'])\\\n",
        "                            .select('Director', 'IMDb', 'RottenTomatoes', movie_director_df['ID'])\\\n",
        "                            .groupBy('Director')\\\n",
        "                            .agg(count('ID').alias('movies_count'), mean('IMDb').alias('IMDb_mean'), mean('RottenTomatoes').alias('RottenTomatoes_mean'))\\\n",
        "                            \n",
        "directors_stats = directors_stats_pyspark.toPandas()\n",
        "directors_stats"
      ],
      "execution_count": 50,
      "outputs": [
        {
          "output_type": "execute_result",
          "data": {
            "text/html": [
              "<div>\n",
              "<style scoped>\n",
              "    .dataframe tbody tr th:only-of-type {\n",
              "        vertical-align: middle;\n",
              "    }\n",
              "\n",
              "    .dataframe tbody tr th {\n",
              "        vertical-align: top;\n",
              "    }\n",
              "\n",
              "    .dataframe thead th {\n",
              "        text-align: right;\n",
              "    }\n",
              "</style>\n",
              "<table border=\"1\" class=\"dataframe\">\n",
              "  <thead>\n",
              "    <tr style=\"text-align: right;\">\n",
              "      <th></th>\n",
              "      <th>Director</th>\n",
              "      <th>movies_count</th>\n",
              "      <th>IMDb_mean</th>\n",
              "      <th>RottenTomatoes_mean</th>\n",
              "    </tr>\n",
              "  </thead>\n",
              "  <tbody>\n",
              "    <tr>\n",
              "      <th>0</th>\n",
              "      <td>Rhiannon Bannenberg</td>\n",
              "      <td>1</td>\n",
              "      <td>5.5</td>\n",
              "      <td>NaN</td>\n",
              "    </tr>\n",
              "    <tr>\n",
              "      <th>1</th>\n",
              "      <td>Perry Moore</td>\n",
              "      <td>1</td>\n",
              "      <td>5.9</td>\n",
              "      <td>1.2</td>\n",
              "    </tr>\n",
              "    <tr>\n",
              "      <th>2</th>\n",
              "      <td>John Wells</td>\n",
              "      <td>1</td>\n",
              "      <td>6.7</td>\n",
              "      <td>6.7</td>\n",
              "    </tr>\n",
              "    <tr>\n",
              "      <th>3</th>\n",
              "      <td>Todd E. Freeman</td>\n",
              "      <td>1</td>\n",
              "      <td>3.7</td>\n",
              "      <td>NaN</td>\n",
              "    </tr>\n",
              "    <tr>\n",
              "      <th>4</th>\n",
              "      <td>Doug Walker</td>\n",
              "      <td>1</td>\n",
              "      <td>3.5</td>\n",
              "      <td>1.9</td>\n",
              "    </tr>\n",
              "    <tr>\n",
              "      <th>...</th>\n",
              "      <td>...</td>\n",
              "      <td>...</td>\n",
              "      <td>...</td>\n",
              "      <td>...</td>\n",
              "    </tr>\n",
              "    <tr>\n",
              "      <th>12448</th>\n",
              "      <td>Roozbeh Kaboly</td>\n",
              "      <td>1</td>\n",
              "      <td>3.3</td>\n",
              "      <td>NaN</td>\n",
              "    </tr>\n",
              "    <tr>\n",
              "      <th>12449</th>\n",
              "      <td>Satoshi Nishimura</td>\n",
              "      <td>1</td>\n",
              "      <td>7.5</td>\n",
              "      <td>NaN</td>\n",
              "    </tr>\n",
              "    <tr>\n",
              "      <th>12450</th>\n",
              "      <td>Eric Forsberg</td>\n",
              "      <td>1</td>\n",
              "      <td>2.4</td>\n",
              "      <td>0.8</td>\n",
              "    </tr>\n",
              "    <tr>\n",
              "      <th>12451</th>\n",
              "      <td>Charles A. Addessi</td>\n",
              "      <td>1</td>\n",
              "      <td>5.7</td>\n",
              "      <td>1.9</td>\n",
              "    </tr>\n",
              "    <tr>\n",
              "      <th>12452</th>\n",
              "      <td>Michael Margolis</td>\n",
              "      <td>1</td>\n",
              "      <td>5.2</td>\n",
              "      <td>NaN</td>\n",
              "    </tr>\n",
              "  </tbody>\n",
              "</table>\n",
              "<p>12453 rows × 4 columns</p>\n",
              "</div>"
            ],
            "text/plain": [
              "                  Director  movies_count  IMDb_mean  RottenTomatoes_mean\n",
              "0      Rhiannon Bannenberg             1        5.5                  NaN\n",
              "1              Perry Moore             1        5.9                  1.2\n",
              "2               John Wells             1        6.7                  6.7\n",
              "3          Todd E. Freeman             1        3.7                  NaN\n",
              "4              Doug Walker             1        3.5                  1.9\n",
              "...                    ...           ...        ...                  ...\n",
              "12448       Roozbeh Kaboly             1        3.3                  NaN\n",
              "12449    Satoshi Nishimura             1        7.5                  NaN\n",
              "12450        Eric Forsberg             1        2.4                  0.8\n",
              "12451   Charles A. Addessi             1        5.7                  1.9\n",
              "12452     Michael Margolis             1        5.2                  NaN\n",
              "\n",
              "[12453 rows x 4 columns]"
            ]
          },
          "metadata": {
            "tags": []
          },
          "execution_count": 50
        }
      ]
    },
    {
      "cell_type": "code",
      "metadata": {
        "id": "joLqUGVTXNE-",
        "outputId": "90516981-354b-43c2-a135-97a4e37a3f81",
        "colab": {
          "base_uri": "https://localhost:8080/",
          "height": 447
        }
      },
      "source": [
        "import matplotlib.pyplot as plt\n",
        "\n",
        "sorted_imdb = directors_stats.sort_values(by='IMDb_mean', ascending=False).head(20) \n",
        "sorted_rotten = directors_stats.sort_values(by='RottenTomatoes_mean', ascending=False).head(20) \n",
        "\n",
        "fig, axes = plt.subplots(1, 2)\n",
        "fig.tight_layout(pad=3.0)\n",
        "sorted_imdb[['Director', 'IMDb_mean']].plot.barh(x='Director', ax=axes[0], figsize=(20, 8), title='IMDB TOP20 Diretores com maior média')\n",
        "sorted_rotten[['Director', 'RottenTomatoes_mean']].plot.barh(x='Director', ax=axes[1], figsize=(20, 8), title='RottenTomatoes TOP20 Diretores com maior média')"
      ],
      "execution_count": 51,
      "outputs": [
        {
          "output_type": "execute_result",
          "data": {
            "text/plain": [
              "<matplotlib.axes._subplots.AxesSubplot at 0x7fd7f46a65c0>"
            ]
          },
          "metadata": {
            "tags": []
          },
          "execution_count": 51
        },
        {
          "output_type": "display_data",
          "data": {
            "image/png": "[encoded data removed]",
            "text/plain": [
              "<Figure size 1440x576 with 2 Axes>"
            ]
          },
          "metadata": {
            "tags": [],
            "needs_background": "light"
          }
        }
      ]
    },
    {
      "cell_type": "markdown",
      "metadata": {
        "id": "X_Cc2anGWCcr"
      },
      "source": [
        "Esses diretores estão com uma média muito alta, principalmente os do Rotten Tomatoes, no qual todos os Top 20 possuem média 10. Analisando o Danny Wu, por exemplo, podemos notar que só existe uma nota relacionada a ele"
      ]
    },
    {
      "cell_type": "code",
      "metadata": {
        "id": "VB0KocRpgJ7B",
        "outputId": "d644df41-c5ae-45bf-872c-ba83d07bad33",
        "colab": {
          "base_uri": "https://localhost:8080/",
          "height": 121
        }
      },
      "source": [
        "movie_director_df.distinct()\\\n",
        ".join(movies_df_processed, movies_df_processed['ID'] == movie_director_df['ID'])\\\n",
        ".select('Director', 'IMDb').where(col('Director') == 'Danny Wu').show()"
      ],
      "execution_count": 52,
      "outputs": [
        {
          "output_type": "stream",
          "text": [
            "+--------+----+\n",
            "|Director|IMDb|\n",
            "+--------+----+\n",
            "|Danny Wu| 9.3|\n",
            "+--------+----+\n",
            "\n"
          ],
          "name": "stdout"
        }
      ]
    },
    {
      "cell_type": "markdown",
      "metadata": {
        "id": "dpEBK2QCgcXX"
      },
      "source": [
        "Vamos ver a quantidade de diretores por filmes feitos:"
      ]
    },
    {
      "cell_type": "code",
      "metadata": {
        "id": "SwBBaYoWShel",
        "outputId": "bac8e4df-42f9-4311-83ea-a4d7a4d2a33b",
        "colab": {
          "base_uri": "https://localhost:8080/",
          "height": 785
        }
      },
      "source": [
        "directors_movie_count = movie_director_df.distinct()\\\n",
        "                            .groupBy('Director')\\\n",
        "                            .agg(count('ID').alias('Total Movies'))\\\n",
        "                            .groupBy('Total Movies').agg(count('Director').alias('Total Director')).orderBy(col('Total Movies')).toPandas()\n",
        "directors_movie_count"
      ],
      "execution_count": 53,
      "outputs": [
        {
          "output_type": "execute_result",
          "data": {
            "text/html": [
              "<div>\n",
              "<style scoped>\n",
              "    .dataframe tbody tr th:only-of-type {\n",
              "        vertical-align: middle;\n",
              "    }\n",
              "\n",
              "    .dataframe tbody tr th {\n",
              "        vertical-align: top;\n",
              "    }\n",
              "\n",
              "    .dataframe thead th {\n",
              "        text-align: right;\n",
              "    }\n",
              "</style>\n",
              "<table border=\"1\" class=\"dataframe\">\n",
              "  <thead>\n",
              "    <tr style=\"text-align: right;\">\n",
              "      <th></th>\n",
              "      <th>Total Movies</th>\n",
              "      <th>Total Director</th>\n",
              "    </tr>\n",
              "  </thead>\n",
              "  <tbody>\n",
              "    <tr>\n",
              "      <th>0</th>\n",
              "      <td>1</td>\n",
              "      <td>9549</td>\n",
              "    </tr>\n",
              "    <tr>\n",
              "      <th>1</th>\n",
              "      <td>2</td>\n",
              "      <td>1741</td>\n",
              "    </tr>\n",
              "    <tr>\n",
              "      <th>2</th>\n",
              "      <td>3</td>\n",
              "      <td>563</td>\n",
              "    </tr>\n",
              "    <tr>\n",
              "      <th>3</th>\n",
              "      <td>4</td>\n",
              "      <td>274</td>\n",
              "    </tr>\n",
              "    <tr>\n",
              "      <th>4</th>\n",
              "      <td>5</td>\n",
              "      <td>127</td>\n",
              "    </tr>\n",
              "    <tr>\n",
              "      <th>5</th>\n",
              "      <td>6</td>\n",
              "      <td>74</td>\n",
              "    </tr>\n",
              "    <tr>\n",
              "      <th>6</th>\n",
              "      <td>7</td>\n",
              "      <td>48</td>\n",
              "    </tr>\n",
              "    <tr>\n",
              "      <th>7</th>\n",
              "      <td>8</td>\n",
              "      <td>20</td>\n",
              "    </tr>\n",
              "    <tr>\n",
              "      <th>8</th>\n",
              "      <td>9</td>\n",
              "      <td>15</td>\n",
              "    </tr>\n",
              "    <tr>\n",
              "      <th>9</th>\n",
              "      <td>10</td>\n",
              "      <td>6</td>\n",
              "    </tr>\n",
              "    <tr>\n",
              "      <th>10</th>\n",
              "      <td>11</td>\n",
              "      <td>5</td>\n",
              "    </tr>\n",
              "    <tr>\n",
              "      <th>11</th>\n",
              "      <td>12</td>\n",
              "      <td>7</td>\n",
              "    </tr>\n",
              "    <tr>\n",
              "      <th>12</th>\n",
              "      <td>13</td>\n",
              "      <td>4</td>\n",
              "    </tr>\n",
              "    <tr>\n",
              "      <th>13</th>\n",
              "      <td>14</td>\n",
              "      <td>2</td>\n",
              "    </tr>\n",
              "    <tr>\n",
              "      <th>14</th>\n",
              "      <td>15</td>\n",
              "      <td>2</td>\n",
              "    </tr>\n",
              "    <tr>\n",
              "      <th>15</th>\n",
              "      <td>16</td>\n",
              "      <td>2</td>\n",
              "    </tr>\n",
              "    <tr>\n",
              "      <th>16</th>\n",
              "      <td>17</td>\n",
              "      <td>2</td>\n",
              "    </tr>\n",
              "    <tr>\n",
              "      <th>17</th>\n",
              "      <td>18</td>\n",
              "      <td>2</td>\n",
              "    </tr>\n",
              "    <tr>\n",
              "      <th>18</th>\n",
              "      <td>21</td>\n",
              "      <td>4</td>\n",
              "    </tr>\n",
              "    <tr>\n",
              "      <th>19</th>\n",
              "      <td>22</td>\n",
              "      <td>1</td>\n",
              "    </tr>\n",
              "    <tr>\n",
              "      <th>20</th>\n",
              "      <td>23</td>\n",
              "      <td>2</td>\n",
              "    </tr>\n",
              "    <tr>\n",
              "      <th>21</th>\n",
              "      <td>29</td>\n",
              "      <td>1</td>\n",
              "    </tr>\n",
              "    <tr>\n",
              "      <th>22</th>\n",
              "      <td>31</td>\n",
              "      <td>1</td>\n",
              "    </tr>\n",
              "    <tr>\n",
              "      <th>23</th>\n",
              "      <td>36</td>\n",
              "      <td>1</td>\n",
              "    </tr>\n",
              "  </tbody>\n",
              "</table>\n",
              "</div>"
            ],
            "text/plain": [
              "    Total Movies  Total Director\n",
              "0              1            9549\n",
              "1              2            1741\n",
              "2              3             563\n",
              "3              4             274\n",
              "4              5             127\n",
              "5              6              74\n",
              "6              7              48\n",
              "7              8              20\n",
              "8              9              15\n",
              "9             10               6\n",
              "10            11               5\n",
              "11            12               7\n",
              "12            13               4\n",
              "13            14               2\n",
              "14            15               2\n",
              "15            16               2\n",
              "16            17               2\n",
              "17            18               2\n",
              "18            21               4\n",
              "19            22               1\n",
              "20            23               2\n",
              "21            29               1\n",
              "22            31               1\n",
              "23            36               1"
            ]
          },
          "metadata": {
            "tags": []
          },
          "execution_count": 53
        }
      ]
    },
    {
      "cell_type": "markdown",
      "metadata": {
        "id": "PGP74-C8g6J2"
      },
      "source": [
        "Com isso iremos pegar a média de filmes feitos por diretor e fazer nossas analises baseado nos diretores que fizeram pelo menos a media de filmes."
      ]
    },
    {
      "cell_type": "code",
      "metadata": {
        "id": "lXkfjCMThPvF",
        "outputId": "71e5dc4f-8111-4374-f375-5f8bf688305b",
        "colab": {
          "base_uri": "https://localhost:8080/",
          "height": 35
        }
      },
      "source": [
        "directors_movies_mean = movie_director_df.distinct()\\\n",
        "                            .groupBy('Director')\\\n",
        "                            .agg(count('ID').alias('Total Movies'))\\\n",
        "                            .select(mean('Total Movies').alias('mean'))\\\n",
        "                            .collect()[0][0]\n",
        "directors_movies_mean"
      ],
      "execution_count": 54,
      "outputs": [
        {
          "output_type": "execute_result",
          "data": {
            "text/plain": [
              "1.4602906930057014"
            ]
          },
          "metadata": {
            "tags": []
          },
          "execution_count": 54
        }
      ]
    },
    {
      "cell_type": "code",
      "metadata": {
        "id": "dUWkWVn2jXwj",
        "outputId": "5bdb9174-c59e-4203-dbfa-3941eaac7d4d",
        "colab": {
          "base_uri": "https://localhost:8080/",
          "height": 283
        }
      },
      "source": [
        "directors_filtered = directors_stats_pyspark.distinct()\\\n",
        "                            .where(col('movies_count') >= directors_movies_mean)\\\n",
        "                            .toPandas()\n",
        "directors_filtered.nlargest(20, 'movies_count')[['Director', 'movies_count']].plot.barh(x='Director')"
      ],
      "execution_count": 55,
      "outputs": [
        {
          "output_type": "execute_result",
          "data": {
            "text/plain": [
              "<matplotlib.axes._subplots.AxesSubplot at 0x7fd7f4bf3cc0>"
            ]
          },
          "metadata": {
            "tags": []
          },
          "execution_count": 55
        },
        {
          "output_type": "display_data",
          "data": {
            "image/png": "[encoded data removed]",
            "text/plain": [
              "<Figure size 432x288 with 1 Axes>"
            ]
          },
          "metadata": {
            "tags": [],
            "needs_background": "light"
          }
        }
      ]
    },
    {
      "cell_type": "code",
      "metadata": {
        "id": "7FYuznxswzEe",
        "outputId": "d0fe6f77-9801-41be-e3ce-a1d928a1d704",
        "colab": {
          "base_uri": "https://localhost:8080/",
          "height": 283
        }
      },
      "source": [
        "directors_high_grade_count = directors_stats_pyspark.distinct()\\\n",
        "                            .where(col('movies_count') >= directors_movies_mean).toPandas()\n",
        "directors_high_grade_count.nlargest(20, 'IMDb_mean')[['Director', 'IMDb_mean']].plot.barh(x='Director')"
      ],
      "execution_count": 56,
      "outputs": [
        {
          "output_type": "execute_result",
          "data": {
            "text/plain": [
              "<matplotlib.axes._subplots.AxesSubplot at 0x7fd7f1b30240>"
            ]
          },
          "metadata": {
            "tags": []
          },
          "execution_count": 56
        },
        {
          "output_type": "display_data",
          "data": {
            "image/png": "[encoded data removed]",
            "text/plain": [
              "<Figure size 432x288 with 1 Axes>"
            ]
          },
          "metadata": {
            "tags": [],
            "needs_background": "light"
          }
        }
      ]
    },
    {
      "cell_type": "code",
      "metadata": {
        "id": "3WPBHfMvRNYu",
        "outputId": "29cb4aa6-2872-4fc0-ee7d-ba4500a280da",
        "colab": {
          "base_uri": "https://localhost:8080/",
          "height": 314
        }
      },
      "source": [
        "movies_no_outliers.describe()"
      ],
      "execution_count": 57,
      "outputs": [
        {
          "output_type": "execute_result",
          "data": {
            "text/html": [
              "<div>\n",
              "<style scoped>\n",
              "    .dataframe tbody tr th:only-of-type {\n",
              "        vertical-align: middle;\n",
              "    }\n",
              "\n",
              "    .dataframe tbody tr th {\n",
              "        vertical-align: top;\n",
              "    }\n",
              "\n",
              "    .dataframe thead th {\n",
              "        text-align: right;\n",
              "    }\n",
              "</style>\n",
              "<table border=\"1\" class=\"dataframe\">\n",
              "  <thead>\n",
              "    <tr style=\"text-align: right;\">\n",
              "      <th></th>\n",
              "      <th>ID</th>\n",
              "      <th>Year</th>\n",
              "      <th>IMDb</th>\n",
              "      <th>Netflix</th>\n",
              "      <th>Hulu</th>\n",
              "      <th>Prime Video</th>\n",
              "      <th>Disney+</th>\n",
              "      <th>Runtime</th>\n",
              "      <th>MinimumClassification</th>\n",
              "      <th>RottenTomatoes</th>\n",
              "      <th>runtime_log</th>\n",
              "      <th>decade</th>\n",
              "    </tr>\n",
              "  </thead>\n",
              "  <tbody>\n",
              "    <tr>\n",
              "      <th>count</th>\n",
              "      <td>15764.000000</td>\n",
              "      <td>15764.000000</td>\n",
              "      <td>15466.000000</td>\n",
              "      <td>15764.000000</td>\n",
              "      <td>15764.000000</td>\n",
              "      <td>15764.000000</td>\n",
              "      <td>15764.000000</td>\n",
              "      <td>15764.000000</td>\n",
              "      <td>15764.000000</td>\n",
              "      <td>5072.000000</td>\n",
              "      <td>15764.000000</td>\n",
              "      <td>15764.000000</td>\n",
              "    </tr>\n",
              "    <tr>\n",
              "      <th>mean</th>\n",
              "      <td>8321.366278</td>\n",
              "      <td>2002.813055</td>\n",
              "      <td>5.894168</td>\n",
              "      <td>0.206293</td>\n",
              "      <td>0.055379</td>\n",
              "      <td>0.743466</td>\n",
              "      <td>0.033748</td>\n",
              "      <td>94.925400</td>\n",
              "      <td>5.302081</td>\n",
              "      <td>6.535864</td>\n",
              "      <td>1.964522</td>\n",
              "      <td>1997.798148</td>\n",
              "    </tr>\n",
              "    <tr>\n",
              "      <th>std</th>\n",
              "      <td>4793.571669</td>\n",
              "      <td>20.670629</td>\n",
              "      <td>1.349739</td>\n",
              "      <td>0.404656</td>\n",
              "      <td>0.228726</td>\n",
              "      <td>0.436734</td>\n",
              "      <td>0.180585</td>\n",
              "      <td>23.321817</td>\n",
              "      <td>8.066751</td>\n",
              "      <td>2.662999</td>\n",
              "      <td>0.106762</td>\n",
              "      <td>20.446816</td>\n",
              "    </tr>\n",
              "    <tr>\n",
              "      <th>min</th>\n",
              "      <td>1.000000</td>\n",
              "      <td>1912.000000</td>\n",
              "      <td>0.000000</td>\n",
              "      <td>0.000000</td>\n",
              "      <td>0.000000</td>\n",
              "      <td>0.000000</td>\n",
              "      <td>0.000000</td>\n",
              "      <td>34.000000</td>\n",
              "      <td>-1.000000</td>\n",
              "      <td>0.200000</td>\n",
              "      <td>1.531479</td>\n",
              "      <td>1910.000000</td>\n",
              "    </tr>\n",
              "    <tr>\n",
              "      <th>25%</th>\n",
              "      <td>4266.750000</td>\n",
              "      <td>2000.000000</td>\n",
              "      <td>5.100000</td>\n",
              "      <td>0.000000</td>\n",
              "      <td>0.000000</td>\n",
              "      <td>0.000000</td>\n",
              "      <td>0.000000</td>\n",
              "      <td>83.000000</td>\n",
              "      <td>-1.000000</td>\n",
              "      <td>4.400000</td>\n",
              "      <td>1.919078</td>\n",
              "      <td>2000.000000</td>\n",
              "    </tr>\n",
              "    <tr>\n",
              "      <th>50%</th>\n",
              "      <td>8325.500000</td>\n",
              "      <td>2012.000000</td>\n",
              "      <td>6.100000</td>\n",
              "      <td>0.000000</td>\n",
              "      <td>0.000000</td>\n",
              "      <td>1.000000</td>\n",
              "      <td>0.000000</td>\n",
              "      <td>92.000000</td>\n",
              "      <td>-1.000000</td>\n",
              "      <td>7.100000</td>\n",
              "      <td>1.963788</td>\n",
              "      <td>2010.000000</td>\n",
              "    </tr>\n",
              "    <tr>\n",
              "      <th>75%</th>\n",
              "      <td>12445.250000</td>\n",
              "      <td>2016.000000</td>\n",
              "      <td>6.900000</td>\n",
              "      <td>0.000000</td>\n",
              "      <td>0.000000</td>\n",
              "      <td>1.000000</td>\n",
              "      <td>0.000000</td>\n",
              "      <td>105.000000</td>\n",
              "      <td>13.000000</td>\n",
              "      <td>8.800000</td>\n",
              "      <td>2.021189</td>\n",
              "      <td>2010.000000</td>\n",
              "    </tr>\n",
              "    <tr>\n",
              "      <th>max</th>\n",
              "      <td>16741.000000</td>\n",
              "      <td>2020.000000</td>\n",
              "      <td>9.300000</td>\n",
              "      <td>1.000000</td>\n",
              "      <td>1.000000</td>\n",
              "      <td>1.000000</td>\n",
              "      <td>1.000000</td>\n",
              "      <td>256.000000</td>\n",
              "      <td>18.000000</td>\n",
              "      <td>10.000000</td>\n",
              "      <td>2.408240</td>\n",
              "      <td>2020.000000</td>\n",
              "    </tr>\n",
              "  </tbody>\n",
              "</table>\n",
              "</div>"
            ],
            "text/plain": [
              "                 ID          Year  ...   runtime_log        decade\n",
              "count  15764.000000  15764.000000  ...  15764.000000  15764.000000\n",
              "mean    8321.366278   2002.813055  ...      1.964522   1997.798148\n",
              "std     4793.571669     20.670629  ...      0.106762     20.446816\n",
              "min        1.000000   1912.000000  ...      1.531479   1910.000000\n",
              "25%     4266.750000   2000.000000  ...      1.919078   2000.000000\n",
              "50%     8325.500000   2012.000000  ...      1.963788   2010.000000\n",
              "75%    12445.250000   2016.000000  ...      2.021189   2010.000000\n",
              "max    16741.000000   2020.000000  ...      2.408240   2020.000000\n",
              "\n",
              "[8 rows x 12 columns]"
            ]
          },
          "metadata": {
            "tags": []
          },
          "execution_count": 57
        }
      ]
    },
    {
      "cell_type": "markdown",
      "metadata": {
        "id": "8Jcz9i0ELV2v"
      },
      "source": [
        "ANALISES\n",
        "- Qual é mais critico em relacão as notas (imdb ou rotten)\n",
        "- Quantidade de filmes presentes em cada plataforma\n",
        "- Alguma relacao de ano + nota / nota + regiao produzida / nota + ator conhecido\n",
        "- Agrupar por ator para ver qual ator fez mais filme, fazer uma analise do ator + media dos filmes que ele esteve presente\n",
        "- Existe maior quantidade de filmes em ingles\n",
        "- Existe maior quantidade de filmes feito nos USA\n"
      ]
    },
    {
      "cell_type": "markdown",
      "metadata": {
        "id": "lqvAs5ykjaOz"
      },
      "source": [
        "### Hipóteses"
      ]
    },
    {
      "cell_type": "markdown",
      "metadata": {
        "id": "Rs5TFIcZjeU4"
      },
      "source": [
        "HIPOTESES\n",
        "1. Notas dos filmes do Imdb e Rotten Tomatoes seguem uma distribuição normal ou a mesma distribuição\n",
        "2. Filmes de terror e ação tem uma classificacao indicativa maior\n",
        "3. Filmes de drama tem maior nota no rotten tomatoes\n",
        "4. Filmes na Plataforma da Netflix possuem notas mais altas"
      ]
    },
    {
      "cell_type": "markdown",
      "metadata": {
        "id": "jTGVpYiFjo6y"
      },
      "source": [
        "#### Hipótese 1"
      ]
    },
    {
      "cell_type": "code",
      "metadata": {
        "id": "Xtnt9LsMmwgZ"
      },
      "source": [
        "from scipy import stats"
      ],
      "execution_count": 58,
      "outputs": []
    },
    {
      "cell_type": "code",
      "metadata": {
        "id": "EU2xLJ0xMhjL"
      },
      "source": [
        "# vamos dropar os nan porque não nos interessa nos cálculos\n",
        "movies_processed_pd = movies_df_processed.toPandas().dropna()"
      ],
      "execution_count": 59,
      "outputs": []
    },
    {
      "cell_type": "markdown",
      "metadata": {
        "id": "I6khgTlqqdpm"
      },
      "source": [
        "Vamos checar agora se a diferença entre notas imdb e rotten tomatoes segue uma distribuição normal"
      ]
    },
    {
      "cell_type": "code",
      "metadata": {
        "id": "dnxyJbwOoEuk"
      },
      "source": [
        "movies_processed_pd['grade_difference'] = movies_processed_pd['RottenTomatoes'] - movies_processed_pd['IMDb']"
      ],
      "execution_count": 60,
      "outputs": []
    },
    {
      "cell_type": "code",
      "metadata": {
        "id": "mi0ilb6Tleek",
        "outputId": "c19cba6f-567b-4d6b-a7e5-a56b04d9c046",
        "colab": {
          "base_uri": "https://localhost:8080/",
          "height": 283
        }
      },
      "source": [
        "movies_processed_pd[['grade_difference']].plot(kind='hist')"
      ],
      "execution_count": 61,
      "outputs": [
        {
          "output_type": "execute_result",
          "data": {
            "text/plain": [
              "<matplotlib.axes._subplots.AxesSubplot at 0x7fd7e7a58780>"
            ]
          },
          "metadata": {
            "tags": []
          },
          "execution_count": 61
        },
        {
          "output_type": "display_data",
          "data": {
            "image/png": "[encoded data removed]",
            "text/plain": [
              "<Figure size 432x288 with 1 Axes>"
            ]
          },
          "metadata": {
            "tags": [],
            "needs_background": "light"
          }
        }
      ]
    },
    {
      "cell_type": "markdown",
      "metadata": {
        "id": "PDfYi-_OrDVh"
      },
      "source": [
        "Utilizando a função shapiro percebemos que o p value deu muito baixo rejeitando assim a hipótese nula de que a distribuição é normal. Devemos portanto realizar testes não paramétricos."
      ]
    },
    {
      "cell_type": "code",
      "metadata": {
        "id": "MknwleMfmZfM",
        "outputId": "e6b86006-a554-4fc9-c575-acc77d1f07f2",
        "colab": {
          "base_uri": "https://localhost:8080/",
          "height": 69
        }
      },
      "source": [
        "stats.shapiro(movies_processed_pd['grade_difference'])"
      ],
      "execution_count": 62,
      "outputs": [
        {
          "output_type": "stream",
          "text": [
            "/usr/local/lib/python3.6/dist-packages/scipy/stats/morestats.py:1676: UserWarning: p-value may not be accurate for N > 5000.\n",
            "  warnings.warn(\"p-value may not be accurate for N > 5000.\")\n"
          ],
          "name": "stderr"
        },
        {
          "output_type": "execute_result",
          "data": {
            "text/plain": [
              "(0.9654566645622253, 5.233825781556863e-33)"
            ]
          },
          "metadata": {
            "tags": []
          },
          "execution_count": 62
        }
      ]
    },
    {
      "cell_type": "markdown",
      "metadata": {
        "id": "KbS5c6GFshnq"
      },
      "source": [
        "Apesar de acreditarmos que as notas do IMDb e do Rotten tomatoes seguissem a mesma distribuição indicando que as notas seguem um padrão (divergindo somente na rigidez ou criticidade da nota), o resultado rodando o algoritmo de wilcoxon mostra que as duas notas não seguem a mesma distribuição, como podemos notar com o p-value muito baixo."
      ]
    },
    {
      "cell_type": "code",
      "metadata": {
        "id": "UZ4b25tUmu0f",
        "outputId": "0df3bd52-ea2f-4bc4-8beb-a1882362e369",
        "colab": {
          "base_uri": "https://localhost:8080/",
          "height": 35
        }
      },
      "source": [
        "stats.wilcoxon(movies_processed_pd['RottenTomatoes'], movies_processed_pd['IMDb'])"
      ],
      "execution_count": 63,
      "outputs": [
        {
          "output_type": "execute_result",
          "data": {
            "text/plain": [
              "WilcoxonResult(statistic=5415767.5, pvalue=1.0323800900489713e-11)"
            ]
          },
          "metadata": {
            "tags": []
          },
          "execution_count": 63
        }
      ]
    },
    {
      "cell_type": "markdown",
      "metadata": {
        "id": "CaRp1wrijzGv"
      },
      "source": [
        "#### Hipótese 2"
      ]
    },
    {
      "cell_type": "markdown",
      "metadata": {
        "id": "m_2lJFQSyHad"
      },
      "source": [
        "Vamos agora verificar as idades classificativas de acordo com os gêneros dos filmes, queremos mostrar que filmes de terror e ação são mais propensos a ter classificações mais altas."
      ]
    },
    {
      "cell_type": "code",
      "metadata": {
        "id": "MT1s3tp0s0Hw",
        "outputId": "b8598d8d-9c0b-4b35-916b-6e458aab657d",
        "colab": {
          "base_uri": "https://localhost:8080/",
          "height": 415
        }
      },
      "source": [
        "# primeiro vamos cruzar os dados de gênero com os de filme\n",
        "movies_genre_by_minimum_class = movie_genre_df.join(movies_df_processed, movies_df_processed['ID'] == movie_genre_df['ID'])\\\n",
        "                                              .select('Genre', 'MinimumClassification')\\\n",
        "                                              .where(col('MinimumClassification') >= 0)\n",
        "movies_genre_by_minimum_class_pd = movies_genre_by_minimum_class.toPandas()\n",
        "movies_genre_by_minimum_class_pd"
      ],
      "execution_count": 64,
      "outputs": [
        {
          "output_type": "execute_result",
          "data": {
            "text/html": [
              "<div>\n",
              "<style scoped>\n",
              "    .dataframe tbody tr th:only-of-type {\n",
              "        vertical-align: middle;\n",
              "    }\n",
              "\n",
              "    .dataframe tbody tr th {\n",
              "        vertical-align: top;\n",
              "    }\n",
              "\n",
              "    .dataframe thead th {\n",
              "        text-align: right;\n",
              "    }\n",
              "</style>\n",
              "<table border=\"1\" class=\"dataframe\">\n",
              "  <thead>\n",
              "    <tr style=\"text-align: right;\">\n",
              "      <th></th>\n",
              "      <th>Genre</th>\n",
              "      <th>MinimumClassification</th>\n",
              "    </tr>\n",
              "  </thead>\n",
              "  <tbody>\n",
              "    <tr>\n",
              "      <th>0</th>\n",
              "      <td>Action</td>\n",
              "      <td>13</td>\n",
              "    </tr>\n",
              "    <tr>\n",
              "      <th>1</th>\n",
              "      <td>Adventure</td>\n",
              "      <td>13</td>\n",
              "    </tr>\n",
              "    <tr>\n",
              "      <th>2</th>\n",
              "      <td>Sci-Fi</td>\n",
              "      <td>13</td>\n",
              "    </tr>\n",
              "    <tr>\n",
              "      <th>3</th>\n",
              "      <td>Thriller</td>\n",
              "      <td>13</td>\n",
              "    </tr>\n",
              "    <tr>\n",
              "      <th>4</th>\n",
              "      <td>Action</td>\n",
              "      <td>18</td>\n",
              "    </tr>\n",
              "    <tr>\n",
              "      <th>...</th>\n",
              "      <td>...</td>\n",
              "      <td>...</td>\n",
              "    </tr>\n",
              "    <tr>\n",
              "      <th>19211</th>\n",
              "      <td>Adventure</td>\n",
              "      <td>0</td>\n",
              "    </tr>\n",
              "    <tr>\n",
              "      <th>19212</th>\n",
              "      <td>Family</td>\n",
              "      <td>0</td>\n",
              "    </tr>\n",
              "    <tr>\n",
              "      <th>19213</th>\n",
              "      <td>Comedy</td>\n",
              "      <td>7</td>\n",
              "    </tr>\n",
              "    <tr>\n",
              "      <th>19214</th>\n",
              "      <td>Family</td>\n",
              "      <td>7</td>\n",
              "    </tr>\n",
              "    <tr>\n",
              "      <th>19215</th>\n",
              "      <td>Sci-Fi</td>\n",
              "      <td>7</td>\n",
              "    </tr>\n",
              "  </tbody>\n",
              "</table>\n",
              "<p>19216 rows × 2 columns</p>\n",
              "</div>"
            ],
            "text/plain": [
              "           Genre  MinimumClassification\n",
              "0         Action                     13\n",
              "1      Adventure                     13\n",
              "2         Sci-Fi                     13\n",
              "3       Thriller                     13\n",
              "4         Action                     18\n",
              "...          ...                    ...\n",
              "19211  Adventure                      0\n",
              "19212     Family                      0\n",
              "19213     Comedy                      7\n",
              "19214     Family                      7\n",
              "19215     Sci-Fi                      7\n",
              "\n",
              "[19216 rows x 2 columns]"
            ]
          },
          "metadata": {
            "tags": []
          },
          "execution_count": 64
        }
      ]
    },
    {
      "cell_type": "code",
      "metadata": {
        "id": "U3fz8ZkQ1Mlw"
      },
      "source": [
        "genres = movies_genre_by_minimum_class_pd.Genre.unique()"
      ],
      "execution_count": 65,
      "outputs": []
    },
    {
      "cell_type": "code",
      "metadata": {
        "id": "NFsbnMcM6Uof",
        "outputId": "ac3c9ef5-26f6-48ca-8923-f3155f1a8407",
        "colab": {
          "base_uri": "https://localhost:8080/",
          "height": 69
        }
      },
      "source": [
        "movies_genre_by_minimum_class_pd.dtypes"
      ],
      "execution_count": 66,
      "outputs": [
        {
          "output_type": "execute_result",
          "data": {
            "text/plain": [
              "Genre                    object\n",
              "MinimumClassification     int32\n",
              "dtype: object"
            ]
          },
          "metadata": {
            "tags": []
          },
          "execution_count": 66
        }
      ]
    },
    {
      "cell_type": "code",
      "metadata": {
        "id": "Mlr7Pzel0KgO",
        "outputId": "f2d83a69-cab4-46cb-9e11-eb84185bb724",
        "colab": {
          "base_uri": "https://localhost:8080/",
          "height": 349
        }
      },
      "source": [
        "import seaborn as sns\n",
        "fig, axes = plt.subplots(figsize=(15, 4))\n",
        "for tick in axes.get_xticklabels():\n",
        "    tick.set_rotation(55)\n",
        "sns.boxplot(x='Genre', y='MinimumClassification', data=movies_genre_by_minimum_class_pd, ax=axes)"
      ],
      "execution_count": 67,
      "outputs": [
        {
          "output_type": "execute_result",
          "data": {
            "text/plain": [
              "<matplotlib.axes._subplots.AxesSubplot at 0x7fd7e810ed30>"
            ]
          },
          "metadata": {
            "tags": []
          },
          "execution_count": 67
        },
        {
          "output_type": "display_data",
          "data": {
            "image/png": "[encoded data removed]",
            "text/plain": [
              "<Figure size 1080x288 with 1 Axes>"
            ]
          },
          "metadata": {
            "tags": [],
            "needs_background": "light"
          }
        }
      ]
    },
    {
      "cell_type": "markdown",
      "metadata": {
        "id": "xZuM9Lza6jG7"
      },
      "source": [
        "Como podemos ver através do gráfico acima, genêros como: Ação (Action), Suspense (Thriller), War (Guerra), Crime (Crime), Mistério (Mystery) e Terror (Horror), são genêros que possuem uma variação de classificação bem alta, com foco em Ação, Gerra, Crime que tem o primeiro quartil em 13 anos e o terceiro em 18, com a mediana em 18 anos nos casos de Ação e Crime. Destaca-se o gênero de terror que possui o primeiro quartil em 16 anos e com mediana e terceiro quartil em 18 anos. Os dados mostraram o que já era esperado."
      ]
    },
    {
      "cell_type": "markdown",
      "metadata": {
        "id": "CFwzz6jXj_Jt"
      },
      "source": [
        "#### Hipótese 3"
      ]
    },
    {
      "cell_type": "code",
      "metadata": {
        "id": "3cyLpKW60258"
      },
      "source": [
        "movies_without_missing_rating = movies_df_processed.where(col('IMDb').isNotNull() & col('RottenTomatoes').isNotNull())\\\n",
        "                                                   .join(movie_genre_df, movies_df_processed['ID'] == movie_genre_df['ID'])\\\n",
        "                                                   .withColumn('rating', (col('IMDb')+col('RottenTomatoes'))/2)\\\n",
        "                                                   .select(movies_df_processed['ID'], col('Genre'), col('IMDb'), col('RottenTomatoes'), col('rating'))\\\n",
        "                                                   .groupBy('Genre')\\\n",
        "                                                   .agg(count('ID').alias('total'), mean('IMDb').alias('IMDb_mean'),mean('RottenTomatoes').alias('RottenTomatoes_mean'), mean('rating').alias('rating_mean'))\\\n",
        "                                                   .toPandas()"
      ],
      "execution_count": 146,
      "outputs": []
    },
    {
      "cell_type": "markdown",
      "metadata": {
        "id": "7ZWjlC-lrrZF"
      },
      "source": [
        "Vamos remover gêneros com pouca quantidade de filmes para analisar melhor a relação entre gênero de filmes e notas."
      ]
    },
    {
      "cell_type": "code",
      "metadata": {
        "id": "ExeBK6bzpzHY",
        "outputId": "024dd5b1-eb21-432c-8b46-8b219a1d893d",
        "colab": {
          "base_uri": "https://localhost:8080/",
          "height": 877
        }
      },
      "source": [
        "movies_without_missing_rating[['Genre','total']]"
      ],
      "execution_count": 147,
      "outputs": [
        {
          "output_type": "execute_result",
          "data": {
            "text/html": [
              "<div>\n",
              "<style scoped>\n",
              "    .dataframe tbody tr th:only-of-type {\n",
              "        vertical-align: middle;\n",
              "    }\n",
              "\n",
              "    .dataframe tbody tr th {\n",
              "        vertical-align: top;\n",
              "    }\n",
              "\n",
              "    .dataframe thead th {\n",
              "        text-align: right;\n",
              "    }\n",
              "</style>\n",
              "<table border=\"1\" class=\"dataframe\">\n",
              "  <thead>\n",
              "    <tr style=\"text-align: right;\">\n",
              "      <th></th>\n",
              "      <th>Genre</th>\n",
              "      <th>total</th>\n",
              "    </tr>\n",
              "  </thead>\n",
              "  <tbody>\n",
              "    <tr>\n",
              "      <th>0</th>\n",
              "      <td>Crime</td>\n",
              "      <td>684</td>\n",
              "    </tr>\n",
              "    <tr>\n",
              "      <th>1</th>\n",
              "      <td>Romance</td>\n",
              "      <td>905</td>\n",
              "    </tr>\n",
              "    <tr>\n",
              "      <th>2</th>\n",
              "      <td>Thriller</td>\n",
              "      <td>1213</td>\n",
              "    </tr>\n",
              "    <tr>\n",
              "      <th>3</th>\n",
              "      <td>Adventure</td>\n",
              "      <td>646</td>\n",
              "    </tr>\n",
              "    <tr>\n",
              "      <th>4</th>\n",
              "      <td>Drama</td>\n",
              "      <td>2781</td>\n",
              "    </tr>\n",
              "    <tr>\n",
              "      <th>5</th>\n",
              "      <td>War</td>\n",
              "      <td>194</td>\n",
              "    </tr>\n",
              "    <tr>\n",
              "      <th>6</th>\n",
              "      <td>Documentary</td>\n",
              "      <td>733</td>\n",
              "    </tr>\n",
              "    <tr>\n",
              "      <th>7</th>\n",
              "      <td>Reality-TV</td>\n",
              "      <td>3</td>\n",
              "    </tr>\n",
              "    <tr>\n",
              "      <th>8</th>\n",
              "      <td>Family</td>\n",
              "      <td>519</td>\n",
              "    </tr>\n",
              "    <tr>\n",
              "      <th>9</th>\n",
              "      <td>Fantasy</td>\n",
              "      <td>463</td>\n",
              "    </tr>\n",
              "    <tr>\n",
              "      <th>10</th>\n",
              "      <td>Game-Show</td>\n",
              "      <td>2</td>\n",
              "    </tr>\n",
              "    <tr>\n",
              "      <th>11</th>\n",
              "      <td>History</td>\n",
              "      <td>291</td>\n",
              "    </tr>\n",
              "    <tr>\n",
              "      <th>12</th>\n",
              "      <td>Mystery</td>\n",
              "      <td>502</td>\n",
              "    </tr>\n",
              "    <tr>\n",
              "      <th>13</th>\n",
              "      <td>Musical</td>\n",
              "      <td>148</td>\n",
              "    </tr>\n",
              "    <tr>\n",
              "      <th>14</th>\n",
              "      <td>Animation</td>\n",
              "      <td>258</td>\n",
              "    </tr>\n",
              "    <tr>\n",
              "      <th>15</th>\n",
              "      <td>Music</td>\n",
              "      <td>257</td>\n",
              "    </tr>\n",
              "    <tr>\n",
              "      <th>16</th>\n",
              "      <td>Film-Noir</td>\n",
              "      <td>25</td>\n",
              "    </tr>\n",
              "    <tr>\n",
              "      <th>17</th>\n",
              "      <td>Horror</td>\n",
              "      <td>663</td>\n",
              "    </tr>\n",
              "    <tr>\n",
              "      <th>18</th>\n",
              "      <td>Short</td>\n",
              "      <td>27</td>\n",
              "    </tr>\n",
              "    <tr>\n",
              "      <th>19</th>\n",
              "      <td>Western</td>\n",
              "      <td>99</td>\n",
              "    </tr>\n",
              "    <tr>\n",
              "      <th>20</th>\n",
              "      <td>Biography</td>\n",
              "      <td>412</td>\n",
              "    </tr>\n",
              "    <tr>\n",
              "      <th>21</th>\n",
              "      <td>Comedy</td>\n",
              "      <td>1644</td>\n",
              "    </tr>\n",
              "    <tr>\n",
              "      <th>22</th>\n",
              "      <td>Action</td>\n",
              "      <td>715</td>\n",
              "    </tr>\n",
              "    <tr>\n",
              "      <th>23</th>\n",
              "      <td>Sport</td>\n",
              "      <td>140</td>\n",
              "    </tr>\n",
              "    <tr>\n",
              "      <th>24</th>\n",
              "      <td>Talk-Show</td>\n",
              "      <td>5</td>\n",
              "    </tr>\n",
              "    <tr>\n",
              "      <th>25</th>\n",
              "      <td>Sci-Fi</td>\n",
              "      <td>422</td>\n",
              "    </tr>\n",
              "    <tr>\n",
              "      <th>26</th>\n",
              "      <td>News</td>\n",
              "      <td>31</td>\n",
              "    </tr>\n",
              "  </tbody>\n",
              "</table>\n",
              "</div>"
            ],
            "text/plain": [
              "          Genre  total\n",
              "0         Crime    684\n",
              "1       Romance    905\n",
              "2      Thriller   1213\n",
              "3     Adventure    646\n",
              "4         Drama   2781\n",
              "5           War    194\n",
              "6   Documentary    733\n",
              "7    Reality-TV      3\n",
              "8        Family    519\n",
              "9       Fantasy    463\n",
              "10    Game-Show      2\n",
              "11      History    291\n",
              "12      Mystery    502\n",
              "13      Musical    148\n",
              "14    Animation    258\n",
              "15        Music    257\n",
              "16    Film-Noir     25\n",
              "17       Horror    663\n",
              "18        Short     27\n",
              "19      Western     99\n",
              "20    Biography    412\n",
              "21       Comedy   1644\n",
              "22       Action    715\n",
              "23        Sport    140\n",
              "24    Talk-Show      5\n",
              "25       Sci-Fi    422\n",
              "26         News     31"
            ]
          },
          "metadata": {
            "tags": []
          },
          "execution_count": 147
        }
      ]
    },
    {
      "cell_type": "code",
      "metadata": {
        "id": "J7RB9TUBq6u5",
        "outputId": "b2352b75-0263-4823-975d-5424928f2df8",
        "colab": {
          "base_uri": "https://localhost:8080/",
          "height": 35
        }
      },
      "source": [
        "q2 = movies_without_missing_rating['total'].quantile(q=0.25)\n",
        "q2"
      ],
      "execution_count": 148,
      "outputs": [
        {
          "output_type": "execute_result",
          "data": {
            "text/plain": [
              "119.5"
            ]
          },
          "metadata": {
            "tags": []
          },
          "execution_count": 148
        }
      ]
    },
    {
      "cell_type": "markdown",
      "metadata": {
        "id": "WCRcHVs_rn7G"
      },
      "source": [
        "Queremos remover os gêneros com a quantidade de filmes menor que o "
      ]
    },
    {
      "cell_type": "code",
      "metadata": {
        "id": "JPrxiM4lppoe"
      },
      "source": [
        "movies_without_missing_rating_out = movies_without_missing_rating[movies_without_missing_rating['total'] >= q2]"
      ],
      "execution_count": 149,
      "outputs": []
    },
    {
      "cell_type": "code",
      "metadata": {
        "id": "j9kgGVZopnXM",
        "outputId": "550cf109-6beb-4412-fe91-968cce1358f4",
        "colab": {
          "base_uri": "https://localhost:8080/",
          "height": 419
        }
      },
      "source": [
        "sorted_genre_imdb = movies_without_missing_rating_out.sort_values(by='IMDb_mean', ascending=True)\n",
        "sorted_genre_rotten = movies_without_missing_rating_out.sort_values(by='RottenTomatoes_mean', ascending=True)\n",
        "sorted_genre_rating_mean = movies_without_missing_rating_out.sort_values(by='rating_mean', ascending=True)\n",
        "\n",
        "fig, axes = plt.subplots(1, 3)\n",
        "\n",
        "sorted_genre_imdb[['Genre', 'IMDb_mean']].plot.barh(x='Genre', ax=axes[0], figsize=(30, 10), title='IMDb - Média de notas por gênero')\n",
        "sorted_genre_rotten[['Genre', 'RottenTomatoes_mean']].plot.barh(x='Genre', ax=axes[1], figsize=(30, 10), title='RottenTomatoes - Média de notas por gênero')\n",
        "sorted_genre_rating_mean[['Genre', 'rating_mean']].plot.barh(x='Genre', ax=axes[2], figsize=(30, 10), title='Média (imdb e rotten) de notas por gênero')"
      ],
      "execution_count": 150,
      "outputs": [
        {
          "output_type": "execute_result",
          "data": {
            "text/plain": [
              "<matplotlib.axes._subplots.AxesSubplot at 0x7fd7de3e00b8>"
            ]
          },
          "metadata": {
            "tags": []
          },
          "execution_count": 150
        },
        {
          "output_type": "display_data",
          "data": {
            "image/png": "[encoded data removed]",
            "text/plain": [
              "<Figure size 2160x720 with 3 Axes>"
            ]
          },
          "metadata": {
            "tags": [],
            "needs_background": "light"
          }
        }
      ]
    },
    {
      "cell_type": "markdown",
      "metadata": {
        "id": "uw7imPqOmzOJ"
      },
      "source": [
        "Nossa hipótese foi refutada, podemos perceber que filmes relacionados a história/documentário são os mais bem avaliados."
      ]
    },
    {
      "cell_type": "markdown",
      "metadata": {
        "id": "C0DDdueSmH9r"
      },
      "source": [
        "#### Hipótese 4"
      ]
    },
    {
      "cell_type": "code",
      "metadata": {
        "id": "3bHNeaKfeGG6",
        "outputId": "144a724d-5049-4f72-b681-a77a0a328682",
        "colab": {
          "base_uri": "https://localhost:8080/",
          "height": 521
        }
      },
      "source": [
        "plataform_rating = movies_df_processed.toPandas().melt(id_vars=['IMDb', 'RottenTomatoes'], value_vars=['Netflix', 'Prime Video', 'Hulu', 'Disney+'], var_name='Platform', value_name='Has')\n",
        "plataform_rating = plataform_rating[plataform_rating['Has'] == 1]\n",
        "fig, axes = plt.subplots(1,2, figsize=(25, 10))\n",
        "sns.boxplot(x='Platform', y='IMDb', data=plataform_rating, ax=axes[0]).set_title('IMDb')\n",
        "sns.boxplot(x='Platform', y='RottenTomatoes', data=plataform_rating, ax=axes[1]).set_title('Rotten Tomatoes')"
      ],
      "execution_count": 117,
      "outputs": [
        {
          "output_type": "execute_result",
          "data": {
            "text/plain": [
              "Text(0.5, 1.0, 'Rotten Tomatoes')"
            ]
          },
          "metadata": {
            "tags": []
          },
          "execution_count": 117
        },
        {
          "output_type": "display_data",
          "data": {
            "image/png": "[encoded data removed]",
            "text/plain": [
              "<Figure size 1800x720 with 2 Axes>"
            ]
          },
          "metadata": {
            "tags": [],
            "needs_background": "light"
          }
        }
      ]
    },
    {
      "cell_type": "code",
      "metadata": {
        "id": "_1FlU0kGmKSh"
      },
      "source": [
        ""
      ],
      "execution_count": null,
      "outputs": []
    }
  ]
}