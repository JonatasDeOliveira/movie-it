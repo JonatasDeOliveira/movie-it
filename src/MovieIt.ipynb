{
  "nbformat": 4,
  "nbformat_minor": 0,
  "metadata": {
    "colab": {
      "name": "MoveIt.ipynb",
      "provenance": [],
      "collapsed_sections": []
    },
    "kernelspec": {
      "name": "python3",
      "display_name": "Python 3"
    }
  },
  "cells": [
    {
      "cell_type": "markdown",
      "metadata": {
        "id": "lFxeRD2gAxEf"
      },
      "source": [
        "### Install PySpark"
      ]
    },
    {
      "cell_type": "code",
      "metadata": {
        "id": "RTdmD5l4BCct",
        "outputId": "2755611b-e154-45ba-ac72-99e04ec1f725",
        "colab": {
          "base_uri": "https://localhost:8080/",
          "height": 51
        }
      },
      "source": [
        "!pip install pyspark"
      ],
      "execution_count": 66,
      "outputs": [
        {
          "output_type": "stream",
          "text": [
            "Requirement already satisfied: pyspark in /usr/local/lib/python3.6/dist-packages (3.0.1)\n",
            "Requirement already satisfied: py4j==0.10.9 in /usr/local/lib/python3.6/dist-packages (from pyspark) (0.10.9)\n"
          ],
          "name": "stdout"
        }
      ]
    },
    {
      "cell_type": "markdown",
      "metadata": {
        "id": "_AcB-QsuAm8K"
      },
      "source": [
        "### Create Spark Context"
      ]
    },
    {
      "cell_type": "code",
      "metadata": {
        "id": "1udOWHIlCvbi"
      },
      "source": [
        "from pyspark import SparkContext\n",
        "from pyspark.sql import Row\n",
        "from pyspark.sql import *\n",
        "from pyspark.sql import SQLContext\n",
        "from pyspark import SparkFiles"
      ],
      "execution_count": 67,
      "outputs": []
    },
    {
      "cell_type": "code",
      "metadata": {
        "id": "eel4ff5OA6qe"
      },
      "source": [
        "spark = SparkContext.getOrCreate()"
      ],
      "execution_count": 68,
      "outputs": []
    },
    {
      "cell_type": "markdown",
      "metadata": {
        "id": "HWVV98rzl07M"
      },
      "source": [
        "### Load Dataset"
      ]
    },
    {
      "cell_type": "code",
      "metadata": {
        "id": "SoH9WIshDvSJ"
      },
      "source": [
        "spark.addFile('https://raw.githubusercontent.com/JonatasDeOliveira/movie-it/master/src/data/moviesOnStreamingPlatforms_updated.csv')"
      ],
      "execution_count": 69,
      "outputs": []
    },
    {
      "cell_type": "code",
      "metadata": {
        "id": "aiXf8Wm7BX98"
      },
      "source": [
        "sql_context = SQLContext(spark)\n",
        "movies_df = sql_context.read.csv(SparkFiles.get(\"moviesOnStreamingPlatforms_updated.csv\"), header=True, inferSchema= True)"
      ],
      "execution_count": 70,
      "outputs": []
    },
    {
      "cell_type": "code",
      "metadata": {
        "id": "xt0mKG56EWGI",
        "outputId": "601178cb-9d87-4a79-b4f2-da1a1356dac9",
        "colab": {
          "base_uri": "https://localhost:8080/",
          "height": 479
        }
      },
      "source": [
        "movies_df.show(20, False)"
      ],
      "execution_count": 71,
      "outputs": [
        {
          "output_type": "stream",
          "text": [
            "+---+---+----------------------------------+----+---+----+---------------+-------+----+-----------+-------+----+-------------------------------------------+----------------------------------------+-------------------------------------------+-------------------------------------------+-------+\n",
            "|_c0|ID |Title                             |Year|Age|IMDb|Rotten Tomatoes|Netflix|Hulu|Prime Video|Disney+|Type|Directors                                  |Genres                                  |Country                                    |Language                                   |Runtime|\n",
            "+---+---+----------------------------------+----+---+----+---------------+-------+----+-----------+-------+----+-------------------------------------------+----------------------------------------+-------------------------------------------+-------------------------------------------+-------+\n",
            "|0  |1  |Inception                         |2010|13+|8.8 |87%            |1      |0   |0          |0      |0   |Christopher Nolan                          |Action,Adventure,Sci-Fi,Thriller        |United States,United Kingdom               |English,Japanese,French                    |148    |\n",
            "|1  |2  |The Matrix                        |1999|18+|8.7 |87%            |1      |0   |0          |0      |0   |Lana Wachowski,Lilly Wachowski             |Action,Sci-Fi                           |United States                              |English                                    |136    |\n",
            "|2  |3  |Avengers: Infinity War            |2018|13+|8.5 |84%            |1      |0   |0          |0      |0   |Anthony Russo,Joe Russo                    |Action,Adventure,Sci-Fi                 |United States                              |English                                    |149    |\n",
            "|3  |4  |Back to the Future                |1985|7+ |8.5 |96%            |1      |0   |0          |0      |0   |Robert Zemeckis                            |Adventure,Comedy,Sci-Fi                 |United States                              |English                                    |116    |\n",
            "|4  |5  |The Good, the Bad and the Ugly    |1966|18+|8.8 |97%            |1      |0   |1          |0      |0   |Sergio Leone                               |Western                                 |Italy,Spain,West Germany                   |Italian                                    |161    |\n",
            "|5  |6  |Spider-Man: Into the Spider-Verse |2018|7+ |8.4 |97%            |1      |0   |0          |0      |0   |Bob Persichetti,Peter Ramsey,Rodney Rothman|Animation,Action,Adventure,Family,Sci-Fi|United States                              |English,Spanish                            |117    |\n",
            "|6  |7  |The Pianist                       |2002|18+|8.5 |95%            |1      |0   |1          |0      |0   |Roman Polanski                             |Biography,Drama,Music,War               |United Kingdom,France,Poland,Germany       |English,German,Russian                     |150    |\n",
            "|7  |8  |Django Unchained                  |2012|18+|8.4 |87%            |1      |0   |0          |0      |0   |Quentin Tarantino                          |Drama,Western                           |United States                              |English,German,French,Italian              |165    |\n",
            "|8  |9  |Raiders of the Lost Ark           |1981|7+ |8.4 |95%            |1      |0   |0          |0      |0   |Steven Spielberg                           |Action,Adventure                        |United States                              |English,German,Hebrew,Spanish,Arabic,Nepali|115    |\n",
            "|9  |10 |Inglourious Basterds              |2009|18+|8.3 |89%            |1      |0   |0          |0      |0   |Quentin Tarantino                          |Adventure,Drama,War                     |Germany,United States                      |English,German,French,Italian              |153    |\n",
            "|10 |11 |Taxi Driver                       |1976|18+|8.3 |95%            |1      |0   |0          |0      |0   |Martin Scorsese                            |Crime,Drama                             |United States                              |English,Spanish                            |114    |\n",
            "|11 |12 |3 Idiots                          |2009|13+|8.4 |100%           |1      |0   |1          |0      |0   |Rajkumar Hirani                            |Comedy,Drama                            |India                                      |Hindi,English                              |170    |\n",
            "|12 |13 |Pan's Labyrinth                   |2006|18+|8.2 |95%            |1      |0   |0          |0      |0   |Guillermo del Toro                         |Drama,Fantasy,War                       |Mexico,Spain                               |Spanish                                    |118    |\n",
            "|13 |14 |Room                              |2015|18+|8.1 |93%            |1      |0   |0          |0      |0   |Lenny Abrahamson                           |Drama,Thriller                          |Ireland,Canada,United Kingdom,United States|English                                    |118    |\n",
            "|14 |15 |Monty Python and the Holy Grail   |1975|7+ |8.2 |97%            |1      |0   |0          |0      |0   |Terry Gilliam,Terry Jones                  |Adventure,Comedy,Fantasy                |United Kingdom                             |English,French,Latin                       |91     |\n",
            "|15 |16 |Once Upon a Time in the West      |1968|13+|8.5 |95%            |1      |0   |1          |0      |0   |Sergio Leone                               |Western                                 |Italy,United States                        |Italian,English,Spanish                    |165    |\n",
            "|16 |17 |Indiana Jones and the Last Crusade|1989|13+|8.2 |88%            |1      |0   |0          |0      |0   |Steven Spielberg                           |Action,Adventure                        |United States                              |English,German,Greek,Arabic                |127    |\n",
            "|17 |18 |Groundhog Day                     |1993|7+ |8.0 |96%            |1      |0   |0          |0      |0   |Harold Ramis                               |Comedy,Fantasy,Romance                  |United States                              |English,French,Italian                     |101    |\n",
            "|18 |19 |The King's Speech                 |2010|18+|8.0 |95%            |1      |0   |0          |0      |0   |Tom Hooper                                 |Biography,Drama,History                 |United Kingdom,United States,Australia     |English                                    |118    |\n",
            "|19 |20 |Her                               |2013|18+|8.0 |95%            |1      |0   |0          |0      |0   |Spike Jonze                                |Drama,Romance,Sci-Fi                    |United States                              |English                                    |126    |\n",
            "+---+---+----------------------------------+----+---+----+---------------+-------+----+-----------+-------+----+-------------------------------------------+----------------------------------------+-------------------------------------------+-------------------------------------------+-------+\n",
            "only showing top 20 rows\n",
            "\n"
          ],
          "name": "stdout"
        }
      ]
    },
    {
      "cell_type": "markdown",
      "metadata": {
        "id": "33e7JpIHmFl9"
      },
      "source": [
        "### Pre Processing Dataset "
      ]
    },
    {
      "cell_type": "code",
      "metadata": {
        "id": "P0RBQqh8SCsk",
        "outputId": "77d31059-a982-4a87-9469-ac8377f63ea7",
        "colab": {
          "base_uri": "https://localhost:8080/",
          "height": 340
        }
      },
      "source": [
        "movies_df.printSchema()"
      ],
      "execution_count": 72,
      "outputs": [
        {
          "output_type": "stream",
          "text": [
            "root\n",
            " |-- _c0: integer (nullable = true)\n",
            " |-- ID: integer (nullable = true)\n",
            " |-- Title: string (nullable = true)\n",
            " |-- Year: string (nullable = true)\n",
            " |-- Age: string (nullable = true)\n",
            " |-- IMDb: double (nullable = true)\n",
            " |-- Rotten Tomatoes: string (nullable = true)\n",
            " |-- Netflix: integer (nullable = true)\n",
            " |-- Hulu: integer (nullable = true)\n",
            " |-- Prime Video: integer (nullable = true)\n",
            " |-- Disney+: integer (nullable = true)\n",
            " |-- Type: integer (nullable = true)\n",
            " |-- Directors: string (nullable = true)\n",
            " |-- Genres: string (nullable = true)\n",
            " |-- Country: string (nullable = true)\n",
            " |-- Language: string (nullable = true)\n",
            " |-- Runtime: integer (nullable = true)\n",
            "\n"
          ],
          "name": "stdout"
        }
      ]
    },
    {
      "cell_type": "markdown",
      "metadata": {
        "id": "QJhDiA6HQU46"
      },
      "source": [
        "Pontos notados:\n",
        "\n",
        "- Primeiramente, percebemos que temos duas colunas com \"ids\". Como pegamos esses dados do kaggle possivelmente esta primeira coluna não é necessária.\n",
        "- Há uma coluna Type que possui somente valores iguais a 0. Procuramos entender o que seria mas não encontramos, vamos dropar essa coluna.\n",
        "- Outra observação é que as colunas Directors, Genres, Country e Language são listas e estão como strings devemos processar também as mesmas.\n",
        "- Colunas Age e Year estão como string, devem ser transformadas para integer."
      ]
    },
    {
      "cell_type": "code",
      "metadata": {
        "id": "KgTaLR7rH99C"
      },
      "source": [
        "from pyspark.sql.functions import split\n",
        "from pyspark.sql.functions import col"
      ],
      "execution_count": 73,
      "outputs": []
    },
    {
      "cell_type": "code",
      "metadata": {
        "id": "DOn1LPu2ePtP"
      },
      "source": [
        "movies_df_drop_c0 = movies_df.drop('_c0')"
      ],
      "execution_count": 74,
      "outputs": []
    },
    {
      "cell_type": "code",
      "metadata": {
        "id": "V6o3brYnqdXK"
      },
      "source": [
        "movies_df_drop_type = movies_df_drop_c0.drop('Type')"
      ],
      "execution_count": 75,
      "outputs": []
    },
    {
      "cell_type": "code",
      "metadata": {
        "id": "2ymxnLPZIEWk"
      },
      "source": [
        "movies_df_split = (movies_df_drop_type.withColumn('DirectorsArray', split('Directors', ','))\n",
        ".withColumn('GenresArray', split('Genres', ','))\n",
        ".withColumn('CountriesArray', split('Country', ','))\n",
        ".withColumn('LanguagesArray', split('Language', ','))\n",
        ".drop('Directors')\n",
        ".drop('Genres')\n",
        ".drop('Country')\n",
        ".drop('Language'))"
      ],
      "execution_count": 76,
      "outputs": []
    },
    {
      "cell_type": "code",
      "metadata": {
        "id": "XbdrU1-VeGOI",
        "outputId": "ebd99a18-9596-4bc0-eac6-ae73fe35b500",
        "colab": {
          "base_uri": "https://localhost:8080/",
          "height": 34
        }
      },
      "source": [
        "# checando se todas as idades seguem o regex [0-9]+\\+\n",
        "df_filtered_age_pattern = movies_df_split.filter(col('Age').rlike('[0-9]+\\+'))\n",
        "df_filtered_age_pattern.count() == movies_df_split.count()"
      ],
      "execution_count": 77,
      "outputs": [
        {
          "output_type": "execute_result",
          "data": {
            "text/plain": [
              "False"
            ]
          },
          "metadata": {
            "tags": []
          },
          "execution_count": 77
        }
      ]
    },
    {
      "cell_type": "code",
      "metadata": {
        "id": "2Hv27tusnUie",
        "outputId": "12493b52-c88d-4d93-bc0f-802f811ae746",
        "colab": {
          "base_uri": "https://localhost:8080/",
          "height": 224
        }
      },
      "source": [
        "# verificar idades que não seguem o padrão\n",
        "df_filtered_not_age_pattern = movies_df_split.filter(~col('Age').rlike('[0-9]+\\+'))\n",
        "df_filtered_not_age_pattern.show(5, False)"
      ],
      "execution_count": 78,
      "outputs": [
        {
          "output_type": "stream",
          "text": [
            "+---+-----------------------------------+----+---+----+---------------+-------+----+-----------+-------+-------+---------------------------+-----------------------------------------------------------------+----------------------------------------------------+----------------------------------+\n",
            "|ID |Title                              |Year|Age|IMDb|Rotten Tomatoes|Netflix|Hulu|Prime Video|Disney+|Runtime|DirectorsArray             |GenresArray                                                      |CountriesArray                                      |LanguagesArray                    |\n",
            "+---+-----------------------------------+----+---+----+---------------+-------+----+-----------+-------+-------+---------------------------+-----------------------------------------------------------------+----------------------------------------------------+----------------------------------+\n",
            "|55 |Willy Wonka & the Chocolate Factory|1971|all|7.8 |91%            |1      |0   |0          |0      |100    |[Mel Stuart]               |[Family, Fantasy, Musical]                                       |[United States, East Germany, West Germany, Belgium]|[English, French, German, Italian]|\n",
            "|92 |Tarzan                             |1999|all|7.3 |89%            |1      |0   |0          |0      |110    |[David Yates]              |[Action, Adventure, Drama, Fantasy, Romance]                     |[United Kingdom, Canada, United States]             |[English, Lingala, French]        |\n",
            "|126|The Princess and the Frog          |2009|all|7.1 |85%            |1      |0   |0          |1      |97     |[Ron Clements, John Musker]|[Animation, Adventure, Comedy, Family, Fantasy, Musical, Romance]|[United States]                                     |[English, French]                 |\n",
            "|134|Barfi!                             |2012|all|8.1 |86%            |1      |0   |0          |0      |151    |[Anurag Basu]              |[Comedy, Drama, Romance]                                         |[India]                                             |[Hindi]                           |\n",
            "|152|Swades                             |2004|all|8.2 |83%            |1      |0   |0          |0      |210    |[Ashutosh Gowariker]       |[Drama]                                                          |[India]                                             |[Hindi, English]                  |\n",
            "+---+-----------------------------------+----+---+----+---------------+-------+----+-----------+-------+-------+---------------------------+-----------------------------------------------------------------+----------------------------------------------------+----------------------------------+\n",
            "only showing top 5 rows\n",
            "\n"
          ],
          "name": "stdout"
        }
      ]
    },
    {
      "cell_type": "code",
      "metadata": {
        "id": "fhvJGi9uoqx7",
        "outputId": "a7ecf254-6525-4b88-884a-3aabc017aa99",
        "colab": {
          "base_uri": "https://localhost:8080/",
          "height": 34
        }
      },
      "source": [
        "# verficar que o padrão de idade em regex [0-9]+\\+ unido a o padrão com 'all' contemplam todo o dataframe\n",
        "df_filtered_pattern_all = movies_df_split.filter(col('Age').rlike('[0-9]+\\+') | (col('Age') == 'all'))\n",
        "movies_df_split.count() == df_filtered_pattern_all.count()"
      ],
      "execution_count": 79,
      "outputs": [
        {
          "output_type": "execute_result",
          "data": {
            "text/plain": [
              "False"
            ]
          },
          "metadata": {
            "tags": []
          },
          "execution_count": 79
        }
      ]
    },
    {
      "cell_type": "code",
      "metadata": {
        "id": "fGTUiTjXpwtv",
        "outputId": "a1d05726-4f36-4632-82ee-47d633305c11",
        "colab": {
          "base_uri": "https://localhost:8080/",
          "height": 119
        }
      },
      "source": [
        "df_filtered_not_pattern_all = movies_df_split.filter(~(col('Age').rlike('[0-9]+\\+') | (col('Age') == 'all')))\n",
        "df_filtered_not_pattern_all.show(5, False)"
      ],
      "execution_count": 80,
      "outputs": [
        {
          "output_type": "stream",
          "text": [
            "+-----+-----------------------------+-------------------------+----+----+---------------+-------+----+-----------+-------+-------+--------------+-----------+--------------+--------------+\n",
            "|ID   |Title                        |Year                     |Age |IMDb|Rotten Tomatoes|Netflix|Hulu|Prime Video|Disney+|Runtime|DirectorsArray|GenresArray|CountriesArray|LanguagesArray|\n",
            "+-----+-----------------------------+-------------------------+----+----+---------------+-------+----+-----------+-------+-------+--------------+-----------+--------------+--------------+\n",
            "|15902|\"\"\"22\"\" A film about Veterans| Healthcare and Suicide.\"|2018|null|null           |null   |0   |0          |1      |null   |[0]           |null       |null          |null          |\n",
            "+-----+-----------------------------+-------------------------+----+----+---------------+-------+----+-----------+-------+-------+--------------+-----------+--------------+--------------+\n",
            "\n"
          ],
          "name": "stdout"
        }
      ]
    },
    {
      "cell_type": "markdown",
      "metadata": {
        "id": "D-Fe1vDxqYzC"
      },
      "source": [
        "Claramente a linha apresentada acima é um erro pois a idade está como um ano, o ano está como um texto e a maioria das outras colunas estão vazias, vamos remover essa linha."
      ]
    },
    {
      "cell_type": "code",
      "metadata": {
        "id": "79g8jIPdra00"
      },
      "source": [
        "movies_df_filtered_age = movies_df_split.where(col('ID') != 15902)"
      ],
      "execution_count": 81,
      "outputs": []
    },
    {
      "cell_type": "markdown",
      "metadata": {
        "id": "DP1WVvJPrwvu"
      },
      "source": [
        "Agora vamos processar Age para aparecer como um inteiro em todo dataframe. A idade (Age) possui dois formatos, a idade mínima pra assistir o filme acompanhada de um caracter '+' ou o texto escrito 'all'. Iremos seguir os seguintes passos:\n",
        "- remover o caracter '+' das idades mínimas;\n",
        "- tranformar todas linha com o valor 'all' para 0;\n",
        "- transformar para um inteiro renomeando a coluna para MinimumAge;"
      ]
    },
    {
      "cell_type": "code",
      "metadata": {
        "id": "3WhJu56-UouO",
        "outputId": "26f5f9b0-0223-44cf-8564-aaa420c45d86",
        "colab": {
          "base_uri": "https://localhost:8080/",
          "height": 459
        }
      },
      "source": [
        "movies_df_filtered_age.where(col('Age').isNull()).show()"
      ],
      "execution_count": 82,
      "outputs": [
        {
          "output_type": "stream",
          "text": [
            "+---+--------------------+----+----+----+---------------+-------+----+-----------+-------+-------+--------------------+--------------------+--------------------+--------------------+\n",
            "| ID|               Title|Year| Age|IMDb|Rotten Tomatoes|Netflix|Hulu|Prime Video|Disney+|Runtime|      DirectorsArray|         GenresArray|      CountriesArray|      LanguagesArray|\n",
            "+---+--------------------+----+----+----+---------------+-------+----+-----------+-------+-------+--------------------+--------------------+--------------------+--------------------+\n",
            "| 33|      Train to Busan|2016|null| 7.5|            94%|      1|   0|          1|      0|    118|      [Sang-ho Yeon]|[Action, Horror, ...|       [South Korea]|  [Korean, Hawaiian]|\n",
            "| 58|      A Silent Voice|2016|null| 8.2|            94%|      1|   0|          0|      0|    130|      [Naoko Yamada]|[Animation, Drama...|             [Japan]|[Japanese, Japane...|\n",
            "| 90|       The Dawn Wall|2018|null| 8.1|           100%|      1|   0|          0|      0|    100|[Josh Lowell, Pet...|[Documentary, Bio...|[Austria, United ...|           [English]|\n",
            "|111|Black Mirror: Ban...|2018|null| 7.2|            92%|      1|   0|          0|      0|     90|       [David Slade]|[Drama, Mystery, ...|[United States, U...|           [English]|\n",
            "|124|Neon Genesis Evan...|1997|null| 8.1|            88%|      1|   0|          0|      0|     87|[Hideaki Anno, Ka...|[Animation, Actio...|             [Japan]|          [Japanese]|\n",
            "|149|          The Square|2013|null| 8.1|           100%|      1|   1|          1|      0|    151|     [Ruben Östlund]|     [Comedy, Drama]|[Sweden, Germany,...|[Swedish, English...|\n",
            "|165|             Virunga|2014|null| 8.2|           100%|      1|   0|          0|      0|    100|[Orlando von Eins...|  [Documentary, War]|[United Kingdom, ...|[English, French,...|\n",
            "|172|          Article 15|2019|null| 8.3|            89%|      1|   0|          0|      0|    130|     [Anubhav Sinha]|[Crime, Drama, My...|             [India]|             [Hindi]|\n",
            "|178|Hannah Gadsby: Na...|2018|null| 8.2|           100%|      1|   0|          0|      0|     69|[Jon Olb, Madelei...|[Documentary, Com...|         [Australia]|           [English]|\n",
            "|184|Winter on Fire: U...|2015|null| 8.4|            88%|      1|   0|          0|      0|    102| [Evgeny Afineevsky]|       [Documentary]|[United Kingdom, ...|[Ukrainian, Russi...|\n",
            "|189|      The Invitation|2015|null| 6.6|            88%|      1|   0|          1|      0|    100|      [Karyn Kusama]|[Drama, Mystery, ...|     [United States]|           [English]|\n",
            "|193|    On Body and Soul|2017|null| 7.6|            89%|      1|   0|          0|      0|    116|     [Ildikó Enyedi]|[Drama, Fantasy, ...|           [Hungary]|         [Hungarian]|\n",
            "|204|              Sairat|2016|null| 8.3|           100%|      1|   0|          0|      0|    174|    [Nagraj Manjule]|    [Drama, Romance]|             [India]|           [Marathi]|\n",
            "|216| The Young Offenders|2016|null| 7.1|           100%|      1|   0|          0|      0|     30|                null|            [Comedy]|[United Kingdom, ...|           [English]|\n",
            "|221|The Guernsey Lite...|2018|null| 7.4|            81%|      1|   0|          0|      0|    124|       [Mike Newell]|[Drama, Romance, ...|[United Kingdom, ...|[English, German,...|\n",
            "|223|         The Endless|2018|null| 6.5|            94%|      1|   0|          0|      0|    111|[Justin Benson, A...|[Drama, Fantasy, ...|     [United States]|           [English]|\n",
            "|225|   The Game Changers|2019|null| 7.9|            70%|      1|   0|          0|      0|    108|    [Louie Psihoyos]|       [Documentary]|     [United States]|           [English]|\n",
            "|231|      The Fear of 13|2015|null| 7.7|            94%|      1|   0|          0|      0|     96|     [David Sington]|[Documentary, Cri...|    [United Kingdom]|           [English]|\n",
            "|236|              Code 8|2019|null| 6.1|            79%|      1|   0|          0|      0|     98|         [Jeff Chan]|[Action, Crime, D...|            [Canada]|           [English]|\n",
            "|239|The Distinguished...|2016|null| 7.5|           100%|      1|   0|          0|      0|    118|[Gastón Duprat, M...|     [Comedy, Drama]|  [Argentina, Spain]|           [Spanish]|\n",
            "+---+--------------------+----+----+----+---------------+-------+----+-----------+-------+-------+--------------------+--------------------+--------------------+--------------------+\n",
            "only showing top 20 rows\n",
            "\n"
          ],
          "name": "stdout"
        }
      ]
    },
    {
      "cell_type": "code",
      "metadata": {
        "id": "T_cXQa3LQgxk"
      },
      "source": [
        "from pyspark.sql.functions import translate\n",
        "from pyspark.sql.types import IntegerType\n",
        "from pyspark.sql.functions import udf\n",
        "\n",
        "def transform_all_age_value(age):\n",
        "  if age == 'all':\n",
        "    return 0\n",
        "  if age is None:\n",
        "    return -1\n",
        "  return int(age)\n",
        "\n",
        "transformAllAgeValue = udf(lambda x: transform_all_age_value(x), IntegerType())\n",
        "\n",
        "movies_df_age_processed = movies_df_filtered_age.withColumn(\"Age\", translate('Age', '+', ''))\n",
        "movies_df_classification = movies_df_age_processed.withColumn(\"MinimumClassification\", transformAllAgeValue(col('Age'))).drop('Age')"
      ],
      "execution_count": 83,
      "outputs": []
    },
    {
      "cell_type": "markdown",
      "metadata": {
        "id": "uA2cBFSGhCEi"
      },
      "source": [
        "Note que existe idade indicativa nula, setamos esses valores como -1."
      ]
    },
    {
      "cell_type": "code",
      "metadata": {
        "id": "qDhJr90zgyAv",
        "outputId": "d9e4ee38-0d06-4788-9852-457d28ee2ac1",
        "colab": {
          "base_uri": "https://localhost:8080/",
          "height": 374
        }
      },
      "source": [
        "movies_df_classification.printSchema()"
      ],
      "execution_count": 84,
      "outputs": [
        {
          "output_type": "stream",
          "text": [
            "root\n",
            " |-- ID: integer (nullable = true)\n",
            " |-- Title: string (nullable = true)\n",
            " |-- Year: string (nullable = true)\n",
            " |-- IMDb: double (nullable = true)\n",
            " |-- Rotten Tomatoes: string (nullable = true)\n",
            " |-- Netflix: integer (nullable = true)\n",
            " |-- Hulu: integer (nullable = true)\n",
            " |-- Prime Video: integer (nullable = true)\n",
            " |-- Disney+: integer (nullable = true)\n",
            " |-- Runtime: integer (nullable = true)\n",
            " |-- DirectorsArray: array (nullable = true)\n",
            " |    |-- element: string (containsNull = true)\n",
            " |-- GenresArray: array (nullable = true)\n",
            " |    |-- element: string (containsNull = true)\n",
            " |-- CountriesArray: array (nullable = true)\n",
            " |    |-- element: string (containsNull = true)\n",
            " |-- LanguagesArray: array (nullable = true)\n",
            " |    |-- element: string (containsNull = true)\n",
            " |-- MinimumClassification: integer (nullable = true)\n",
            "\n"
          ],
          "name": "stdout"
        }
      ]
    },
    {
      "cell_type": "markdown",
      "metadata": {
        "id": "H3yQHisWq3gv"
      },
      "source": [
        "Analisando o schema novamente, podemos ver que assim como o campo Age, o campo Year deveria estar como Integer, vamos arrumar isso."
      ]
    },
    {
      "cell_type": "code",
      "metadata": {
        "id": "lxIsJc9orTRT"
      },
      "source": [
        "movies_df_year_processed = movies_df_classification.withColumn(\"Year\", col(\"Year\").cast(IntegerType()))"
      ],
      "execution_count": 85,
      "outputs": []
    },
    {
      "cell_type": "code",
      "metadata": {
        "id": "i4lPBLH8WxkP",
        "outputId": "e98e8eda-2ee0-4297-9a13-b84a3c71ae45",
        "colab": {
          "base_uri": "https://localhost:8080/",
          "height": 374
        }
      },
      "source": [
        "movies_df_year_processed.printSchema()"
      ],
      "execution_count": 86,
      "outputs": [
        {
          "output_type": "stream",
          "text": [
            "root\n",
            " |-- ID: integer (nullable = true)\n",
            " |-- Title: string (nullable = true)\n",
            " |-- Year: integer (nullable = true)\n",
            " |-- IMDb: double (nullable = true)\n",
            " |-- Rotten Tomatoes: string (nullable = true)\n",
            " |-- Netflix: integer (nullable = true)\n",
            " |-- Hulu: integer (nullable = true)\n",
            " |-- Prime Video: integer (nullable = true)\n",
            " |-- Disney+: integer (nullable = true)\n",
            " |-- Runtime: integer (nullable = true)\n",
            " |-- DirectorsArray: array (nullable = true)\n",
            " |    |-- element: string (containsNull = true)\n",
            " |-- GenresArray: array (nullable = true)\n",
            " |    |-- element: string (containsNull = true)\n",
            " |-- CountriesArray: array (nullable = true)\n",
            " |    |-- element: string (containsNull = true)\n",
            " |-- LanguagesArray: array (nullable = true)\n",
            " |    |-- element: string (containsNull = true)\n",
            " |-- MinimumClassification: integer (nullable = true)\n",
            "\n"
          ],
          "name": "stdout"
        }
      ]
    },
    {
      "cell_type": "markdown",
      "metadata": {
        "id": "qkqjcZhtic65"
      },
      "source": [
        "Agora precisamos modificar a coluna Rotten Tomatoes para ser um integer."
      ]
    },
    {
      "cell_type": "code",
      "metadata": {
        "id": "hxNEA6ySibsD"
      },
      "source": [
        "movies_df_rotten_char = movies_df_year_processed.withColumn(\"RottenTomatoes\", translate('Rotten Tomatoes', '%', '')).drop('Rotten Tomatoes')\n",
        "movies_df_rotten_int = movies_df_rotten_char.withColumn(\"RottenTomatoes\", col(\"RottenTomatoes\").cast(IntegerType()))\n",
        "movies_df_padronized_rotten = movies_df_rotten_int.withColumn(\"RottenTomatoes\", col(\"RottenTomatoes\") / 10)"
      ],
      "execution_count": 87,
      "outputs": []
    },
    {
      "cell_type": "code",
      "metadata": {
        "id": "FBFkcESjkn5z",
        "outputId": "64c88cbd-7e88-4dde-c431-b88f1411fe01",
        "colab": {
          "base_uri": "https://localhost:8080/",
          "height": 374
        }
      },
      "source": [
        "movies_df_padronized_rotten.printSchema()"
      ],
      "execution_count": 88,
      "outputs": [
        {
          "output_type": "stream",
          "text": [
            "root\n",
            " |-- ID: integer (nullable = true)\n",
            " |-- Title: string (nullable = true)\n",
            " |-- Year: integer (nullable = true)\n",
            " |-- IMDb: double (nullable = true)\n",
            " |-- Netflix: integer (nullable = true)\n",
            " |-- Hulu: integer (nullable = true)\n",
            " |-- Prime Video: integer (nullable = true)\n",
            " |-- Disney+: integer (nullable = true)\n",
            " |-- Runtime: integer (nullable = true)\n",
            " |-- DirectorsArray: array (nullable = true)\n",
            " |    |-- element: string (containsNull = true)\n",
            " |-- GenresArray: array (nullable = true)\n",
            " |    |-- element: string (containsNull = true)\n",
            " |-- CountriesArray: array (nullable = true)\n",
            " |    |-- element: string (containsNull = true)\n",
            " |-- LanguagesArray: array (nullable = true)\n",
            " |    |-- element: string (containsNull = true)\n",
            " |-- MinimumClassification: integer (nullable = true)\n",
            " |-- RottenTomatoes: double (nullable = true)\n",
            "\n"
          ],
          "name": "stdout"
        }
      ]
    },
    {
      "cell_type": "code",
      "metadata": {
        "id": "Hi2LBBtDn0OG"
      },
      "source": [
        "movies_df_processed = movies_df_padronized_rotten"
      ],
      "execution_count": 89,
      "outputs": []
    },
    {
      "cell_type": "code",
      "metadata": {
        "id": "vRID5dT2wk1I",
        "outputId": "efc0f0c2-82e0-476f-ff8c-26b36cf41ae5",
        "colab": {
          "base_uri": "https://localhost:8080/",
          "height": 136
        }
      },
      "source": [
        "movies_df_processed.orderBy('IMDb', ascending=False).show(1, False)"
      ],
      "execution_count": 90,
      "outputs": [
        {
          "output_type": "stream",
          "text": [
            "+----+---------------+----+----+-------+----+-----------+-------+-------+--------------+---------------------------------+---------------+--------------+---------------------+--------------+\n",
            "|ID  |Title          |Year|IMDb|Netflix|Hulu|Prime Video|Disney+|Runtime|DirectorsArray|GenresArray                      |CountriesArray |LanguagesArray|MinimumClassification|RottenTomatoes|\n",
            "+----+---------------+----+----+-------+----+-----------+-------+-------+--------------+---------------------------------+---------------+--------------+---------------------+--------------+\n",
            "|5111|Love on a Leash|2011|9.3 |0      |0   |1          |0      |90     |[Fen Tian]    |[Comedy, Drama, Fantasy, Romance]|[United States]|null          |-1                   |null          |\n",
            "+----+---------------+----+----+-------+----+-----------+-------+-------+--------------+---------------------------------+---------------+--------------+---------------------+--------------+\n",
            "only showing top 1 row\n",
            "\n"
          ],
          "name": "stdout"
        }
      ]
    },
    {
      "cell_type": "code",
      "metadata": {
        "id": "FFXjvzmc0KJo",
        "outputId": "794e8bf5-1ade-4699-a235-5755c9154979",
        "colab": {
          "base_uri": "https://localhost:8080/",
          "height": 136
        }
      },
      "source": [
        "movies_df_processed.where((col(\"Netflix\") == 1) & (col(\"Prime Video\") == 1)).orderBy('IMDb', ascending=False).show(1, False)"
      ],
      "execution_count": 91,
      "outputs": [
        {
          "output_type": "stream",
          "text": [
            "+---+------------------------------+----+----+-------+----+-----------+-------+-------+--------------+-----------+----------------------------+--------------+---------------------+--------------+\n",
            "|ID |Title                         |Year|IMDb|Netflix|Hulu|Prime Video|Disney+|Runtime|DirectorsArray|GenresArray|CountriesArray              |LanguagesArray|MinimumClassification|RottenTomatoes|\n",
            "+---+------------------------------+----+----+-------+----+-----------+-------+-------+--------------+-----------+----------------------------+--------------+---------------------+--------------+\n",
            "|5  |The Good, the Bad and the Ugly|1966|8.8 |1      |0   |1          |0      |161    |[Sergio Leone]|[Western]  |[Italy, Spain, West Germany]|[Italian]     |18                   |9.7           |\n",
            "+---+------------------------------+----+----+-------+----+-----------+-------+-------+--------------+-----------+----------------------------+--------------+---------------------+--------------+\n",
            "only showing top 1 row\n",
            "\n"
          ],
          "name": "stdout"
        }
      ]
    },
    {
      "cell_type": "code",
      "metadata": {
        "id": "3Nq3Xadx1Ies",
        "outputId": "8d3ba45a-f238-4dc8-e7b8-c4922fa0b39d",
        "colab": {
          "base_uri": "https://localhost:8080/",
          "height": 136
        }
      },
      "source": [
        "movies_df_processed.where((col(\"Netflix\") == 1) & (col(\"Prime Video\") == 1)).orderBy('Rotten Tomatoes', ascending=False).show(1, False)"
      ],
      "execution_count": 92,
      "outputs": [
        {
          "output_type": "stream",
          "text": [
            "+---+----------+----+----+-------+----+-----------+-------+-------+-----------------+--------------+----------------+--------------+---------------------+--------------+\n",
            "|ID |Title     |Year|IMDb|Netflix|Hulu|Prime Video|Disney+|Runtime|DirectorsArray   |GenresArray   |CountriesArray  |LanguagesArray|MinimumClassification|RottenTomatoes|\n",
            "+---+----------+----+----+-------+----+-----------+-------+-------+-----------------+--------------+----------------+--------------+---------------------+--------------+\n",
            "|143|Starred Up|2013|7.4 |1      |0   |1          |0      |106    |[David Mackenzie]|[Crime, Drama]|[United Kingdom]|[English]     |18                   |9.9           |\n",
            "+---+----------+----+----+-------+----+-----------+-------+-------+-----------------+--------------+----------------+--------------+---------------------+--------------+\n",
            "only showing top 1 row\n",
            "\n"
          ],
          "name": "stdout"
        }
      ]
    },
    {
      "cell_type": "markdown",
      "metadata": {
        "id": "zjph0XghngZJ"
      },
      "source": [
        "### Visualization"
      ]
    },
    {
      "cell_type": "code",
      "metadata": {
        "id": "qxkUiVwlkg-k"
      },
      "source": [
        "movies_df_pd = movies_df_processed.toPandas()"
      ],
      "execution_count": 93,
      "outputs": []
    },
    {
      "cell_type": "code",
      "metadata": {
        "id": "cnUWbbX0oerA",
        "outputId": "39dbf241-17b6-4c74-c0d0-4782548e51df",
        "colab": {
          "base_uri": "https://localhost:8080/",
          "height": 282
        }
      },
      "source": [
        "from numpy import log10\n",
        "movies_df_pd['runtime_log'] = log10(movies_df_pd['Runtime'])\n",
        "movies_df_pd['runtime_log'].hist()"
      ],
      "execution_count": 95,
      "outputs": [
        {
          "output_type": "execute_result",
          "data": {
            "text/plain": [
              "<matplotlib.axes._subplots.AxesSubplot at 0x7fb9b183a898>"
            ]
          },
          "metadata": {
            "tags": []
          },
          "execution_count": 95
        },
        {
          "output_type": "display_data",
          "data": {
            "image/png": "[encoded data removed]",
            "text/plain": [
              "<Figure size 432x288 with 1 Axes>"
            ]
          },
          "metadata": {
            "tags": [],
            "needs_background": "light"
          }
        }
      ]
    },
    {
      "cell_type": "code",
      "metadata": {
        "id": "HHy2GlcTz6m4",
        "outputId": "73ba0ea2-2ed0-48be-f0f4-c8ee03765848",
        "colab": {
          "base_uri": "https://localhost:8080/",
          "height": 390
        }
      },
      "source": [
        "movies_df_pd.corr(method='spearman')"
      ],
      "execution_count": 96,
      "outputs": [
        {
          "output_type": "execute_result",
          "data": {
            "text/html": [
              "<div>\n",
              "<style scoped>\n",
              "    .dataframe tbody tr th:only-of-type {\n",
              "        vertical-align: middle;\n",
              "    }\n",
              "\n",
              "    .dataframe tbody tr th {\n",
              "        vertical-align: top;\n",
              "    }\n",
              "\n",
              "    .dataframe thead th {\n",
              "        text-align: right;\n",
              "    }\n",
              "</style>\n",
              "<table border=\"1\" class=\"dataframe\">\n",
              "  <thead>\n",
              "    <tr style=\"text-align: right;\">\n",
              "      <th></th>\n",
              "      <th>ID</th>\n",
              "      <th>Year</th>\n",
              "      <th>IMDb</th>\n",
              "      <th>Netflix</th>\n",
              "      <th>Hulu</th>\n",
              "      <th>Prime Video</th>\n",
              "      <th>Disney+</th>\n",
              "      <th>Runtime</th>\n",
              "      <th>MinimumClassification</th>\n",
              "      <th>RottenTomatoes</th>\n",
              "      <th>runtime_log</th>\n",
              "    </tr>\n",
              "  </thead>\n",
              "  <tbody>\n",
              "    <tr>\n",
              "      <th>ID</th>\n",
              "      <td>1.000000</td>\n",
              "      <td>-0.338757</td>\n",
              "      <td>-0.387162</td>\n",
              "      <td>-0.708695</td>\n",
              "      <td>-0.219733</td>\n",
              "      <td>0.554128</td>\n",
              "      <td>0.287020</td>\n",
              "      <td>-0.273610</td>\n",
              "      <td>-0.161186</td>\n",
              "      <td>-0.280077</td>\n",
              "      <td>-0.273610</td>\n",
              "    </tr>\n",
              "    <tr>\n",
              "      <th>Year</th>\n",
              "      <td>-0.338757</td>\n",
              "      <td>1.000000</td>\n",
              "      <td>-0.004339</td>\n",
              "      <td>0.365579</td>\n",
              "      <td>0.130545</td>\n",
              "      <td>-0.351349</td>\n",
              "      <td>-0.086546</td>\n",
              "      <td>0.064729</td>\n",
              "      <td>-0.044372</td>\n",
              "      <td>0.081174</td>\n",
              "      <td>0.064729</td>\n",
              "    </tr>\n",
              "    <tr>\n",
              "      <th>IMDb</th>\n",
              "      <td>-0.387162</td>\n",
              "      <td>-0.004339</td>\n",
              "      <td>1.000000</td>\n",
              "      <td>0.127438</td>\n",
              "      <td>0.034747</td>\n",
              "      <td>-0.153996</td>\n",
              "      <td>0.074947</td>\n",
              "      <td>0.122031</td>\n",
              "      <td>-0.075147</td>\n",
              "      <td>0.622257</td>\n",
              "      <td>0.122031</td>\n",
              "    </tr>\n",
              "    <tr>\n",
              "      <th>Netflix</th>\n",
              "      <td>-0.708695</td>\n",
              "      <td>0.365579</td>\n",
              "      <td>0.127438</td>\n",
              "      <td>1.000000</td>\n",
              "      <td>-0.107919</td>\n",
              "      <td>-0.757211</td>\n",
              "      <td>-0.088934</td>\n",
              "      <td>0.139293</td>\n",
              "      <td>0.034287</td>\n",
              "      <td>0.022120</td>\n",
              "      <td>0.139293</td>\n",
              "    </tr>\n",
              "    <tr>\n",
              "      <th>Hulu</th>\n",
              "      <td>-0.219733</td>\n",
              "      <td>0.130545</td>\n",
              "      <td>0.034747</td>\n",
              "      <td>-0.107919</td>\n",
              "      <td>1.000000</td>\n",
              "      <td>-0.255636</td>\n",
              "      <td>-0.034320</td>\n",
              "      <td>0.047928</td>\n",
              "      <td>0.102220</td>\n",
              "      <td>0.018817</td>\n",
              "      <td>0.047928</td>\n",
              "    </tr>\n",
              "    <tr>\n",
              "      <th>Prime Video</th>\n",
              "      <td>0.554128</td>\n",
              "      <td>-0.351349</td>\n",
              "      <td>-0.153996</td>\n",
              "      <td>-0.757211</td>\n",
              "      <td>-0.255636</td>\n",
              "      <td>1.000000</td>\n",
              "      <td>-0.298897</td>\n",
              "      <td>-0.107562</td>\n",
              "      <td>-0.078533</td>\n",
              "      <td>-0.047702</td>\n",
              "      <td>-0.107562</td>\n",
              "    </tr>\n",
              "    <tr>\n",
              "      <th>Disney+</th>\n",
              "      <td>0.287020</td>\n",
              "      <td>-0.086546</td>\n",
              "      <td>0.074947</td>\n",
              "      <td>-0.088934</td>\n",
              "      <td>-0.034320</td>\n",
              "      <td>-0.298897</td>\n",
              "      <td>1.000000</td>\n",
              "      <td>-0.012797</td>\n",
              "      <td>0.061495</td>\n",
              "      <td>-0.015064</td>\n",
              "      <td>-0.012797</td>\n",
              "    </tr>\n",
              "    <tr>\n",
              "      <th>Runtime</th>\n",
              "      <td>-0.273610</td>\n",
              "      <td>0.064729</td>\n",
              "      <td>0.122031</td>\n",
              "      <td>0.139293</td>\n",
              "      <td>0.047928</td>\n",
              "      <td>-0.107562</td>\n",
              "      <td>-0.012797</td>\n",
              "      <td>1.000000</td>\n",
              "      <td>0.157158</td>\n",
              "      <td>-0.014612</td>\n",
              "      <td>1.000000</td>\n",
              "    </tr>\n",
              "    <tr>\n",
              "      <th>MinimumClassification</th>\n",
              "      <td>-0.161186</td>\n",
              "      <td>-0.044372</td>\n",
              "      <td>-0.075147</td>\n",
              "      <td>0.034287</td>\n",
              "      <td>0.102220</td>\n",
              "      <td>-0.078533</td>\n",
              "      <td>0.061495</td>\n",
              "      <td>0.157158</td>\n",
              "      <td>1.000000</td>\n",
              "      <td>-0.212649</td>\n",
              "      <td>0.157158</td>\n",
              "    </tr>\n",
              "    <tr>\n",
              "      <th>RottenTomatoes</th>\n",
              "      <td>-0.280077</td>\n",
              "      <td>0.081174</td>\n",
              "      <td>0.622257</td>\n",
              "      <td>0.022120</td>\n",
              "      <td>0.018817</td>\n",
              "      <td>-0.047702</td>\n",
              "      <td>-0.015064</td>\n",
              "      <td>-0.014612</td>\n",
              "      <td>-0.212649</td>\n",
              "      <td>1.000000</td>\n",
              "      <td>-0.014612</td>\n",
              "    </tr>\n",
              "    <tr>\n",
              "      <th>runtime_log</th>\n",
              "      <td>-0.273610</td>\n",
              "      <td>0.064729</td>\n",
              "      <td>0.122031</td>\n",
              "      <td>0.139293</td>\n",
              "      <td>0.047928</td>\n",
              "      <td>-0.107562</td>\n",
              "      <td>-0.012797</td>\n",
              "      <td>1.000000</td>\n",
              "      <td>0.157158</td>\n",
              "      <td>-0.014612</td>\n",
              "      <td>1.000000</td>\n",
              "    </tr>\n",
              "  </tbody>\n",
              "</table>\n",
              "</div>"
            ],
            "text/plain": [
              "                             ID      Year  ...  RottenTomatoes  runtime_log\n",
              "ID                     1.000000 -0.338757  ...       -0.280077    -0.273610\n",
              "Year                  -0.338757  1.000000  ...        0.081174     0.064729\n",
              "IMDb                  -0.387162 -0.004339  ...        0.622257     0.122031\n",
              "Netflix               -0.708695  0.365579  ...        0.022120     0.139293\n",
              "Hulu                  -0.219733  0.130545  ...        0.018817     0.047928\n",
              "Prime Video            0.554128 -0.351349  ...       -0.047702    -0.107562\n",
              "Disney+                0.287020 -0.086546  ...       -0.015064    -0.012797\n",
              "Runtime               -0.273610  0.064729  ...       -0.014612     1.000000\n",
              "MinimumClassification -0.161186 -0.044372  ...       -0.212649     0.157158\n",
              "RottenTomatoes        -0.280077  0.081174  ...        1.000000    -0.014612\n",
              "runtime_log           -0.273610  0.064729  ...       -0.014612     1.000000\n",
              "\n",
              "[11 rows x 11 columns]"
            ]
          },
          "metadata": {
            "tags": []
          },
          "execution_count": 96
        }
      ]
    },
    {
      "cell_type": "code",
      "metadata": {
        "id": "fNFZy8gk13HM",
        "outputId": "b33a5fa8-fd16-42fc-a775-0ad03000bd29",
        "colab": {
          "base_uri": "https://localhost:8080/",
          "height": 279
        }
      },
      "source": [
        "movies_df_processed = movies_df_processed.withColumnRenamed('Prime Video', 'PrimeVideo')\n",
        "movies_df_processed = movies_df_processed.withColumnRenamed('Disney+', 'DisneyPlus')\n",
        "\n",
        "movies_df_processed.createOrReplaceTempView(\"movies\")\n",
        "sqlDF = sql_context.sql(\"SELECT SUM(Netflix) AS Netflix, SUM(PrimeVideo) AS PrimeVideo, SUM(DisneyPlus) AS DisneyPlus, SUM(Hulu) AS Hulu FROM movies\")\n",
        "sqlDF.toPandas().plot.bar()"
      ],
      "execution_count": 97,
      "outputs": [
        {
          "output_type": "execute_result",
          "data": {
            "text/plain": [
              "<matplotlib.axes._subplots.AxesSubplot at 0x7fb9a8d2d940>"
            ]
          },
          "metadata": {
            "tags": []
          },
          "execution_count": 97
        },
        {
          "output_type": "display_data",
          "data": {
            "image/png": "[encoded data removed]",
            "text/plain": [
              "<Figure size 432x288 with 1 Axes>"
            ]
          },
          "metadata": {
            "tags": [],
            "needs_background": "light"
          }
        }
      ]
    },
    {
      "cell_type": "code",
      "metadata": {
        "id": "2rmqsE6L5RVY",
        "outputId": "808b99ec-1214-4f3c-dc01-f3fd826cd1f1",
        "colab": {
          "base_uri": "https://localhost:8080/",
          "height": 296
        }
      },
      "source": [
        "movies_df_pd.plot.scatter(x='IMDb',y='RottenTomatoes')"
      ],
      "execution_count": 98,
      "outputs": [
        {
          "output_type": "execute_result",
          "data": {
            "text/plain": [
              "<matplotlib.axes._subplots.AxesSubplot at 0x7fb9b18930f0>"
            ]
          },
          "metadata": {
            "tags": []
          },
          "execution_count": 98
        },
        {
          "output_type": "display_data",
          "data": {
            "image/png": "[encoded data removed]",
            "text/plain": [
              "<Figure size 432x288 with 1 Axes>"
            ]
          },
          "metadata": {
            "tags": [],
            "needs_background": "light"
          }
        }
      ]
    },
    {
      "cell_type": "code",
      "metadata": {
        "id": "JQjoIVyW5nyg",
        "outputId": "902a53d1-4739-476e-b287-f077ab9ddf2b",
        "colab": {
          "base_uri": "https://localhost:8080/",
          "height": 282
        }
      },
      "source": [
        "movies_df_pd.boxplot(column='Runtime')"
      ],
      "execution_count": 100,
      "outputs": [
        {
          "output_type": "execute_result",
          "data": {
            "text/plain": [
              "<matplotlib.axes._subplots.AxesSubplot at 0x7fb9b03394e0>"
            ]
          },
          "metadata": {
            "tags": []
          },
          "execution_count": 100
        },
        {
          "output_type": "display_data",
          "data": {
            "image/png": "[encoded data removed]",
            "text/plain": [
              "<Figure size 432x288 with 1 Axes>"
            ]
          },
          "metadata": {
            "tags": [],
            "needs_background": "light"
          }
        }
      ]
    },
    {
      "cell_type": "code",
      "metadata": {
        "id": "r8Y9jaU95wap",
        "outputId": "107c5d2c-24c1-4d73-d6d9-dd2599d10a94",
        "colab": {
          "base_uri": "https://localhost:8080/",
          "height": 34
        }
      },
      "source": [
        "from numpy import abs\n",
        "mad = abs(movies_df_pd['runtime_log'] - movies_df_pd['runtime_log'].median()).median()*(1/0.6745)\n",
        "print(mad)"
      ],
      "execution_count": 101,
      "outputs": [
        {
          "output_type": "stream",
          "text": [
            "0.07409040023993868\n"
          ],
          "name": "stdout"
        }
      ]
    },
    {
      "cell_type": "code",
      "metadata": {
        "id": "p8WoIVJh8o_x"
      },
      "source": [
        "#mad = movies_df_pd['runtime_log'].mad()"
      ],
      "execution_count": 102,
      "outputs": []
    },
    {
      "cell_type": "code",
      "metadata": {
        "id": "GGKgC26p86o9",
        "outputId": "034fe0e7-1e73-4977-95ab-d065e217aee2",
        "colab": {
          "base_uri": "https://localhost:8080/",
          "height": 282
        }
      },
      "source": [
        "(abs(movies_df_pd['runtime_log']-movies_df_pd['runtime_log'].median())/mad).hist()"
      ],
      "execution_count": 103,
      "outputs": [
        {
          "output_type": "execute_result",
          "data": {
            "text/plain": [
              "<matplotlib.axes._subplots.AxesSubplot at 0x7fb9b03f3748>"
            ]
          },
          "metadata": {
            "tags": []
          },
          "execution_count": 103
        },
        {
          "output_type": "display_data",
          "data": {
            "image/png": "[encoded data removed]",
            "text/plain": [
              "<Figure size 432x288 with 1 Axes>"
            ]
          },
          "metadata": {
            "tags": [],
            "needs_background": "light"
          }
        }
      ]
    },
    {
      "cell_type": "code",
      "metadata": {
        "id": "HuQeDW3Q9F_r",
        "outputId": "cd535301-51d4-4bda-b1b0-4b62febd2935",
        "colab": {
          "base_uri": "https://localhost:8080/",
          "height": 572
        }
      },
      "source": [
        "movies_df_mad = movies_df_pd[abs(movies_df_pd['runtime_log']-movies_df_pd['runtime_log'].median())/mad < 6]\n",
        "movies_df_mad"
      ],
      "execution_count": 104,
      "outputs": [
        {
          "output_type": "execute_result",
          "data": {
            "text/html": [
              "<div>\n",
              "<style scoped>\n",
              "    .dataframe tbody tr th:only-of-type {\n",
              "        vertical-align: middle;\n",
              "    }\n",
              "\n",
              "    .dataframe tbody tr th {\n",
              "        vertical-align: top;\n",
              "    }\n",
              "\n",
              "    .dataframe thead th {\n",
              "        text-align: right;\n",
              "    }\n",
              "</style>\n",
              "<table border=\"1\" class=\"dataframe\">\n",
              "  <thead>\n",
              "    <tr style=\"text-align: right;\">\n",
              "      <th></th>\n",
              "      <th>ID</th>\n",
              "      <th>Title</th>\n",
              "      <th>Year</th>\n",
              "      <th>IMDb</th>\n",
              "      <th>Netflix</th>\n",
              "      <th>Hulu</th>\n",
              "      <th>Prime Video</th>\n",
              "      <th>Disney+</th>\n",
              "      <th>Runtime</th>\n",
              "      <th>DirectorsArray</th>\n",
              "      <th>GenresArray</th>\n",
              "      <th>CountriesArray</th>\n",
              "      <th>LanguagesArray</th>\n",
              "      <th>MinimumClassification</th>\n",
              "      <th>RottenTomatoes</th>\n",
              "      <th>runtime_log</th>\n",
              "    </tr>\n",
              "  </thead>\n",
              "  <tbody>\n",
              "    <tr>\n",
              "      <th>0</th>\n",
              "      <td>1</td>\n",
              "      <td>Inception</td>\n",
              "      <td>2010</td>\n",
              "      <td>8.8</td>\n",
              "      <td>1</td>\n",
              "      <td>0</td>\n",
              "      <td>0</td>\n",
              "      <td>0</td>\n",
              "      <td>148.0</td>\n",
              "      <td>[Christopher Nolan]</td>\n",
              "      <td>[Action, Adventure, Sci-Fi, Thriller]</td>\n",
              "      <td>[United States, United Kingdom]</td>\n",
              "      <td>[English, Japanese, French]</td>\n",
              "      <td>13</td>\n",
              "      <td>8.7</td>\n",
              "      <td>2.170262</td>\n",
              "    </tr>\n",
              "    <tr>\n",
              "      <th>1</th>\n",
              "      <td>2</td>\n",
              "      <td>The Matrix</td>\n",
              "      <td>1999</td>\n",
              "      <td>8.7</td>\n",
              "      <td>1</td>\n",
              "      <td>0</td>\n",
              "      <td>0</td>\n",
              "      <td>0</td>\n",
              "      <td>136.0</td>\n",
              "      <td>[Lana Wachowski, Lilly Wachowski]</td>\n",
              "      <td>[Action, Sci-Fi]</td>\n",
              "      <td>[United States]</td>\n",
              "      <td>[English]</td>\n",
              "      <td>18</td>\n",
              "      <td>8.7</td>\n",
              "      <td>2.133539</td>\n",
              "    </tr>\n",
              "    <tr>\n",
              "      <th>2</th>\n",
              "      <td>3</td>\n",
              "      <td>Avengers: Infinity War</td>\n",
              "      <td>2018</td>\n",
              "      <td>8.5</td>\n",
              "      <td>1</td>\n",
              "      <td>0</td>\n",
              "      <td>0</td>\n",
              "      <td>0</td>\n",
              "      <td>149.0</td>\n",
              "      <td>[Anthony Russo, Joe Russo]</td>\n",
              "      <td>[Action, Adventure, Sci-Fi]</td>\n",
              "      <td>[United States]</td>\n",
              "      <td>[English]</td>\n",
              "      <td>13</td>\n",
              "      <td>8.4</td>\n",
              "      <td>2.173186</td>\n",
              "    </tr>\n",
              "    <tr>\n",
              "      <th>3</th>\n",
              "      <td>4</td>\n",
              "      <td>Back to the Future</td>\n",
              "      <td>1985</td>\n",
              "      <td>8.5</td>\n",
              "      <td>1</td>\n",
              "      <td>0</td>\n",
              "      <td>0</td>\n",
              "      <td>0</td>\n",
              "      <td>116.0</td>\n",
              "      <td>[Robert Zemeckis]</td>\n",
              "      <td>[Adventure, Comedy, Sci-Fi]</td>\n",
              "      <td>[United States]</td>\n",
              "      <td>[English]</td>\n",
              "      <td>7</td>\n",
              "      <td>9.6</td>\n",
              "      <td>2.064458</td>\n",
              "    </tr>\n",
              "    <tr>\n",
              "      <th>4</th>\n",
              "      <td>5</td>\n",
              "      <td>The Good, the Bad and the Ugly</td>\n",
              "      <td>1966</td>\n",
              "      <td>8.8</td>\n",
              "      <td>1</td>\n",
              "      <td>0</td>\n",
              "      <td>1</td>\n",
              "      <td>0</td>\n",
              "      <td>161.0</td>\n",
              "      <td>[Sergio Leone]</td>\n",
              "      <td>[Western]</td>\n",
              "      <td>[Italy, Spain, West Germany]</td>\n",
              "      <td>[Italian]</td>\n",
              "      <td>18</td>\n",
              "      <td>9.7</td>\n",
              "      <td>2.206826</td>\n",
              "    </tr>\n",
              "    <tr>\n",
              "      <th>...</th>\n",
              "      <td>...</td>\n",
              "      <td>...</td>\n",
              "      <td>...</td>\n",
              "      <td>...</td>\n",
              "      <td>...</td>\n",
              "      <td>...</td>\n",
              "      <td>...</td>\n",
              "      <td>...</td>\n",
              "      <td>...</td>\n",
              "      <td>...</td>\n",
              "      <td>...</td>\n",
              "      <td>...</td>\n",
              "      <td>...</td>\n",
              "      <td>...</td>\n",
              "      <td>...</td>\n",
              "      <td>...</td>\n",
              "    </tr>\n",
              "    <tr>\n",
              "      <th>16733</th>\n",
              "      <td>16735</td>\n",
              "      <td>Sultan And The Rock Star</td>\n",
              "      <td>1980</td>\n",
              "      <td>5.9</td>\n",
              "      <td>0</td>\n",
              "      <td>0</td>\n",
              "      <td>0</td>\n",
              "      <td>1</td>\n",
              "      <td>60.0</td>\n",
              "      <td>[Edward M. Abroms]</td>\n",
              "      <td>[Adventure, Drama, Family]</td>\n",
              "      <td>[United States]</td>\n",
              "      <td>[English]</td>\n",
              "      <td>-1</td>\n",
              "      <td>NaN</td>\n",
              "      <td>1.778151</td>\n",
              "    </tr>\n",
              "    <tr>\n",
              "      <th>16736</th>\n",
              "      <td>16738</td>\n",
              "      <td>The Bears and I</td>\n",
              "      <td>1974</td>\n",
              "      <td>6.2</td>\n",
              "      <td>0</td>\n",
              "      <td>0</td>\n",
              "      <td>0</td>\n",
              "      <td>1</td>\n",
              "      <td>89.0</td>\n",
              "      <td>[Bernard McEveety]</td>\n",
              "      <td>[Drama, Family]</td>\n",
              "      <td>[United States]</td>\n",
              "      <td>[English]</td>\n",
              "      <td>0</td>\n",
              "      <td>NaN</td>\n",
              "      <td>1.949390</td>\n",
              "    </tr>\n",
              "    <tr>\n",
              "      <th>16737</th>\n",
              "      <td>16739</td>\n",
              "      <td>Whispers: An Elephant's Tale</td>\n",
              "      <td>2000</td>\n",
              "      <td>5.0</td>\n",
              "      <td>0</td>\n",
              "      <td>0</td>\n",
              "      <td>0</td>\n",
              "      <td>1</td>\n",
              "      <td>72.0</td>\n",
              "      <td>[Dereck Joubert]</td>\n",
              "      <td>[Adventure, Family]</td>\n",
              "      <td>[United States]</td>\n",
              "      <td>[English]</td>\n",
              "      <td>0</td>\n",
              "      <td>NaN</td>\n",
              "      <td>1.857332</td>\n",
              "    </tr>\n",
              "    <tr>\n",
              "      <th>16738</th>\n",
              "      <td>16740</td>\n",
              "      <td>The Ghosts of Buxley Hall</td>\n",
              "      <td>1980</td>\n",
              "      <td>6.2</td>\n",
              "      <td>0</td>\n",
              "      <td>0</td>\n",
              "      <td>0</td>\n",
              "      <td>1</td>\n",
              "      <td>120.0</td>\n",
              "      <td>[Bruce Bilson]</td>\n",
              "      <td>[Comedy, Family, Fantasy, Horror]</td>\n",
              "      <td>[United States]</td>\n",
              "      <td>[English]</td>\n",
              "      <td>-1</td>\n",
              "      <td>NaN</td>\n",
              "      <td>2.079181</td>\n",
              "    </tr>\n",
              "    <tr>\n",
              "      <th>16739</th>\n",
              "      <td>16741</td>\n",
              "      <td>The Poof Point</td>\n",
              "      <td>2001</td>\n",
              "      <td>4.7</td>\n",
              "      <td>0</td>\n",
              "      <td>0</td>\n",
              "      <td>0</td>\n",
              "      <td>1</td>\n",
              "      <td>90.0</td>\n",
              "      <td>[Neal Israel]</td>\n",
              "      <td>[Comedy, Family, Sci-Fi]</td>\n",
              "      <td>[United States]</td>\n",
              "      <td>[English]</td>\n",
              "      <td>7</td>\n",
              "      <td>NaN</td>\n",
              "      <td>1.954243</td>\n",
              "    </tr>\n",
              "  </tbody>\n",
              "</table>\n",
              "<p>15764 rows × 16 columns</p>\n",
              "</div>"
            ],
            "text/plain": [
              "          ID                           Title  ...  RottenTomatoes  runtime_log\n",
              "0          1                       Inception  ...             8.7     2.170262\n",
              "1          2                      The Matrix  ...             8.7     2.133539\n",
              "2          3          Avengers: Infinity War  ...             8.4     2.173186\n",
              "3          4              Back to the Future  ...             9.6     2.064458\n",
              "4          5  The Good, the Bad and the Ugly  ...             9.7     2.206826\n",
              "...      ...                             ...  ...             ...          ...\n",
              "16733  16735        Sultan And The Rock Star  ...             NaN     1.778151\n",
              "16736  16738                 The Bears and I  ...             NaN     1.949390\n",
              "16737  16739    Whispers: An Elephant's Tale  ...             NaN     1.857332\n",
              "16738  16740       The Ghosts of Buxley Hall  ...             NaN     2.079181\n",
              "16739  16741                  The Poof Point  ...             NaN     1.954243\n",
              "\n",
              "[15764 rows x 16 columns]"
            ]
          },
          "metadata": {
            "tags": []
          },
          "execution_count": 104
        }
      ]
    },
    {
      "cell_type": "code",
      "metadata": {
        "id": "zrg269Uc92oA",
        "outputId": "a22589dc-de45-4e45-fa18-131cb3d2653d",
        "colab": {
          "base_uri": "https://localhost:8080/",
          "height": 282
        }
      },
      "source": [
        "movies_df_mad.boxplot(column='Runtime')"
      ],
      "execution_count": 105,
      "outputs": [
        {
          "output_type": "execute_result",
          "data": {
            "text/plain": [
              "<matplotlib.axes._subplots.AxesSubplot at 0x7fb9b05ba240>"
            ]
          },
          "metadata": {
            "tags": []
          },
          "execution_count": 105
        },
        {
          "output_type": "display_data",
          "data": {
            "image/png": "[encoded data removed]",
            "text/plain": [
              "<Figure size 432x288 with 1 Axes>"
            ]
          },
          "metadata": {
            "tags": [],
            "needs_background": "light"
          }
        }
      ]
    },
    {
      "cell_type": "code",
      "metadata": {
        "id": "oa6pGrlRCXbG",
        "outputId": "a889c63c-369f-41cb-f816-c58883a7f0a3",
        "colab": {
          "base_uri": "https://localhost:8080/",
          "height": 119
        }
      },
      "source": [
        "movies_df_mad['normalized_year'] = movies_df_mad['Year'].floordiv(10) * 10"
      ],
      "execution_count": 141,
      "outputs": [
        {
          "output_type": "stream",
          "text": [
            "/usr/local/lib/python3.6/dist-packages/ipykernel_launcher.py:1: SettingWithCopyWarning: \n",
            "A value is trying to be set on a copy of a slice from a DataFrame.\n",
            "Try using .loc[row_indexer,col_indexer] = value instead\n",
            "\n",
            "See the caveats in the documentation: https://pandas.pydata.org/pandas-docs/stable/user_guide/indexing.html#returning-a-view-versus-a-copy\n",
            "  \"\"\"Entry point for launching an IPython kernel.\n"
          ],
          "name": "stderr"
        }
      ]
    },
    {
      "cell_type": "code",
      "metadata": {
        "id": "0A1WiQKoCYzv",
        "outputId": "0017972e-e439-4e72-d563-c0197fee0cfb",
        "colab": {
          "base_uri": "https://localhost:8080/",
          "height": 314
        }
      },
      "source": [
        "quantity_movies_by_sec = movies_df_mad['normalized_year'].value_counts().sort_values(ascending=True)\n",
        "quantity_movies_by_sec.plot.bar(color=(0,0,1), title='Quantidade de filmes por século')"
      ],
      "execution_count": 142,
      "outputs": [
        {
          "output_type": "execute_result",
          "data": {
            "text/plain": [
              "<matplotlib.axes._subplots.AxesSubplot at 0x7fb9acd3a080>"
            ]
          },
          "metadata": {
            "tags": []
          },
          "execution_count": 142
        },
        {
          "output_type": "display_data",
          "data": {
            "image/png": "[encoded data removed]",
            "text/plain": [
              "<Figure size 432x288 with 1 Axes>"
            ]
          },
          "metadata": {
            "tags": [],
            "needs_background": "light"
          }
        }
      ]
    },
    {
      "cell_type": "code",
      "metadata": {
        "id": "7CLYbtwGGG4w",
        "outputId": "2c89a7bf-cf36-4212-ff8c-0795ed1c4e7c",
        "colab": {
          "base_uri": "https://localhost:8080/",
          "height": 314
        }
      },
      "source": [
        "movies_df_2010 = movies_df_mad[movies_df_mad['Year'] >= 2010]\n",
        "movies_df_2010 = movies_df_2010.sort_values(['Year'])\n",
        "quantity_movies_2010 = movies_df_2010['Year'].value_counts()\n",
        "quantity_movies_2010.plot.bar(color=(0,0,1), title='Quantidade de filmes produzidos em 2010+')"
      ],
      "execution_count": 159,
      "outputs": [
        {
          "output_type": "execute_result",
          "data": {
            "text/plain": [
              "<matplotlib.axes._subplots.AxesSubplot at 0x7fb9ae296b70>"
            ]
          },
          "metadata": {
            "tags": []
          },
          "execution_count": 159
        },
        {
          "output_type": "display_data",
          "data": {
            "image/png": "[encoded data removed]",
            "text/plain": [
              "<Figure size 432x288 with 1 Axes>"
            ]
          },
          "metadata": {
            "tags": [],
            "needs_background": "light"
          }
        }
      ]
    },
    {
      "cell_type": "code",
      "metadata": {
        "id": "MR50BocmVRCa",
        "outputId": "b90b4546-a25d-4a52-ae33-96c9ef0f64a4",
        "colab": {
          "base_uri": "https://localhost:8080/",
          "height": 347
        }
      },
      "source": [
        "t = movies_df_mad.groupby('normalized_year')['IMDb', 'RottenTomatoes'].mean()\n",
        "t.plot.bar()"
      ],
      "execution_count": 202,
      "outputs": [
        {
          "output_type": "stream",
          "text": [
            "/usr/local/lib/python3.6/dist-packages/ipykernel_launcher.py:1: FutureWarning: Indexing with multiple keys (implicitly converted to a tuple of keys) will be deprecated, use a list instead.\n",
            "  \"\"\"Entry point for launching an IPython kernel.\n"
          ],
          "name": "stderr"
        },
        {
          "output_type": "execute_result",
          "data": {
            "text/plain": [
              "<matplotlib.axes._subplots.AxesSubplot at 0x7fb9aeb9e048>"
            ]
          },
          "metadata": {
            "tags": []
          },
          "execution_count": 202
        },
        {
          "output_type": "display_data",
          "data": {
            "image/png": "[encoded data removed]",
            "text/plain": [
              "<Figure size 432x288 with 1 Axes>"
            ]
          },
          "metadata": {
            "tags": [],
            "needs_background": "light"
          }
        }
      ]
    },
    {
      "cell_type": "code",
      "metadata": {
        "id": "xL_FfK1SWHlB",
        "outputId": "a5d19ed1-5fdd-4cc9-ccc3-a353ab9e1b0d",
        "colab": {
          "base_uri": "https://localhost:8080/",
          "height": 346
        }
      },
      "source": [
        "t = movies_df_2010.groupby('Year')['IMDb', 'RottenTomatoes'].mean()\n",
        "t.plot.bar()"
      ],
      "execution_count": 203,
      "outputs": [
        {
          "output_type": "stream",
          "text": [
            "/usr/local/lib/python3.6/dist-packages/ipykernel_launcher.py:1: FutureWarning: Indexing with multiple keys (implicitly converted to a tuple of keys) will be deprecated, use a list instead.\n",
            "  \"\"\"Entry point for launching an IPython kernel.\n"
          ],
          "name": "stderr"
        },
        {
          "output_type": "execute_result",
          "data": {
            "text/plain": [
              "<matplotlib.axes._subplots.AxesSubplot at 0x7fb9aec7a160>"
            ]
          },
          "metadata": {
            "tags": []
          },
          "execution_count": 203
        },
        {
          "output_type": "display_data",
          "data": {
            "image/png": "[encoded data removed]",
            "text/plain": [
              "<Figure size 432x288 with 1 Axes>"
            ]
          },
          "metadata": {
            "tags": [],
            "needs_background": "light"
          }
        }
      ]
    },
    {
      "cell_type": "markdown",
      "metadata": {
        "id": "8Jcz9i0ELV2v"
      },
      "source": [
        "ANALISES\n",
        "- Qual é mais critico em relacão as notas (imdb ou rotten)\n",
        "- Quantidade de filmes presentes em cada plataforma\n",
        "- Alguma relacao de ano + nota / nota + regiao produzida / nota + ator conhecido\n",
        "- Agrupar por ator para ver qual ator fez mais filme, fazer uma analise do ator + media dos filmes que ele esteve presente\n",
        " \n",
        "HIPOTESES\n",
        "- Filmes de acao tem uma classificacao indicativa maior\n",
        "- Filmes de drama / romance tem maior nota no rotten tomatoes\n",
        "- Existe maior quantidade de filmes em ingles\n",
        "- Existe maior quantidade de filmes feito nos USA"
      ]
    },
    {
      "cell_type": "code",
      "metadata": {
        "id": "fd8zeM-KJLA5",
        "outputId": "06a7d4a5-06f7-420c-fb67-35cbfa222e15",
        "colab": {
          "base_uri": "https://localhost:8080/",
          "height": 119
        }
      },
      "source": [
        "from pyspark.sql.functions import when,count\n",
        "\n",
        "movies_df_aval = movies_df_processed.where(col('IMDb').isNotNull() & col('RottenTomatoes').isNotNull())\n",
        "\n",
        "movies_df_aval.agg(\n",
        "    count(when(col(\"IMDb\") >= 9, True)).alias('IMDb Count'),\n",
        "    count(when(col(\"RottenTomatoes\") >= 9, True)).alias('RottenTomatoes Count')\n",
        ").show()"
      ],
      "execution_count": 205,
      "outputs": [
        {
          "output_type": "stream",
          "text": [
            "+----------+--------------------+\n",
            "|IMDb Count|RottenTomatoes Count|\n",
            "+----------+--------------------+\n",
            "|         1|                1126|\n",
            "+----------+--------------------+\n",
            "\n"
          ],
          "name": "stdout"
        }
      ]
    },
    {
      "cell_type": "code",
      "metadata": {
        "id": "EU2xLJ0xMhjL"
      },
      "source": [
        ""
      ],
      "execution_count": null,
      "outputs": []
    }
  ]
}