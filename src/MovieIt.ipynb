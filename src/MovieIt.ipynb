{
  "nbformat": 4,
  "nbformat_minor": 0,
  "metadata": {
    "colab": {
      "name": "MoveIt.ipynb",
      "provenance": [],
      "collapsed_sections": []
    },
    "kernelspec": {
      "name": "python3",
      "display_name": "Python 3"
    }
  },
  "cells": [
    {
      "cell_type": "markdown",
      "metadata": {
        "id": "lFxeRD2gAxEf"
      },
      "source": [
        "### Install PySpark"
      ]
    },
    {
      "cell_type": "code",
      "metadata": {
        "id": "RTdmD5l4BCct",
        "outputId": "56e12614-b2b5-419d-a6b0-d9e0e3b6d53e",
        "colab": {
          "base_uri": "https://localhost:8080/",
          "height": 52
        }
      },
      "source": [
        "!pip install pyspark"
      ],
      "execution_count": 1,
      "outputs": [
        {
          "output_type": "stream",
          "text": [
            "Requirement already satisfied: pyspark in /usr/local/lib/python3.6/dist-packages (3.0.1)\n",
            "Requirement already satisfied: py4j==0.10.9 in /usr/local/lib/python3.6/dist-packages (from pyspark) (0.10.9)\n"
          ],
          "name": "stdout"
        }
      ]
    },
    {
      "cell_type": "markdown",
      "metadata": {
        "id": "_AcB-QsuAm8K"
      },
      "source": [
        "### Create Spark Context"
      ]
    },
    {
      "cell_type": "code",
      "metadata": {
        "id": "1udOWHIlCvbi"
      },
      "source": [
        "from pyspark import SparkContext\n",
        "from pyspark.sql import Row\n",
        "from pyspark.sql import *\n",
        "from pyspark.sql import SQLContext\n",
        "from pyspark import SparkFiles"
      ],
      "execution_count": 2,
      "outputs": []
    },
    {
      "cell_type": "code",
      "metadata": {
        "id": "eel4ff5OA6qe"
      },
      "source": [
        "spark = SparkContext(\"local\", \"MovieIt App\")"
      ],
      "execution_count": 3,
      "outputs": []
    },
    {
      "cell_type": "markdown",
      "metadata": {
        "id": "HWVV98rzl07M"
      },
      "source": [
        "### Load Dataset"
      ]
    },
    {
      "cell_type": "code",
      "metadata": {
        "id": "SoH9WIshDvSJ"
      },
      "source": [
        "spark.addFile('https://raw.githubusercontent.com/JonatasDeOliveira/movie-it/master/src/data/moviesOnStreamingPlatforms_updated.csv')"
      ],
      "execution_count": 4,
      "outputs": []
    },
    {
      "cell_type": "code",
      "metadata": {
        "id": "aiXf8Wm7BX98"
      },
      "source": [
        "sql_context = SQLContext(spark)\n",
        "movies_df = sql_context.read.csv(SparkFiles.get(\"moviesOnStreamingPlatforms_updated.csv\"), header=True, inferSchema= True)"
      ],
      "execution_count": 5,
      "outputs": []
    },
    {
      "cell_type": "code",
      "metadata": {
        "id": "xt0mKG56EWGI",
        "outputId": "77f493a6-4332-4951-8b9c-df3d9151cb12",
        "colab": {
          "base_uri": "https://localhost:8080/",
          "height": 488
        }
      },
      "source": [
        "movies_df.show(20, False)"
      ],
      "execution_count": 6,
      "outputs": [
        {
          "output_type": "stream",
          "text": [
            "+---+---+----------------------------------+----+---+----+---------------+-------+----+-----------+-------+----+-------------------------------------------+----------------------------------------+-------------------------------------------+-------------------------------------------+-------+\n",
            "|_c0|ID |Title                             |Year|Age|IMDb|Rotten Tomatoes|Netflix|Hulu|Prime Video|Disney+|Type|Directors                                  |Genres                                  |Country                                    |Language                                   |Runtime|\n",
            "+---+---+----------------------------------+----+---+----+---------------+-------+----+-----------+-------+----+-------------------------------------------+----------------------------------------+-------------------------------------------+-------------------------------------------+-------+\n",
            "|0  |1  |Inception                         |2010|13+|8.8 |87%            |1      |0   |0          |0      |0   |Christopher Nolan                          |Action,Adventure,Sci-Fi,Thriller        |United States,United Kingdom               |English,Japanese,French                    |148    |\n",
            "|1  |2  |The Matrix                        |1999|18+|8.7 |87%            |1      |0   |0          |0      |0   |Lana Wachowski,Lilly Wachowski             |Action,Sci-Fi                           |United States                              |English                                    |136    |\n",
            "|2  |3  |Avengers: Infinity War            |2018|13+|8.5 |84%            |1      |0   |0          |0      |0   |Anthony Russo,Joe Russo                    |Action,Adventure,Sci-Fi                 |United States                              |English                                    |149    |\n",
            "|3  |4  |Back to the Future                |1985|7+ |8.5 |96%            |1      |0   |0          |0      |0   |Robert Zemeckis                            |Adventure,Comedy,Sci-Fi                 |United States                              |English                                    |116    |\n",
            "|4  |5  |The Good, the Bad and the Ugly    |1966|18+|8.8 |97%            |1      |0   |1          |0      |0   |Sergio Leone                               |Western                                 |Italy,Spain,West Germany                   |Italian                                    |161    |\n",
            "|5  |6  |Spider-Man: Into the Spider-Verse |2018|7+ |8.4 |97%            |1      |0   |0          |0      |0   |Bob Persichetti,Peter Ramsey,Rodney Rothman|Animation,Action,Adventure,Family,Sci-Fi|United States                              |English,Spanish                            |117    |\n",
            "|6  |7  |The Pianist                       |2002|18+|8.5 |95%            |1      |0   |1          |0      |0   |Roman Polanski                             |Biography,Drama,Music,War               |United Kingdom,France,Poland,Germany       |English,German,Russian                     |150    |\n",
            "|7  |8  |Django Unchained                  |2012|18+|8.4 |87%            |1      |0   |0          |0      |0   |Quentin Tarantino                          |Drama,Western                           |United States                              |English,German,French,Italian              |165    |\n",
            "|8  |9  |Raiders of the Lost Ark           |1981|7+ |8.4 |95%            |1      |0   |0          |0      |0   |Steven Spielberg                           |Action,Adventure                        |United States                              |English,German,Hebrew,Spanish,Arabic,Nepali|115    |\n",
            "|9  |10 |Inglourious Basterds              |2009|18+|8.3 |89%            |1      |0   |0          |0      |0   |Quentin Tarantino                          |Adventure,Drama,War                     |Germany,United States                      |English,German,French,Italian              |153    |\n",
            "|10 |11 |Taxi Driver                       |1976|18+|8.3 |95%            |1      |0   |0          |0      |0   |Martin Scorsese                            |Crime,Drama                             |United States                              |English,Spanish                            |114    |\n",
            "|11 |12 |3 Idiots                          |2009|13+|8.4 |100%           |1      |0   |1          |0      |0   |Rajkumar Hirani                            |Comedy,Drama                            |India                                      |Hindi,English                              |170    |\n",
            "|12 |13 |Pan's Labyrinth                   |2006|18+|8.2 |95%            |1      |0   |0          |0      |0   |Guillermo del Toro                         |Drama,Fantasy,War                       |Mexico,Spain                               |Spanish                                    |118    |\n",
            "|13 |14 |Room                              |2015|18+|8.1 |93%            |1      |0   |0          |0      |0   |Lenny Abrahamson                           |Drama,Thriller                          |Ireland,Canada,United Kingdom,United States|English                                    |118    |\n",
            "|14 |15 |Monty Python and the Holy Grail   |1975|7+ |8.2 |97%            |1      |0   |0          |0      |0   |Terry Gilliam,Terry Jones                  |Adventure,Comedy,Fantasy                |United Kingdom                             |English,French,Latin                       |91     |\n",
            "|15 |16 |Once Upon a Time in the West      |1968|13+|8.5 |95%            |1      |0   |1          |0      |0   |Sergio Leone                               |Western                                 |Italy,United States                        |Italian,English,Spanish                    |165    |\n",
            "|16 |17 |Indiana Jones and the Last Crusade|1989|13+|8.2 |88%            |1      |0   |0          |0      |0   |Steven Spielberg                           |Action,Adventure                        |United States                              |English,German,Greek,Arabic                |127    |\n",
            "|17 |18 |Groundhog Day                     |1993|7+ |8.0 |96%            |1      |0   |0          |0      |0   |Harold Ramis                               |Comedy,Fantasy,Romance                  |United States                              |English,French,Italian                     |101    |\n",
            "|18 |19 |The King's Speech                 |2010|18+|8.0 |95%            |1      |0   |0          |0      |0   |Tom Hooper                                 |Biography,Drama,History                 |United Kingdom,United States,Australia     |English                                    |118    |\n",
            "|19 |20 |Her                               |2013|18+|8.0 |95%            |1      |0   |0          |0      |0   |Spike Jonze                                |Drama,Romance,Sci-Fi                    |United States                              |English                                    |126    |\n",
            "+---+---+----------------------------------+----+---+----+---------------+-------+----+-----------+-------+----+-------------------------------------------+----------------------------------------+-------------------------------------------+-------------------------------------------+-------+\n",
            "only showing top 20 rows\n",
            "\n"
          ],
          "name": "stdout"
        }
      ]
    },
    {
      "cell_type": "markdown",
      "metadata": {
        "id": "33e7JpIHmFl9"
      },
      "source": [
        "### Pre Processing Dataset "
      ]
    },
    {
      "cell_type": "code",
      "metadata": {
        "id": "P0RBQqh8SCsk",
        "outputId": "8e7ad8d0-e0f5-45b7-f057-ce88189ff4be",
        "colab": {
          "base_uri": "https://localhost:8080/",
          "height": 347
        }
      },
      "source": [
        "movies_df.printSchema()"
      ],
      "execution_count": 7,
      "outputs": [
        {
          "output_type": "stream",
          "text": [
            "root\n",
            " |-- _c0: integer (nullable = true)\n",
            " |-- ID: integer (nullable = true)\n",
            " |-- Title: string (nullable = true)\n",
            " |-- Year: string (nullable = true)\n",
            " |-- Age: string (nullable = true)\n",
            " |-- IMDb: double (nullable = true)\n",
            " |-- Rotten Tomatoes: string (nullable = true)\n",
            " |-- Netflix: integer (nullable = true)\n",
            " |-- Hulu: integer (nullable = true)\n",
            " |-- Prime Video: integer (nullable = true)\n",
            " |-- Disney+: integer (nullable = true)\n",
            " |-- Type: integer (nullable = true)\n",
            " |-- Directors: string (nullable = true)\n",
            " |-- Genres: string (nullable = true)\n",
            " |-- Country: string (nullable = true)\n",
            " |-- Language: string (nullable = true)\n",
            " |-- Runtime: integer (nullable = true)\n",
            "\n"
          ],
          "name": "stdout"
        }
      ]
    },
    {
      "cell_type": "markdown",
      "metadata": {
        "id": "QJhDiA6HQU46"
      },
      "source": [
        "Pontos notados:\n",
        "\n",
        "- Primeiramente, percebemos que temos duas colunas com \"ids\". Como pegamos esses dados do kaggle possivelmente esta primeira coluna não é necessária.\n",
        "- Há uma coluna Type que possui somente valores iguais a 0. Procuramos entender o que seria mas não encontramos, vamos dropar essa coluna.\n",
        "- Outra observação é que as colunas Directors, Genres, Country e Language são listas e estão como strings devemos processar também as mesmas.\n",
        "- Colunas Age e Year estão como string, devem ser transformadas para integer."
      ]
    },
    {
      "cell_type": "code",
      "metadata": {
        "id": "KgTaLR7rH99C"
      },
      "source": [
        "from pyspark.sql.functions import split\n",
        "from pyspark.sql.functions import col"
      ],
      "execution_count": 8,
      "outputs": []
    },
    {
      "cell_type": "code",
      "metadata": {
        "id": "DOn1LPu2ePtP"
      },
      "source": [
        "movies_df_drop_c0 = movies_df.drop('_c0')"
      ],
      "execution_count": 9,
      "outputs": []
    },
    {
      "cell_type": "code",
      "metadata": {
        "id": "V6o3brYnqdXK"
      },
      "source": [
        "movies_df_drop_type = movies_df_drop_c0.drop('Type')"
      ],
      "execution_count": 10,
      "outputs": []
    },
    {
      "cell_type": "code",
      "metadata": {
        "id": "2ymxnLPZIEWk"
      },
      "source": [
        "movies_df_split = (movies_df_drop_type.withColumn('DirectorsArray', split('Directors', ','))\n",
        ".withColumn('GenresArray', split('Genres', ','))\n",
        ".withColumn('CountriesArray', split('Country', ','))\n",
        ".withColumn('LanguagesArray', split('Language', ','))\n",
        ".drop('Directors')\n",
        ".drop('Genres')\n",
        ".drop('Country')\n",
        ".drop('Language'))"
      ],
      "execution_count": 11,
      "outputs": []
    },
    {
      "cell_type": "code",
      "metadata": {
        "id": "XbdrU1-VeGOI",
        "outputId": "8f73fc3f-a949-4005-9f3f-4d4621453214",
        "colab": {
          "base_uri": "https://localhost:8080/",
          "height": 35
        }
      },
      "source": [
        "# checando se todas as idades seguem o regex [0-9]+\\+\n",
        "df_filtered_age_pattern = movies_df_split.filter(col('Age').rlike('[0-9]+\\+'))\n",
        "df_filtered_age_pattern.count() == movies_df_split.count()"
      ],
      "execution_count": 12,
      "outputs": [
        {
          "output_type": "execute_result",
          "data": {
            "text/plain": [
              "False"
            ]
          },
          "metadata": {
            "tags": []
          },
          "execution_count": 12
        }
      ]
    },
    {
      "cell_type": "code",
      "metadata": {
        "id": "2Hv27tusnUie",
        "outputId": "56d766c1-51c9-4284-be96-f81515bed445",
        "colab": {
          "base_uri": "https://localhost:8080/",
          "height": 228
        }
      },
      "source": [
        "# verificar idades que não seguem o padrão\n",
        "df_filtered_not_age_pattern = movies_df_split.filter(~col('Age').rlike('[0-9]+\\+'))\n",
        "df_filtered_not_age_pattern.show(5, False)"
      ],
      "execution_count": 13,
      "outputs": [
        {
          "output_type": "stream",
          "text": [
            "+---+-----------------------------------+----+---+----+---------------+-------+----+-----------+-------+-------+---------------------------+-----------------------------------------------------------------+----------------------------------------------------+----------------------------------+\n",
            "|ID |Title                              |Year|Age|IMDb|Rotten Tomatoes|Netflix|Hulu|Prime Video|Disney+|Runtime|DirectorsArray             |GenresArray                                                      |CountriesArray                                      |LanguagesArray                    |\n",
            "+---+-----------------------------------+----+---+----+---------------+-------+----+-----------+-------+-------+---------------------------+-----------------------------------------------------------------+----------------------------------------------------+----------------------------------+\n",
            "|55 |Willy Wonka & the Chocolate Factory|1971|all|7.8 |91%            |1      |0   |0          |0      |100    |[Mel Stuart]               |[Family, Fantasy, Musical]                                       |[United States, East Germany, West Germany, Belgium]|[English, French, German, Italian]|\n",
            "|92 |Tarzan                             |1999|all|7.3 |89%            |1      |0   |0          |0      |110    |[David Yates]              |[Action, Adventure, Drama, Fantasy, Romance]                     |[United Kingdom, Canada, United States]             |[English, Lingala, French]        |\n",
            "|126|The Princess and the Frog          |2009|all|7.1 |85%            |1      |0   |0          |1      |97     |[Ron Clements, John Musker]|[Animation, Adventure, Comedy, Family, Fantasy, Musical, Romance]|[United States]                                     |[English, French]                 |\n",
            "|134|Barfi!                             |2012|all|8.1 |86%            |1      |0   |0          |0      |151    |[Anurag Basu]              |[Comedy, Drama, Romance]                                         |[India]                                             |[Hindi]                           |\n",
            "|152|Swades                             |2004|all|8.2 |83%            |1      |0   |0          |0      |210    |[Ashutosh Gowariker]       |[Drama]                                                          |[India]                                             |[Hindi, English]                  |\n",
            "+---+-----------------------------------+----+---+----+---------------+-------+----+-----------+-------+-------+---------------------------+-----------------------------------------------------------------+----------------------------------------------------+----------------------------------+\n",
            "only showing top 5 rows\n",
            "\n"
          ],
          "name": "stdout"
        }
      ]
    },
    {
      "cell_type": "code",
      "metadata": {
        "id": "fhvJGi9uoqx7",
        "outputId": "5ab3def6-92ab-438d-adb8-2203c35c81d6",
        "colab": {
          "base_uri": "https://localhost:8080/",
          "height": 35
        }
      },
      "source": [
        "# verficar que o padrão de idade em regex [0-9]+\\+ unido a o padrão com 'all' contemplam todo o dataframe\n",
        "df_filtered_pattern_all = movies_df_split.filter(col('Age').rlike('[0-9]+\\+') | (col('Age') == 'all'))\n",
        "movies_df_split.count() == df_filtered_pattern_all.count()"
      ],
      "execution_count": 14,
      "outputs": [
        {
          "output_type": "execute_result",
          "data": {
            "text/plain": [
              "False"
            ]
          },
          "metadata": {
            "tags": []
          },
          "execution_count": 14
        }
      ]
    },
    {
      "cell_type": "code",
      "metadata": {
        "id": "fGTUiTjXpwtv",
        "outputId": "66c662cd-88ce-40e1-f380-e7bb6bc00d0c",
        "colab": {
          "base_uri": "https://localhost:8080/",
          "height": 141
        }
      },
      "source": [
        "df_filtered_not_pattern_all = movies_df_split.filter(~(col('Age').rlike('[0-9]+\\+') | (col('Age') == 'all')))\n",
        "df_filtered_not_pattern_all.show(5, False)"
      ],
      "execution_count": 15,
      "outputs": [
        {
          "output_type": "stream",
          "text": [
            "+-----+-----------------------------+-------------------------+----+----+---------------+-------+----+-----------+-------+-------+--------------+-----------+--------------+--------------+\n",
            "|ID   |Title                        |Year                     |Age |IMDb|Rotten Tomatoes|Netflix|Hulu|Prime Video|Disney+|Runtime|DirectorsArray|GenresArray|CountriesArray|LanguagesArray|\n",
            "+-----+-----------------------------+-------------------------+----+----+---------------+-------+----+-----------+-------+-------+--------------+-----------+--------------+--------------+\n",
            "|15902|\"\"\"22\"\" A film about Veterans| Healthcare and Suicide.\"|2018|null|null           |null   |0   |0          |1      |null   |[0]           |null       |null          |null          |\n",
            "+-----+-----------------------------+-------------------------+----+----+---------------+-------+----+-----------+-------+-------+--------------+-----------+--------------+--------------+\n",
            "\n"
          ],
          "name": "stdout"
        }
      ]
    },
    {
      "cell_type": "markdown",
      "metadata": {
        "id": "D-Fe1vDxqYzC"
      },
      "source": [
        "Claramente a linha apresentada acima é um erro pois a idade está como um ano, o ano está como um texto e a maioria das outras colunas estão vazias, vamos remover essa linha."
      ]
    },
    {
      "cell_type": "code",
      "metadata": {
        "id": "79g8jIPdra00"
      },
      "source": [
        "movies_df_filtered_age = movies_df_split.where(col('ID') != 15902)"
      ],
      "execution_count": 16,
      "outputs": []
    },
    {
      "cell_type": "markdown",
      "metadata": {
        "id": "DP1WVvJPrwvu"
      },
      "source": [
        "Agora vamos processar Age para aparecer como um inteiro em todo dataframe. A idade (Age) possui dois formatos, a idade mínima pra assistir o filme acompanhada de um caracter '+' ou o texto escrito 'all'. Iremos seguir os seguintes passos:\n",
        "- remover o caracter '+' das idades mínimas;\n",
        "- tranformar todas linha com o valor 'all' para 0;\n",
        "- transformar para um inteiro renomeando a coluna para MinimumAge;"
      ]
    },
    {
      "cell_type": "code",
      "metadata": {
        "id": "3WhJu56-UouO",
        "outputId": "1916c671-0ad0-4381-f676-0ca896923a80",
        "colab": {
          "base_uri": "https://localhost:8080/",
          "height": 488
        }
      },
      "source": [
        "movies_df_filtered_age.where(col('Age').isNull()).show()"
      ],
      "execution_count": 17,
      "outputs": [
        {
          "output_type": "stream",
          "text": [
            "+---+--------------------+----+----+----+---------------+-------+----+-----------+-------+-------+--------------------+--------------------+--------------------+--------------------+\n",
            "| ID|               Title|Year| Age|IMDb|Rotten Tomatoes|Netflix|Hulu|Prime Video|Disney+|Runtime|      DirectorsArray|         GenresArray|      CountriesArray|      LanguagesArray|\n",
            "+---+--------------------+----+----+----+---------------+-------+----+-----------+-------+-------+--------------------+--------------------+--------------------+--------------------+\n",
            "| 33|      Train to Busan|2016|null| 7.5|            94%|      1|   0|          1|      0|    118|      [Sang-ho Yeon]|[Action, Horror, ...|       [South Korea]|  [Korean, Hawaiian]|\n",
            "| 58|      A Silent Voice|2016|null| 8.2|            94%|      1|   0|          0|      0|    130|      [Naoko Yamada]|[Animation, Drama...|             [Japan]|[Japanese, Japane...|\n",
            "| 90|       The Dawn Wall|2018|null| 8.1|           100%|      1|   0|          0|      0|    100|[Josh Lowell, Pet...|[Documentary, Bio...|[Austria, United ...|           [English]|\n",
            "|111|Black Mirror: Ban...|2018|null| 7.2|            92%|      1|   0|          0|      0|     90|       [David Slade]|[Drama, Mystery, ...|[United States, U...|           [English]|\n",
            "|124|Neon Genesis Evan...|1997|null| 8.1|            88%|      1|   0|          0|      0|     87|[Hideaki Anno, Ka...|[Animation, Actio...|             [Japan]|          [Japanese]|\n",
            "|149|          The Square|2013|null| 8.1|           100%|      1|   1|          1|      0|    151|     [Ruben Östlund]|     [Comedy, Drama]|[Sweden, Germany,...|[Swedish, English...|\n",
            "|165|             Virunga|2014|null| 8.2|           100%|      1|   0|          0|      0|    100|[Orlando von Eins...|  [Documentary, War]|[United Kingdom, ...|[English, French,...|\n",
            "|172|          Article 15|2019|null| 8.3|            89%|      1|   0|          0|      0|    130|     [Anubhav Sinha]|[Crime, Drama, My...|             [India]|             [Hindi]|\n",
            "|178|Hannah Gadsby: Na...|2018|null| 8.2|           100%|      1|   0|          0|      0|     69|[Jon Olb, Madelei...|[Documentary, Com...|         [Australia]|           [English]|\n",
            "|184|Winter on Fire: U...|2015|null| 8.4|            88%|      1|   0|          0|      0|    102| [Evgeny Afineevsky]|       [Documentary]|[United Kingdom, ...|[Ukrainian, Russi...|\n",
            "|189|      The Invitation|2015|null| 6.6|            88%|      1|   0|          1|      0|    100|      [Karyn Kusama]|[Drama, Mystery, ...|     [United States]|           [English]|\n",
            "|193|    On Body and Soul|2017|null| 7.6|            89%|      1|   0|          0|      0|    116|     [Ildikó Enyedi]|[Drama, Fantasy, ...|           [Hungary]|         [Hungarian]|\n",
            "|204|              Sairat|2016|null| 8.3|           100%|      1|   0|          0|      0|    174|    [Nagraj Manjule]|    [Drama, Romance]|             [India]|           [Marathi]|\n",
            "|216| The Young Offenders|2016|null| 7.1|           100%|      1|   0|          0|      0|     30|                null|            [Comedy]|[United Kingdom, ...|           [English]|\n",
            "|221|The Guernsey Lite...|2018|null| 7.4|            81%|      1|   0|          0|      0|    124|       [Mike Newell]|[Drama, Romance, ...|[United Kingdom, ...|[English, German,...|\n",
            "|223|         The Endless|2018|null| 6.5|            94%|      1|   0|          0|      0|    111|[Justin Benson, A...|[Drama, Fantasy, ...|     [United States]|           [English]|\n",
            "|225|   The Game Changers|2019|null| 7.9|            70%|      1|   0|          0|      0|    108|    [Louie Psihoyos]|       [Documentary]|     [United States]|           [English]|\n",
            "|231|      The Fear of 13|2015|null| 7.7|            94%|      1|   0|          0|      0|     96|     [David Sington]|[Documentary, Cri...|    [United Kingdom]|           [English]|\n",
            "|236|              Code 8|2019|null| 6.1|            79%|      1|   0|          0|      0|     98|         [Jeff Chan]|[Action, Crime, D...|            [Canada]|           [English]|\n",
            "|239|The Distinguished...|2016|null| 7.5|           100%|      1|   0|          0|      0|    118|[Gastón Duprat, M...|     [Comedy, Drama]|  [Argentina, Spain]|           [Spanish]|\n",
            "+---+--------------------+----+----+----+---------------+-------+----+-----------+-------+-------+--------------------+--------------------+--------------------+--------------------+\n",
            "only showing top 20 rows\n",
            "\n"
          ],
          "name": "stdout"
        }
      ]
    },
    {
      "cell_type": "code",
      "metadata": {
        "id": "T_cXQa3LQgxk"
      },
      "source": [
        "from pyspark.sql.functions import translate\n",
        "from pyspark.sql.types import IntegerType\n",
        "from pyspark.sql.functions import udf\n",
        "\n",
        "def transform_all_age_value(age):\n",
        "  if age == 'all':\n",
        "    return 0\n",
        "  if age is None:\n",
        "    return -1\n",
        "  return int(age)\n",
        "\n",
        "transformAllAgeValue = udf(lambda x: transform_all_age_value(x), IntegerType())\n",
        "\n",
        "movies_df_age_processed = movies_df_filtered_age.withColumn(\"Age\", translate('Age', '+', ''))\n",
        "movies_df_classification = movies_df_age_processed.withColumn(\"MinimumClassification\", transformAllAgeValue(col('Age'))).drop('Age')"
      ],
      "execution_count": 18,
      "outputs": []
    },
    {
      "cell_type": "markdown",
      "metadata": {
        "id": "uA2cBFSGhCEi"
      },
      "source": [
        "Note que existe idade indicativa nula, setamos esses valores como -1."
      ]
    },
    {
      "cell_type": "code",
      "metadata": {
        "id": "qDhJr90zgyAv",
        "outputId": "3621e258-96a2-45d4-f21e-69679ee9530d",
        "colab": {
          "base_uri": "https://localhost:8080/",
          "height": 381
        }
      },
      "source": [
        "movies_df_classification.printSchema()"
      ],
      "execution_count": 19,
      "outputs": [
        {
          "output_type": "stream",
          "text": [
            "root\n",
            " |-- ID: integer (nullable = true)\n",
            " |-- Title: string (nullable = true)\n",
            " |-- Year: string (nullable = true)\n",
            " |-- IMDb: double (nullable = true)\n",
            " |-- Rotten Tomatoes: string (nullable = true)\n",
            " |-- Netflix: integer (nullable = true)\n",
            " |-- Hulu: integer (nullable = true)\n",
            " |-- Prime Video: integer (nullable = true)\n",
            " |-- Disney+: integer (nullable = true)\n",
            " |-- Runtime: integer (nullable = true)\n",
            " |-- DirectorsArray: array (nullable = true)\n",
            " |    |-- element: string (containsNull = true)\n",
            " |-- GenresArray: array (nullable = true)\n",
            " |    |-- element: string (containsNull = true)\n",
            " |-- CountriesArray: array (nullable = true)\n",
            " |    |-- element: string (containsNull = true)\n",
            " |-- LanguagesArray: array (nullable = true)\n",
            " |    |-- element: string (containsNull = true)\n",
            " |-- MinimumClassification: integer (nullable = true)\n",
            "\n"
          ],
          "name": "stdout"
        }
      ]
    },
    {
      "cell_type": "markdown",
      "metadata": {
        "id": "H3yQHisWq3gv"
      },
      "source": [
        "Analisando o schema novamente, podemos ver que assim como o campo Age, o campo Year deveria estar como Integer, vamos arrumar isso."
      ]
    },
    {
      "cell_type": "code",
      "metadata": {
        "id": "lxIsJc9orTRT"
      },
      "source": [
        "movies_df_year_processed = movies_df_classification.withColumn(\"Year\", col(\"Year\").cast(IntegerType()))"
      ],
      "execution_count": 20,
      "outputs": []
    },
    {
      "cell_type": "code",
      "metadata": {
        "id": "i4lPBLH8WxkP",
        "outputId": "5d773552-9b79-401e-8aa8-ae9c46824658",
        "colab": {
          "base_uri": "https://localhost:8080/",
          "height": 381
        }
      },
      "source": [
        "movies_df_year_processed.printSchema()"
      ],
      "execution_count": 21,
      "outputs": [
        {
          "output_type": "stream",
          "text": [
            "root\n",
            " |-- ID: integer (nullable = true)\n",
            " |-- Title: string (nullable = true)\n",
            " |-- Year: integer (nullable = true)\n",
            " |-- IMDb: double (nullable = true)\n",
            " |-- Rotten Tomatoes: string (nullable = true)\n",
            " |-- Netflix: integer (nullable = true)\n",
            " |-- Hulu: integer (nullable = true)\n",
            " |-- Prime Video: integer (nullable = true)\n",
            " |-- Disney+: integer (nullable = true)\n",
            " |-- Runtime: integer (nullable = true)\n",
            " |-- DirectorsArray: array (nullable = true)\n",
            " |    |-- element: string (containsNull = true)\n",
            " |-- GenresArray: array (nullable = true)\n",
            " |    |-- element: string (containsNull = true)\n",
            " |-- CountriesArray: array (nullable = true)\n",
            " |    |-- element: string (containsNull = true)\n",
            " |-- LanguagesArray: array (nullable = true)\n",
            " |    |-- element: string (containsNull = true)\n",
            " |-- MinimumClassification: integer (nullable = true)\n",
            "\n"
          ],
          "name": "stdout"
        }
      ]
    },
    {
      "cell_type": "markdown",
      "metadata": {
        "id": "qkqjcZhtic65"
      },
      "source": [
        "Agora precisamos modificar a coluna Rotten Tomatoes para ser um integer."
      ]
    },
    {
      "cell_type": "code",
      "metadata": {
        "id": "hxNEA6ySibsD"
      },
      "source": [
        "movies_df_rotten_char = movies_df_year_processed.withColumn(\"RottenTomatoes\", translate('Rotten Tomatoes', '%', '')).drop('Rotten Tomatoes')\n",
        "movies_df_rotten_int = movies_df_rotten_char.withColumn(\"RottenTomatoes\", col(\"RottenTomatoes\").cast(IntegerType()))\n",
        "movies_df_padronized_rotten = movies_df_rotten_int.withColumn(\"RottenTomatoes\", col(\"RottenTomatoes\") / 10)"
      ],
      "execution_count": 22,
      "outputs": []
    },
    {
      "cell_type": "code",
      "metadata": {
        "id": "FBFkcESjkn5z",
        "outputId": "19c4fd07-0c1d-4024-b565-6adec56f0b53",
        "colab": {
          "base_uri": "https://localhost:8080/",
          "height": 381
        }
      },
      "source": [
        "movies_df_padronized_rotten.printSchema()"
      ],
      "execution_count": 23,
      "outputs": [
        {
          "output_type": "stream",
          "text": [
            "root\n",
            " |-- ID: integer (nullable = true)\n",
            " |-- Title: string (nullable = true)\n",
            " |-- Year: integer (nullable = true)\n",
            " |-- IMDb: double (nullable = true)\n",
            " |-- Netflix: integer (nullable = true)\n",
            " |-- Hulu: integer (nullable = true)\n",
            " |-- Prime Video: integer (nullable = true)\n",
            " |-- Disney+: integer (nullable = true)\n",
            " |-- Runtime: integer (nullable = true)\n",
            " |-- DirectorsArray: array (nullable = true)\n",
            " |    |-- element: string (containsNull = true)\n",
            " |-- GenresArray: array (nullable = true)\n",
            " |    |-- element: string (containsNull = true)\n",
            " |-- CountriesArray: array (nullable = true)\n",
            " |    |-- element: string (containsNull = true)\n",
            " |-- LanguagesArray: array (nullable = true)\n",
            " |    |-- element: string (containsNull = true)\n",
            " |-- MinimumClassification: integer (nullable = true)\n",
            " |-- RottenTomatoes: double (nullable = true)\n",
            "\n"
          ],
          "name": "stdout"
        }
      ]
    },
    {
      "cell_type": "code",
      "metadata": {
        "id": "Hi2LBBtDn0OG"
      },
      "source": [
        "movies_df_processed = movies_df_padronized_rotten"
      ],
      "execution_count": 24,
      "outputs": []
    },
    {
      "cell_type": "code",
      "metadata": {
        "id": "vRID5dT2wk1I",
        "outputId": "b7e9bc28-9140-48f9-a1bf-35741c3486fc",
        "colab": {
          "base_uri": "https://localhost:8080/",
          "height": 159
        }
      },
      "source": [
        "movies_df_processed.orderBy('IMDb', ascending=False).show(1, False)"
      ],
      "execution_count": 25,
      "outputs": [
        {
          "output_type": "stream",
          "text": [
            "+----+---------------+----+----+-------+----+-----------+-------+-------+--------------+---------------------------------+---------------+--------------+---------------------+--------------+\n",
            "|ID  |Title          |Year|IMDb|Netflix|Hulu|Prime Video|Disney+|Runtime|DirectorsArray|GenresArray                      |CountriesArray |LanguagesArray|MinimumClassification|RottenTomatoes|\n",
            "+----+---------------+----+----+-------+----+-----------+-------+-------+--------------+---------------------------------+---------------+--------------+---------------------+--------------+\n",
            "|5111|Love on a Leash|2011|9.3 |0      |0   |1          |0      |90     |[Fen Tian]    |[Comedy, Drama, Fantasy, Romance]|[United States]|null          |-1                   |null          |\n",
            "+----+---------------+----+----+-------+----+-----------+-------+-------+--------------+---------------------------------+---------------+--------------+---------------------+--------------+\n",
            "only showing top 1 row\n",
            "\n"
          ],
          "name": "stdout"
        }
      ]
    },
    {
      "cell_type": "code",
      "metadata": {
        "id": "FFXjvzmc0KJo",
        "outputId": "e3d65033-50d8-4f13-e503-2b0d1493c0c8",
        "colab": {
          "base_uri": "https://localhost:8080/",
          "height": 159
        }
      },
      "source": [
        "movies_df_processed.where((col(\"Netflix\") == 1) & (col(\"Prime Video\") == 1)).orderBy('IMDb', ascending=False).show(1, False)"
      ],
      "execution_count": 26,
      "outputs": [
        {
          "output_type": "stream",
          "text": [
            "+---+------------------------------+----+----+-------+----+-----------+-------+-------+--------------+-----------+----------------------------+--------------+---------------------+--------------+\n",
            "|ID |Title                         |Year|IMDb|Netflix|Hulu|Prime Video|Disney+|Runtime|DirectorsArray|GenresArray|CountriesArray              |LanguagesArray|MinimumClassification|RottenTomatoes|\n",
            "+---+------------------------------+----+----+-------+----+-----------+-------+-------+--------------+-----------+----------------------------+--------------+---------------------+--------------+\n",
            "|5  |The Good, the Bad and the Ugly|1966|8.8 |1      |0   |1          |0      |161    |[Sergio Leone]|[Western]  |[Italy, Spain, West Germany]|[Italian]     |18                   |9.7           |\n",
            "+---+------------------------------+----+----+-------+----+-----------+-------+-------+--------------+-----------+----------------------------+--------------+---------------------+--------------+\n",
            "only showing top 1 row\n",
            "\n"
          ],
          "name": "stdout"
        }
      ]
    },
    {
      "cell_type": "code",
      "metadata": {
        "id": "3Nq3Xadx1Ies",
        "outputId": "d2e8afe0-8884-42bc-b532-886045863dd0",
        "colab": {
          "base_uri": "https://localhost:8080/",
          "height": 159
        }
      },
      "source": [
        "movies_df_processed.where((col(\"Netflix\") == 1) & (col(\"Prime Video\") == 1)).orderBy('Rotten Tomatoes', ascending=False).show(1, False)"
      ],
      "execution_count": 27,
      "outputs": [
        {
          "output_type": "stream",
          "text": [
            "+---+----------+----+----+-------+----+-----------+-------+-------+-----------------+--------------+----------------+--------------+---------------------+--------------+\n",
            "|ID |Title     |Year|IMDb|Netflix|Hulu|Prime Video|Disney+|Runtime|DirectorsArray   |GenresArray   |CountriesArray  |LanguagesArray|MinimumClassification|RottenTomatoes|\n",
            "+---+----------+----+----+-------+----+-----------+-------+-------+-----------------+--------------+----------------+--------------+---------------------+--------------+\n",
            "|143|Starred Up|2013|7.4 |1      |0   |1          |0      |106    |[David Mackenzie]|[Crime, Drama]|[United Kingdom]|[English]     |18                   |9.9           |\n",
            "+---+----------+----+----+-------+----+-----------+-------+-------+-----------------+--------------+----------------+--------------+---------------------+--------------+\n",
            "only showing top 1 row\n",
            "\n"
          ],
          "name": "stdout"
        }
      ]
    },
    {
      "cell_type": "markdown",
      "metadata": {
        "id": "zjph0XghngZJ"
      },
      "source": [
        "### Visualization"
      ]
    },
    {
      "cell_type": "code",
      "metadata": {
        "id": "qxkUiVwlkg-k"
      },
      "source": [
        "movies_df_pd = movies_df_processed.toPandas()"
      ],
      "execution_count": 28,
      "outputs": []
    },
    {
      "cell_type": "code",
      "metadata": {
        "id": "cnUWbbX0oerA"
      },
      "source": [
        ""
      ],
      "execution_count": 29,
      "outputs": []
    }
  ]
}