{
  "nbformat": 4,
  "nbformat_minor": 0,
  "metadata": {
    "colab": {
      "name": "MoveIt.ipynb",
      "provenance": [],
      "collapsed_sections": []
    },
    "kernelspec": {
      "name": "python3",
      "display_name": "Python 3"
    }
  },
  "cells": [
    {
      "cell_type": "code",
      "metadata": {
        "id": "7_qusg2s7h77"
      },
      "source": [
        "import pandas as pd\n",
        "movie_data = pd.read_csv('https://raw.githubusercontent.com/JonatasDeOliveira/movie-it/master/src/data/moviesOnStreamingPlatforms_updated.csv',sep=',')"
      ],
      "execution_count": 1,
      "outputs": []
    },
    {
      "cell_type": "code",
      "metadata": {
        "id": "QQanPG9U7oW6",
        "outputId": "86a763ca-8547-4005-c7b7-65fcf510eeea",
        "colab": {
          "base_uri": "https://localhost:8080/",
          "height": 272
        }
      },
      "source": [
        "movie_data.head()"
      ],
      "execution_count": 2,
      "outputs": [
        {
          "output_type": "execute_result",
          "data": {
            "text/html": [
              "<div>\n",
              "<style scoped>\n",
              "    .dataframe tbody tr th:only-of-type {\n",
              "        vertical-align: middle;\n",
              "    }\n",
              "\n",
              "    .dataframe tbody tr th {\n",
              "        vertical-align: top;\n",
              "    }\n",
              "\n",
              "    .dataframe thead th {\n",
              "        text-align: right;\n",
              "    }\n",
              "</style>\n",
              "<table border=\"1\" class=\"dataframe\">\n",
              "  <thead>\n",
              "    <tr style=\"text-align: right;\">\n",
              "      <th></th>\n",
              "      <th>Unnamed: 0</th>\n",
              "      <th>ID</th>\n",
              "      <th>Title</th>\n",
              "      <th>Year</th>\n",
              "      <th>Age</th>\n",
              "      <th>IMDb</th>\n",
              "      <th>Rotten Tomatoes</th>\n",
              "      <th>Netflix</th>\n",
              "      <th>Hulu</th>\n",
              "      <th>Prime Video</th>\n",
              "      <th>Disney+</th>\n",
              "      <th>Type</th>\n",
              "      <th>Directors</th>\n",
              "      <th>Genres</th>\n",
              "      <th>Country</th>\n",
              "      <th>Language</th>\n",
              "      <th>Runtime</th>\n",
              "    </tr>\n",
              "  </thead>\n",
              "  <tbody>\n",
              "    <tr>\n",
              "      <th>0</th>\n",
              "      <td>0</td>\n",
              "      <td>1</td>\n",
              "      <td>Inception</td>\n",
              "      <td>2010</td>\n",
              "      <td>13+</td>\n",
              "      <td>8.8</td>\n",
              "      <td>87%</td>\n",
              "      <td>1</td>\n",
              "      <td>0</td>\n",
              "      <td>0</td>\n",
              "      <td>0</td>\n",
              "      <td>0</td>\n",
              "      <td>Christopher Nolan</td>\n",
              "      <td>Action,Adventure,Sci-Fi,Thriller</td>\n",
              "      <td>United States,United Kingdom</td>\n",
              "      <td>English,Japanese,French</td>\n",
              "      <td>148.0</td>\n",
              "    </tr>\n",
              "    <tr>\n",
              "      <th>1</th>\n",
              "      <td>1</td>\n",
              "      <td>2</td>\n",
              "      <td>The Matrix</td>\n",
              "      <td>1999</td>\n",
              "      <td>18+</td>\n",
              "      <td>8.7</td>\n",
              "      <td>87%</td>\n",
              "      <td>1</td>\n",
              "      <td>0</td>\n",
              "      <td>0</td>\n",
              "      <td>0</td>\n",
              "      <td>0</td>\n",
              "      <td>Lana Wachowski,Lilly Wachowski</td>\n",
              "      <td>Action,Sci-Fi</td>\n",
              "      <td>United States</td>\n",
              "      <td>English</td>\n",
              "      <td>136.0</td>\n",
              "    </tr>\n",
              "    <tr>\n",
              "      <th>2</th>\n",
              "      <td>2</td>\n",
              "      <td>3</td>\n",
              "      <td>Avengers: Infinity War</td>\n",
              "      <td>2018</td>\n",
              "      <td>13+</td>\n",
              "      <td>8.5</td>\n",
              "      <td>84%</td>\n",
              "      <td>1</td>\n",
              "      <td>0</td>\n",
              "      <td>0</td>\n",
              "      <td>0</td>\n",
              "      <td>0</td>\n",
              "      <td>Anthony Russo,Joe Russo</td>\n",
              "      <td>Action,Adventure,Sci-Fi</td>\n",
              "      <td>United States</td>\n",
              "      <td>English</td>\n",
              "      <td>149.0</td>\n",
              "    </tr>\n",
              "    <tr>\n",
              "      <th>3</th>\n",
              "      <td>3</td>\n",
              "      <td>4</td>\n",
              "      <td>Back to the Future</td>\n",
              "      <td>1985</td>\n",
              "      <td>7+</td>\n",
              "      <td>8.5</td>\n",
              "      <td>96%</td>\n",
              "      <td>1</td>\n",
              "      <td>0</td>\n",
              "      <td>0</td>\n",
              "      <td>0</td>\n",
              "      <td>0</td>\n",
              "      <td>Robert Zemeckis</td>\n",
              "      <td>Adventure,Comedy,Sci-Fi</td>\n",
              "      <td>United States</td>\n",
              "      <td>English</td>\n",
              "      <td>116.0</td>\n",
              "    </tr>\n",
              "    <tr>\n",
              "      <th>4</th>\n",
              "      <td>4</td>\n",
              "      <td>5</td>\n",
              "      <td>The Good, the Bad and the Ugly</td>\n",
              "      <td>1966</td>\n",
              "      <td>18+</td>\n",
              "      <td>8.8</td>\n",
              "      <td>97%</td>\n",
              "      <td>1</td>\n",
              "      <td>0</td>\n",
              "      <td>1</td>\n",
              "      <td>0</td>\n",
              "      <td>0</td>\n",
              "      <td>Sergio Leone</td>\n",
              "      <td>Western</td>\n",
              "      <td>Italy,Spain,West Germany</td>\n",
              "      <td>Italian</td>\n",
              "      <td>161.0</td>\n",
              "    </tr>\n",
              "  </tbody>\n",
              "</table>\n",
              "</div>"
            ],
            "text/plain": [
              "   Unnamed: 0  ID  ...                 Language  Runtime\n",
              "0           0   1  ...  English,Japanese,French    148.0\n",
              "1           1   2  ...                  English    136.0\n",
              "2           2   3  ...                  English    149.0\n",
              "3           3   4  ...                  English    116.0\n",
              "4           4   5  ...                  Italian    161.0\n",
              "\n",
              "[5 rows x 17 columns]"
            ]
          },
          "metadata": {
            "tags": []
          },
          "execution_count": 2
        }
      ]
    },
    {
      "cell_type": "markdown",
      "metadata": {
        "id": "B3L80-0CAeKK"
      },
      "source": [
        "Queremos agora analisar os tipos dos dados da tabela e modificar caso necessário"
      ]
    },
    {
      "cell_type": "code",
      "metadata": {
        "id": "Yu8nwvMD_ODn",
        "outputId": "060b340d-c591-4c02-d148-10a12c967fef",
        "colab": {
          "base_uri": "https://localhost:8080/",
          "height": 323
        }
      },
      "source": [
        "movie_data.dtypes"
      ],
      "execution_count": 3,
      "outputs": [
        {
          "output_type": "execute_result",
          "data": {
            "text/plain": [
              "Unnamed: 0           int64\n",
              "ID                   int64\n",
              "Title               object\n",
              "Year                 int64\n",
              "Age                 object\n",
              "IMDb               float64\n",
              "Rotten Tomatoes     object\n",
              "Netflix              int64\n",
              "Hulu                 int64\n",
              "Prime Video          int64\n",
              "Disney+              int64\n",
              "Type                 int64\n",
              "Directors           object\n",
              "Genres              object\n",
              "Country             object\n",
              "Language            object\n",
              "Runtime            float64\n",
              "dtype: object"
            ]
          },
          "metadata": {
            "tags": []
          },
          "execution_count": 3
        }
      ]
    },
    {
      "cell_type": "markdown",
      "metadata": {
        "id": "lFxeRD2gAxEf"
      },
      "source": [
        "### Install PySpark"
      ]
    },
    {
      "cell_type": "code",
      "metadata": {
        "id": "RTdmD5l4BCct",
        "outputId": "d5e32681-d93c-45f6-9c21-86bb6db56c83",
        "colab": {
          "base_uri": "https://localhost:8080/",
          "height": 238
        }
      },
      "source": [
        "!pip install pyspark"
      ],
      "execution_count": 4,
      "outputs": [
        {
          "output_type": "stream",
          "text": [
            "Collecting pyspark\n",
            "\u001b[?25l  Downloading https://files.pythonhosted.org/packages/f0/26/198fc8c0b98580f617cb03cb298c6056587b8f0447e20fa40c5b634ced77/pyspark-3.0.1.tar.gz (204.2MB)\n",
            "\u001b[K     |████████████████████████████████| 204.2MB 67kB/s \n",
            "\u001b[?25hCollecting py4j==0.10.9\n",
            "\u001b[?25l  Downloading https://files.pythonhosted.org/packages/9e/b6/6a4fb90cd235dc8e265a6a2067f2a2c99f0d91787f06aca4bcf7c23f3f80/py4j-0.10.9-py2.py3-none-any.whl (198kB)\n",
            "\u001b[K     |████████████████████████████████| 204kB 42.9MB/s \n",
            "\u001b[?25hBuilding wheels for collected packages: pyspark\n",
            "  Building wheel for pyspark (setup.py) ... \u001b[?25l\u001b[?25hdone\n",
            "  Created wheel for pyspark: filename=pyspark-3.0.1-py2.py3-none-any.whl size=204612243 sha256=37c997e4234db05fe866dfcac889a7a70ba4b89625a66598a8745da948b666a7\n",
            "  Stored in directory: /root/.cache/pip/wheels/5e/bd/07/031766ca628adec8435bb40f0bd83bb676ce65ff4007f8e73f\n",
            "Successfully built pyspark\n",
            "Installing collected packages: py4j, pyspark\n",
            "Successfully installed py4j-0.10.9 pyspark-3.0.1\n"
          ],
          "name": "stdout"
        }
      ]
    },
    {
      "cell_type": "markdown",
      "metadata": {
        "id": "_AcB-QsuAm8K"
      },
      "source": [
        "### Create Spark Context"
      ]
    },
    {
      "cell_type": "code",
      "metadata": {
        "id": "1udOWHIlCvbi"
      },
      "source": [
        "from pyspark import SparkContext\n",
        "from pyspark.sql import Row\n",
        "from pyspark.sql import *\n",
        "from pyspark.sql import SQLContext\n",
        "from pyspark import SparkFiles"
      ],
      "execution_count": 6,
      "outputs": []
    },
    {
      "cell_type": "code",
      "metadata": {
        "id": "eel4ff5OA6qe"
      },
      "source": [
        "spark = SparkContext(\"local\", \"MovieIt App\")"
      ],
      "execution_count": 7,
      "outputs": []
    },
    {
      "cell_type": "code",
      "metadata": {
        "id": "SoH9WIshDvSJ"
      },
      "source": [
        "spark.addFile('https://raw.githubusercontent.com/JonatasDeOliveira/movie-it/master/src/data/moviesOnStreamingPlatforms_updated.csv')"
      ],
      "execution_count": 8,
      "outputs": []
    },
    {
      "cell_type": "code",
      "metadata": {
        "id": "aiXf8Wm7BX98"
      },
      "source": [
        "sql_context = SQLContext(spark)\n",
        "movies_df = sql_context.read.csv(SparkFiles.get(\"moviesOnStreamingPlatforms_updated.csv\"), header=True, inferSchema= True)"
      ],
      "execution_count": 9,
      "outputs": []
    },
    {
      "cell_type": "code",
      "metadata": {
        "id": "xt0mKG56EWGI",
        "outputId": "8152c01b-8666-4b27-cf01-d8cbb2cc6b51",
        "colab": {
          "base_uri": "https://localhost:8080/",
          "height": 479
        }
      },
      "source": [
        "movies_df.show(20, False)"
      ],
      "execution_count": 10,
      "outputs": [
        {
          "output_type": "stream",
          "text": [
            "+---+---+----------------------------------+----+---+----+---------------+-------+----+-----------+-------+----+-------------------------------------------+----------------------------------------+-------------------------------------------+-------------------------------------------+-------+\n",
            "|_c0|ID |Title                             |Year|Age|IMDb|Rotten Tomatoes|Netflix|Hulu|Prime Video|Disney+|Type|Directors                                  |Genres                                  |Country                                    |Language                                   |Runtime|\n",
            "+---+---+----------------------------------+----+---+----+---------------+-------+----+-----------+-------+----+-------------------------------------------+----------------------------------------+-------------------------------------------+-------------------------------------------+-------+\n",
            "|0  |1  |Inception                         |2010|13+|8.8 |87%            |1      |0   |0          |0      |0   |Christopher Nolan                          |Action,Adventure,Sci-Fi,Thriller        |United States,United Kingdom               |English,Japanese,French                    |148    |\n",
            "|1  |2  |The Matrix                        |1999|18+|8.7 |87%            |1      |0   |0          |0      |0   |Lana Wachowski,Lilly Wachowski             |Action,Sci-Fi                           |United States                              |English                                    |136    |\n",
            "|2  |3  |Avengers: Infinity War            |2018|13+|8.5 |84%            |1      |0   |0          |0      |0   |Anthony Russo,Joe Russo                    |Action,Adventure,Sci-Fi                 |United States                              |English                                    |149    |\n",
            "|3  |4  |Back to the Future                |1985|7+ |8.5 |96%            |1      |0   |0          |0      |0   |Robert Zemeckis                            |Adventure,Comedy,Sci-Fi                 |United States                              |English                                    |116    |\n",
            "|4  |5  |The Good, the Bad and the Ugly    |1966|18+|8.8 |97%            |1      |0   |1          |0      |0   |Sergio Leone                               |Western                                 |Italy,Spain,West Germany                   |Italian                                    |161    |\n",
            "|5  |6  |Spider-Man: Into the Spider-Verse |2018|7+ |8.4 |97%            |1      |0   |0          |0      |0   |Bob Persichetti,Peter Ramsey,Rodney Rothman|Animation,Action,Adventure,Family,Sci-Fi|United States                              |English,Spanish                            |117    |\n",
            "|6  |7  |The Pianist                       |2002|18+|8.5 |95%            |1      |0   |1          |0      |0   |Roman Polanski                             |Biography,Drama,Music,War               |United Kingdom,France,Poland,Germany       |English,German,Russian                     |150    |\n",
            "|7  |8  |Django Unchained                  |2012|18+|8.4 |87%            |1      |0   |0          |0      |0   |Quentin Tarantino                          |Drama,Western                           |United States                              |English,German,French,Italian              |165    |\n",
            "|8  |9  |Raiders of the Lost Ark           |1981|7+ |8.4 |95%            |1      |0   |0          |0      |0   |Steven Spielberg                           |Action,Adventure                        |United States                              |English,German,Hebrew,Spanish,Arabic,Nepali|115    |\n",
            "|9  |10 |Inglourious Basterds              |2009|18+|8.3 |89%            |1      |0   |0          |0      |0   |Quentin Tarantino                          |Adventure,Drama,War                     |Germany,United States                      |English,German,French,Italian              |153    |\n",
            "|10 |11 |Taxi Driver                       |1976|18+|8.3 |95%            |1      |0   |0          |0      |0   |Martin Scorsese                            |Crime,Drama                             |United States                              |English,Spanish                            |114    |\n",
            "|11 |12 |3 Idiots                          |2009|13+|8.4 |100%           |1      |0   |1          |0      |0   |Rajkumar Hirani                            |Comedy,Drama                            |India                                      |Hindi,English                              |170    |\n",
            "|12 |13 |Pan's Labyrinth                   |2006|18+|8.2 |95%            |1      |0   |0          |0      |0   |Guillermo del Toro                         |Drama,Fantasy,War                       |Mexico,Spain                               |Spanish                                    |118    |\n",
            "|13 |14 |Room                              |2015|18+|8.1 |93%            |1      |0   |0          |0      |0   |Lenny Abrahamson                           |Drama,Thriller                          |Ireland,Canada,United Kingdom,United States|English                                    |118    |\n",
            "|14 |15 |Monty Python and the Holy Grail   |1975|7+ |8.2 |97%            |1      |0   |0          |0      |0   |Terry Gilliam,Terry Jones                  |Adventure,Comedy,Fantasy                |United Kingdom                             |English,French,Latin                       |91     |\n",
            "|15 |16 |Once Upon a Time in the West      |1968|13+|8.5 |95%            |1      |0   |1          |0      |0   |Sergio Leone                               |Western                                 |Italy,United States                        |Italian,English,Spanish                    |165    |\n",
            "|16 |17 |Indiana Jones and the Last Crusade|1989|13+|8.2 |88%            |1      |0   |0          |0      |0   |Steven Spielberg                           |Action,Adventure                        |United States                              |English,German,Greek,Arabic                |127    |\n",
            "|17 |18 |Groundhog Day                     |1993|7+ |8.0 |96%            |1      |0   |0          |0      |0   |Harold Ramis                               |Comedy,Fantasy,Romance                  |United States                              |English,French,Italian                     |101    |\n",
            "|18 |19 |The King's Speech                 |2010|18+|8.0 |95%            |1      |0   |0          |0      |0   |Tom Hooper                                 |Biography,Drama,History                 |United Kingdom,United States,Australia     |English                                    |118    |\n",
            "|19 |20 |Her                               |2013|18+|8.0 |95%            |1      |0   |0          |0      |0   |Spike Jonze                                |Drama,Romance,Sci-Fi                    |United States                              |English                                    |126    |\n",
            "+---+---+----------------------------------+----+---+----+---------------+-------+----+-----------+-------+----+-------------------------------------------+----------------------------------------+-------------------------------------------+-------------------------------------------+-------+\n",
            "only showing top 20 rows\n",
            "\n"
          ],
          "name": "stdout"
        }
      ]
    },
    {
      "cell_type": "code",
      "metadata": {
        "id": "P0RBQqh8SCsk",
        "outputId": "091a2181-455d-4698-fca6-e93111e3d535",
        "colab": {
          "base_uri": "https://localhost:8080/",
          "height": 340
        }
      },
      "source": [
        "movies_df.printSchema()"
      ],
      "execution_count": 11,
      "outputs": [
        {
          "output_type": "stream",
          "text": [
            "root\n",
            " |-- _c0: integer (nullable = true)\n",
            " |-- ID: integer (nullable = true)\n",
            " |-- Title: string (nullable = true)\n",
            " |-- Year: string (nullable = true)\n",
            " |-- Age: string (nullable = true)\n",
            " |-- IMDb: double (nullable = true)\n",
            " |-- Rotten Tomatoes: string (nullable = true)\n",
            " |-- Netflix: integer (nullable = true)\n",
            " |-- Hulu: integer (nullable = true)\n",
            " |-- Prime Video: integer (nullable = true)\n",
            " |-- Disney+: integer (nullable = true)\n",
            " |-- Type: integer (nullable = true)\n",
            " |-- Directors: string (nullable = true)\n",
            " |-- Genres: string (nullable = true)\n",
            " |-- Country: string (nullable = true)\n",
            " |-- Language: string (nullable = true)\n",
            " |-- Runtime: integer (nullable = true)\n",
            "\n"
          ],
          "name": "stdout"
        }
      ]
    },
    {
      "cell_type": "markdown",
      "metadata": {
        "id": "QJhDiA6HQU46"
      },
      "source": [
        "Pontos notados:\n",
        "\n",
        "- Primeiramente, percebemos que temos duas colunas com \"ids\". Como pegamos esses dados do kaggle possivelmente esta primeira coluna não é necessária.\n",
        "- Outra observação é que as colunas Directors, Genres, Country e Language são listas e estão como strings devemos processar também as mesmas.\n",
        "- Colunas Age e Year estão como string, devem ser transformadas para integer."
      ]
    },
    {
      "cell_type": "code",
      "metadata": {
        "id": "KgTaLR7rH99C"
      },
      "source": [
        "from pyspark.sql.functions import split\n",
        "from pyspark.sql.functions import col"
      ],
      "execution_count": 12,
      "outputs": []
    },
    {
      "cell_type": "code",
      "metadata": {
        "id": "DOn1LPu2ePtP"
      },
      "source": [
        "movies_df_dropc0 = movies_df.drop('_c0')"
      ],
      "execution_count": 13,
      "outputs": []
    },
    {
      "cell_type": "code",
      "metadata": {
        "id": "2ymxnLPZIEWk"
      },
      "source": [
        "movies_df_split = (movies_df_dropc0.withColumn('DirectorsArray', split('Directors', ','))\n",
        ".withColumn('GenresArray', split('Genres', ','))\n",
        ".withColumn('CountriesArray', split('Country', ','))\n",
        ".withColumn('LanguagesArray', split('Language', ','))\n",
        ".drop('Directors')\n",
        ".drop('Genres')\n",
        ".drop('Country')\n",
        ".drop('Language'))"
      ],
      "execution_count": 14,
      "outputs": []
    },
    {
      "cell_type": "code",
      "metadata": {
        "id": "XbdrU1-VeGOI",
        "outputId": "18d6273d-0cca-4867-a4a1-aea9b4a71f6c",
        "colab": {
          "base_uri": "https://localhost:8080/",
          "height": 34
        }
      },
      "source": [
        "# checando se todas as idades seguem o regex [0-9]+\\+\n",
        "df_filtered_age_pattern = movies_df_split.filter(col('Age').rlike('[0-9]+\\+'))\n",
        "df_filtered_age_pattern.count() == movies_df_split.count()"
      ],
      "execution_count": 15,
      "outputs": [
        {
          "output_type": "execute_result",
          "data": {
            "text/plain": [
              "False"
            ]
          },
          "metadata": {
            "tags": []
          },
          "execution_count": 15
        }
      ]
    },
    {
      "cell_type": "code",
      "metadata": {
        "id": "2Hv27tusnUie",
        "outputId": "e3dfe9af-40e6-4627-ed62-7d390a840c78",
        "colab": {
          "base_uri": "https://localhost:8080/",
          "height": 222
        }
      },
      "source": [
        "# verificar idades que não seguem o padrão\n",
        "df_filtered_not_age_pattern = movies_df_split.filter(~col('Age').rlike('[0-9]+\\+'))\n",
        "df_filtered_not_age_pattern.show(5, False)"
      ],
      "execution_count": 16,
      "outputs": [
        {
          "output_type": "stream",
          "text": [
            "+---+-----------------------------------+----+---+----+---------------+-------+----+-----------+-------+----+-------+---------------------------+-----------------------------------------------------------------+----------------------------------------------------+----------------------------------+\n",
            "|ID |Title                              |Year|Age|IMDb|Rotten Tomatoes|Netflix|Hulu|Prime Video|Disney+|Type|Runtime|DirectorsArray             |GenresArray                                                      |CountriesArray                                      |LanguagesArray                    |\n",
            "+---+-----------------------------------+----+---+----+---------------+-------+----+-----------+-------+----+-------+---------------------------+-----------------------------------------------------------------+----------------------------------------------------+----------------------------------+\n",
            "|55 |Willy Wonka & the Chocolate Factory|1971|all|7.8 |91%            |1      |0   |0          |0      |0   |100    |[Mel Stuart]               |[Family, Fantasy, Musical]                                       |[United States, East Germany, West Germany, Belgium]|[English, French, German, Italian]|\n",
            "|92 |Tarzan                             |1999|all|7.3 |89%            |1      |0   |0          |0      |0   |110    |[David Yates]              |[Action, Adventure, Drama, Fantasy, Romance]                     |[United Kingdom, Canada, United States]             |[English, Lingala, French]        |\n",
            "|126|The Princess and the Frog          |2009|all|7.1 |85%            |1      |0   |0          |1      |0   |97     |[Ron Clements, John Musker]|[Animation, Adventure, Comedy, Family, Fantasy, Musical, Romance]|[United States]                                     |[English, French]                 |\n",
            "|134|Barfi!                             |2012|all|8.1 |86%            |1      |0   |0          |0      |0   |151    |[Anurag Basu]              |[Comedy, Drama, Romance]                                         |[India]                                             |[Hindi]                           |\n",
            "|152|Swades                             |2004|all|8.2 |83%            |1      |0   |0          |0      |0   |210    |[Ashutosh Gowariker]       |[Drama]                                                          |[India]                                             |[Hindi, English]                  |\n",
            "+---+-----------------------------------+----+---+----+---------------+-------+----+-----------+-------+----+-------+---------------------------+-----------------------------------------------------------------+----------------------------------------------------+----------------------------------+\n",
            "only showing top 5 rows\n",
            "\n"
          ],
          "name": "stdout"
        }
      ]
    },
    {
      "cell_type": "code",
      "metadata": {
        "id": "fhvJGi9uoqx7",
        "outputId": "8f86d832-021c-4e79-af04-badfb9d75c78",
        "colab": {
          "base_uri": "https://localhost:8080/",
          "height": 34
        }
      },
      "source": [
        "# verficar que o padrão de idade em regex [0-9]+\\+ unido a o padrão com 'all' contemplam todo o dataframe\n",
        "df_filtered_pattern_all = movies_df_split.filter(col('Age').rlike('[0-9]+\\+') | (col('Age') == 'all'))\n",
        "movies_df_split.count() == df_filtered_pattern_all.count()"
      ],
      "execution_count": 18,
      "outputs": [
        {
          "output_type": "execute_result",
          "data": {
            "text/plain": [
              "False"
            ]
          },
          "metadata": {
            "tags": []
          },
          "execution_count": 18
        }
      ]
    },
    {
      "cell_type": "code",
      "metadata": {
        "id": "fGTUiTjXpwtv",
        "outputId": "1f186b38-4112-4dc5-fcf0-c64679ea23e2",
        "colab": {
          "base_uri": "https://localhost:8080/",
          "height": 138
        }
      },
      "source": [
        "df_filtered_not_pattern_all = movies_df_split.filter(~(col('Age').rlike('[0-9]+\\+') | (col('Age') == 'all')))\n",
        "df_filtered_not_pattern_all.show(5, False)"
      ],
      "execution_count": 20,
      "outputs": [
        {
          "output_type": "stream",
          "text": [
            "+-----+-----------------------------+-------------------------+----+----+---------------+-------+----+-----------+-------+----+-------+--------------+-----------+--------------+--------------+\n",
            "|ID   |Title                        |Year                     |Age |IMDb|Rotten Tomatoes|Netflix|Hulu|Prime Video|Disney+|Type|Runtime|DirectorsArray|GenresArray|CountriesArray|LanguagesArray|\n",
            "+-----+-----------------------------+-------------------------+----+----+---------------+-------+----+-----------+-------+----+-------+--------------+-----------+--------------+--------------+\n",
            "|15902|\"\"\"22\"\" A film about Veterans| Healthcare and Suicide.\"|2018|null|null           |null   |0   |0          |1      |0   |null   |[0]           |null       |null          |null          |\n",
            "+-----+-----------------------------+-------------------------+----+----+---------------+-------+----+-----------+-------+----+-------+--------------+-----------+--------------+--------------+\n",
            "\n"
          ],
          "name": "stdout"
        }
      ]
    },
    {
      "cell_type": "markdown",
      "metadata": {
        "id": "D-Fe1vDxqYzC"
      },
      "source": [
        "Claramente a linha apresentada acima é um erro pois a idade está como um ano, o ano está como um texto e a maioria das outras colunas estão vazias, vamos remover essa linha."
      ]
    },
    {
      "cell_type": "code",
      "metadata": {
        "id": "79g8jIPdra00"
      },
      "source": [
        "movies_df_filtered_age = movies_df_split.where(col('ID') != 15902)"
      ],
      "execution_count": 30,
      "outputs": []
    },
    {
      "cell_type": "markdown",
      "metadata": {
        "id": "DP1WVvJPrwvu"
      },
      "source": [
        "Agora vamos processar Age para aparecer como um inteiro em todo dataframe"
      ]
    },
    {
      "cell_type": "code",
      "metadata": {
        "id": "8Sia4zbNN0e_",
        "outputId": "f8076979-5faa-480c-f75d-74ddc54667ef",
        "colab": {
          "base_uri": "https://localhost:8080/",
          "height": 386
        }
      },
      "source": [
        "movies_df_filtered_age.printSchema()"
      ],
      "execution_count": 27,
      "outputs": [
        {
          "output_type": "stream",
          "text": [
            "root\n",
            " |-- ID: integer (nullable = true)\n",
            " |-- Title: string (nullable = true)\n",
            " |-- Year: string (nullable = true)\n",
            " |-- Age: string (nullable = true)\n",
            " |-- IMDb: double (nullable = true)\n",
            " |-- Rotten Tomatoes: string (nullable = true)\n",
            " |-- Netflix: integer (nullable = true)\n",
            " |-- Hulu: integer (nullable = true)\n",
            " |-- Prime Video: integer (nullable = true)\n",
            " |-- Disney+: integer (nullable = true)\n",
            " |-- Type: integer (nullable = true)\n",
            " |-- Runtime: integer (nullable = true)\n",
            " |-- DirectorsArray: array (nullable = true)\n",
            " |    |-- element: string (containsNull = true)\n",
            " |-- GenresArray: array (nullable = true)\n",
            " |    |-- element: string (containsNull = true)\n",
            " |-- CountriesArray: array (nullable = true)\n",
            " |    |-- element: string (containsNull = true)\n",
            " |-- LanguagesArray: array (nullable = true)\n",
            " |    |-- element: string (containsNull = true)\n",
            "\n"
          ],
          "name": "stdout"
        }
      ]
    },
    {
      "cell_type": "markdown",
      "metadata": {
        "id": "H3yQHisWq3gv"
      },
      "source": [
        "Analisando o schema novamente, podemos ver que assim como o campo Age, o campo Year deveria estar como Integer, vamos arrumar isso"
      ]
    },
    {
      "cell_type": "code",
      "metadata": {
        "id": "lxIsJc9orTRT"
      },
      "source": [
        "from pyspark.sql.types import IntegerType\n",
        "movies_df_filtered = movies_df_filtered_age.withColumn(\"Age\", movies_df_filtered_age[\"Age\"].cast(IntegerType()))\n",
        "movies_df_filtered = movies_df_filtered.withColumn(\"Year\", movies_df_filtered[\"Year\"].cast(IntegerType()))"
      ],
      "execution_count": 33,
      "outputs": []
    },
    {
      "cell_type": "code",
      "metadata": {
        "id": "i4lPBLH8WxkP",
        "outputId": "4b955ea2-4a07-4163-fe4a-721a351850f5",
        "colab": {
          "base_uri": "https://localhost:8080/",
          "height": 386
        }
      },
      "source": [
        "movies_df_filtered.printSchema()"
      ],
      "execution_count": 34,
      "outputs": [
        {
          "output_type": "stream",
          "text": [
            "root\n",
            " |-- ID: integer (nullable = true)\n",
            " |-- Title: string (nullable = true)\n",
            " |-- Year: integer (nullable = true)\n",
            " |-- Age: integer (nullable = true)\n",
            " |-- IMDb: double (nullable = true)\n",
            " |-- Rotten Tomatoes: string (nullable = true)\n",
            " |-- Netflix: integer (nullable = true)\n",
            " |-- Hulu: integer (nullable = true)\n",
            " |-- Prime Video: integer (nullable = true)\n",
            " |-- Disney+: integer (nullable = true)\n",
            " |-- Type: integer (nullable = true)\n",
            " |-- Runtime: integer (nullable = true)\n",
            " |-- DirectorsArray: array (nullable = true)\n",
            " |    |-- element: string (containsNull = true)\n",
            " |-- GenresArray: array (nullable = true)\n",
            " |    |-- element: string (containsNull = true)\n",
            " |-- CountriesArray: array (nullable = true)\n",
            " |    |-- element: string (containsNull = true)\n",
            " |-- LanguagesArray: array (nullable = true)\n",
            " |    |-- element: string (containsNull = true)\n",
            "\n"
          ],
          "name": "stdout"
        }
      ]
    },
    {
      "cell_type": "code",
      "metadata": {
        "id": "vRID5dT2wk1I",
        "outputId": "936a3195-92ef-47c8-cb1d-16386c8188d8",
        "colab": {
          "base_uri": "https://localhost:8080/",
          "height": 134
        }
      },
      "source": [
        "movies_df_filtered.orderBy('IMDb', ascending=False).show(1, False)"
      ],
      "execution_count": 47,
      "outputs": [
        {
          "output_type": "stream",
          "text": [
            "+----+---------------+----+----+----+---------------+-------+----+-----------+-------+----+-------+--------------+---------------------------------+---------------+--------------+\n",
            "|ID  |Title          |Year|Age |IMDb|Rotten Tomatoes|Netflix|Hulu|Prime Video|Disney+|Type|Runtime|DirectorsArray|GenresArray                      |CountriesArray |LanguagesArray|\n",
            "+----+---------------+----+----+----+---------------+-------+----+-----------+-------+----+-------+--------------+---------------------------------+---------------+--------------+\n",
            "|5111|Love on a Leash|2011|null|9.3 |null           |0      |0   |1          |0      |0   |90     |[Fen Tian]    |[Comedy, Drama, Fantasy, Romance]|[United States]|null          |\n",
            "+----+---------------+----+----+----+---------------+-------+----+-----------+-------+----+-------+--------------+---------------------------------+---------------+--------------+\n",
            "only showing top 1 row\n",
            "\n"
          ],
          "name": "stdout"
        }
      ]
    },
    {
      "cell_type": "code",
      "metadata": {
        "id": "FFXjvzmc0KJo",
        "outputId": "e44ec04e-f929-4fcf-ab54-53a97c9b3183",
        "colab": {
          "base_uri": "https://localhost:8080/",
          "height": 154
        }
      },
      "source": [
        "movies_df_filtered.where((col(\"Netflix\") == 1) & (col(\"Prime Video\") == 1)).orderBy('IMDb', ascending=False).show(1, False)"
      ],
      "execution_count": 50,
      "outputs": [
        {
          "output_type": "stream",
          "text": [
            "+---+------------------------------+----+----+----+---------------+-------+----+-----------+-------+----+-------+--------------+-----------+----------------------------+--------------+\n",
            "|ID |Title                         |Year|Age |IMDb|Rotten Tomatoes|Netflix|Hulu|Prime Video|Disney+|Type|Runtime|DirectorsArray|GenresArray|CountriesArray              |LanguagesArray|\n",
            "+---+------------------------------+----+----+----+---------------+-------+----+-----------+-------+----+-------+--------------+-----------+----------------------------+--------------+\n",
            "|5  |The Good, the Bad and the Ugly|1966|null|8.8 |97%            |1      |0   |1          |0      |0   |161    |[Sergio Leone]|[Western]  |[Italy, Spain, West Germany]|[Italian]     |\n",
            "+---+------------------------------+----+----+----+---------------+-------+----+-----------+-------+----+-------+--------------+-----------+----------------------------+--------------+\n",
            "only showing top 1 row\n",
            "\n"
          ],
          "name": "stdout"
        }
      ]
    },
    {
      "cell_type": "code",
      "metadata": {
        "id": "3Nq3Xadx1Ies",
        "outputId": "354dae83-da4d-4338-9535-cfdb8fcd1c41",
        "colab": {
          "base_uri": "https://localhost:8080/",
          "height": 134
        }
      },
      "source": [
        "movies_df_filtered.where((col(\"Netflix\") == 1) & (col(\"Prime Video\") == 1)).orderBy('Rotten Tomatoes', ascending=False).show(1, False)"
      ],
      "execution_count": 51,
      "outputs": [
        {
          "output_type": "stream",
          "text": [
            "+---+----------+----+----+----+---------------+-------+----+-----------+-------+----+-------+-----------------+--------------+----------------+--------------+\n",
            "|ID |Title     |Year|Age |IMDb|Rotten Tomatoes|Netflix|Hulu|Prime Video|Disney+|Type|Runtime|DirectorsArray   |GenresArray   |CountriesArray  |LanguagesArray|\n",
            "+---+----------+----+----+----+---------------+-------+----+-----------+-------+----+-------+-----------------+--------------+----------------+--------------+\n",
            "|143|Starred Up|2013|null|7.4 |99%            |1      |0   |1          |0      |0   |106    |[David Mackenzie]|[Crime, Drama]|[United Kingdom]|[English]     |\n",
            "+---+----------+----+----+----+---------------+-------+----+-----------+-------+----+-------+-----------------+--------------+----------------+--------------+\n",
            "only showing top 1 row\n",
            "\n"
          ],
          "name": "stdout"
        }
      ]
    }
  ]
}