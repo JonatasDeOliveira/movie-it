{
  "nbformat": 4,
  "nbformat_minor": 0,
  "metadata": {
    "colab": {
      "name": "MoveIt.ipynb",
      "provenance": [],
      "collapsed_sections": []
    },
    "kernelspec": {
      "name": "python3",
      "display_name": "Python 3"
    }
  },
  "cells": [
    {
      "cell_type": "markdown",
      "metadata": {
        "id": "lFxeRD2gAxEf"
      },
      "source": [
        "### Install PySpark"
      ]
    },
    {
      "cell_type": "code",
      "metadata": {
        "id": "RTdmD5l4BCct",
        "outputId": "8e51def7-4847-4988-d1c6-182e9b015fda",
        "colab": {
          "base_uri": "https://localhost:8080/"
        }
      },
      "source": [
        "!pip install pyspark"
      ],
      "execution_count": 18,
      "outputs": [
        {
          "output_type": "stream",
          "text": [
            "Requirement already satisfied: pyspark in /usr/local/lib/python3.6/dist-packages (3.0.1)\n",
            "Requirement already satisfied: py4j==0.10.9 in /usr/local/lib/python3.6/dist-packages (from pyspark) (0.10.9)\n"
          ],
          "name": "stdout"
        }
      ]
    },
    {
      "cell_type": "markdown",
      "metadata": {
        "id": "_AcB-QsuAm8K"
      },
      "source": [
        "### Create Spark Context"
      ]
    },
    {
      "cell_type": "code",
      "metadata": {
        "id": "1udOWHIlCvbi"
      },
      "source": [
        "from pyspark import SparkContext\n",
        "from pyspark.sql import Row\n",
        "from pyspark.sql import *\n",
        "from pyspark.sql import SQLContext\n",
        "from pyspark import SparkFiles\n",
        "from pyspark.sql.functions import col"
      ],
      "execution_count": 19,
      "outputs": []
    },
    {
      "cell_type": "code",
      "metadata": {
        "id": "eel4ff5OA6qe"
      },
      "source": [
        "spark = SparkContext.getOrCreate()"
      ],
      "execution_count": 20,
      "outputs": []
    },
    {
      "cell_type": "markdown",
      "metadata": {
        "id": "HWVV98rzl07M"
      },
      "source": [
        "### Load Dataset"
      ]
    },
    {
      "cell_type": "code",
      "metadata": {
        "id": "SoH9WIshDvSJ"
      },
      "source": [
        "spark.addFile('https://raw.githubusercontent.com/JonatasDeOliveira/movie-it/master/src/data/moviesOnStreamingPlatforms_updated.csv')"
      ],
      "execution_count": 21,
      "outputs": []
    },
    {
      "cell_type": "code",
      "metadata": {
        "id": "aiXf8Wm7BX98"
      },
      "source": [
        "sql_context = SQLContext(spark)\n",
        "movies_df = sql_context.read.csv(SparkFiles.get(\"moviesOnStreamingPlatforms_updated.csv\"), header=True, inferSchema= True)"
      ],
      "execution_count": 22,
      "outputs": []
    },
    {
      "cell_type": "code",
      "metadata": {
        "id": "xt0mKG56EWGI",
        "outputId": "5abb99a4-55a1-41e5-94c0-15e902a8dad0",
        "colab": {
          "base_uri": "https://localhost:8080/"
        }
      },
      "source": [
        "movies_df.show(20, False)"
      ],
      "execution_count": 23,
      "outputs": [
        {
          "output_type": "stream",
          "text": [
            "+---+---+----------------------------------+----+---+----+---------------+-------+----+-----------+-------+----+-------------------------------------------+----------------------------------------+-------------------------------------------+-------------------------------------------+-------+\n",
            "|_c0|ID |Title                             |Year|Age|IMDb|Rotten Tomatoes|Netflix|Hulu|Prime Video|Disney+|Type|Directors                                  |Genres                                  |Country                                    |Language                                   |Runtime|\n",
            "+---+---+----------------------------------+----+---+----+---------------+-------+----+-----------+-------+----+-------------------------------------------+----------------------------------------+-------------------------------------------+-------------------------------------------+-------+\n",
            "|0  |1  |Inception                         |2010|13+|8.8 |87%            |1      |0   |0          |0      |0   |Christopher Nolan                          |Action,Adventure,Sci-Fi,Thriller        |United States,United Kingdom               |English,Japanese,French                    |148    |\n",
            "|1  |2  |The Matrix                        |1999|18+|8.7 |87%            |1      |0   |0          |0      |0   |Lana Wachowski,Lilly Wachowski             |Action,Sci-Fi                           |United States                              |English                                    |136    |\n",
            "|2  |3  |Avengers: Infinity War            |2018|13+|8.5 |84%            |1      |0   |0          |0      |0   |Anthony Russo,Joe Russo                    |Action,Adventure,Sci-Fi                 |United States                              |English                                    |149    |\n",
            "|3  |4  |Back to the Future                |1985|7+ |8.5 |96%            |1      |0   |0          |0      |0   |Robert Zemeckis                            |Adventure,Comedy,Sci-Fi                 |United States                              |English                                    |116    |\n",
            "|4  |5  |The Good, the Bad and the Ugly    |1966|18+|8.8 |97%            |1      |0   |1          |0      |0   |Sergio Leone                               |Western                                 |Italy,Spain,West Germany                   |Italian                                    |161    |\n",
            "|5  |6  |Spider-Man: Into the Spider-Verse |2018|7+ |8.4 |97%            |1      |0   |0          |0      |0   |Bob Persichetti,Peter Ramsey,Rodney Rothman|Animation,Action,Adventure,Family,Sci-Fi|United States                              |English,Spanish                            |117    |\n",
            "|6  |7  |The Pianist                       |2002|18+|8.5 |95%            |1      |0   |1          |0      |0   |Roman Polanski                             |Biography,Drama,Music,War               |United Kingdom,France,Poland,Germany       |English,German,Russian                     |150    |\n",
            "|7  |8  |Django Unchained                  |2012|18+|8.4 |87%            |1      |0   |0          |0      |0   |Quentin Tarantino                          |Drama,Western                           |United States                              |English,German,French,Italian              |165    |\n",
            "|8  |9  |Raiders of the Lost Ark           |1981|7+ |8.4 |95%            |1      |0   |0          |0      |0   |Steven Spielberg                           |Action,Adventure                        |United States                              |English,German,Hebrew,Spanish,Arabic,Nepali|115    |\n",
            "|9  |10 |Inglourious Basterds              |2009|18+|8.3 |89%            |1      |0   |0          |0      |0   |Quentin Tarantino                          |Adventure,Drama,War                     |Germany,United States                      |English,German,French,Italian              |153    |\n",
            "|10 |11 |Taxi Driver                       |1976|18+|8.3 |95%            |1      |0   |0          |0      |0   |Martin Scorsese                            |Crime,Drama                             |United States                              |English,Spanish                            |114    |\n",
            "|11 |12 |3 Idiots                          |2009|13+|8.4 |100%           |1      |0   |1          |0      |0   |Rajkumar Hirani                            |Comedy,Drama                            |India                                      |Hindi,English                              |170    |\n",
            "|12 |13 |Pan's Labyrinth                   |2006|18+|8.2 |95%            |1      |0   |0          |0      |0   |Guillermo del Toro                         |Drama,Fantasy,War                       |Mexico,Spain                               |Spanish                                    |118    |\n",
            "|13 |14 |Room                              |2015|18+|8.1 |93%            |1      |0   |0          |0      |0   |Lenny Abrahamson                           |Drama,Thriller                          |Ireland,Canada,United Kingdom,United States|English                                    |118    |\n",
            "|14 |15 |Monty Python and the Holy Grail   |1975|7+ |8.2 |97%            |1      |0   |0          |0      |0   |Terry Gilliam,Terry Jones                  |Adventure,Comedy,Fantasy                |United Kingdom                             |English,French,Latin                       |91     |\n",
            "|15 |16 |Once Upon a Time in the West      |1968|13+|8.5 |95%            |1      |0   |1          |0      |0   |Sergio Leone                               |Western                                 |Italy,United States                        |Italian,English,Spanish                    |165    |\n",
            "|16 |17 |Indiana Jones and the Last Crusade|1989|13+|8.2 |88%            |1      |0   |0          |0      |0   |Steven Spielberg                           |Action,Adventure                        |United States                              |English,German,Greek,Arabic                |127    |\n",
            "|17 |18 |Groundhog Day                     |1993|7+ |8.0 |96%            |1      |0   |0          |0      |0   |Harold Ramis                               |Comedy,Fantasy,Romance                  |United States                              |English,French,Italian                     |101    |\n",
            "|18 |19 |The King's Speech                 |2010|18+|8.0 |95%            |1      |0   |0          |0      |0   |Tom Hooper                                 |Biography,Drama,History                 |United Kingdom,United States,Australia     |English                                    |118    |\n",
            "|19 |20 |Her                               |2013|18+|8.0 |95%            |1      |0   |0          |0      |0   |Spike Jonze                                |Drama,Romance,Sci-Fi                    |United States                              |English                                    |126    |\n",
            "+---+---+----------------------------------+----+---+----+---------------+-------+----+-----------+-------+----+-------------------------------------------+----------------------------------------+-------------------------------------------+-------------------------------------------+-------+\n",
            "only showing top 20 rows\n",
            "\n"
          ],
          "name": "stdout"
        }
      ]
    },
    {
      "cell_type": "code",
      "metadata": {
        "id": "8vDqAMflSdCA",
        "outputId": "18e811c0-a84d-4220-ce96-7866cd28fe71",
        "colab": {
          "base_uri": "https://localhost:8080/"
        }
      },
      "source": [
        "movies_df.toPandas().isna().sum()"
      ],
      "execution_count": 24,
      "outputs": [
        {
          "output_type": "execute_result",
          "data": {
            "text/plain": [
              "_c0                    0\n",
              "ID                     0\n",
              "Title                  0\n",
              "Year                   0\n",
              "Age                 9389\n",
              "IMDb                 571\n",
              "Rotten Tomatoes    11586\n",
              "Netflix                1\n",
              "Hulu                   0\n",
              "Prime Video            0\n",
              "Disney+                0\n",
              "Type                   0\n",
              "Directors            725\n",
              "Genres               275\n",
              "Country              435\n",
              "Language             599\n",
              "Runtime              592\n",
              "dtype: int64"
            ]
          },
          "metadata": {
            "tags": []
          },
          "execution_count": 24
        }
      ]
    },
    {
      "cell_type": "markdown",
      "metadata": {
        "id": "33e7JpIHmFl9"
      },
      "source": [
        "### Pre Processing Dataset "
      ]
    },
    {
      "cell_type": "code",
      "metadata": {
        "id": "P0RBQqh8SCsk",
        "outputId": "70805325-8242-4d7a-ce45-29eb9165836f",
        "colab": {
          "base_uri": "https://localhost:8080/"
        }
      },
      "source": [
        "movies_df.printSchema()"
      ],
      "execution_count": 25,
      "outputs": [
        {
          "output_type": "stream",
          "text": [
            "root\n",
            " |-- _c0: integer (nullable = true)\n",
            " |-- ID: integer (nullable = true)\n",
            " |-- Title: string (nullable = true)\n",
            " |-- Year: string (nullable = true)\n",
            " |-- Age: string (nullable = true)\n",
            " |-- IMDb: double (nullable = true)\n",
            " |-- Rotten Tomatoes: string (nullable = true)\n",
            " |-- Netflix: integer (nullable = true)\n",
            " |-- Hulu: integer (nullable = true)\n",
            " |-- Prime Video: integer (nullable = true)\n",
            " |-- Disney+: integer (nullable = true)\n",
            " |-- Type: integer (nullable = true)\n",
            " |-- Directors: string (nullable = true)\n",
            " |-- Genres: string (nullable = true)\n",
            " |-- Country: string (nullable = true)\n",
            " |-- Language: string (nullable = true)\n",
            " |-- Runtime: integer (nullable = true)\n",
            "\n"
          ],
          "name": "stdout"
        }
      ]
    },
    {
      "cell_type": "markdown",
      "metadata": {
        "id": "QJhDiA6HQU46"
      },
      "source": [
        "Pontos notados:\n",
        "\n",
        "- Primeiramente, percebemos que temos duas colunas com \"ids\". Como pegamos esses dados do kaggle possivelmente esta primeira coluna não é necessária.\n",
        "- Há uma coluna Type que possui somente valores iguais a 0. Procuramos entender o que seria mas não encontramos, vamos dropar essa coluna.\n",
        "- Outra observação é que as colunas Directors, Genres, Country e Language são listas e estão como strings devemos processar também as mesmas.\n",
        "- Colunas Age e Year estão como string, devem ser transformadas para integer."
      ]
    },
    {
      "cell_type": "code",
      "metadata": {
        "id": "KgTaLR7rH99C"
      },
      "source": [
        "from pyspark.sql.functions import split"
      ],
      "execution_count": 26,
      "outputs": []
    },
    {
      "cell_type": "code",
      "metadata": {
        "id": "DOn1LPu2ePtP"
      },
      "source": [
        "movies_df_drop_c0 = movies_df.drop('_c0')"
      ],
      "execution_count": 27,
      "outputs": []
    },
    {
      "cell_type": "code",
      "metadata": {
        "id": "V6o3brYnqdXK"
      },
      "source": [
        "movies_df_drop_type = movies_df_drop_c0.drop('Type')"
      ],
      "execution_count": 28,
      "outputs": []
    },
    {
      "cell_type": "code",
      "metadata": {
        "id": "2ymxnLPZIEWk"
      },
      "source": [
        "movies_df_split = (movies_df_drop_type.withColumn('DirectorsArray', split('Directors', ','))\n",
        ".withColumn('GenresArray', split('Genres', ','))\n",
        ".withColumn('CountriesArray', split('Country', ','))\n",
        ".withColumn('LanguagesArray', split('Language', ','))\n",
        ".drop('Directors')\n",
        ".drop('Genres')\n",
        ".drop('Country')\n",
        ".drop('Language'))"
      ],
      "execution_count": 29,
      "outputs": []
    },
    {
      "cell_type": "code",
      "metadata": {
        "id": "XbdrU1-VeGOI",
        "outputId": "7f08bba7-02c4-4667-e8e1-4b5b5b35075f",
        "colab": {
          "base_uri": "https://localhost:8080/"
        }
      },
      "source": [
        "# checando se todas as idades seguem o regex [0-9]+\\+\n",
        "df_filtered_age_pattern = movies_df_split.filter(col('Age').rlike('[0-9]+\\+'))\n",
        "df_filtered_age_pattern.count() == movies_df_split.count()"
      ],
      "execution_count": 30,
      "outputs": [
        {
          "output_type": "execute_result",
          "data": {
            "text/plain": [
              "False"
            ]
          },
          "metadata": {
            "tags": []
          },
          "execution_count": 30
        }
      ]
    },
    {
      "cell_type": "code",
      "metadata": {
        "id": "2Hv27tusnUie",
        "outputId": "d46c5b5d-071f-4ccd-d229-0fd5a6e175fb",
        "colab": {
          "base_uri": "https://localhost:8080/"
        }
      },
      "source": [
        "# verificar idades que não seguem o padrão\n",
        "df_filtered_not_age_pattern = movies_df_split.filter(~col('Age').rlike('[0-9]+\\+'))\n",
        "df_filtered_not_age_pattern.show(5, False)"
      ],
      "execution_count": 31,
      "outputs": [
        {
          "output_type": "stream",
          "text": [
            "+---+-----------------------------------+----+---+----+---------------+-------+----+-----------+-------+-------+---------------------------+-----------------------------------------------------------------+----------------------------------------------------+----------------------------------+\n",
            "|ID |Title                              |Year|Age|IMDb|Rotten Tomatoes|Netflix|Hulu|Prime Video|Disney+|Runtime|DirectorsArray             |GenresArray                                                      |CountriesArray                                      |LanguagesArray                    |\n",
            "+---+-----------------------------------+----+---+----+---------------+-------+----+-----------+-------+-------+---------------------------+-----------------------------------------------------------------+----------------------------------------------------+----------------------------------+\n",
            "|55 |Willy Wonka & the Chocolate Factory|1971|all|7.8 |91%            |1      |0   |0          |0      |100    |[Mel Stuart]               |[Family, Fantasy, Musical]                                       |[United States, East Germany, West Germany, Belgium]|[English, French, German, Italian]|\n",
            "|92 |Tarzan                             |1999|all|7.3 |89%            |1      |0   |0          |0      |110    |[David Yates]              |[Action, Adventure, Drama, Fantasy, Romance]                     |[United Kingdom, Canada, United States]             |[English, Lingala, French]        |\n",
            "|126|The Princess and the Frog          |2009|all|7.1 |85%            |1      |0   |0          |1      |97     |[Ron Clements, John Musker]|[Animation, Adventure, Comedy, Family, Fantasy, Musical, Romance]|[United States]                                     |[English, French]                 |\n",
            "|134|Barfi!                             |2012|all|8.1 |86%            |1      |0   |0          |0      |151    |[Anurag Basu]              |[Comedy, Drama, Romance]                                         |[India]                                             |[Hindi]                           |\n",
            "|152|Swades                             |2004|all|8.2 |83%            |1      |0   |0          |0      |210    |[Ashutosh Gowariker]       |[Drama]                                                          |[India]                                             |[Hindi, English]                  |\n",
            "+---+-----------------------------------+----+---+----+---------------+-------+----+-----------+-------+-------+---------------------------+-----------------------------------------------------------------+----------------------------------------------------+----------------------------------+\n",
            "only showing top 5 rows\n",
            "\n"
          ],
          "name": "stdout"
        }
      ]
    },
    {
      "cell_type": "code",
      "metadata": {
        "id": "fhvJGi9uoqx7",
        "outputId": "e4f30b5c-d006-4cd5-ac7a-9f4f9e666255",
        "colab": {
          "base_uri": "https://localhost:8080/"
        }
      },
      "source": [
        "# verficar que o padrão de idade em regex [0-9]+\\+ unido a o padrão com 'all' contemplam todo o dataframe\n",
        "df_filtered_pattern_all = movies_df_split.filter(col('Age').rlike('[0-9]+\\+') | (col('Age') == 'all'))\n",
        "movies_df_split.count() == df_filtered_pattern_all.count()"
      ],
      "execution_count": 32,
      "outputs": [
        {
          "output_type": "execute_result",
          "data": {
            "text/plain": [
              "False"
            ]
          },
          "metadata": {
            "tags": []
          },
          "execution_count": 32
        }
      ]
    },
    {
      "cell_type": "code",
      "metadata": {
        "id": "fGTUiTjXpwtv",
        "outputId": "ffd4086e-543e-4ffb-ac5c-1a997b477a80",
        "colab": {
          "base_uri": "https://localhost:8080/"
        }
      },
      "source": [
        "df_filtered_not_pattern_all = movies_df_split.filter(~(col('Age').rlike('[0-9]+\\+') | (col('Age') == 'all')))\n",
        "df_filtered_not_pattern_all.show(5, False)"
      ],
      "execution_count": 33,
      "outputs": [
        {
          "output_type": "stream",
          "text": [
            "+-----+-----------------------------+-------------------------+----+----+---------------+-------+----+-----------+-------+-------+--------------+-----------+--------------+--------------+\n",
            "|ID   |Title                        |Year                     |Age |IMDb|Rotten Tomatoes|Netflix|Hulu|Prime Video|Disney+|Runtime|DirectorsArray|GenresArray|CountriesArray|LanguagesArray|\n",
            "+-----+-----------------------------+-------------------------+----+----+---------------+-------+----+-----------+-------+-------+--------------+-----------+--------------+--------------+\n",
            "|15902|\"\"\"22\"\" A film about Veterans| Healthcare and Suicide.\"|2018|null|null           |null   |0   |0          |1      |null   |[0]           |null       |null          |null          |\n",
            "+-----+-----------------------------+-------------------------+----+----+---------------+-------+----+-----------+-------+-------+--------------+-----------+--------------+--------------+\n",
            "\n"
          ],
          "name": "stdout"
        }
      ]
    },
    {
      "cell_type": "markdown",
      "metadata": {
        "id": "D-Fe1vDxqYzC"
      },
      "source": [
        "Claramente a linha apresentada acima é um erro pois a idade está como um ano, o ano está como um texto e a maioria das outras colunas estão vazias, vamos remover essa linha."
      ]
    },
    {
      "cell_type": "code",
      "metadata": {
        "id": "79g8jIPdra00"
      },
      "source": [
        "movies_df_filtered_age = movies_df_split.where(col('ID') != 15902)"
      ],
      "execution_count": 34,
      "outputs": []
    },
    {
      "cell_type": "markdown",
      "metadata": {
        "id": "DP1WVvJPrwvu"
      },
      "source": [
        "Agora vamos processar Age para aparecer como um inteiro em todo dataframe. A idade (Age) possui dois formatos, a idade mínima pra assistir o filme acompanhada de um caracter '+' ou o texto escrito 'all'. Iremos seguir os seguintes passos:\n",
        "- remover o caracter '+' das idades mínimas;\n",
        "- tranformar todas linha com o valor 'all' para 0;\n",
        "- transformar para um inteiro renomeando a coluna para MinimumAge;"
      ]
    },
    {
      "cell_type": "code",
      "metadata": {
        "id": "3WhJu56-UouO",
        "outputId": "335fc783-ca31-4ca2-a67b-9658f10ff323",
        "colab": {
          "base_uri": "https://localhost:8080/"
        }
      },
      "source": [
        "movies_df_filtered_age.where(col('Age').isNull()).show()"
      ],
      "execution_count": 35,
      "outputs": [
        {
          "output_type": "stream",
          "text": [
            "+---+--------------------+----+----+----+---------------+-------+----+-----------+-------+-------+--------------------+--------------------+--------------------+--------------------+\n",
            "| ID|               Title|Year| Age|IMDb|Rotten Tomatoes|Netflix|Hulu|Prime Video|Disney+|Runtime|      DirectorsArray|         GenresArray|      CountriesArray|      LanguagesArray|\n",
            "+---+--------------------+----+----+----+---------------+-------+----+-----------+-------+-------+--------------------+--------------------+--------------------+--------------------+\n",
            "| 33|      Train to Busan|2016|null| 7.5|            94%|      1|   0|          1|      0|    118|      [Sang-ho Yeon]|[Action, Horror, ...|       [South Korea]|  [Korean, Hawaiian]|\n",
            "| 58|      A Silent Voice|2016|null| 8.2|            94%|      1|   0|          0|      0|    130|      [Naoko Yamada]|[Animation, Drama...|             [Japan]|[Japanese, Japane...|\n",
            "| 90|       The Dawn Wall|2018|null| 8.1|           100%|      1|   0|          0|      0|    100|[Josh Lowell, Pet...|[Documentary, Bio...|[Austria, United ...|           [English]|\n",
            "|111|Black Mirror: Ban...|2018|null| 7.2|            92%|      1|   0|          0|      0|     90|       [David Slade]|[Drama, Mystery, ...|[United States, U...|           [English]|\n",
            "|124|Neon Genesis Evan...|1997|null| 8.1|            88%|      1|   0|          0|      0|     87|[Hideaki Anno, Ka...|[Animation, Actio...|             [Japan]|          [Japanese]|\n",
            "|149|          The Square|2013|null| 8.1|           100%|      1|   1|          1|      0|    151|     [Ruben Östlund]|     [Comedy, Drama]|[Sweden, Germany,...|[Swedish, English...|\n",
            "|165|             Virunga|2014|null| 8.2|           100%|      1|   0|          0|      0|    100|[Orlando von Eins...|  [Documentary, War]|[United Kingdom, ...|[English, French,...|\n",
            "|172|          Article 15|2019|null| 8.3|            89%|      1|   0|          0|      0|    130|     [Anubhav Sinha]|[Crime, Drama, My...|             [India]|             [Hindi]|\n",
            "|178|Hannah Gadsby: Na...|2018|null| 8.2|           100%|      1|   0|          0|      0|     69|[Jon Olb, Madelei...|[Documentary, Com...|         [Australia]|           [English]|\n",
            "|184|Winter on Fire: U...|2015|null| 8.4|            88%|      1|   0|          0|      0|    102| [Evgeny Afineevsky]|       [Documentary]|[United Kingdom, ...|[Ukrainian, Russi...|\n",
            "|189|      The Invitation|2015|null| 6.6|            88%|      1|   0|          1|      0|    100|      [Karyn Kusama]|[Drama, Mystery, ...|     [United States]|           [English]|\n",
            "|193|    On Body and Soul|2017|null| 7.6|            89%|      1|   0|          0|      0|    116|     [Ildikó Enyedi]|[Drama, Fantasy, ...|           [Hungary]|         [Hungarian]|\n",
            "|204|              Sairat|2016|null| 8.3|           100%|      1|   0|          0|      0|    174|    [Nagraj Manjule]|    [Drama, Romance]|             [India]|           [Marathi]|\n",
            "|216| The Young Offenders|2016|null| 7.1|           100%|      1|   0|          0|      0|     30|                null|            [Comedy]|[United Kingdom, ...|           [English]|\n",
            "|221|The Guernsey Lite...|2018|null| 7.4|            81%|      1|   0|          0|      0|    124|       [Mike Newell]|[Drama, Romance, ...|[United Kingdom, ...|[English, German,...|\n",
            "|223|         The Endless|2018|null| 6.5|            94%|      1|   0|          0|      0|    111|[Justin Benson, A...|[Drama, Fantasy, ...|     [United States]|           [English]|\n",
            "|225|   The Game Changers|2019|null| 7.9|            70%|      1|   0|          0|      0|    108|    [Louie Psihoyos]|       [Documentary]|     [United States]|           [English]|\n",
            "|231|      The Fear of 13|2015|null| 7.7|            94%|      1|   0|          0|      0|     96|     [David Sington]|[Documentary, Cri...|    [United Kingdom]|           [English]|\n",
            "|236|              Code 8|2019|null| 6.1|            79%|      1|   0|          0|      0|     98|         [Jeff Chan]|[Action, Crime, D...|            [Canada]|           [English]|\n",
            "|239|The Distinguished...|2016|null| 7.5|           100%|      1|   0|          0|      0|    118|[Gastón Duprat, M...|     [Comedy, Drama]|  [Argentina, Spain]|           [Spanish]|\n",
            "+---+--------------------+----+----+----+---------------+-------+----+-----------+-------+-------+--------------------+--------------------+--------------------+--------------------+\n",
            "only showing top 20 rows\n",
            "\n"
          ],
          "name": "stdout"
        }
      ]
    },
    {
      "cell_type": "code",
      "metadata": {
        "id": "T_cXQa3LQgxk"
      },
      "source": [
        "from pyspark.sql.functions import translate\n",
        "from pyspark.sql.types import IntegerType\n",
        "from pyspark.sql.functions import udf\n",
        "\n",
        "def transform_all_age_value(age):\n",
        "  if age == 'all':\n",
        "    return 0\n",
        "  if age is None:\n",
        "    return -1\n",
        "  return int(age)\n",
        "\n",
        "transformAllAgeValue = udf(lambda x: transform_all_age_value(x), IntegerType())\n",
        "\n",
        "movies_df_age_processed = movies_df_filtered_age.withColumn(\"Age\", translate('Age', '+', ''))\n",
        "movies_df_classification = movies_df_age_processed.withColumn(\"MinimumClassification\", transformAllAgeValue(col('Age'))).drop('Age')"
      ],
      "execution_count": 36,
      "outputs": []
    },
    {
      "cell_type": "markdown",
      "metadata": {
        "id": "uA2cBFSGhCEi"
      },
      "source": [
        "Note que existe idade indicativa nula, setamos esses valores como -1."
      ]
    },
    {
      "cell_type": "code",
      "metadata": {
        "id": "qDhJr90zgyAv",
        "outputId": "7580542a-9bd2-4f71-c598-6165ab2b141e",
        "colab": {
          "base_uri": "https://localhost:8080/"
        }
      },
      "source": [
        "movies_df_classification.printSchema()"
      ],
      "execution_count": 37,
      "outputs": [
        {
          "output_type": "stream",
          "text": [
            "root\n",
            " |-- ID: integer (nullable = true)\n",
            " |-- Title: string (nullable = true)\n",
            " |-- Year: string (nullable = true)\n",
            " |-- IMDb: double (nullable = true)\n",
            " |-- Rotten Tomatoes: string (nullable = true)\n",
            " |-- Netflix: integer (nullable = true)\n",
            " |-- Hulu: integer (nullable = true)\n",
            " |-- Prime Video: integer (nullable = true)\n",
            " |-- Disney+: integer (nullable = true)\n",
            " |-- Runtime: integer (nullable = true)\n",
            " |-- DirectorsArray: array (nullable = true)\n",
            " |    |-- element: string (containsNull = true)\n",
            " |-- GenresArray: array (nullable = true)\n",
            " |    |-- element: string (containsNull = true)\n",
            " |-- CountriesArray: array (nullable = true)\n",
            " |    |-- element: string (containsNull = true)\n",
            " |-- LanguagesArray: array (nullable = true)\n",
            " |    |-- element: string (containsNull = true)\n",
            " |-- MinimumClassification: integer (nullable = true)\n",
            "\n"
          ],
          "name": "stdout"
        }
      ]
    },
    {
      "cell_type": "markdown",
      "metadata": {
        "id": "H3yQHisWq3gv"
      },
      "source": [
        "Analisando o schema novamente, podemos ver que assim como o campo Age, o campo Year deveria estar como Integer, vamos arrumar isso."
      ]
    },
    {
      "cell_type": "code",
      "metadata": {
        "id": "lxIsJc9orTRT"
      },
      "source": [
        "movies_df_year_processed = movies_df_classification.withColumn(\"Year\", col(\"Year\").cast(IntegerType()))"
      ],
      "execution_count": 38,
      "outputs": []
    },
    {
      "cell_type": "code",
      "metadata": {
        "id": "i4lPBLH8WxkP",
        "outputId": "6d78bc5d-7a3e-4936-9e7d-a1f96fb10898",
        "colab": {
          "base_uri": "https://localhost:8080/"
        }
      },
      "source": [
        "movies_df_year_processed.printSchema()"
      ],
      "execution_count": 39,
      "outputs": [
        {
          "output_type": "stream",
          "text": [
            "root\n",
            " |-- ID: integer (nullable = true)\n",
            " |-- Title: string (nullable = true)\n",
            " |-- Year: integer (nullable = true)\n",
            " |-- IMDb: double (nullable = true)\n",
            " |-- Rotten Tomatoes: string (nullable = true)\n",
            " |-- Netflix: integer (nullable = true)\n",
            " |-- Hulu: integer (nullable = true)\n",
            " |-- Prime Video: integer (nullable = true)\n",
            " |-- Disney+: integer (nullable = true)\n",
            " |-- Runtime: integer (nullable = true)\n",
            " |-- DirectorsArray: array (nullable = true)\n",
            " |    |-- element: string (containsNull = true)\n",
            " |-- GenresArray: array (nullable = true)\n",
            " |    |-- element: string (containsNull = true)\n",
            " |-- CountriesArray: array (nullable = true)\n",
            " |    |-- element: string (containsNull = true)\n",
            " |-- LanguagesArray: array (nullable = true)\n",
            " |    |-- element: string (containsNull = true)\n",
            " |-- MinimumClassification: integer (nullable = true)\n",
            "\n"
          ],
          "name": "stdout"
        }
      ]
    },
    {
      "cell_type": "markdown",
      "metadata": {
        "id": "qkqjcZhtic65"
      },
      "source": [
        "Agora precisamos modificar a coluna Rotten Tomatoes para ser um integer."
      ]
    },
    {
      "cell_type": "code",
      "metadata": {
        "id": "hxNEA6ySibsD"
      },
      "source": [
        "movies_df_rotten_char = movies_df_year_processed.withColumn(\"RottenTomatoes\", translate('Rotten Tomatoes', '%', '')).drop('Rotten Tomatoes')\n",
        "movies_df_rotten_int = movies_df_rotten_char.withColumn(\"RottenTomatoes\", col(\"RottenTomatoes\").cast(IntegerType()))\n",
        "movies_df_padronized_rotten = movies_df_rotten_int.withColumn(\"RottenTomatoes\", col(\"RottenTomatoes\") / 10)"
      ],
      "execution_count": 40,
      "outputs": []
    },
    {
      "cell_type": "code",
      "metadata": {
        "id": "FBFkcESjkn5z",
        "outputId": "80571dd5-ac12-4554-c482-3d7509a5d66d",
        "colab": {
          "base_uri": "https://localhost:8080/"
        }
      },
      "source": [
        "movies_df_padronized_rotten.printSchema()"
      ],
      "execution_count": 41,
      "outputs": [
        {
          "output_type": "stream",
          "text": [
            "root\n",
            " |-- ID: integer (nullable = true)\n",
            " |-- Title: string (nullable = true)\n",
            " |-- Year: integer (nullable = true)\n",
            " |-- IMDb: double (nullable = true)\n",
            " |-- Netflix: integer (nullable = true)\n",
            " |-- Hulu: integer (nullable = true)\n",
            " |-- Prime Video: integer (nullable = true)\n",
            " |-- Disney+: integer (nullable = true)\n",
            " |-- Runtime: integer (nullable = true)\n",
            " |-- DirectorsArray: array (nullable = true)\n",
            " |    |-- element: string (containsNull = true)\n",
            " |-- GenresArray: array (nullable = true)\n",
            " |    |-- element: string (containsNull = true)\n",
            " |-- CountriesArray: array (nullable = true)\n",
            " |    |-- element: string (containsNull = true)\n",
            " |-- LanguagesArray: array (nullable = true)\n",
            " |    |-- element: string (containsNull = true)\n",
            " |-- MinimumClassification: integer (nullable = true)\n",
            " |-- RottenTomatoes: double (nullable = true)\n",
            "\n"
          ],
          "name": "stdout"
        }
      ]
    },
    {
      "cell_type": "code",
      "metadata": {
        "id": "Hi2LBBtDn0OG"
      },
      "source": [
        "movies_df_processed = movies_df_padronized_rotten"
      ],
      "execution_count": 42,
      "outputs": []
    },
    {
      "cell_type": "code",
      "metadata": {
        "id": "YRHRwt1Wfw2F"
      },
      "source": [
        "from pyspark.sql.functions import explode\n",
        "\n",
        "movie_director_df = movies_df_processed.select('ID', 'DirectorsArray').withColumn('Director', explode(col('DirectorsArray'))).select('ID', 'Director')\n",
        "movie_genre_df = movies_df_processed.select('ID', 'GenresArray').withColumn('Genre', explode(col('GenresArray'))).select('ID', 'Genre')\n",
        "movie_country_df = movies_df_processed.select('ID', 'CountriesArray').withColumn('Country', explode(col('CountriesArray'))).select('ID', 'Country')\n",
        "movie_language_df = movies_df_processed.select('ID', 'LanguagesArray').withColumn('Language', explode(col('LanguagesArray'))).select('ID', 'Language')"
      ],
      "execution_count": 74,
      "outputs": []
    },
    {
      "cell_type": "markdown",
      "metadata": {
        "id": "zjph0XghngZJ"
      },
      "source": [
        "### Removing Outliers "
      ]
    },
    {
      "cell_type": "code",
      "metadata": {
        "id": "qxkUiVwlkg-k"
      },
      "source": [
        "movies_df_pd = movies_df_processed.toPandas()"
      ],
      "execution_count": 46,
      "outputs": []
    },
    {
      "cell_type": "code",
      "metadata": {
        "id": "xNLqsM3aaaD0",
        "outputId": "5616181c-94ee-4b71-e10e-ac2631685e5e",
        "colab": {
          "base_uri": "https://localhost:8080/",
          "height": 314
        }
      },
      "source": [
        "movies_df_pd.describe()"
      ],
      "execution_count": 67,
      "outputs": [
        {
          "output_type": "execute_result",
          "data": {
            "text/html": [
              "<div>\n",
              "<style scoped>\n",
              "    .dataframe tbody tr th:only-of-type {\n",
              "        vertical-align: middle;\n",
              "    }\n",
              "\n",
              "    .dataframe tbody tr th {\n",
              "        vertical-align: top;\n",
              "    }\n",
              "\n",
              "    .dataframe thead th {\n",
              "        text-align: right;\n",
              "    }\n",
              "</style>\n",
              "<table border=\"1\" class=\"dataframe\">\n",
              "  <thead>\n",
              "    <tr style=\"text-align: right;\">\n",
              "      <th></th>\n",
              "      <th>ID</th>\n",
              "      <th>Year</th>\n",
              "      <th>IMDb</th>\n",
              "      <th>Netflix</th>\n",
              "      <th>Hulu</th>\n",
              "      <th>Prime Video</th>\n",
              "      <th>Disney+</th>\n",
              "      <th>Runtime</th>\n",
              "      <th>MinimumClassification</th>\n",
              "      <th>RottenTomatoes</th>\n",
              "      <th>runtime_log</th>\n",
              "    </tr>\n",
              "  </thead>\n",
              "  <tbody>\n",
              "    <tr>\n",
              "      <th>count</th>\n",
              "      <td>16743.000000</td>\n",
              "      <td>16743.000000</td>\n",
              "      <td>16173.000000</td>\n",
              "      <td>16743.000000</td>\n",
              "      <td>16743.000000</td>\n",
              "      <td>16743.000000</td>\n",
              "      <td>16743.000000</td>\n",
              "      <td>16152.000000</td>\n",
              "      <td>16743.000000</td>\n",
              "      <td>5158.000000</td>\n",
              "      <td>16152.000000</td>\n",
              "    </tr>\n",
              "    <tr>\n",
              "      <th>mean</th>\n",
              "      <td>8372.050290</td>\n",
              "      <td>2003.013140</td>\n",
              "      <td>5.902751</td>\n",
              "      <td>0.212626</td>\n",
              "      <td>0.053933</td>\n",
              "      <td>0.737801</td>\n",
              "      <td>0.033686</td>\n",
              "      <td>93.413447</td>\n",
              "      <td>5.065520</td>\n",
              "      <td>6.542846</td>\n",
              "      <td>1.948431</td>\n",
              "    </tr>\n",
              "    <tr>\n",
              "      <th>std</th>\n",
              "      <td>4833.514844</td>\n",
              "      <td>20.674614</td>\n",
              "      <td>1.347867</td>\n",
              "      <td>0.409178</td>\n",
              "      <td>0.225892</td>\n",
              "      <td>0.439843</td>\n",
              "      <td>0.180424</td>\n",
              "      <td>28.219222</td>\n",
              "      <td>7.998182</td>\n",
              "      <td>2.661450</td>\n",
              "      <td>0.155808</td>\n",
              "    </tr>\n",
              "    <tr>\n",
              "      <th>min</th>\n",
              "      <td>1.000000</td>\n",
              "      <td>1902.000000</td>\n",
              "      <td>0.000000</td>\n",
              "      <td>0.000000</td>\n",
              "      <td>0.000000</td>\n",
              "      <td>0.000000</td>\n",
              "      <td>0.000000</td>\n",
              "      <td>1.000000</td>\n",
              "      <td>-1.000000</td>\n",
              "      <td>0.200000</td>\n",
              "      <td>0.000000</td>\n",
              "    </tr>\n",
              "    <tr>\n",
              "      <th>25%</th>\n",
              "      <td>4186.500000</td>\n",
              "      <td>2000.000000</td>\n",
              "      <td>5.100000</td>\n",
              "      <td>0.000000</td>\n",
              "      <td>0.000000</td>\n",
              "      <td>0.000000</td>\n",
              "      <td>0.000000</td>\n",
              "      <td>82.000000</td>\n",
              "      <td>-1.000000</td>\n",
              "      <td>4.400000</td>\n",
              "      <td>1.913814</td>\n",
              "    </tr>\n",
              "    <tr>\n",
              "      <th>50%</th>\n",
              "      <td>8372.000000</td>\n",
              "      <td>2012.000000</td>\n",
              "      <td>6.100000</td>\n",
              "      <td>0.000000</td>\n",
              "      <td>0.000000</td>\n",
              "      <td>1.000000</td>\n",
              "      <td>0.000000</td>\n",
              "      <td>92.000000</td>\n",
              "      <td>-1.000000</td>\n",
              "      <td>7.100000</td>\n",
              "      <td>1.963788</td>\n",
              "    </tr>\n",
              "    <tr>\n",
              "      <th>75%</th>\n",
              "      <td>12557.500000</td>\n",
              "      <td>2016.000000</td>\n",
              "      <td>6.900000</td>\n",
              "      <td>0.000000</td>\n",
              "      <td>0.000000</td>\n",
              "      <td>1.000000</td>\n",
              "      <td>0.000000</td>\n",
              "      <td>104.000000</td>\n",
              "      <td>13.000000</td>\n",
              "      <td>8.800000</td>\n",
              "      <td>2.017033</td>\n",
              "    </tr>\n",
              "    <tr>\n",
              "      <th>max</th>\n",
              "      <td>16744.000000</td>\n",
              "      <td>2020.000000</td>\n",
              "      <td>9.300000</td>\n",
              "      <td>1.000000</td>\n",
              "      <td>1.000000</td>\n",
              "      <td>1.000000</td>\n",
              "      <td>1.000000</td>\n",
              "      <td>1256.000000</td>\n",
              "      <td>18.000000</td>\n",
              "      <td>10.000000</td>\n",
              "      <td>3.098990</td>\n",
              "    </tr>\n",
              "  </tbody>\n",
              "</table>\n",
              "</div>"
            ],
            "text/plain": [
              "                 ID          Year  ...  RottenTomatoes   runtime_log\n",
              "count  16743.000000  16743.000000  ...     5158.000000  16152.000000\n",
              "mean    8372.050290   2003.013140  ...        6.542846      1.948431\n",
              "std     4833.514844     20.674614  ...        2.661450      0.155808\n",
              "min        1.000000   1902.000000  ...        0.200000      0.000000\n",
              "25%     4186.500000   2000.000000  ...        4.400000      1.913814\n",
              "50%     8372.000000   2012.000000  ...        7.100000      1.963788\n",
              "75%    12557.500000   2016.000000  ...        8.800000      2.017033\n",
              "max    16744.000000   2020.000000  ...       10.000000      3.098990\n",
              "\n",
              "[8 rows x 11 columns]"
            ]
          },
          "metadata": {
            "tags": []
          },
          "execution_count": 67
        }
      ]
    },
    {
      "cell_type": "markdown",
      "metadata": {
        "id": "g43oozGTaLN-"
      },
      "source": [
        "Percebemos que as métricas do runtime estão um pouco estranhas o mínimo e o máximo estão muito distantes dos valores dos quartis, isso pode indicar que existem outliers. Analisando os quartis as durações dos filmes possuem valores esperados devido ao nosso conhecimento do problema (filmes), porém os mínimos e máximo tem valores muito díspares, o que indica que há outliers no dataset.\n",
        "\n",
        "Vamos visualizar o runtime em forma de gráfico."
      ]
    },
    {
      "cell_type": "code",
      "metadata": {
        "id": "eL8d5n_JcTmd",
        "outputId": "b3a9d438-4951-4523-b5a3-1dc71bdb16eb",
        "colab": {
          "base_uri": "https://localhost:8080/",
          "height": 283
        }
      },
      "source": [
        "movies_df_pd['Runtime'].hist()"
      ],
      "execution_count": 68,
      "outputs": [
        {
          "output_type": "execute_result",
          "data": {
            "text/plain": [
              "<matplotlib.axes._subplots.AxesSubplot at 0x7f04fde89828>"
            ]
          },
          "metadata": {
            "tags": []
          },
          "execution_count": 68
        },
        {
          "output_type": "display_data",
          "data": {
            "image/png": "[encoded data removed]",
            "text/plain": [
              "<Figure size 432x288 with 1 Axes>"
            ]
          },
          "metadata": {
            "tags": [],
            "needs_background": "light"
          }
        }
      ]
    },
    {
      "cell_type": "markdown",
      "metadata": {
        "id": "5vlKihS_cjQt"
      },
      "source": [
        "A distribuição de runtime dos filmes ficou ruim de ser visualizada no histograma possivelmente por causa de outliers. Iremos utiliza o log10 para visualizar melhor."
      ]
    },
    {
      "cell_type": "code",
      "metadata": {
        "id": "cnUWbbX0oerA",
        "outputId": "2df3f847-2ed9-48f8-ade6-c573451e344f",
        "colab": {
          "base_uri": "https://localhost:8080/",
          "height": 283
        }
      },
      "source": [
        "from numpy import log10\n",
        "movies_df_pd['runtime_log'] = log10(movies_df_pd['Runtime'])\n",
        "movies_df_pd['runtime_log'].hist()"
      ],
      "execution_count": 47,
      "outputs": [
        {
          "output_type": "execute_result",
          "data": {
            "text/plain": [
              "<matplotlib.axes._subplots.AxesSubplot at 0x7f050025f438>"
            ]
          },
          "metadata": {
            "tags": []
          },
          "execution_count": 47
        },
        {
          "output_type": "display_data",
          "data": {
            "image/png": "[encoded data removed]",
            "text/plain": [
              "<Figure size 432x288 with 1 Axes>"
            ]
          },
          "metadata": {
            "tags": [],
            "needs_background": "light"
          }
        }
      ]
    },
    {
      "cell_type": "code",
      "metadata": {
        "id": "JQjoIVyW5nyg",
        "outputId": "86983149-5ccd-4d3d-e988-ad43bcf1f740",
        "colab": {
          "base_uri": "https://localhost:8080/",
          "height": 283
        }
      },
      "source": [
        "movies_df_pd.boxplot(column='Runtime')"
      ],
      "execution_count": 65,
      "outputs": [
        {
          "output_type": "execute_result",
          "data": {
            "text/plain": [
              "<matplotlib.axes._subplots.AxesSubplot at 0x7f04fdf002e8>"
            ]
          },
          "metadata": {
            "tags": []
          },
          "execution_count": 65
        },
        {
          "output_type": "display_data",
          "data": {
            "image/png": "[encoded data removed]",
            "text/plain": [
              "<Figure size 432x288 with 1 Axes>"
            ]
          },
          "metadata": {
            "tags": [],
            "needs_background": "light"
          }
        }
      ]
    },
    {
      "cell_type": "markdown",
      "metadata": {
        "id": "KLrnuEQcdiZl"
      },
      "source": [
        "Analisando o boxplot, fica claro que existem outliers. Vamos Fazer o processo de remoção utilizando o Z-Score Robusto (MAD). "
      ]
    },
    {
      "cell_type": "code",
      "metadata": {
        "id": "r8Y9jaU95wap",
        "outputId": "7352d960-d924-4da1-a43b-cd00af75ec71",
        "colab": {
          "base_uri": "https://localhost:8080/"
        }
      },
      "source": [
        "from numpy import abs\n",
        "mad = abs(movies_df_pd['runtime_log'] - movies_df_pd['runtime_log'].median()).median()*(1/0.6745)\n",
        "print(mad)"
      ],
      "execution_count": 52,
      "outputs": [
        {
          "output_type": "stream",
          "text": [
            "0.07409040023993868\n"
          ],
          "name": "stdout"
        }
      ]
    },
    {
      "cell_type": "code",
      "metadata": {
        "id": "GGKgC26p86o9",
        "outputId": "bc1b0c58-f0fe-4cdf-c202-e5f84f48ace2",
        "colab": {
          "base_uri": "https://localhost:8080/",
          "height": 283
        }
      },
      "source": [
        "(abs(movies_df_pd['runtime_log']-movies_df_pd['runtime_log'].median())/mad).hist()"
      ],
      "execution_count": 54,
      "outputs": [
        {
          "output_type": "execute_result",
          "data": {
            "text/plain": [
              "<matplotlib.axes._subplots.AxesSubplot at 0x7f050037e0b8>"
            ]
          },
          "metadata": {
            "tags": []
          },
          "execution_count": 54
        },
        {
          "output_type": "display_data",
          "data": {
            "image/png": "[encoded data removed]",
            "text/plain": [
              "<Figure size 432x288 with 1 Axes>"
            ]
          },
          "metadata": {
            "tags": [],
            "needs_background": "light"
          }
        }
      ]
    },
    {
      "cell_type": "code",
      "metadata": {
        "id": "HuQeDW3Q9F_r",
        "outputId": "83c7a8a0-2c10-412a-8b89-c4bfa976cce0",
        "colab": {
          "base_uri": "https://localhost:8080/",
          "height": 851
        }
      },
      "source": [
        "movies_df_mad = movies_df_pd[abs(movies_df_pd['runtime_log']-movies_df_pd['runtime_log'].median())/mad < 6]\n",
        "movies_df_mad"
      ],
      "execution_count": 106,
      "outputs": [
        {
          "output_type": "execute_result",
          "data": {
            "text/html": [
              "<div>\n",
              "<style scoped>\n",
              "    .dataframe tbody tr th:only-of-type {\n",
              "        vertical-align: middle;\n",
              "    }\n",
              "\n",
              "    .dataframe tbody tr th {\n",
              "        vertical-align: top;\n",
              "    }\n",
              "\n",
              "    .dataframe thead th {\n",
              "        text-align: right;\n",
              "    }\n",
              "</style>\n",
              "<table border=\"1\" class=\"dataframe\">\n",
              "  <thead>\n",
              "    <tr style=\"text-align: right;\">\n",
              "      <th></th>\n",
              "      <th>ID</th>\n",
              "      <th>Title</th>\n",
              "      <th>Year</th>\n",
              "      <th>IMDb</th>\n",
              "      <th>Netflix</th>\n",
              "      <th>Hulu</th>\n",
              "      <th>Prime Video</th>\n",
              "      <th>Disney+</th>\n",
              "      <th>Runtime</th>\n",
              "      <th>DirectorsArray</th>\n",
              "      <th>GenresArray</th>\n",
              "      <th>CountriesArray</th>\n",
              "      <th>LanguagesArray</th>\n",
              "      <th>MinimumClassification</th>\n",
              "      <th>RottenTomatoes</th>\n",
              "      <th>runtime_log</th>\n",
              "    </tr>\n",
              "  </thead>\n",
              "  <tbody>\n",
              "    <tr>\n",
              "      <th>0</th>\n",
              "      <td>1</td>\n",
              "      <td>Inception</td>\n",
              "      <td>2010</td>\n",
              "      <td>8.8</td>\n",
              "      <td>1</td>\n",
              "      <td>0</td>\n",
              "      <td>0</td>\n",
              "      <td>0</td>\n",
              "      <td>148.0</td>\n",
              "      <td>[Christopher Nolan]</td>\n",
              "      <td>[Action, Adventure, Sci-Fi, Thriller]</td>\n",
              "      <td>[United States, United Kingdom]</td>\n",
              "      <td>[English, Japanese, French]</td>\n",
              "      <td>13</td>\n",
              "      <td>8.7</td>\n",
              "      <td>2.170262</td>\n",
              "    </tr>\n",
              "    <tr>\n",
              "      <th>1</th>\n",
              "      <td>2</td>\n",
              "      <td>The Matrix</td>\n",
              "      <td>1999</td>\n",
              "      <td>8.7</td>\n",
              "      <td>1</td>\n",
              "      <td>0</td>\n",
              "      <td>0</td>\n",
              "      <td>0</td>\n",
              "      <td>136.0</td>\n",
              "      <td>[Lana Wachowski, Lilly Wachowski]</td>\n",
              "      <td>[Action, Sci-Fi]</td>\n",
              "      <td>[United States]</td>\n",
              "      <td>[English]</td>\n",
              "      <td>18</td>\n",
              "      <td>8.7</td>\n",
              "      <td>2.133539</td>\n",
              "    </tr>\n",
              "    <tr>\n",
              "      <th>2</th>\n",
              "      <td>3</td>\n",
              "      <td>Avengers: Infinity War</td>\n",
              "      <td>2018</td>\n",
              "      <td>8.5</td>\n",
              "      <td>1</td>\n",
              "      <td>0</td>\n",
              "      <td>0</td>\n",
              "      <td>0</td>\n",
              "      <td>149.0</td>\n",
              "      <td>[Anthony Russo, Joe Russo]</td>\n",
              "      <td>[Action, Adventure, Sci-Fi]</td>\n",
              "      <td>[United States]</td>\n",
              "      <td>[English]</td>\n",
              "      <td>13</td>\n",
              "      <td>8.4</td>\n",
              "      <td>2.173186</td>\n",
              "    </tr>\n",
              "    <tr>\n",
              "      <th>3</th>\n",
              "      <td>4</td>\n",
              "      <td>Back to the Future</td>\n",
              "      <td>1985</td>\n",
              "      <td>8.5</td>\n",
              "      <td>1</td>\n",
              "      <td>0</td>\n",
              "      <td>0</td>\n",
              "      <td>0</td>\n",
              "      <td>116.0</td>\n",
              "      <td>[Robert Zemeckis]</td>\n",
              "      <td>[Adventure, Comedy, Sci-Fi]</td>\n",
              "      <td>[United States]</td>\n",
              "      <td>[English]</td>\n",
              "      <td>7</td>\n",
              "      <td>9.6</td>\n",
              "      <td>2.064458</td>\n",
              "    </tr>\n",
              "    <tr>\n",
              "      <th>4</th>\n",
              "      <td>5</td>\n",
              "      <td>The Good, the Bad and the Ugly</td>\n",
              "      <td>1966</td>\n",
              "      <td>8.8</td>\n",
              "      <td>1</td>\n",
              "      <td>0</td>\n",
              "      <td>1</td>\n",
              "      <td>0</td>\n",
              "      <td>161.0</td>\n",
              "      <td>[Sergio Leone]</td>\n",
              "      <td>[Western]</td>\n",
              "      <td>[Italy, Spain, West Germany]</td>\n",
              "      <td>[Italian]</td>\n",
              "      <td>18</td>\n",
              "      <td>9.7</td>\n",
              "      <td>2.206826</td>\n",
              "    </tr>\n",
              "    <tr>\n",
              "      <th>...</th>\n",
              "      <td>...</td>\n",
              "      <td>...</td>\n",
              "      <td>...</td>\n",
              "      <td>...</td>\n",
              "      <td>...</td>\n",
              "      <td>...</td>\n",
              "      <td>...</td>\n",
              "      <td>...</td>\n",
              "      <td>...</td>\n",
              "      <td>...</td>\n",
              "      <td>...</td>\n",
              "      <td>...</td>\n",
              "      <td>...</td>\n",
              "      <td>...</td>\n",
              "      <td>...</td>\n",
              "      <td>...</td>\n",
              "    </tr>\n",
              "    <tr>\n",
              "      <th>16733</th>\n",
              "      <td>16735</td>\n",
              "      <td>Sultan And The Rock Star</td>\n",
              "      <td>1980</td>\n",
              "      <td>5.9</td>\n",
              "      <td>0</td>\n",
              "      <td>0</td>\n",
              "      <td>0</td>\n",
              "      <td>1</td>\n",
              "      <td>60.0</td>\n",
              "      <td>[Edward M. Abroms]</td>\n",
              "      <td>[Adventure, Drama, Family]</td>\n",
              "      <td>[United States]</td>\n",
              "      <td>[English]</td>\n",
              "      <td>-1</td>\n",
              "      <td>NaN</td>\n",
              "      <td>1.778151</td>\n",
              "    </tr>\n",
              "    <tr>\n",
              "      <th>16736</th>\n",
              "      <td>16738</td>\n",
              "      <td>The Bears and I</td>\n",
              "      <td>1974</td>\n",
              "      <td>6.2</td>\n",
              "      <td>0</td>\n",
              "      <td>0</td>\n",
              "      <td>0</td>\n",
              "      <td>1</td>\n",
              "      <td>89.0</td>\n",
              "      <td>[Bernard McEveety]</td>\n",
              "      <td>[Drama, Family]</td>\n",
              "      <td>[United States]</td>\n",
              "      <td>[English]</td>\n",
              "      <td>0</td>\n",
              "      <td>NaN</td>\n",
              "      <td>1.949390</td>\n",
              "    </tr>\n",
              "    <tr>\n",
              "      <th>16737</th>\n",
              "      <td>16739</td>\n",
              "      <td>Whispers: An Elephant's Tale</td>\n",
              "      <td>2000</td>\n",
              "      <td>5.0</td>\n",
              "      <td>0</td>\n",
              "      <td>0</td>\n",
              "      <td>0</td>\n",
              "      <td>1</td>\n",
              "      <td>72.0</td>\n",
              "      <td>[Dereck Joubert]</td>\n",
              "      <td>[Adventure, Family]</td>\n",
              "      <td>[United States]</td>\n",
              "      <td>[English]</td>\n",
              "      <td>0</td>\n",
              "      <td>NaN</td>\n",
              "      <td>1.857332</td>\n",
              "    </tr>\n",
              "    <tr>\n",
              "      <th>16738</th>\n",
              "      <td>16740</td>\n",
              "      <td>The Ghosts of Buxley Hall</td>\n",
              "      <td>1980</td>\n",
              "      <td>6.2</td>\n",
              "      <td>0</td>\n",
              "      <td>0</td>\n",
              "      <td>0</td>\n",
              "      <td>1</td>\n",
              "      <td>120.0</td>\n",
              "      <td>[Bruce Bilson]</td>\n",
              "      <td>[Comedy, Family, Fantasy, Horror]</td>\n",
              "      <td>[United States]</td>\n",
              "      <td>[English]</td>\n",
              "      <td>-1</td>\n",
              "      <td>NaN</td>\n",
              "      <td>2.079181</td>\n",
              "    </tr>\n",
              "    <tr>\n",
              "      <th>16739</th>\n",
              "      <td>16741</td>\n",
              "      <td>The Poof Point</td>\n",
              "      <td>2001</td>\n",
              "      <td>4.7</td>\n",
              "      <td>0</td>\n",
              "      <td>0</td>\n",
              "      <td>0</td>\n",
              "      <td>1</td>\n",
              "      <td>90.0</td>\n",
              "      <td>[Neal Israel]</td>\n",
              "      <td>[Comedy, Family, Sci-Fi]</td>\n",
              "      <td>[United States]</td>\n",
              "      <td>[English]</td>\n",
              "      <td>7</td>\n",
              "      <td>NaN</td>\n",
              "      <td>1.954243</td>\n",
              "    </tr>\n",
              "  </tbody>\n",
              "</table>\n",
              "<p>15764 rows × 16 columns</p>\n",
              "</div>"
            ],
            "text/plain": [
              "          ID                           Title  ...  RottenTomatoes  runtime_log\n",
              "0          1                       Inception  ...             8.7     2.170262\n",
              "1          2                      The Matrix  ...             8.7     2.133539\n",
              "2          3          Avengers: Infinity War  ...             8.4     2.173186\n",
              "3          4              Back to the Future  ...             9.6     2.064458\n",
              "4          5  The Good, the Bad and the Ugly  ...             9.7     2.206826\n",
              "...      ...                             ...  ...             ...          ...\n",
              "16733  16735        Sultan And The Rock Star  ...             NaN     1.778151\n",
              "16736  16738                 The Bears and I  ...             NaN     1.949390\n",
              "16737  16739    Whispers: An Elephant's Tale  ...             NaN     1.857332\n",
              "16738  16740       The Ghosts of Buxley Hall  ...             NaN     2.079181\n",
              "16739  16741                  The Poof Point  ...             NaN     1.954243\n",
              "\n",
              "[15764 rows x 16 columns]"
            ]
          },
          "metadata": {
            "tags": []
          },
          "execution_count": 106
        }
      ]
    },
    {
      "cell_type": "code",
      "metadata": {
        "id": "zrg269Uc92oA",
        "outputId": "1b44417a-0580-40e5-b3bf-cea0a1dbd1f8",
        "colab": {
          "base_uri": "https://localhost:8080/",
          "height": 283
        }
      },
      "source": [
        "movies_df_mad.boxplot(column='Runtime')"
      ],
      "execution_count": 107,
      "outputs": [
        {
          "output_type": "execute_result",
          "data": {
            "text/plain": [
              "<matplotlib.axes._subplots.AxesSubplot at 0x7f04f5e9da90>"
            ]
          },
          "metadata": {
            "tags": []
          },
          "execution_count": 107
        },
        {
          "output_type": "display_data",
          "data": {
            "image/png": "[encoded data removed]",
            "text/plain": [
              "<Figure size 432x288 with 1 Axes>"
            ]
          },
          "metadata": {
            "tags": [],
            "needs_background": "light"
          }
        }
      ]
    },
    {
      "cell_type": "code",
      "metadata": {
        "id": "PbJN_urKj6UI"
      },
      "source": [
        "movies_no_outliers = movies_df_mad"
      ],
      "execution_count": 108,
      "outputs": []
    },
    {
      "cell_type": "markdown",
      "metadata": {
        "id": "jPMV5zICZwAV"
      },
      "source": [
        "### Análises Descritivas"
      ]
    },
    {
      "cell_type": "markdown",
      "metadata": {
        "id": "MKbBDsX4epjM"
      },
      "source": [
        "Iremos rodar a correlação de spearman sobre o dataset para verificar se há algum tipo de correlação entre as colunas."
      ]
    },
    {
      "cell_type": "markdown",
      "metadata": {
        "id": "3ELs_mNNh9Rk"
      },
      "source": [
        "Podemos perceber que há uma correlação alta e positiva entre as colunas RottenTomatoes e IMDb, que é esperado porque ambos representam a opinião sobre o filme."
      ]
    },
    {
      "cell_type": "code",
      "metadata": {
        "id": "HHy2GlcTz6m4",
        "outputId": "e41015cf-e69f-4f6c-c560-6a9501eb7923",
        "colab": {
          "base_uri": "https://localhost:8080/",
          "height": 423
        }
      },
      "source": [
        "movies_no_outliers.corr(method='spearman')"
      ],
      "execution_count": 111,
      "outputs": [
        {
          "output_type": "execute_result",
          "data": {
            "text/html": [
              "<div>\n",
              "<style scoped>\n",
              "    .dataframe tbody tr th:only-of-type {\n",
              "        vertical-align: middle;\n",
              "    }\n",
              "\n",
              "    .dataframe tbody tr th {\n",
              "        vertical-align: top;\n",
              "    }\n",
              "\n",
              "    .dataframe thead th {\n",
              "        text-align: right;\n",
              "    }\n",
              "</style>\n",
              "<table border=\"1\" class=\"dataframe\">\n",
              "  <thead>\n",
              "    <tr style=\"text-align: right;\">\n",
              "      <th></th>\n",
              "      <th>ID</th>\n",
              "      <th>Year</th>\n",
              "      <th>IMDb</th>\n",
              "      <th>Netflix</th>\n",
              "      <th>Hulu</th>\n",
              "      <th>Prime Video</th>\n",
              "      <th>Disney+</th>\n",
              "      <th>Runtime</th>\n",
              "      <th>MinimumClassification</th>\n",
              "      <th>RottenTomatoes</th>\n",
              "      <th>runtime_log</th>\n",
              "    </tr>\n",
              "  </thead>\n",
              "  <tbody>\n",
              "    <tr>\n",
              "      <th>ID</th>\n",
              "      <td>1.000000</td>\n",
              "      <td>-0.350017</td>\n",
              "      <td>-0.400934</td>\n",
              "      <td>-0.700863</td>\n",
              "      <td>-0.227470</td>\n",
              "      <td>0.546765</td>\n",
              "      <td>0.285726</td>\n",
              "      <td>-0.280196</td>\n",
              "      <td>-0.163700</td>\n",
              "      <td>-0.279249</td>\n",
              "      <td>-0.280196</td>\n",
              "    </tr>\n",
              "    <tr>\n",
              "      <th>Year</th>\n",
              "      <td>-0.350017</td>\n",
              "      <td>1.000000</td>\n",
              "      <td>-0.003990</td>\n",
              "      <td>0.360902</td>\n",
              "      <td>0.136674</td>\n",
              "      <td>-0.345340</td>\n",
              "      <td>-0.090826</td>\n",
              "      <td>0.070147</td>\n",
              "      <td>-0.030794</td>\n",
              "      <td>0.078947</td>\n",
              "      <td>0.070147</td>\n",
              "    </tr>\n",
              "    <tr>\n",
              "      <th>IMDb</th>\n",
              "      <td>-0.400934</td>\n",
              "      <td>-0.003990</td>\n",
              "      <td>1.000000</td>\n",
              "      <td>0.137611</td>\n",
              "      <td>0.035283</td>\n",
              "      <td>-0.162088</td>\n",
              "      <td>0.072997</td>\n",
              "      <td>0.141415</td>\n",
              "      <td>-0.072812</td>\n",
              "      <td>0.623921</td>\n",
              "      <td>0.141415</td>\n",
              "    </tr>\n",
              "    <tr>\n",
              "      <th>Netflix</th>\n",
              "      <td>-0.700863</td>\n",
              "      <td>0.360902</td>\n",
              "      <td>0.137611</td>\n",
              "      <td>1.000000</td>\n",
              "      <td>-0.106990</td>\n",
              "      <td>-0.749441</td>\n",
              "      <td>-0.086596</td>\n",
              "      <td>0.149845</td>\n",
              "      <td>0.048488</td>\n",
              "      <td>0.020196</td>\n",
              "      <td>0.149845</td>\n",
              "    </tr>\n",
              "    <tr>\n",
              "      <th>Hulu</th>\n",
              "      <td>-0.227470</td>\n",
              "      <td>0.136674</td>\n",
              "      <td>0.035283</td>\n",
              "      <td>-0.106990</td>\n",
              "      <td>1.000000</td>\n",
              "      <td>-0.264222</td>\n",
              "      <td>-0.034499</td>\n",
              "      <td>0.044053</td>\n",
              "      <td>0.099688</td>\n",
              "      <td>0.018185</td>\n",
              "      <td>0.044053</td>\n",
              "    </tr>\n",
              "    <tr>\n",
              "      <th>Prime Video</th>\n",
              "      <td>0.546765</td>\n",
              "      <td>-0.345340</td>\n",
              "      <td>-0.162088</td>\n",
              "      <td>-0.749441</td>\n",
              "      <td>-0.264222</td>\n",
              "      <td>1.000000</td>\n",
              "      <td>-0.302869</td>\n",
              "      <td>-0.117404</td>\n",
              "      <td>-0.090067</td>\n",
              "      <td>-0.045645</td>\n",
              "      <td>-0.117404</td>\n",
              "    </tr>\n",
              "    <tr>\n",
              "      <th>Disney+</th>\n",
              "      <td>0.285726</td>\n",
              "      <td>-0.090826</td>\n",
              "      <td>0.072997</td>\n",
              "      <td>-0.086596</td>\n",
              "      <td>-0.034499</td>\n",
              "      <td>-0.302869</td>\n",
              "      <td>1.000000</td>\n",
              "      <td>-0.007072</td>\n",
              "      <td>0.058737</td>\n",
              "      <td>-0.015780</td>\n",
              "      <td>-0.007072</td>\n",
              "    </tr>\n",
              "    <tr>\n",
              "      <th>Runtime</th>\n",
              "      <td>-0.280196</td>\n",
              "      <td>0.070147</td>\n",
              "      <td>0.141415</td>\n",
              "      <td>0.149845</td>\n",
              "      <td>0.044053</td>\n",
              "      <td>-0.117404</td>\n",
              "      <td>-0.007072</td>\n",
              "      <td>1.000000</td>\n",
              "      <td>0.146794</td>\n",
              "      <td>-0.011441</td>\n",
              "      <td>1.000000</td>\n",
              "    </tr>\n",
              "    <tr>\n",
              "      <th>MinimumClassification</th>\n",
              "      <td>-0.163700</td>\n",
              "      <td>-0.030794</td>\n",
              "      <td>-0.072812</td>\n",
              "      <td>0.048488</td>\n",
              "      <td>0.099688</td>\n",
              "      <td>-0.090067</td>\n",
              "      <td>0.058737</td>\n",
              "      <td>0.146794</td>\n",
              "      <td>1.000000</td>\n",
              "      <td>-0.211506</td>\n",
              "      <td>0.146794</td>\n",
              "    </tr>\n",
              "    <tr>\n",
              "      <th>RottenTomatoes</th>\n",
              "      <td>-0.279249</td>\n",
              "      <td>0.078947</td>\n",
              "      <td>0.623921</td>\n",
              "      <td>0.020196</td>\n",
              "      <td>0.018185</td>\n",
              "      <td>-0.045645</td>\n",
              "      <td>-0.015780</td>\n",
              "      <td>-0.011441</td>\n",
              "      <td>-0.211506</td>\n",
              "      <td>1.000000</td>\n",
              "      <td>-0.011441</td>\n",
              "    </tr>\n",
              "    <tr>\n",
              "      <th>runtime_log</th>\n",
              "      <td>-0.280196</td>\n",
              "      <td>0.070147</td>\n",
              "      <td>0.141415</td>\n",
              "      <td>0.149845</td>\n",
              "      <td>0.044053</td>\n",
              "      <td>-0.117404</td>\n",
              "      <td>-0.007072</td>\n",
              "      <td>1.000000</td>\n",
              "      <td>0.146794</td>\n",
              "      <td>-0.011441</td>\n",
              "      <td>1.000000</td>\n",
              "    </tr>\n",
              "  </tbody>\n",
              "</table>\n",
              "</div>"
            ],
            "text/plain": [
              "                             ID      Year  ...  RottenTomatoes  runtime_log\n",
              "ID                     1.000000 -0.350017  ...       -0.279249    -0.280196\n",
              "Year                  -0.350017  1.000000  ...        0.078947     0.070147\n",
              "IMDb                  -0.400934 -0.003990  ...        0.623921     0.141415\n",
              "Netflix               -0.700863  0.360902  ...        0.020196     0.149845\n",
              "Hulu                  -0.227470  0.136674  ...        0.018185     0.044053\n",
              "Prime Video            0.546765 -0.345340  ...       -0.045645    -0.117404\n",
              "Disney+                0.285726 -0.090826  ...       -0.015780    -0.007072\n",
              "Runtime               -0.280196  0.070147  ...       -0.011441     1.000000\n",
              "MinimumClassification -0.163700 -0.030794  ...       -0.211506     0.146794\n",
              "RottenTomatoes        -0.279249  0.078947  ...        1.000000    -0.011441\n",
              "runtime_log           -0.280196  0.070147  ...       -0.011441     1.000000\n",
              "\n",
              "[11 rows x 11 columns]"
            ]
          },
          "metadata": {
            "tags": []
          },
          "execution_count": 111
        }
      ]
    },
    {
      "cell_type": "markdown",
      "metadata": {
        "id": "y9DLg5JJjikK"
      },
      "source": [
        "Agora queremos analisar a quantidade de filmes por plataforma de streaming."
      ]
    },
    {
      "cell_type": "code",
      "metadata": {
        "id": "fNFZy8gk13HM",
        "outputId": "76f2734c-e47d-40ee-d294-0756b7091cd4",
        "colab": {
          "base_uri": "https://localhost:8080/",
          "height": 333
        }
      },
      "source": [
        "movies_no_outliers[['Netflix', 'Prime Video', 'Disney+', 'Hulu']].sum(skipna=True).plot.bar()"
      ],
      "execution_count": 112,
      "outputs": [
        {
          "output_type": "execute_result",
          "data": {
            "text/plain": [
              "<matplotlib.axes._subplots.AxesSubplot at 0x7f04f5d89eb8>"
            ]
          },
          "metadata": {
            "tags": []
          },
          "execution_count": 112
        },
        {
          "output_type": "display_data",
          "data": {
            "image/png": "[encoded data removed]",
            "text/plain": [
              "<Figure size 432x288 with 1 Axes>"
            ]
          },
          "metadata": {
            "tags": [],
            "needs_background": "light"
          }
        }
      ]
    },
    {
      "cell_type": "markdown",
      "metadata": {
        "id": "Pgft5iFToozr"
      },
      "source": [
        "Agora vamos analisar a criação de filmes ao longo das décadas."
      ]
    },
    {
      "cell_type": "code",
      "metadata": {
        "id": "oa6pGrlRCXbG",
        "outputId": "89e9d5db-be1b-4928-94d7-35aa47ca6fd6",
        "colab": {
          "base_uri": "https://localhost:8080/"
        }
      },
      "source": [
        "movies_no_outliers['decade'] = movies_no_outliers['Year'].floordiv(10) * 10"
      ],
      "execution_count": 116,
      "outputs": [
        {
          "output_type": "stream",
          "text": [
            "/usr/local/lib/python3.6/dist-packages/ipykernel_launcher.py:1: SettingWithCopyWarning: \n",
            "A value is trying to be set on a copy of a slice from a DataFrame.\n",
            "Try using .loc[row_indexer,col_indexer] = value instead\n",
            "\n",
            "See the caveats in the documentation: https://pandas.pydata.org/pandas-docs/stable/user_guide/indexing.html#returning-a-view-versus-a-copy\n",
            "  \"\"\"Entry point for launching an IPython kernel.\n"
          ],
          "name": "stderr"
        }
      ]
    },
    {
      "cell_type": "code",
      "metadata": {
        "id": "0A1WiQKoCYzv",
        "outputId": "2aa6c6fb-e1de-4c20-a2fe-bd9b795acbd9",
        "colab": {
          "base_uri": "https://localhost:8080/",
          "height": 315
        }
      },
      "source": [
        "quantity_movies_by_sec = movies_df_mad['decade'].value_counts().sort_values()\n",
        "quantity_movies_by_sec.plot.bar(color=(0,0,1), title='Quantidade de filmes por década')"
      ],
      "execution_count": 117,
      "outputs": [
        {
          "output_type": "execute_result",
          "data": {
            "text/plain": [
              "<matplotlib.axes._subplots.AxesSubplot at 0x7f04f5bf5080>"
            ]
          },
          "metadata": {
            "tags": []
          },
          "execution_count": 117
        },
        {
          "output_type": "display_data",
          "data": {
            "image/png": "[encoded data removed]",
            "text/plain": [
              "<Figure size 432x288 with 1 Axes>"
            ]
          },
          "metadata": {
            "tags": [],
            "needs_background": "light"
          }
        }
      ]
    },
    {
      "cell_type": "code",
      "metadata": {
        "id": "7CLYbtwGGG4w",
        "outputId": "81d1c792-6eba-456d-b767-477c6c62f708",
        "colab": {
          "base_uri": "https://localhost:8080/",
          "height": 315
        }
      },
      "source": [
        "movies_df_2010 = movies_df_mad[movies_df_mad['Year'] >= 2010]\n",
        "movies_df_2010 = movies_df_2010.sort_values(['Year'])\n",
        "quantity_movies_2010 = movies_df_2010['Year'].value_counts()\n",
        "quantity_movies_2010.plot.bar(color=(0,0,1), title='Quantidade de filmes produzidos em 2010+')"
      ],
      "execution_count": 60,
      "outputs": [
        {
          "output_type": "execute_result",
          "data": {
            "text/plain": [
              "<matplotlib.axes._subplots.AxesSubplot at 0x7f04fe53acf8>"
            ]
          },
          "metadata": {
            "tags": []
          },
          "execution_count": 60
        },
        {
          "output_type": "display_data",
          "data": {
            "image/png": "[encoded data removed]",
            "text/plain": [
              "<Figure size 432x288 with 1 Axes>"
            ]
          },
          "metadata": {
            "tags": [],
            "needs_background": "light"
          }
        }
      ]
    },
    {
      "cell_type": "code",
      "metadata": {
        "id": "MR50BocmVRCa",
        "outputId": "f66d586f-0c1b-4a4c-acd9-0e8bddb06094",
        "colab": {
          "base_uri": "https://localhost:8080/",
          "height": 367
        }
      },
      "source": [
        "t = movies_df_mad.groupby('decade')['IMDb', 'RottenTomatoes'].mean()\n",
        "t.plot.bar()"
      ],
      "execution_count": 119,
      "outputs": [
        {
          "output_type": "stream",
          "text": [
            "/usr/local/lib/python3.6/dist-packages/ipykernel_launcher.py:1: FutureWarning: Indexing with multiple keys (implicitly converted to a tuple of keys) will be deprecated, use a list instead.\n",
            "  \"\"\"Entry point for launching an IPython kernel.\n"
          ],
          "name": "stderr"
        },
        {
          "output_type": "execute_result",
          "data": {
            "text/plain": [
              "<matplotlib.axes._subplots.AxesSubplot at 0x7f04f5b0aac8>"
            ]
          },
          "metadata": {
            "tags": []
          },
          "execution_count": 119
        },
        {
          "output_type": "display_data",
          "data": {
            "image/png": "[encoded data removed]",
            "text/plain": [
              "<Figure size 432x288 with 1 Axes>"
            ]
          },
          "metadata": {
            "tags": [],
            "needs_background": "light"
          }
        }
      ]
    },
    {
      "cell_type": "code",
      "metadata": {
        "id": "xL_FfK1SWHlB",
        "outputId": "f9f351d0-8cea-4b3c-9c15-a1c5b2134fee",
        "colab": {
          "base_uri": "https://localhost:8080/",
          "height": 367
        }
      },
      "source": [
        "t = movies_df_2010.groupby('Year')['IMDb', 'RottenTomatoes'].mean()\n",
        "t.plot.bar()"
      ],
      "execution_count": 62,
      "outputs": [
        {
          "output_type": "stream",
          "text": [
            "/usr/local/lib/python3.6/dist-packages/ipykernel_launcher.py:1: FutureWarning: Indexing with multiple keys (implicitly converted to a tuple of keys) will be deprecated, use a list instead.\n",
            "  \"\"\"Entry point for launching an IPython kernel.\n"
          ],
          "name": "stderr"
        },
        {
          "output_type": "execute_result",
          "data": {
            "text/plain": [
              "<matplotlib.axes._subplots.AxesSubplot at 0x7f04fe5a4128>"
            ]
          },
          "metadata": {
            "tags": []
          },
          "execution_count": 62
        },
        {
          "output_type": "display_data",
          "data": {
            "image/png": "[encoded data removed]",
            "text/plain": [
              "<Figure size 432x288 with 1 Axes>"
            ]
          },
          "metadata": {
            "tags": [],
            "needs_background": "light"
          }
        }
      ]
    },
    {
      "cell_type": "code",
      "metadata": {
        "id": "fd8zeM-KJLA5",
        "outputId": "197ec876-d3fd-4cac-fa73-01b275caa394",
        "colab": {
          "base_uri": "https://localhost:8080/"
        }
      },
      "source": [
        "from pyspark.sql.functions import when,count\n",
        "\n",
        "movies_df_aval = movies_df_processed.where(col('IMDb').isNotNull() & col('RottenTomatoes').isNotNull())\n",
        "\n",
        "movies_df_aval.agg(\n",
        "    count(when(col(\"IMDb\") >= 9, True)).alias('IMDb Count'),\n",
        "    count(when(col(\"RottenTomatoes\") >= 9, True)).alias('RottenTomatoes Count')\n",
        ").show()"
      ],
      "execution_count": 63,
      "outputs": [
        {
          "output_type": "stream",
          "text": [
            "+----------+--------------------+\n",
            "|IMDb Count|RottenTomatoes Count|\n",
            "+----------+--------------------+\n",
            "|         1|                1126|\n",
            "+----------+--------------------+\n",
            "\n"
          ],
          "name": "stdout"
        }
      ]
    },
    {
      "cell_type": "code",
      "metadata": {
        "id": "NO9M-VcDqr5_",
        "outputId": "e00fdeae-ace5-4a65-be87-4c9da3f745e2",
        "colab": {
          "base_uri": "https://localhost:8080/",
          "height": 283
        }
      },
      "source": [
        "from pyspark.sql.functions import countDistinct\n",
        "from pyspark.sql.functions import count\n",
        "\n",
        "movies_count_by_language = movie_language_df.groupBy('Language').agg(countDistinct('ID').alias('count')).toPandas()\n",
        "movies_count_by_language.nlargest(15, 'count').plot.barh(x='Language')"
      ],
      "execution_count": 170,
      "outputs": [
        {
          "output_type": "execute_result",
          "data": {
            "text/plain": [
              "<matplotlib.axes._subplots.AxesSubplot at 0x7f04f49b2b70>"
            ]
          },
          "metadata": {
            "tags": []
          },
          "execution_count": 170
        },
        {
          "output_type": "display_data",
          "data": {
            "image/png": "[encoded data removed]",
            "text/plain": [
              "<Figure size 432x288 with 1 Axes>"
            ]
          },
          "metadata": {
            "tags": [],
            "needs_background": "light"
          }
        }
      ]
    },
    {
      "cell_type": "code",
      "metadata": {
        "id": "jufgM5yWu0Lx",
        "outputId": "3d59039f-dae5-4696-f9ee-9b1b7a89e223",
        "colab": {
          "base_uri": "https://localhost:8080/",
          "height": 283
        }
      },
      "source": [
        "movies_count_by_genre = movie_genre_df.groupBy('Genre').agg(countDistinct('ID').alias('count')).toPandas()\n",
        "movies_count_by_genre.nlargest(20, 'count').plot.barh(x='Genre')"
      ],
      "execution_count": 150,
      "outputs": [
        {
          "output_type": "execute_result",
          "data": {
            "text/plain": [
              "<matplotlib.axes._subplots.AxesSubplot at 0x7f04f47554e0>"
            ]
          },
          "metadata": {
            "tags": []
          },
          "execution_count": 150
        },
        {
          "output_type": "display_data",
          "data": {
            "image/png": "[encoded data removed]",
            "text/plain": [
              "<Figure size 432x288 with 1 Axes>"
            ]
          },
          "metadata": {
            "tags": [],
            "needs_background": "light"
          }
        }
      ]
    },
    {
      "cell_type": "code",
      "metadata": {
        "id": "Zzrh8l0tvZC4",
        "outputId": "75b18d0b-6d9d-4ef5-e62d-b48eeab00923",
        "colab": {
          "base_uri": "https://localhost:8080/",
          "height": 283
        }
      },
      "source": [
        "movies_count_by_country = movie_country_df.groupBy('Country').agg(countDistinct('ID').alias('count')).toPandas()\n",
        "movies_count_by_country.nlargest(30, 'count').plot.barh(x='Country')"
      ],
      "execution_count": 152,
      "outputs": [
        {
          "output_type": "execute_result",
          "data": {
            "text/plain": [
              "<matplotlib.axes._subplots.AxesSubplot at 0x7f04f4697e80>"
            ]
          },
          "metadata": {
            "tags": []
          },
          "execution_count": 152
        },
        {
          "output_type": "display_data",
          "data": {
            "image/png": "[encoded data removed]",
            "text/plain": [
              "<Figure size 432x288 with 1 Axes>"
            ]
          },
          "metadata": {
            "tags": [],
            "needs_background": "light"
          }
        }
      ]
    },
    {
      "cell_type": "code",
      "metadata": {
        "id": "kmHKvpBAv1UA",
        "outputId": "6c2cd48e-74b8-496d-fad3-8166aebb76e3",
        "colab": {
          "base_uri": "https://localhost:8080/",
          "height": 283
        }
      },
      "source": [
        "movies_count_by_directors = movie_director_df.groupBy('Director').agg(countDistinct('ID').alias('count')).toPandas()\n",
        "movies_count_by_directors.nlargest(20, 'count').plot.barh(x='Director')"
      ],
      "execution_count": 154,
      "outputs": [
        {
          "output_type": "execute_result",
          "data": {
            "text/plain": [
              "<matplotlib.axes._subplots.AxesSubplot at 0x7f04f52606a0>"
            ]
          },
          "metadata": {
            "tags": []
          },
          "execution_count": 154
        },
        {
          "output_type": "display_data",
          "data": {
            "image/png": "[encoded data removed]",
            "text/plain": [
              "<Figure size 432x288 with 1 Axes>"
            ]
          },
          "metadata": {
            "tags": [],
            "needs_background": "light"
          }
        }
      ]
    },
    {
      "cell_type": "code",
      "metadata": {
        "id": "7FYuznxswzEe",
        "outputId": "fed513b6-04b7-4bdf-c6b0-ee6ad4a58a66",
        "colab": {
          "base_uri": "https://localhost:8080/",
          "height": 283
        }
      },
      "source": [
        "directors_high_grade_count = movie_director_df.distinct()\\\n",
        "                            .join(movies_df_processed, movies_df_processed['ID'] == movie_director_df['ID'])\\\n",
        "                            .select('Director', 'IMDb')\\\n",
        "                            .where(col('IMDb') > 7)\\\n",
        "                            .groupBy('Director')\\\n",
        "                            .agg(count('IMDb').alias('count')).toPandas()\n",
        "directors_high_grade_count.nlargest(20, 'count').plot.barh(x='Director')"
      ],
      "execution_count": 171,
      "outputs": [
        {
          "output_type": "execute_result",
          "data": {
            "text/plain": [
              "<matplotlib.axes._subplots.AxesSubplot at 0x7f04f4d3a320>"
            ]
          },
          "metadata": {
            "tags": []
          },
          "execution_count": 171
        },
        {
          "output_type": "display_data",
          "data": {
            "image/png": "[encoded data removed]",
            "text/plain": [
              "<Figure size 432x288 with 1 Axes>"
            ]
          },
          "metadata": {
            "tags": [],
            "needs_background": "light"
          }
        }
      ]
    },
    {
      "cell_type": "code",
      "metadata": {
        "id": "qti07AC00b5R",
        "outputId": "4a5a3d8d-cc09-4ebd-9e6b-738e8f9aab0f",
        "colab": {
          "base_uri": "https://localhost:8080/",
          "height": 283
        }
      },
      "source": [
        "from pyspark.sql.functions import mean\n",
        "\n",
        "directors_high_grade_mean = movie_director_df.distinct()\\\n",
        "                            .join(movies_df_processed, movies_df_processed['ID'] == movie_director_df['ID'])\\\n",
        "                            .select('Director', 'IMDb')\\\n",
        "                            .groupBy('Director')\\\n",
        "                            .agg(mean('IMDb').alias('IMDb_mean')).toPandas()\n",
        "directors_high_grade_mean.nlargest(20, 'IMDb_mean').plot.barh(x='Director')"
      ],
      "execution_count": 172,
      "outputs": [
        {
          "output_type": "execute_result",
          "data": {
            "text/plain": [
              "<matplotlib.axes._subplots.AxesSubplot at 0x7f04f42fc710>"
            ]
          },
          "metadata": {
            "tags": []
          },
          "execution_count": 172
        },
        {
          "output_type": "display_data",
          "data": {
            "image/png": "[encoded data removed]",
            "text/plain": [
              "<Figure size 432x288 with 1 Axes>"
            ]
          },
          "metadata": {
            "tags": [],
            "needs_background": "light"
          }
        }
      ]
    },
    {
      "cell_type": "code",
      "metadata": {
        "id": "1CDYYzsM1NlE",
        "outputId": "6e842821-80e6-4aac-bcb3-3520b6823e8c",
        "colab": {
          "base_uri": "https://localhost:8080/"
        }
      },
      "source": [
        "movie_director_df.distinct()\\\n",
        ".join(movies_df_processed, movies_df_processed['ID'] == movie_director_df['ID'])\\\n",
        ".select('Director', 'IMDb').where(col('Director') == 'Fen Tian').show()"
      ],
      "execution_count": 174,
      "outputs": [
        {
          "output_type": "stream",
          "text": [
            "+--------+----+\n",
            "|Director|IMDb|\n",
            "+--------+----+\n",
            "|Fen Tian| 9.3|\n",
            "+--------+----+\n",
            "\n"
          ],
          "name": "stdout"
        }
      ]
    },
    {
      "cell_type": "markdown",
      "metadata": {
        "id": "8Jcz9i0ELV2v"
      },
      "source": [
        "ANALISES\n",
        "- Qual é mais critico em relacão as notas (imdb ou rotten)\n",
        "- Quantidade de filmes presentes em cada plataforma\n",
        "- Alguma relacao de ano + nota / nota + regiao produzida / nota + ator conhecido\n",
        "- Agrupar por ator para ver qual ator fez mais filme, fazer uma analise do ator + media dos filmes que ele esteve presente\n",
        " \n",
        "HIPOTESES\n",
        "- Filmes de acao tem uma classificacao indicativa maior\n",
        "- Filmes de drama / romance tem maior nota no rotten tomatoes\n",
        "- Existe maior quantidade de filmes em ingles\n",
        "- Existe maior quantidade de filmes feito nos USA"
      ]
    },
    {
      "cell_type": "code",
      "metadata": {
        "id": "EU2xLJ0xMhjL"
      },
      "source": [
        ""
      ],
      "execution_count": 63,
      "outputs": []
    }
  ]
}