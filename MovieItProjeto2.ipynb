{
  "nbformat": 4,
  "nbformat_minor": 0,
  "metadata": {
    "colab": {
      "name": "MoveIt.ipynb",
      "provenance": [],
      "collapsed_sections": []
    },
    "kernelspec": {
      "display_name": "Python 3",
      "language": "python",
      "name": "python3"
    },
    "language_info": {
      "codemirror_mode": {
        "name": "ipython",
        "version": 3
      },
      "file_extension": ".py",
      "mimetype": "text/x-python",
      "name": "python",
      "nbconvert_exporter": "python",
      "pygments_lexer": "ipython3",
      "version": "3.8.5"
    }
  },
  "cells": [
    {
      "cell_type": "markdown",
      "metadata": {
        "id": "lFxeRD2gAxEf"
      },
      "source": [
        "### Instalando PySpark"
      ]
    },
    {
      "cell_type": "code",
      "metadata": {
        "id": "RTdmD5l4BCct",
        "scrolled": true,
        "outputId": "b795f13c-1185-420e-ac48-8c35e5daf404",
        "colab": {
          "base_uri": "https://localhost:8080/"
        }
      },
      "source": [
        "!pip3 install pyspark"
      ],
      "execution_count": null,
      "outputs": [
        {
          "output_type": "stream",
          "text": [
            "Defaulting to user installation because normal site-packages is not writeable\n",
            "Requirement already satisfied: pyspark in /home/jonatas-clementino/.local/lib/python3.8/site-packages (3.0.1)\n",
            "Requirement already satisfied: py4j==0.10.9 in /home/jonatas-clementino/.local/lib/python3.8/site-packages (from pyspark) (0.10.9)\n",
            "\u001b[33mWARNING: You are using pip version 20.2.3; however, version 20.2.4 is available.\n",
            "You should consider upgrading via the '/usr/bin/python3 -m pip install --upgrade pip' command.\u001b[0m\n"
          ],
          "name": "stdout"
        }
      ]
    },
    {
      "cell_type": "markdown",
      "metadata": {
        "id": "_AcB-QsuAm8K"
      },
      "source": [
        "### Criando Spark Context"
      ]
    },
    {
      "cell_type": "code",
      "metadata": {
        "id": "1udOWHIlCvbi"
      },
      "source": [
        "from pyspark import SparkContext\n",
        "from pyspark.sql import Row\n",
        "from pyspark.sql import *\n",
        "from pyspark.sql import SQLContext\n",
        "from pyspark import SparkFiles\n",
        "from pyspark.sql.functions import col"
      ],
      "execution_count": null,
      "outputs": []
    },
    {
      "cell_type": "code",
      "metadata": {
        "id": "eel4ff5OA6qe"
      },
      "source": [
        "spark = SparkContext.getOrCreate()"
      ],
      "execution_count": null,
      "outputs": []
    },
    {
      "cell_type": "markdown",
      "metadata": {
        "id": "HWVV98rzl07M"
      },
      "source": [
        "### Carregando Dataset"
      ]
    },
    {
      "cell_type": "code",
      "metadata": {
        "id": "SoH9WIshDvSJ"
      },
      "source": [
        "spark.addFile('https://raw.githubusercontent.com/JonatasDeOliveira/movie-it/master/data/moviesOnStreamingPlatforms_noOutliers.csv')"
      ],
      "execution_count": null,
      "outputs": []
    },
    {
      "cell_type": "code",
      "metadata": {
        "id": "aiXf8Wm7BX98"
      },
      "source": [
        "sql_context = SQLContext(spark)\n",
        "movies_no_outliers_df = sql_context.read.csv(SparkFiles.get(\"moviesOnStreamingPlatforms_noOutliers.csv\"), header=True, inferSchema= True)"
      ],
      "execution_count": null,
      "outputs": []
    },
    {
      "cell_type": "code",
      "metadata": {
        "id": "6eDsBVMXOrAM",
        "outputId": "354bbaa8-b396-4ba3-831e-e8ab28f5233b"
      },
      "source": [
        "movies_no_outliers_df.printSchema()"
      ],
      "execution_count": null,
      "outputs": [
        {
          "output_type": "stream",
          "text": [
            "root\n",
            " |-- _c0: integer (nullable = true)\n",
            " |-- ID: integer (nullable = true)\n",
            " |-- Title: string (nullable = true)\n",
            " |-- Year: integer (nullable = true)\n",
            " |-- Age: string (nullable = true)\n",
            " |-- IMDb: double (nullable = true)\n",
            " |-- Rotten Tomatoes: string (nullable = true)\n",
            " |-- Netflix: integer (nullable = true)\n",
            " |-- Hulu: integer (nullable = true)\n",
            " |-- Prime Video: integer (nullable = true)\n",
            " |-- Disney+: integer (nullable = true)\n",
            " |-- Directors: string (nullable = true)\n",
            " |-- Genres: string (nullable = true)\n",
            " |-- Country: string (nullable = true)\n",
            " |-- Language: string (nullable = true)\n",
            " |-- Runtime: integer (nullable = true)\n",
            "\n"
          ],
          "name": "stdout"
        }
      ]
    },
    {
      "cell_type": "markdown",
      "metadata": {
        "id": "9KnKujrvOrAQ"
      },
      "source": [
        "### MLFlow"
      ]
    },
    {
      "cell_type": "code",
      "metadata": {
        "id": "RF2Icn8NOrAQ",
        "outputId": "9a1c6b7d-79f0-4d2d-c276-8f86606aa1ec"
      },
      "source": [
        "!pip3 install sklearn"
      ],
      "execution_count": null,
      "outputs": [
        {
          "output_type": "stream",
          "text": [
            "Defaulting to user installation because normal site-packages is not writeable\n",
            "Requirement already satisfied: sklearn in /home/jonatas-clementino/.local/lib/python3.8/site-packages (0.0)\n",
            "Requirement already satisfied: scikit-learn in /home/jonatas-clementino/.local/lib/python3.8/site-packages (from sklearn) (0.22.2.post1)\n",
            "Requirement already satisfied: scipy>=0.17.0 in /home/jonatas-clementino/.local/lib/python3.8/site-packages (from scikit-learn->sklearn) (1.5.4)\n",
            "Requirement already satisfied: numpy>=1.11.0 in /home/jonatas-clementino/.local/lib/python3.8/site-packages (from scikit-learn->sklearn) (1.19.4)\n",
            "Requirement already satisfied: joblib>=0.11 in /home/jonatas-clementino/.local/lib/python3.8/site-packages (from scikit-learn->sklearn) (0.17.0)\n",
            "\u001b[33mWARNING: You are using pip version 20.2.3; however, version 20.2.4 is available.\n",
            "You should consider upgrading via the '/usr/bin/python3 -m pip install --upgrade pip' command.\u001b[0m\n"
          ],
          "name": "stdout"
        }
      ]
    },
    {
      "cell_type": "code",
      "metadata": {
        "id": "igiDj-YfOrAV",
        "outputId": "5e75ce36-145d-482c-b278-b353c2a1da51"
      },
      "source": [
        "!pip3 install mlflow"
      ],
      "execution_count": null,
      "outputs": [
        {
          "output_type": "stream",
          "text": [
            "Defaulting to user installation because normal site-packages is not writeable\n",
            "Requirement already satisfied: mlflow in /home/jonatas-clementino/.local/lib/python3.8/site-packages (1.12.0)\n",
            "Requirement already satisfied: cloudpickle in /home/jonatas-clementino/.local/lib/python3.8/site-packages (from mlflow) (1.6.0)\n",
            "Requirement already satisfied: numpy in /home/jonatas-clementino/.local/lib/python3.8/site-packages (from mlflow) (1.19.4)\n",
            "Requirement already satisfied: protobuf>=3.6.0 in /home/jonatas-clementino/.local/lib/python3.8/site-packages (from mlflow) (3.13.0)\n",
            "Requirement already satisfied: python-dateutil in /usr/lib/python3/dist-packages (from mlflow) (2.7.3)\n",
            "Requirement already satisfied: docker>=4.0.0 in /home/jonatas-clementino/.local/lib/python3.8/site-packages (from mlflow) (4.3.1)\n",
            "Requirement already satisfied: azure-storage-blob in /home/jonatas-clementino/.local/lib/python3.8/site-packages (from mlflow) (12.6.0)\n",
            "Requirement already satisfied: sqlalchemy in /home/jonatas-clementino/.local/lib/python3.8/site-packages (from mlflow) (1.3.20)\n",
            "Requirement already satisfied: pyyaml in /usr/lib/python3/dist-packages (from mlflow) (5.3.1)\n",
            "Requirement already satisfied: entrypoints in /usr/lib/python3/dist-packages (from mlflow) (0.3)\n",
            "Requirement already satisfied: databricks-cli>=0.8.7 in /home/jonatas-clementino/.local/lib/python3.8/site-packages (from mlflow) (0.14.0)\n",
            "Requirement already satisfied: six>=1.10.0 in /usr/lib/python3/dist-packages (from mlflow) (1.14.0)\n",
            "Requirement already satisfied: prometheus-flask-exporter in /home/jonatas-clementino/.local/lib/python3.8/site-packages (from mlflow) (0.18.1)\n",
            "Requirement already satisfied: Flask in /home/jonatas-clementino/.local/lib/python3.8/site-packages (from mlflow) (1.1.2)\n",
            "Requirement already satisfied: querystring-parser in /home/jonatas-clementino/.local/lib/python3.8/site-packages (from mlflow) (1.2.4)\n",
            "Requirement already satisfied: requests>=2.17.3 in /usr/lib/python3/dist-packages (from mlflow) (2.22.0)\n",
            "Requirement already satisfied: pandas in /home/jonatas-clementino/.local/lib/python3.8/site-packages (from mlflow) (1.1.4)\n",
            "Requirement already satisfied: click>=7.0 in /usr/lib/python3/dist-packages (from mlflow) (7.0)\n",
            "Requirement already satisfied: sqlparse>=0.3.1 in /home/jonatas-clementino/.local/lib/python3.8/site-packages (from mlflow) (0.4.1)\n",
            "Requirement already satisfied: gunicorn; platform_system != \"Windows\" in /home/jonatas-clementino/.local/lib/python3.8/site-packages (from mlflow) (20.0.4)\n",
            "Requirement already satisfied: gitpython>=2.1.0 in /home/jonatas-clementino/.local/lib/python3.8/site-packages (from mlflow) (3.1.11)\n",
            "Requirement already satisfied: alembic<=1.4.1 in /home/jonatas-clementino/.local/lib/python3.8/site-packages (from mlflow) (1.4.1)\n",
            "Requirement already satisfied: setuptools in /usr/local/lib/python3.8/dist-packages (from protobuf>=3.6.0->mlflow) (50.3.0)\n",
            "Requirement already satisfied: websocket-client>=0.32.0 in /home/jonatas-clementino/.local/lib/python3.8/site-packages (from docker>=4.0.0->mlflow) (0.57.0)\n",
            "Requirement already satisfied: cryptography>=2.1.4 in /usr/lib/python3/dist-packages (from azure-storage-blob->mlflow) (2.8)\n",
            "Requirement already satisfied: msrest>=0.6.10 in /home/jonatas-clementino/.local/lib/python3.8/site-packages (from azure-storage-blob->mlflow) (0.6.19)\n",
            "Requirement already satisfied: azure-core<2.0.0,>=1.9.0 in /home/jonatas-clementino/.local/lib/python3.8/site-packages (from azure-storage-blob->mlflow) (1.9.0)\n",
            "Requirement already satisfied: tabulate>=0.7.7 in /home/jonatas-clementino/.local/lib/python3.8/site-packages (from databricks-cli>=0.8.7->mlflow) (0.8.7)\n",
            "Requirement already satisfied: prometheus-client in /home/jonatas-clementino/.local/lib/python3.8/site-packages (from prometheus-flask-exporter->mlflow) (0.8.0)\n",
            "Requirement already satisfied: Jinja2>=2.10.1 in /home/jonatas-clementino/.local/lib/python3.8/site-packages (from Flask->mlflow) (2.11.2)\n",
            "Requirement already satisfied: itsdangerous>=0.24 in /home/jonatas-clementino/.local/lib/python3.8/site-packages (from Flask->mlflow) (1.1.0)\n",
            "Requirement already satisfied: Werkzeug>=0.15 in /home/jonatas-clementino/.local/lib/python3.8/site-packages (from Flask->mlflow) (1.0.1)\n",
            "Requirement already satisfied: pytz>=2017.2 in /usr/lib/python3/dist-packages (from pandas->mlflow) (2019.3)\n",
            "Requirement already satisfied: gitdb<5,>=4.0.1 in /home/jonatas-clementino/.local/lib/python3.8/site-packages (from gitpython>=2.1.0->mlflow) (4.0.5)\n",
            "Requirement already satisfied: Mako in /home/jonatas-clementino/.local/lib/python3.8/site-packages (from alembic<=1.4.1->mlflow) (1.1.3)\n",
            "Requirement already satisfied: python-editor>=0.3 in /home/jonatas-clementino/.local/lib/python3.8/site-packages (from alembic<=1.4.1->mlflow) (1.0.4)\n",
            "Requirement already satisfied: certifi>=2017.4.17 in /home/jonatas-clementino/.local/lib/python3.8/site-packages (from msrest>=0.6.10->azure-storage-blob->mlflow) (2020.11.8)\n",
            "Requirement already satisfied: requests-oauthlib>=0.5.0 in /home/jonatas-clementino/.local/lib/python3.8/site-packages (from msrest>=0.6.10->azure-storage-blob->mlflow) (1.3.0)\n",
            "Requirement already satisfied: isodate>=0.6.0 in /home/jonatas-clementino/.local/lib/python3.8/site-packages (from msrest>=0.6.10->azure-storage-blob->mlflow) (0.6.0)\n",
            "Requirement already satisfied: MarkupSafe>=0.23 in /home/jonatas-clementino/.local/lib/python3.8/site-packages (from Jinja2>=2.10.1->Flask->mlflow) (1.1.1)\n",
            "Requirement already satisfied: smmap<4,>=3.0.1 in /home/jonatas-clementino/.local/lib/python3.8/site-packages (from gitdb<5,>=4.0.1->gitpython>=2.1.0->mlflow) (3.0.4)\n",
            "Requirement already satisfied: oauthlib>=3.0.0 in /usr/lib/python3/dist-packages (from requests-oauthlib>=0.5.0->msrest>=0.6.10->azure-storage-blob->mlflow) (3.1.0)\n",
            "\u001b[33mWARNING: You are using pip version 20.2.3; however, version 20.2.4 is available.\n",
            "You should consider upgrading via the '/usr/bin/python3 -m pip install --upgrade pip' command.\u001b[0m\n"
          ],
          "name": "stdout"
        }
      ]
    },
    {
      "cell_type": "code",
      "metadata": {
        "id": "YBFLTjCIOrAY"
      },
      "source": [
        "import os\n",
        "import warnings\n",
        "import sys\n",
        "\n",
        "import pandas as pd\n",
        "import numpy as np\n",
        "from sklearn.metrics import mean_squared_error, mean_absolute_error, r2_score\n",
        "from sklearn.model_selection import train_test_split\n",
        "from sklearn.linear_model import ElasticNet\n",
        "from urllib.parse import urlparse\n",
        "import mlflow\n",
        "import mlflow.sklearn\n",
        "\n",
        "import logging"
      ],
      "execution_count": null,
      "outputs": []
    },
    {
      "cell_type": "code",
      "metadata": {
        "id": "MwAbYZh1OrAb",
        "outputId": "6aadc138-d1e5-491d-833e-622e44c039dc"
      },
      "source": [
        "logging.basicConfig(level=logging.WARN)\n",
        "logger = logging.getLogger(__name__)"
      ],
      "execution_count": null,
      "outputs": [
        {
          "output_type": "stream",
          "text": [
            "/home/jonatas-clementino/.local/lib/python3.8/site-packages/ipykernel/ipkernel.py:287: DeprecationWarning: `should_run_async` will not call `transform_cell` automatically in the future. Please pass the result to `transformed_cell` argument and any exception that happen during thetransform in `preprocessing_exc_tuple` in IPython 7.17 and above.\n",
            "  and should_run_async(code)\n"
          ],
          "name": "stderr"
        }
      ]
    },
    {
      "cell_type": "markdown",
      "metadata": {
        "id": "5C8Ob4eUPJQ2"
      },
      "source": [
        "Função que será utilizada para plotar a reta de regressão com os valores da nota real vs nota predita pelo algortimo, a fim de comparar e ter uma ajuda visual do desempenho."
      ]
    },
    {
      "cell_type": "code",
      "metadata": {
        "id": "77kfnPqOOrAf"
      },
      "source": [
        "import matplotlib.pyplot as plt\n",
        "\n",
        "def plot_comparission_result(y_true, y_pred):\n",
        "  plt.scatter(y_true, y_pred)\n",
        "  range = [y_true.min(), y_pred.max()]\n",
        "  plt.plot(range, range, 'red')\n",
        "  plt.xlabel('Nota real')\n",
        "  plt.ylabel('Nota predita')\n",
        "  plt.show()"
      ],
      "execution_count": null,
      "outputs": []
    },
    {
      "cell_type": "markdown",
      "metadata": {
        "id": "GXZhTEPLPajF"
      },
      "source": [
        "Função que calcula o `RMSE`, `MAE` e `R2`."
      ]
    },
    {
      "cell_type": "code",
      "metadata": {
        "id": "CBxLFdyXOrAi",
        "outputId": "f1aa7cc2-348a-44b1-ab06-9247adf7ece2"
      },
      "source": [
        "def eval_metrics(actual, pred):\n",
        "    rmse = np.sqrt(mean_squared_error(actual, pred))\n",
        "    mae = mean_absolute_error(actual, pred)\n",
        "    r2 = r2_score(actual, pred)\n",
        "    return rmse, mae, r2"
      ],
      "execution_count": null,
      "outputs": [
        {
          "output_type": "stream",
          "text": [
            "/home/jonatas-clementino/.local/lib/python3.8/site-packages/ipykernel/ipkernel.py:287: DeprecationWarning: `should_run_async` will not call `transform_cell` automatically in the future. Please pass the result to `transformed_cell` argument and any exception that happen during thetransform in `preprocessing_exc_tuple` in IPython 7.17 and above.\n",
            "  and should_run_async(code)\n"
          ],
          "name": "stderr"
        }
      ]
    },
    {
      "cell_type": "code",
      "metadata": {
        "id": "uqKqc28MOrAl"
      },
      "source": [
        "warnings.filterwarnings(\"ignore\")\n",
        "np.random.seed(40)"
      ],
      "execution_count": null,
      "outputs": []
    },
    {
      "cell_type": "markdown",
      "metadata": {
        "id": "APJ3A3h1Pn9y"
      },
      "source": [
        "Função responsável por fazer o treinamento e chamar os métodos acima. Aqui utilizamos o mlflow para guardar os valores dos parametros e os resultados do algortimo."
      ]
    },
    {
      "cell_type": "code",
      "metadata": {
        "id": "NrenkcX_OrAo"
      },
      "source": [
        "def run_experiment_with_model(model, model_name, train_x, train_y, test_x, test_y, params_dict={}):\n",
        "    # cria um experimento para cada algortimo executado para ajudar na divisão e organização\n",
        "    experiment_name='MovieIt-'+model_name \n",
        "    mlflow.set_experiment(experiment_name=experiment_name)\n",
        "    with mlflow.start_run():\n",
        "        model.fit(train_x, train_y)\n",
        "\n",
        "        predicted_qualities = model.predict(test_x)\n",
        "\n",
        "        (rmse, mae, r2) = eval_metrics(test_y, predicted_qualities)\n",
        "\n",
        "        print(model_name)\n",
        "        print(\"  RMSE: %s\" % rmse)\n",
        "        print(\"  MAE: %s\" % mae)\n",
        "        print(\"  R2: %s\" % r2)\n",
        "        \n",
        "        for param_name, param_value in params_dict.items():\n",
        "            mlflow.log_param(param_name, param_value)\n",
        "        \n",
        "        mlflow.log_metric(\"rmse\", rmse)\n",
        "        mlflow.log_metric(\"r2\", r2)\n",
        "        mlflow.log_metric(\"mae\", mae)\n",
        "\n",
        "        tracking_url_type_store = urlparse(mlflow.get_tracking_uri()).scheme\n",
        "\n",
        "        if tracking_url_type_store != \"file\":\n",
        "            mlflow.sklearn.log_model(model, model_name, registered_model_name=model_name)\n",
        "        else:\n",
        "            mlflow.sklearn.log_model(model, model_name)\n",
        "            \n",
        "        plot_comparission_result(test_y, predicted_qualities)\n",
        "\n",
        "        return r2"
      ],
      "execution_count": null,
      "outputs": []
    },
    {
      "cell_type": "markdown",
      "metadata": {
        "id": "yfCC2BnjnREo"
      },
      "source": [
        "### Regressão"
      ]
    },
    {
      "cell_type": "markdown",
      "metadata": {
        "id": "eiJFnS4MsZ0C"
      },
      "source": [
        "Escolhemos a nota do IMDb como target de predição, pelo fato de ser um valor que depende muito do gosto e opinião das pessoas."
      ]
    },
    {
      "cell_type": "markdown",
      "metadata": {
        "id": "IajjZIPCOutX"
      },
      "source": [
        "##### Preparacao dos dataset para classificacao"
      ]
    },
    {
      "cell_type": "markdown",
      "metadata": {
        "id": "RizmXwpLQtxT"
      },
      "source": [
        "Salvamos o dataset que foi processado no Projeto 1, porém houveram alguns problemas quando foram salvos com os dados e tivemos que fazer alguns pre processamentos."
      ]
    },
    {
      "cell_type": "code",
      "metadata": {
        "id": "6WZm9JXMDQdx",
        "scrolled": true
      },
      "source": [
        "from pyspark.sql.functions import split\n",
        "\n",
        "movies_no_outliers_df = (movies_no_outliers_df.withColumn('DirectorsArray', split('Directors', ','))\n",
        ".withColumn('GenresArray', split('Genres', ','))\n",
        ".withColumn('CountriesArray', split('Country', ','))\n",
        ".withColumn('LanguagesArray', split('Language', ','))\n",
        ".drop('Directors')\n",
        ".drop('Genres')\n",
        ".drop('Country')\n",
        ".drop('Language')\n",
        ".drop('_c0'))"
      ],
      "execution_count": null,
      "outputs": []
    },
    {
      "cell_type": "code",
      "metadata": {
        "id": "zME9nj0wOrAy"
      },
      "source": [
        "from pyspark.sql.functions import translate\n",
        "from pyspark.sql.types import IntegerType\n",
        "from pyspark.sql.functions import udf\n",
        "\n",
        "def transform_all_age_value(age):\n",
        "  if age == 'all':\n",
        "    return 0\n",
        "  if age is None:\n",
        "    return -1\n",
        "  return int(age)\n",
        "\n",
        "transformAllAgeValue = udf(lambda x: transform_all_age_value(x), IntegerType())\n",
        "\n",
        "movies_no_outliers_df = movies_no_outliers_df.withColumn(\"Age\", translate('Age', '+', ''))\n",
        "movies_no_outliers_df = movies_no_outliers_df.withColumn(\"MinimumClassification\", transformAllAgeValue(col('Age'))).drop('Age')"
      ],
      "execution_count": null,
      "outputs": []
    },
    {
      "cell_type": "code",
      "metadata": {
        "id": "b80eOMF5OrA1"
      },
      "source": [
        "movies_no_outliers_df = movies_no_outliers_df.withColumn(\"RottenTomatoes\", translate('Rotten Tomatoes', '%', '')).drop('Rotten Tomatoes')\n",
        "movies_no_outliers_df = movies_no_outliers_df.withColumn(\"RottenTomatoes\", col(\"RottenTomatoes\").cast(IntegerType()))\n",
        "movies_no_outliers_df = movies_no_outliers_df.withColumn(\"RottenTomatoes\", col(\"RottenTomatoes\") / 10)"
      ],
      "execution_count": null,
      "outputs": []
    },
    {
      "cell_type": "code",
      "metadata": {
        "scrolled": true,
        "id": "hSsExNOUOrA3",
        "outputId": "8a429df8-9cdd-4962-ca49-3d666159c3b8"
      },
      "source": [
        "movies_no_outliers_df.printSchema()"
      ],
      "execution_count": null,
      "outputs": [
        {
          "output_type": "stream",
          "text": [
            "root\n",
            " |-- ID: integer (nullable = true)\n",
            " |-- Title: string (nullable = true)\n",
            " |-- Year: integer (nullable = true)\n",
            " |-- IMDb: double (nullable = true)\n",
            " |-- Netflix: integer (nullable = true)\n",
            " |-- Hulu: integer (nullable = true)\n",
            " |-- Prime Video: integer (nullable = true)\n",
            " |-- Disney+: integer (nullable = true)\n",
            " |-- Runtime: integer (nullable = true)\n",
            " |-- DirectorsArray: array (nullable = true)\n",
            " |    |-- element: string (containsNull = true)\n",
            " |-- GenresArray: array (nullable = true)\n",
            " |    |-- element: string (containsNull = true)\n",
            " |-- CountriesArray: array (nullable = true)\n",
            " |    |-- element: string (containsNull = true)\n",
            " |-- LanguagesArray: array (nullable = true)\n",
            " |    |-- element: string (containsNull = true)\n",
            " |-- MinimumClassification: integer (nullable = true)\n",
            " |-- RottenTomatoes: double (nullable = true)\n",
            "\n"
          ],
          "name": "stdout"
        }
      ]
    },
    {
      "cell_type": "markdown",
      "metadata": {
        "id": "5f8eYjfFpUHI"
      },
      "source": [
        "**One hot enconding**\n",
        "\n",
        "Vamos explodir o array de gênero, países e línguas e transformá-los em diversas colunas com valores binários para cada filme e juntar essas novas informações a tabela original."
      ]
    },
    {
      "cell_type": "code",
      "metadata": {
        "id": "DlDSDwgoCsLi",
        "scrolled": true,
        "outputId": "47d32ed8-bf8f-4dd5-e227-cbb548471566",
        "colab": {
          "base_uri": "https://localhost:8080/"
        }
      },
      "source": [
        "from pyspark.sql.functions import explode\n",
        "\n",
        "exploded_genres = movies_no_outliers_df.withColumn('exploded', explode(col('GenresArray'))).groupby('ID').pivot('exploded').count().na.fill(0)\n",
        "exploded_genres.show(5)"
      ],
      "execution_count": null,
      "outputs": [
        {
          "output_type": "stream",
          "text": [
            "+-----+------+---------+---------+---------+------+-----+-----------+-----+------+-------+---------+-------+------+-----+-------+-------+----+----------+-------+------+-----+-----+---------+--------+---+-------+\n",
            "|   ID|Action|Adventure|Animation|Biography|Comedy|Crime|Documentary|Drama|Family|Fantasy|Film-Noir|History|Horror|Music|Musical|Mystery|News|Reality-TV|Romance|Sci-Fi|Short|Sport|Talk-Show|Thriller|War|Western|\n",
            "+-----+------+---------+---------+---------+------+-----+-----------+-----+------+-------+---------+-------+------+-----+-------+-------+----+----------+-------+------+-----+-----+---------+--------+---+-------+\n",
            "| 3918|     0|        0|        0|        0|     0|    0|          0|    1|     0|      0|        0|      0|     1|    0|      0|      1|   0|         0|      0|     1|    0|    0|        0|       0|  0|      0|\n",
            "| 3997|     0|        0|        0|        0|     0|    1|          0|    1|     0|      0|        0|      0|     0|    0|      0|      1|   0|         0|      0|     0|    0|    0|        0|       1|  0|      0|\n",
            "|  471|     0|        0|        0|        1|     0|    1|          0|    1|     0|      0|        0|      1|     0|    0|      0|      0|   0|         0|      0|     0|    0|    0|        0|       1|  0|      0|\n",
            "|  496|     0|        0|        0|        0|     1|    1|          0|    1|     0|      0|        0|      0|     0|    0|      0|      0|   0|         0|      1|     0|    0|    0|        0|       0|  0|      0|\n",
            "|16503|     0|        1|        0|        0|     1|    0|          0|    0|     1|      0|        0|      0|     0|    0|      0|      0|   0|         0|      1|     1|    0|    0|        0|       0|  0|      0|\n",
            "+-----+------+---------+---------+---------+------+-----+-----------+-----+------+-------+---------+-------+------+-----+-------+-------+----+----------+-------+------+-----+-----+---------+--------+---+-------+\n",
            "only showing top 5 rows\n",
            "\n"
          ],
          "name": "stdout"
        }
      ]
    },
    {
      "cell_type": "code",
      "metadata": {
        "id": "zmmX798FuWH-",
        "scrolled": true,
        "outputId": "336ec53f-4086-4001-ad67-b6b4f1585381",
        "colab": {
          "base_uri": "https://localhost:8080/"
        }
      },
      "source": [
        "exploded_countries = movies_no_outliers_df.withColumn('exploded', explode(col('CountriesArray'))).groupby('ID').pivot('exploded').count().na.fill(0)\n",
        "exploded_countries.show(5)"
      ],
      "execution_count": null,
      "outputs": [
        {
          "output_type": "stream",
          "text": [
            "+----+-----------+-------+-------+---------+---------+-------+-------+-------+----------+-------+-------+-------+----------------------+------+--------+--------+------+--------------+----+-----+-----+--------+-----+----------+-------+----+------+--------------+--------------+-------+------------------+------------+-----+-------+--------+-------+------+-------+-------+-----+------+---------+-----+-----------------------------+---------+-------+-------+-----+---------+----+----+-------+------+-----+-------+-----+------+-----+----------+-------+-------+-----+---------+----------+------+--------+-----+------+------+----------+-------+-------+-----+-----------+-----------+-------+------+--------+---------+------+----------------+--------+----+-----------+------+--------+-----------+-----+---------------------------+-------+------+------+------------+-------+------+---------+--------+--------+------------+-----------+------------+-----+------+-----------+-----+------+--------+--------+--------------------------------+-------+------+------+-------+--------------------+--------------+-------------+-------+---------+-------+------------+----------+--------+\n",
            "|  ID|Afghanistan|Albania|Algeria|Argentina|Australia|Austria|Bahamas|Bahrain|Bangladesh|Belarus|Belgium|Bolivia|Bosnia and Herzegovina|Brazil|Bulgaria|Cambodia|Canada|Cayman Islands|Chad|Chile|China|Colombia|Congo|Costa Rica|Croatia|Cuba|Cyprus|Czech Republic|Czechoslovakia|Denmark|Dominican Republic|East Germany|Egypt|Estonia|Ethiopia|Finland|France|Georgia|Germany|Ghana|Greece|Guatemala|Haiti|Holy See (Vatican City State)|Hong Kong|Hungary|Iceland|India|Indonesia|Iran|Iraq|Ireland|Israel|Italy|Jamaica|Japan|Jordan|Kenya|Kyrgyzstan|Lebanon|Liberia|Libya|Lithuania|Luxembourg|Malawi|Malaysia|Malta|Mexico|Monaco|Montenegro|Morocco|Namibia|Nepal|Netherlands|New Zealand|Nigeria|Norway|Pakistan|Palestine|Panama|Papua New Guinea|Paraguay|Peru|Philippines|Poland|Portugal|Puerto Rico|Qatar|Republic of North Macedonia|Romania|Russia|Rwanda|Saudi Arabia|Senegal|Serbia|Singapore|Slovakia|Slovenia|South Africa|South Korea|Soviet Union|Spain|Sweden|Switzerland|Syria|Taiwan|Tanzania|Thailand|The Democratic Republic Of Congo|Tunisia|Turkey|Uganda|Ukraine|United Arab Emirates|United Kingdom|United States|Uruguay|Venezuela|Vietnam|West Germany|Yugoslavia|Zimbabwe|\n",
            "+----+-----------+-------+-------+---------+---------+-------+-------+-------+----------+-------+-------+-------+----------------------+------+--------+--------+------+--------------+----+-----+-----+--------+-----+----------+-------+----+------+--------------+--------------+-------+------------------+------------+-----+-------+--------+-------+------+-------+-------+-----+------+---------+-----+-----------------------------+---------+-------+-------+-----+---------+----+----+-------+------+-----+-------+-----+------+-----+----------+-------+-------+-----+---------+----------+------+--------+-----+------+------+----------+-------+-------+-----+-----------+-----------+-------+------+--------+---------+------+----------------+--------+----+-----------+------+--------+-----------+-----+---------------------------+-------+------+------+------------+-------+------+---------+--------+--------+------------+-----------+------------+-----+------+-----------+-----+------+--------+--------+--------------------------------+-------+------+------+-------+--------------------+--------------+-------------+-------+---------+-------+------------+----------+--------+\n",
            "| 833|          0|      0|      0|        0|        0|      0|      0|      0|         0|      0|      0|      0|                     0|     0|       0|       0|     0|             0|   0|    0|    0|       0|    0|         0|      0|   0|     0|             0|             0|      0|                 0|           0|    0|      0|       0|      0|     0|      0|      0|    0|     0|        0|    0|                            0|        0|      0|      0|    0|        0|   0|   0|      0|     0|    0|      0|    0|     0|    0|         0|      0|      0|    0|        0|         0|     0|       0|    0|     0|     0|         0|      0|      0|    0|          0|          0|      0|     0|       0|        0|     0|               0|       0|   0|          0|     0|       0|          0|    0|                          0|      0|     0|     0|           0|      0|     0|        0|       0|       0|           0|          0|           0|    0|     0|          0|    0|     0|       0|       0|                               0|      0|     0|     0|      0|                   0|             0|            1|      0|        0|      0|           0|         0|       0|\n",
            "|3997|          0|      0|      0|        0|        0|      0|      0|      0|         0|      0|      0|      0|                     0|     0|       0|       0|     0|             0|   0|    0|    0|       0|    0|         0|      0|   0|     0|             0|             0|      0|                 0|           0|    0|      0|       0|      0|     0|      0|      0|    0|     0|        0|    0|                            0|        0|      0|      0|    0|        0|   0|   0|      0|     0|    0|      0|    0|     0|    0|         0|      0|      0|    0|        0|         0|     0|       0|    0|     0|     0|         0|      0|      0|    0|          0|          0|      0|     0|       0|        0|     0|               0|       0|   0|          0|     0|       0|          0|    0|                          0|      0|     0|     0|           0|      0|     0|        0|       0|       0|           0|          0|           0|    0|     0|          0|    0|     0|       0|       0|                               0|      0|     0|     0|      0|                   0|             0|            1|      0|        0|      0|           0|         0|       0|\n",
            "|3749|          0|      0|      0|        0|        0|      0|      0|      0|         0|      0|      0|      0|                     0|     0|       0|       0|     0|             0|   0|    0|    0|       0|    0|         0|      0|   0|     0|             0|             0|      0|                 0|           0|    0|      0|       0|      0|     0|      0|      0|    0|     0|        0|    0|                            0|        0|      0|      0|    0|        0|   0|   0|      0|     0|    0|      0|    0|     0|    0|         0|      0|      0|    0|        0|         0|     0|       0|    0|     0|     0|         0|      0|      0|    0|          0|          0|      0|     0|       0|        0|     0|               0|       0|   0|          0|     0|       0|          0|    0|                          0|      0|     0|     0|           0|      0|     0|        0|       0|       0|           0|          0|           0|    0|     0|          0|    0|     0|       0|       0|                               0|      0|     0|     0|      0|                   0|             0|            1|      0|        0|      0|           0|         0|       0|\n",
            "|4818|          0|      0|      0|        0|        0|      0|      0|      0|         0|      0|      0|      0|                     0|     0|       1|       0|     0|             0|   0|    0|    0|       0|    0|         0|      0|   0|     0|             0|             0|      0|                 0|           0|    0|      0|       0|      0|     0|      0|      0|    0|     0|        0|    0|                            0|        0|      0|      0|    0|        0|   0|   0|      0|     0|    0|      0|    0|     0|    0|         0|      0|      0|    0|        0|         0|     0|       0|    1|     0|     0|         0|      0|      0|    0|          0|          0|      0|     0|       0|        0|     0|               0|       0|   0|          0|     0|       0|          0|    0|                          0|      0|     0|     0|           0|      0|     0|        0|       0|       0|           0|          0|           0|    1|     0|          0|    0|     0|       0|       0|                               0|      0|     0|     0|      0|                   0|             0|            0|      0|        0|      0|           0|         0|       0|\n",
            "| 471|          0|      0|      0|        1|        0|      0|      0|      0|         0|      0|      0|      0|                     0|     0|       0|       0|     0|             0|   0|    1|    0|       0|    0|         0|      0|   0|     0|             0|             0|      0|                 0|           0|    0|      0|       0|      0|     1|      0|      0|    0|     0|        0|    0|                            0|        0|      0|      0|    0|        0|   0|   0|      0|     0|    0|      0|    0|     0|    0|         0|      0|      0|    0|        0|         0|     0|       0|    0|     0|     0|         0|      0|      0|    0|          0|          0|      0|     0|       0|        0|     0|               0|       0|   0|          0|     0|       0|          0|    0|                          0|      0|     0|     0|           0|      0|     0|        0|       0|       0|           0|          0|           0|    1|     0|          0|    0|     0|       0|       0|                               0|      0|     0|     0|      0|                   0|             0|            1|      0|        0|      0|           0|         0|       0|\n",
            "+----+-----------+-------+-------+---------+---------+-------+-------+-------+----------+-------+-------+-------+----------------------+------+--------+--------+------+--------------+----+-----+-----+--------+-----+----------+-------+----+------+--------------+--------------+-------+------------------+------------+-----+-------+--------+-------+------+-------+-------+-----+------+---------+-----+-----------------------------+---------+-------+-------+-----+---------+----+----+-------+------+-----+-------+-----+------+-----+----------+-------+-------+-----+---------+----------+------+--------+-----+------+------+----------+-------+-------+-----+-----------+-----------+-------+------+--------+---------+------+----------------+--------+----+-----------+------+--------+-----------+-----+---------------------------+-------+------+------+------------+-------+------+---------+--------+--------+------------+-----------+------------+-----+------+-----------+-----+------+--------+--------+--------------------------------+-------+------+------+-------+--------------------+--------------+-------------+-------+---------+-------+------------+----------+--------+\n",
            "only showing top 5 rows\n",
            "\n"
          ],
          "name": "stdout"
        }
      ]
    },
    {
      "cell_type": "code",
      "metadata": {
        "id": "P_OFQSrtwX6E",
        "outputId": "94e78c0a-076a-4865-bcc5-6c62e335a292",
        "colab": {
          "base_uri": "https://localhost:8080/"
        }
      },
      "source": [
        "exploded_languages = movies_no_outliers_df.withColumn('exploded', explode(col('LanguagesArray'))).groupby('ID').pivot('exploded').count().na.fill(0)\n",
        "exploded_languages.show(5)"
      ],
      "execution_count": null,
      "outputs": [
        {
          "output_type": "stream",
          "text": [
            "+----+------------------+----------+---------+----+--------+---------+----------------------+-------+----------------+------+---------+-------+--------+--------+--------------------+--------------------+------------------------+------+------+-----+-------+----------------+--------+-------+-----------------------+---------+---------+-------+--------+-------+-------+-----+--------+-----+------+----+-----+----------------+-------+---------+--------+---+--------+-------+-------+------+--------------------+-----+--------+--------+------+-----+-------+--------+-------+-----+--------+--------+------+-----+---------+---------+----------+---------+-----+-------+--------+----------------------+------+-------+-----+-----------+-------+-------+------+------+-------+-----+-------+-------+----------+----------+-------------+----------+-----+---------+-------+--------+--------+-----+----------+-------+----+--------------+-------+------+---------+----+------+------+----+---------------------+---------+------+-------+----------+-------+------+----------+----------+-------+------+-------+----------+--------+-------+-----+-----+---------------+-------+--------------+------------+--------+--------------+---------+-----+------+---------+------+--------------+-------+---------------------+-------+-------+------------+-------+-----+------+-------+----+-------+----+-------+-------+---------+----+----------+-----+-----+-----+-------+------+----+\n",
            "|  ID| Ancient (to 1453)|Aboriginal|Afrikaans|Akan|Albanian|Algonquin|American Sign Language|Amharic|Apache languages|Arabic|Aragonese|Aramaic|Armenian|Assamese|Assyrian Neo-Aramaic|Athapascan languages|Australian Sign Language|Awadhi|Basque|Bemba|Bengali|Berber languages|Bhojpuri|Bosnian|Brazilian Sign Language|Bulgarian|Cantonese|Catalan|Cheyenne|Chinese|Cornish|Creek|Croatian|Czech|Danish|Dari|Dutch|East-Greenlandic|English|Esperanto|Estonian|Ewe|Filipino|Finnish|Flemish|French|French Sign Language|Fulah|Gallegan|Georgian|German|Greek|Guarani|Gujarati|Haitian|Hakka|Haryanvi|Hawaiian|Hebrew|Hindi|Hungarian|Icelandic|Indonesian|Inuktitut|Irish|Italian|Japanese|Japanese Sign Language|Kabyle|Kannada|Khmer|Kinyarwanda|Kirghiz|Klingon|Korean|Kriolu|Kurdish|Latin|Latvian|Lingala|Lithuanian|Low German|Luxembourgish|Macedonian|Malay|Malayalam|Maltese|Mandarin|Manipuri|Maori|Mapudungun|Marathi|Maya|Middle English|Min Nan|Mohawk|Mongolian|Nama|Navajo|Nepali|None|North American Indian|Norwegian|Nyanja|Occitan|Papiamento|Persian|Polish|Polynesian|Portuguese|Punjabi|Pushto|Quechua|Rajasthani|Romanian|Russian|Saami|Scots|Scottish Gaelic|Serbian|Serbo-Croatian|Shanghainese|Sicilian|Sign Languages|Sinhalese|Sioux|Slovak|Slovenian|Somali|Southern Sotho|Spanish|Spanish Sign Language|Swahili|Swedish|Swiss German|Tagalog|Tamil|Telugu|Teochew|Thai|Tibetan|Tupi|Turkish|Turkmen|Ukrainian|Urdu|Vietnamese|Welsh|Wolof|Xhosa|Yiddish|Yoruba|Zulu|\n",
            "+----+------------------+----------+---------+----+--------+---------+----------------------+-------+----------------+------+---------+-------+--------+--------+--------------------+--------------------+------------------------+------+------+-----+-------+----------------+--------+-------+-----------------------+---------+---------+-------+--------+-------+-------+-----+--------+-----+------+----+-----+----------------+-------+---------+--------+---+--------+-------+-------+------+--------------------+-----+--------+--------+------+-----+-------+--------+-------+-----+--------+--------+------+-----+---------+---------+----------+---------+-----+-------+--------+----------------------+------+-------+-----+-----------+-------+-------+------+------+-------+-----+-------+-------+----------+----------+-------------+----------+-----+---------+-------+--------+--------+-----+----------+-------+----+--------------+-------+------+---------+----+------+------+----+---------------------+---------+------+-------+----------+-------+------+----------+----------+-------+------+-------+----------+--------+-------+-----+-----+---------------+-------+--------------+------------+--------+--------------+---------+-----+------+---------+------+--------------+-------+---------------------+-------+-------+------------+-------+-----+------+-------+----+-------+----+-------+-------+---------+----+----------+-----+-----+-----+-------+------+----+\n",
            "|3997|                 0|         0|        0|   0|       0|        0|                     0|      0|               0|     0|        0|      0|       0|       0|                   0|                   0|                       0|     0|     0|    0|      0|               0|       0|      0|                      0|        0|        0|      0|       0|      0|      0|    0|       0|    0|     0|   0|    0|               0|      1|        0|       0|  0|       0|      0|      0|     0|                   0|    0|       0|       0|     0|    0|      0|       0|      0|    0|       0|       0|     0|    0|        0|        0|         0|        0|    0|      0|       0|                     0|     0|      0|    0|          0|      0|      0|     0|     0|      0|    0|      0|      0|         0|         0|            0|         0|    0|        0|      0|       0|       0|    0|         0|      0|   0|             0|      0|     0|        0|   0|     0|     0|   0|                    0|        0|     0|      0|         0|      0|     0|         0|         0|      0|     0|      0|         0|       0|      1|    0|    0|              0|      0|             0|           0|       0|             0|        0|    0|     0|        0|     0|             0|      1|                    0|      0|      0|           0|      0|    0|     0|      0|   0|      0|   0|      0|      0|        0|   0|         0|    0|    0|    0|      0|     0|   0|\n",
            "|6357|                 0|         0|        0|   0|       0|        0|                     0|      0|               0|     0|        0|      0|       0|       0|                   0|                   0|                       0|     0|     0|    0|      0|               0|       0|      0|                      0|        0|        0|      0|       0|      0|      0|    0|       0|    0|     0|   0|    0|               0|      1|        0|       0|  0|       0|      0|      0|     0|                   0|    0|       0|       0|     0|    0|      0|       0|      0|    0|       0|       0|     0|    0|        0|        0|         0|        0|    0|      0|       0|                     0|     0|      0|    0|          0|      0|      0|     0|     0|      0|    0|      0|      0|         0|         0|            0|         0|    0|        0|      0|       0|       0|    0|         0|      0|   0|             0|      0|     0|        0|   0|     0|     0|   0|                    0|        0|     0|      0|         0|      0|     0|         0|         0|      0|     0|      0|         0|       0|      0|    0|    0|              0|      0|             0|           0|       0|             0|        0|    0|     0|        0|     0|             0|      0|                    0|      0|      0|           0|      0|    0|     0|      0|   0|      0|   0|      0|      0|        0|   0|         0|    0|    0|    0|      0|     0|   0|\n",
            "|6620|                 0|         0|        0|   0|       0|        0|                     0|      0|               0|     0|        0|      0|       0|       0|                   0|                   0|                       0|     0|     0|    0|      0|               0|       0|      0|                      0|        0|        0|      0|       0|      1|      0|    0|       0|    0|     0|   0|    0|               0|      1|        0|       0|  0|       0|      0|      0|     0|                   0|    0|       0|       0|     0|    0|      0|       0|      0|    0|       0|       0|     0|    0|        0|        0|         0|        0|    0|      0|       0|                     0|     0|      0|    0|          0|      0|      0|     0|     0|      0|    0|      0|      0|         0|         0|            0|         0|    0|        0|      0|       1|       0|    0|         0|      0|   0|             0|      0|     0|        0|   0|     0|     0|   0|                    0|        0|     0|      0|         0|      0|     0|         0|         0|      0|     0|      0|         0|       0|      0|    0|    0|              0|      0|             0|           0|       0|             0|        0|    0|     0|        0|     0|             0|      0|                    0|      0|      0|           0|      0|    0|     0|      0|   0|      0|   0|      0|      0|        0|   0|         0|    0|    0|    0|      0|     0|   0|\n",
            "| 148|                 0|         0|        0|   0|       0|        0|                     0|      0|               0|     1|        0|      0|       0|       0|                   0|                   0|                       0|     0|     0|    0|      0|               1|       0|      0|                      0|        0|        0|      0|       0|      0|      0|    0|       0|    0|     0|   0|    0|               0|      1|        0|       0|  0|       0|      0|      0|     1|                   0|    0|       0|       0|     0|    0|      0|       0|      0|    0|       0|       0|     0|    0|        0|        0|         0|        0|    0|      0|       1|                     1|     0|      0|    0|          0|      0|      0|     0|     0|      0|    0|      0|      0|         0|         0|            0|         0|    0|        0|      0|       0|       0|    0|         0|      0|   0|             0|      0|     0|        0|   0|     0|     0|   0|                    0|        0|     0|      0|         0|      0|     0|         0|         0|      0|     0|      0|         0|       0|      1|    0|    0|              0|      0|             0|           0|       0|             0|        0|    0|     0|        0|     0|             0|      1|                    0|      0|      0|           0|      0|    0|     0|      0|   0|      0|   0|      0|      0|        0|   0|         0|    0|    0|    0|      0|     0|   0|\n",
            "|4935|                 0|         0|        0|   0|       0|        0|                     0|      0|               0|     0|        0|      0|       0|       0|                   0|                   0|                       0|     0|     0|    0|      0|               0|       0|      0|                      0|        0|        0|      0|       0|      0|      0|    0|       0|    0|     0|   0|    0|               0|      1|        0|       0|  0|       0|      0|      0|     0|                   0|    0|       0|       0|     0|    0|      0|       1|      0|    0|       0|       0|     0|    0|        0|        0|         0|        0|    0|      0|       0|                     0|     0|      0|    0|          0|      0|      0|     0|     0|      0|    0|      0|      0|         0|         0|            0|         0|    0|        0|      0|       0|       0|    0|         0|      0|   0|             0|      0|     0|        0|   0|     0|     0|   0|                    0|        0|     0|      0|         0|      0|     0|         0|         0|      0|     0|      0|         0|       0|      0|    0|    0|              0|      0|             0|           0|       0|             0|        0|    0|     0|        0|     0|             0|      0|                    0|      0|      0|           0|      0|    0|     0|      0|   0|      0|   0|      0|      0|        0|   0|         0|    0|    0|    0|      0|     0|   0|\n",
            "+----+------------------+----------+---------+----+--------+---------+----------------------+-------+----------------+------+---------+-------+--------+--------+--------------------+--------------------+------------------------+------+------+-----+-------+----------------+--------+-------+-----------------------+---------+---------+-------+--------+-------+-------+-----+--------+-----+------+----+-----+----------------+-------+---------+--------+---+--------+-------+-------+------+--------------------+-----+--------+--------+------+-----+-------+--------+-------+-----+--------+--------+------+-----+---------+---------+----------+---------+-----+-------+--------+----------------------+------+-------+-----+-----------+-------+-------+------+------+-------+-----+-------+-------+----------+----------+-------------+----------+-----+---------+-------+--------+--------+-----+----------+-------+----+--------------+-------+------+---------+----+------+------+----+---------------------+---------+------+-------+----------+-------+------+----------+----------+-------+------+-------+----------+--------+-------+-----+-----+---------------+-------+--------------+------------+--------+--------------+---------+-----+------+---------+------+--------------+-------+---------------------+-------+-------+------------+-------+-----+------+-------+----+-------+----+-------+-------+---------+----+----------+-----+-----+-----+-------+------+----+\n",
            "only showing top 5 rows\n",
            "\n"
          ],
          "name": "stdout"
        }
      ]
    },
    {
      "cell_type": "code",
      "metadata": {
        "id": "MpOAxGekESqA",
        "outputId": "ff548649-4026-40af-f4f4-cf5ee67e0ee5",
        "colab": {
          "base_uri": "https://localhost:8080/"
        }
      },
      "source": [
        "movies_exploded = movies_no_outliers_df.join(exploded_genres, 'ID')\n",
        "movies_exploded = movies_exploded.join(exploded_countries,'ID')\n",
        "movies_exploded = movies_exploded.join(exploded_languages,'ID')\n",
        "movies_exploded.show(5)"
      ],
      "execution_count": null,
      "outputs": [
        {
          "output_type": "stream",
          "text": [
            "+-----+--------------------+----+----+-------+----+-----------+-------+-------+-----------------+--------------------+--------------------+--------------------+---------------------+--------------+------+---------+---------+---------+------+-----+-----------+-----+------+-------+---------+-------+------+-----+-------+-------+----+----------+-------+------+-----+-----+---------+--------+---+-------+-----------+-------+-------+---------+---------+-------+-------+-------+----------+-------+-------+-------+----------------------+------+--------+--------+------+--------------+----+-----+-----+--------+-----+----------+-------+----+------+--------------+--------------+-------+------------------+------------+-----+-------+--------+-------+------+-------+-------+-----+------+---------+-----+-----------------------------+---------+-------+-------+-----+---------+----+----+-------+------+-----+-------+-----+------+-----+----------+-------+-------+-----+---------+----------+------+--------+-----+------+------+----------+-------+-------+-----+-----------+-----------+-------+------+--------+---------+------+----------------+--------+----+-----------+------+--------+-----------+-----+---------------------------+-------+------+------+------------+-------+------+---------+--------+--------+------------+-----------+------------+-----+------+-----------+-----+------+--------+--------+--------------------------------+-------+------+------+-------+--------------------+--------------+-------------+-------+---------+-------+------------+----------+--------+------------------+----------+---------+----+--------+---------+----------------------+-------+----------------+------+---------+-------+--------+--------+--------------------+--------------------+------------------------+------+------+-----+-------+----------------+--------+-------+-----------------------+---------+---------+-------+--------+-------+-------+-----+--------+-----+------+----+-----+----------------+-------+---------+--------+---+--------+-------+-------+------+--------------------+-----+--------+--------+------+-----+-------+--------+-------+-----+--------+--------+------+-----+---------+---------+----------+---------+-----+-------+--------+----------------------+------+-------+-----+-----------+-------+-------+------+------+-------+-----+-------+-------+----------+----------+-------------+----------+-----+---------+-------+--------+--------+-----+----------+-------+----+--------------+-------+------+---------+----+------+------+----+---------------------+---------+------+-------+----------+-------+------+----------+----------+-------+------+-------+----------+--------+-------+-----+-----+---------------+-------+--------------+------------+--------+--------------+---------+-----+------+---------+------+--------------+-------+---------------------+-------+-------+------------+-------+-----+------+-------+----+-------+----+-------+-------+---------+----+----------+-----+-----+-----+-------+------+----+\n",
            "|   ID|               Title|Year|IMDb|Netflix|Hulu|Prime Video|Disney+|Runtime|   DirectorsArray|         GenresArray|      CountriesArray|      LanguagesArray|MinimumClassification|RottenTomatoes|Action|Adventure|Animation|Biography|Comedy|Crime|Documentary|Drama|Family|Fantasy|Film-Noir|History|Horror|Music|Musical|Mystery|News|Reality-TV|Romance|Sci-Fi|Short|Sport|Talk-Show|Thriller|War|Western|Afghanistan|Albania|Algeria|Argentina|Australia|Austria|Bahamas|Bahrain|Bangladesh|Belarus|Belgium|Bolivia|Bosnia and Herzegovina|Brazil|Bulgaria|Cambodia|Canada|Cayman Islands|Chad|Chile|China|Colombia|Congo|Costa Rica|Croatia|Cuba|Cyprus|Czech Republic|Czechoslovakia|Denmark|Dominican Republic|East Germany|Egypt|Estonia|Ethiopia|Finland|France|Georgia|Germany|Ghana|Greece|Guatemala|Haiti|Holy See (Vatican City State)|Hong Kong|Hungary|Iceland|India|Indonesia|Iran|Iraq|Ireland|Israel|Italy|Jamaica|Japan|Jordan|Kenya|Kyrgyzstan|Lebanon|Liberia|Libya|Lithuania|Luxembourg|Malawi|Malaysia|Malta|Mexico|Monaco|Montenegro|Morocco|Namibia|Nepal|Netherlands|New Zealand|Nigeria|Norway|Pakistan|Palestine|Panama|Papua New Guinea|Paraguay|Peru|Philippines|Poland|Portugal|Puerto Rico|Qatar|Republic of North Macedonia|Romania|Russia|Rwanda|Saudi Arabia|Senegal|Serbia|Singapore|Slovakia|Slovenia|South Africa|South Korea|Soviet Union|Spain|Sweden|Switzerland|Syria|Taiwan|Tanzania|Thailand|The Democratic Republic Of Congo|Tunisia|Turkey|Uganda|Ukraine|United Arab Emirates|United Kingdom|United States|Uruguay|Venezuela|Vietnam|West Germany|Yugoslavia|Zimbabwe| Ancient (to 1453)|Aboriginal|Afrikaans|Akan|Albanian|Algonquin|American Sign Language|Amharic|Apache languages|Arabic|Aragonese|Aramaic|Armenian|Assamese|Assyrian Neo-Aramaic|Athapascan languages|Australian Sign Language|Awadhi|Basque|Bemba|Bengali|Berber languages|Bhojpuri|Bosnian|Brazilian Sign Language|Bulgarian|Cantonese|Catalan|Cheyenne|Chinese|Cornish|Creek|Croatian|Czech|Danish|Dari|Dutch|East-Greenlandic|English|Esperanto|Estonian|Ewe|Filipino|Finnish|Flemish|French|French Sign Language|Fulah|Gallegan|Georgian|German|Greek|Guarani|Gujarati|Haitian|Hakka|Haryanvi|Hawaiian|Hebrew|Hindi|Hungarian|Icelandic|Indonesian|Inuktitut|Irish|Italian|Japanese|Japanese Sign Language|Kabyle|Kannada|Khmer|Kinyarwanda|Kirghiz|Klingon|Korean|Kriolu|Kurdish|Latin|Latvian|Lingala|Lithuanian|Low German|Luxembourgish|Macedonian|Malay|Malayalam|Maltese|Mandarin|Manipuri|Maori|Mapudungun|Marathi|Maya|Middle English|Min Nan|Mohawk|Mongolian|Nama|Navajo|Nepali|None|North American Indian|Norwegian|Nyanja|Occitan|Papiamento|Persian|Polish|Polynesian|Portuguese|Punjabi|Pushto|Quechua|Rajasthani|Romanian|Russian|Saami|Scots|Scottish Gaelic|Serbian|Serbo-Croatian|Shanghainese|Sicilian|Sign Languages|Sinhalese|Sioux|Slovak|Slovenian|Somali|Southern Sotho|Spanish|Spanish Sign Language|Swahili|Swedish|Swiss German|Tagalog|Tamil|Telugu|Teochew|Thai|Tibetan|Tupi|Turkish|Turkmen|Ukrainian|Urdu|Vietnamese|Welsh|Wolof|Xhosa|Yiddish|Yoruba|Zulu|\n",
            "+-----+--------------------+----+----+-------+----+-----------+-------+-------+-----------------+--------------------+--------------------+--------------------+---------------------+--------------+------+---------+---------+---------+------+-----+-----------+-----+------+-------+---------+-------+------+-----+-------+-------+----+----------+-------+------+-----+-----+---------+--------+---+-------+-----------+-------+-------+---------+---------+-------+-------+-------+----------+-------+-------+-------+----------------------+------+--------+--------+------+--------------+----+-----+-----+--------+-----+----------+-------+----+------+--------------+--------------+-------+------------------+------------+-----+-------+--------+-------+------+-------+-------+-----+------+---------+-----+-----------------------------+---------+-------+-------+-----+---------+----+----+-------+------+-----+-------+-----+------+-----+----------+-------+-------+-----+---------+----------+------+--------+-----+------+------+----------+-------+-------+-----+-----------+-----------+-------+------+--------+---------+------+----------------+--------+----+-----------+------+--------+-----------+-----+---------------------------+-------+------+------+------------+-------+------+---------+--------+--------+------------+-----------+------------+-----+------+-----------+-----+------+--------+--------+--------------------------------+-------+------+------+-------+--------------------+--------------+-------------+-------+---------+-------+------------+----------+--------+------------------+----------+---------+----+--------+---------+----------------------+-------+----------------+------+---------+-------+--------+--------+--------------------+--------------------+------------------------+------+------+-----+-------+----------------+--------+-------+-----------------------+---------+---------+-------+--------+-------+-------+-----+--------+-----+------+----+-----+----------------+-------+---------+--------+---+--------+-------+-------+------+--------------------+-----+--------+--------+------+-----+-------+--------+-------+-----+--------+--------+------+-----+---------+---------+----------+---------+-----+-------+--------+----------------------+------+-------+-----+-----------+-------+-------+------+------+-------+-----+-------+-------+----------+----------+-------------+----------+-----+---------+-------+--------+--------+-----+----------+-------+----+--------------+-------+------+---------+----+------+------+----+---------------------+---------+------+-------+----------+-------+------+----------+----------+-------+------+-------+----------+--------+-------+-----+-----+---------------+-------+--------------+------------+--------+--------------+---------+-----+------+---------+------+--------------+-------+---------------------+-------+-------+------------+-------+-----+------+-------+----+-------+----+-------+-------+---------+----+----------+-----+-----+-----+-------+------+----+\n",
            "| 3918|          Little Joe|2019| 5.9|      0|   1|          0|      0|    105|[Jessica Hausner]|[Drama, Horror, M...|[United Kingdom, ...|           [English]|                   -1|           6.8|     0|        0|        0|        0|     0|    0|          0|    1|     0|      0|        0|      0|     1|    0|      0|      1|   0|         0|      0|     1|    0|    0|        0|       0|  0|      0|          0|      0|      0|        0|        0|      1|      0|      0|         0|      0|      0|      0|                     0|     0|       0|       0|     0|             0|   0|    0|    0|       0|    0|         0|      0|   0|     0|             0|             0|      0|                 0|           0|    0|      0|       0|      0|     0|      0|      1|    0|     0|        0|    0|                            0|        0|      0|      0|    0|        0|   0|   0|      0|     0|    0|      0|    0|     0|    0|         0|      0|      0|    0|        0|         0|     0|       0|    0|     0|     0|         0|      0|      0|    0|          0|          0|      0|     0|       0|        0|     0|               0|       0|   0|          0|     0|       0|          0|    0|                          0|      0|     0|     0|           0|      0|     0|        0|       0|       0|           0|          0|           0|    0|     0|          0|    0|     0|       0|       0|                               0|      0|     0|     0|      0|                   0|             1|            0|      0|        0|      0|           0|         0|       0|                 0|         0|        0|   0|       0|        0|                     0|      0|               0|     0|        0|      0|       0|       0|                   0|                   0|                       0|     0|     0|    0|      0|               0|       0|      0|                      0|        0|        0|      0|       0|      0|      0|    0|       0|    0|     0|   0|    0|               0|      1|        0|       0|  0|       0|      0|      0|     0|                   0|    0|       0|       0|     0|    0|      0|       0|      0|    0|       0|       0|     0|    0|        0|        0|         0|        0|    0|      0|       0|                     0|     0|      0|    0|          0|      0|      0|     0|     0|      0|    0|      0|      0|         0|         0|            0|         0|    0|        0|      0|       0|       0|    0|         0|      0|   0|             0|      0|     0|        0|   0|     0|     0|   0|                    0|        0|     0|      0|         0|      0|     0|         0|         0|      0|     0|      0|         0|       0|      0|    0|    0|              0|      0|             0|           0|       0|             0|        0|    0|     0|        0|     0|             0|      0|                    0|      0|      0|           0|      0|    0|     0|      0|   0|      0|   0|      0|      0|        0|   0|         0|    0|    0|    0|      0|     0|   0|\n",
            "| 3997|      Righteous Kill|2008| 6.0|      0|   1|          0|      0|    101|      [Jon Avnet]|[Crime, Drama, My...|     [United States]|[English, Spanish...|                   18|           1.8|     0|        0|        0|        0|     0|    1|          0|    1|     0|      0|        0|      0|     0|    0|      0|      1|   0|         0|      0|     0|    0|    0|        0|       1|  0|      0|          0|      0|      0|        0|        0|      0|      0|      0|         0|      0|      0|      0|                     0|     0|       0|       0|     0|             0|   0|    0|    0|       0|    0|         0|      0|   0|     0|             0|             0|      0|                 0|           0|    0|      0|       0|      0|     0|      0|      0|    0|     0|        0|    0|                            0|        0|      0|      0|    0|        0|   0|   0|      0|     0|    0|      0|    0|     0|    0|         0|      0|      0|    0|        0|         0|     0|       0|    0|     0|     0|         0|      0|      0|    0|          0|          0|      0|     0|       0|        0|     0|               0|       0|   0|          0|     0|       0|          0|    0|                          0|      0|     0|     0|           0|      0|     0|        0|       0|       0|           0|          0|           0|    0|     0|          0|    0|     0|       0|       0|                               0|      0|     0|     0|      0|                   0|             0|            1|      0|        0|      0|           0|         0|       0|                 0|         0|        0|   0|       0|        0|                     0|      0|               0|     0|        0|      0|       0|       0|                   0|                   0|                       0|     0|     0|    0|      0|               0|       0|      0|                      0|        0|        0|      0|       0|      0|      0|    0|       0|    0|     0|   0|    0|               0|      1|        0|       0|  0|       0|      0|      0|     0|                   0|    0|       0|       0|     0|    0|      0|       0|      0|    0|       0|       0|     0|    0|        0|        0|         0|        0|    0|      0|       0|                     0|     0|      0|    0|          0|      0|      0|     0|     0|      0|    0|      0|      0|         0|         0|            0|         0|    0|        0|      0|       0|       0|    0|         0|      0|   0|             0|      0|     0|        0|   0|     0|     0|   0|                    0|        0|     0|      0|         0|      0|     0|         0|         0|      0|     0|      0|         0|       0|      1|    0|    0|              0|      0|             0|           0|       0|             0|        0|    0|     0|        0|     0|             0|      1|                    0|      0|      0|           0|      0|    0|     0|      0|   0|      0|   0|      0|      0|        0|   0|         0|    0|    0|    0|      0|     0|   0|\n",
            "|  471|              Neruda|2016| 6.9|      1|   0|          0|      0|    107|  [Pablo Larraín]|[Biography, Crime...|[Chile, Argentina...|[Spanish, French,...|                   18|           9.3|     0|        0|        0|        1|     0|    1|          0|    1|     0|      0|        0|      1|     0|    0|      0|      0|   0|         0|      0|     0|    0|    0|        0|       1|  0|      0|          0|      0|      0|        1|        0|      0|      0|      0|         0|      0|      0|      0|                     0|     0|       0|       0|     0|             0|   0|    1|    0|       0|    0|         0|      0|   0|     0|             0|             0|      0|                 0|           0|    0|      0|       0|      0|     1|      0|      0|    0|     0|        0|    0|                            0|        0|      0|      0|    0|        0|   0|   0|      0|     0|    0|      0|    0|     0|    0|         0|      0|      0|    0|        0|         0|     0|       0|    0|     0|     0|         0|      0|      0|    0|          0|          0|      0|     0|       0|        0|     0|               0|       0|   0|          0|     0|       0|          0|    0|                          0|      0|     0|     0|           0|      0|     0|        0|       0|       0|           0|          0|           0|    1|     0|          0|    0|     0|       0|       0|                               0|      0|     0|     0|      0|                   0|             0|            1|      0|        0|      0|           0|         0|       0|                 0|         0|        0|   0|       0|        0|                     0|      0|               0|     0|        0|      0|       0|       0|                   0|                   0|                       0|     0|     0|    0|      0|               0|       0|      0|                      0|        0|        0|      0|       0|      0|      0|    0|       0|    0|     0|   0|    1|               0|      0|        0|       0|  0|       0|      0|      0|     1|                   0|    0|       0|       0|     0|    0|      0|       0|      0|    0|       0|       0|     0|    0|        0|        0|         0|        0|    0|      0|       0|                     0|     0|      0|    0|          0|      0|      0|     0|     0|      0|    0|      0|      0|         0|         0|            0|         0|    0|        0|      0|       0|       0|    0|         1|      0|   0|             0|      0|     0|        0|   0|     0|     0|   0|                    0|        0|     0|      0|         0|      0|     0|         0|         0|      0|     0|      0|         0|       0|      0|    0|    0|              0|      0|             0|           0|       0|             0|        0|    0|     0|        0|     0|             0|      1|                    0|      0|      0|           0|      0|    0|     0|      0|   0|      0|   0|      0|      0|        0|   0|         0|    0|    0|    0|      0|     0|   0|\n",
            "|  496|             Bandits|2001| 6.5|      1|   0|          1|      0|    123| [Barry Levinson]|[Comedy, Crime, D...|     [United States]|           [English]|                   13|           6.4|     0|        0|        0|        0|     1|    1|          0|    1|     0|      0|        0|      0|     0|    0|      0|      0|   0|         0|      1|     0|    0|    0|        0|       0|  0|      0|          0|      0|      0|        0|        0|      0|      0|      0|         0|      0|      0|      0|                     0|     0|       0|       0|     0|             0|   0|    0|    0|       0|    0|         0|      0|   0|     0|             0|             0|      0|                 0|           0|    0|      0|       0|      0|     0|      0|      0|    0|     0|        0|    0|                            0|        0|      0|      0|    0|        0|   0|   0|      0|     0|    0|      0|    0|     0|    0|         0|      0|      0|    0|        0|         0|     0|       0|    0|     0|     0|         0|      0|      0|    0|          0|          0|      0|     0|       0|        0|     0|               0|       0|   0|          0|     0|       0|          0|    0|                          0|      0|     0|     0|           0|      0|     0|        0|       0|       0|           0|          0|           0|    0|     0|          0|    0|     0|       0|       0|                               0|      0|     0|     0|      0|                   0|             0|            1|      0|        0|      0|           0|         0|       0|                 0|         0|        0|   0|       0|        0|                     0|      0|               0|     0|        0|      0|       0|       0|                   0|                   0|                       0|     0|     0|    0|      0|               0|       0|      0|                      0|        0|        0|      0|       0|      0|      0|    0|       0|    0|     0|   0|    0|               0|      1|        0|       0|  0|       0|      0|      0|     0|                   0|    0|       0|       0|     0|    0|      0|       0|      0|    0|       0|       0|     0|    0|        0|        0|         0|        0|    0|      0|       0|                     0|     0|      0|    0|          0|      0|      0|     0|     0|      0|    0|      0|      0|         0|         0|            0|         0|    0|        0|      0|       0|       0|    0|         0|      0|   0|             0|      0|     0|        0|   0|     0|     0|   0|                    0|        0|     0|      0|         0|      0|     0|         0|         0|      0|     0|      0|         0|       0|      0|    0|    0|              0|      0|             0|           0|       0|             0|        0|    0|     0|        0|     0|             0|      0|                    0|      0|      0|           0|      0|    0|     0|      0|   0|      0|   0|      0|      0|        0|   0|         0|    0|    0|    0|      0|     0|   0|\n",
            "|16503|Honey I Blew Up t...|1992| 4.8|      0|   0|          0|      1|     89| [Randal Kleiser]|[Adventure, Comed...|     [United States]|           [English]|                    7|           4.0|     0|        1|        0|        0|     1|    0|          0|    0|     1|      0|        0|      0|     0|    0|      0|      0|   0|         0|      1|     1|    0|    0|        0|       0|  0|      0|          0|      0|      0|        0|        0|      0|      0|      0|         0|      0|      0|      0|                     0|     0|       0|       0|     0|             0|   0|    0|    0|       0|    0|         0|      0|   0|     0|             0|             0|      0|                 0|           0|    0|      0|       0|      0|     0|      0|      0|    0|     0|        0|    0|                            0|        0|      0|      0|    0|        0|   0|   0|      0|     0|    0|      0|    0|     0|    0|         0|      0|      0|    0|        0|         0|     0|       0|    0|     0|     0|         0|      0|      0|    0|          0|          0|      0|     0|       0|        0|     0|               0|       0|   0|          0|     0|       0|          0|    0|                          0|      0|     0|     0|           0|      0|     0|        0|       0|       0|           0|          0|           0|    0|     0|          0|    0|     0|       0|       0|                               0|      0|     0|     0|      0|                   0|             0|            1|      0|        0|      0|           0|         0|       0|                 0|         0|        0|   0|       0|        0|                     0|      0|               0|     0|        0|      0|       0|       0|                   0|                   0|                       0|     0|     0|    0|      0|               0|       0|      0|                      0|        0|        0|      0|       0|      0|      0|    0|       0|    0|     0|   0|    0|               0|      1|        0|       0|  0|       0|      0|      0|     0|                   0|    0|       0|       0|     0|    0|      0|       0|      0|    0|       0|       0|     0|    0|        0|        0|         0|        0|    0|      0|       0|                     0|     0|      0|    0|          0|      0|      0|     0|     0|      0|    0|      0|      0|         0|         0|            0|         0|    0|        0|      0|       0|       0|    0|         0|      0|   0|             0|      0|     0|        0|   0|     0|     0|   0|                    0|        0|     0|      0|         0|      0|     0|         0|         0|      0|     0|      0|         0|       0|      0|    0|    0|              0|      0|             0|           0|       0|             0|        0|    0|     0|        0|     0|             0|      0|                    0|      0|      0|           0|      0|    0|     0|      0|   0|      0|   0|      0|      0|        0|   0|         0|    0|    0|    0|      0|     0|   0|\n",
            "+-----+--------------------+----+----+-------+----+-----------+-------+-------+-----------------+--------------------+--------------------+--------------------+---------------------+--------------+------+---------+---------+---------+------+-----+-----------+-----+------+-------+---------+-------+------+-----+-------+-------+----+----------+-------+------+-----+-----+---------+--------+---+-------+-----------+-------+-------+---------+---------+-------+-------+-------+----------+-------+-------+-------+----------------------+------+--------+--------+------+--------------+----+-----+-----+--------+-----+----------+-------+----+------+--------------+--------------+-------+------------------+------------+-----+-------+--------+-------+------+-------+-------+-----+------+---------+-----+-----------------------------+---------+-------+-------+-----+---------+----+----+-------+------+-----+-------+-----+------+-----+----------+-------+-------+-----+---------+----------+------+--------+-----+------+------+----------+-------+-------+-----+-----------+-----------+-------+------+--------+---------+------+----------------+--------+----+-----------+------+--------+-----------+-----+---------------------------+-------+------+------+------------+-------+------+---------+--------+--------+------------+-----------+------------+-----+------+-----------+-----+------+--------+--------+--------------------------------+-------+------+------+-------+--------------------+--------------+-------------+-------+---------+-------+------------+----------+--------+------------------+----------+---------+----+--------+---------+----------------------+-------+----------------+------+---------+-------+--------+--------+--------------------+--------------------+------------------------+------+------+-----+-------+----------------+--------+-------+-----------------------+---------+---------+-------+--------+-------+-------+-----+--------+-----+------+----+-----+----------------+-------+---------+--------+---+--------+-------+-------+------+--------------------+-----+--------+--------+------+-----+-------+--------+-------+-----+--------+--------+------+-----+---------+---------+----------+---------+-----+-------+--------+----------------------+------+-------+-----+-----------+-------+-------+------+------+-------+-----+-------+-------+----------+----------+-------------+----------+-----+---------+-------+--------+--------+-----+----------+-------+----+--------------+-------+------+---------+----+------+------+----+---------------------+---------+------+-------+----------+-------+------+----------+----------+-------+------+-------+----------+--------+-------+-----+-----+---------------+-------+--------------+------------+--------+--------------+---------+-----+------+---------+------+--------------+-------+---------------------+-------+-------+------------+-------+-----+------+-------+----+-------+----+-------+-------+---------+----+----------+-----+-----+-----+-------+------+----+\n",
            "only showing top 5 rows\n",
            "\n"
          ],
          "name": "stdout"
        }
      ]
    },
    {
      "cell_type": "markdown",
      "metadata": {
        "id": "LnE62TLWqT-j"
      },
      "source": [
        "Vamos dropar as colunas que não queremos que participem das regressões e as colunas com os arrays que acabamos de explodir."
      ]
    },
    {
      "cell_type": "code",
      "metadata": {
        "id": "gx2_3JJl_GoH",
        "outputId": "8bc990e6-3b7d-42d4-dc15-a16b0ffe44f7",
        "colab": {
          "base_uri": "https://localhost:8080/",
          "height": 278
        }
      },
      "source": [
        "movies_data = movies_exploded.toPandas()\n",
        "movies_data = movies_data.drop(['LanguagesArray', 'CountriesArray', 'DirectorsArray', 'GenresArray', 'ID', 'Title'], axis = 1)\n",
        "movies_data.head(5)"
      ],
      "execution_count": null,
      "outputs": [
        {
          "output_type": "execute_result",
          "data": {
            "text/html": [
              "<div>\n",
              "<style scoped>\n",
              "    .dataframe tbody tr th:only-of-type {\n",
              "        vertical-align: middle;\n",
              "    }\n",
              "\n",
              "    .dataframe tbody tr th {\n",
              "        vertical-align: top;\n",
              "    }\n",
              "\n",
              "    .dataframe thead th {\n",
              "        text-align: right;\n",
              "    }\n",
              "</style>\n",
              "<table border=\"1\" class=\"dataframe\">\n",
              "  <thead>\n",
              "    <tr style=\"text-align: right;\">\n",
              "      <th></th>\n",
              "      <th>Year</th>\n",
              "      <th>IMDb</th>\n",
              "      <th>Netflix</th>\n",
              "      <th>Hulu</th>\n",
              "      <th>Prime Video</th>\n",
              "      <th>Disney+</th>\n",
              "      <th>Runtime</th>\n",
              "      <th>MinimumClassification</th>\n",
              "      <th>RottenTomatoes</th>\n",
              "      <th>Action</th>\n",
              "      <th>...</th>\n",
              "      <th>Turkmen</th>\n",
              "      <th>Ukrainian</th>\n",
              "      <th>Urdu</th>\n",
              "      <th>Vietnamese</th>\n",
              "      <th>Welsh</th>\n",
              "      <th>Wolof</th>\n",
              "      <th>Xhosa</th>\n",
              "      <th>Yiddish</th>\n",
              "      <th>Yoruba</th>\n",
              "      <th>Zulu</th>\n",
              "    </tr>\n",
              "  </thead>\n",
              "  <tbody>\n",
              "    <tr>\n",
              "      <th>0</th>\n",
              "      <td>2019</td>\n",
              "      <td>5.9</td>\n",
              "      <td>0</td>\n",
              "      <td>1</td>\n",
              "      <td>0</td>\n",
              "      <td>0</td>\n",
              "      <td>105</td>\n",
              "      <td>-1</td>\n",
              "      <td>6.8</td>\n",
              "      <td>0</td>\n",
              "      <td>...</td>\n",
              "      <td>0</td>\n",
              "      <td>0</td>\n",
              "      <td>0</td>\n",
              "      <td>0</td>\n",
              "      <td>0</td>\n",
              "      <td>0</td>\n",
              "      <td>0</td>\n",
              "      <td>0</td>\n",
              "      <td>0</td>\n",
              "      <td>0</td>\n",
              "    </tr>\n",
              "    <tr>\n",
              "      <th>1</th>\n",
              "      <td>2008</td>\n",
              "      <td>6.0</td>\n",
              "      <td>0</td>\n",
              "      <td>1</td>\n",
              "      <td>0</td>\n",
              "      <td>0</td>\n",
              "      <td>101</td>\n",
              "      <td>18</td>\n",
              "      <td>1.8</td>\n",
              "      <td>0</td>\n",
              "      <td>...</td>\n",
              "      <td>0</td>\n",
              "      <td>0</td>\n",
              "      <td>0</td>\n",
              "      <td>0</td>\n",
              "      <td>0</td>\n",
              "      <td>0</td>\n",
              "      <td>0</td>\n",
              "      <td>0</td>\n",
              "      <td>0</td>\n",
              "      <td>0</td>\n",
              "    </tr>\n",
              "    <tr>\n",
              "      <th>2</th>\n",
              "      <td>2016</td>\n",
              "      <td>6.9</td>\n",
              "      <td>1</td>\n",
              "      <td>0</td>\n",
              "      <td>0</td>\n",
              "      <td>0</td>\n",
              "      <td>107</td>\n",
              "      <td>18</td>\n",
              "      <td>9.3</td>\n",
              "      <td>0</td>\n",
              "      <td>...</td>\n",
              "      <td>0</td>\n",
              "      <td>0</td>\n",
              "      <td>0</td>\n",
              "      <td>0</td>\n",
              "      <td>0</td>\n",
              "      <td>0</td>\n",
              "      <td>0</td>\n",
              "      <td>0</td>\n",
              "      <td>0</td>\n",
              "      <td>0</td>\n",
              "    </tr>\n",
              "    <tr>\n",
              "      <th>3</th>\n",
              "      <td>2001</td>\n",
              "      <td>6.5</td>\n",
              "      <td>1</td>\n",
              "      <td>0</td>\n",
              "      <td>1</td>\n",
              "      <td>0</td>\n",
              "      <td>123</td>\n",
              "      <td>13</td>\n",
              "      <td>6.4</td>\n",
              "      <td>0</td>\n",
              "      <td>...</td>\n",
              "      <td>0</td>\n",
              "      <td>0</td>\n",
              "      <td>0</td>\n",
              "      <td>0</td>\n",
              "      <td>0</td>\n",
              "      <td>0</td>\n",
              "      <td>0</td>\n",
              "      <td>0</td>\n",
              "      <td>0</td>\n",
              "      <td>0</td>\n",
              "    </tr>\n",
              "    <tr>\n",
              "      <th>4</th>\n",
              "      <td>1992</td>\n",
              "      <td>4.8</td>\n",
              "      <td>0</td>\n",
              "      <td>0</td>\n",
              "      <td>0</td>\n",
              "      <td>1</td>\n",
              "      <td>89</td>\n",
              "      <td>7</td>\n",
              "      <td>4.0</td>\n",
              "      <td>0</td>\n",
              "      <td>...</td>\n",
              "      <td>0</td>\n",
              "      <td>0</td>\n",
              "      <td>0</td>\n",
              "      <td>0</td>\n",
              "      <td>0</td>\n",
              "      <td>0</td>\n",
              "      <td>0</td>\n",
              "      <td>0</td>\n",
              "      <td>0</td>\n",
              "      <td>0</td>\n",
              "    </tr>\n",
              "  </tbody>\n",
              "</table>\n",
              "<p>5 rows × 310 columns</p>\n",
              "</div>"
            ],
            "text/plain": [
              "   Year  IMDb  Netflix  Hulu  Prime Video  Disney+  Runtime  \\\n",
              "0  2019   5.9        0     1            0        0      105   \n",
              "1  2008   6.0        0     1            0        0      101   \n",
              "2  2016   6.9        1     0            0        0      107   \n",
              "3  2001   6.5        1     0            1        0      123   \n",
              "4  1992   4.8        0     0            0        1       89   \n",
              "\n",
              "   MinimumClassification  RottenTomatoes  Action  ...  Turkmen  Ukrainian  \\\n",
              "0                     -1             6.8       0  ...        0          0   \n",
              "1                     18             1.8       0  ...        0          0   \n",
              "2                     18             9.3       0  ...        0          0   \n",
              "3                     13             6.4       0  ...        0          0   \n",
              "4                      7             4.0       0  ...        0          0   \n",
              "\n",
              "   Urdu  Vietnamese  Welsh  Wolof  Xhosa  Yiddish  Yoruba  Zulu  \n",
              "0     0           0      0      0      0        0       0     0  \n",
              "1     0           0      0      0      0        0       0     0  \n",
              "2     0           0      0      0      0        0       0     0  \n",
              "3     0           0      0      0      0        0       0     0  \n",
              "4     0           0      0      0      0        0       0     0  \n",
              "\n",
              "[5 rows x 310 columns]"
            ]
          },
          "metadata": {
            "tags": []
          },
          "execution_count": 33
        }
      ]
    },
    {
      "cell_type": "markdown",
      "metadata": {
        "id": "Fbgq828v6B5F"
      },
      "source": [
        "Vamos separar o dataset com as variaveis independentes e target\n",
        "\n"
      ]
    },
    {
      "cell_type": "code",
      "metadata": {
        "id": "HKvsKKdb6A4z"
      },
      "source": [
        "X = movies_data.drop('IMDb', axis=1)\n",
        "y = movies_data['IMDb']"
      ],
      "execution_count": null,
      "outputs": []
    },
    {
      "cell_type": "markdown",
      "metadata": {
        "id": "2A_YnhAOTqRX"
      },
      "source": [
        "##### Análise de mutual information"
      ]
    },
    {
      "cell_type": "markdown",
      "metadata": {
        "id": "wXPTRHl56q2s"
      },
      "source": [
        "Analisaremos agora o mutual information entre as features e target e removeremos todas as features que possuem mutual information de 0."
      ]
    },
    {
      "cell_type": "code",
      "metadata": {
        "id": "4DnL5AX1574K",
        "outputId": "4a24114a-b611-4fd0-c01d-78891f9651b9",
        "colab": {
          "base_uri": "https://localhost:8080/"
        }
      },
      "source": [
        "from sklearn.feature_selection import mutual_info_regression\n",
        "import pandas as pd\n",
        "import numpy as np\n",
        "\n",
        "mi = mutual_info_regression(X, y)\n",
        "mi = pd.Series(mi)\n",
        "mi.index = X.columns\n",
        "\n",
        "df = pd.DataFrame(mi, columns=['mutual_information_score'])\n",
        "no_mutual_information = df[(df['mutual_information_score'] == 0) | (df['mutual_information_score'] == None)]\n",
        "no_mutual_information_features = no_mutual_information.index\n",
        "no_mutual_information_features"
      ],
      "execution_count": null,
      "outputs": [
        {
          "output_type": "execute_result",
          "data": {
            "text/plain": [
              "Index(['Disney+', 'Adventure', 'Animation', 'Music', 'Reality-TV', 'Sci-Fi',\n",
              "       'Short', 'Thriller', 'Afghanistan', 'Albania',\n",
              "       ...\n",
              "       'Tagalog', 'Tamil', 'Thai', 'Tupi', 'Turkmen', 'Urdu', 'Vietnamese',\n",
              "       'Welsh', 'Yiddish', 'Yoruba'],\n",
              "      dtype='object', length=162)"
            ]
          },
          "metadata": {
            "tags": []
          },
          "execution_count": 38
        }
      ]
    },
    {
      "cell_type": "code",
      "metadata": {
        "id": "XadagdMC6-mS",
        "outputId": "065f9137-19d1-4533-f39e-0f8610d03263",
        "colab": {
          "base_uri": "https://localhost:8080/"
        }
      },
      "source": [
        "movies_data.shape"
      ],
      "execution_count": null,
      "outputs": [
        {
          "output_type": "execute_result",
          "data": {
            "text/plain": [
              "(5014, 310)"
            ]
          },
          "metadata": {
            "tags": []
          },
          "execution_count": 39
        }
      ]
    },
    {
      "cell_type": "code",
      "metadata": {
        "id": "nwo6h8ZH582x",
        "outputId": "56943ff7-d19a-420e-8db4-e79a34b7ebf4",
        "colab": {
          "base_uri": "https://localhost:8080/"
        }
      },
      "source": [
        "movies_data_no_mi = movies_data.drop(no_mutual_information_features, axis = 1)\n",
        "movies_data_no_mi.shape"
      ],
      "execution_count": null,
      "outputs": [
        {
          "output_type": "execute_result",
          "data": {
            "text/plain": [
              "(5014, 148)"
            ]
          },
          "metadata": {
            "tags": []
          },
          "execution_count": 40
        }
      ]
    },
    {
      "cell_type": "markdown",
      "metadata": {
        "id": "tlWAnL3V7qIX"
      },
      "source": [
        "Removemos entao mais de 150 features que não tinha dependência com nosso target (nota IMDb)."
      ]
    },
    {
      "cell_type": "code",
      "metadata": {
        "id": "a91Z86Lr659x"
      },
      "source": [
        "movies_data = movies_data_no_mi\n",
        "X = movies_data.drop('IMDb', axis=1)\n",
        "y = movies_data['IMDb']"
      ],
      "execution_count": null,
      "outputs": []
    },
    {
      "cell_type": "markdown",
      "metadata": {
        "id": "2xCuE4rKqyQg"
      },
      "source": [
        "#### Separando dados para treinamento e teste"
      ]
    },
    {
      "cell_type": "markdown",
      "metadata": {
        "id": "JXYRtZnEq-9u"
      },
      "source": [
        "Fazendo uso da função `train_test_split` do `sklean`, iremos separar o dataset para 1/3 de teste e o resto de treinamento."
      ]
    },
    {
      "cell_type": "code",
      "metadata": {
        "id": "2_3hqB0iQ6m0"
      },
      "source": [
        "from sklearn.model_selection import train_test_split\n",
        "\n",
        "X_train, X_test, y_train, y_test = train_test_split(X, y, test_size=0.33, random_state=0)"
      ],
      "execution_count": null,
      "outputs": []
    },
    {
      "cell_type": "markdown",
      "metadata": {
        "id": "JTPIgyR8rVsQ"
      },
      "source": [
        "#### Algoritmos"
      ]
    },
    {
      "cell_type": "markdown",
      "metadata": {
        "id": "CHd_ubRoa7Zx"
      },
      "source": [
        "Os scores para todos os algortimos foram bem parecido mostrando que existe uma variância em média de 50% nos dados. Analisando os erros podemos notar uma média de 0.7, o que pode ser considerado algo bom, já que as notas vão de 0 a 10, uma predição com esse erro seria algo bem aceitável.\n",
        "Já o RMSE, podemos notar que o menor é do algoritmo XXX, isso pode implicar que ele é um bom candidato a ser o melhor dos 4, mas pegando o R2 .... (CONTINUAR)"
      ]
    },
    {
      "cell_type": "markdown",
      "metadata": {
        "id": "0KfWVPJRrYWq"
      },
      "source": [
        "##### Linear Regression"
      ]
    },
    {
      "cell_type": "code",
      "metadata": {
        "id": "WgbiM93GQdvo",
        "outputId": "3e3eaa51-96c5-4eaf-c9c6-abfb0aa5e1dd",
        "colab": {
          "base_uri": "https://localhost:8080/",
          "height": 313
        }
      },
      "source": [
        "from sklearn.linear_model import LinearRegression\n",
        "\n",
        "linearRegression = LinearRegression()\n",
        "linearRegressionName = 'LinearRegression'\n",
        "\n",
        "run_experiment_with_model(linearRegression, linearRegressionName, X_train, y_train, X_test, y_test)"
      ],
      "execution_count": null,
      "outputs": [
        {
          "output_type": "stream",
          "text": [
            "INFO: 'MovieIt-LinearRegression' does not exist. Creating a new experiment\n",
            "LinearRegression\n",
            "  RMSE: 0.6789980933524379\n",
            "  MAE: 0.522750846929406\n",
            "  R2: 0.5174392779554156\n"
          ],
          "name": "stdout"
        },
        {
          "output_type": "display_data",
          "data": {
            "image/png": "[encoded data removed]",
            "text/plain": [
              "<Figure size 432x288 with 1 Axes>"
            ]
          },
          "metadata": {
            "tags": [],
            "needs_background": "light"
          }
        }
      ]
    },
    {
      "cell_type": "markdown",
      "metadata": {
        "id": "DMwiVdUxtZtK"
      },
      "source": [
        "##### Decision Tree Regressor"
      ]
    },
    {
      "cell_type": "code",
      "metadata": {
        "id": "zA9OWXG7k6u8",
        "outputId": "c0e1e5c9-104b-48b4-b744-1a1643eab973",
        "colab": {
          "base_uri": "https://localhost:8080/"
        }
      },
      "source": [
        "from sklearn.tree import DecisionTreeRegressor\n",
        "\n",
        "decisionTree = DecisionTreeRegressor()\n",
        "decisionTreeName = 'DecisionTreeRegressor'\n",
        "\n",
        "run_experiment_with_model(decisionTree, decisionTreeName, X_train, y_train, X_test, y_test)"
      ],
      "execution_count": null,
      "outputs": [
        {
          "output_type": "stream",
          "text": [
            "INFO: 'MovieIt-DecisionTreeRegressor' does not exist. Creating a new experiment\n",
            "DecisionTreeRegressor\n",
            "  RMSE: 0.9482787714584734\n",
            "  MAE: 0.71595166163142\n",
            "  R2: 0.05878916744581186\n"
          ],
          "name": "stdout"
        },
        {
          "output_type": "display_data",
          "data": {
            "image/png": "[encoded data removed]",
            "text/plain": [
              "<Figure size 432x288 with 1 Axes>"
            ]
          },
          "metadata": {
            "tags": [],
            "needs_background": "light"
          }
        }
      ]
    },
    {
      "cell_type": "markdown",
      "metadata": {
        "id": "EOzogOFStosS"
      },
      "source": [
        "##### MLPRegressor"
      ]
    },
    {
      "cell_type": "code",
      "metadata": {
        "id": "w696n-TYuyPE"
      },
      "source": [
        "from sklearn.neural_network import MLPRegressor\n",
        "\n",
        "mlpRegressor = MLPRegressor()  \n",
        "mlpRegressorName = 'MLPRegressor'\n",
        "\n",
        "\n",
        "run_experiment_with_model(mlpRegressor, mlpRegressorName, X_train, y_train, X_test, y_test)"
      ],
      "execution_count": null,
      "outputs": []
    },
    {
      "cell_type": "markdown",
      "metadata": {
        "id": "KGgYQhq5tz0S"
      },
      "source": [
        "##### RandomForest"
      ]
    },
    {
      "cell_type": "code",
      "metadata": {
        "id": "ueFrVRPkRNVq"
      },
      "source": [
        "from sklearn.ensemble import RandomForestRegressor\n",
        "\n",
        "randomForest = RandomForestRegressor()\n",
        "randomForestName = 'RandomForestRegressor'\n",
        "\n",
        "\n",
        "run_experiment_with_model(randomForest, randomForestName, X_train, y_train, X_test, y_test)"
      ],
      "execution_count": null,
      "outputs": []
    },
    {
      "cell_type": "markdown",
      "metadata": {
        "id": "r_d6OiRoOrBx"
      },
      "source": [
        "### Seleção de Hiper Parâmetros"
      ]
    },
    {
      "cell_type": "markdown",
      "metadata": {
        "id": "pzK8VemJVuBm"
      },
      "source": [
        "Para seleção dos hiper parâmetros dos algortimos iremos utilizar a ferramenta `optuna`, ela nos permite escolher os hiper parâmetros assim como seus valores para cada iteração."
      ]
    },
    {
      "cell_type": "code",
      "metadata": {
        "id": "njoyBvoeOrBx",
        "outputId": "e620d89b-c3b0-4135-a2c4-748bd6b6ca28"
      },
      "source": [
        "!pip install optuna"
      ],
      "execution_count": null,
      "outputs": [
        {
          "output_type": "stream",
          "text": [
            "Defaulting to user installation because normal site-packages is not writeable\n",
            "Requirement already satisfied: optuna in /home/jonatas-clementino/.local/lib/python3.8/site-packages (2.3.0)\n",
            "Requirement already satisfied: sqlalchemy>=1.1.0 in /home/jonatas-clementino/.local/lib/python3.8/site-packages (from optuna) (1.3.20)\n",
            "Requirement already satisfied: cliff in /home/jonatas-clementino/.local/lib/python3.8/site-packages (from optuna) (3.5.0)\n",
            "Requirement already satisfied: packaging>=20.0 in /home/jonatas-clementino/.local/lib/python3.8/site-packages (from optuna) (20.4)\n",
            "Requirement already satisfied: cmaes>=0.6.0 in /home/jonatas-clementino/.local/lib/python3.8/site-packages (from optuna) (0.7.0)\n",
            "Requirement already satisfied: alembic in /home/jonatas-clementino/.local/lib/python3.8/site-packages (from optuna) (1.4.1)\n",
            "Requirement already satisfied: joblib in /home/jonatas-clementino/.local/lib/python3.8/site-packages (from optuna) (0.17.0)\n",
            "Requirement already satisfied: numpy in /home/jonatas-clementino/.local/lib/python3.8/site-packages (from optuna) (1.19.4)\n",
            "Requirement already satisfied: tqdm in /home/jonatas-clementino/.local/lib/python3.8/site-packages (from optuna) (4.51.0)\n",
            "Requirement already satisfied: scipy!=1.4.0 in /home/jonatas-clementino/.local/lib/python3.8/site-packages (from optuna) (1.5.4)\n",
            "Requirement already satisfied: colorlog in /home/jonatas-clementino/.local/lib/python3.8/site-packages (from optuna) (4.6.2)\n",
            "Requirement already satisfied: cmd2!=0.8.3,>=0.8.0 in /home/jonatas-clementino/.local/lib/python3.8/site-packages (from cliff->optuna) (1.4.0)\n",
            "Requirement already satisfied: pbr!=2.1.0,>=2.0.0 in /home/jonatas-clementino/.local/lib/python3.8/site-packages (from cliff->optuna) (5.5.1)\n",
            "Requirement already satisfied: stevedore>=2.0.1 in /home/jonatas-clementino/.local/lib/python3.8/site-packages (from cliff->optuna) (3.2.2)\n",
            "Requirement already satisfied: six>=1.10.0 in /usr/lib/python3/dist-packages (from cliff->optuna) (1.14.0)\n",
            "Requirement already satisfied: PrettyTable<0.8,>=0.7.2 in /home/jonatas-clementino/.local/lib/python3.8/site-packages (from cliff->optuna) (0.7.2)\n",
            "Requirement already satisfied: pyparsing>=2.1.0 in /home/jonatas-clementino/.local/lib/python3.8/site-packages (from cliff->optuna) (2.4.7)\n",
            "Requirement already satisfied: PyYAML>=3.12 in /usr/lib/python3/dist-packages (from cliff->optuna) (5.3.1)\n",
            "Requirement already satisfied: python-dateutil in /usr/lib/python3/dist-packages (from alembic->optuna) (2.7.3)\n",
            "Requirement already satisfied: python-editor>=0.3 in /home/jonatas-clementino/.local/lib/python3.8/site-packages (from alembic->optuna) (1.0.4)\n",
            "Requirement already satisfied: Mako in /home/jonatas-clementino/.local/lib/python3.8/site-packages (from alembic->optuna) (1.1.3)\n",
            "Requirement already satisfied: colorama>=0.3.7 in /usr/lib/python3/dist-packages (from cmd2!=0.8.3,>=0.8.0->cliff->optuna) (0.4.3)\n",
            "Requirement already satisfied: pyperclip>=1.6 in /home/jonatas-clementino/.local/lib/python3.8/site-packages (from cmd2!=0.8.3,>=0.8.0->cliff->optuna) (1.8.1)\n",
            "Requirement already satisfied: attrs>=16.3.0 in /home/jonatas-clementino/.local/lib/python3.8/site-packages (from cmd2!=0.8.3,>=0.8.0->cliff->optuna) (20.3.0)\n",
            "Requirement already satisfied: wcwidth>=0.1.7 in /home/jonatas-clementino/.local/lib/python3.8/site-packages (from cmd2!=0.8.3,>=0.8.0->cliff->optuna) (0.2.5)\n",
            "Requirement already satisfied: MarkupSafe>=0.9.2 in /home/jonatas-clementino/.local/lib/python3.8/site-packages (from Mako->alembic->optuna) (1.1.1)\n",
            "\u001b[33mWARNING: You are using pip version 20.2.3; however, version 20.2.4 is available.\n",
            "You should consider upgrading via the '/usr/bin/python3 -m pip install --upgrade pip' command.\u001b[0m\n"
          ],
          "name": "stdout"
        }
      ]
    },
    {
      "cell_type": "markdown",
      "metadata": {
        "id": "7ZMVgUtwWFGm"
      },
      "source": [
        "Hiper parâmetros utilizados:\n",
        "\n",
        "1. Linear \n",
        "2. MLP\n",
        "    * função de ativação\n",
        "    * taxa de aprendizado\n",
        "    * número de épocas\n",
        "3.  Decision Tree\n",
        "    * profundidade max da árvore\n",
        "    * número de amostras para separar o nó interno\n",
        "4. Random Forest\n",
        "    * número de árvores\n",
        "    * profundidade max da árvore\n",
        "\n",
        "\n",
        "\n",
        "\n"
      ]
    },
    {
      "cell_type": "code",
      "metadata": {
        "id": "2ZGoEFJZOrBz",
        "outputId": "ba58a715-7fa6-411e-820d-049ac585ffef"
      },
      "source": [
        "import optuna\n",
        "from sklearn.linear_model import LinearRegression\n",
        "from sklearn.neural_network import MLPRegressor\n",
        "from sklearn.tree import DecisionTreeRegressor\n",
        "from sklearn.ensemble import RandomForestRegressor\n",
        "\n",
        "from sklearn.metrics import mean_absolute_error, mean_squared_error, r2_score\n",
        "\n",
        "def objective(trial):\n",
        "    regressor_name = trial.suggest_categorical('regressor', ['LinearRegression', 'MLPRegressor', 'DecisionTreeRegressor', 'RandomForestRegressor'])\n",
        "    if regressor_name == 'LinearRegression':\n",
        "        regressor_obj = LinearRegression()\n",
        "    if regressor_name == 'MLPRegressor':\n",
        "        activation = trial.suggest_categorical('activation', ['identity', 'logistic', 'tanh', 'relu'])\n",
        "        learning_rate = trial.suggest_categorical('learning_rate', ['constant', 'invscaling', 'adaptive'])\n",
        "        max_iter = trial.suggest_int('max_iter', 150, 200, step=10)\n",
        "        regressor_obj = MLPRegressor(activation=activation, learning_rate=learning_rate, max_iter=max_iter)\n",
        "    if regressor_name == 'DecisionTreeRegressor':\n",
        "        dt_max_depth = trial.suggest_int('max_depth', 1, 32, step=2)\n",
        "        min_samples_split = trial.suggest_int('min_samples_split', 2, 10)\n",
        "        regressor_obj = DecisionTreeRegressor(max_depth=dt_max_depth, min_samples_split=min_samples_split)\n",
        "    if regressor_name == 'RandomForestRegressor':\n",
        "        n_estimators = trial.suggest_int('n_estimators', 10, 100, step=10)\n",
        "        rf_max_depth = trial.suggest_int('max_depth', 1, 32, step=2)\n",
        "        regressor_obj = RandomForestRegressor(n_estimators=n_estimators, max_depth=rf_max_depth)\n",
        "        \n",
        "    regressor_obj.fit(X_train, y_train)\n",
        "    y_pred = regressor_obj.predict(X_test)\n",
        "\n",
        "    r2 = r2_score(y_test, y_pred)\n",
        "\n",
        "    return r2\n",
        "\n",
        "study = optuna.create_study(direction='maximize')  # Create a new study.\n",
        "study.optimize(objective)  # Invoke optimization of the objective function."
      ],
      "execution_count": null,
      "outputs": [
        {
          "output_type": "stream",
          "text": [
            "\u001b[32m[I 2020-11-12 21:10:29,306]\u001b[0m A new study created in memory with name: no-name-08059aa3-a94f-419b-ade2-21aa5812bac2\u001b[0m\n",
            "\u001b[32m[I 2020-11-12 21:10:29,433]\u001b[0m Trial 0 finished with value: 0.5174392779554156 and parameters: {'regressor': 'LinearRegression'}. Best is trial 0 with value: 0.5174392779554156.\u001b[0m\n",
            "\u001b[32m[I 2020-11-12 21:10:30,069]\u001b[0m Trial 1 finished with value: 0.4981418837347118 and parameters: {'regressor': 'RandomForestRegressor', 'n_estimators': 20, 'max_depth': 29}. Best is trial 0 with value: 0.5174392779554156.\u001b[0m\n",
            "\u001b[32m[I 2020-11-12 21:10:30,665]\u001b[0m Trial 2 finished with value: 0.476788603865796 and parameters: {'regressor': 'RandomForestRegressor', 'n_estimators': 60, 'max_depth': 5}. Best is trial 0 with value: 0.5174392779554156.\u001b[0m\n",
            "\u001b[32m[I 2020-11-12 21:10:30,738]\u001b[0m Trial 3 finished with value: 0.13385147192389413 and parameters: {'regressor': 'DecisionTreeRegressor', 'max_depth': 19, 'min_samples_split': 3}. Best is trial 0 with value: 0.5174392779554156.\u001b[0m\n",
            "\u001b[32m[I 2020-11-12 21:10:32,575]\u001b[0m Trial 4 finished with value: 0.529185892823866 and parameters: {'regressor': 'RandomForestRegressor', 'n_estimators': 90, 'max_depth': 15}. Best is trial 4 with value: 0.529185892823866.\u001b[0m\n",
            "\u001b[32m[I 2020-11-12 21:10:49,413]\u001b[0m Trial 5 finished with value: 0.44216684175614573 and parameters: {'regressor': 'MLPRegressor', 'activation': 'logistic', 'learning_rate': 'constant', 'max_iter': 180}. Best is trial 4 with value: 0.529185892823866.\u001b[0m\n",
            "\u001b[32m[I 2020-11-12 21:10:49,800]\u001b[0m Trial 6 finished with value: 0.5103830775009606 and parameters: {'regressor': 'RandomForestRegressor', 'n_estimators': 10, 'max_depth': 13}. Best is trial 4 with value: 0.529185892823866.\u001b[0m\n",
            "\u001b[32m[I 2020-11-12 21:10:50,000]\u001b[0m Trial 7 finished with value: 0.5174392779554156 and parameters: {'regressor': 'LinearRegression'}. Best is trial 4 with value: 0.529185892823866.\u001b[0m\n",
            "\u001b[32m[I 2020-11-12 21:10:50,240]\u001b[0m Trial 8 finished with value: 0.5174392779554156 and parameters: {'regressor': 'LinearRegression'}. Best is trial 4 with value: 0.529185892823866.\u001b[0m\n",
            "\u001b[32m[I 2020-11-12 21:10:50,342]\u001b[0m Trial 9 finished with value: 0.3841403468374932 and parameters: {'regressor': 'DecisionTreeRegressor', 'max_depth': 3, 'min_samples_split': 6}. Best is trial 4 with value: 0.529185892823866.\u001b[0m\n",
            "\u001b[32m[I 2020-11-12 21:10:53,282]\u001b[0m Trial 10 finished with value: 0.5289688634492752 and parameters: {'regressor': 'RandomForestRegressor', 'n_estimators': 100, 'max_depth': 19}. Best is trial 4 with value: 0.529185892823866.\u001b[0m\n",
            "\u001b[32m[I 2020-11-12 21:10:55,846]\u001b[0m Trial 11 finished with value: 0.5240491646975646 and parameters: {'regressor': 'RandomForestRegressor', 'n_estimators': 100, 'max_depth': 19}. Best is trial 4 with value: 0.529185892823866.\u001b[0m\n",
            "\u001b[32m[I 2020-11-12 21:10:57,952]\u001b[0m Trial 12 finished with value: 0.5304352136684399 and parameters: {'regressor': 'RandomForestRegressor', 'n_estimators': 100, 'max_depth': 13}. Best is trial 12 with value: 0.5304352136684399.\u001b[0m\n",
            "\u001b[32m[I 2020-11-12 21:10:59,403]\u001b[0m Trial 13 finished with value: 0.5274637136380818 and parameters: {'regressor': 'RandomForestRegressor', 'n_estimators': 80, 'max_depth': 11}. Best is trial 12 with value: 0.5304352136684399.\u001b[0m\n",
            "\u001b[32m[I 2020-11-12 21:11:14,807]\u001b[0m Trial 14 finished with value: 0.4620511202062475 and parameters: {'regressor': 'MLPRegressor', 'activation': 'identity', 'learning_rate': 'invscaling', 'max_iter': 150}. Best is trial 12 with value: 0.5304352136684399.\u001b[0m\n",
            "\u001b[32m[I 2020-11-12 21:11:16,193]\u001b[0m Trial 15 finished with value: 0.5279561069107455 and parameters: {'regressor': 'RandomForestRegressor', 'n_estimators': 80, 'max_depth': 9}. Best is trial 12 with value: 0.5304352136684399.\u001b[0m\n",
            "\u001b[32m[I 2020-11-12 21:11:19,528]\u001b[0m Trial 16 finished with value: 0.5231350297707399 and parameters: {'regressor': 'RandomForestRegressor', 'n_estimators': 100, 'max_depth': 27}. Best is trial 12 with value: 0.5304352136684399.\u001b[0m\n",
            "\u001b[32m[I 2020-11-12 21:11:24,637]\u001b[0m Trial 17 finished with value: -6.033453954845669e-05 and parameters: {'regressor': 'MLPRegressor', 'activation': 'tanh', 'learning_rate': 'adaptive', 'max_iter': 200}. Best is trial 12 with value: 0.5304352136684399.\u001b[0m\n",
            "\u001b[32m[I 2020-11-12 21:11:26,917]\u001b[0m Trial 18 finished with value: 0.5304081264838607 and parameters: {'regressor': 'RandomForestRegressor', 'n_estimators': 80, 'max_depth': 15}. Best is trial 12 with value: 0.5304352136684399.\u001b[0m\n",
            "\u001b[32m[I 2020-11-12 21:11:26,976]\u001b[0m Trial 19 finished with value: 0.23269621253900918 and parameters: {'regressor': 'DecisionTreeRegressor', 'max_depth': 23, 'min_samples_split': 10}. Best is trial 12 with value: 0.5304352136684399.\u001b[0m\n",
            "\u001b[32m[I 2020-11-12 21:11:27,921]\u001b[0m Trial 20 finished with value: 0.5149967488616694 and parameters: {'regressor': 'RandomForestRegressor', 'n_estimators': 60, 'max_depth': 7}. Best is trial 12 with value: 0.5304352136684399.\u001b[0m\n",
            "\u001b[32m[I 2020-11-12 21:11:29,985]\u001b[0m Trial 21 finished with value: 0.5256855430629003 and parameters: {'regressor': 'RandomForestRegressor', 'n_estimators': 80, 'max_depth': 15}. Best is trial 12 with value: 0.5304352136684399.\u001b[0m\n",
            "\u001b[32m[I 2020-11-12 21:11:32,345]\u001b[0m Trial 22 finished with value: 0.5288042840165655 and parameters: {'regressor': 'RandomForestRegressor', 'n_estimators': 90, 'max_depth': 15}. Best is trial 12 with value: 0.5304352136684399.\u001b[0m\n",
            "\u001b[32m[I 2020-11-12 21:11:33,649]\u001b[0m Trial 23 finished with value: 0.527042193042402 and parameters: {'regressor': 'RandomForestRegressor', 'n_estimators': 70, 'max_depth': 11}. Best is trial 12 with value: 0.5304352136684399.\u001b[0m\n",
            "\u001b[32m[I 2020-11-12 21:11:34,698]\u001b[0m Trial 24 finished with value: 0.5226608999507365 and parameters: {'regressor': 'RandomForestRegressor', 'n_estimators': 40, 'max_depth': 17}. Best is trial 12 with value: 0.5304352136684399.\u001b[0m\n",
            "\u001b[32m[I 2020-11-12 21:11:37,235]\u001b[0m Trial 25 finished with value: 0.5231736022567866 and parameters: {'regressor': 'RandomForestRegressor', 'n_estimators': 90, 'max_depth': 23}. Best is trial 12 with value: 0.5304352136684399.\u001b[0m\n",
            "\u001b[32m[I 2020-11-12 21:11:38,928]\u001b[0m Trial 26 finished with value: 0.5307850673884333 and parameters: {'regressor': 'RandomForestRegressor', 'n_estimators': 90, 'max_depth': 11}. Best is trial 26 with value: 0.5307850673884333.\u001b[0m\n",
            "\u001b[32m[I 2020-11-12 21:11:39,290]\u001b[0m Trial 27 finished with value: 0.29544521351219954 and parameters: {'regressor': 'RandomForestRegressor', 'n_estimators': 100, 'max_depth': 1}. Best is trial 26 with value: 0.5307850673884333.\u001b[0m\n",
            "\u001b[32m[I 2020-11-12 21:11:39,340]\u001b[0m Trial 28 finished with value: 0.3555223990365691 and parameters: {'regressor': 'DecisionTreeRegressor', 'max_depth': 11, 'min_samples_split': 10}. Best is trial 26 with value: 0.5307850673884333.\u001b[0m\n",
            "\u001b[32m[I 2020-11-12 21:11:39,462]\u001b[0m Trial 29 finished with value: 0.5174392779554156 and parameters: {'regressor': 'LinearRegression'}. Best is trial 26 with value: 0.5307850673884333.\u001b[0m\n",
            "\u001b[32m[I 2020-11-12 21:11:47,733]\u001b[0m Trial 30 finished with value: 0.484422361806938 and parameters: {'regressor': 'MLPRegressor', 'activation': 'relu', 'learning_rate': 'constant', 'max_iter': 150}. Best is trial 26 with value: 0.5307850673884333.\u001b[0m\n",
            "\u001b[32m[I 2020-11-12 21:11:49,877]\u001b[0m Trial 31 finished with value: 0.5294234961895103 and parameters: {'regressor': 'RandomForestRegressor', 'n_estimators': 90, 'max_depth': 13}. Best is trial 26 with value: 0.5307850673884333.\u001b[0m\n",
            "\u001b[32m[I 2020-11-12 21:11:51,113]\u001b[0m Trial 32 finished with value: 0.5145235458233528 and parameters: {'regressor': 'RandomForestRegressor', 'n_estimators': 90, 'max_depth': 7}. Best is trial 26 with value: 0.5307850673884333.\u001b[0m\n",
            "\u001b[32m[I 2020-11-12 21:11:52,483]\u001b[0m Trial 33 finished with value: 0.5299593086985808 and parameters: {'regressor': 'RandomForestRegressor', 'n_estimators': 70, 'max_depth': 13}. Best is trial 26 with value: 0.5307850673884333.\u001b[0m\n",
            "\u001b[32m[I 2020-11-12 21:11:53,528]\u001b[0m Trial 34 finished with value: 0.5245375977173052 and parameters: {'regressor': 'RandomForestRegressor', 'n_estimators': 70, 'max_depth': 9}. Best is trial 26 with value: 0.5307850673884333.\u001b[0m\n",
            "\u001b[32m[I 2020-11-12 21:11:55,243]\u001b[0m Trial 35 finished with value: 0.5199846334646239 and parameters: {'regressor': 'RandomForestRegressor', 'n_estimators': 70, 'max_depth': 17}. Best is trial 26 with value: 0.5307850673884333.\u001b[0m\n"
          ],
          "name": "stderr"
        },
        {
          "output_type": "stream",
          "text": [
            "\u001b[32m[I 2020-11-12 21:11:56,396]\u001b[0m Trial 36 finished with value: 0.5247827111198209 and parameters: {'regressor': 'RandomForestRegressor', 'n_estimators': 50, 'max_depth': 13}. Best is trial 26 with value: 0.5307850673884333.\u001b[0m\n",
            "\u001b[32m[I 2020-11-12 21:11:57,583]\u001b[0m Trial 37 finished with value: 0.5290942071636406 and parameters: {'regressor': 'RandomForestRegressor', 'n_estimators': 80, 'max_depth': 9}. Best is trial 26 with value: 0.5307850673884333.\u001b[0m\n",
            "\u001b[32m[I 2020-11-12 21:11:57,651]\u001b[0m Trial 38 finished with value: 0.5174392779554156 and parameters: {'regressor': 'LinearRegression'}. Best is trial 26 with value: 0.5307850673884333.\u001b[0m\n",
            "\u001b[32m[I 2020-11-12 21:11:59,676]\u001b[0m Trial 39 finished with value: 0.521472704158708 and parameters: {'regressor': 'RandomForestRegressor', 'n_estimators': 70, 'max_depth': 21}. Best is trial 26 with value: 0.5307850673884333.\u001b[0m\n",
            "\u001b[32m[I 2020-11-12 21:11:59,756]\u001b[0m Trial 40 finished with value: 0.2386591279315643 and parameters: {'regressor': 'DecisionTreeRegressor', 'max_depth': 13, 'min_samples_split': 2}. Best is trial 26 with value: 0.5307850673884333.\u001b[0m\n",
            "\u001b[32m[I 2020-11-12 21:12:01,704]\u001b[0m Trial 41 finished with value: 0.5281746142366281 and parameters: {'regressor': 'RandomForestRegressor', 'n_estimators': 90, 'max_depth': 13}. Best is trial 26 with value: 0.5307850673884333.\u001b[0m\n",
            "\u001b[32m[I 2020-11-12 21:12:03,082]\u001b[0m Trial 42 finished with value: 0.5341447460708876 and parameters: {'regressor': 'RandomForestRegressor', 'n_estimators': 80, 'max_depth': 11}. Best is trial 42 with value: 0.5341447460708876.\u001b[0m\n",
            "\u001b[32m[I 2020-11-12 21:12:04,021]\u001b[0m Trial 43 finished with value: 0.5159651844792913 and parameters: {'regressor': 'RandomForestRegressor', 'n_estimators': 80, 'max_depth': 7}. Best is trial 42 with value: 0.5341447460708876.\u001b[0m\n",
            "\u001b[32m[I 2020-11-12 21:12:05,495]\u001b[0m Trial 44 finished with value: 0.5298483584225826 and parameters: {'regressor': 'RandomForestRegressor', 'n_estimators': 80, 'max_depth': 11}. Best is trial 42 with value: 0.5341447460708876.\u001b[0m\n",
            "\u001b[32m[I 2020-11-12 21:12:06,855]\u001b[0m Trial 45 finished with value: 0.5217091087777063 and parameters: {'regressor': 'RandomForestRegressor', 'n_estimators': 60, 'max_depth': 15}. Best is trial 42 with value: 0.5341447460708876.\u001b[0m\n",
            "\u001b[32m[I 2020-11-12 21:12:07,512]\u001b[0m Trial 46 finished with value: 0.4836731349296377 and parameters: {'regressor': 'RandomForestRegressor', 'n_estimators': 70, 'max_depth': 5}. Best is trial 42 with value: 0.5341447460708876.\u001b[0m\n",
            "\u001b[32m[I 2020-11-12 21:12:09,899]\u001b[0m Trial 47 finished with value: 0.5265913612322024 and parameters: {'regressor': 'RandomForestRegressor', 'n_estimators': 100, 'max_depth': 17}. Best is trial 42 with value: 0.5341447460708876.\u001b[0m\n",
            "\u001b[32m[I 2020-11-12 21:12:09,999]\u001b[0m Trial 48 finished with value: 0.5174392779554156 and parameters: {'regressor': 'LinearRegression'}. Best is trial 42 with value: 0.5341447460708876.\u001b[0m\n",
            "\u001b[32m[I 2020-11-12 21:12:28,814]\u001b[0m Trial 49 finished with value: 0.4615183538807949 and parameters: {'regressor': 'MLPRegressor', 'activation': 'identity', 'learning_rate': 'invscaling', 'max_iter': 200}. Best is trial 42 with value: 0.5341447460708876.\u001b[0m\n",
            "\u001b[32m[I 2020-11-12 21:12:30,447]\u001b[0m Trial 50 finished with value: 0.5301802050605406 and parameters: {'regressor': 'RandomForestRegressor', 'n_estimators': 90, 'max_depth': 9}. Best is trial 42 with value: 0.5341447460708876.\u001b[0m\n",
            "\u001b[32m[I 2020-11-12 21:12:31,891]\u001b[0m Trial 51 finished with value: 0.5272703987742156 and parameters: {'regressor': 'RandomForestRegressor', 'n_estimators': 90, 'max_depth': 9}. Best is trial 42 with value: 0.5341447460708876.\u001b[0m\n",
            "\u001b[32m[I 2020-11-12 21:12:33,585]\u001b[0m Trial 52 finished with value: 0.5292222501578996 and parameters: {'regressor': 'RandomForestRegressor', 'n_estimators': 80, 'max_depth': 11}. Best is trial 42 with value: 0.5341447460708876.\u001b[0m\n",
            "\u001b[32m[I 2020-11-12 21:12:36,043]\u001b[0m Trial 53 finished with value: 0.5327207722583858 and parameters: {'regressor': 'RandomForestRegressor', 'n_estimators': 90, 'max_depth': 15}. Best is trial 42 with value: 0.5341447460708876.\u001b[0m\n",
            "\u001b[32m[I 2020-11-12 21:12:38,800]\u001b[0m Trial 54 finished with value: 0.5259356654837359 and parameters: {'regressor': 'RandomForestRegressor', 'n_estimators': 100, 'max_depth': 15}. Best is trial 42 with value: 0.5341447460708876.\u001b[0m\n",
            "\u001b[32m[I 2020-11-12 21:12:39,779]\u001b[0m Trial 55 finished with value: 0.4780761543534803 and parameters: {'regressor': 'RandomForestRegressor', 'n_estimators': 90, 'max_depth': 5}. Best is trial 42 with value: 0.5341447460708876.\u001b[0m\n",
            "\u001b[32m[I 2020-11-12 21:12:42,650]\u001b[0m Trial 56 finished with value: 0.52844728157229 and parameters: {'regressor': 'RandomForestRegressor', 'n_estimators': 100, 'max_depth': 19}. Best is trial 42 with value: 0.5341447460708876.\u001b[0m\n",
            "\u001b[32m[I 2020-11-12 21:12:44,216]\u001b[0m Trial 57 finished with value: 0.526099981479391 and parameters: {'regressor': 'RandomForestRegressor', 'n_estimators': 90, 'max_depth': 9}. Best is trial 42 with value: 0.5341447460708876.\u001b[0m\n",
            "\u001b[32m[I 2020-11-12 21:12:44,274]\u001b[0m Trial 58 finished with value: 0.23861467134988779 and parameters: {'regressor': 'DecisionTreeRegressor', 'max_depth': 17, 'min_samples_split': 6}. Best is trial 42 with value: 0.5341447460708876.\u001b[0m\n",
            "\u001b[32m[I 2020-11-12 21:12:46,388]\u001b[0m Trial 59 finished with value: 0.5331012255336154 and parameters: {'regressor': 'RandomForestRegressor', 'n_estimators': 100, 'max_depth': 11}. Best is trial 42 with value: 0.5341447460708876.\u001b[0m\n",
            "\u001b[32m[I 2020-11-12 21:12:48,488]\u001b[0m Trial 60 finished with value: 0.5315331743902834 and parameters: {'regressor': 'RandomForestRegressor', 'n_estimators': 100, 'max_depth': 11}. Best is trial 42 with value: 0.5341447460708876.\u001b[0m\n",
            "\u001b[32m[I 2020-11-12 21:12:50,547]\u001b[0m Trial 61 finished with value: 0.5331222935803508 and parameters: {'regressor': 'RandomForestRegressor', 'n_estimators': 100, 'max_depth': 11}. Best is trial 42 with value: 0.5341447460708876.\u001b[0m\n",
            "\u001b[32m[I 2020-11-12 21:12:52,597]\u001b[0m Trial 62 finished with value: 0.5289769399263815 and parameters: {'regressor': 'RandomForestRegressor', 'n_estimators': 100, 'max_depth': 11}. Best is trial 42 with value: 0.5341447460708876.\u001b[0m\n",
            "\u001b[32m[I 2020-11-12 21:12:54,800]\u001b[0m Trial 63 finished with value: 0.5304098560959327 and parameters: {'regressor': 'RandomForestRegressor', 'n_estimators': 100, 'max_depth': 13}. Best is trial 42 with value: 0.5341447460708876.\u001b[0m\n",
            "\u001b[32m[I 2020-11-12 21:12:56,673]\u001b[0m Trial 64 finished with value: 0.5344978477480806 and parameters: {'regressor': 'RandomForestRegressor', 'n_estimators': 100, 'max_depth': 11}. Best is trial 64 with value: 0.5344978477480806.\u001b[0m\n",
            "\u001b[32m[I 2020-11-12 21:12:57,923]\u001b[0m Trial 65 finished with value: 0.5153052183810405 and parameters: {'regressor': 'RandomForestRegressor', 'n_estimators': 100, 'max_depth': 7}. Best is trial 64 with value: 0.5344978477480806.\u001b[0m\n",
            "\u001b[32m[I 2020-11-12 21:13:15,079]\u001b[0m Trial 66 finished with value: 0.4808543253985895 and parameters: {'regressor': 'MLPRegressor', 'activation': 'logistic', 'learning_rate': 'adaptive', 'max_iter': 170}. Best is trial 64 with value: 0.5344978477480806.\u001b[0m\n",
            "\u001b[32m[I 2020-11-12 21:13:17,091]\u001b[0m Trial 67 finished with value: 0.5322426955274215 and parameters: {'regressor': 'RandomForestRegressor', 'n_estimators': 100, 'max_depth': 11}. Best is trial 64 with value: 0.5344978477480806.\u001b[0m\n",
            "\u001b[32m[I 2020-11-12 21:13:18,849]\u001b[0m Trial 68 finished with value: 0.5294506839369096 and parameters: {'regressor': 'RandomForestRegressor', 'n_estimators': 100, 'max_depth': 11}. Best is trial 64 with value: 0.5344978477480806.\u001b[0m\n",
            "\u001b[32m[I 2020-11-12 21:13:19,034]\u001b[0m Trial 69 finished with value: 0.510819137949954 and parameters: {'regressor': 'RandomForestRegressor', 'n_estimators': 10, 'max_depth': 9}. Best is trial 64 with value: 0.5344978477480806.\u001b[0m\n",
            "\u001b[32m[I 2020-11-12 21:13:19,115]\u001b[0m Trial 70 finished with value: 0.5174392779554156 and parameters: {'regressor': 'LinearRegression'}. Best is trial 64 with value: 0.5344978477480806.\u001b[0m\n",
            "\u001b[32m[I 2020-11-12 21:13:21,054]\u001b[0m Trial 71 finished with value: 0.5343106642259445 and parameters: {'regressor': 'RandomForestRegressor', 'n_estimators': 100, 'max_depth': 11}. Best is trial 64 with value: 0.5344978477480806.\u001b[0m\n"
          ],
          "name": "stderr"
        },
        {
          "output_type": "stream",
          "text": [
            "\u001b[32m[I 2020-11-12 21:13:22,771]\u001b[0m Trial 72 finished with value: 0.5308337422005102 and parameters: {'regressor': 'RandomForestRegressor', 'n_estimators': 100, 'max_depth': 11}. Best is trial 64 with value: 0.5344978477480806.\u001b[0m\n",
            "\u001b[32m[I 2020-11-12 21:13:24,967]\u001b[0m Trial 73 finished with value: 0.5276567729198207 and parameters: {'regressor': 'RandomForestRegressor', 'n_estimators': 100, 'max_depth': 13}. Best is trial 64 with value: 0.5344978477480806.\u001b[0m\n",
            "\u001b[32m[I 2020-11-12 21:13:26,286]\u001b[0m Trial 74 finished with value: 0.515667538778196 and parameters: {'regressor': 'RandomForestRegressor', 'n_estimators': 100, 'max_depth': 7}. Best is trial 64 with value: 0.5344978477480806.\u001b[0m\n",
            "\u001b[32m[I 2020-11-12 21:13:28,727]\u001b[0m Trial 75 finished with value: 0.5298595880840354 and parameters: {'regressor': 'RandomForestRegressor', 'n_estimators': 100, 'max_depth': 15}. Best is trial 64 with value: 0.5344978477480806.\u001b[0m\n",
            "\u001b[32m[I 2020-11-12 21:13:30,634]\u001b[0m Trial 76 finished with value: 0.5296105271923752 and parameters: {'regressor': 'RandomForestRegressor', 'n_estimators': 90, 'max_depth': 11}. Best is trial 64 with value: 0.5344978477480806.\u001b[0m\n",
            "\u001b[32m[I 2020-11-12 21:13:32,108]\u001b[0m Trial 77 finished with value: 0.5309916905812475 and parameters: {'regressor': 'RandomForestRegressor', 'n_estimators': 90, 'max_depth': 9}. Best is trial 64 with value: 0.5344978477480806.\u001b[0m\n",
            "\u001b[32m[I 2020-11-12 21:13:32,434]\u001b[0m Trial 78 finished with value: 0.4766310476754916 and parameters: {'regressor': 'RandomForestRegressor', 'n_estimators': 20, 'max_depth': 5}. Best is trial 64 with value: 0.5344978477480806.\u001b[0m\n",
            "\u001b[32m[I 2020-11-12 21:13:32,507]\u001b[0m Trial 79 finished with value: 0.21497302056765322 and parameters: {'regressor': 'DecisionTreeRegressor', 'max_depth': 31, 'min_samples_split': 8}. Best is trial 64 with value: 0.5344978477480806.\u001b[0m\n",
            "\u001b[32m[I 2020-11-12 21:13:34,410]\u001b[0m Trial 80 finished with value: 0.5319539637127363 and parameters: {'regressor': 'RandomForestRegressor', 'n_estimators': 100, 'max_depth': 11}. Best is trial 64 with value: 0.5344978477480806.\u001b[0m\n",
            "\u001b[32m[I 2020-11-12 21:13:36,846]\u001b[0m Trial 81 finished with value: 0.5339698119405996 and parameters: {'regressor': 'RandomForestRegressor', 'n_estimators': 100, 'max_depth': 11}. Best is trial 64 with value: 0.5344978477480806.\u001b[0m\n",
            "\u001b[32m[I 2020-11-12 21:13:39,224]\u001b[0m Trial 82 finished with value: 0.5298411670924609 and parameters: {'regressor': 'RandomForestRegressor', 'n_estimators': 100, 'max_depth': 13}. Best is trial 64 with value: 0.5344978477480806.\u001b[0m\n",
            "\u001b[32m[I 2020-11-12 21:13:40,990]\u001b[0m Trial 83 finished with value: 0.5276297864294852 and parameters: {'regressor': 'RandomForestRegressor', 'n_estimators': 90, 'max_depth': 9}. Best is trial 64 with value: 0.5344978477480806.\u001b[0m\n",
            "\u001b[32m[I 2020-11-12 21:13:43,082]\u001b[0m Trial 84 finished with value: 0.5323708229478317 and parameters: {'regressor': 'RandomForestRegressor', 'n_estimators': 100, 'max_depth': 13}. Best is trial 64 with value: 0.5344978477480806.\u001b[0m\n",
            "\u001b[32m[I 2020-11-12 21:13:45,092]\u001b[0m Trial 85 finished with value: 0.528785875049577 and parameters: {'regressor': 'RandomForestRegressor', 'n_estimators': 90, 'max_depth': 15}. Best is trial 64 with value: 0.5344978477480806.\u001b[0m\n",
            "\u001b[32m[I 2020-11-12 21:13:47,076]\u001b[0m Trial 86 finished with value: 0.529740798768836 and parameters: {'regressor': 'RandomForestRegressor', 'n_estimators': 100, 'max_depth': 13}. Best is trial 64 with value: 0.5344978477480806.\u001b[0m\n",
            "\u001b[32m[I 2020-11-12 21:13:49,004]\u001b[0m Trial 87 finished with value: 0.5296847116966785 and parameters: {'regressor': 'RandomForestRegressor', 'n_estimators': 90, 'max_depth': 13}. Best is trial 64 with value: 0.5344978477480806.\u001b[0m\n",
            "\u001b[32m[I 2020-11-12 21:13:56,632]\u001b[0m Trial 88 finished with value: 0.48577099640592936 and parameters: {'regressor': 'MLPRegressor', 'activation': 'relu', 'learning_rate': 'constant', 'max_iter': 170}. Best is trial 64 with value: 0.5344978477480806.\u001b[0m\n",
            "\u001b[32m[I 2020-11-12 21:13:58,506]\u001b[0m Trial 89 finished with value: 0.5285396110922159 and parameters: {'regressor': 'RandomForestRegressor', 'n_estimators': 100, 'max_depth': 11}. Best is trial 64 with value: 0.5344978477480806.\u001b[0m\n",
            "\u001b[32m[I 2020-11-12 21:14:00,741]\u001b[0m Trial 90 finished with value: 0.5256628961540958 and parameters: {'regressor': 'RandomForestRegressor', 'n_estimators': 100, 'max_depth': 15}. Best is trial 64 with value: 0.5344978477480806.\u001b[0m\n",
            "\u001b[32m[I 2020-11-12 21:14:02,768]\u001b[0m Trial 91 finished with value: 0.5308850782036835 and parameters: {'regressor': 'RandomForestRegressor', 'n_estimators': 100, 'max_depth': 13}. Best is trial 64 with value: 0.5344978477480806.\u001b[0m\n",
            "\u001b[32m[I 2020-11-12 21:14:04,468]\u001b[0m Trial 92 finished with value: 0.5311384726444185 and parameters: {'regressor': 'RandomForestRegressor', 'n_estimators': 100, 'max_depth': 11}. Best is trial 64 with value: 0.5344978477480806.\u001b[0m\n",
            "\u001b[32m[I 2020-11-12 21:14:05,806]\u001b[0m Trial 93 finished with value: 0.5261175635784219 and parameters: {'regressor': 'RandomForestRegressor', 'n_estimators': 90, 'max_depth': 9}. Best is trial 64 with value: 0.5344978477480806.\u001b[0m\n",
            "\u001b[32m[I 2020-11-12 21:14:07,528]\u001b[0m Trial 94 finished with value: 0.5305500951195645 and parameters: {'regressor': 'RandomForestRegressor', 'n_estimators': 100, 'max_depth': 11}. Best is trial 64 with value: 0.5344978477480806.\u001b[0m\n",
            "\u001b[32m[I 2020-11-12 21:14:09,287]\u001b[0m Trial 95 finished with value: 0.5286730288115797 and parameters: {'regressor': 'RandomForestRegressor', 'n_estimators': 90, 'max_depth': 13}. Best is trial 64 with value: 0.5344978477480806.\u001b[0m\n",
            "\u001b[32m[I 2020-11-12 21:14:11,094]\u001b[0m Trial 96 finished with value: 0.5312682425027916 and parameters: {'regressor': 'RandomForestRegressor', 'n_estimators': 100, 'max_depth': 11}. Best is trial 64 with value: 0.5344978477480806.\u001b[0m\n",
            "\u001b[32m[I 2020-11-12 21:14:11,705]\u001b[0m Trial 97 finished with value: 0.5219392338882942 and parameters: {'regressor': 'RandomForestRegressor', 'n_estimators': 40, 'max_depth': 9}. Best is trial 64 with value: 0.5344978477480806.\u001b[0m\n",
            "\u001b[32m[I 2020-11-12 21:14:12,646]\u001b[0m Trial 98 finished with value: 0.5155433551075002 and parameters: {'regressor': 'RandomForestRegressor', 'n_estimators': 80, 'max_depth': 7}. Best is trial 64 with value: 0.5344978477480806.\u001b[0m\n",
            "\u001b[32m[I 2020-11-12 21:14:12,730]\u001b[0m Trial 99 finished with value: 0.5174392779554156 and parameters: {'regressor': 'LinearRegression'}. Best is trial 64 with value: 0.5344978477480806.\u001b[0m\n",
            "\u001b[32m[I 2020-11-12 21:14:14,656]\u001b[0m Trial 100 finished with value: 0.5299510150376321 and parameters: {'regressor': 'RandomForestRegressor', 'n_estimators': 100, 'max_depth': 11}. Best is trial 64 with value: 0.5344978477480806.\u001b[0m\n",
            "\u001b[32m[I 2020-11-12 21:14:16,349]\u001b[0m Trial 101 finished with value: 0.5314451395496211 and parameters: {'regressor': 'RandomForestRegressor', 'n_estimators': 100, 'max_depth': 11}. Best is trial 64 with value: 0.5344978477480806.\u001b[0m\n",
            "\u001b[32m[I 2020-11-12 21:14:18,529]\u001b[0m Trial 102 finished with value: 0.5320666070325476 and parameters: {'regressor': 'RandomForestRegressor', 'n_estimators': 100, 'max_depth': 13}. Best is trial 64 with value: 0.5344978477480806.\u001b[0m\n",
            "\u001b[32m[I 2020-11-12 21:14:20,739]\u001b[0m Trial 103 finished with value: 0.5223454536043685 and parameters: {'regressor': 'RandomForestRegressor', 'n_estimators': 90, 'max_depth': 15}. Best is trial 64 with value: 0.5344978477480806.\u001b[0m\n",
            "\u001b[32m[I 2020-11-12 21:14:22,867]\u001b[0m Trial 104 finished with value: 0.5278858211224848 and parameters: {'regressor': 'RandomForestRegressor', 'n_estimators': 100, 'max_depth': 13}. Best is trial 64 with value: 0.5344978477480806.\u001b[0m\n",
            "\u001b[32m[I 2020-11-12 21:14:24,418]\u001b[0m Trial 105 finished with value: 0.5248179014052512 and parameters: {'regressor': 'RandomForestRegressor', 'n_estimators': 100, 'max_depth': 9}. Best is trial 64 with value: 0.5344978477480806.\u001b[0m\n",
            "\u001b[32m[I 2020-11-12 21:14:26,265]\u001b[0m Trial 106 finished with value: 0.5285559041250598 and parameters: {'regressor': 'RandomForestRegressor', 'n_estimators': 90, 'max_depth': 13}. Best is trial 64 with value: 0.5344978477480806.\u001b[0m\n",
            "\u001b[32m[I 2020-11-12 21:14:28,877]\u001b[0m Trial 107 finished with value: 0.5214196079665769 and parameters: {'regressor': 'RandomForestRegressor', 'n_estimators': 100, 'max_depth': 17}. Best is trial 64 with value: 0.5344978477480806.\u001b[0m\n"
          ],
          "name": "stderr"
        },
        {
          "output_type": "stream",
          "text": [
            "\u001b[32m[I 2020-11-12 21:14:28,928]\u001b[0m Trial 108 finished with value: 0.31276169328166925 and parameters: {'regressor': 'DecisionTreeRegressor', 'max_depth': 11, 'min_samples_split': 4}. Best is trial 64 with value: 0.5344978477480806.\u001b[0m\n",
            "\u001b[32m[I 2020-11-12 21:14:30,893]\u001b[0m Trial 109 finished with value: 0.5309602691024083 and parameters: {'regressor': 'RandomForestRegressor', 'n_estimators': 90, 'max_depth': 13}. Best is trial 64 with value: 0.5344978477480806.\u001b[0m\n",
            "\u001b[32m[I 2020-11-12 21:14:33,179]\u001b[0m Trial 110 finished with value: 0.5311514087747865 and parameters: {'regressor': 'RandomForestRegressor', 'n_estimators': 100, 'max_depth': 15}. Best is trial 64 with value: 0.5344978477480806.\u001b[0m\n",
            "\u001b[32m[I 2020-11-12 21:14:34,962]\u001b[0m Trial 111 finished with value: 0.5332377903777077 and parameters: {'regressor': 'RandomForestRegressor', 'n_estimators': 100, 'max_depth': 11}. Best is trial 64 with value: 0.5344978477480806.\u001b[0m\n",
            "\u001b[32m[I 2020-11-12 21:14:36,973]\u001b[0m Trial 112 finished with value: 0.5313192141474282 and parameters: {'regressor': 'RandomForestRegressor', 'n_estimators': 100, 'max_depth': 11}. Best is trial 64 with value: 0.5344978477480806.\u001b[0m\n",
            "\u001b[32m[I 2020-11-12 21:14:38,579]\u001b[0m Trial 113 finished with value: 0.532040458563035 and parameters: {'regressor': 'RandomForestRegressor', 'n_estimators': 100, 'max_depth': 9}. Best is trial 64 with value: 0.5344978477480806.\u001b[0m\n",
            "\u001b[32m[I 2020-11-12 21:14:40,180]\u001b[0m Trial 114 finished with value: 0.5278415681802608 and parameters: {'regressor': 'RandomForestRegressor', 'n_estimators': 100, 'max_depth': 9}. Best is trial 64 with value: 0.5344978477480806.\u001b[0m\n",
            "\u001b[32m[I 2020-11-12 21:14:42,387]\u001b[0m Trial 115 finished with value: 0.5328582212018755 and parameters: {'regressor': 'RandomForestRegressor', 'n_estimators': 100, 'max_depth': 13}. Best is trial 64 with value: 0.5344978477480806.\u001b[0m\n",
            "\u001b[32m[I 2020-11-12 21:14:44,401]\u001b[0m Trial 116 finished with value: 0.5299805287033716 and parameters: {'regressor': 'RandomForestRegressor', 'n_estimators': 100, 'max_depth': 13}. Best is trial 64 with value: 0.5344978477480806.\u001b[0m\n",
            "\u001b[32m[I 2020-11-12 21:15:06,183]\u001b[0m Trial 117 finished with value: 0.4451630022391063 and parameters: {'regressor': 'MLPRegressor', 'activation': 'tanh', 'learning_rate': 'adaptive', 'max_iter': 190}. Best is trial 64 with value: 0.5344978477480806.\u001b[0m\n",
            "\u001b[32m[I 2020-11-12 21:15:08,346]\u001b[0m Trial 118 finished with value: 0.5277521040580639 and parameters: {'regressor': 'RandomForestRegressor', 'n_estimators': 90, 'max_depth': 15}. Best is trial 64 with value: 0.5344978477480806.\u001b[0m\n",
            "\u001b[32m[I 2020-11-12 21:15:10,450]\u001b[0m Trial 119 finished with value: 0.5312771158924456 and parameters: {'regressor': 'RandomForestRegressor', 'n_estimators': 100, 'max_depth': 13}. Best is trial 64 with value: 0.5344978477480806.\u001b[0m\n",
            "\u001b[32m[I 2020-11-12 21:15:12,109]\u001b[0m Trial 120 finished with value: 0.527234781093582 and parameters: {'regressor': 'RandomForestRegressor', 'n_estimators': 90, 'max_depth': 11}. Best is trial 64 with value: 0.5344978477480806.\u001b[0m\n",
            "\u001b[32m[I 2020-11-12 21:15:13,638]\u001b[0m Trial 121 finished with value: 0.5291184174214922 and parameters: {'regressor': 'RandomForestRegressor', 'n_estimators': 100, 'max_depth': 9}. Best is trial 64 with value: 0.5344978477480806.\u001b[0m\n",
            "\u001b[32m[I 2020-11-12 21:15:14,829]\u001b[0m Trial 122 finished with value: 0.5160110047839147 and parameters: {'regressor': 'RandomForestRegressor', 'n_estimators': 100, 'max_depth': 7}. Best is trial 64 with value: 0.5344978477480806.\u001b[0m\n",
            "\u001b[32m[I 2020-11-12 21:15:16,801]\u001b[0m Trial 123 finished with value: 0.528172813087695 and parameters: {'regressor': 'RandomForestRegressor', 'n_estimators': 100, 'max_depth': 13}. Best is trial 64 with value: 0.5344978477480806.\u001b[0m\n",
            "\u001b[32m[I 2020-11-12 21:15:18,502]\u001b[0m Trial 124 finished with value: 0.5327668366686857 and parameters: {'regressor': 'RandomForestRegressor', 'n_estimators': 100, 'max_depth': 11}. Best is trial 64 with value: 0.5344978477480806.\u001b[0m\n",
            "\u001b[32m[I 2020-11-12 21:15:20,324]\u001b[0m Trial 125 finished with value: 0.5303128497265625 and parameters: {'regressor': 'RandomForestRegressor', 'n_estimators': 100, 'max_depth': 11}. Best is trial 64 with value: 0.5344978477480806.\u001b[0m\n",
            "\u001b[32m[I 2020-11-12 21:15:22,137]\u001b[0m Trial 126 finished with value: 0.5338293620655794 and parameters: {'regressor': 'RandomForestRegressor', 'n_estimators': 90, 'max_depth': 13}. Best is trial 64 with value: 0.5344978477480806.\u001b[0m\n",
            "\u001b[32m[I 2020-11-12 21:15:22,206]\u001b[0m Trial 127 finished with value: 0.5174392779554156 and parameters: {'regressor': 'LinearRegression'}. Best is trial 64 with value: 0.5344978477480806.\u001b[0m\n",
            "\u001b[32m[I 2020-11-12 21:15:24,426]\u001b[0m Trial 128 finished with value: 0.5274457458395291 and parameters: {'regressor': 'RandomForestRegressor', 'n_estimators': 80, 'max_depth': 11}. Best is trial 64 with value: 0.5344978477480806.\u001b[0m\n",
            "\u001b[32m[I 2020-11-12 21:15:26,589]\u001b[0m Trial 129 finished with value: 0.5336829755916803 and parameters: {'regressor': 'RandomForestRegressor', 'n_estimators': 90, 'max_depth': 13}. Best is trial 64 with value: 0.5344978477480806.\u001b[0m\n",
            "\u001b[32m[I 2020-11-12 21:15:28,622]\u001b[0m Trial 130 finished with value: 0.5252422897025341 and parameters: {'regressor': 'RandomForestRegressor', 'n_estimators': 90, 'max_depth': 15}. Best is trial 64 with value: 0.5344978477480806.\u001b[0m\n",
            "\u001b[32m[I 2020-11-12 21:15:30,306]\u001b[0m Trial 131 finished with value: 0.5291471593823192 and parameters: {'regressor': 'RandomForestRegressor', 'n_estimators': 80, 'max_depth': 13}. Best is trial 64 with value: 0.5344978477480806.\u001b[0m\n",
            "\u001b[32m[I 2020-11-12 21:15:31,943]\u001b[0m Trial 132 finished with value: 0.532071037657657 and parameters: {'regressor': 'RandomForestRegressor', 'n_estimators': 90, 'max_depth': 11}. Best is trial 64 with value: 0.5344978477480806.\u001b[0m\n",
            "\u001b[32m[I 2020-11-12 21:15:33,766]\u001b[0m Trial 133 finished with value: 0.530792102654098 and parameters: {'regressor': 'RandomForestRegressor', 'n_estimators': 90, 'max_depth': 13}. Best is trial 64 with value: 0.5344978477480806.\u001b[0m\n",
            "\u001b[32m[I 2020-11-12 21:15:34,635]\u001b[0m Trial 134 finished with value: 0.5276294788115121 and parameters: {'regressor': 'RandomForestRegressor', 'n_estimators': 50, 'max_depth': 11}. Best is trial 64 with value: 0.5344978477480806.\u001b[0m\n",
            "\u001b[32m[I 2020-11-12 21:15:36,637]\u001b[0m Trial 135 finished with value: 0.5269512584169733 and parameters: {'regressor': 'RandomForestRegressor', 'n_estimators': 90, 'max_depth': 15}. Best is trial 64 with value: 0.5344978477480806.\u001b[0m\n",
            "\u001b[32m[I 2020-11-12 21:15:38,033]\u001b[0m Trial 136 finished with value: 0.5323144918453284 and parameters: {'regressor': 'RandomForestRegressor', 'n_estimators': 80, 'max_depth': 11}. Best is trial 64 with value: 0.5344978477480806.\u001b[0m\n",
            "\u001b[32m[I 2020-11-12 21:15:39,615]\u001b[0m Trial 137 finished with value: 0.5270768271970667 and parameters: {'regressor': 'RandomForestRegressor', 'n_estimators': 80, 'max_depth': 13}. Best is trial 64 with value: 0.5344978477480806.\u001b[0m\n",
            "\u001b[32m[I 2020-11-12 21:15:40,944]\u001b[0m Trial 138 finished with value: 0.5305907808371718 and parameters: {'regressor': 'RandomForestRegressor', 'n_estimators': 70, 'max_depth': 11}. Best is trial 64 with value: 0.5344978477480806.\u001b[0m\n",
            "\u001b[32m[I 2020-11-12 21:15:42,260]\u001b[0m Trial 139 finished with value: 0.5274534616060071 and parameters: {'regressor': 'RandomForestRegressor', 'n_estimators': 90, 'max_depth': 9}. Best is trial 64 with value: 0.5344978477480806.\u001b[0m\n",
            "\u001b[32m[I 2020-11-12 21:15:42,307]\u001b[0m Trial 140 finished with value: 0.3121789441909836 and parameters: {'regressor': 'DecisionTreeRegressor', 'max_depth': 13, 'min_samples_split': 8}. Best is trial 64 with value: 0.5344978477480806.\u001b[0m\n",
            "\u001b[32m[I 2020-11-12 21:15:43,678]\u001b[0m Trial 141 finished with value: 0.5293964641780006 and parameters: {'regressor': 'RandomForestRegressor', 'n_estimators': 80, 'max_depth': 11}. Best is trial 64 with value: 0.5344978477480806.\u001b[0m\n",
            "\u001b[32m[I 2020-11-12 21:15:45,417]\u001b[0m Trial 142 finished with value: 0.529382073570688 and parameters: {'regressor': 'RandomForestRegressor', 'n_estimators': 100, 'max_depth': 11}. Best is trial 64 with value: 0.5344978477480806.\u001b[0m\n",
            "\u001b[32m[I 2020-11-12 21:15:46,562]\u001b[0m Trial 143 finished with value: 0.5242697309413448 and parameters: {'regressor': 'RandomForestRegressor', 'n_estimators': 80, 'max_depth': 9}. Best is trial 64 with value: 0.5344978477480806.\u001b[0m\n"
          ],
          "name": "stderr"
        },
        {
          "output_type": "stream",
          "text": [
            "\u001b[32m[I 2020-11-12 21:15:48,304]\u001b[0m Trial 144 finished with value: 0.5349921164656888 and parameters: {'regressor': 'RandomForestRegressor', 'n_estimators': 100, 'max_depth': 11}. Best is trial 144 with value: 0.5349921164656888.\u001b[0m\n",
            "\u001b[32m[I 2020-11-12 21:15:50,178]\u001b[0m Trial 145 finished with value: 0.5303771071416038 and parameters: {'regressor': 'RandomForestRegressor', 'n_estimators': 100, 'max_depth': 11}. Best is trial 144 with value: 0.5349921164656888.\u001b[0m\n",
            "\u001b[32m[I 2020-11-12 21:15:52,241]\u001b[0m Trial 146 finished with value: 0.5282214055963439 and parameters: {'regressor': 'RandomForestRegressor', 'n_estimators': 100, 'max_depth': 13}. Best is trial 144 with value: 0.5349921164656888.\u001b[0m\n",
            "\u001b[32m[I 2020-11-12 21:15:53,263]\u001b[0m Trial 147 finished with value: 0.5285880530489344 and parameters: {'regressor': 'RandomForestRegressor', 'n_estimators': 70, 'max_depth': 9}. Best is trial 144 with value: 0.5349921164656888.\u001b[0m\n",
            "\u001b[32m[I 2020-11-12 21:15:55,066]\u001b[0m Trial 148 finished with value: 0.5278601103929814 and parameters: {'regressor': 'RandomForestRegressor', 'n_estimators': 90, 'max_depth': 13}. Best is trial 144 with value: 0.5349921164656888.\u001b[0m\n",
            "\u001b[32m[I 2020-11-12 21:15:56,808]\u001b[0m Trial 149 finished with value: 0.5338856309445899 and parameters: {'regressor': 'RandomForestRegressor', 'n_estimators': 100, 'max_depth': 11}. Best is trial 144 with value: 0.5349921164656888.\u001b[0m\n",
            "\u001b[32m[I 2020-11-12 21:16:13,362]\u001b[0m Trial 150 finished with value: 0.4696412653463895 and parameters: {'regressor': 'MLPRegressor', 'activation': 'identity', 'learning_rate': 'invscaling', 'max_iter': 160}. Best is trial 144 with value: 0.5349921164656888.\u001b[0m\n",
            "\u001b[32m[I 2020-11-12 21:16:15,312]\u001b[0m Trial 151 finished with value: 0.5333821419041371 and parameters: {'regressor': 'RandomForestRegressor', 'n_estimators': 100, 'max_depth': 11}. Best is trial 144 with value: 0.5349921164656888.\u001b[0m\n",
            "\u001b[32m[I 2020-11-12 21:16:17,026]\u001b[0m Trial 152 finished with value: 0.5289212713474334 and parameters: {'regressor': 'RandomForestRegressor', 'n_estimators': 100, 'max_depth': 11}. Best is trial 144 with value: 0.5349921164656888.\u001b[0m\n",
            "\u001b[32m[I 2020-11-12 21:16:18,761]\u001b[0m Trial 153 finished with value: 0.5305667988941702 and parameters: {'regressor': 'RandomForestRegressor', 'n_estimators': 100, 'max_depth': 11}. Best is trial 144 with value: 0.5349921164656888.\u001b[0m\n",
            "\u001b[32m[I 2020-11-12 21:16:20,887]\u001b[0m Trial 154 finished with value: 0.5284445569453604 and parameters: {'regressor': 'RandomForestRegressor', 'n_estimators': 100, 'max_depth': 13}. Best is trial 144 with value: 0.5349921164656888.\u001b[0m\n",
            "\u001b[32m[I 2020-11-12 21:16:22,596]\u001b[0m Trial 155 finished with value: 0.5315196436222323 and parameters: {'regressor': 'RandomForestRegressor', 'n_estimators': 100, 'max_depth': 11}. Best is trial 144 with value: 0.5349921164656888.\u001b[0m\n",
            "\u001b[32m[I 2020-11-12 21:16:25,010]\u001b[0m Trial 156 finished with value: 0.5276132179416602 and parameters: {'regressor': 'RandomForestRegressor', 'n_estimators': 100, 'max_depth': 17}. Best is trial 144 with value: 0.5349921164656888.\u001b[0m\n",
            "\u001b[32m[I 2020-11-12 21:16:26,430]\u001b[0m Trial 157 finished with value: 0.5262045458143405 and parameters: {'regressor': 'RandomForestRegressor', 'n_estimators': 100, 'max_depth': 9}. Best is trial 144 with value: 0.5349921164656888.\u001b[0m\n",
            "\u001b[32m[I 2020-11-12 21:16:28,426]\u001b[0m Trial 158 finished with value: 0.5313411299709834 and parameters: {'regressor': 'RandomForestRegressor', 'n_estimators': 100, 'max_depth': 13}. Best is trial 144 with value: 0.5349921164656888.\u001b[0m\n",
            "\u001b[32m[I 2020-11-12 21:16:30,275]\u001b[0m Trial 159 finished with value: 0.5268601330415007 and parameters: {'regressor': 'RandomForestRegressor', 'n_estimators': 100, 'max_depth': 11}. Best is trial 144 with value: 0.5349921164656888.\u001b[0m\n",
            "\u001b[32m[I 2020-11-12 21:16:32,345]\u001b[0m Trial 160 finished with value: 0.5299420401890634 and parameters: {'regressor': 'RandomForestRegressor', 'n_estimators': 90, 'max_depth': 15}. Best is trial 144 with value: 0.5349921164656888.\u001b[0m\n",
            "\u001b[32m[I 2020-11-12 21:16:34,095]\u001b[0m Trial 161 finished with value: 0.5298131367893166 and parameters: {'regressor': 'RandomForestRegressor', 'n_estimators': 100, 'max_depth': 11}. Best is trial 144 with value: 0.5349921164656888.\u001b[0m\n",
            "\u001b[32m[I 2020-11-12 21:16:35,842]\u001b[0m Trial 162 finished with value: 0.5311427561313208 and parameters: {'regressor': 'RandomForestRegressor', 'n_estimators': 100, 'max_depth': 11}. Best is trial 144 with value: 0.5349921164656888.\u001b[0m\n",
            "\u001b[32m[I 2020-11-12 21:16:37,607]\u001b[0m Trial 163 finished with value: 0.5310117210138939 and parameters: {'regressor': 'RandomForestRegressor', 'n_estimators': 90, 'max_depth': 13}. Best is trial 144 with value: 0.5349921164656888.\u001b[0m\n",
            "\u001b[32m[I 2020-11-12 21:16:39,337]\u001b[0m Trial 164 finished with value: 0.5321874517895719 and parameters: {'regressor': 'RandomForestRegressor', 'n_estimators': 100, 'max_depth': 11}. Best is trial 144 with value: 0.5349921164656888.\u001b[0m\n",
            "\u001b[32m[I 2020-11-12 21:16:40,946]\u001b[0m Trial 165 finished with value: 0.5226090344736316 and parameters: {'regressor': 'RandomForestRegressor', 'n_estimators': 100, 'max_depth': 9}. Best is trial 144 with value: 0.5349921164656888.\u001b[0m\n",
            "\u001b[32m[I 2020-11-12 21:16:41,069]\u001b[0m Trial 166 finished with value: 0.5174392779554156 and parameters: {'regressor': 'LinearRegression'}. Best is trial 144 with value: 0.5349921164656888.\u001b[0m\n",
            "\u001b[32m[I 2020-11-12 21:16:42,434]\u001b[0m Trial 167 finished with value: 0.5246136895673323 and parameters: {'regressor': 'RandomForestRegressor', 'n_estimators': 60, 'max_depth': 13}. Best is trial 144 with value: 0.5349921164656888.\u001b[0m\n",
            "\u001b[32m[I 2020-11-12 21:16:44,192]\u001b[0m Trial 168 finished with value: 0.531580482765547 and parameters: {'regressor': 'RandomForestRegressor', 'n_estimators': 100, 'max_depth': 11}. Best is trial 144 with value: 0.5349921164656888.\u001b[0m\n",
            "\u001b[32m[I 2020-11-12 21:16:45,513]\u001b[0m Trial 169 finished with value: 0.5263042204885471 and parameters: {'regressor': 'RandomForestRegressor', 'n_estimators': 90, 'max_depth': 9}. Best is trial 144 with value: 0.5349921164656888.\u001b[0m\n",
            "\u001b[32m[I 2020-11-12 21:16:47,230]\u001b[0m Trial 170 finished with value: 0.5315517930136596 and parameters: {'regressor': 'RandomForestRegressor', 'n_estimators': 100, 'max_depth': 11}. Best is trial 144 with value: 0.5349921164656888.\u001b[0m\n",
            "\u001b[32m[I 2020-11-12 21:16:48,987]\u001b[0m Trial 171 finished with value: 0.5328128025857503 and parameters: {'regressor': 'RandomForestRegressor', 'n_estimators': 100, 'max_depth': 11}. Best is trial 144 with value: 0.5349921164656888.\u001b[0m\n",
            "\u001b[32m[I 2020-11-12 21:16:50,857]\u001b[0m Trial 172 finished with value: 0.529364968761505 and parameters: {'regressor': 'RandomForestRegressor', 'n_estimators': 100, 'max_depth': 11}. Best is trial 144 with value: 0.5349921164656888.\u001b[0m\n",
            "\u001b[32m[I 2020-11-12 21:16:52,567]\u001b[0m Trial 173 finished with value: 0.532946911578682 and parameters: {'regressor': 'RandomForestRegressor', 'n_estimators': 100, 'max_depth': 11}. Best is trial 144 with value: 0.5349921164656888.\u001b[0m\n",
            "\u001b[32m[I 2020-11-12 21:16:54,282]\u001b[0m Trial 174 finished with value: 0.5320625130436802 and parameters: {'regressor': 'RandomForestRegressor', 'n_estimators': 100, 'max_depth': 11}. Best is trial 144 with value: 0.5349921164656888.\u001b[0m\n",
            "\u001b[32m[I 2020-11-12 21:16:56,256]\u001b[0m Trial 175 finished with value: 0.5277093473260005 and parameters: {'regressor': 'RandomForestRegressor', 'n_estimators': 100, 'max_depth': 13}. Best is trial 144 with value: 0.5349921164656888.\u001b[0m\n",
            "\u001b[32m[I 2020-11-12 21:16:57,690]\u001b[0m Trial 176 finished with value: 0.5286670975572091 and parameters: {'regressor': 'RandomForestRegressor', 'n_estimators': 100, 'max_depth': 9}. Best is trial 144 with value: 0.5349921164656888.\u001b[0m\n",
            "\u001b[32m[I 2020-11-12 21:16:59,649]\u001b[0m Trial 177 finished with value: 0.5324789803792688 and parameters: {'regressor': 'RandomForestRegressor', 'n_estimators': 100, 'max_depth': 13}. Best is trial 144 with value: 0.5349921164656888.\u001b[0m\n",
            "\u001b[32m[I 2020-11-12 21:17:01,501]\u001b[0m Trial 178 finished with value: 0.5294079970647455 and parameters: {'regressor': 'RandomForestRegressor', 'n_estimators': 100, 'max_depth': 11}. Best is trial 144 with value: 0.5349921164656888.\u001b[0m\n"
          ],
          "name": "stderr"
        },
        {
          "output_type": "stream",
          "text": [
            "\u001b[32m[I 2020-11-12 21:17:03,472]\u001b[0m Trial 179 finished with value: 0.531130286093259 and parameters: {'regressor': 'RandomForestRegressor', 'n_estimators': 100, 'max_depth': 13}. Best is trial 144 with value: 0.5349921164656888.\u001b[0m\n",
            "\u001b[32m[I 2020-11-12 21:17:03,521]\u001b[0m Trial 180 finished with value: 0.3209591218348532 and parameters: {'regressor': 'DecisionTreeRegressor', 'max_depth': 11, 'min_samples_split': 4}. Best is trial 144 with value: 0.5349921164656888.\u001b[0m\n",
            "\u001b[32m[I 2020-11-12 21:17:05,442]\u001b[0m Trial 181 finished with value: 0.5326968704559233 and parameters: {'regressor': 'RandomForestRegressor', 'n_estimators': 100, 'max_depth': 13}. Best is trial 144 with value: 0.5349921164656888.\u001b[0m\n",
            "\u001b[32m[I 2020-11-12 21:17:07,697]\u001b[0m Trial 182 finished with value: 0.5256343778050737 and parameters: {'regressor': 'RandomForestRegressor', 'n_estimators': 100, 'max_depth': 15}. Best is trial 144 with value: 0.5349921164656888.\u001b[0m\n",
            "\u001b[32m[I 2020-11-12 21:17:09,795]\u001b[0m Trial 183 finished with value: 0.5296482267887757 and parameters: {'regressor': 'RandomForestRegressor', 'n_estimators': 100, 'max_depth': 13}. Best is trial 144 with value: 0.5349921164656888.\u001b[0m\n",
            "\u001b[32m[I 2020-11-12 21:17:11,889]\u001b[0m Trial 184 finished with value: 0.529148208300986 and parameters: {'regressor': 'RandomForestRegressor', 'n_estimators': 100, 'max_depth': 13}. Best is trial 144 with value: 0.5349921164656888.\u001b[0m\n",
            "\u001b[32m[I 2020-11-12 21:17:13,591]\u001b[0m Trial 185 finished with value: 0.5345431484442328 and parameters: {'regressor': 'RandomForestRegressor', 'n_estimators': 100, 'max_depth': 11}. Best is trial 144 with value: 0.5349921164656888.\u001b[0m\n",
            "\u001b[32m[I 2020-11-12 21:17:15,321]\u001b[0m Trial 186 finished with value: 0.5291010870629315 and parameters: {'regressor': 'RandomForestRegressor', 'n_estimators': 100, 'max_depth': 11}. Best is trial 144 with value: 0.5349921164656888.\u001b[0m\n",
            "\u001b[32m[I 2020-11-12 21:17:16,662]\u001b[0m Trial 187 finished with value: 0.5274336944561613 and parameters: {'regressor': 'RandomForestRegressor', 'n_estimators': 90, 'max_depth': 9}. Best is trial 144 with value: 0.5349921164656888.\u001b[0m\n",
            "\u001b[32m[I 2020-11-12 21:17:18,389]\u001b[0m Trial 188 finished with value: 0.5303057291532338 and parameters: {'regressor': 'RandomForestRegressor', 'n_estimators': 100, 'max_depth': 11}. Best is trial 144 with value: 0.5349921164656888.\u001b[0m\n",
            "\u001b[32m[I 2020-11-12 21:17:20,181]\u001b[0m Trial 189 finished with value: 0.5308998485036218 and parameters: {'regressor': 'RandomForestRegressor', 'n_estimators': 100, 'max_depth': 11}. Best is trial 144 with value: 0.5349921164656888.\u001b[0m\n",
            "\u001b[32m[I 2020-11-12 21:17:21,713]\u001b[0m Trial 190 finished with value: 0.5268961037269677 and parameters: {'regressor': 'RandomForestRegressor', 'n_estimators': 100, 'max_depth': 9}. Best is trial 144 with value: 0.5349921164656888.\u001b[0m\n",
            "\u001b[32m[I 2020-11-12 21:17:23,703]\u001b[0m Trial 191 finished with value: 0.5286922394550186 and parameters: {'regressor': 'RandomForestRegressor', 'n_estimators': 100, 'max_depth': 13}. Best is trial 144 with value: 0.5349921164656888.\u001b[0m\n",
            "\u001b[32m[I 2020-11-12 21:17:25,548]\u001b[0m Trial 192 finished with value: 0.52897149131041 and parameters: {'regressor': 'RandomForestRegressor', 'n_estimators': 100, 'max_depth': 11}. Best is trial 144 with value: 0.5349921164656888.\u001b[0m\n",
            "\u001b[32m[I 2020-11-12 21:17:27,529]\u001b[0m Trial 193 finished with value: 0.5288961124066228 and parameters: {'regressor': 'RandomForestRegressor', 'n_estimators': 100, 'max_depth': 13}. Best is trial 144 with value: 0.5349921164656888.\u001b[0m\n",
            "\u001b[32m[I 2020-11-12 21:17:29,320]\u001b[0m Trial 194 finished with value: 0.5277034496607662 and parameters: {'regressor': 'RandomForestRegressor', 'n_estimators': 100, 'max_depth': 11}. Best is trial 144 with value: 0.5349921164656888.\u001b[0m\n",
            "\u001b[32m[I 2020-11-12 21:17:31,218]\u001b[0m Trial 195 finished with value: 0.5295547855545027 and parameters: {'regressor': 'RandomForestRegressor', 'n_estimators': 100, 'max_depth': 11}. Best is trial 144 with value: 0.5349921164656888.\u001b[0m\n",
            "\u001b[32m[I 2020-11-12 21:17:33,015]\u001b[0m Trial 196 finished with value: 0.5269473962826305 and parameters: {'regressor': 'RandomForestRegressor', 'n_estimators': 90, 'max_depth': 13}. Best is trial 144 with value: 0.5349921164656888.\u001b[0m\n",
            "\u001b[32m[I 2020-11-12 21:17:41,393]\u001b[0m Trial 197 finished with value: 0.48642144712039814 and parameters: {'regressor': 'MLPRegressor', 'activation': 'relu', 'learning_rate': 'constant', 'max_iter': 190}. Best is trial 144 with value: 0.5349921164656888.\u001b[0m\n",
            "\u001b[32m[I 2020-11-12 21:17:43,260]\u001b[0m Trial 198 finished with value: 0.5293461166985979 and parameters: {'regressor': 'RandomForestRegressor', 'n_estimators': 100, 'max_depth': 11}. Best is trial 144 with value: 0.5349921164656888.\u001b[0m\n",
            "\u001b[32m[I 2020-11-12 21:17:45,247]\u001b[0m Trial 199 finished with value: 0.529893923385738 and parameters: {'regressor': 'RandomForestRegressor', 'n_estimators': 100, 'max_depth': 13}. Best is trial 144 with value: 0.5349921164656888.\u001b[0m\n",
            "\u001b[32m[I 2020-11-12 21:17:45,945]\u001b[0m Trial 200 finished with value: 0.5229686171521025 and parameters: {'regressor': 'RandomForestRegressor', 'n_estimators': 30, 'max_depth': 15}. Best is trial 144 with value: 0.5349921164656888.\u001b[0m\n",
            "\u001b[32m[I 2020-11-12 21:17:47,956]\u001b[0m Trial 201 finished with value: 0.5278916155305884 and parameters: {'regressor': 'RandomForestRegressor', 'n_estimators': 100, 'max_depth': 13}. Best is trial 144 with value: 0.5349921164656888.\u001b[0m\n",
            "\u001b[32m[I 2020-11-12 21:17:49,719]\u001b[0m Trial 202 finished with value: 0.5329519314189829 and parameters: {'regressor': 'RandomForestRegressor', 'n_estimators': 100, 'max_depth': 11}. Best is trial 144 with value: 0.5349921164656888.\u001b[0m\n",
            "\u001b[32m[I 2020-11-12 21:17:51,641]\u001b[0m Trial 203 finished with value: 0.5275439679516436 and parameters: {'regressor': 'RandomForestRegressor', 'n_estimators': 100, 'max_depth': 11}. Best is trial 144 with value: 0.5349921164656888.\u001b[0m\n",
            "\u001b[32m[I 2020-11-12 21:17:53,334]\u001b[0m Trial 204 finished with value: 0.5326232064105607 and parameters: {'regressor': 'RandomForestRegressor', 'n_estimators': 100, 'max_depth': 11}. Best is trial 144 with value: 0.5349921164656888.\u001b[0m\n",
            "\u001b[32m[I 2020-11-12 21:17:55,103]\u001b[0m Trial 205 finished with value: 0.5307603105793228 and parameters: {'regressor': 'RandomForestRegressor', 'n_estimators': 100, 'max_depth': 11}. Best is trial 144 with value: 0.5349921164656888.\u001b[0m\n",
            "\u001b[32m[I 2020-11-12 21:17:56,575]\u001b[0m Trial 206 finished with value: 0.5268869715156723 and parameters: {'regressor': 'RandomForestRegressor', 'n_estimators': 100, 'max_depth': 9}. Best is trial 144 with value: 0.5349921164656888.\u001b[0m\n",
            "\u001b[32m[I 2020-11-12 21:17:58,308]\u001b[0m Trial 207 finished with value: 0.531999470171211 and parameters: {'regressor': 'RandomForestRegressor', 'n_estimators': 100, 'max_depth': 11}. Best is trial 144 with value: 0.5349921164656888.\u001b[0m\n",
            "\u001b[32m[I 2020-11-12 21:17:59,868]\u001b[0m Trial 208 finished with value: 0.5335302594276103 and parameters: {'regressor': 'RandomForestRegressor', 'n_estimators': 90, 'max_depth': 11}. Best is trial 144 with value: 0.5349921164656888.\u001b[0m\n",
            "\u001b[32m[I 2020-11-12 21:18:01,264]\u001b[0m Trial 209 finished with value: 0.525120561233942 and parameters: {'regressor': 'RandomForestRegressor', 'n_estimators': 90, 'max_depth': 9}. Best is trial 144 with value: 0.5349921164656888.\u001b[0m\n",
            "\u001b[32m[I 2020-11-12 21:18:02,846]\u001b[0m Trial 210 finished with value: 0.5321607105502277 and parameters: {'regressor': 'RandomForestRegressor', 'n_estimators': 90, 'max_depth': 11}. Best is trial 144 with value: 0.5349921164656888.\u001b[0m\n",
            "\u001b[32m[I 2020-11-12 21:18:04,376]\u001b[0m Trial 211 finished with value: 0.5305518142751361 and parameters: {'regressor': 'RandomForestRegressor', 'n_estimators': 90, 'max_depth': 11}. Best is trial 144 with value: 0.5349921164656888.\u001b[0m\n",
            "\u001b[32m[I 2020-11-12 21:18:06,101]\u001b[0m Trial 212 finished with value: 0.5323159231476006 and parameters: {'regressor': 'RandomForestRegressor', 'n_estimators': 100, 'max_depth': 11}. Best is trial 144 with value: 0.5349921164656888.\u001b[0m\n",
            "\u001b[32m[I 2020-11-12 21:18:07,831]\u001b[0m Trial 213 finished with value: 0.5345358418496831 and parameters: {'regressor': 'RandomForestRegressor', 'n_estimators': 100, 'max_depth': 11}. Best is trial 144 with value: 0.5349921164656888.\u001b[0m\n"
          ],
          "name": "stderr"
        },
        {
          "output_type": "stream",
          "text": [
            "\u001b[32m[I 2020-11-12 21:18:09,124]\u001b[0m Trial 214 finished with value: 0.5288243893494096 and parameters: {'regressor': 'RandomForestRegressor', 'n_estimators': 90, 'max_depth': 9}. Best is trial 144 with value: 0.5349921164656888.\u001b[0m\n",
            "\u001b[32m[I 2020-11-12 21:18:10,893]\u001b[0m Trial 215 finished with value: 0.5304360526717508 and parameters: {'regressor': 'RandomForestRegressor', 'n_estimators': 100, 'max_depth': 11}. Best is trial 144 with value: 0.5349921164656888.\u001b[0m\n",
            "\u001b[32m[I 2020-11-12 21:18:10,969]\u001b[0m Trial 216 finished with value: 0.5174392779554156 and parameters: {'regressor': 'LinearRegression'}. Best is trial 144 with value: 0.5349921164656888.\u001b[0m\n",
            "\u001b[32m[I 2020-11-12 21:18:12,700]\u001b[0m Trial 217 finished with value: 0.5275425506999736 and parameters: {'regressor': 'RandomForestRegressor', 'n_estimators': 90, 'max_depth': 11}. Best is trial 144 with value: 0.5349921164656888.\u001b[0m\n",
            "\u001b[32m[I 2020-11-12 21:18:14,430]\u001b[0m Trial 218 finished with value: 0.5343650493746852 and parameters: {'regressor': 'RandomForestRegressor', 'n_estimators': 100, 'max_depth': 11}. Best is trial 144 with value: 0.5349921164656888.\u001b[0m\n",
            "\u001b[32m[I 2020-11-12 21:18:15,882]\u001b[0m Trial 219 finished with value: 0.5278631331524806 and parameters: {'regressor': 'RandomForestRegressor', 'n_estimators': 100, 'max_depth': 9}. Best is trial 144 with value: 0.5349921164656888.\u001b[0m\n",
            "\u001b[32m[I 2020-11-12 21:18:17,626]\u001b[0m Trial 220 finished with value: 0.5283120365269429 and parameters: {'regressor': 'RandomForestRegressor', 'n_estimators': 100, 'max_depth': 11}. Best is trial 144 with value: 0.5349921164656888.\u001b[0m\n",
            "\u001b[32m[I 2020-11-12 21:18:19,360]\u001b[0m Trial 221 finished with value: 0.5341381458352314 and parameters: {'regressor': 'RandomForestRegressor', 'n_estimators': 100, 'max_depth': 11}. Best is trial 144 with value: 0.5349921164656888.\u001b[0m\n",
            "\u001b[32m[I 2020-11-12 21:18:22,032]\u001b[0m Trial 222 finished with value: 0.5237685047971157 and parameters: {'regressor': 'RandomForestRegressor', 'n_estimators': 100, 'max_depth': 27}. Best is trial 144 with value: 0.5349921164656888.\u001b[0m\n",
            "\u001b[32m[I 2020-11-12 21:18:23,794]\u001b[0m Trial 223 finished with value: 0.531822340796376 and parameters: {'regressor': 'RandomForestRegressor', 'n_estimators': 100, 'max_depth': 11}. Best is trial 144 with value: 0.5349921164656888.\u001b[0m\n",
            "\u001b[32m[I 2020-11-12 21:18:25,544]\u001b[0m Trial 224 finished with value: 0.5317461146114051 and parameters: {'regressor': 'RandomForestRegressor', 'n_estimators': 100, 'max_depth': 11}. Best is trial 144 with value: 0.5349921164656888.\u001b[0m\n",
            "\u001b[32m[I 2020-11-12 21:18:27,288]\u001b[0m Trial 225 finished with value: 0.5329464362404572 and parameters: {'regressor': 'RandomForestRegressor', 'n_estimators': 100, 'max_depth': 11}. Best is trial 144 with value: 0.5349921164656888.\u001b[0m\n",
            "\u001b[32m[I 2020-11-12 21:18:29,005]\u001b[0m Trial 226 finished with value: 0.5269834465726944 and parameters: {'regressor': 'RandomForestRegressor', 'n_estimators': 100, 'max_depth': 11}. Best is trial 144 with value: 0.5349921164656888.\u001b[0m\n",
            "\u001b[32m[I 2020-11-12 21:18:30,501]\u001b[0m Trial 227 finished with value: 0.5267011068991576 and parameters: {'regressor': 'RandomForestRegressor', 'n_estimators': 100, 'max_depth': 9}. Best is trial 144 with value: 0.5349921164656888.\u001b[0m\n",
            "\u001b[32m[I 2020-11-12 21:18:32,210]\u001b[0m Trial 228 finished with value: 0.5282779885306076 and parameters: {'regressor': 'RandomForestRegressor', 'n_estimators': 100, 'max_depth': 11}. Best is trial 144 with value: 0.5349921164656888.\u001b[0m\n",
            "\u001b[32m[I 2020-11-12 21:18:33,926]\u001b[0m Trial 229 finished with value: 0.5307846745633833 and parameters: {'regressor': 'RandomForestRegressor', 'n_estimators': 100, 'max_depth': 11}. Best is trial 144 with value: 0.5349921164656888.\u001b[0m\n",
            "\u001b[32m[I 2020-11-12 21:18:35,756]\u001b[0m Trial 230 finished with value: 0.53300838153576 and parameters: {'regressor': 'RandomForestRegressor', 'n_estimators': 100, 'max_depth': 11}. Best is trial 144 with value: 0.5349921164656888.\u001b[0m\n",
            "\u001b[32m[I 2020-11-12 21:18:37,513]\u001b[0m Trial 231 finished with value: 0.5279415956237875 and parameters: {'regressor': 'RandomForestRegressor', 'n_estimators': 100, 'max_depth': 11}. Best is trial 144 with value: 0.5349921164656888.\u001b[0m\n",
            "\u001b[32m[I 2020-11-12 21:18:39,247]\u001b[0m Trial 232 finished with value: 0.5287463884276737 and parameters: {'regressor': 'RandomForestRegressor', 'n_estimators': 100, 'max_depth': 11}. Best is trial 144 with value: 0.5349921164656888.\u001b[0m\n",
            "\u001b[32m[I 2020-11-12 21:18:41,014]\u001b[0m Trial 233 finished with value: 0.5316251398197378 and parameters: {'regressor': 'RandomForestRegressor', 'n_estimators': 100, 'max_depth': 11}. Best is trial 144 with value: 0.5349921164656888.\u001b[0m\n",
            "\u001b[32m[I 2020-11-12 21:18:42,755]\u001b[0m Trial 234 finished with value: 0.531144992505131 and parameters: {'regressor': 'RandomForestRegressor', 'n_estimators': 100, 'max_depth': 11}. Best is trial 144 with value: 0.5349921164656888.\u001b[0m\n",
            "\u001b[32m[I 2020-11-12 21:18:44,191]\u001b[0m Trial 235 finished with value: 0.5278196176855119 and parameters: {'regressor': 'RandomForestRegressor', 'n_estimators': 100, 'max_depth': 9}. Best is trial 144 with value: 0.5349921164656888.\u001b[0m\n",
            "\u001b[32m[I 2020-11-12 21:18:45,930]\u001b[0m Trial 236 finished with value: 0.529463485868797 and parameters: {'regressor': 'RandomForestRegressor', 'n_estimators': 100, 'max_depth': 11}. Best is trial 144 with value: 0.5349921164656888.\u001b[0m\n",
            "\u001b[32m[I 2020-11-12 21:18:47,648]\u001b[0m Trial 237 finished with value: 0.5326911672987755 and parameters: {'regressor': 'RandomForestRegressor', 'n_estimators': 100, 'max_depth': 11}. Best is trial 144 with value: 0.5349921164656888.\u001b[0m\n",
            "\u001b[32m[I 2020-11-12 21:18:47,700]\u001b[0m Trial 238 finished with value: 0.34093440735882996 and parameters: {'regressor': 'DecisionTreeRegressor', 'max_depth': 11, 'min_samples_split': 8}. Best is trial 144 with value: 0.5349921164656888.\u001b[0m\n",
            "\u001b[32m[I 2020-11-12 21:18:49,188]\u001b[0m Trial 239 finished with value: 0.5316549489216862 and parameters: {'regressor': 'RandomForestRegressor', 'n_estimators': 100, 'max_depth': 9}. Best is trial 144 with value: 0.5349921164656888.\u001b[0m\n",
            "\u001b[32m[I 2020-11-12 21:18:50,940]\u001b[0m Trial 240 finished with value: 0.5299873299575382 and parameters: {'regressor': 'RandomForestRegressor', 'n_estimators': 100, 'max_depth': 11}. Best is trial 144 with value: 0.5349921164656888.\u001b[0m\n",
            "\u001b[32m[I 2020-11-12 21:18:52,692]\u001b[0m Trial 241 finished with value: 0.531480621452286 and parameters: {'regressor': 'RandomForestRegressor', 'n_estimators': 100, 'max_depth': 11}. Best is trial 144 with value: 0.5349921164656888.\u001b[0m\n",
            "\u001b[32m[I 2020-11-12 21:18:54,268]\u001b[0m Trial 242 finished with value: 0.5330258866276241 and parameters: {'regressor': 'RandomForestRegressor', 'n_estimators': 90, 'max_depth': 11}. Best is trial 144 with value: 0.5349921164656888.\u001b[0m\n",
            "\u001b[32m[I 2020-11-12 21:18:55,825]\u001b[0m Trial 243 finished with value: 0.5258061630837256 and parameters: {'regressor': 'RandomForestRegressor', 'n_estimators': 90, 'max_depth': 11}. Best is trial 144 with value: 0.5349921164656888.\u001b[0m\n",
            "\u001b[32m[I 2020-11-12 21:18:57,614]\u001b[0m Trial 244 finished with value: 0.5320360217374152 and parameters: {'regressor': 'RandomForestRegressor', 'n_estimators': 100, 'max_depth': 11}. Best is trial 144 with value: 0.5349921164656888.\u001b[0m\n",
            "\u001b[32m[I 2020-11-12 21:18:59,345]\u001b[0m Trial 245 finished with value: 0.5297607375582167 and parameters: {'regressor': 'RandomForestRegressor', 'n_estimators': 100, 'max_depth': 11}. Best is trial 144 with value: 0.5349921164656888.\u001b[0m\n",
            "\u001b[32m[I 2020-11-12 21:19:01,072]\u001b[0m Trial 246 finished with value: 0.5330705328148386 and parameters: {'regressor': 'RandomForestRegressor', 'n_estimators': 100, 'max_depth': 11}. Best is trial 144 with value: 0.5349921164656888.\u001b[0m\n",
            "\u001b[32m[I 2020-11-12 21:19:02,562]\u001b[0m Trial 247 finished with value: 0.5289738988997659 and parameters: {'regressor': 'RandomForestRegressor', 'n_estimators': 100, 'max_depth': 9}. Best is trial 144 with value: 0.5349921164656888.\u001b[0m\n",
            "\u001b[32m[I 2020-11-12 21:19:04,345]\u001b[0m Trial 248 finished with value: 0.5309245875249358 and parameters: {'regressor': 'RandomForestRegressor', 'n_estimators': 100, 'max_depth': 11}. Best is trial 144 with value: 0.5349921164656888.\u001b[0m\n",
            "\u001b[32m[I 2020-11-12 21:19:06,148]\u001b[0m Trial 249 finished with value: 0.5321239044912449 and parameters: {'regressor': 'RandomForestRegressor', 'n_estimators': 90, 'max_depth': 13}. Best is trial 144 with value: 0.5349921164656888.\u001b[0m\n"
          ],
          "name": "stderr"
        },
        {
          "output_type": "stream",
          "text": [
            "\u001b[32m[I 2020-11-12 21:19:07,916]\u001b[0m Trial 250 finished with value: 0.5311972776537142 and parameters: {'regressor': 'RandomForestRegressor', 'n_estimators': 100, 'max_depth': 11}. Best is trial 144 with value: 0.5349921164656888.\u001b[0m\n",
            "\u001b[32m[I 2020-11-12 21:19:09,662]\u001b[0m Trial 251 finished with value: 0.532365067907284 and parameters: {'regressor': 'RandomForestRegressor', 'n_estimators': 100, 'max_depth': 11}. Best is trial 144 with value: 0.5349921164656888.\u001b[0m\n",
            "\u001b[32m[I 2020-11-12 21:19:11,442]\u001b[0m Trial 252 finished with value: 0.006848693339208567 and parameters: {'regressor': 'MLPRegressor', 'activation': 'tanh', 'learning_rate': 'adaptive', 'max_iter': 160}. Best is trial 144 with value: 0.5349921164656888.\u001b[0m\n",
            "\u001b[32m[I 2020-11-12 21:19:13,506]\u001b[0m Trial 253 finished with value: 0.5291259034148666 and parameters: {'regressor': 'RandomForestRegressor', 'n_estimators': 100, 'max_depth': 11}. Best is trial 144 with value: 0.5349921164656888.\u001b[0m\n",
            "\u001b[32m[I 2020-11-12 21:19:15,068]\u001b[0m Trial 254 finished with value: 0.5287335496655663 and parameters: {'regressor': 'RandomForestRegressor', 'n_estimators': 90, 'max_depth': 11}. Best is trial 144 with value: 0.5349921164656888.\u001b[0m\n",
            "\u001b[32m[I 2020-11-12 21:19:17,033]\u001b[0m Trial 255 finished with value: 0.528867421021131 and parameters: {'regressor': 'RandomForestRegressor', 'n_estimators': 100, 'max_depth': 13}. Best is trial 144 with value: 0.5349921164656888.\u001b[0m\n",
            "\u001b[32m[I 2020-11-12 21:19:18,493]\u001b[0m Trial 256 finished with value: 0.5279801410446866 and parameters: {'regressor': 'RandomForestRegressor', 'n_estimators': 100, 'max_depth': 9}. Best is trial 144 with value: 0.5349921164656888.\u001b[0m\n",
            "\u001b[32m[I 2020-11-12 21:19:20,057]\u001b[0m Trial 257 finished with value: 0.5303292361819115 and parameters: {'regressor': 'RandomForestRegressor', 'n_estimators': 90, 'max_depth': 11}. Best is trial 144 with value: 0.5349921164656888.\u001b[0m\n",
            "\u001b[32m[I 2020-11-12 21:19:21,769]\u001b[0m Trial 258 finished with value: 0.5369973926191569 and parameters: {'regressor': 'RandomForestRegressor', 'n_estimators': 100, 'max_depth': 11}. Best is trial 258 with value: 0.5369973926191569.\u001b[0m\n",
            "\u001b[32m[I 2020-11-12 21:19:23,771]\u001b[0m Trial 259 finished with value: 0.5253951854372003 and parameters: {'regressor': 'RandomForestRegressor', 'n_estimators': 100, 'max_depth': 13}. Best is trial 258 with value: 0.5369973926191569.\u001b[0m\n",
            "\u001b[32m[I 2020-11-12 21:19:25,260]\u001b[0m Trial 260 finished with value: 0.5277331014392832 and parameters: {'regressor': 'RandomForestRegressor', 'n_estimators': 100, 'max_depth': 9}. Best is trial 258 with value: 0.5369973926191569.\u001b[0m\n",
            "\u001b[32m[I 2020-11-12 21:19:26,970]\u001b[0m Trial 261 finished with value: 0.5309361046284409 and parameters: {'regressor': 'RandomForestRegressor', 'n_estimators': 100, 'max_depth': 11}. Best is trial 258 with value: 0.5369973926191569.\u001b[0m\n",
            "\u001b[32m[I 2020-11-12 21:19:28,503]\u001b[0m Trial 262 finished with value: 0.5342218806545223 and parameters: {'regressor': 'RandomForestRegressor', 'n_estimators': 90, 'max_depth': 11}. Best is trial 258 with value: 0.5369973926191569.\u001b[0m\n",
            "\u001b[32m[I 2020-11-12 21:19:28,589]\u001b[0m Trial 263 finished with value: 0.5174392779554156 and parameters: {'regressor': 'LinearRegression'}. Best is trial 258 with value: 0.5369973926191569.\u001b[0m\n",
            "\u001b[32m[I 2020-11-12 21:19:30,324]\u001b[0m Trial 264 finished with value: 0.5287562252845442 and parameters: {'regressor': 'RandomForestRegressor', 'n_estimators': 90, 'max_depth': 11}. Best is trial 258 with value: 0.5369973926191569.\u001b[0m\n",
            "\u001b[32m[I 2020-11-12 21:19:31,906]\u001b[0m Trial 265 finished with value: 0.5326035064775316 and parameters: {'regressor': 'RandomForestRegressor', 'n_estimators': 90, 'max_depth': 11}. Best is trial 258 with value: 0.5369973926191569.\u001b[0m\n",
            "\u001b[32m[I 2020-11-12 21:19:33,209]\u001b[0m Trial 266 finished with value: 0.5303117237700417 and parameters: {'regressor': 'RandomForestRegressor', 'n_estimators': 90, 'max_depth': 9}. Best is trial 258 with value: 0.5369973926191569.\u001b[0m\n",
            "\u001b[32m[I 2020-11-12 21:19:34,756]\u001b[0m Trial 267 finished with value: 0.5276097969999014 and parameters: {'regressor': 'RandomForestRegressor', 'n_estimators': 90, 'max_depth': 11}. Best is trial 258 with value: 0.5369973926191569.\u001b[0m\n",
            "\u001b[32m[I 2020-11-12 21:19:36,257]\u001b[0m Trial 268 finished with value: 0.5334137073651294 and parameters: {'regressor': 'RandomForestRegressor', 'n_estimators': 80, 'max_depth': 11}. Best is trial 258 with value: 0.5369973926191569.\u001b[0m\n",
            "\u001b[32m[I 2020-11-12 21:19:37,846]\u001b[0m Trial 269 finished with value: 0.5287935112744522 and parameters: {'regressor': 'RandomForestRegressor', 'n_estimators': 90, 'max_depth': 11}. Best is trial 258 with value: 0.5369973926191569.\u001b[0m\n",
            "\u001b[32m[I 2020-11-12 21:19:39,011]\u001b[0m Trial 270 finished with value: 0.5272442609860923 and parameters: {'regressor': 'RandomForestRegressor', 'n_estimators': 80, 'max_depth': 9}. Best is trial 258 with value: 0.5369973926191569.\u001b[0m\n",
            "\u001b[32m[I 2020-11-12 21:19:40,448]\u001b[0m Trial 271 finished with value: 0.5322771594492605 and parameters: {'regressor': 'RandomForestRegressor', 'n_estimators': 80, 'max_depth': 11}. Best is trial 258 with value: 0.5369973926191569.\u001b[0m\n",
            "\u001b[32m[I 2020-11-12 21:19:41,705]\u001b[0m Trial 272 finished with value: 0.5301637644533315 and parameters: {'regressor': 'RandomForestRegressor', 'n_estimators': 70, 'max_depth': 11}. Best is trial 258 with value: 0.5369973926191569.\u001b[0m\n",
            "\u001b[32m[I 2020-11-12 21:19:42,580]\u001b[0m Trial 273 finished with value: 0.5262877824305248 and parameters: {'regressor': 'RandomForestRegressor', 'n_estimators': 60, 'max_depth': 9}. Best is trial 258 with value: 0.5369973926191569.\u001b[0m\n",
            "\u001b[32m[I 2020-11-12 21:19:43,985]\u001b[0m Trial 274 finished with value: 0.5315175901195028 and parameters: {'regressor': 'RandomForestRegressor', 'n_estimators': 80, 'max_depth': 11}. Best is trial 258 with value: 0.5369973926191569.\u001b[0m\n",
            "\u001b[32m[I 2020-11-12 21:19:45,821]\u001b[0m Trial 275 finished with value: 0.5261540712387165 and parameters: {'regressor': 'RandomForestRegressor', 'n_estimators': 90, 'max_depth': 13}. Best is trial 258 with value: 0.5369973926191569.\u001b[0m\n",
            "\u001b[32m[I 2020-11-12 21:19:47,400]\u001b[0m Trial 276 finished with value: 0.5318888668097665 and parameters: {'regressor': 'RandomForestRegressor', 'n_estimators': 90, 'max_depth': 11}. Best is trial 258 with value: 0.5369973926191569.\u001b[0m\n",
            "\u001b[32m[I 2020-11-12 21:19:49,200]\u001b[0m Trial 277 finished with value: 0.5325411453824632 and parameters: {'regressor': 'RandomForestRegressor', 'n_estimators': 100, 'max_depth': 11}. Best is trial 258 with value: 0.5369973926191569.\u001b[0m\n",
            "\u001b[32m[I 2020-11-12 21:19:49,243]\u001b[0m Trial 278 finished with value: 0.29149718076519615 and parameters: {'regressor': 'DecisionTreeRegressor', 'max_depth': 11, 'min_samples_split': 2}. Best is trial 258 with value: 0.5369973926191569.\u001b[0m\n",
            "\u001b[32m[I 2020-11-12 21:19:50,798]\u001b[0m Trial 279 finished with value: 0.5305799111542577 and parameters: {'regressor': 'RandomForestRegressor', 'n_estimators': 90, 'max_depth': 11}. Best is trial 258 with value: 0.5369973926191569.\u001b[0m\n",
            "\u001b[32m[I 2020-11-12 21:19:52,837]\u001b[0m Trial 280 finished with value: 0.5285749118804002 and parameters: {'regressor': 'RandomForestRegressor', 'n_estimators': 100, 'max_depth': 13}. Best is trial 258 with value: 0.5369973926191569.\u001b[0m\n",
            "\u001b[32m[I 2020-11-12 21:19:53,848]\u001b[0m Trial 281 finished with value: 0.5246727173994372 and parameters: {'regressor': 'RandomForestRegressor', 'n_estimators': 70, 'max_depth': 9}. Best is trial 258 with value: 0.5369973926191569.\u001b[0m\n",
            "\u001b[32m[I 2020-11-12 21:19:55,281]\u001b[0m Trial 282 finished with value: 0.5284863671177522 and parameters: {'regressor': 'RandomForestRegressor', 'n_estimators': 100, 'max_depth': 9}. Best is trial 258 with value: 0.5369973926191569.\u001b[0m\n",
            "\u001b[32m[I 2020-11-12 21:20:06,302]\u001b[0m Trial 283 finished with value: 0.5023571509939544 and parameters: {'regressor': 'MLPRegressor', 'activation': 'logistic', 'learning_rate': 'invscaling', 'max_iter': 180}. Best is trial 258 with value: 0.5369973926191569.\u001b[0m\n",
            "\u001b[32m[I 2020-11-12 21:20:06,728]\u001b[0m Trial 284 finished with value: 0.2925002817991915 and parameters: {'regressor': 'RandomForestRegressor', 'n_estimators': 80, 'max_depth': 1}. Best is trial 258 with value: 0.5369973926191569.\u001b[0m\n"
          ],
          "name": "stderr"
        },
        {
          "output_type": "stream",
          "text": [
            "\u001b[32m[I 2020-11-12 21:20:08,483]\u001b[0m Trial 285 finished with value: 0.5316004321632393 and parameters: {'regressor': 'RandomForestRegressor', 'n_estimators': 100, 'max_depth': 11}. Best is trial 258 with value: 0.5369973926191569.\u001b[0m\n",
            "\u001b[32m[I 2020-11-12 21:20:10,435]\u001b[0m Trial 286 finished with value: 0.5323728953556885 and parameters: {'regressor': 'RandomForestRegressor', 'n_estimators': 100, 'max_depth': 13}. Best is trial 258 with value: 0.5369973926191569.\u001b[0m\n",
            "\u001b[32m[I 2020-11-12 21:20:11,959]\u001b[0m Trial 287 finished with value: 0.5280736307194167 and parameters: {'regressor': 'RandomForestRegressor', 'n_estimators': 90, 'max_depth': 11}. Best is trial 258 with value: 0.5369973926191569.\u001b[0m\n",
            "\u001b[32m[I 2020-11-12 21:20:13,676]\u001b[0m Trial 288 finished with value: 0.5316360395843573 and parameters: {'regressor': 'RandomForestRegressor', 'n_estimators': 100, 'max_depth': 11}. Best is trial 258 with value: 0.5369973926191569.\u001b[0m\n",
            "\u001b[32m[I 2020-11-12 21:20:15,257]\u001b[0m Trial 289 finished with value: 0.5285880237593127 and parameters: {'regressor': 'RandomForestRegressor', 'n_estimators': 90, 'max_depth': 11}. Best is trial 258 with value: 0.5369973926191569.\u001b[0m\n",
            "\u001b[32m[I 2020-11-12 21:20:17,203]\u001b[0m Trial 290 finished with value: 0.529361999138336 and parameters: {'regressor': 'RandomForestRegressor', 'n_estimators': 100, 'max_depth': 13}. Best is trial 258 with value: 0.5369973926191569.\u001b[0m\n",
            "\u001b[32m[I 2020-11-12 21:20:18,657]\u001b[0m Trial 291 finished with value: 0.5293183185949553 and parameters: {'regressor': 'RandomForestRegressor', 'n_estimators': 100, 'max_depth': 9}. Best is trial 258 with value: 0.5369973926191569.\u001b[0m\n",
            "\u001b[32m[I 2020-11-12 21:20:20,384]\u001b[0m Trial 292 finished with value: 0.5303351186669174 and parameters: {'regressor': 'RandomForestRegressor', 'n_estimators': 100, 'max_depth': 11}. Best is trial 258 with value: 0.5369973926191569.\u001b[0m\n",
            "\u001b[32m[I 2020-11-12 21:20:20,443]\u001b[0m Trial 293 finished with value: 0.5174392779554156 and parameters: {'regressor': 'LinearRegression'}. Best is trial 258 with value: 0.5369973926191569.\u001b[0m\n",
            "\u001b[32m[I 2020-11-12 21:20:21,432]\u001b[0m Trial 294 finished with value: 0.5274261760056046 and parameters: {'regressor': 'RandomForestRegressor', 'n_estimators': 50, 'max_depth': 11}. Best is trial 258 with value: 0.5369973926191569.\u001b[0m\n",
            "\u001b[32m[I 2020-11-12 21:20:23,149]\u001b[0m Trial 295 finished with value: 0.5280854008024185 and parameters: {'regressor': 'RandomForestRegressor', 'n_estimators': 100, 'max_depth': 11}. Best is trial 258 with value: 0.5369973926191569.\u001b[0m\n",
            "\u001b[32m[I 2020-11-12 21:20:24,457]\u001b[0m Trial 296 finished with value: 0.5326623894965696 and parameters: {'regressor': 'RandomForestRegressor', 'n_estimators': 90, 'max_depth': 9}. Best is trial 258 with value: 0.5369973926191569.\u001b[0m\n",
            "\u001b[32m[I 2020-11-12 21:20:26,116]\u001b[0m Trial 297 finished with value: 0.5302097934095228 and parameters: {'regressor': 'RandomForestRegressor', 'n_estimators': 80, 'max_depth': 13}. Best is trial 258 with value: 0.5369973926191569.\u001b[0m\n",
            "\u001b[32m[I 2020-11-12 21:20:27,846]\u001b[0m Trial 298 finished with value: 0.5308922009325392 and parameters: {'regressor': 'RandomForestRegressor', 'n_estimators': 100, 'max_depth': 11}. Best is trial 258 with value: 0.5369973926191569.\u001b[0m\n",
            "\u001b[32m[I 2020-11-12 21:20:29,604]\u001b[0m Trial 299 finished with value: 0.5279996141349289 and parameters: {'regressor': 'RandomForestRegressor', 'n_estimators': 100, 'max_depth': 11}. Best is trial 258 with value: 0.5369973926191569.\u001b[0m\n",
            "\u001b[32m[I 2020-11-12 21:20:31,076]\u001b[0m Trial 300 finished with value: 0.524040515894973 and parameters: {'regressor': 'RandomForestRegressor', 'n_estimators': 100, 'max_depth': 9}. Best is trial 258 with value: 0.5369973926191569.\u001b[0m\n",
            "\u001b[32m[I 2020-11-12 21:20:33,076]\u001b[0m Trial 301 finished with value: 0.5270243153894842 and parameters: {'regressor': 'RandomForestRegressor', 'n_estimators': 100, 'max_depth': 13}. Best is trial 258 with value: 0.5369973926191569.\u001b[0m\n",
            "\u001b[32m[I 2020-11-12 21:20:34,720]\u001b[0m Trial 302 finished with value: 0.5308880646914491 and parameters: {'regressor': 'RandomForestRegressor', 'n_estimators': 90, 'max_depth': 11}. Best is trial 258 with value: 0.5369973926191569.\u001b[0m\n",
            "\u001b[32m[I 2020-11-12 21:20:36,603]\u001b[0m Trial 303 finished with value: 0.5312015953433229 and parameters: {'regressor': 'RandomForestRegressor', 'n_estimators': 100, 'max_depth': 11}. Best is trial 258 with value: 0.5369973926191569.\u001b[0m\n",
            "\u001b[32m[I 2020-11-12 21:20:40,219]\u001b[0m Trial 304 finished with value: 0.5263912028450167 and parameters: {'regressor': 'RandomForestRegressor', 'n_estimators': 100, 'max_depth': 19}. Best is trial 258 with value: 0.5369973926191569.\u001b[0m\n",
            "\u001b[32m[I 2020-11-12 21:20:42,657]\u001b[0m Trial 305 finished with value: 0.5292076686485494 and parameters: {'regressor': 'RandomForestRegressor', 'n_estimators': 100, 'max_depth': 11}. Best is trial 258 with value: 0.5369973926191569.\u001b[0m\n",
            "\u001b[32m[I 2020-11-12 21:20:45,522]\u001b[0m Trial 306 finished with value: 0.5272774807213048 and parameters: {'regressor': 'RandomForestRegressor', 'n_estimators': 90, 'max_depth': 13}. Best is trial 258 with value: 0.5369973926191569.\u001b[0m\n",
            "\u001b[32m[I 2020-11-12 21:20:45,574]\u001b[0m Trial 307 finished with value: 0.3307796353628376 and parameters: {'regressor': 'DecisionTreeRegressor', 'max_depth': 11, 'min_samples_split': 5}. Best is trial 258 with value: 0.5369973926191569.\u001b[0m\n",
            "\u001b[32m[I 2020-11-12 21:20:47,223]\u001b[0m Trial 308 finished with value: 0.5266131437788202 and parameters: {'regressor': 'RandomForestRegressor', 'n_estimators': 100, 'max_depth': 9}. Best is trial 258 with value: 0.5369973926191569.\u001b[0m\n",
            "\u001b[32m[I 2020-11-12 21:20:48,924]\u001b[0m Trial 309 finished with value: 0.5308245636611226 and parameters: {'regressor': 'RandomForestRegressor', 'n_estimators': 90, 'max_depth': 11}. Best is trial 258 with value: 0.5369973926191569.\u001b[0m\n",
            "\u001b[32m[I 2020-11-12 21:20:50,611]\u001b[0m Trial 310 finished with value: 0.5293419173016138 and parameters: {'regressor': 'RandomForestRegressor', 'n_estimators': 100, 'max_depth': 11}. Best is trial 258 with value: 0.5369973926191569.\u001b[0m\n",
            "\u001b[32m[I 2020-11-12 21:20:51,969]\u001b[0m Trial 311 finished with value: 0.533267442183091 and parameters: {'regressor': 'RandomForestRegressor', 'n_estimators': 100, 'max_depth': 9}. Best is trial 258 with value: 0.5369973926191569.\u001b[0m\n",
            "\u001b[32m[I 2020-11-12 21:20:53,394]\u001b[0m Trial 312 finished with value: 0.5270181227387793 and parameters: {'regressor': 'RandomForestRegressor', 'n_estimators': 100, 'max_depth': 9}. Best is trial 258 with value: 0.5369973926191569.\u001b[0m\n",
            "\u001b[32m[I 2020-11-12 21:20:55,249]\u001b[0m Trial 313 finished with value: 0.5313497304966862 and parameters: {'regressor': 'RandomForestRegressor', 'n_estimators': 100, 'max_depth': 13}. Best is trial 258 with value: 0.5369973926191569.\u001b[0m\n",
            "\u001b[32m[I 2020-11-12 21:20:58,252]\u001b[0m Trial 314 finished with value: -0.020005792419628632 and parameters: {'regressor': 'MLPRegressor', 'activation': 'tanh', 'learning_rate': 'adaptive', 'max_iter': 160}. Best is trial 258 with value: 0.5369973926191569.\u001b[0m\n",
            "\u001b[32m[I 2020-11-12 21:20:59,843]\u001b[0m Trial 315 finished with value: 0.5283662629959175 and parameters: {'regressor': 'RandomForestRegressor', 'n_estimators': 90, 'max_depth': 9}. Best is trial 258 with value: 0.5369973926191569.\u001b[0m\n",
            "\u001b[32m[I 2020-11-12 21:21:01,336]\u001b[0m Trial 316 finished with value: 0.5298759470933453 and parameters: {'regressor': 'RandomForestRegressor', 'n_estimators': 100, 'max_depth': 9}. Best is trial 258 with value: 0.5369973926191569.\u001b[0m\n",
            "\u001b[32m[I 2020-11-12 21:21:02,291]\u001b[0m Trial 317 finished with value: 0.5133912900697762 and parameters: {'regressor': 'RandomForestRegressor', 'n_estimators': 80, 'max_depth': 7}. Best is trial 258 with value: 0.5369973926191569.\u001b[0m\n",
            "\u001b[32m[I 2020-11-12 21:21:03,664]\u001b[0m Trial 318 finished with value: 0.5317300814458135 and parameters: {'regressor': 'RandomForestRegressor', 'n_estimators': 70, 'max_depth': 13}. Best is trial 258 with value: 0.5369973926191569.\u001b[0m\n",
            "\u001b[32m[I 2020-11-12 21:21:04,857]\u001b[0m Trial 319 finished with value: 0.5152720922331431 and parameters: {'regressor': 'RandomForestRegressor', 'n_estimators': 100, 'max_depth': 7}. Best is trial 258 with value: 0.5369973926191569.\u001b[0m\n",
            "\u001b[32m[I 2020-11-12 21:21:05,937]\u001b[0m Trial 320 finished with value: 0.5144693041162377 and parameters: {'regressor': 'RandomForestRegressor', 'n_estimators': 90, 'max_depth': 7}. Best is trial 258 with value: 0.5369973926191569.\u001b[0m\n"
          ],
          "name": "stderr"
        },
        {
          "output_type": "stream",
          "text": [
            "\u001b[32m[I 2020-11-12 21:21:07,638]\u001b[0m Trial 321 finished with value: 0.5312656143544907 and parameters: {'regressor': 'RandomForestRegressor', 'n_estimators': 100, 'max_depth': 11}. Best is trial 258 with value: 0.5369973926191569.\u001b[0m\n",
            "\u001b[32m[I 2020-11-12 21:21:08,924]\u001b[0m Trial 322 finished with value: 0.5288504166332337 and parameters: {'regressor': 'RandomForestRegressor', 'n_estimators': 90, 'max_depth': 9}. Best is trial 258 with value: 0.5369973926191569.\u001b[0m\n",
            "\u001b[32m[I 2020-11-12 21:21:10,627]\u001b[0m Trial 323 finished with value: 0.5316828895071468 and parameters: {'regressor': 'RandomForestRegressor', 'n_estimators': 100, 'max_depth': 11}. Best is trial 258 with value: 0.5369973926191569.\u001b[0m\n",
            "\u001b[32m[I 2020-11-12 21:21:10,682]\u001b[0m Trial 324 finished with value: 0.5174392779554156 and parameters: {'regressor': 'LinearRegression'}. Best is trial 258 with value: 0.5369973926191569.\u001b[0m\n",
            "\u001b[32m[I 2020-11-12 21:21:12,781]\u001b[0m Trial 325 finished with value: 0.5308076807676231 and parameters: {'regressor': 'RandomForestRegressor', 'n_estimators': 100, 'max_depth': 13}. Best is trial 258 with value: 0.5369973926191569.\u001b[0m\n",
            "\u001b[32m[I 2020-11-12 21:21:14,629]\u001b[0m Trial 326 finished with value: 0.5299092463094723 and parameters: {'regressor': 'RandomForestRegressor', 'n_estimators': 100, 'max_depth': 11}. Best is trial 258 with value: 0.5369973926191569.\u001b[0m\n",
            "\u001b[32m[I 2020-11-12 21:21:16,488]\u001b[0m Trial 327 finished with value: 0.5341028899276716 and parameters: {'regressor': 'RandomForestRegressor', 'n_estimators': 100, 'max_depth': 11}. Best is trial 258 with value: 0.5369973926191569.\u001b[0m\n",
            "\u001b[32m[I 2020-11-12 21:21:18,257]\u001b[0m Trial 328 finished with value: 0.5329980203728705 and parameters: {'regressor': 'RandomForestRegressor', 'n_estimators': 100, 'max_depth': 11}. Best is trial 258 with value: 0.5369973926191569.\u001b[0m\n",
            "\u001b[32m[I 2020-11-12 21:21:18,457]\u001b[0m Trial 329 finished with value: 0.5037792511032504 and parameters: {'regressor': 'RandomForestRegressor', 'n_estimators': 10, 'max_depth': 9}. Best is trial 258 with value: 0.5369973926191569.\u001b[0m\n",
            "\u001b[32m[I 2020-11-12 21:21:20,412]\u001b[0m Trial 330 finished with value: 0.5317579155948382 and parameters: {'regressor': 'RandomForestRegressor', 'n_estimators': 100, 'max_depth': 13}. Best is trial 258 with value: 0.5369973926191569.\u001b[0m\n",
            "\u001b[32m[I 2020-11-12 21:21:21,912]\u001b[0m Trial 331 finished with value: 0.5274337451572342 and parameters: {'regressor': 'RandomForestRegressor', 'n_estimators': 90, 'max_depth': 11}. Best is trial 258 with value: 0.5369973926191569.\u001b[0m\n",
            "\u001b[32m[I 2020-11-12 21:21:23,304]\u001b[0m Trial 332 finished with value: 0.5267700168003676 and parameters: {'regressor': 'RandomForestRegressor', 'n_estimators': 100, 'max_depth': 9}. Best is trial 258 with value: 0.5369973926191569.\u001b[0m\n",
            "\u001b[32m[I 2020-11-12 21:21:24,790]\u001b[0m Trial 333 finished with value: 0.5263355178057152 and parameters: {'regressor': 'RandomForestRegressor', 'n_estimators': 90, 'max_depth': 11}. Best is trial 258 with value: 0.5369973926191569.\u001b[0m\n",
            "\u001b[32m[I 2020-11-12 21:21:26,582]\u001b[0m Trial 334 finished with value: 0.5286088051166027 and parameters: {'regressor': 'RandomForestRegressor', 'n_estimators': 100, 'max_depth': 11}. Best is trial 258 with value: 0.5369973926191569.\u001b[0m\n",
            "\u001b[32m[I 2020-11-12 21:21:28,340]\u001b[0m Trial 335 finished with value: 0.531648955929533 and parameters: {'regressor': 'RandomForestRegressor', 'n_estimators': 100, 'max_depth': 11}. Best is trial 258 with value: 0.5369973926191569.\u001b[0m\n",
            "\u001b[32m[I 2020-11-12 21:21:30,446]\u001b[0m Trial 336 finished with value: 0.5283872521185167 and parameters: {'regressor': 'RandomForestRegressor', 'n_estimators': 100, 'max_depth': 13}. Best is trial 258 with value: 0.5369973926191569.\u001b[0m\n",
            "\u001b[32m[I 2020-11-12 21:21:30,502]\u001b[0m Trial 337 finished with value: 0.3502743311991934 and parameters: {'regressor': 'DecisionTreeRegressor', 'max_depth': 11, 'min_samples_split': 7}. Best is trial 258 with value: 0.5369973926191569.\u001b[0m\n",
            "\u001b[32m[I 2020-11-12 21:21:31,992]\u001b[0m Trial 338 finished with value: 0.5299725864407117 and parameters: {'regressor': 'RandomForestRegressor', 'n_estimators': 100, 'max_depth': 9}. Best is trial 258 with value: 0.5369973926191569.\u001b[0m\n",
            "\u001b[32m[I 2020-11-12 21:21:33,694]\u001b[0m Trial 339 finished with value: 0.5324532460456024 and parameters: {'regressor': 'RandomForestRegressor', 'n_estimators': 100, 'max_depth': 11}. Best is trial 258 with value: 0.5369973926191569.\u001b[0m\n",
            "\u001b[32m[I 2020-11-12 21:21:35,232]\u001b[0m Trial 340 finished with value: 0.5307911239399026 and parameters: {'regressor': 'RandomForestRegressor', 'n_estimators': 80, 'max_depth': 13}. Best is trial 258 with value: 0.5369973926191569.\u001b[0m\n",
            "\u001b[32m[I 2020-11-12 21:21:37,601]\u001b[0m Trial 341 finished with value: 0.5150064114628162 and parameters: {'regressor': 'RandomForestRegressor', 'n_estimators': 90, 'max_depth': 21}. Best is trial 258 with value: 0.5369973926191569.\u001b[0m\n",
            "\u001b[32m[I 2020-11-12 21:21:39,252]\u001b[0m Trial 342 finished with value: 0.5322656253309259 and parameters: {'regressor': 'RandomForestRegressor', 'n_estimators': 100, 'max_depth': 11}. Best is trial 258 with value: 0.5369973926191569.\u001b[0m\n",
            "\u001b[32m[I 2020-11-12 21:21:40,846]\u001b[0m Trial 343 finished with value: 0.5277067743101911 and parameters: {'regressor': 'RandomForestRegressor', 'n_estimators': 90, 'max_depth': 11}. Best is trial 258 with value: 0.5369973926191569.\u001b[0m\n",
            "\u001b[32m[I 2020-11-12 21:21:42,350]\u001b[0m Trial 344 finished with value: 0.5309354899898542 and parameters: {'regressor': 'RandomForestRegressor', 'n_estimators': 100, 'max_depth': 9}. Best is trial 258 with value: 0.5369973926191569.\u001b[0m\n",
            "\u001b[32m[I 2020-11-12 21:21:54,776]\u001b[0m Trial 345 finished with value: 0.4588406342157102 and parameters: {'regressor': 'MLPRegressor', 'activation': 'identity', 'learning_rate': 'invscaling', 'max_iter': 190}. Best is trial 258 with value: 0.5369973926191569.\u001b[0m\n",
            "\u001b[32m[I 2020-11-12 21:21:56,996]\u001b[0m Trial 346 finished with value: 0.5287552741887238 and parameters: {'regressor': 'RandomForestRegressor', 'n_estimators': 100, 'max_depth': 13}. Best is trial 258 with value: 0.5369973926191569.\u001b[0m\n",
            "\u001b[32m[I 2020-11-12 21:21:58,772]\u001b[0m Trial 347 finished with value: 0.528803983558525 and parameters: {'regressor': 'RandomForestRegressor', 'n_estimators': 100, 'max_depth': 11}. Best is trial 258 with value: 0.5369973926191569.\u001b[0m\n",
            "\u001b[32m[I 2020-11-12 21:22:00,627]\u001b[0m Trial 348 finished with value: 0.530893708969326 and parameters: {'regressor': 'RandomForestRegressor', 'n_estimators': 100, 'max_depth': 11}. Best is trial 258 with value: 0.5369973926191569.\u001b[0m\n",
            "\u001b[32m[I 2020-11-12 21:22:01,494]\u001b[0m Trial 349 finished with value: 0.47727660662752225 and parameters: {'regressor': 'RandomForestRegressor', 'n_estimators': 90, 'max_depth': 5}. Best is trial 258 with value: 0.5369973926191569.\u001b[0m\n",
            "\u001b[32m[I 2020-11-12 21:22:03,269]\u001b[0m Trial 350 finished with value: 0.5395805170449737 and parameters: {'regressor': 'RandomForestRegressor', 'n_estimators': 100, 'max_depth': 11}. Best is trial 350 with value: 0.5395805170449737.\u001b[0m\n",
            "\u001b[32m[I 2020-11-12 21:22:04,803]\u001b[0m Trial 351 finished with value: 0.5265244628166094 and parameters: {'regressor': 'RandomForestRegressor', 'n_estimators': 100, 'max_depth': 9}. Best is trial 350 with value: 0.5395805170449737.\u001b[0m\n",
            "\u001b[32m[I 2020-11-12 21:22:06,644]\u001b[0m Trial 352 finished with value: 0.5329138971955039 and parameters: {'regressor': 'RandomForestRegressor', 'n_estimators': 90, 'max_depth': 13}. Best is trial 350 with value: 0.5395805170449737.\u001b[0m\n",
            "\u001b[32m[I 2020-11-12 21:22:08,560]\u001b[0m Trial 353 finished with value: 0.5317406429858815 and parameters: {'regressor': 'RandomForestRegressor', 'n_estimators': 100, 'max_depth': 11}. Best is trial 350 with value: 0.5395805170449737.\u001b[0m\n",
            "\u001b[32m[I 2020-11-12 21:22:10,321]\u001b[0m Trial 354 finished with value: 0.5274289708149702 and parameters: {'regressor': 'RandomForestRegressor', 'n_estimators': 100, 'max_depth': 11}. Best is trial 350 with value: 0.5395805170449737.\u001b[0m\n",
            "\u001b[32m[I 2020-11-12 21:22:10,391]\u001b[0m Trial 355 finished with value: 0.5174392779554156 and parameters: {'regressor': 'LinearRegression'}. Best is trial 350 with value: 0.5395805170449737.\u001b[0m\n",
            "\u001b[32m[I 2020-11-12 21:22:12,254]\u001b[0m Trial 356 finished with value: 0.5317882602969319 and parameters: {'regressor': 'RandomForestRegressor', 'n_estimators': 100, 'max_depth': 11}. Best is trial 350 with value: 0.5395805170449737.\u001b[0m\n"
          ],
          "name": "stderr"
        },
        {
          "output_type": "stream",
          "text": [
            "\u001b[32m[I 2020-11-12 21:22:14,239]\u001b[0m Trial 357 finished with value: 0.5287241790768809 and parameters: {'regressor': 'RandomForestRegressor', 'n_estimators': 100, 'max_depth': 13}. Best is trial 350 with value: 0.5395805170449737.\u001b[0m\n",
            "\u001b[32m[I 2020-11-12 21:22:15,835]\u001b[0m Trial 358 finished with value: 0.5332865542208058 and parameters: {'regressor': 'RandomForestRegressor', 'n_estimators': 90, 'max_depth': 11}. Best is trial 350 with value: 0.5395805170449737.\u001b[0m\n",
            "\u001b[32m[I 2020-11-12 21:22:17,250]\u001b[0m Trial 359 finished with value: 0.5268384938165273 and parameters: {'regressor': 'RandomForestRegressor', 'n_estimators': 100, 'max_depth': 9}. Best is trial 350 with value: 0.5395805170449737.\u001b[0m\n",
            "\u001b[32m[I 2020-11-12 21:22:18,464]\u001b[0m Trial 360 finished with value: 0.5272797879015172 and parameters: {'regressor': 'RandomForestRegressor', 'n_estimators': 70, 'max_depth': 11}. Best is trial 350 with value: 0.5395805170449737.\u001b[0m\n",
            "\u001b[32m[I 2020-11-12 21:22:20,375]\u001b[0m Trial 361 finished with value: 0.534557099687115 and parameters: {'regressor': 'RandomForestRegressor', 'n_estimators': 90, 'max_depth': 13}. Best is trial 350 with value: 0.5395805170449737.\u001b[0m\n",
            "\u001b[32m[I 2020-11-12 21:22:22,179]\u001b[0m Trial 362 finished with value: 0.528974288260483 and parameters: {'regressor': 'RandomForestRegressor', 'n_estimators': 90, 'max_depth': 13}. Best is trial 350 with value: 0.5395805170449737.\u001b[0m\n",
            "\u001b[32m[I 2020-11-12 21:22:24,144]\u001b[0m Trial 363 finished with value: 0.5339813488163788 and parameters: {'regressor': 'RandomForestRegressor', 'n_estimators': 90, 'max_depth': 15}. Best is trial 350 with value: 0.5395805170449737.\u001b[0m\n",
            "\u001b[32m[I 2020-11-12 21:22:26,279]\u001b[0m Trial 364 finished with value: 0.5285796095485644 and parameters: {'regressor': 'RandomForestRegressor', 'n_estimators': 90, 'max_depth': 17}. Best is trial 350 with value: 0.5395805170449737.\u001b[0m\n",
            "\u001b[32m[I 2020-11-12 21:22:28,292]\u001b[0m Trial 365 finished with value: 0.5257711571814181 and parameters: {'regressor': 'RandomForestRegressor', 'n_estimators': 90, 'max_depth': 15}. Best is trial 350 with value: 0.5395805170449737.\u001b[0m\n",
            "\u001b[32m[I 2020-11-12 21:22:30,259]\u001b[0m Trial 366 finished with value: 0.5265881797010065 and parameters: {'regressor': 'RandomForestRegressor', 'n_estimators': 90, 'max_depth': 15}. Best is trial 350 with value: 0.5395805170449737.\u001b[0m\n",
            "\u001b[32m[I 2020-11-12 21:22:31,814]\u001b[0m Trial 367 finished with value: 0.5277214722978156 and parameters: {'regressor': 'RandomForestRegressor', 'n_estimators': 80, 'max_depth': 13}. Best is trial 350 with value: 0.5395805170449737.\u001b[0m\n",
            "\u001b[32m[I 2020-11-12 21:22:31,866]\u001b[0m Trial 368 finished with value: 0.2645843063681995 and parameters: {'regressor': 'DecisionTreeRegressor', 'max_depth': 17, 'min_samples_split': 9}. Best is trial 350 with value: 0.5395805170449737.\u001b[0m\n",
            "\u001b[32m[I 2020-11-12 21:22:33,637]\u001b[0m Trial 369 finished with value: 0.5300844605188277 and parameters: {'regressor': 'RandomForestRegressor', 'n_estimators': 90, 'max_depth': 13}. Best is trial 350 with value: 0.5395805170449737.\u001b[0m\n",
            "\u001b[32m[I 2020-11-12 21:22:35,593]\u001b[0m Trial 370 finished with value: 0.5251644002888344 and parameters: {'regressor': 'RandomForestRegressor', 'n_estimators': 90, 'max_depth': 15}. Best is trial 350 with value: 0.5395805170449737.\u001b[0m\n",
            "\u001b[32m[I 2020-11-12 21:22:37,603]\u001b[0m Trial 371 finished with value: 0.5206891821591624 and parameters: {'regressor': 'RandomForestRegressor', 'n_estimators': 90, 'max_depth': 15}. Best is trial 350 with value: 0.5395805170449737.\u001b[0m\n",
            "\u001b[32m[I 2020-11-12 21:22:39,391]\u001b[0m Trial 372 finished with value: 0.5286481440021945 and parameters: {'regressor': 'RandomForestRegressor', 'n_estimators': 90, 'max_depth': 13}. Best is trial 350 with value: 0.5395805170449737.\u001b[0m\n",
            "\u001b[32m[I 2020-11-12 21:22:40,998]\u001b[0m Trial 373 finished with value: 0.5277214776941614 and parameters: {'regressor': 'RandomForestRegressor', 'n_estimators': 80, 'max_depth': 13}. Best is trial 350 with value: 0.5395805170449737.\u001b[0m\n",
            "\u001b[32m[I 2020-11-12 21:22:42,808]\u001b[0m Trial 374 finished with value: 0.526139893049822 and parameters: {'regressor': 'RandomForestRegressor', 'n_estimators': 90, 'max_depth': 13}. Best is trial 350 with value: 0.5395805170449737.\u001b[0m\n",
            "\u001b[32m[I 2020-11-12 21:22:44,566]\u001b[0m Trial 375 finished with value: 0.5282507881581375 and parameters: {'regressor': 'RandomForestRegressor', 'n_estimators': 90, 'max_depth': 13}. Best is trial 350 with value: 0.5395805170449737.\u001b[0m\n",
            "\u001b[32m[I 2020-11-12 21:22:46,108]\u001b[0m Trial 376 finished with value: 0.5269379066626907 and parameters: {'regressor': 'RandomForestRegressor', 'n_estimators': 90, 'max_depth': 11}. Best is trial 350 with value: 0.5395805170449737.\u001b[0m\n",
            "\u001b[32m[I 2020-11-12 21:22:47,620]\u001b[0m Trial 377 finished with value: 0.5287914155201079 and parameters: {'regressor': 'RandomForestRegressor', 'n_estimators': 90, 'max_depth': 11}. Best is trial 350 with value: 0.5395805170449737.\u001b[0m\n",
            "\u001b[32m[I 2020-11-12 21:22:49,374]\u001b[0m Trial 378 finished with value: 0.5267385015706401 and parameters: {'regressor': 'RandomForestRegressor', 'n_estimators': 80, 'max_depth': 15}. Best is trial 350 with value: 0.5395805170449737.\u001b[0m\n",
            "\u001b[32m[I 2020-11-12 21:22:56,523]\u001b[0m Trial 379 finished with value: 0.2957732762447496 and parameters: {'regressor': 'MLPRegressor', 'activation': 'relu', 'learning_rate': 'constant', 'max_iter': 150}. Best is trial 350 with value: 0.5395805170449737.\u001b[0m\n",
            "\u001b[32m[I 2020-11-12 21:22:57,360]\u001b[0m Trial 380 finished with value: 0.5204413914944357 and parameters: {'regressor': 'RandomForestRegressor', 'n_estimators': 30, 'max_depth': 13}. Best is trial 350 with value: 0.5395805170449737.\u001b[0m\n",
            "\u001b[32m[I 2020-11-12 21:22:58,734]\u001b[0m Trial 381 finished with value: 0.5269401639002753 and parameters: {'regressor': 'RandomForestRegressor', 'n_estimators': 90, 'max_depth': 9}. Best is trial 350 with value: 0.5395805170449737.\u001b[0m\n",
            "\u001b[32m[I 2020-11-12 21:23:00,305]\u001b[0m Trial 382 finished with value: 0.5318482755597664 and parameters: {'regressor': 'RandomForestRegressor', 'n_estimators': 90, 'max_depth': 11}. Best is trial 350 with value: 0.5395805170449737.\u001b[0m\n",
            "\u001b[32m[I 2020-11-12 21:23:01,872]\u001b[0m Trial 383 finished with value: 0.5311968689317875 and parameters: {'regressor': 'RandomForestRegressor', 'n_estimators': 90, 'max_depth': 11}. Best is trial 350 with value: 0.5395805170449737.\u001b[0m\n",
            "\u001b[32m[I 2020-11-12 21:23:03,600]\u001b[0m Trial 384 finished with value: 0.5307221803703628 and parameters: {'regressor': 'RandomForestRegressor', 'n_estimators': 100, 'max_depth': 11}. Best is trial 350 with value: 0.5395805170449737.\u001b[0m\n",
            "\u001b[32m[I 2020-11-12 21:23:05,106]\u001b[0m Trial 385 finished with value: 0.5233679105359135 and parameters: {'regressor': 'RandomForestRegressor', 'n_estimators': 100, 'max_depth': 9}. Best is trial 350 with value: 0.5395805170449737.\u001b[0m\n",
            "\u001b[32m[I 2020-11-12 21:23:05,164]\u001b[0m Trial 386 finished with value: 0.5174392779554156 and parameters: {'regressor': 'LinearRegression'}. Best is trial 350 with value: 0.5395805170449737.\u001b[0m\n",
            "\u001b[32m[I 2020-11-12 21:23:07,091]\u001b[0m Trial 387 finished with value: 0.5276407340330105 and parameters: {'regressor': 'RandomForestRegressor', 'n_estimators': 90, 'max_depth': 13}. Best is trial 350 with value: 0.5395805170449737.\u001b[0m\n",
            "\u001b[32m[I 2020-11-12 21:23:08,137]\u001b[0m Trial 388 finished with value: 0.5295096415864696 and parameters: {'regressor': 'RandomForestRegressor', 'n_estimators': 60, 'max_depth': 11}. Best is trial 350 with value: 0.5395805170449737.\u001b[0m\n",
            "\u001b[32m[I 2020-11-12 21:23:09,927]\u001b[0m Trial 389 finished with value: 0.5300316788907963 and parameters: {'regressor': 'RandomForestRegressor', 'n_estimators': 100, 'max_depth': 11}. Best is trial 350 with value: 0.5395805170449737.\u001b[0m\n",
            "\u001b[32m[I 2020-11-12 21:23:11,422]\u001b[0m Trial 390 finished with value: 0.5245061302049157 and parameters: {'regressor': 'RandomForestRegressor', 'n_estimators': 100, 'max_depth': 9}. Best is trial 350 with value: 0.5395805170449737.\u001b[0m\n",
            "\u001b[32m[I 2020-11-12 21:23:13,412]\u001b[0m Trial 391 finished with value: 0.5292259335103606 and parameters: {'regressor': 'RandomForestRegressor', 'n_estimators': 100, 'max_depth': 13}. Best is trial 350 with value: 0.5395805170449737.\u001b[0m\n",
            "\u001b[32m[I 2020-11-12 21:23:14,951]\u001b[0m Trial 392 finished with value: 0.5242931770316575 and parameters: {'regressor': 'RandomForestRegressor', 'n_estimators': 90, 'max_depth': 11}. Best is trial 350 with value: 0.5395805170449737.\u001b[0m\n"
          ],
          "name": "stderr"
        },
        {
          "output_type": "stream",
          "text": [
            "\u001b[32m[I 2020-11-12 21:23:16,813]\u001b[0m Trial 393 finished with value: 0.5244916816766456 and parameters: {'regressor': 'RandomForestRegressor', 'n_estimators': 80, 'max_depth': 15}. Best is trial 350 with value: 0.5395805170449737.\u001b[0m\n",
            "\u001b[32m[I 2020-11-12 21:23:18,006]\u001b[0m Trial 394 finished with value: 0.5139493811695048 and parameters: {'regressor': 'RandomForestRegressor', 'n_estimators': 100, 'max_depth': 7}. Best is trial 350 with value: 0.5395805170449737.\u001b[0m\n",
            "\u001b[32m[I 2020-11-12 21:23:19,552]\u001b[0m Trial 395 finished with value: 0.5321718027289433 and parameters: {'regressor': 'RandomForestRegressor', 'n_estimators': 90, 'max_depth': 11}. Best is trial 350 with value: 0.5395805170449737.\u001b[0m\n",
            "\u001b[32m[I 2020-11-12 21:23:21,550]\u001b[0m Trial 396 finished with value: 0.528943790773914 and parameters: {'regressor': 'RandomForestRegressor', 'n_estimators': 100, 'max_depth': 13}. Best is trial 350 with value: 0.5395805170449737.\u001b[0m\n",
            "\u001b[32m[I 2020-11-12 21:23:23,338]\u001b[0m Trial 397 finished with value: 0.5335921026504957 and parameters: {'regressor': 'RandomForestRegressor', 'n_estimators': 100, 'max_depth': 11}. Best is trial 350 with value: 0.5395805170449737.\u001b[0m\n",
            "\u001b[32m[I 2020-11-12 21:23:25,111]\u001b[0m Trial 398 finished with value: 0.5311814778197073 and parameters: {'regressor': 'RandomForestRegressor', 'n_estimators': 100, 'max_depth': 11}. Best is trial 350 with value: 0.5395805170449737.\u001b[0m\n",
            "\u001b[32m[I 2020-11-12 21:23:25,158]\u001b[0m Trial 399 finished with value: 0.31642667486004505 and parameters: {'regressor': 'DecisionTreeRegressor', 'max_depth': 11, 'min_samples_split': 4}. Best is trial 350 with value: 0.5395805170449737.\u001b[0m\n",
            "\u001b[32m[I 2020-11-12 21:23:26,647]\u001b[0m Trial 400 finished with value: 0.5296356912097029 and parameters: {'regressor': 'RandomForestRegressor', 'n_estimators': 100, 'max_depth': 9}. Best is trial 350 with value: 0.5395805170449737.\u001b[0m\n",
            "\u001b[32m[I 2020-11-12 21:23:28,270]\u001b[0m Trial 401 finished with value: 0.5321273309948349 and parameters: {'regressor': 'RandomForestRegressor', 'n_estimators': 90, 'max_depth': 11}. Best is trial 350 with value: 0.5395805170449737.\u001b[0m\n",
            "\u001b[32m[I 2020-11-12 21:23:29,265]\u001b[0m Trial 402 finished with value: 0.5236153099755277 and parameters: {'regressor': 'RandomForestRegressor', 'n_estimators': 50, 'max_depth': 13}. Best is trial 350 with value: 0.5395805170449737.\u001b[0m\n",
            "\u001b[32m[I 2020-11-12 21:23:31,135]\u001b[0m Trial 403 finished with value: 0.5307157911668343 and parameters: {'regressor': 'RandomForestRegressor', 'n_estimators': 100, 'max_depth': 11}. Best is trial 350 with value: 0.5395805170449737.\u001b[0m\n",
            "\u001b[32m[I 2020-11-12 21:23:32,668]\u001b[0m Trial 404 finished with value: 0.529489596982671 and parameters: {'regressor': 'RandomForestRegressor', 'n_estimators': 100, 'max_depth': 9}. Best is trial 350 with value: 0.5395805170449737.\u001b[0m\n",
            "\u001b[32m[I 2020-11-12 21:23:34,221]\u001b[0m Trial 405 finished with value: 0.5305533461558986 and parameters: {'regressor': 'RandomForestRegressor', 'n_estimators': 90, 'max_depth': 11}. Best is trial 350 with value: 0.5395805170449737.\u001b[0m\n",
            "\u001b[32m[I 2020-11-12 21:23:36,262]\u001b[0m Trial 406 finished with value: 0.5323481957960754 and parameters: {'regressor': 'RandomForestRegressor', 'n_estimators': 100, 'max_depth': 13}. Best is trial 350 with value: 0.5395805170449737.\u001b[0m\n",
            "\u001b[32m[I 2020-11-12 21:23:38,047]\u001b[0m Trial 407 finished with value: 0.5294561359709635 and parameters: {'regressor': 'RandomForestRegressor', 'n_estimators': 100, 'max_depth': 11}. Best is trial 350 with value: 0.5395805170449737.\u001b[0m\n",
            "\u001b[32m[I 2020-11-12 21:23:49,740]\u001b[0m Trial 408 finished with value: 0.49791714309449087 and parameters: {'regressor': 'MLPRegressor', 'activation': 'logistic', 'learning_rate': 'invscaling', 'max_iter': 200}. Best is trial 350 with value: 0.5395805170449737.\u001b[0m\n",
            "\u001b[32m[I 2020-11-12 21:23:51,651]\u001b[0m Trial 409 finished with value: 0.5308643947673948 and parameters: {'regressor': 'RandomForestRegressor', 'n_estimators': 90, 'max_depth': 11}. Best is trial 350 with value: 0.5395805170449737.\u001b[0m\n",
            "\u001b[32m[I 2020-11-12 21:23:53,692]\u001b[0m Trial 410 finished with value: 0.5304943461759283 and parameters: {'regressor': 'RandomForestRegressor', 'n_estimators': 100, 'max_depth': 13}. Best is trial 350 with value: 0.5395805170449737.\u001b[0m\n",
            "\u001b[32m[I 2020-11-12 21:23:54,938]\u001b[0m Trial 411 finished with value: 0.528981066195281 and parameters: {'regressor': 'RandomForestRegressor', 'n_estimators': 80, 'max_depth': 9}. Best is trial 350 with value: 0.5395805170449737.\u001b[0m\n",
            "\u001b[32m[I 2020-11-12 21:23:56,759]\u001b[0m Trial 412 finished with value: 0.5279940106502349 and parameters: {'regressor': 'RandomForestRegressor', 'n_estimators': 100, 'max_depth': 11}. Best is trial 350 with value: 0.5395805170449737.\u001b[0m\n",
            "\u001b[32m[I 2020-11-12 21:23:58,830]\u001b[0m Trial 413 finished with value: 0.5310919883052085 and parameters: {'regressor': 'RandomForestRegressor', 'n_estimators': 100, 'max_depth': 13}. Best is trial 350 with value: 0.5395805170449737.\u001b[0m\n",
            "\u001b[32m[I 2020-11-12 21:23:59,527]\u001b[0m Trial 414 finished with value: 0.42057488250132313 and parameters: {'regressor': 'RandomForestRegressor', 'n_estimators': 90, 'max_depth': 3}. Best is trial 350 with value: 0.5395805170449737.\u001b[0m\n",
            "\u001b[32m[I 2020-11-12 21:24:01,523]\u001b[0m Trial 415 finished with value: 0.5302020525699125 and parameters: {'regressor': 'RandomForestRegressor', 'n_estimators': 100, 'max_depth': 11}. Best is trial 350 with value: 0.5395805170449737.\u001b[0m\n",
            "\u001b[32m[I 2020-11-12 21:24:03,073]\u001b[0m Trial 416 finished with value: 0.527739533775686 and parameters: {'regressor': 'RandomForestRegressor', 'n_estimators': 90, 'max_depth': 9}. Best is trial 350 with value: 0.5395805170449737.\u001b[0m\n",
            "\u001b[32m[I 2020-11-12 21:24:03,166]\u001b[0m Trial 417 finished with value: 0.5174392779554156 and parameters: {'regressor': 'LinearRegression'}. Best is trial 350 with value: 0.5395805170449737.\u001b[0m\n",
            "\u001b[32m[I 2020-11-12 21:24:05,231]\u001b[0m Trial 418 finished with value: 0.520808951403657 and parameters: {'regressor': 'RandomForestRegressor', 'n_estimators': 70, 'max_depth': 17}. Best is trial 350 with value: 0.5395805170449737.\u001b[0m\n",
            "\u001b[32m[I 2020-11-12 21:24:07,027]\u001b[0m Trial 419 finished with value: 0.5325439704014401 and parameters: {'regressor': 'RandomForestRegressor', 'n_estimators': 100, 'max_depth': 11}. Best is trial 350 with value: 0.5395805170449737.\u001b[0m\n",
            "\u001b[32m[I 2020-11-12 21:24:08,814]\u001b[0m Trial 420 finished with value: 0.5329668746615683 and parameters: {'regressor': 'RandomForestRegressor', 'n_estimators': 100, 'max_depth': 11}. Best is trial 350 with value: 0.5395805170449737.\u001b[0m\n",
            "\u001b[32m[I 2020-11-12 21:24:10,639]\u001b[0m Trial 421 finished with value: 0.5312655858691768 and parameters: {'regressor': 'RandomForestRegressor', 'n_estimators': 90, 'max_depth': 13}. Best is trial 350 with value: 0.5395805170449737.\u001b[0m\n",
            "\u001b[32m[I 2020-11-12 21:24:12,411]\u001b[0m Trial 422 finished with value: 0.5300777541988921 and parameters: {'regressor': 'RandomForestRegressor', 'n_estimators': 100, 'max_depth': 11}. Best is trial 350 with value: 0.5395805170449737.\u001b[0m\n",
            "\u001b[32m[I 2020-11-12 21:24:15,125]\u001b[0m Trial 423 finished with value: 0.5189324431042226 and parameters: {'regressor': 'RandomForestRegressor', 'n_estimators': 100, 'max_depth': 27}. Best is trial 350 with value: 0.5395805170449737.\u001b[0m\n",
            "\u001b[32m[I 2020-11-12 21:24:17,324]\u001b[0m Trial 424 finished with value: 0.5247626635892689 and parameters: {'regressor': 'RandomForestRegressor', 'n_estimators': 90, 'max_depth': 15}. Best is trial 350 with value: 0.5395805170449737.\u001b[0m\n",
            "\u001b[32m[I 2020-11-12 21:24:19,082]\u001b[0m Trial 425 finished with value: 0.5280666461541548 and parameters: {'regressor': 'RandomForestRegressor', 'n_estimators': 100, 'max_depth': 11}. Best is trial 350 with value: 0.5395805170449737.\u001b[0m\n",
            "\u001b[32m[I 2020-11-12 21:24:20,544]\u001b[0m Trial 426 finished with value: 0.5317928304354914 and parameters: {'regressor': 'RandomForestRegressor', 'n_estimators': 100, 'max_depth': 9}. Best is trial 350 with value: 0.5395805170449737.\u001b[0m\n",
            "\u001b[32m[I 2020-11-12 21:24:22,135]\u001b[0m Trial 427 finished with value: 0.5310452260283907 and parameters: {'regressor': 'RandomForestRegressor', 'n_estimators': 90, 'max_depth': 11}. Best is trial 350 with value: 0.5395805170449737.\u001b[0m\n",
            "\u001b[32m[I 2020-11-12 21:24:23,802]\u001b[0m Trial 428 finished with value: 0.5326982223321628 and parameters: {'regressor': 'RandomForestRegressor', 'n_estimators': 80, 'max_depth': 13}. Best is trial 350 with value: 0.5395805170449737.\u001b[0m\n"
          ],
          "name": "stderr"
        },
        {
          "output_type": "stream",
          "text": [
            "\u001b[32m[I 2020-11-12 21:24:25,776]\u001b[0m Trial 429 finished with value: 0.5315237502536498 and parameters: {'regressor': 'RandomForestRegressor', 'n_estimators': 100, 'max_depth': 11}. Best is trial 350 with value: 0.5395805170449737.\u001b[0m\n",
            "\u001b[32m[I 2020-11-12 21:24:25,826]\u001b[0m Trial 430 finished with value: 0.38469152008008056 and parameters: {'regressor': 'DecisionTreeRegressor', 'max_depth': 9, 'min_samples_split': 7}. Best is trial 350 with value: 0.5395805170449737.\u001b[0m\n",
            "\u001b[32m[I 2020-11-12 21:24:27,663]\u001b[0m Trial 431 finished with value: 0.5313489714884803 and parameters: {'regressor': 'RandomForestRegressor', 'n_estimators': 100, 'max_depth': 11}. Best is trial 350 with value: 0.5395805170449737.\u001b[0m\n",
            "\u001b[32m[I 2020-11-12 21:24:29,453]\u001b[0m Trial 432 finished with value: 0.5303130495131996 and parameters: {'regressor': 'RandomForestRegressor', 'n_estimators': 90, 'max_depth': 13}. Best is trial 350 with value: 0.5395805170449737.\u001b[0m\n",
            "\u001b[32m[I 2020-11-12 21:24:31,194]\u001b[0m Trial 433 finished with value: 0.5345459622652351 and parameters: {'regressor': 'RandomForestRegressor', 'n_estimators': 100, 'max_depth': 11}. Best is trial 350 with value: 0.5395805170449737.\u001b[0m\n",
            "\u001b[32m[I 2020-11-12 21:24:32,931]\u001b[0m Trial 434 finished with value: 0.5324411322034701 and parameters: {'regressor': 'RandomForestRegressor', 'n_estimators': 100, 'max_depth': 11}. Best is trial 350 with value: 0.5395805170449737.\u001b[0m\n",
            "\u001b[32m[I 2020-11-12 21:24:34,368]\u001b[0m Trial 435 finished with value: 0.527269367601837 and parameters: {'regressor': 'RandomForestRegressor', 'n_estimators': 100, 'max_depth': 9}. Best is trial 350 with value: 0.5395805170449737.\u001b[0m\n",
            "\u001b[32m[I 2020-11-12 21:24:35,925]\u001b[0m Trial 436 finished with value: 0.5285863784101391 and parameters: {'regressor': 'RandomForestRegressor', 'n_estimators': 90, 'max_depth': 11}. Best is trial 350 with value: 0.5395805170449737.\u001b[0m\n",
            "\u001b[32m[I 2020-11-12 21:24:37,919]\u001b[0m Trial 437 finished with value: 0.5251121897490038 and parameters: {'regressor': 'RandomForestRegressor', 'n_estimators': 100, 'max_depth': 13}. Best is trial 350 with value: 0.5395805170449737.\u001b[0m\n",
            "\u001b[32m[I 2020-11-12 21:24:52,644]\u001b[0m Trial 438 finished with value: 0.4505200151946417 and parameters: {'regressor': 'MLPRegressor', 'activation': 'identity', 'learning_rate': 'adaptive', 'max_iter': 180}. Best is trial 350 with value: 0.5395805170449737.\u001b[0m\n",
            "\u001b[32m[I 2020-11-12 21:24:54,577]\u001b[0m Trial 439 finished with value: 0.5305760349430741 and parameters: {'regressor': 'RandomForestRegressor', 'n_estimators': 100, 'max_depth': 11}. Best is trial 350 with value: 0.5395805170449737.\u001b[0m\n",
            "\u001b[32m[I 2020-11-12 21:24:56,346]\u001b[0m Trial 440 finished with value: 0.5331324888628849 and parameters: {'regressor': 'RandomForestRegressor', 'n_estimators': 100, 'max_depth': 11}. Best is trial 350 with value: 0.5395805170449737.\u001b[0m\n",
            "\u001b[32m[I 2020-11-12 21:24:58,164]\u001b[0m Trial 441 finished with value: 0.530485419882756 and parameters: {'regressor': 'RandomForestRegressor', 'n_estimators': 90, 'max_depth': 13}. Best is trial 350 with value: 0.5395805170449737.\u001b[0m\n",
            "\u001b[32m[I 2020-11-12 21:24:58,772]\u001b[0m Trial 442 finished with value: 0.5290837570725572 and parameters: {'regressor': 'RandomForestRegressor', 'n_estimators': 40, 'max_depth': 9}. Best is trial 350 with value: 0.5395805170449737.\u001b[0m\n",
            "\u001b[32m[I 2020-11-12 21:25:00,388]\u001b[0m Trial 443 finished with value: 0.5294815401916414 and parameters: {'regressor': 'RandomForestRegressor', 'n_estimators': 90, 'max_depth': 11}. Best is trial 350 with value: 0.5395805170449737.\u001b[0m\n",
            "\u001b[32m[I 2020-11-12 21:25:02,628]\u001b[0m Trial 444 finished with value: 0.5288513348910078 and parameters: {'regressor': 'RandomForestRegressor', 'n_estimators': 100, 'max_depth': 15}. Best is trial 350 with value: 0.5395805170449737.\u001b[0m\n",
            "\u001b[32m[I 2020-11-12 21:25:04,397]\u001b[0m Trial 445 finished with value: 0.5348120082690302 and parameters: {'regressor': 'RandomForestRegressor', 'n_estimators': 100, 'max_depth': 11}. Best is trial 350 with value: 0.5395805170449737.\u001b[0m\n",
            "\u001b[32m[I 2020-11-12 21:25:06,148]\u001b[0m Trial 446 finished with value: 0.5291294591382254 and parameters: {'regressor': 'RandomForestRegressor', 'n_estimators': 100, 'max_depth': 11}. Best is trial 350 with value: 0.5395805170449737.\u001b[0m\n",
            "\u001b[32m[I 2020-11-12 21:25:07,713]\u001b[0m Trial 447 finished with value: 0.5293224689505965 and parameters: {'regressor': 'RandomForestRegressor', 'n_estimators': 90, 'max_depth': 11}. Best is trial 350 with value: 0.5395805170449737.\u001b[0m\n",
            "\u001b[32m[I 2020-11-12 21:25:09,109]\u001b[0m Trial 448 finished with value: 0.5317203817615697 and parameters: {'regressor': 'RandomForestRegressor', 'n_estimators': 80, 'max_depth': 11}. Best is trial 350 with value: 0.5395805170449737.\u001b[0m\n",
            "\u001b[32m[I 2020-11-12 21:25:10,877]\u001b[0m Trial 449 finished with value: 0.5339440055750128 and parameters: {'regressor': 'RandomForestRegressor', 'n_estimators': 100, 'max_depth': 11}. Best is trial 350 with value: 0.5395805170449737.\u001b[0m\n",
            "\u001b[32m[I 2020-11-12 21:25:12,643]\u001b[0m Trial 450 finished with value: 0.531148216645138 and parameters: {'regressor': 'RandomForestRegressor', 'n_estimators': 100, 'max_depth': 11}. Best is trial 350 with value: 0.5395805170449737.\u001b[0m\n",
            "\u001b[32m[I 2020-11-12 21:25:12,742]\u001b[0m Trial 451 finished with value: 0.5174392779554156 and parameters: {'regressor': 'LinearRegression'}. Best is trial 350 with value: 0.5395805170449737.\u001b[0m\n",
            "\u001b[32m[I 2020-11-12 21:25:14,883]\u001b[0m Trial 452 finished with value: 0.5313371697306413 and parameters: {'regressor': 'RandomForestRegressor', 'n_estimators': 100, 'max_depth': 13}. Best is trial 350 with value: 0.5395805170449737.\u001b[0m\n",
            "\u001b[32m[I 2020-11-12 21:25:16,621]\u001b[0m Trial 453 finished with value: 0.5310511475540356 and parameters: {'regressor': 'RandomForestRegressor', 'n_estimators': 100, 'max_depth': 11}. Best is trial 350 with value: 0.5395805170449737.\u001b[0m\n",
            "\u001b[32m[I 2020-11-12 21:25:18,402]\u001b[0m Trial 454 finished with value: 0.5315583611920124 and parameters: {'regressor': 'RandomForestRegressor', 'n_estimators': 100, 'max_depth': 11}. Best is trial 350 with value: 0.5395805170449737.\u001b[0m\n",
            "\u001b[32m[I 2020-11-12 21:25:19,832]\u001b[0m Trial 455 finished with value: 0.5250231478541938 and parameters: {'regressor': 'RandomForestRegressor', 'n_estimators': 70, 'max_depth': 13}. Best is trial 350 with value: 0.5395805170449737.\u001b[0m\n",
            "\u001b[32m[I 2020-11-12 21:25:21,629]\u001b[0m Trial 456 finished with value: 0.5326151535761794 and parameters: {'regressor': 'RandomForestRegressor', 'n_estimators': 100, 'max_depth': 11}. Best is trial 350 with value: 0.5395805170449737.\u001b[0m\n",
            "\u001b[32m[I 2020-11-12 21:25:23,675]\u001b[0m Trial 457 finished with value: 0.5313329060835357 and parameters: {'regressor': 'RandomForestRegressor', 'n_estimators': 100, 'max_depth': 13}. Best is trial 350 with value: 0.5395805170449737.\u001b[0m\n",
            "\u001b[32m[I 2020-11-12 21:25:25,507]\u001b[0m Trial 458 finished with value: 0.5308331485765367 and parameters: {'regressor': 'RandomForestRegressor', 'n_estimators': 100, 'max_depth': 11}. Best is trial 350 with value: 0.5395805170449737.\u001b[0m\n",
            "\u001b[32m[I 2020-11-12 21:25:27,264]\u001b[0m Trial 459 finished with value: 0.530479303098579 and parameters: {'regressor': 'RandomForestRegressor', 'n_estimators': 100, 'max_depth': 11}. Best is trial 350 with value: 0.5395805170449737.\u001b[0m\n",
            "\u001b[32m[I 2020-11-12 21:25:27,319]\u001b[0m Trial 460 finished with value: 0.2600667624068663 and parameters: {'regressor': 'DecisionTreeRegressor', 'max_depth': 13, 'min_samples_split': 3}. Best is trial 350 with value: 0.5395805170449737.\u001b[0m\n",
            "\u001b[32m[I 2020-11-12 21:25:29,086]\u001b[0m Trial 461 finished with value: 0.5322086688134606 and parameters: {'regressor': 'RandomForestRegressor', 'n_estimators': 100, 'max_depth': 11}. Best is trial 350 with value: 0.5395805170449737.\u001b[0m\n",
            "\u001b[32m[I 2020-11-12 21:25:30,825]\u001b[0m Trial 462 finished with value: 0.5278887997478654 and parameters: {'regressor': 'RandomForestRegressor', 'n_estimators': 100, 'max_depth': 11}. Best is trial 350 with value: 0.5395805170449737.\u001b[0m\n",
            "\u001b[32m[I 2020-11-12 21:25:32,683]\u001b[0m Trial 463 finished with value: 0.5328660433535554 and parameters: {'regressor': 'RandomForestRegressor', 'n_estimators': 100, 'max_depth': 11}. Best is trial 350 with value: 0.5395805170449737.\u001b[0m\n"
          ],
          "name": "stderr"
        },
        {
          "output_type": "stream",
          "text": [
            "\u001b[32m[I 2020-11-12 21:25:34,744]\u001b[0m Trial 464 finished with value: 0.5289266207046526 and parameters: {'regressor': 'RandomForestRegressor', 'n_estimators': 100, 'max_depth': 13}. Best is trial 350 with value: 0.5395805170449737.\u001b[0m\n",
            "\u001b[32m[I 2020-11-12 21:25:36,489]\u001b[0m Trial 465 finished with value: 0.5315772082070227 and parameters: {'regressor': 'RandomForestRegressor', 'n_estimators': 100, 'max_depth': 11}. Best is trial 350 with value: 0.5395805170449737.\u001b[0m\n",
            "\u001b[32m[I 2020-11-12 21:25:37,952]\u001b[0m Trial 466 finished with value: 0.5253805944701426 and parameters: {'regressor': 'RandomForestRegressor', 'n_estimators': 100, 'max_depth': 9}. Best is trial 350 with value: 0.5395805170449737.\u001b[0m\n",
            "\u001b[32m[I 2020-11-12 21:25:39,756]\u001b[0m Trial 467 finished with value: 0.5300952191429175 and parameters: {'regressor': 'RandomForestRegressor', 'n_estimators': 100, 'max_depth': 11}. Best is trial 350 with value: 0.5395805170449737.\u001b[0m\n",
            "\u001b[32m[I 2020-11-12 21:25:40,828]\u001b[0m Trial 468 finished with value: 0.5292669365043862 and parameters: {'regressor': 'RandomForestRegressor', 'n_estimators': 60, 'max_depth': 11}. Best is trial 350 with value: 0.5395805170449737.\u001b[0m\n",
            "\u001b[32m[I 2020-11-12 21:25:43,538]\u001b[0m Trial 469 finished with value: 0.5274681076320558 and parameters: {'regressor': 'RandomForestRegressor', 'n_estimators': 100, 'max_depth': 31}. Best is trial 350 with value: 0.5395805170449737.\u001b[0m\n",
            "\u001b[32m[I 2020-11-12 21:26:00,910]\u001b[0m Trial 470 finished with value: 0.45028188192414165 and parameters: {'regressor': 'MLPRegressor', 'activation': 'tanh', 'learning_rate': 'constant', 'max_iter': 170}. Best is trial 350 with value: 0.5395805170449737.\u001b[0m\n",
            "\u001b[32m[I 2020-11-12 21:26:02,987]\u001b[0m Trial 471 finished with value: 0.5289033032120813 and parameters: {'regressor': 'RandomForestRegressor', 'n_estimators': 100, 'max_depth': 11}. Best is trial 350 with value: 0.5395805170449737.\u001b[0m\n",
            "\u001b[32m[I 2020-11-12 21:26:05,029]\u001b[0m Trial 472 finished with value: 0.5299585213576321 and parameters: {'regressor': 'RandomForestRegressor', 'n_estimators': 100, 'max_depth': 13}. Best is trial 350 with value: 0.5395805170449737.\u001b[0m\n",
            "\u001b[32m[I 2020-11-12 21:26:06,576]\u001b[0m Trial 473 finished with value: 0.5283730497303931 and parameters: {'regressor': 'RandomForestRegressor', 'n_estimators': 100, 'max_depth': 9}. Best is trial 350 with value: 0.5395805170449737.\u001b[0m\n",
            "\u001b[32m[I 2020-11-12 21:26:08,566]\u001b[0m Trial 474 finished with value: 0.5326373755968913 and parameters: {'regressor': 'RandomForestRegressor', 'n_estimators': 100, 'max_depth': 13}. Best is trial 350 with value: 0.5395805170449737.\u001b[0m\n",
            "\u001b[32m[I 2020-11-12 21:26:09,982]\u001b[0m Trial 475 finished with value: 0.5341706287883455 and parameters: {'regressor': 'RandomForestRegressor', 'n_estimators': 80, 'max_depth': 11}. Best is trial 350 with value: 0.5395805170449737.\u001b[0m\n",
            "\u001b[32m[I 2020-11-12 21:26:11,912]\u001b[0m Trial 476 finished with value: 0.5218806161986295 and parameters: {'regressor': 'RandomForestRegressor', 'n_estimators': 80, 'max_depth': 17}. Best is trial 350 with value: 0.5395805170449737.\u001b[0m\n",
            "\u001b[32m[I 2020-11-12 21:26:13,322]\u001b[0m Trial 477 finished with value: 0.5329856034761482 and parameters: {'regressor': 'RandomForestRegressor', 'n_estimators': 80, 'max_depth': 11}. Best is trial 350 with value: 0.5395805170449737.\u001b[0m\n",
            "\u001b[32m[I 2020-11-12 21:26:14,698]\u001b[0m Trial 478 finished with value: 0.532594335482008 and parameters: {'regressor': 'RandomForestRegressor', 'n_estimators': 80, 'max_depth': 11}. Best is trial 350 with value: 0.5395805170449737.\u001b[0m\n",
            "\u001b[32m[I 2020-11-12 21:26:14,793]\u001b[0m Trial 479 finished with value: 0.5174392779554156 and parameters: {'regressor': 'LinearRegression'}. Best is trial 350 with value: 0.5395805170449737.\u001b[0m\n",
            "\u001b[32m[I 2020-11-12 21:26:16,712]\u001b[0m Trial 480 finished with value: 0.5244278930542094 and parameters: {'regressor': 'RandomForestRegressor', 'n_estimators': 80, 'max_depth': 15}. Best is trial 350 with value: 0.5395805170449737.\u001b[0m\n",
            "\u001b[32m[I 2020-11-12 21:26:18,133]\u001b[0m Trial 481 finished with value: 0.5277632235078438 and parameters: {'regressor': 'RandomForestRegressor', 'n_estimators': 80, 'max_depth': 11}. Best is trial 350 with value: 0.5395805170449737.\u001b[0m\n",
            "\u001b[32m[I 2020-11-12 21:26:19,320]\u001b[0m Trial 482 finished with value: 0.5245272918096584 and parameters: {'regressor': 'RandomForestRegressor', 'n_estimators': 80, 'max_depth': 9}. Best is trial 350 with value: 0.5395805170449737.\u001b[0m\n",
            "\u001b[32m[I 2020-11-12 21:26:20,947]\u001b[0m Trial 483 finished with value: 0.5317856631361393 and parameters: {'regressor': 'RandomForestRegressor', 'n_estimators': 80, 'max_depth': 13}. Best is trial 350 with value: 0.5395805170449737.\u001b[0m\n",
            "\u001b[32m[I 2020-11-12 21:26:22,190]\u001b[0m Trial 484 finished with value: 0.5284064223065241 and parameters: {'regressor': 'RandomForestRegressor', 'n_estimators': 70, 'max_depth': 11}. Best is trial 350 with value: 0.5395805170449737.\u001b[0m\n",
            "\u001b[32m[I 2020-11-12 21:26:23,613]\u001b[0m Trial 485 finished with value: 0.5328161365529804 and parameters: {'regressor': 'RandomForestRegressor', 'n_estimators': 80, 'max_depth': 11}. Best is trial 350 with value: 0.5395805170449737.\u001b[0m\n",
            "\u001b[32m[I 2020-11-12 21:26:25,598]\u001b[0m Trial 486 finished with value: 0.5276458020015671 and parameters: {'regressor': 'RandomForestRegressor', 'n_estimators': 90, 'max_depth': 13}. Best is trial 350 with value: 0.5395805170449737.\u001b[0m\n",
            "\u001b[32m[I 2020-11-12 21:26:26,776]\u001b[0m Trial 487 finished with value: 0.5279937189088568 and parameters: {'regressor': 'RandomForestRegressor', 'n_estimators': 80, 'max_depth': 9}. Best is trial 350 with value: 0.5395805170449737.\u001b[0m\n",
            "\u001b[32m[I 2020-11-12 21:26:28,346]\u001b[0m Trial 488 finished with value: 0.5304723991252371 and parameters: {'regressor': 'RandomForestRegressor', 'n_estimators': 90, 'max_depth': 11}. Best is trial 350 with value: 0.5395805170449737.\u001b[0m\n",
            "\u001b[32m[I 2020-11-12 21:26:30,194]\u001b[0m Trial 489 finished with value: 0.5340803983495068 and parameters: {'regressor': 'RandomForestRegressor', 'n_estimators': 100, 'max_depth': 11}. Best is trial 350 with value: 0.5395805170449737.\u001b[0m\n",
            "\u001b[32m[I 2020-11-12 21:26:31,921]\u001b[0m Trial 490 finished with value: 0.5304610895082752 and parameters: {'regressor': 'RandomForestRegressor', 'n_estimators': 100, 'max_depth': 11}. Best is trial 350 with value: 0.5395805170449737.\u001b[0m\n",
            "\u001b[32m[I 2020-11-12 21:26:33,935]\u001b[0m Trial 491 finished with value: 0.5289615586671432 and parameters: {'regressor': 'RandomForestRegressor', 'n_estimators': 100, 'max_depth': 13}. Best is trial 350 with value: 0.5395805170449737.\u001b[0m\n",
            "\u001b[32m[I 2020-11-12 21:26:33,983]\u001b[0m Trial 492 finished with value: 0.3471655870964657 and parameters: {'regressor': 'DecisionTreeRegressor', 'max_depth': 11, 'min_samples_split': 9}. Best is trial 350 with value: 0.5395805170449737.\u001b[0m\n",
            "\u001b[32m[I 2020-11-12 21:26:35,772]\u001b[0m Trial 493 finished with value: 0.532510035790192 and parameters: {'regressor': 'RandomForestRegressor', 'n_estimators': 100, 'max_depth': 11}. Best is trial 350 with value: 0.5395805170449737.\u001b[0m\n",
            "\u001b[32m[I 2020-11-12 21:26:37,236]\u001b[0m Trial 494 finished with value: 0.5253549914906723 and parameters: {'regressor': 'RandomForestRegressor', 'n_estimators': 100, 'max_depth': 9}. Best is trial 350 with value: 0.5395805170449737.\u001b[0m\n",
            "\u001b[32m[I 2020-11-12 21:26:39,407]\u001b[0m Trial 495 finished with value: 0.5301888061286743 and parameters: {'regressor': 'RandomForestRegressor', 'n_estimators': 100, 'max_depth': 13}. Best is trial 350 with value: 0.5395805170449737.\u001b[0m\n",
            "\u001b[32m[I 2020-11-12 21:26:41,229]\u001b[0m Trial 496 finished with value: 0.5316432859426896 and parameters: {'regressor': 'RandomForestRegressor', 'n_estimators': 100, 'max_depth': 11}. Best is trial 350 with value: 0.5395805170449737.\u001b[0m\n",
            "\u001b[32m[I 2020-11-12 21:26:43,208]\u001b[0m Trial 497 finished with value: 0.5329620755220272 and parameters: {'regressor': 'RandomForestRegressor', 'n_estimators': 100, 'max_depth': 11}. Best is trial 350 with value: 0.5395805170449737.\u001b[0m\n",
            "\u001b[32m[I 2020-11-12 21:26:45,000]\u001b[0m Trial 498 finished with value: 0.5309565346296117 and parameters: {'regressor': 'RandomForestRegressor', 'n_estimators': 100, 'max_depth': 11}. Best is trial 350 with value: 0.5395805170449737.\u001b[0m\n",
            "\u001b[32m[I 2020-11-12 21:26:46,589]\u001b[0m Trial 499 finished with value: 0.5305813733676978 and parameters: {'regressor': 'RandomForestRegressor', 'n_estimators': 90, 'max_depth': 11}. Best is trial 350 with value: 0.5395805170449737.\u001b[0m\n"
          ],
          "name": "stderr"
        },
        {
          "output_type": "stream",
          "text": [
            "\u001b[32m[I 2020-11-12 21:26:50,097]\u001b[0m Trial 500 finished with value: 0.429283634798584 and parameters: {'regressor': 'MLPRegressor', 'activation': 'relu', 'learning_rate': 'adaptive', 'max_iter': 190}. Best is trial 350 with value: 0.5395805170449737.\u001b[0m\n",
            "\u001b[32m[I 2020-11-12 21:26:52,318]\u001b[0m Trial 501 finished with value: 0.5334458725576313 and parameters: {'regressor': 'RandomForestRegressor', 'n_estimators': 100, 'max_depth': 13}. Best is trial 350 with value: 0.5395805170449737.\u001b[0m\n",
            "\u001b[32m[I 2020-11-12 21:26:53,800]\u001b[0m Trial 502 finished with value: 0.5296554585898154 and parameters: {'regressor': 'RandomForestRegressor', 'n_estimators': 100, 'max_depth': 9}. Best is trial 350 with value: 0.5395805170449737.\u001b[0m\n",
            "\u001b[32m[I 2020-11-12 21:26:55,410]\u001b[0m Trial 503 finished with value: 0.527778918909285 and parameters: {'regressor': 'RandomForestRegressor', 'n_estimators': 90, 'max_depth': 11}. Best is trial 350 with value: 0.5395805170449737.\u001b[0m\n",
            "\u001b[32m[I 2020-11-12 21:26:57,406]\u001b[0m Trial 504 finished with value: 0.5303303999285662 and parameters: {'regressor': 'RandomForestRegressor', 'n_estimators': 100, 'max_depth': 13}. Best is trial 350 with value: 0.5395805170449737.\u001b[0m\n",
            "\u001b[32m[I 2020-11-12 21:26:59,148]\u001b[0m Trial 505 finished with value: 0.5310976595550427 and parameters: {'regressor': 'RandomForestRegressor', 'n_estimators': 100, 'max_depth': 11}. Best is trial 350 with value: 0.5395805170449737.\u001b[0m\n",
            "\u001b[32m[I 2020-11-12 21:27:00,684]\u001b[0m Trial 506 finished with value: 0.5289287522511128 and parameters: {'regressor': 'RandomForestRegressor', 'n_estimators': 90, 'max_depth': 11}. Best is trial 350 with value: 0.5395805170449737.\u001b[0m\n",
            "\u001b[32m[I 2020-11-12 21:27:03,224]\u001b[0m Trial 507 finished with value: 0.528531073229811 and parameters: {'regressor': 'RandomForestRegressor', 'n_estimators': 100, 'max_depth': 19}. Best is trial 350 with value: 0.5395805170449737.\u001b[0m\n",
            "\u001b[32m[I 2020-11-12 21:27:05,503]\u001b[0m Trial 508 finished with value: 0.525493175605034 and parameters: {'regressor': 'RandomForestRegressor', 'n_estimators': 100, 'max_depth': 15}. Best is trial 350 with value: 0.5395805170449737.\u001b[0m\n",
            "\u001b[32m[I 2020-11-12 21:27:05,603]\u001b[0m Trial 509 finished with value: 0.5174392779554156 and parameters: {'regressor': 'LinearRegression'}. Best is trial 350 with value: 0.5395805170449737.\u001b[0m\n",
            "\u001b[32m[I 2020-11-12 21:27:07,114]\u001b[0m Trial 510 finished with value: 0.5309298339573475 and parameters: {'regressor': 'RandomForestRegressor', 'n_estimators': 90, 'max_depth': 9}. Best is trial 350 with value: 0.5395805170449737.\u001b[0m\n",
            "\u001b[32m[I 2020-11-12 21:27:09,156]\u001b[0m Trial 511 finished with value: 0.5300099705804051 and parameters: {'regressor': 'RandomForestRegressor', 'n_estimators': 100, 'max_depth': 13}. Best is trial 350 with value: 0.5395805170449737.\u001b[0m\n",
            "\u001b[32m[I 2020-11-12 21:27:11,843]\u001b[0m Trial 512 finished with value: 0.5171443490261011 and parameters: {'regressor': 'RandomForestRegressor', 'n_estimators': 100, 'max_depth': 25}. Best is trial 350 with value: 0.5395805170449737.\u001b[0m\n",
            "\u001b[32m[I 2020-11-12 21:27:13,444]\u001b[0m Trial 513 finished with value: 0.5310309949300815 and parameters: {'regressor': 'RandomForestRegressor', 'n_estimators': 90, 'max_depth': 11}. Best is trial 350 with value: 0.5395805170449737.\u001b[0m\n",
            "\u001b[32m[I 2020-11-12 21:27:14,919]\u001b[0m Trial 514 finished with value: 0.5268467284128758 and parameters: {'regressor': 'RandomForestRegressor', 'n_estimators': 100, 'max_depth': 9}. Best is trial 350 with value: 0.5395805170449737.\u001b[0m\n",
            "\u001b[32m[I 2020-11-12 21:27:16,893]\u001b[0m Trial 515 finished with value: 0.5285055735332933 and parameters: {'regressor': 'RandomForestRegressor', 'n_estimators': 100, 'max_depth': 13}. Best is trial 350 with value: 0.5395805170449737.\u001b[0m\n",
            "\u001b[32m[I 2020-11-12 21:27:18,630]\u001b[0m Trial 516 finished with value: 0.5332640300366477 and parameters: {'regressor': 'RandomForestRegressor', 'n_estimators': 100, 'max_depth': 11}. Best is trial 350 with value: 0.5395805170449737.\u001b[0m\n",
            "\u001b[32m[I 2020-11-12 21:27:20,841]\u001b[0m Trial 517 finished with value: 0.5296703666708205 and parameters: {'regressor': 'RandomForestRegressor', 'n_estimators': 100, 'max_depth': 15}. Best is trial 350 with value: 0.5395805170449737.\u001b[0m\n",
            "\u001b[32m[I 2020-11-12 21:27:22,397]\u001b[0m Trial 518 finished with value: 0.5250232265810422 and parameters: {'regressor': 'RandomForestRegressor', 'n_estimators': 90, 'max_depth': 11}. Best is trial 350 with value: 0.5395805170449737.\u001b[0m\n",
            "\u001b[32m[I 2020-11-12 21:27:24,164]\u001b[0m Trial 519 finished with value: 0.5320493993547755 and parameters: {'regressor': 'RandomForestRegressor', 'n_estimators': 100, 'max_depth': 11}. Best is trial 350 with value: 0.5395805170449737.\u001b[0m\n",
            "\u001b[32m[I 2020-11-12 21:27:25,954]\u001b[0m Trial 520 finished with value: 0.5288552198412585 and parameters: {'regressor': 'RandomForestRegressor', 'n_estimators': 100, 'max_depth': 11}. Best is trial 350 with value: 0.5395805170449737.\u001b[0m\n",
            "\u001b[32m[I 2020-11-12 21:27:27,771]\u001b[0m Trial 521 finished with value: 0.5276613576804963 and parameters: {'regressor': 'RandomForestRegressor', 'n_estimators': 90, 'max_depth': 13}. Best is trial 350 with value: 0.5395805170449737.\u001b[0m\n",
            "\u001b[32m[I 2020-11-12 21:27:27,818]\u001b[0m Trial 522 finished with value: 0.3756181518041881 and parameters: {'regressor': 'DecisionTreeRegressor', 'max_depth': 9, 'min_samples_split': 5}. Best is trial 350 with value: 0.5395805170449737.\u001b[0m\n",
            "\u001b[32m[I 2020-11-12 21:27:29,605]\u001b[0m Trial 523 finished with value: 0.5282701465972466 and parameters: {'regressor': 'RandomForestRegressor', 'n_estimators': 100, 'max_depth': 11}. Best is trial 350 with value: 0.5395805170449737.\u001b[0m\n",
            "\u001b[32m[I 2020-11-12 21:27:31,359]\u001b[0m Trial 524 finished with value: 0.5327615290124151 and parameters: {'regressor': 'RandomForestRegressor', 'n_estimators': 100, 'max_depth': 11}. Best is trial 350 with value: 0.5395805170449737.\u001b[0m\n",
            "\u001b[32m[I 2020-11-12 21:27:31,985]\u001b[0m Trial 525 finished with value: 0.5164037802475555 and parameters: {'regressor': 'RandomForestRegressor', 'n_estimators': 30, 'max_depth': 13}. Best is trial 350 with value: 0.5395805170449737.\u001b[0m\n",
            "\u001b[32m[I 2020-11-12 21:27:33,454]\u001b[0m Trial 526 finished with value: 0.5282159402081734 and parameters: {'regressor': 'RandomForestRegressor', 'n_estimators': 100, 'max_depth': 9}. Best is trial 350 with value: 0.5395805170449737.\u001b[0m\n",
            "\u001b[32m[I 2020-11-12 21:27:35,062]\u001b[0m Trial 527 finished with value: 0.5325122602594098 and parameters: {'regressor': 'RandomForestRegressor', 'n_estimators': 90, 'max_depth': 11}. Best is trial 350 with value: 0.5395805170449737.\u001b[0m\n",
            "\u001b[32m[I 2020-11-12 21:27:36,818]\u001b[0m Trial 528 finished with value: 0.5316610583904932 and parameters: {'regressor': 'RandomForestRegressor', 'n_estimators': 100, 'max_depth': 11}. Best is trial 350 with value: 0.5395805170449737.\u001b[0m\n",
            "\u001b[32m[I 2020-11-12 21:27:55,285]\u001b[0m Trial 529 finished with value: 0.38287897372429314 and parameters: {'regressor': 'MLPRegressor', 'activation': 'logistic', 'learning_rate': 'invscaling', 'max_iter': 160}. Best is trial 350 with value: 0.5395805170449737.\u001b[0m\n",
            "\u001b[32m[I 2020-11-12 21:27:57,061]\u001b[0m Trial 530 finished with value: 0.5321042671170585 and parameters: {'regressor': 'RandomForestRegressor', 'n_estimators': 90, 'max_depth': 11}. Best is trial 350 with value: 0.5395805170449737.\u001b[0m\n",
            "\u001b[32m[I 2020-11-12 21:27:59,055]\u001b[0m Trial 531 finished with value: 0.527832981888686 and parameters: {'regressor': 'RandomForestRegressor', 'n_estimators': 100, 'max_depth': 13}. Best is trial 350 with value: 0.5395805170449737.\u001b[0m\n",
            "\u001b[32m[I 2020-11-12 21:28:00,525]\u001b[0m Trial 532 finished with value: 0.524514008393882 and parameters: {'regressor': 'RandomForestRegressor', 'n_estimators': 100, 'max_depth': 9}. Best is trial 350 with value: 0.5395805170449737.\u001b[0m\n",
            "\u001b[32m[I 2020-11-12 21:28:02,278]\u001b[0m Trial 533 finished with value: 0.5312090199419475 and parameters: {'regressor': 'RandomForestRegressor', 'n_estimators': 100, 'max_depth': 11}. Best is trial 350 with value: 0.5395805170449737.\u001b[0m\n",
            "\u001b[32m[I 2020-11-12 21:28:03,706]\u001b[0m Trial 534 finished with value: 0.5212654753063957 and parameters: {'regressor': 'RandomForestRegressor', 'n_estimators': 70, 'max_depth': 13}. Best is trial 350 with value: 0.5395805170449737.\u001b[0m\n"
          ],
          "name": "stderr"
        },
        {
          "output_type": "stream",
          "text": [
            "\u001b[32m[I 2020-11-12 21:28:06,008]\u001b[0m Trial 535 finished with value: 0.5256048135213316 and parameters: {'regressor': 'RandomForestRegressor', 'n_estimators': 100, 'max_depth': 15}. Best is trial 350 with value: 0.5395805170449737.\u001b[0m\n",
            "\u001b[32m[I 2020-11-12 21:28:07,582]\u001b[0m Trial 536 finished with value: 0.5285534125463494 and parameters: {'regressor': 'RandomForestRegressor', 'n_estimators': 90, 'max_depth': 11}. Best is trial 350 with value: 0.5395805170449737.\u001b[0m\n",
            "\u001b[32m[I 2020-11-12 21:28:09,119]\u001b[0m Trial 537 finished with value: 0.5293702698390463 and parameters: {'regressor': 'RandomForestRegressor', 'n_estimators': 90, 'max_depth': 11}. Best is trial 350 with value: 0.5395805170449737.\u001b[0m\n",
            "\u001b[32m[I 2020-11-12 21:28:10,835]\u001b[0m Trial 538 finished with value: 0.5279729763110996 and parameters: {'regressor': 'RandomForestRegressor', 'n_estimators': 100, 'max_depth': 11}. Best is trial 350 with value: 0.5395805170449737.\u001b[0m\n",
            "\u001b[32m[I 2020-11-12 21:28:10,902]\u001b[0m Trial 539 finished with value: 0.5174392779554156 and parameters: {'regressor': 'LinearRegression'}. Best is trial 350 with value: 0.5395805170449737.\u001b[0m\n",
            "\u001b[32m[I 2020-11-12 21:28:12,512]\u001b[0m Trial 540 finished with value: 0.5279971848639928 and parameters: {'regressor': 'RandomForestRegressor', 'n_estimators': 100, 'max_depth': 9}. Best is trial 350 with value: 0.5395805170449737.\u001b[0m\n",
            "\u001b[32m[I 2020-11-12 21:28:14,505]\u001b[0m Trial 541 finished with value: 0.5286984852334459 and parameters: {'regressor': 'RandomForestRegressor', 'n_estimators': 100, 'max_depth': 13}. Best is trial 350 with value: 0.5395805170449737.\u001b[0m\n",
            "\u001b[32m[I 2020-11-12 21:28:16,229]\u001b[0m Trial 542 finished with value: 0.5316702684959752 and parameters: {'regressor': 'RandomForestRegressor', 'n_estimators': 100, 'max_depth': 11}. Best is trial 350 with value: 0.5395805170449737.\u001b[0m\n",
            "\u001b[32m[I 2020-11-12 21:28:17,812]\u001b[0m Trial 543 finished with value: 0.5337805745913059 and parameters: {'regressor': 'RandomForestRegressor', 'n_estimators': 90, 'max_depth': 11}. Best is trial 350 with value: 0.5395805170449737.\u001b[0m\n",
            "\u001b[32m[I 2020-11-12 21:28:19,805]\u001b[0m Trial 544 finished with value: 0.5316043238030174 and parameters: {'regressor': 'RandomForestRegressor', 'n_estimators': 100, 'max_depth': 13}. Best is trial 350 with value: 0.5395805170449737.\u001b[0m\n",
            "\u001b[32m[I 2020-11-12 21:28:21,122]\u001b[0m Trial 545 finished with value: 0.5236531169013199 and parameters: {'regressor': 'RandomForestRegressor', 'n_estimators': 90, 'max_depth': 9}. Best is trial 350 with value: 0.5395805170449737.\u001b[0m\n",
            "\u001b[32m[I 2020-11-12 21:28:22,869]\u001b[0m Trial 546 finished with value: 0.5303923155407673 and parameters: {'regressor': 'RandomForestRegressor', 'n_estimators': 100, 'max_depth': 11}. Best is trial 350 with value: 0.5395805170449737.\u001b[0m\n",
            "\u001b[32m[I 2020-11-12 21:28:25,281]\u001b[0m Trial 547 finished with value: 0.5214720258702777 and parameters: {'regressor': 'RandomForestRegressor', 'n_estimators': 100, 'max_depth': 17}. Best is trial 350 with value: 0.5395805170449737.\u001b[0m\n",
            "\u001b[32m[I 2020-11-12 21:28:26,323]\u001b[0m Trial 548 finished with value: 0.5319937424321624 and parameters: {'regressor': 'RandomForestRegressor', 'n_estimators': 60, 'max_depth': 11}. Best is trial 350 with value: 0.5395805170449737.\u001b[0m\n",
            "\u001b[32m[I 2020-11-12 21:28:28,082]\u001b[0m Trial 549 finished with value: 0.5315661208873445 and parameters: {'regressor': 'RandomForestRegressor', 'n_estimators': 100, 'max_depth': 11}. Best is trial 350 with value: 0.5395805170449737.\u001b[0m\n",
            "\u001b[32m[I 2020-11-12 21:28:29,648]\u001b[0m Trial 550 finished with value: 0.525204306823861 and parameters: {'regressor': 'RandomForestRegressor', 'n_estimators': 90, 'max_depth': 11}. Best is trial 350 with value: 0.5395805170449737.\u001b[0m\n",
            "\u001b[32m[I 2020-11-12 21:28:31,613]\u001b[0m Trial 551 finished with value: 0.5280830837946063 and parameters: {'regressor': 'RandomForestRegressor', 'n_estimators': 100, 'max_depth': 13}. Best is trial 350 with value: 0.5395805170449737.\u001b[0m\n",
            "\u001b[32m[I 2020-11-12 21:28:31,657]\u001b[0m Trial 552 finished with value: 0.3542083954050188 and parameters: {'regressor': 'DecisionTreeRegressor', 'max_depth': 9, 'min_samples_split': 3}. Best is trial 350 with value: 0.5395805170449737.\u001b[0m\n",
            "\u001b[32m[I 2020-11-12 21:28:33,225]\u001b[0m Trial 553 finished with value: 0.5324330078617456 and parameters: {'regressor': 'RandomForestRegressor', 'n_estimators': 90, 'max_depth': 11}. Best is trial 350 with value: 0.5395805170449737.\u001b[0m\n",
            "\u001b[32m[I 2020-11-12 21:28:35,331]\u001b[0m Trial 554 finished with value: 0.529326104099905 and parameters: {'regressor': 'RandomForestRegressor', 'n_estimators': 100, 'max_depth': 13}. Best is trial 350 with value: 0.5395805170449737.\u001b[0m\n",
            "\u001b[32m[I 2020-11-12 21:28:37,152]\u001b[0m Trial 555 finished with value: 0.5340488494398199 and parameters: {'regressor': 'RandomForestRegressor', 'n_estimators': 100, 'max_depth': 11}. Best is trial 350 with value: 0.5395805170449737.\u001b[0m\n",
            "\u001b[32m[I 2020-11-12 21:28:39,002]\u001b[0m Trial 556 finished with value: 0.5314602191383162 and parameters: {'regressor': 'RandomForestRegressor', 'n_estimators': 100, 'max_depth': 11}. Best is trial 350 with value: 0.5395805170449737.\u001b[0m\n",
            "\u001b[32m[I 2020-11-12 21:28:40,619]\u001b[0m Trial 557 finished with value: 0.5328000799997484 and parameters: {'regressor': 'RandomForestRegressor', 'n_estimators': 90, 'max_depth': 11}. Best is trial 350 with value: 0.5395805170449737.\u001b[0m\n",
            "\u001b[32m[I 2020-11-12 21:28:43,241]\u001b[0m Trial 558 finished with value: 0.5288431020885077 and parameters: {'regressor': 'RandomForestRegressor', 'n_estimators': 100, 'max_depth': 13}. Best is trial 350 with value: 0.5395805170449737.\u001b[0m\n",
            "\u001b[32m[I 2020-11-12 21:28:45,599]\u001b[0m Trial 559 finished with value: 0.5306553555421202 and parameters: {'regressor': 'RandomForestRegressor', 'n_estimators': 100, 'max_depth': 9}. Best is trial 350 with value: 0.5395805170449737.\u001b[0m\n",
            "\u001b[32m[I 2020-11-12 21:29:01,209]\u001b[0m Trial 560 finished with value: 0.4639186577198722 and parameters: {'regressor': 'MLPRegressor', 'activation': 'identity', 'learning_rate': 'constant', 'max_iter': 150}. Best is trial 350 with value: 0.5395805170449737.\u001b[0m\n",
            "\u001b[32m[I 2020-11-12 21:29:03,623]\u001b[0m Trial 561 finished with value: 0.5292832818471598 and parameters: {'regressor': 'RandomForestRegressor', 'n_estimators': 100, 'max_depth': 11}. Best is trial 350 with value: 0.5395805170449737.\u001b[0m\n",
            "\u001b[32m[I 2020-11-12 21:29:05,732]\u001b[0m Trial 562 finished with value: 0.5321500088750224 and parameters: {'regressor': 'RandomForestRegressor', 'n_estimators': 90, 'max_depth': 11}. Best is trial 350 with value: 0.5395805170449737.\u001b[0m\n",
            "\u001b[32m[I 2020-11-12 21:29:08,363]\u001b[0m Trial 563 finished with value: 0.5274505638106501 and parameters: {'regressor': 'RandomForestRegressor', 'n_estimators': 100, 'max_depth': 13}. Best is trial 350 with value: 0.5395805170449737.\u001b[0m\n",
            "\u001b[32m[I 2020-11-12 21:29:09,014]\u001b[0m Trial 564 finished with value: 0.5077285888949268 and parameters: {'regressor': 'RandomForestRegressor', 'n_estimators': 20, 'max_depth': 15}. Best is trial 350 with value: 0.5395805170449737.\u001b[0m\n",
            "\u001b[32m[I 2020-11-12 21:29:11,057]\u001b[0m Trial 565 finished with value: 0.532799573690927 and parameters: {'regressor': 'RandomForestRegressor', 'n_estimators': 90, 'max_depth': 11}. Best is trial 350 with value: 0.5395805170449737.\u001b[0m\n",
            "\u001b[32m[I 2020-11-12 21:29:12,963]\u001b[0m Trial 566 finished with value: 0.5231921888328603 and parameters: {'regressor': 'RandomForestRegressor', 'n_estimators': 100, 'max_depth': 9}. Best is trial 350 with value: 0.5395805170449737.\u001b[0m\n",
            "\u001b[32m[I 2020-11-12 21:29:15,284]\u001b[0m Trial 567 finished with value: 0.5300094402689507 and parameters: {'regressor': 'RandomForestRegressor', 'n_estimators': 100, 'max_depth': 11}. Best is trial 350 with value: 0.5395805170449737.\u001b[0m\n",
            "\u001b[32m[I 2020-11-12 21:29:17,906]\u001b[0m Trial 568 finished with value: 0.5249588566775936 and parameters: {'regressor': 'RandomForestRegressor', 'n_estimators': 100, 'max_depth': 13}. Best is trial 350 with value: 0.5395805170449737.\u001b[0m\n",
            "\u001b[32m[I 2020-11-12 21:29:18,054]\u001b[0m Trial 569 finished with value: 0.5174392779554156 and parameters: {'regressor': 'LinearRegression'}. Best is trial 350 with value: 0.5395805170449737.\u001b[0m\n",
            "\u001b[32m[I 2020-11-12 21:29:20,474]\u001b[0m Trial 570 finished with value: 0.5269915421509752 and parameters: {'regressor': 'RandomForestRegressor', 'n_estimators': 90, 'max_depth': 11}. Best is trial 350 with value: 0.5395805170449737.\u001b[0m\n"
          ],
          "name": "stderr"
        },
        {
          "output_type": "stream",
          "text": [
            "\u001b[32m[I 2020-11-12 21:29:22,759]\u001b[0m Trial 571 finished with value: 0.5278281879083541 and parameters: {'regressor': 'RandomForestRegressor', 'n_estimators': 100, 'max_depth': 11}. Best is trial 350 with value: 0.5395805170449737.\u001b[0m\n",
            "\u001b[32m[I 2020-11-12 21:29:24,821]\u001b[0m Trial 572 finished with value: 0.5243531862851103 and parameters: {'regressor': 'RandomForestRegressor', 'n_estimators': 100, 'max_depth': 9}. Best is trial 350 with value: 0.5395805170449737.\u001b[0m\n",
            "\u001b[32m[I 2020-11-12 21:29:26,965]\u001b[0m Trial 573 finished with value: 0.5316272619551916 and parameters: {'regressor': 'RandomForestRegressor', 'n_estimators': 90, 'max_depth': 11}. Best is trial 350 with value: 0.5395805170449737.\u001b[0m\n",
            "\u001b[32m[I 2020-11-12 21:29:29,645]\u001b[0m Trial 574 finished with value: 0.5246169101717788 and parameters: {'regressor': 'RandomForestRegressor', 'n_estimators': 100, 'max_depth': 13}. Best is trial 350 with value: 0.5395805170449737.\u001b[0m\n",
            "\u001b[32m[I 2020-11-12 21:29:32,057]\u001b[0m Trial 575 finished with value: 0.5307632926827857 and parameters: {'regressor': 'RandomForestRegressor', 'n_estimators': 100, 'max_depth': 11}. Best is trial 350 with value: 0.5395805170449737.\u001b[0m\n",
            "\u001b[32m[I 2020-11-12 21:29:34,529]\u001b[0m Trial 576 finished with value: 0.5331678769919017 and parameters: {'regressor': 'RandomForestRegressor', 'n_estimators': 100, 'max_depth': 11}. Best is trial 350 with value: 0.5395805170449737.\u001b[0m\n",
            "\u001b[32m[I 2020-11-12 21:29:37,203]\u001b[0m Trial 577 finished with value: 0.5309844799446509 and parameters: {'regressor': 'RandomForestRegressor', 'n_estimators': 100, 'max_depth': 13}. Best is trial 350 with value: 0.5395805170449737.\u001b[0m\n",
            "\u001b[32m[I 2020-11-12 21:29:39,436]\u001b[0m Trial 578 finished with value: 0.5297540545826379 and parameters: {'regressor': 'RandomForestRegressor', 'n_estimators': 90, 'max_depth': 11}. Best is trial 350 with value: 0.5395805170449737.\u001b[0m\n",
            "\u001b[32m[I 2020-11-12 21:29:41,888]\u001b[0m Trial 579 finished with value: 0.5328680001691746 and parameters: {'regressor': 'RandomForestRegressor', 'n_estimators': 100, 'max_depth': 11}. Best is trial 350 with value: 0.5395805170449737.\u001b[0m\n",
            "\u001b[32m[I 2020-11-12 21:29:44,507]\u001b[0m Trial 580 finished with value: 0.5258833490933161 and parameters: {'regressor': 'RandomForestRegressor', 'n_estimators': 90, 'max_depth': 15}. Best is trial 350 with value: 0.5395805170449737.\u001b[0m\n",
            "\u001b[32m[I 2020-11-12 21:29:47,986]\u001b[0m Trial 581 finished with value: 0.5218577496972308 and parameters: {'regressor': 'RandomForestRegressor', 'n_estimators': 100, 'max_depth': 29}. Best is trial 350 with value: 0.5395805170449737.\u001b[0m\n",
            "\u001b[32m[I 2020-11-12 21:29:48,056]\u001b[0m Trial 582 finished with value: 0.38756636967822256 and parameters: {'regressor': 'DecisionTreeRegressor', 'max_depth': 9, 'min_samples_split': 9}. Best is trial 350 with value: 0.5395805170449737.\u001b[0m\n",
            "\u001b[32m[I 2020-11-12 21:29:50,820]\u001b[0m Trial 583 finished with value: 0.530379761726653 and parameters: {'regressor': 'RandomForestRegressor', 'n_estimators': 100, 'max_depth': 13}. Best is trial 350 with value: 0.5395805170449737.\u001b[0m\n",
            "\u001b[32m[I 2020-11-12 21:29:53,236]\u001b[0m Trial 584 finished with value: 0.5294342261386331 and parameters: {'regressor': 'RandomForestRegressor', 'n_estimators': 100, 'max_depth': 11}. Best is trial 350 with value: 0.5395805170449737.\u001b[0m\n",
            "\u001b[32m[I 2020-11-12 21:29:54,998]\u001b[0m Trial 585 finished with value: 0.5277915927070087 and parameters: {'regressor': 'RandomForestRegressor', 'n_estimators': 90, 'max_depth': 9}. Best is trial 350 with value: 0.5395805170449737.\u001b[0m\n",
            "\u001b[32m[I 2020-11-12 21:29:57,309]\u001b[0m Trial 586 finished with value: 0.5323556594600316 and parameters: {'regressor': 'RandomForestRegressor', 'n_estimators': 100, 'max_depth': 11}. Best is trial 350 with value: 0.5395805170449737.\u001b[0m\n",
            "\u001b[32m[I 2020-11-12 21:29:59,634]\u001b[0m Trial 587 finished with value: 0.5304742410680943 and parameters: {'regressor': 'RandomForestRegressor', 'n_estimators': 100, 'max_depth': 11}. Best is trial 350 with value: 0.5395805170449737.\u001b[0m\n",
            "\u001b[32m[I 2020-11-12 21:30:01,976]\u001b[0m Trial 588 finished with value: 0.5308188281472848 and parameters: {'regressor': 'RandomForestRegressor', 'n_estimators': 100, 'max_depth': 11}. Best is trial 350 with value: 0.5395805170449737.\u001b[0m\n",
            "\u001b[32m[I 2020-11-12 21:30:04,394]\u001b[0m Trial 589 finished with value: 0.5296218606226 and parameters: {'regressor': 'RandomForestRegressor', 'n_estimators': 90, 'max_depth': 13}. Best is trial 350 with value: 0.5395805170449737.\u001b[0m\n",
            "\u001b[32m[I 2020-11-12 21:30:06,738]\u001b[0m Trial 590 finished with value: 0.5272437238501184 and parameters: {'regressor': 'RandomForestRegressor', 'n_estimators': 100, 'max_depth': 11}. Best is trial 350 with value: 0.5395805170449737.\u001b[0m\n",
            "\u001b[32m[I 2020-11-12 21:30:08,498]\u001b[0m Trial 591 finished with value: 0.5308905951117857 and parameters: {'regressor': 'RandomForestRegressor', 'n_estimators': 90, 'max_depth': 9}. Best is trial 350 with value: 0.5395805170449737.\u001b[0m\n",
            "\u001b[32m[I 2020-11-12 21:30:11,253]\u001b[0m Trial 592 finished with value: 0.5335179165415221 and parameters: {'regressor': 'RandomForestRegressor', 'n_estimators': 100, 'max_depth': 13}. Best is trial 350 with value: 0.5395805170449737.\u001b[0m\n",
            "\u001b[32m[I 2020-11-12 21:30:31,864]\u001b[0m Trial 593 finished with value: 0.48741095178151195 and parameters: {'regressor': 'MLPRegressor', 'activation': 'tanh', 'learning_rate': 'adaptive', 'max_iter': 200}. Best is trial 350 with value: 0.5395805170449737.\u001b[0m\n",
            "\u001b[32m[I 2020-11-12 21:30:33,885]\u001b[0m Trial 594 finished with value: 0.5307149564957243 and parameters: {'regressor': 'RandomForestRegressor', 'n_estimators': 100, 'max_depth': 11}. Best is trial 350 with value: 0.5395805170449737.\u001b[0m\n",
            "\u001b[32m[I 2020-11-12 21:30:35,133]\u001b[0m Trial 595 finished with value: 0.5298954855880185 and parameters: {'regressor': 'RandomForestRegressor', 'n_estimators': 50, 'max_depth': 13}. Best is trial 350 with value: 0.5395805170449737.\u001b[0m\n",
            "\u001b[32m[I 2020-11-12 21:30:36,959]\u001b[0m Trial 596 finished with value: 0.5282556220620036 and parameters: {'regressor': 'RandomForestRegressor', 'n_estimators': 90, 'max_depth': 11}. Best is trial 350 with value: 0.5395805170449737.\u001b[0m\n",
            "\u001b[32m[I 2020-11-12 21:30:38,529]\u001b[0m Trial 597 finished with value: 0.5267348296602142 and parameters: {'regressor': 'RandomForestRegressor', 'n_estimators': 100, 'max_depth': 9}. Best is trial 350 with value: 0.5395805170449737.\u001b[0m\n",
            "\u001b[32m[I 2020-11-12 21:30:41,199]\u001b[0m Trial 598 finished with value: 0.5313264537288005 and parameters: {'regressor': 'RandomForestRegressor', 'n_estimators': 100, 'max_depth': 11}. Best is trial 350 with value: 0.5395805170449737.\u001b[0m\n",
            "\u001b[32m[I 2020-11-12 21:30:41,318]\u001b[0m Trial 599 finished with value: 0.5174392779554156 and parameters: {'regressor': 'LinearRegression'}. Best is trial 350 with value: 0.5395805170449737.\u001b[0m\n",
            "\u001b[32m[I 2020-11-12 21:30:44,244]\u001b[0m Trial 600 finished with value: 0.5319213939836718 and parameters: {'regressor': 'RandomForestRegressor', 'n_estimators': 90, 'max_depth': 11}. Best is trial 350 with value: 0.5395805170449737.\u001b[0m\n",
            "\u001b[32m[I 2020-11-12 21:30:46,748]\u001b[0m Trial 601 finished with value: 0.5294905428352805 and parameters: {'regressor': 'RandomForestRegressor', 'n_estimators': 100, 'max_depth': 15}. Best is trial 350 with value: 0.5395805170449737.\u001b[0m\n",
            "\u001b[32m[I 2020-11-12 21:30:48,761]\u001b[0m Trial 602 finished with value: 0.5324301512323933 and parameters: {'regressor': 'RandomForestRegressor', 'n_estimators': 100, 'max_depth': 11}. Best is trial 350 with value: 0.5395805170449737.\u001b[0m\n",
            "\u001b[32m[I 2020-11-12 21:30:51,016]\u001b[0m Trial 603 finished with value: 0.5307344101341838 and parameters: {'regressor': 'RandomForestRegressor', 'n_estimators': 100, 'max_depth': 13}. Best is trial 350 with value: 0.5395805170449737.\u001b[0m\n",
            "\u001b[32m[I 2020-11-12 21:30:52,274]\u001b[0m Trial 604 finished with value: 0.5300639179708286 and parameters: {'regressor': 'RandomForestRegressor', 'n_estimators': 70, 'max_depth': 11}. Best is trial 350 with value: 0.5395805170449737.\u001b[0m\n",
            "\u001b[32m[I 2020-11-12 21:30:54,137]\u001b[0m Trial 605 finished with value: 0.5330251211004896 and parameters: {'regressor': 'RandomForestRegressor', 'n_estimators': 90, 'max_depth': 13}. Best is trial 350 with value: 0.5395805170449737.\u001b[0m\n",
            "\u001b[32m[I 2020-11-12 21:30:55,628]\u001b[0m Trial 606 finished with value: 0.5265373068751871 and parameters: {'regressor': 'RandomForestRegressor', 'n_estimators': 100, 'max_depth': 9}. Best is trial 350 with value: 0.5395805170449737.\u001b[0m\n"
          ],
          "name": "stderr"
        },
        {
          "output_type": "stream",
          "text": [
            "\u001b[32m[I 2020-11-12 21:30:57,458]\u001b[0m Trial 607 finished with value: 0.5307446669075833 and parameters: {'regressor': 'RandomForestRegressor', 'n_estimators': 100, 'max_depth': 11}. Best is trial 350 with value: 0.5395805170449737.\u001b[0m\n",
            "\u001b[32m[I 2020-11-12 21:30:58,227]\u001b[0m Trial 608 finished with value: 0.5260732947032103 and parameters: {'regressor': 'RandomForestRegressor', 'n_estimators': 40, 'max_depth': 11}. Best is trial 350 with value: 0.5395805170449737.\u001b[0m\n",
            "\u001b[32m[I 2020-11-12 21:31:00,010]\u001b[0m Trial 609 finished with value: 0.5296443727197966 and parameters: {'regressor': 'RandomForestRegressor', 'n_estimators': 100, 'max_depth': 11}. Best is trial 350 with value: 0.5395805170449737.\u001b[0m\n",
            "\u001b[32m[I 2020-11-12 21:31:01,862]\u001b[0m Trial 610 finished with value: 0.5291340429635635 and parameters: {'regressor': 'RandomForestRegressor', 'n_estimators': 90, 'max_depth': 13}. Best is trial 350 with value: 0.5395805170449737.\u001b[0m\n",
            "\u001b[32m[I 2020-11-12 21:31:03,275]\u001b[0m Trial 611 finished with value: 0.526250718557175 and parameters: {'regressor': 'RandomForestRegressor', 'n_estimators': 100, 'max_depth': 9}. Best is trial 350 with value: 0.5395805170449737.\u001b[0m\n",
            "\u001b[32m[I 2020-11-12 21:31:03,328]\u001b[0m Trial 612 finished with value: 0.3296685820355326 and parameters: {'regressor': 'DecisionTreeRegressor', 'max_depth': 11, 'min_samples_split': 5}. Best is trial 350 with value: 0.5395805170449737.\u001b[0m\n",
            "\u001b[32m[I 2020-11-12 21:31:05,073]\u001b[0m Trial 613 finished with value: 0.5316980549228072 and parameters: {'regressor': 'RandomForestRegressor', 'n_estimators': 100, 'max_depth': 11}. Best is trial 350 with value: 0.5395805170449737.\u001b[0m\n",
            "\u001b[32m[I 2020-11-12 21:31:07,256]\u001b[0m Trial 614 finished with value: 0.5233456831133265 and parameters: {'regressor': 'RandomForestRegressor', 'n_estimators': 90, 'max_depth': 17}. Best is trial 350 with value: 0.5395805170449737.\u001b[0m\n",
            "\u001b[32m[I 2020-11-12 21:31:09,043]\u001b[0m Trial 615 finished with value: 0.5277172990494808 and parameters: {'regressor': 'RandomForestRegressor', 'n_estimators': 100, 'max_depth': 11}. Best is trial 350 with value: 0.5395805170449737.\u001b[0m\n",
            "\u001b[32m[I 2020-11-12 21:31:11,019]\u001b[0m Trial 616 finished with value: 0.5313812158181921 and parameters: {'regressor': 'RandomForestRegressor', 'n_estimators': 100, 'max_depth': 13}. Best is trial 350 with value: 0.5395805170449737.\u001b[0m\n",
            "\u001b[32m[I 2020-11-12 21:31:12,759]\u001b[0m Trial 617 finished with value: 0.530751002533816 and parameters: {'regressor': 'RandomForestRegressor', 'n_estimators': 100, 'max_depth': 11}. Best is trial 350 with value: 0.5395805170449737.\u001b[0m\n",
            "\u001b[32m[I 2020-11-12 21:31:14,125]\u001b[0m Trial 618 finished with value: 0.5270962489959614 and parameters: {'regressor': 'RandomForestRegressor', 'n_estimators': 90, 'max_depth': 9}. Best is trial 350 with value: 0.5395805170449737.\u001b[0m\n",
            "\u001b[32m[I 2020-11-12 21:31:33,731]\u001b[0m Trial 619 finished with value: 0.4612830269222832 and parameters: {'regressor': 'MLPRegressor', 'activation': 'logistic', 'learning_rate': 'constant', 'max_iter': 180}. Best is trial 350 with value: 0.5395805170449737.\u001b[0m\n",
            "\u001b[32m[I 2020-11-12 21:31:35,896]\u001b[0m Trial 620 finished with value: 0.5301265747383501 and parameters: {'regressor': 'RandomForestRegressor', 'n_estimators': 100, 'max_depth': 13}. Best is trial 350 with value: 0.5395805170449737.\u001b[0m\n",
            "\u001b[32m[I 2020-11-12 21:31:37,439]\u001b[0m Trial 621 finished with value: 0.525116678985476 and parameters: {'regressor': 'RandomForestRegressor', 'n_estimators': 100, 'max_depth': 9}. Best is trial 350 with value: 0.5395805170449737.\u001b[0m\n",
            "\u001b[32m[I 2020-11-12 21:31:39,025]\u001b[0m Trial 622 finished with value: 0.526167198077437 and parameters: {'regressor': 'RandomForestRegressor', 'n_estimators': 90, 'max_depth': 11}. Best is trial 350 with value: 0.5395805170449737.\u001b[0m\n",
            "\u001b[32m[I 2020-11-12 21:31:40,852]\u001b[0m Trial 623 finished with value: 0.5329857664639718 and parameters: {'regressor': 'RandomForestRegressor', 'n_estimators': 100, 'max_depth': 11}. Best is trial 350 with value: 0.5395805170449737.\u001b[0m\n",
            "\u001b[32m[I 2020-11-12 21:31:42,730]\u001b[0m Trial 624 finished with value: 0.524716340999799 and parameters: {'regressor': 'RandomForestRegressor', 'n_estimators': 90, 'max_depth': 13}. Best is trial 350 with value: 0.5395805170449737.\u001b[0m\n",
            "\u001b[32m[I 2020-11-12 21:31:44,476]\u001b[0m Trial 625 finished with value: 0.5316708519168771 and parameters: {'regressor': 'RandomForestRegressor', 'n_estimators': 100, 'max_depth': 11}. Best is trial 350 with value: 0.5395805170449737.\u001b[0m\n",
            "\u001b[32m[I 2020-11-12 21:31:46,254]\u001b[0m Trial 626 finished with value: 0.527071873997385 and parameters: {'regressor': 'RandomForestRegressor', 'n_estimators': 100, 'max_depth': 11}. Best is trial 350 with value: 0.5395805170449737.\u001b[0m\n",
            "\u001b[32m[I 2020-11-12 21:31:47,804]\u001b[0m Trial 627 finished with value: 0.5347977741177543 and parameters: {'regressor': 'RandomForestRegressor', 'n_estimators': 80, 'max_depth': 11}. Best is trial 350 with value: 0.5395805170449737.\u001b[0m\n",
            "\u001b[32m[I 2020-11-12 21:31:49,290]\u001b[0m Trial 628 finished with value: 0.5277148206955111 and parameters: {'regressor': 'RandomForestRegressor', 'n_estimators': 80, 'max_depth': 9}. Best is trial 350 with value: 0.5395805170449737.\u001b[0m\n",
            "\u001b[32m[I 2020-11-12 21:31:49,357]\u001b[0m Trial 629 finished with value: 0.5174392779554156 and parameters: {'regressor': 'LinearRegression'}. Best is trial 350 with value: 0.5395805170449737.\u001b[0m\n",
            "\u001b[32m[I 2020-11-12 21:31:51,082]\u001b[0m Trial 630 finished with value: 0.5299728792150497 and parameters: {'regressor': 'RandomForestRegressor', 'n_estimators': 80, 'max_depth': 11}. Best is trial 350 with value: 0.5395805170449737.\u001b[0m\n",
            "\u001b[32m[I 2020-11-12 21:31:52,305]\u001b[0m Trial 631 finished with value: 0.5232452658186907 and parameters: {'regressor': 'RandomForestRegressor', 'n_estimators': 80, 'max_depth': 9}. Best is trial 350 with value: 0.5395805170449737.\u001b[0m\n",
            "\u001b[32m[I 2020-11-12 21:31:53,791]\u001b[0m Trial 632 finished with value: 0.5280947075425366 and parameters: {'regressor': 'RandomForestRegressor', 'n_estimators': 80, 'max_depth': 11}. Best is trial 350 with value: 0.5395805170449737.\u001b[0m\n",
            "\u001b[32m[I 2020-11-12 21:31:55,179]\u001b[0m Trial 633 finished with value: 0.5342891002619521 and parameters: {'regressor': 'RandomForestRegressor', 'n_estimators': 80, 'max_depth': 11}. Best is trial 350 with value: 0.5395805170449737.\u001b[0m\n",
            "\u001b[32m[I 2020-11-12 21:31:56,577]\u001b[0m Trial 634 finished with value: 0.5346644391580122 and parameters: {'regressor': 'RandomForestRegressor', 'n_estimators': 80, 'max_depth': 11}. Best is trial 350 with value: 0.5395805170449737.\u001b[0m\n",
            "\u001b[32m[I 2020-11-12 21:31:57,966]\u001b[0m Trial 635 finished with value: 0.5294609771754025 and parameters: {'regressor': 'RandomForestRegressor', 'n_estimators': 80, 'max_depth': 11}. Best is trial 350 with value: 0.5395805170449737.\u001b[0m\n",
            "\u001b[32m[I 2020-11-12 21:31:59,393]\u001b[0m Trial 636 finished with value: 0.529889880685107 and parameters: {'regressor': 'RandomForestRegressor', 'n_estimators': 80, 'max_depth': 11}. Best is trial 350 with value: 0.5395805170449737.\u001b[0m\n",
            "\u001b[32m[I 2020-11-12 21:32:00,612]\u001b[0m Trial 637 finished with value: 0.5235167222039898 and parameters: {'regressor': 'RandomForestRegressor', 'n_estimators': 80, 'max_depth': 9}. Best is trial 350 with value: 0.5395805170449737.\u001b[0m\n",
            "\u001b[32m[I 2020-11-12 21:32:02,131]\u001b[0m Trial 638 finished with value: 0.5265847961526934 and parameters: {'regressor': 'RandomForestRegressor', 'n_estimators': 80, 'max_depth': 11}. Best is trial 350 with value: 0.5395805170449737.\u001b[0m\n",
            "\u001b[32m[I 2020-11-12 21:32:03,641]\u001b[0m Trial 639 finished with value: 0.526814476152123 and parameters: {'regressor': 'RandomForestRegressor', 'n_estimators': 80, 'max_depth': 11}. Best is trial 350 with value: 0.5395805170449737.\u001b[0m\n",
            "\u001b[32m[I 2020-11-12 21:32:05,113]\u001b[0m Trial 640 finished with value: 0.5277194778180345 and parameters: {'regressor': 'RandomForestRegressor', 'n_estimators': 80, 'max_depth': 11}. Best is trial 350 with value: 0.5395805170449737.\u001b[0m\n",
            "\u001b[32m[I 2020-11-12 21:32:06,536]\u001b[0m Trial 641 finished with value: 0.5271302859496245 and parameters: {'regressor': 'RandomForestRegressor', 'n_estimators': 80, 'max_depth': 9}. Best is trial 350 with value: 0.5395805170449737.\u001b[0m\n",
            "\u001b[32m[I 2020-11-12 21:32:06,605]\u001b[0m Trial 642 finished with value: 0.3454787492801009 and parameters: {'regressor': 'DecisionTreeRegressor', 'max_depth': 11, 'min_samples_split': 7}. Best is trial 350 with value: 0.5395805170449737.\u001b[0m\n"
          ],
          "name": "stderr"
        },
        {
          "output_type": "stream",
          "text": [
            "\u001b[32m[I 2020-11-12 21:32:08,193]\u001b[0m Trial 643 finished with value: 0.52863134648363 and parameters: {'regressor': 'RandomForestRegressor', 'n_estimators': 80, 'max_depth': 11}. Best is trial 350 with value: 0.5395805170449737.\u001b[0m\n",
            "\u001b[32m[I 2020-11-12 21:32:09,530]\u001b[0m Trial 644 finished with value: 0.5270815925009424 and parameters: {'regressor': 'RandomForestRegressor', 'n_estimators': 80, 'max_depth': 9}. Best is trial 350 with value: 0.5395805170449737.\u001b[0m\n",
            "\u001b[32m[I 2020-11-12 21:32:11,043]\u001b[0m Trial 645 finished with value: 0.5309607629421069 and parameters: {'regressor': 'RandomForestRegressor', 'n_estimators': 80, 'max_depth': 11}. Best is trial 350 with value: 0.5395805170449737.\u001b[0m\n",
            "\u001b[32m[I 2020-11-12 21:32:12,511]\u001b[0m Trial 646 finished with value: 0.5317488503222161 and parameters: {'regressor': 'RandomForestRegressor', 'n_estimators': 80, 'max_depth': 11}. Best is trial 350 with value: 0.5395805170449737.\u001b[0m\n",
            "\u001b[32m[I 2020-11-12 21:32:13,804]\u001b[0m Trial 647 finished with value: 0.5247367685968612 and parameters: {'regressor': 'RandomForestRegressor', 'n_estimators': 70, 'max_depth': 11}. Best is trial 350 with value: 0.5395805170449737.\u001b[0m\n",
            "\u001b[32m[I 2020-11-12 21:32:15,292]\u001b[0m Trial 648 finished with value: 0.5318044793539237 and parameters: {'regressor': 'RandomForestRegressor', 'n_estimators': 80, 'max_depth': 11}. Best is trial 350 with value: 0.5395805170449737.\u001b[0m\n",
            "\u001b[32m[I 2020-11-12 21:32:16,474]\u001b[0m Trial 649 finished with value: 0.5286347270631273 and parameters: {'regressor': 'RandomForestRegressor', 'n_estimators': 80, 'max_depth': 9}. Best is trial 350 with value: 0.5395805170449737.\u001b[0m\n",
            "\u001b[32m[I 2020-11-12 21:32:17,922]\u001b[0m Trial 650 finished with value: 0.5325873153948485 and parameters: {'regressor': 'RandomForestRegressor', 'n_estimators': 80, 'max_depth': 11}. Best is trial 350 with value: 0.5395805170449737.\u001b[0m\n",
            "\u001b[32m[I 2020-11-12 21:32:19,209]\u001b[0m Trial 651 finished with value: 0.5291873526591522 and parameters: {'regressor': 'RandomForestRegressor', 'n_estimators': 70, 'max_depth': 11}. Best is trial 350 with value: 0.5395805170449737.\u001b[0m\n",
            "\u001b[32m[I 2020-11-12 21:32:26,962]\u001b[0m Trial 652 finished with value: 0.4895102236577762 and parameters: {'regressor': 'MLPRegressor', 'activation': 'relu', 'learning_rate': 'invscaling', 'max_iter': 170}. Best is trial 350 with value: 0.5395805170449737.\u001b[0m\n",
            "\u001b[32m[I 2020-11-12 21:32:28,348]\u001b[0m Trial 653 finished with value: 0.5248529528663155 and parameters: {'regressor': 'RandomForestRegressor', 'n_estimators': 80, 'max_depth': 9}. Best is trial 350 with value: 0.5395805170449737.\u001b[0m\n",
            "\u001b[32m[I 2020-11-12 21:32:29,864]\u001b[0m Trial 654 finished with value: 0.5327556816953358 and parameters: {'regressor': 'RandomForestRegressor', 'n_estimators': 80, 'max_depth': 11}. Best is trial 350 with value: 0.5395805170449737.\u001b[0m\n",
            "\u001b[32m[I 2020-11-12 21:32:31,350]\u001b[0m Trial 655 finished with value: 0.5285300559063799 and parameters: {'regressor': 'RandomForestRegressor', 'n_estimators': 80, 'max_depth': 11}. Best is trial 350 with value: 0.5395805170449737.\u001b[0m\n",
            "\u001b[32m[I 2020-11-12 21:32:32,837]\u001b[0m Trial 656 finished with value: 0.5304442745280298 and parameters: {'regressor': 'RandomForestRegressor', 'n_estimators': 80, 'max_depth': 11}. Best is trial 350 with value: 0.5395805170449737.\u001b[0m\n",
            "\u001b[32m[I 2020-11-12 21:32:34,232]\u001b[0m Trial 657 finished with value: 0.5286436227714701 and parameters: {'regressor': 'RandomForestRegressor', 'n_estimators': 80, 'max_depth': 11}. Best is trial 350 with value: 0.5395805170449737.\u001b[0m\n",
            "\u001b[32m[I 2020-11-12 21:32:35,303]\u001b[0m Trial 658 finished with value: 0.5287403084232309 and parameters: {'regressor': 'RandomForestRegressor', 'n_estimators': 70, 'max_depth': 9}. Best is trial 350 with value: 0.5395805170449737.\u001b[0m\n",
            "\u001b[32m[I 2020-11-12 21:32:36,729]\u001b[0m Trial 659 finished with value: 0.5310157575641208 and parameters: {'regressor': 'RandomForestRegressor', 'n_estimators': 80, 'max_depth': 11}. Best is trial 350 with value: 0.5395805170449737.\u001b[0m\n",
            "\u001b[32m[I 2020-11-12 21:32:36,827]\u001b[0m Trial 660 finished with value: 0.5174392779554156 and parameters: {'regressor': 'LinearRegression'}. Best is trial 350 with value: 0.5395805170449737.\u001b[0m\n",
            "\u001b[32m[I 2020-11-12 21:32:38,584]\u001b[0m Trial 661 finished with value: 0.5316339162937522 and parameters: {'regressor': 'RandomForestRegressor', 'n_estimators': 80, 'max_depth': 11}. Best is trial 350 with value: 0.5395805170449737.\u001b[0m\n",
            "\u001b[32m[I 2020-11-12 21:32:39,826]\u001b[0m Trial 662 finished with value: 0.5286087971298463 and parameters: {'regressor': 'RandomForestRegressor', 'n_estimators': 80, 'max_depth': 9}. Best is trial 350 with value: 0.5395805170449737.\u001b[0m\n",
            "\u001b[32m[I 2020-11-12 21:32:41,719]\u001b[0m Trial 663 finished with value: 0.531125627185308 and parameters: {'regressor': 'RandomForestRegressor', 'n_estimators': 100, 'max_depth': 11}. Best is trial 350 with value: 0.5395805170449737.\u001b[0m\n"
          ],
          "name": "stderr"
        },
        {
          "output_type": "error",
          "ename": "KeyboardInterrupt",
          "evalue": "",
          "traceback": [
            "\u001b[0;31m---------------------------------------------------------------------------\u001b[0m",
            "\u001b[0;31mKeyboardInterrupt\u001b[0m                         Traceback (most recent call last)",
            "\u001b[0;32m<ipython-input-178-dc9d81c11ea2>\u001b[0m in \u001b[0;36m<module>\u001b[0;34m\u001b[0m\n\u001b[1;32m     33\u001b[0m \u001b[0;34m\u001b[0m\u001b[0m\n\u001b[1;32m     34\u001b[0m \u001b[0mstudy\u001b[0m \u001b[0;34m=\u001b[0m \u001b[0moptuna\u001b[0m\u001b[0;34m.\u001b[0m\u001b[0mcreate_study\u001b[0m\u001b[0;34m(\u001b[0m\u001b[0mdirection\u001b[0m\u001b[0;34m=\u001b[0m\u001b[0;34m'maximize'\u001b[0m\u001b[0;34m)\u001b[0m  \u001b[0;31m# Create a new study.\u001b[0m\u001b[0;34m\u001b[0m\u001b[0;34m\u001b[0m\u001b[0m\n\u001b[0;32m---> 35\u001b[0;31m \u001b[0mstudy\u001b[0m\u001b[0;34m.\u001b[0m\u001b[0moptimize\u001b[0m\u001b[0;34m(\u001b[0m\u001b[0mobjective\u001b[0m\u001b[0;34m)\u001b[0m  \u001b[0;31m# Invoke optimization of the objective function.\u001b[0m\u001b[0;34m\u001b[0m\u001b[0;34m\u001b[0m\u001b[0m\n\u001b[0m",
            "\u001b[0;32m~/.local/lib/python3.8/site-packages/optuna/study.py\u001b[0m in \u001b[0;36moptimize\u001b[0;34m(self, func, n_trials, timeout, n_jobs, catch, callbacks, gc_after_trial, show_progress_bar)\u001b[0m\n\u001b[1;32m    304\u001b[0m                 \u001b[0mIf\u001b[0m \u001b[0mnested\u001b[0m \u001b[0minvocation\u001b[0m \u001b[0mof\u001b[0m \u001b[0mthis\u001b[0m \u001b[0mmethod\u001b[0m \u001b[0moccurs\u001b[0m\u001b[0;34m.\u001b[0m\u001b[0;34m\u001b[0m\u001b[0;34m\u001b[0m\u001b[0m\n\u001b[1;32m    305\u001b[0m         \"\"\"\n\u001b[0;32m--> 306\u001b[0;31m         _optimize(\n\u001b[0m\u001b[1;32m    307\u001b[0m             \u001b[0mstudy\u001b[0m\u001b[0;34m=\u001b[0m\u001b[0mself\u001b[0m\u001b[0;34m,\u001b[0m\u001b[0;34m\u001b[0m\u001b[0;34m\u001b[0m\u001b[0m\n\u001b[1;32m    308\u001b[0m             \u001b[0mfunc\u001b[0m\u001b[0;34m=\u001b[0m\u001b[0mfunc\u001b[0m\u001b[0;34m,\u001b[0m\u001b[0;34m\u001b[0m\u001b[0;34m\u001b[0m\u001b[0m\n",
            "\u001b[0;32m~/.local/lib/python3.8/site-packages/optuna/_optimize.py\u001b[0m in \u001b[0;36m_optimize\u001b[0;34m(study, func, n_trials, timeout, n_jobs, catch, callbacks, gc_after_trial, show_progress_bar)\u001b[0m\n\u001b[1;32m     53\u001b[0m     \u001b[0;32mtry\u001b[0m\u001b[0;34m:\u001b[0m\u001b[0;34m\u001b[0m\u001b[0;34m\u001b[0m\u001b[0m\n\u001b[1;32m     54\u001b[0m         \u001b[0;32mif\u001b[0m \u001b[0mn_jobs\u001b[0m \u001b[0;34m==\u001b[0m \u001b[0;36m1\u001b[0m\u001b[0;34m:\u001b[0m\u001b[0;34m\u001b[0m\u001b[0;34m\u001b[0m\u001b[0m\n\u001b[0;32m---> 55\u001b[0;31m             _optimize_sequential(\n\u001b[0m\u001b[1;32m     56\u001b[0m                 \u001b[0mstudy\u001b[0m\u001b[0;34m,\u001b[0m\u001b[0;34m\u001b[0m\u001b[0;34m\u001b[0m\u001b[0m\n\u001b[1;32m     57\u001b[0m                 \u001b[0mfunc\u001b[0m\u001b[0;34m,\u001b[0m\u001b[0;34m\u001b[0m\u001b[0;34m\u001b[0m\u001b[0m\n",
            "\u001b[0;32m~/.local/lib/python3.8/site-packages/optuna/_optimize.py\u001b[0m in \u001b[0;36m_optimize_sequential\u001b[0;34m(study, func, n_trials, timeout, catch, callbacks, gc_after_trial, reseed_sampler_rng, time_start, progress_bar)\u001b[0m\n\u001b[1;32m    154\u001b[0m \u001b[0;34m\u001b[0m\u001b[0m\n\u001b[1;32m    155\u001b[0m         \u001b[0;32mtry\u001b[0m\u001b[0;34m:\u001b[0m\u001b[0;34m\u001b[0m\u001b[0;34m\u001b[0m\u001b[0m\n\u001b[0;32m--> 156\u001b[0;31m             \u001b[0mtrial\u001b[0m \u001b[0;34m=\u001b[0m \u001b[0m_run_trial\u001b[0m\u001b[0;34m(\u001b[0m\u001b[0mstudy\u001b[0m\u001b[0;34m,\u001b[0m \u001b[0mfunc\u001b[0m\u001b[0;34m,\u001b[0m \u001b[0mcatch\u001b[0m\u001b[0;34m)\u001b[0m\u001b[0;34m\u001b[0m\u001b[0;34m\u001b[0m\u001b[0m\n\u001b[0m\u001b[1;32m    157\u001b[0m         \u001b[0;32mexcept\u001b[0m \u001b[0mException\u001b[0m\u001b[0;34m:\u001b[0m\u001b[0;34m\u001b[0m\u001b[0;34m\u001b[0m\u001b[0m\n\u001b[1;32m    158\u001b[0m             \u001b[0;32mraise\u001b[0m\u001b[0;34m\u001b[0m\u001b[0;34m\u001b[0m\u001b[0m\n",
            "\u001b[0;32m~/.local/lib/python3.8/site-packages/optuna/_optimize.py\u001b[0m in \u001b[0;36m_run_trial\u001b[0;34m(study, func, catch)\u001b[0m\n\u001b[1;32m    187\u001b[0m \u001b[0;34m\u001b[0m\u001b[0m\n\u001b[1;32m    188\u001b[0m     \u001b[0;32mtry\u001b[0m\u001b[0;34m:\u001b[0m\u001b[0;34m\u001b[0m\u001b[0;34m\u001b[0m\u001b[0m\n\u001b[0;32m--> 189\u001b[0;31m         \u001b[0mvalue\u001b[0m \u001b[0;34m=\u001b[0m \u001b[0mfunc\u001b[0m\u001b[0;34m(\u001b[0m\u001b[0mtrial\u001b[0m\u001b[0;34m)\u001b[0m\u001b[0;34m\u001b[0m\u001b[0;34m\u001b[0m\u001b[0m\n\u001b[0m\u001b[1;32m    190\u001b[0m     \u001b[0;32mexcept\u001b[0m \u001b[0mexceptions\u001b[0m\u001b[0;34m.\u001b[0m\u001b[0mTrialPruned\u001b[0m \u001b[0;32mas\u001b[0m \u001b[0me\u001b[0m\u001b[0;34m:\u001b[0m\u001b[0;34m\u001b[0m\u001b[0;34m\u001b[0m\u001b[0m\n\u001b[1;32m    191\u001b[0m         \u001b[0;31m# Register the last intermediate value if present as the value of the trial.\u001b[0m\u001b[0;34m\u001b[0m\u001b[0;34m\u001b[0m\u001b[0;34m\u001b[0m\u001b[0m\n",
            "\u001b[0;32m<ipython-input-178-dc9d81c11ea2>\u001b[0m in \u001b[0;36mobjective\u001b[0;34m(trial)\u001b[0m\n\u001b[1;32m     25\u001b[0m         \u001b[0mregressor_obj\u001b[0m \u001b[0;34m=\u001b[0m \u001b[0mRandomForestRegressor\u001b[0m\u001b[0;34m(\u001b[0m\u001b[0mn_estimators\u001b[0m\u001b[0;34m=\u001b[0m\u001b[0mn_estimators\u001b[0m\u001b[0;34m,\u001b[0m \u001b[0mmax_depth\u001b[0m\u001b[0;34m=\u001b[0m\u001b[0mrf_max_depth\u001b[0m\u001b[0;34m)\u001b[0m\u001b[0;34m\u001b[0m\u001b[0;34m\u001b[0m\u001b[0m\n\u001b[1;32m     26\u001b[0m \u001b[0;34m\u001b[0m\u001b[0m\n\u001b[0;32m---> 27\u001b[0;31m     \u001b[0mregressor_obj\u001b[0m\u001b[0;34m.\u001b[0m\u001b[0mfit\u001b[0m\u001b[0;34m(\u001b[0m\u001b[0mX_train\u001b[0m\u001b[0;34m,\u001b[0m \u001b[0my_train\u001b[0m\u001b[0;34m)\u001b[0m\u001b[0;34m\u001b[0m\u001b[0;34m\u001b[0m\u001b[0m\n\u001b[0m\u001b[1;32m     28\u001b[0m     \u001b[0my_pred\u001b[0m \u001b[0;34m=\u001b[0m \u001b[0mregressor_obj\u001b[0m\u001b[0;34m.\u001b[0m\u001b[0mpredict\u001b[0m\u001b[0;34m(\u001b[0m\u001b[0mX_test\u001b[0m\u001b[0;34m)\u001b[0m\u001b[0;34m\u001b[0m\u001b[0;34m\u001b[0m\u001b[0m\n\u001b[1;32m     29\u001b[0m \u001b[0;34m\u001b[0m\u001b[0m\n",
            "\u001b[0;32m~/.local/lib/python3.8/site-packages/sklearn/ensemble/_forest.py\u001b[0m in \u001b[0;36mfit\u001b[0;34m(self, X, y, sample_weight)\u001b[0m\n\u001b[1;32m    384\u001b[0m \u001b[0;34m\u001b[0m\u001b[0m\n\u001b[1;32m    385\u001b[0m             \u001b[0;31m# Collect newly grown trees\u001b[0m\u001b[0;34m\u001b[0m\u001b[0;34m\u001b[0m\u001b[0;34m\u001b[0m\u001b[0m\n\u001b[0;32m--> 386\u001b[0;31m             \u001b[0mself\u001b[0m\u001b[0;34m.\u001b[0m\u001b[0mestimators_\u001b[0m\u001b[0;34m.\u001b[0m\u001b[0mextend\u001b[0m\u001b[0;34m(\u001b[0m\u001b[0mtrees\u001b[0m\u001b[0;34m)\u001b[0m\u001b[0;34m\u001b[0m\u001b[0;34m\u001b[0m\u001b[0m\n\u001b[0m\u001b[1;32m    387\u001b[0m \u001b[0;34m\u001b[0m\u001b[0m\n\u001b[1;32m    388\u001b[0m         \u001b[0;32mif\u001b[0m \u001b[0mself\u001b[0m\u001b[0;34m.\u001b[0m\u001b[0moob_score\u001b[0m\u001b[0;34m:\u001b[0m\u001b[0;34m\u001b[0m\u001b[0;34m\u001b[0m\u001b[0m\n",
            "\u001b[0;32m~/.local/lib/python3.8/site-packages/joblib/parallel.py\u001b[0m in \u001b[0;36m__call__\u001b[0;34m(self, iterable)\u001b[0m\n\u001b[1;32m   1049\u001b[0m                 \u001b[0mself\u001b[0m\u001b[0;34m.\u001b[0m\u001b[0m_iterating\u001b[0m \u001b[0;34m=\u001b[0m \u001b[0mself\u001b[0m\u001b[0;34m.\u001b[0m\u001b[0m_original_iterator\u001b[0m \u001b[0;32mis\u001b[0m \u001b[0;32mnot\u001b[0m \u001b[0;32mNone\u001b[0m\u001b[0;34m\u001b[0m\u001b[0;34m\u001b[0m\u001b[0m\n\u001b[1;32m   1050\u001b[0m \u001b[0;34m\u001b[0m\u001b[0m\n\u001b[0;32m-> 1051\u001b[0;31m             \u001b[0;32mwhile\u001b[0m \u001b[0mself\u001b[0m\u001b[0;34m.\u001b[0m\u001b[0mdispatch_one_batch\u001b[0m\u001b[0;34m(\u001b[0m\u001b[0miterator\u001b[0m\u001b[0;34m)\u001b[0m\u001b[0;34m:\u001b[0m\u001b[0;34m\u001b[0m\u001b[0;34m\u001b[0m\u001b[0m\n\u001b[0m\u001b[1;32m   1052\u001b[0m                 \u001b[0;32mpass\u001b[0m\u001b[0;34m\u001b[0m\u001b[0;34m\u001b[0m\u001b[0m\n\u001b[1;32m   1053\u001b[0m \u001b[0;34m\u001b[0m\u001b[0m\n",
            "\u001b[0;32m~/.local/lib/python3.8/site-packages/joblib/parallel.py\u001b[0m in \u001b[0;36mdispatch_one_batch\u001b[0;34m(self, iterator)\u001b[0m\n\u001b[1;32m    864\u001b[0m                 \u001b[0;32mreturn\u001b[0m \u001b[0;32mFalse\u001b[0m\u001b[0;34m\u001b[0m\u001b[0;34m\u001b[0m\u001b[0m\n\u001b[1;32m    865\u001b[0m             \u001b[0;32melse\u001b[0m\u001b[0;34m:\u001b[0m\u001b[0;34m\u001b[0m\u001b[0;34m\u001b[0m\u001b[0m\n\u001b[0;32m--> 866\u001b[0;31m                 \u001b[0mself\u001b[0m\u001b[0;34m.\u001b[0m\u001b[0m_dispatch\u001b[0m\u001b[0;34m(\u001b[0m\u001b[0mtasks\u001b[0m\u001b[0;34m)\u001b[0m\u001b[0;34m\u001b[0m\u001b[0;34m\u001b[0m\u001b[0m\n\u001b[0m\u001b[1;32m    867\u001b[0m                 \u001b[0;32mreturn\u001b[0m \u001b[0;32mTrue\u001b[0m\u001b[0;34m\u001b[0m\u001b[0;34m\u001b[0m\u001b[0m\n\u001b[1;32m    868\u001b[0m \u001b[0;34m\u001b[0m\u001b[0m\n",
            "\u001b[0;32m~/.local/lib/python3.8/site-packages/joblib/parallel.py\u001b[0m in \u001b[0;36m_dispatch\u001b[0;34m(self, batch)\u001b[0m\n\u001b[1;32m    782\u001b[0m         \u001b[0;32mwith\u001b[0m \u001b[0mself\u001b[0m\u001b[0;34m.\u001b[0m\u001b[0m_lock\u001b[0m\u001b[0;34m:\u001b[0m\u001b[0;34m\u001b[0m\u001b[0;34m\u001b[0m\u001b[0m\n\u001b[1;32m    783\u001b[0m             \u001b[0mjob_idx\u001b[0m \u001b[0;34m=\u001b[0m \u001b[0mlen\u001b[0m\u001b[0;34m(\u001b[0m\u001b[0mself\u001b[0m\u001b[0;34m.\u001b[0m\u001b[0m_jobs\u001b[0m\u001b[0;34m)\u001b[0m\u001b[0;34m\u001b[0m\u001b[0;34m\u001b[0m\u001b[0m\n\u001b[0;32m--> 784\u001b[0;31m             \u001b[0mjob\u001b[0m \u001b[0;34m=\u001b[0m \u001b[0mself\u001b[0m\u001b[0;34m.\u001b[0m\u001b[0m_backend\u001b[0m\u001b[0;34m.\u001b[0m\u001b[0mapply_async\u001b[0m\u001b[0;34m(\u001b[0m\u001b[0mbatch\u001b[0m\u001b[0;34m,\u001b[0m \u001b[0mcallback\u001b[0m\u001b[0;34m=\u001b[0m\u001b[0mcb\u001b[0m\u001b[0;34m)\u001b[0m\u001b[0;34m\u001b[0m\u001b[0;34m\u001b[0m\u001b[0m\n\u001b[0m\u001b[1;32m    785\u001b[0m             \u001b[0;31m# A job can complete so quickly than its callback is\u001b[0m\u001b[0;34m\u001b[0m\u001b[0;34m\u001b[0m\u001b[0;34m\u001b[0m\u001b[0m\n\u001b[1;32m    786\u001b[0m             \u001b[0;31m# called before we get here, causing self._jobs to\u001b[0m\u001b[0;34m\u001b[0m\u001b[0;34m\u001b[0m\u001b[0;34m\u001b[0m\u001b[0m\n",
            "\u001b[0;32m~/.local/lib/python3.8/site-packages/joblib/_parallel_backends.py\u001b[0m in \u001b[0;36mapply_async\u001b[0;34m(self, func, callback)\u001b[0m\n\u001b[1;32m    206\u001b[0m     \u001b[0;32mdef\u001b[0m \u001b[0mapply_async\u001b[0m\u001b[0;34m(\u001b[0m\u001b[0mself\u001b[0m\u001b[0;34m,\u001b[0m \u001b[0mfunc\u001b[0m\u001b[0;34m,\u001b[0m \u001b[0mcallback\u001b[0m\u001b[0;34m=\u001b[0m\u001b[0;32mNone\u001b[0m\u001b[0;34m)\u001b[0m\u001b[0;34m:\u001b[0m\u001b[0;34m\u001b[0m\u001b[0;34m\u001b[0m\u001b[0m\n\u001b[1;32m    207\u001b[0m         \u001b[0;34m\"\"\"Schedule a func to be run\"\"\"\u001b[0m\u001b[0;34m\u001b[0m\u001b[0;34m\u001b[0m\u001b[0m\n\u001b[0;32m--> 208\u001b[0;31m         \u001b[0mresult\u001b[0m \u001b[0;34m=\u001b[0m \u001b[0mImmediateResult\u001b[0m\u001b[0;34m(\u001b[0m\u001b[0mfunc\u001b[0m\u001b[0;34m)\u001b[0m\u001b[0;34m\u001b[0m\u001b[0;34m\u001b[0m\u001b[0m\n\u001b[0m\u001b[1;32m    209\u001b[0m         \u001b[0;32mif\u001b[0m \u001b[0mcallback\u001b[0m\u001b[0;34m:\u001b[0m\u001b[0;34m\u001b[0m\u001b[0;34m\u001b[0m\u001b[0m\n\u001b[1;32m    210\u001b[0m             \u001b[0mcallback\u001b[0m\u001b[0;34m(\u001b[0m\u001b[0mresult\u001b[0m\u001b[0;34m)\u001b[0m\u001b[0;34m\u001b[0m\u001b[0;34m\u001b[0m\u001b[0m\n",
            "\u001b[0;32m~/.local/lib/python3.8/site-packages/joblib/_parallel_backends.py\u001b[0m in \u001b[0;36m__init__\u001b[0;34m(self, batch)\u001b[0m\n\u001b[1;32m    570\u001b[0m         \u001b[0;31m# Don't delay the application, to avoid keeping the input\u001b[0m\u001b[0;34m\u001b[0m\u001b[0;34m\u001b[0m\u001b[0;34m\u001b[0m\u001b[0m\n\u001b[1;32m    571\u001b[0m         \u001b[0;31m# arguments in memory\u001b[0m\u001b[0;34m\u001b[0m\u001b[0;34m\u001b[0m\u001b[0;34m\u001b[0m\u001b[0m\n\u001b[0;32m--> 572\u001b[0;31m         \u001b[0mself\u001b[0m\u001b[0;34m.\u001b[0m\u001b[0mresults\u001b[0m \u001b[0;34m=\u001b[0m \u001b[0mbatch\u001b[0m\u001b[0;34m(\u001b[0m\u001b[0;34m)\u001b[0m\u001b[0;34m\u001b[0m\u001b[0;34m\u001b[0m\u001b[0m\n\u001b[0m\u001b[1;32m    573\u001b[0m \u001b[0;34m\u001b[0m\u001b[0m\n\u001b[1;32m    574\u001b[0m     \u001b[0;32mdef\u001b[0m \u001b[0mget\u001b[0m\u001b[0;34m(\u001b[0m\u001b[0mself\u001b[0m\u001b[0;34m)\u001b[0m\u001b[0;34m:\u001b[0m\u001b[0;34m\u001b[0m\u001b[0;34m\u001b[0m\u001b[0m\n",
            "\u001b[0;32m~/.local/lib/python3.8/site-packages/joblib/parallel.py\u001b[0m in \u001b[0;36m__call__\u001b[0;34m(self)\u001b[0m\n\u001b[1;32m    260\u001b[0m         \u001b[0;31m# change the default number of processes to -1\u001b[0m\u001b[0;34m\u001b[0m\u001b[0;34m\u001b[0m\u001b[0;34m\u001b[0m\u001b[0m\n\u001b[1;32m    261\u001b[0m         \u001b[0;32mwith\u001b[0m \u001b[0mparallel_backend\u001b[0m\u001b[0;34m(\u001b[0m\u001b[0mself\u001b[0m\u001b[0;34m.\u001b[0m\u001b[0m_backend\u001b[0m\u001b[0;34m,\u001b[0m \u001b[0mn_jobs\u001b[0m\u001b[0;34m=\u001b[0m\u001b[0mself\u001b[0m\u001b[0;34m.\u001b[0m\u001b[0m_n_jobs\u001b[0m\u001b[0;34m)\u001b[0m\u001b[0;34m:\u001b[0m\u001b[0;34m\u001b[0m\u001b[0;34m\u001b[0m\u001b[0m\n\u001b[0;32m--> 262\u001b[0;31m             return [func(*args, **kwargs)\n\u001b[0m\u001b[1;32m    263\u001b[0m                     for func, args, kwargs in self.items]\n\u001b[1;32m    264\u001b[0m \u001b[0;34m\u001b[0m\u001b[0m\n",
            "\u001b[0;32m~/.local/lib/python3.8/site-packages/joblib/parallel.py\u001b[0m in \u001b[0;36m<listcomp>\u001b[0;34m(.0)\u001b[0m\n\u001b[1;32m    260\u001b[0m         \u001b[0;31m# change the default number of processes to -1\u001b[0m\u001b[0;34m\u001b[0m\u001b[0;34m\u001b[0m\u001b[0;34m\u001b[0m\u001b[0m\n\u001b[1;32m    261\u001b[0m         \u001b[0;32mwith\u001b[0m \u001b[0mparallel_backend\u001b[0m\u001b[0;34m(\u001b[0m\u001b[0mself\u001b[0m\u001b[0;34m.\u001b[0m\u001b[0m_backend\u001b[0m\u001b[0;34m,\u001b[0m \u001b[0mn_jobs\u001b[0m\u001b[0;34m=\u001b[0m\u001b[0mself\u001b[0m\u001b[0;34m.\u001b[0m\u001b[0m_n_jobs\u001b[0m\u001b[0;34m)\u001b[0m\u001b[0;34m:\u001b[0m\u001b[0;34m\u001b[0m\u001b[0;34m\u001b[0m\u001b[0m\n\u001b[0;32m--> 262\u001b[0;31m             return [func(*args, **kwargs)\n\u001b[0m\u001b[1;32m    263\u001b[0m                     for func, args, kwargs in self.items]\n\u001b[1;32m    264\u001b[0m \u001b[0;34m\u001b[0m\u001b[0m\n",
            "\u001b[0;32m~/.local/lib/python3.8/site-packages/sklearn/ensemble/_forest.py\u001b[0m in \u001b[0;36m_parallel_build_trees\u001b[0;34m(tree, forest, X, y, sample_weight, tree_idx, n_trees, verbose, class_weight, n_samples_bootstrap)\u001b[0m\n\u001b[1;32m    166\u001b[0m     \u001b[0;32melse\u001b[0m\u001b[0;34m:\u001b[0m\u001b[0;34m\u001b[0m\u001b[0;34m\u001b[0m\u001b[0m\n\u001b[1;32m    167\u001b[0m         \u001b[0mtree\u001b[0m\u001b[0;34m.\u001b[0m\u001b[0mfit\u001b[0m\u001b[0;34m(\u001b[0m\u001b[0mX\u001b[0m\u001b[0;34m,\u001b[0m \u001b[0my\u001b[0m\u001b[0;34m,\u001b[0m \u001b[0msample_weight\u001b[0m\u001b[0;34m=\u001b[0m\u001b[0msample_weight\u001b[0m\u001b[0;34m,\u001b[0m \u001b[0mcheck_input\u001b[0m\u001b[0;34m=\u001b[0m\u001b[0;32mFalse\u001b[0m\u001b[0;34m)\u001b[0m\u001b[0;34m\u001b[0m\u001b[0;34m\u001b[0m\u001b[0m\n\u001b[0;32m--> 168\u001b[0;31m \u001b[0;34m\u001b[0m\u001b[0m\n\u001b[0m\u001b[1;32m    169\u001b[0m     \u001b[0;32mreturn\u001b[0m \u001b[0mtree\u001b[0m\u001b[0;34m\u001b[0m\u001b[0;34m\u001b[0m\u001b[0m\n\u001b[1;32m    170\u001b[0m \u001b[0;34m\u001b[0m\u001b[0m\n",
            "\u001b[0;32m~/.local/lib/python3.8/site-packages/sklearn/tree/_classes.py\u001b[0m in \u001b[0;36mfit\u001b[0;34m(self, X, y, sample_weight, check_input, X_idx_sorted)\u001b[0m\n\u001b[1;32m   1240\u001b[0m                \"0.22 and will be removed in 0.24.\")\n\u001b[1;32m   1241\u001b[0m         \u001b[0mwarnings\u001b[0m\u001b[0;34m.\u001b[0m\u001b[0mwarn\u001b[0m\u001b[0;34m(\u001b[0m\u001b[0mmsg\u001b[0m\u001b[0;34m,\u001b[0m \u001b[0mFutureWarning\u001b[0m\u001b[0;34m)\u001b[0m\u001b[0;34m\u001b[0m\u001b[0;34m\u001b[0m\u001b[0m\n\u001b[0;32m-> 1242\u001b[0;31m         \u001b[0;32mreturn\u001b[0m \u001b[0mnp\u001b[0m\u001b[0;34m.\u001b[0m\u001b[0marray\u001b[0m\u001b[0;34m(\u001b[0m\u001b[0;34m[\u001b[0m\u001b[0;36m1\u001b[0m\u001b[0;34m]\u001b[0m \u001b[0;34m*\u001b[0m \u001b[0mself\u001b[0m\u001b[0;34m.\u001b[0m\u001b[0mn_outputs_\u001b[0m\u001b[0;34m,\u001b[0m \u001b[0mdtype\u001b[0m\u001b[0;34m=\u001b[0m\u001b[0mnp\u001b[0m\u001b[0;34m.\u001b[0m\u001b[0mintp\u001b[0m\u001b[0;34m)\u001b[0m\u001b[0;34m\u001b[0m\u001b[0;34m\u001b[0m\u001b[0m\n\u001b[0m\u001b[1;32m   1243\u001b[0m \u001b[0;34m\u001b[0m\u001b[0m\n\u001b[1;32m   1244\u001b[0m \u001b[0;34m\u001b[0m\u001b[0m\n",
            "\u001b[0;32m~/.local/lib/python3.8/site-packages/sklearn/tree/_classes.py\u001b[0m in \u001b[0;36mfit\u001b[0;34m(self, X, y, sample_weight, check_input, X_idx_sorted)\u001b[0m\n\u001b[1;32m    373\u001b[0m         \u001b[0mself\u001b[0m\u001b[0;34m.\u001b[0m\u001b[0m_prune_tree\u001b[0m\u001b[0;34m(\u001b[0m\u001b[0;34m)\u001b[0m\u001b[0;34m\u001b[0m\u001b[0;34m\u001b[0m\u001b[0m\n\u001b[1;32m    374\u001b[0m \u001b[0;34m\u001b[0m\u001b[0m\n\u001b[0;32m--> 375\u001b[0;31m         \u001b[0;32mreturn\u001b[0m \u001b[0mself\u001b[0m\u001b[0;34m\u001b[0m\u001b[0;34m\u001b[0m\u001b[0m\n\u001b[0m\u001b[1;32m    376\u001b[0m \u001b[0;34m\u001b[0m\u001b[0m\n\u001b[1;32m    377\u001b[0m     \u001b[0;32mdef\u001b[0m \u001b[0m_validate_X_predict\u001b[0m\u001b[0;34m(\u001b[0m\u001b[0mself\u001b[0m\u001b[0;34m,\u001b[0m \u001b[0mX\u001b[0m\u001b[0;34m,\u001b[0m \u001b[0mcheck_input\u001b[0m\u001b[0;34m)\u001b[0m\u001b[0;34m:\u001b[0m\u001b[0;34m\u001b[0m\u001b[0;34m\u001b[0m\u001b[0m\n",
            "\u001b[0;31mKeyboardInterrupt\u001b[0m: "
          ]
        }
      ]
    },
    {
      "cell_type": "markdown",
      "metadata": {
        "id": "hcXNfElvYPye"
      },
      "source": [
        "Como podemos ver nos logs do optuna o algortimo que apresentou o melhor desempenho, com um `r2 score` de `0.5395805170449737`, foi o `random forest` com os hiper parâmetros `'n_estimators': 100` e  `max_depth': 11`. Sendo assim, utilizaremos ele para tentar melhorar o score e minimizar o erro."
      ]
    },
    {
      "cell_type": "markdown",
      "metadata": {
        "id": "dM7D9rK1OrB1"
      },
      "source": [
        "### Diagnóstico de Regressor"
      ]
    },
    {
      "cell_type": "markdown",
      "metadata": {
        "id": "x86CG_u_ZWKm"
      },
      "source": [
        "Agora iremos calcular o score aumentando o número de features (1 até 147 - número máx de features do dataset) para ver se o score melhora e reduzir o número de dados de treinamento para 60% do dataset utilizando o algoritmo `random forest` com os hiper parâmentros que foram definidos na etapa anterior."
      ]
    },
    {
      "cell_type": "markdown",
      "metadata": {
        "id": "nsm4-JyodjG_"
      },
      "source": [
        "Para isso, ordenamos todos os mutual information em ordem decrescente, para a cada iteração adicionarmos a próxima feature com maior valor de MI."
      ]
    },
    {
      "cell_type": "code",
      "metadata": {
        "id": "7uutaZHYOrB2",
        "outputId": "ae6f7ade-2100-4544-fcf3-13337a32d567"
      },
      "source": [
        "with_mutual_information = df[(df['mutual_information_score'] != None) & (df['mutual_information_score'] != 0)]\n",
        "with_mutual_information = with_mutual_information.sort_values(by='mutual_information_score', ascending=False)\n",
        "total_features = with_mutual_information.shape[0]\n",
        "features_ordered = with_mutual_information.index\n",
        "total_features"
      ],
      "execution_count": null,
      "outputs": [
        {
          "output_type": "execute_result",
          "data": {
            "text/plain": [
              "147"
            ]
          },
          "metadata": {
            "tags": []
          },
          "execution_count": 60
        }
      ]
    },
    {
      "cell_type": "code",
      "metadata": {
        "scrolled": true,
        "id": "np8fSB-qOrB4",
        "outputId": "f3cadfc0-61b2-4558-a408-751c821ac87d"
      },
      "source": [
        "best_r2 = 0\n",
        "best_features_number = 1\n",
        "\n",
        "for i in range(1,total_features+1):\n",
        "    print('Running trial with', i, 'features')\n",
        "    movies_data_trial = movies_data.drop(features_ordered[i:], axis = 1)\n",
        "    X_trial = movies_data_trial.drop('IMDb', axis=1)\n",
        "    y_trial = movies_data_trial['IMDb']\n",
        "    \n",
        "    X_train, X_test, y_train, y_test = train_test_split(X_trial, y_trial, test_size=0.4, random_state=0)\n",
        "\n",
        "    r2 = run_experiment_with_model(best_model_ever, randomForestName, X_train, y_train, X_test, y_test)\n",
        "    \n",
        "    if r2 > best_r2:\n",
        "        best_r2 = r2\n",
        "        best_features_number = i    "
      ],
      "execution_count": null,
      "outputs": [
        {
          "output_type": "stream",
          "text": [
            "Running trial with  1  features\n",
            "Running trial with  2  features\n",
            "Running trial with  3  features\n",
            "Running trial with  4  features\n",
            "Running trial with  5  features\n",
            "Running trial with  6  features\n",
            "Running trial with  7  features\n",
            "Running trial with  8  features\n",
            "Running trial with  9  features\n",
            "Running trial with  10  features\n",
            "Running trial with  11  features\n",
            "Running trial with  12  features\n",
            "Running trial with  13  features\n",
            "Running trial with  14  features\n",
            "Running trial with  15  features\n",
            "Running trial with  16  features\n",
            "Running trial with  17  features\n",
            "Running trial with  18  features\n",
            "Running trial with  19  features\n",
            "Running trial with  20  features\n",
            "Running trial with  21  features\n",
            "Running trial with  22  features\n",
            "Running trial with  23  features\n",
            "Running trial with  24  features\n",
            "Running trial with  25  features\n",
            "Running trial with  26  features\n",
            "Running trial with  27  features\n",
            "Running trial with  28  features\n",
            "Running trial with  29  features\n",
            "Running trial with  30  features\n",
            "Running trial with  31  features\n",
            "Running trial with  32  features\n",
            "Running trial with  33  features\n",
            "Running trial with  34  features\n",
            "Running trial with  35  features\n",
            "Running trial with  36  features\n",
            "Running trial with  37  features\n",
            "Running trial with  38  features\n",
            "Running trial with  39  features\n",
            "Running trial with  40  features\n",
            "Running trial with  41  features\n",
            "Running trial with  42  features\n",
            "Running trial with  43  features\n",
            "Running trial with  44  features\n",
            "Running trial with  45  features\n",
            "Running trial with  46  features\n",
            "Running trial with  47  features\n",
            "Running trial with  48  features\n",
            "Running trial with  49  features\n",
            "Running trial with  50  features\n",
            "Running trial with  51  features\n",
            "Running trial with  52  features\n",
            "Running trial with  53  features\n",
            "Running trial with  54  features\n",
            "Running trial with  55  features\n",
            "Running trial with  56  features\n",
            "Running trial with  57  features\n",
            "Running trial with  58  features\n",
            "Running trial with  59  features\n",
            "Running trial with  60  features\n",
            "Running trial with  61  features\n",
            "Running trial with  62  features\n",
            "Running trial with  63  features\n",
            "Running trial with  64  features\n",
            "Running trial with  65  features\n",
            "Running trial with  66  features\n",
            "Running trial with  67  features\n",
            "Running trial with  68  features\n",
            "Running trial with  69  features\n",
            "Running trial with  70  features\n",
            "Running trial with  71  features\n",
            "Running trial with  72  features\n",
            "Running trial with  73  features\n",
            "Running trial with  74  features\n",
            "Running trial with  75  features\n",
            "Running trial with  76  features\n",
            "Running trial with  77  features\n",
            "Running trial with  78  features\n",
            "Running trial with  79  features\n",
            "Running trial with  80  features\n",
            "Running trial with  81  features\n",
            "Running trial with  82  features\n",
            "Running trial with  83  features\n",
            "Running trial with  84  features\n",
            "Running trial with  85  features\n",
            "Running trial with  86  features\n",
            "Running trial with  87  features\n",
            "Running trial with  88  features\n",
            "Running trial with  89  features\n",
            "Running trial with  90  features\n",
            "Running trial with  91  features\n",
            "Running trial with  92  features\n",
            "Running trial with  93  features\n",
            "Running trial with  94  features\n",
            "Running trial with  95  features\n",
            "Running trial with  96  features\n",
            "Running trial with  97  features\n",
            "Running trial with  98  features\n",
            "Running trial with  99  features\n",
            "Running trial with  100  features\n",
            "Running trial with  101  features\n",
            "Running trial with  102  features\n",
            "Running trial with  103  features\n",
            "Running trial with  104  features\n",
            "Running trial with  105  features\n",
            "Running trial with  106  features\n",
            "Running trial with  107  features\n",
            "Running trial with  108  features\n",
            "Running trial with  109  features\n",
            "Running trial with  110  features\n",
            "Running trial with  111  features\n",
            "Running trial with  112  features\n",
            "Running trial with  113  features\n",
            "Running trial with  114  features\n",
            "Running trial with  115  features\n",
            "Running trial with  116  features\n",
            "Running trial with  117  features\n",
            "Running trial with  118  features\n",
            "Running trial with  119  features\n",
            "Running trial with  120  features\n",
            "Running trial with  121  features\n",
            "Running trial with  122  features\n",
            "Running trial with  123  features\n",
            "Running trial with  124  features\n",
            "Running trial with  125  features\n",
            "Running trial with  126  features\n",
            "Running trial with  127  features\n",
            "Running trial with  128  features\n",
            "Running trial with  129  features\n",
            "Running trial with  130  features\n",
            "Running trial with  131  features\n",
            "Running trial with  132  features\n",
            "Running trial with  133  features\n",
            "Running trial with  134  features\n",
            "Running trial with  135  features\n",
            "Running trial with  136  features\n",
            "Running trial with  137  features\n",
            "Running trial with  138  features\n",
            "Running trial with  139  features\n",
            "Running trial with  140  features\n",
            "Running trial with  141  features\n",
            "Running trial with  142  features\n",
            "Running trial with  143  features\n",
            "Running trial with  144  features\n",
            "Running trial with  145  features\n",
            "Running trial with  146  features\n",
            "Running trial with  147  features\n"
          ],
          "name": "stdout"
        }
      ]
    },
    {
      "cell_type": "code",
      "metadata": {
        "id": "3fJNwmnFOrB-",
        "outputId": "aa01b890-f0e6-469d-badd-66a43bb9d38e"
      },
      "source": [
        "print(best_r2, best_features_number)"
      ],
      "execution_count": null,
      "outputs": [
        {
          "output_type": "stream",
          "text": [
            "0.5564830831051759 134\n"
          ],
          "name": "stdout"
        }
      ]
    },
    {
      "cell_type": "markdown",
      "metadata": {
        "id": "KRR4c9x0dFhH"
      },
      "source": [
        "Conseguimos obter um `r2 score` de 0.55 com as 134 features com maior mutual information, um ganho de quase 2% comparado a análise anterior feita com todas as 147 features. O erro dela.... (CONTINUAR)"
      ]
    }
  ]
}