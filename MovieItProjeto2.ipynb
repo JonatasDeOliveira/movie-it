{
 "cells": [
  {
   "cell_type": "markdown",
   "metadata": {
    "id": "lFxeRD2gAxEf"
   },
   "source": [
    "### Instalando PySpark"
   ]
  },
  {
   "cell_type": "code",
   "execution_count": 1,
   "metadata": {
    "colab": {
     "base_uri": "https://localhost:8080/"
    },
    "id": "RTdmD5l4BCct",
    "outputId": "b795f13c-1185-420e-ac48-8c35e5daf404",
    "scrolled": true
   },
   "outputs": [
    {
     "name": "stdout",
     "output_type": "stream",
     "text": [
      "Defaulting to user installation because normal site-packages is not writeable\n",
      "Requirement already satisfied: pyspark in /home/jonatas-clementino/.local/lib/python3.8/site-packages (3.0.1)\n",
      "Requirement already satisfied: py4j==0.10.9 in /home/jonatas-clementino/.local/lib/python3.8/site-packages (from pyspark) (0.10.9)\n",
      "\u001b[33mWARNING: You are using pip version 20.2.3; however, version 20.2.4 is available.\n",
      "You should consider upgrading via the '/usr/bin/python3 -m pip install --upgrade pip' command.\u001b[0m\n"
     ]
    }
   ],
   "source": [
    "!pip3 install pyspark"
   ]
  },
  {
   "cell_type": "markdown",
   "metadata": {
    "id": "_AcB-QsuAm8K"
   },
   "source": [
    "### Criando Spark Context"
   ]
  },
  {
   "cell_type": "code",
   "execution_count": 2,
   "metadata": {
    "id": "1udOWHIlCvbi"
   },
   "outputs": [],
   "source": [
    "from pyspark import SparkContext\n",
    "from pyspark.sql import Row\n",
    "from pyspark.sql import *\n",
    "from pyspark.sql import SQLContext\n",
    "from pyspark import SparkFiles\n",
    "from pyspark.sql.functions import col"
   ]
  },
  {
   "cell_type": "code",
   "execution_count": 3,
   "metadata": {
    "id": "eel4ff5OA6qe"
   },
   "outputs": [],
   "source": [
    "spark = SparkContext.getOrCreate()"
   ]
  },
  {
   "cell_type": "markdown",
   "metadata": {
    "id": "HWVV98rzl07M"
   },
   "source": [
    "### Carregando Dataset"
   ]
  },
  {
   "cell_type": "code",
   "execution_count": 4,
   "metadata": {
    "id": "SoH9WIshDvSJ"
   },
   "outputs": [],
   "source": [
    "spark.addFile('https://raw.githubusercontent.com/JonatasDeOliveira/movie-it/master/data/moviesOnStreamingPlatforms_noOutliers.csv')"
   ]
  },
  {
   "cell_type": "code",
   "execution_count": 5,
   "metadata": {
    "id": "aiXf8Wm7BX98"
   },
   "outputs": [],
   "source": [
    "sql_context = SQLContext(spark)\n",
    "movies_no_outliers_df = sql_context.read.csv(SparkFiles.get(\"moviesOnStreamingPlatforms_noOutliers.csv\"), header=True, inferSchema= True)"
   ]
  },
  {
   "cell_type": "code",
   "execution_count": 6,
   "metadata": {
    "id": "6eDsBVMXOrAM",
    "outputId": "354bbaa8-b396-4ba3-831e-e8ab28f5233b"
   },
   "outputs": [
    {
     "name": "stdout",
     "output_type": "stream",
     "text": [
      "root\n",
      " |-- _c0: integer (nullable = true)\n",
      " |-- ID: integer (nullable = true)\n",
      " |-- Title: string (nullable = true)\n",
      " |-- Year: integer (nullable = true)\n",
      " |-- Age: string (nullable = true)\n",
      " |-- IMDb: double (nullable = true)\n",
      " |-- Rotten Tomatoes: string (nullable = true)\n",
      " |-- Netflix: integer (nullable = true)\n",
      " |-- Hulu: integer (nullable = true)\n",
      " |-- Prime Video: integer (nullable = true)\n",
      " |-- Disney+: integer (nullable = true)\n",
      " |-- Directors: string (nullable = true)\n",
      " |-- Genres: string (nullable = true)\n",
      " |-- Country: string (nullable = true)\n",
      " |-- Language: string (nullable = true)\n",
      " |-- Runtime: integer (nullable = true)\n",
      "\n"
     ]
    }
   ],
   "source": [
    "movies_no_outliers_df.printSchema()"
   ]
  },
  {
   "cell_type": "markdown",
   "metadata": {
    "id": "9KnKujrvOrAQ"
   },
   "source": [
    "### MLFlow"
   ]
  },
  {
   "cell_type": "code",
   "execution_count": 7,
   "metadata": {
    "id": "RF2Icn8NOrAQ",
    "outputId": "9a1c6b7d-79f0-4d2d-c276-8f86606aa1ec"
   },
   "outputs": [
    {
     "name": "stdout",
     "output_type": "stream",
     "text": [
      "Defaulting to user installation because normal site-packages is not writeable\n",
      "Requirement already satisfied: sklearn in /home/jonatas-clementino/.local/lib/python3.8/site-packages (0.0)\n",
      "Requirement already satisfied: scikit-learn in /home/jonatas-clementino/.local/lib/python3.8/site-packages (from sklearn) (0.22.2.post1)\n",
      "Requirement already satisfied: numpy>=1.11.0 in /home/jonatas-clementino/.local/lib/python3.8/site-packages (from scikit-learn->sklearn) (1.19.4)\n",
      "Requirement already satisfied: joblib>=0.11 in /home/jonatas-clementino/.local/lib/python3.8/site-packages (from scikit-learn->sklearn) (0.17.0)\n",
      "Requirement already satisfied: scipy>=0.17.0 in /home/jonatas-clementino/.local/lib/python3.8/site-packages (from scikit-learn->sklearn) (1.5.4)\n",
      "\u001b[33mWARNING: You are using pip version 20.2.3; however, version 20.2.4 is available.\n",
      "You should consider upgrading via the '/usr/bin/python3 -m pip install --upgrade pip' command.\u001b[0m\n"
     ]
    }
   ],
   "source": [
    "!pip3 install sklearn"
   ]
  },
  {
   "cell_type": "code",
   "execution_count": 8,
   "metadata": {
    "id": "igiDj-YfOrAV",
    "outputId": "5e75ce36-145d-482c-b278-b353c2a1da51"
   },
   "outputs": [
    {
     "name": "stdout",
     "output_type": "stream",
     "text": [
      "Defaulting to user installation because normal site-packages is not writeable\n",
      "Requirement already satisfied: mlflow in /home/jonatas-clementino/.local/lib/python3.8/site-packages (1.12.0)\n",
      "Requirement already satisfied: protobuf>=3.6.0 in /home/jonatas-clementino/.local/lib/python3.8/site-packages (from mlflow) (3.13.0)\n",
      "Requirement already satisfied: cloudpickle in /home/jonatas-clementino/.local/lib/python3.8/site-packages (from mlflow) (1.6.0)\n",
      "Requirement already satisfied: azure-storage-blob in /home/jonatas-clementino/.local/lib/python3.8/site-packages (from mlflow) (12.6.0)\n",
      "Requirement already satisfied: sqlparse>=0.3.1 in /home/jonatas-clementino/.local/lib/python3.8/site-packages (from mlflow) (0.4.1)\n",
      "Requirement already satisfied: pyyaml in /usr/lib/python3/dist-packages (from mlflow) (5.3.1)\n",
      "Requirement already satisfied: pandas in /home/jonatas-clementino/.local/lib/python3.8/site-packages (from mlflow) (1.1.4)\n",
      "Requirement already satisfied: numpy in /home/jonatas-clementino/.local/lib/python3.8/site-packages (from mlflow) (1.19.4)\n",
      "Requirement already satisfied: six>=1.10.0 in /usr/lib/python3/dist-packages (from mlflow) (1.14.0)\n",
      "Requirement already satisfied: querystring-parser in /home/jonatas-clementino/.local/lib/python3.8/site-packages (from mlflow) (1.2.4)\n",
      "Requirement already satisfied: click>=7.0 in /usr/lib/python3/dist-packages (from mlflow) (7.0)\n",
      "Requirement already satisfied: docker>=4.0.0 in /home/jonatas-clementino/.local/lib/python3.8/site-packages (from mlflow) (4.3.1)\n",
      "Requirement already satisfied: prometheus-flask-exporter in /home/jonatas-clementino/.local/lib/python3.8/site-packages (from mlflow) (0.18.1)\n",
      "Requirement already satisfied: gunicorn; platform_system != \"Windows\" in /home/jonatas-clementino/.local/lib/python3.8/site-packages (from mlflow) (20.0.4)\n",
      "Requirement already satisfied: requests>=2.17.3 in /usr/lib/python3/dist-packages (from mlflow) (2.22.0)\n",
      "Requirement already satisfied: databricks-cli>=0.8.7 in /home/jonatas-clementino/.local/lib/python3.8/site-packages (from mlflow) (0.14.0)\n",
      "Requirement already satisfied: Flask in /home/jonatas-clementino/.local/lib/python3.8/site-packages (from mlflow) (1.1.2)\n",
      "Requirement already satisfied: entrypoints in /usr/lib/python3/dist-packages (from mlflow) (0.3)\n",
      "Requirement already satisfied: python-dateutil in /usr/lib/python3/dist-packages (from mlflow) (2.7.3)\n",
      "Requirement already satisfied: gitpython>=2.1.0 in /home/jonatas-clementino/.local/lib/python3.8/site-packages (from mlflow) (3.1.11)\n",
      "Requirement already satisfied: alembic<=1.4.1 in /home/jonatas-clementino/.local/lib/python3.8/site-packages (from mlflow) (1.4.1)\n",
      "Requirement already satisfied: sqlalchemy in /home/jonatas-clementino/.local/lib/python3.8/site-packages (from mlflow) (1.3.20)\n",
      "Requirement already satisfied: setuptools in /usr/local/lib/python3.8/dist-packages (from protobuf>=3.6.0->mlflow) (50.3.0)\n",
      "Requirement already satisfied: msrest>=0.6.10 in /home/jonatas-clementino/.local/lib/python3.8/site-packages (from azure-storage-blob->mlflow) (0.6.19)\n",
      "Requirement already satisfied: cryptography>=2.1.4 in /usr/lib/python3/dist-packages (from azure-storage-blob->mlflow) (2.8)\n",
      "Requirement already satisfied: azure-core<2.0.0,>=1.9.0 in /home/jonatas-clementino/.local/lib/python3.8/site-packages (from azure-storage-blob->mlflow) (1.9.0)\n",
      "Requirement already satisfied: pytz>=2017.2 in /usr/lib/python3/dist-packages (from pandas->mlflow) (2019.3)\n",
      "Requirement already satisfied: websocket-client>=0.32.0 in /home/jonatas-clementino/.local/lib/python3.8/site-packages (from docker>=4.0.0->mlflow) (0.57.0)\n",
      "Requirement already satisfied: prometheus-client in /home/jonatas-clementino/.local/lib/python3.8/site-packages (from prometheus-flask-exporter->mlflow) (0.8.0)\n",
      "Requirement already satisfied: tabulate>=0.7.7 in /home/jonatas-clementino/.local/lib/python3.8/site-packages (from databricks-cli>=0.8.7->mlflow) (0.8.7)\n",
      "Requirement already satisfied: itsdangerous>=0.24 in /home/jonatas-clementino/.local/lib/python3.8/site-packages (from Flask->mlflow) (1.1.0)\n",
      "Requirement already satisfied: Werkzeug>=0.15 in /home/jonatas-clementino/.local/lib/python3.8/site-packages (from Flask->mlflow) (1.0.1)\n",
      "Requirement already satisfied: Jinja2>=2.10.1 in /home/jonatas-clementino/.local/lib/python3.8/site-packages (from Flask->mlflow) (2.11.2)\n",
      "Requirement already satisfied: gitdb<5,>=4.0.1 in /home/jonatas-clementino/.local/lib/python3.8/site-packages (from gitpython>=2.1.0->mlflow) (4.0.5)\n",
      "Requirement already satisfied: python-editor>=0.3 in /home/jonatas-clementino/.local/lib/python3.8/site-packages (from alembic<=1.4.1->mlflow) (1.0.4)\n",
      "Requirement already satisfied: Mako in /home/jonatas-clementino/.local/lib/python3.8/site-packages (from alembic<=1.4.1->mlflow) (1.1.3)\n",
      "Requirement already satisfied: requests-oauthlib>=0.5.0 in /home/jonatas-clementino/.local/lib/python3.8/site-packages (from msrest>=0.6.10->azure-storage-blob->mlflow) (1.3.0)\n",
      "Requirement already satisfied: certifi>=2017.4.17 in /home/jonatas-clementino/.local/lib/python3.8/site-packages (from msrest>=0.6.10->azure-storage-blob->mlflow) (2020.11.8)\n",
      "Requirement already satisfied: isodate>=0.6.0 in /home/jonatas-clementino/.local/lib/python3.8/site-packages (from msrest>=0.6.10->azure-storage-blob->mlflow) (0.6.0)\n",
      "Requirement already satisfied: MarkupSafe>=0.23 in /home/jonatas-clementino/.local/lib/python3.8/site-packages (from Jinja2>=2.10.1->Flask->mlflow) (1.1.1)\n",
      "Requirement already satisfied: smmap<4,>=3.0.1 in /home/jonatas-clementino/.local/lib/python3.8/site-packages (from gitdb<5,>=4.0.1->gitpython>=2.1.0->mlflow) (3.0.4)\n",
      "Requirement already satisfied: oauthlib>=3.0.0 in /usr/lib/python3/dist-packages (from requests-oauthlib>=0.5.0->msrest>=0.6.10->azure-storage-blob->mlflow) (3.1.0)\n",
      "\u001b[33mWARNING: You are using pip version 20.2.3; however, version 20.2.4 is available.\n",
      "You should consider upgrading via the '/usr/bin/python3 -m pip install --upgrade pip' command.\u001b[0m\n"
     ]
    }
   ],
   "source": [
    "!pip3 install mlflow"
   ]
  },
  {
   "cell_type": "code",
   "execution_count": 9,
   "metadata": {
    "id": "YBFLTjCIOrAY"
   },
   "outputs": [],
   "source": [
    "import os\n",
    "import warnings\n",
    "import sys\n",
    "\n",
    "import pandas as pd\n",
    "import numpy as np\n",
    "from sklearn.metrics import mean_squared_error, mean_absolute_error, r2_score\n",
    "from sklearn.model_selection import train_test_split\n",
    "from sklearn.linear_model import ElasticNet\n",
    "from urllib.parse import urlparse\n",
    "import mlflow\n",
    "import mlflow.sklearn\n",
    "\n",
    "import logging"
   ]
  },
  {
   "cell_type": "code",
   "execution_count": 10,
   "metadata": {
    "id": "MwAbYZh1OrAb",
    "outputId": "6aadc138-d1e5-491d-833e-622e44c039dc"
   },
   "outputs": [
    {
     "name": "stderr",
     "output_type": "stream",
     "text": [
      "/home/jonatas-clementino/.local/lib/python3.8/site-packages/ipykernel/ipkernel.py:287: DeprecationWarning: `should_run_async` will not call `transform_cell` automatically in the future. Please pass the result to `transformed_cell` argument and any exception that happen during thetransform in `preprocessing_exc_tuple` in IPython 7.17 and above.\n",
      "  and should_run_async(code)\n"
     ]
    }
   ],
   "source": [
    "logging.basicConfig(level=logging.WARN)\n",
    "logger = logging.getLogger(__name__)"
   ]
  },
  {
   "cell_type": "markdown",
   "metadata": {
    "id": "5C8Ob4eUPJQ2"
   },
   "source": [
    "Função que será utilizada para plotar a reta de regressão com os valores da nota real vs nota predita pelo algortimo, a fim de comparar e ter uma ajuda visual do desempenho."
   ]
  },
  {
   "cell_type": "code",
   "execution_count": 11,
   "metadata": {
    "id": "77kfnPqOOrAf"
   },
   "outputs": [],
   "source": [
    "import matplotlib.pyplot as plt\n",
    "\n",
    "def plot_comparission_result(y_true, y_pred):\n",
    "  plt.scatter(y_true, y_pred)\n",
    "  range = [y_true.min(), y_pred.max()]\n",
    "  plt.plot(range, range, 'red')\n",
    "  plt.xlabel('Nota real')\n",
    "  plt.ylabel('Nota predita')\n",
    "  plt.show()"
   ]
  },
  {
   "cell_type": "markdown",
   "metadata": {
    "id": "GXZhTEPLPajF"
   },
   "source": [
    "Função que calcula o `RMSE`, `MAE` e `R2`."
   ]
  },
  {
   "cell_type": "code",
   "execution_count": 12,
   "metadata": {
    "id": "CBxLFdyXOrAi",
    "outputId": "f1aa7cc2-348a-44b1-ab06-9247adf7ece2"
   },
   "outputs": [
    {
     "name": "stderr",
     "output_type": "stream",
     "text": [
      "/home/jonatas-clementino/.local/lib/python3.8/site-packages/ipykernel/ipkernel.py:287: DeprecationWarning: `should_run_async` will not call `transform_cell` automatically in the future. Please pass the result to `transformed_cell` argument and any exception that happen during thetransform in `preprocessing_exc_tuple` in IPython 7.17 and above.\n",
      "  and should_run_async(code)\n"
     ]
    }
   ],
   "source": [
    "def eval_metrics(actual, pred):\n",
    "    rmse = np.sqrt(mean_squared_error(actual, pred))\n",
    "    mae = mean_absolute_error(actual, pred)\n",
    "    r2 = r2_score(actual, pred)\n",
    "    return rmse, mae, r2"
   ]
  },
  {
   "cell_type": "code",
   "execution_count": 13,
   "metadata": {
    "id": "uqKqc28MOrAl"
   },
   "outputs": [],
   "source": [
    "warnings.filterwarnings(\"ignore\")\n",
    "np.random.seed(40)"
   ]
  },
  {
   "cell_type": "markdown",
   "metadata": {
    "id": "APJ3A3h1Pn9y"
   },
   "source": [
    "Função responsável por fazer o treinamento e chamar os métodos acima. Aqui utilizamos o mlflow para guardar os valores dos parametros e os resultados do algortimo."
   ]
  },
  {
   "cell_type": "code",
   "execution_count": 14,
   "metadata": {
    "id": "NrenkcX_OrAo"
   },
   "outputs": [],
   "source": [
    "def run_experiment_with_model(model, model_name, train_x, train_y, test_x, test_y, params_dict={}, plot=True):\n",
    "    # cria um experimento para cada algortimo executado para ajudar na divisão e organização\n",
    "    experiment_name='MovieIt-'+model_name \n",
    "    mlflow.set_experiment(experiment_name=experiment_name)\n",
    "    with mlflow.start_run():\n",
    "        model.fit(train_x, train_y)\n",
    "\n",
    "        predicted_qualities = model.predict(test_x)\n",
    "\n",
    "        (rmse, mae, r2) = eval_metrics(test_y, predicted_qualities)\n",
    "\n",
    "        print(model_name)\n",
    "        print(\"  RMSE: %s\" % rmse)\n",
    "        print(\"  MAE: %s\" % mae)\n",
    "        print(\"  R2: %s\" % r2)\n",
    "        \n",
    "        for param_name, param_value in params_dict.items():\n",
    "            mlflow.log_param(param_name, param_value)\n",
    "        \n",
    "        mlflow.log_metric(\"rmse\", rmse)\n",
    "        mlflow.log_metric(\"r2\", r2)\n",
    "        mlflow.log_metric(\"mae\", mae)\n",
    "\n",
    "        tracking_url_type_store = urlparse(mlflow.get_tracking_uri()).scheme\n",
    "\n",
    "        if tracking_url_type_store != \"file\":\n",
    "            mlflow.sklearn.log_model(model, model_name, registered_model_name=model_name)\n",
    "        else:\n",
    "            mlflow.sklearn.log_model(model, model_name)\n",
    "        \n",
    "        if plot:\n",
    "            plot_comparission_result(test_y, predicted_qualities)\n",
    "\n",
    "        return r2"
   ]
  },
  {
   "cell_type": "markdown",
   "metadata": {
    "id": "yfCC2BnjnREo"
   },
   "source": [
    "### Regressão"
   ]
  },
  {
   "cell_type": "markdown",
   "metadata": {
    "id": "eiJFnS4MsZ0C"
   },
   "source": [
    "Escolhemos a nota do IMDb como target de predição, pelo fato de ser um valor que depende muito do gosto e opinião das pessoas. Por este motivo utilizaremos algoritmos de regressão para prever a nota."
   ]
  },
  {
   "cell_type": "markdown",
   "metadata": {
    "id": "IajjZIPCOutX"
   },
   "source": [
    "##### Preparação dos dataset para regressão"
   ]
  },
  {
   "cell_type": "markdown",
   "metadata": {
    "id": "RizmXwpLQtxT"
   },
   "source": [
    "Salvamos o dataset que foi processado no Projeto 1, porém houveram alguns problemas quando foram salvos com os dados e tivemos que fazer alguns pre processamentos."
   ]
  },
  {
   "cell_type": "code",
   "execution_count": 15,
   "metadata": {
    "id": "6WZm9JXMDQdx",
    "scrolled": true
   },
   "outputs": [],
   "source": [
    "from pyspark.sql.functions import split\n",
    "\n",
    "movies_no_outliers_df = (movies_no_outliers_df.withColumn('DirectorsArray', split('Directors', ','))\n",
    ".withColumn('GenresArray', split('Genres', ','))\n",
    ".withColumn('CountriesArray', split('Country', ','))\n",
    ".withColumn('LanguagesArray', split('Language', ','))\n",
    ".drop('Directors')\n",
    ".drop('Genres')\n",
    ".drop('Country')\n",
    ".drop('Language')\n",
    ".drop('_c0'))"
   ]
  },
  {
   "cell_type": "code",
   "execution_count": 16,
   "metadata": {
    "id": "zME9nj0wOrAy"
   },
   "outputs": [],
   "source": [
    "from pyspark.sql.functions import translate\n",
    "from pyspark.sql.types import IntegerType\n",
    "from pyspark.sql.functions import udf\n",
    "\n",
    "def transform_all_age_value(age):\n",
    "  if age == 'all':\n",
    "    return 0\n",
    "  if age is None:\n",
    "    return -1\n",
    "  return int(age)\n",
    "\n",
    "transformAllAgeValue = udf(lambda x: transform_all_age_value(x), IntegerType())\n",
    "\n",
    "movies_no_outliers_df = movies_no_outliers_df.withColumn(\"Age\", translate('Age', '+', ''))\n",
    "movies_no_outliers_df = movies_no_outliers_df.withColumn(\"MinimumClassification\", transformAllAgeValue(col('Age'))).drop('Age')"
   ]
  },
  {
   "cell_type": "code",
   "execution_count": 17,
   "metadata": {
    "id": "b80eOMF5OrA1"
   },
   "outputs": [],
   "source": [
    "movies_no_outliers_df = movies_no_outliers_df.withColumn(\"RottenTomatoes\", translate('Rotten Tomatoes', '%', '')).drop('Rotten Tomatoes')\n",
    "movies_no_outliers_df = movies_no_outliers_df.withColumn(\"RottenTomatoes\", col(\"RottenTomatoes\").cast(IntegerType()))\n",
    "movies_no_outliers_df = movies_no_outliers_df.withColumn(\"RottenTomatoes\", col(\"RottenTomatoes\") / 10)"
   ]
  },
  {
   "cell_type": "code",
   "execution_count": 18,
   "metadata": {
    "id": "hSsExNOUOrA3",
    "outputId": "8a429df8-9cdd-4962-ca49-3d666159c3b8",
    "scrolled": true
   },
   "outputs": [
    {
     "name": "stdout",
     "output_type": "stream",
     "text": [
      "root\n",
      " |-- ID: integer (nullable = true)\n",
      " |-- Title: string (nullable = true)\n",
      " |-- Year: integer (nullable = true)\n",
      " |-- IMDb: double (nullable = true)\n",
      " |-- Netflix: integer (nullable = true)\n",
      " |-- Hulu: integer (nullable = true)\n",
      " |-- Prime Video: integer (nullable = true)\n",
      " |-- Disney+: integer (nullable = true)\n",
      " |-- Runtime: integer (nullable = true)\n",
      " |-- DirectorsArray: array (nullable = true)\n",
      " |    |-- element: string (containsNull = true)\n",
      " |-- GenresArray: array (nullable = true)\n",
      " |    |-- element: string (containsNull = true)\n",
      " |-- CountriesArray: array (nullable = true)\n",
      " |    |-- element: string (containsNull = true)\n",
      " |-- LanguagesArray: array (nullable = true)\n",
      " |    |-- element: string (containsNull = true)\n",
      " |-- MinimumClassification: integer (nullable = true)\n",
      " |-- RottenTomatoes: double (nullable = true)\n",
      "\n"
     ]
    }
   ],
   "source": [
    "movies_no_outliers_df.printSchema()"
   ]
  },
  {
   "cell_type": "markdown",
   "metadata": {
    "id": "5f8eYjfFpUHI"
   },
   "source": [
    "**One hot enconding**\n",
    "\n",
    "Vamos explodir o array de gênero, países e línguas e transformá-los em diversas colunas com valores binários para cada filme e juntar essas novas informações a tabela original."
   ]
  },
  {
   "cell_type": "code",
   "execution_count": 19,
   "metadata": {
    "colab": {
     "base_uri": "https://localhost:8080/"
    },
    "id": "DlDSDwgoCsLi",
    "outputId": "47d32ed8-bf8f-4dd5-e227-cbb548471566",
    "scrolled": true
   },
   "outputs": [
    {
     "name": "stdout",
     "output_type": "stream",
     "text": [
      "+-----+------+---------+---------+---------+------+-----+-----------+-----+------+-------+---------+-------+------+-----+-------+-------+----+----------+-------+------+-----+-----+---------+--------+---+-------+\n",
      "|   ID|Action|Adventure|Animation|Biography|Comedy|Crime|Documentary|Drama|Family|Fantasy|Film-Noir|History|Horror|Music|Musical|Mystery|News|Reality-TV|Romance|Sci-Fi|Short|Sport|Talk-Show|Thriller|War|Western|\n",
      "+-----+------+---------+---------+---------+------+-----+-----------+-----+------+-------+---------+-------+------+-----+-------+-------+----+----------+-------+------+-----+-----+---------+--------+---+-------+\n",
      "| 3918|     0|        0|        0|        0|     0|    0|          0|    1|     0|      0|        0|      0|     1|    0|      0|      1|   0|         0|      0|     1|    0|    0|        0|       0|  0|      0|\n",
      "| 3997|     0|        0|        0|        0|     0|    1|          0|    1|     0|      0|        0|      0|     0|    0|      0|      1|   0|         0|      0|     0|    0|    0|        0|       1|  0|      0|\n",
      "|  471|     0|        0|        0|        1|     0|    1|          0|    1|     0|      0|        0|      1|     0|    0|      0|      0|   0|         0|      0|     0|    0|    0|        0|       1|  0|      0|\n",
      "|  496|     0|        0|        0|        0|     1|    1|          0|    1|     0|      0|        0|      0|     0|    0|      0|      0|   0|         0|      1|     0|    0|    0|        0|       0|  0|      0|\n",
      "|16503|     0|        1|        0|        0|     1|    0|          0|    0|     1|      0|        0|      0|     0|    0|      0|      0|   0|         0|      1|     1|    0|    0|        0|       0|  0|      0|\n",
      "+-----+------+---------+---------+---------+------+-----+-----------+-----+------+-------+---------+-------+------+-----+-------+-------+----+----------+-------+------+-----+-----+---------+--------+---+-------+\n",
      "only showing top 5 rows\n",
      "\n"
     ]
    }
   ],
   "source": [
    "from pyspark.sql.functions import explode\n",
    "\n",
    "exploded_genres = movies_no_outliers_df.withColumn('exploded', explode(col('GenresArray'))).groupby('ID').pivot('exploded').count().na.fill(0)\n",
    "exploded_genres.show(5)"
   ]
  },
  {
   "cell_type": "code",
   "execution_count": 20,
   "metadata": {
    "colab": {
     "base_uri": "https://localhost:8080/"
    },
    "id": "zmmX798FuWH-",
    "outputId": "336ec53f-4086-4001-ad67-b6b4f1585381",
    "scrolled": true
   },
   "outputs": [
    {
     "name": "stdout",
     "output_type": "stream",
     "text": [
      "+----+-----------+-------+-------+---------+---------+-------+-------+-------+----------+-------+-------+-------+----------------------+------+--------+--------+------+--------------+----+-----+-----+--------+-----+----------+-------+----+------+--------------+--------------+-------+------------------+------------+-----+-------+--------+-------+------+-------+-------+-----+------+---------+-----+-----------------------------+---------+-------+-------+-----+---------+----+----+-------+------+-----+-------+-----+------+-----+----------+-------+-------+-----+---------+----------+------+--------+-----+------+------+----------+-------+-------+-----+-----------+-----------+-------+------+--------+---------+------+----------------+--------+----+-----------+------+--------+-----------+-----+---------------------------+-------+------+------+------------+-------+------+---------+--------+--------+------------+-----------+------------+-----+------+-----------+-----+------+--------+--------+--------------------------------+-------+------+------+-------+--------------------+--------------+-------------+-------+---------+-------+------------+----------+--------+\n",
      "|  ID|Afghanistan|Albania|Algeria|Argentina|Australia|Austria|Bahamas|Bahrain|Bangladesh|Belarus|Belgium|Bolivia|Bosnia and Herzegovina|Brazil|Bulgaria|Cambodia|Canada|Cayman Islands|Chad|Chile|China|Colombia|Congo|Costa Rica|Croatia|Cuba|Cyprus|Czech Republic|Czechoslovakia|Denmark|Dominican Republic|East Germany|Egypt|Estonia|Ethiopia|Finland|France|Georgia|Germany|Ghana|Greece|Guatemala|Haiti|Holy See (Vatican City State)|Hong Kong|Hungary|Iceland|India|Indonesia|Iran|Iraq|Ireland|Israel|Italy|Jamaica|Japan|Jordan|Kenya|Kyrgyzstan|Lebanon|Liberia|Libya|Lithuania|Luxembourg|Malawi|Malaysia|Malta|Mexico|Monaco|Montenegro|Morocco|Namibia|Nepal|Netherlands|New Zealand|Nigeria|Norway|Pakistan|Palestine|Panama|Papua New Guinea|Paraguay|Peru|Philippines|Poland|Portugal|Puerto Rico|Qatar|Republic of North Macedonia|Romania|Russia|Rwanda|Saudi Arabia|Senegal|Serbia|Singapore|Slovakia|Slovenia|South Africa|South Korea|Soviet Union|Spain|Sweden|Switzerland|Syria|Taiwan|Tanzania|Thailand|The Democratic Republic Of Congo|Tunisia|Turkey|Uganda|Ukraine|United Arab Emirates|United Kingdom|United States|Uruguay|Venezuela|Vietnam|West Germany|Yugoslavia|Zimbabwe|\n",
      "+----+-----------+-------+-------+---------+---------+-------+-------+-------+----------+-------+-------+-------+----------------------+------+--------+--------+------+--------------+----+-----+-----+--------+-----+----------+-------+----+------+--------------+--------------+-------+------------------+------------+-----+-------+--------+-------+------+-------+-------+-----+------+---------+-----+-----------------------------+---------+-------+-------+-----+---------+----+----+-------+------+-----+-------+-----+------+-----+----------+-------+-------+-----+---------+----------+------+--------+-----+------+------+----------+-------+-------+-----+-----------+-----------+-------+------+--------+---------+------+----------------+--------+----+-----------+------+--------+-----------+-----+---------------------------+-------+------+------+------------+-------+------+---------+--------+--------+------------+-----------+------------+-----+------+-----------+-----+------+--------+--------+--------------------------------+-------+------+------+-------+--------------------+--------------+-------------+-------+---------+-------+------------+----------+--------+\n",
      "| 833|          0|      0|      0|        0|        0|      0|      0|      0|         0|      0|      0|      0|                     0|     0|       0|       0|     0|             0|   0|    0|    0|       0|    0|         0|      0|   0|     0|             0|             0|      0|                 0|           0|    0|      0|       0|      0|     0|      0|      0|    0|     0|        0|    0|                            0|        0|      0|      0|    0|        0|   0|   0|      0|     0|    0|      0|    0|     0|    0|         0|      0|      0|    0|        0|         0|     0|       0|    0|     0|     0|         0|      0|      0|    0|          0|          0|      0|     0|       0|        0|     0|               0|       0|   0|          0|     0|       0|          0|    0|                          0|      0|     0|     0|           0|      0|     0|        0|       0|       0|           0|          0|           0|    0|     0|          0|    0|     0|       0|       0|                               0|      0|     0|     0|      0|                   0|             0|            1|      0|        0|      0|           0|         0|       0|\n",
      "|3997|          0|      0|      0|        0|        0|      0|      0|      0|         0|      0|      0|      0|                     0|     0|       0|       0|     0|             0|   0|    0|    0|       0|    0|         0|      0|   0|     0|             0|             0|      0|                 0|           0|    0|      0|       0|      0|     0|      0|      0|    0|     0|        0|    0|                            0|        0|      0|      0|    0|        0|   0|   0|      0|     0|    0|      0|    0|     0|    0|         0|      0|      0|    0|        0|         0|     0|       0|    0|     0|     0|         0|      0|      0|    0|          0|          0|      0|     0|       0|        0|     0|               0|       0|   0|          0|     0|       0|          0|    0|                          0|      0|     0|     0|           0|      0|     0|        0|       0|       0|           0|          0|           0|    0|     0|          0|    0|     0|       0|       0|                               0|      0|     0|     0|      0|                   0|             0|            1|      0|        0|      0|           0|         0|       0|\n",
      "|3749|          0|      0|      0|        0|        0|      0|      0|      0|         0|      0|      0|      0|                     0|     0|       0|       0|     0|             0|   0|    0|    0|       0|    0|         0|      0|   0|     0|             0|             0|      0|                 0|           0|    0|      0|       0|      0|     0|      0|      0|    0|     0|        0|    0|                            0|        0|      0|      0|    0|        0|   0|   0|      0|     0|    0|      0|    0|     0|    0|         0|      0|      0|    0|        0|         0|     0|       0|    0|     0|     0|         0|      0|      0|    0|          0|          0|      0|     0|       0|        0|     0|               0|       0|   0|          0|     0|       0|          0|    0|                          0|      0|     0|     0|           0|      0|     0|        0|       0|       0|           0|          0|           0|    0|     0|          0|    0|     0|       0|       0|                               0|      0|     0|     0|      0|                   0|             0|            1|      0|        0|      0|           0|         0|       0|\n",
      "|4818|          0|      0|      0|        0|        0|      0|      0|      0|         0|      0|      0|      0|                     0|     0|       1|       0|     0|             0|   0|    0|    0|       0|    0|         0|      0|   0|     0|             0|             0|      0|                 0|           0|    0|      0|       0|      0|     0|      0|      0|    0|     0|        0|    0|                            0|        0|      0|      0|    0|        0|   0|   0|      0|     0|    0|      0|    0|     0|    0|         0|      0|      0|    0|        0|         0|     0|       0|    1|     0|     0|         0|      0|      0|    0|          0|          0|      0|     0|       0|        0|     0|               0|       0|   0|          0|     0|       0|          0|    0|                          0|      0|     0|     0|           0|      0|     0|        0|       0|       0|           0|          0|           0|    1|     0|          0|    0|     0|       0|       0|                               0|      0|     0|     0|      0|                   0|             0|            0|      0|        0|      0|           0|         0|       0|\n",
      "| 471|          0|      0|      0|        1|        0|      0|      0|      0|         0|      0|      0|      0|                     0|     0|       0|       0|     0|             0|   0|    1|    0|       0|    0|         0|      0|   0|     0|             0|             0|      0|                 0|           0|    0|      0|       0|      0|     1|      0|      0|    0|     0|        0|    0|                            0|        0|      0|      0|    0|        0|   0|   0|      0|     0|    0|      0|    0|     0|    0|         0|      0|      0|    0|        0|         0|     0|       0|    0|     0|     0|         0|      0|      0|    0|          0|          0|      0|     0|       0|        0|     0|               0|       0|   0|          0|     0|       0|          0|    0|                          0|      0|     0|     0|           0|      0|     0|        0|       0|       0|           0|          0|           0|    1|     0|          0|    0|     0|       0|       0|                               0|      0|     0|     0|      0|                   0|             0|            1|      0|        0|      0|           0|         0|       0|\n",
      "+----+-----------+-------+-------+---------+---------+-------+-------+-------+----------+-------+-------+-------+----------------------+------+--------+--------+------+--------------+----+-----+-----+--------+-----+----------+-------+----+------+--------------+--------------+-------+------------------+------------+-----+-------+--------+-------+------+-------+-------+-----+------+---------+-----+-----------------------------+---------+-------+-------+-----+---------+----+----+-------+------+-----+-------+-----+------+-----+----------+-------+-------+-----+---------+----------+------+--------+-----+------+------+----------+-------+-------+-----+-----------+-----------+-------+------+--------+---------+------+----------------+--------+----+-----------+------+--------+-----------+-----+---------------------------+-------+------+------+------------+-------+------+---------+--------+--------+------------+-----------+------------+-----+------+-----------+-----+------+--------+--------+--------------------------------+-------+------+------+-------+--------------------+--------------+-------------+-------+---------+-------+------------+----------+--------+\n",
      "only showing top 5 rows\n",
      "\n"
     ]
    }
   ],
   "source": [
    "exploded_countries = movies_no_outliers_df.withColumn('exploded', explode(col('CountriesArray'))).groupby('ID').pivot('exploded').count().na.fill(0)\n",
    "exploded_countries.show(5)"
   ]
  },
  {
   "cell_type": "code",
   "execution_count": 21,
   "metadata": {
    "colab": {
     "base_uri": "https://localhost:8080/"
    },
    "id": "P_OFQSrtwX6E",
    "outputId": "94e78c0a-076a-4865-bcc5-6c62e335a292"
   },
   "outputs": [
    {
     "name": "stdout",
     "output_type": "stream",
     "text": [
      "+----+------------------+----------+---------+----+--------+---------+----------------------+-------+----------------+------+---------+-------+--------+--------+--------------------+--------------------+------------------------+------+------+-----+-------+----------------+--------+-------+-----------------------+---------+---------+-------+--------+-------+-------+-----+--------+-----+------+----+-----+----------------+-------+---------+--------+---+--------+-------+-------+------+--------------------+-----+--------+--------+------+-----+-------+--------+-------+-----+--------+--------+------+-----+---------+---------+----------+---------+-----+-------+--------+----------------------+------+-------+-----+-----------+-------+-------+------+------+-------+-----+-------+-------+----------+----------+-------------+----------+-----+---------+-------+--------+--------+-----+----------+-------+----+--------------+-------+------+---------+----+------+------+----+---------------------+---------+------+-------+----------+-------+------+----------+----------+-------+------+-------+----------+--------+-------+-----+-----+---------------+-------+--------------+------------+--------+--------------+---------+-----+------+---------+------+--------------+-------+---------------------+-------+-------+------------+-------+-----+------+-------+----+-------+----+-------+-------+---------+----+----------+-----+-----+-----+-------+------+----+\n",
      "|  ID| Ancient (to 1453)|Aboriginal|Afrikaans|Akan|Albanian|Algonquin|American Sign Language|Amharic|Apache languages|Arabic|Aragonese|Aramaic|Armenian|Assamese|Assyrian Neo-Aramaic|Athapascan languages|Australian Sign Language|Awadhi|Basque|Bemba|Bengali|Berber languages|Bhojpuri|Bosnian|Brazilian Sign Language|Bulgarian|Cantonese|Catalan|Cheyenne|Chinese|Cornish|Creek|Croatian|Czech|Danish|Dari|Dutch|East-Greenlandic|English|Esperanto|Estonian|Ewe|Filipino|Finnish|Flemish|French|French Sign Language|Fulah|Gallegan|Georgian|German|Greek|Guarani|Gujarati|Haitian|Hakka|Haryanvi|Hawaiian|Hebrew|Hindi|Hungarian|Icelandic|Indonesian|Inuktitut|Irish|Italian|Japanese|Japanese Sign Language|Kabyle|Kannada|Khmer|Kinyarwanda|Kirghiz|Klingon|Korean|Kriolu|Kurdish|Latin|Latvian|Lingala|Lithuanian|Low German|Luxembourgish|Macedonian|Malay|Malayalam|Maltese|Mandarin|Manipuri|Maori|Mapudungun|Marathi|Maya|Middle English|Min Nan|Mohawk|Mongolian|Nama|Navajo|Nepali|None|North American Indian|Norwegian|Nyanja|Occitan|Papiamento|Persian|Polish|Polynesian|Portuguese|Punjabi|Pushto|Quechua|Rajasthani|Romanian|Russian|Saami|Scots|Scottish Gaelic|Serbian|Serbo-Croatian|Shanghainese|Sicilian|Sign Languages|Sinhalese|Sioux|Slovak|Slovenian|Somali|Southern Sotho|Spanish|Spanish Sign Language|Swahili|Swedish|Swiss German|Tagalog|Tamil|Telugu|Teochew|Thai|Tibetan|Tupi|Turkish|Turkmen|Ukrainian|Urdu|Vietnamese|Welsh|Wolof|Xhosa|Yiddish|Yoruba|Zulu|\n",
      "+----+------------------+----------+---------+----+--------+---------+----------------------+-------+----------------+------+---------+-------+--------+--------+--------------------+--------------------+------------------------+------+------+-----+-------+----------------+--------+-------+-----------------------+---------+---------+-------+--------+-------+-------+-----+--------+-----+------+----+-----+----------------+-------+---------+--------+---+--------+-------+-------+------+--------------------+-----+--------+--------+------+-----+-------+--------+-------+-----+--------+--------+------+-----+---------+---------+----------+---------+-----+-------+--------+----------------------+------+-------+-----+-----------+-------+-------+------+------+-------+-----+-------+-------+----------+----------+-------------+----------+-----+---------+-------+--------+--------+-----+----------+-------+----+--------------+-------+------+---------+----+------+------+----+---------------------+---------+------+-------+----------+-------+------+----------+----------+-------+------+-------+----------+--------+-------+-----+-----+---------------+-------+--------------+------------+--------+--------------+---------+-----+------+---------+------+--------------+-------+---------------------+-------+-------+------------+-------+-----+------+-------+----+-------+----+-------+-------+---------+----+----------+-----+-----+-----+-------+------+----+\n",
      "|3997|                 0|         0|        0|   0|       0|        0|                     0|      0|               0|     0|        0|      0|       0|       0|                   0|                   0|                       0|     0|     0|    0|      0|               0|       0|      0|                      0|        0|        0|      0|       0|      0|      0|    0|       0|    0|     0|   0|    0|               0|      1|        0|       0|  0|       0|      0|      0|     0|                   0|    0|       0|       0|     0|    0|      0|       0|      0|    0|       0|       0|     0|    0|        0|        0|         0|        0|    0|      0|       0|                     0|     0|      0|    0|          0|      0|      0|     0|     0|      0|    0|      0|      0|         0|         0|            0|         0|    0|        0|      0|       0|       0|    0|         0|      0|   0|             0|      0|     0|        0|   0|     0|     0|   0|                    0|        0|     0|      0|         0|      0|     0|         0|         0|      0|     0|      0|         0|       0|      1|    0|    0|              0|      0|             0|           0|       0|             0|        0|    0|     0|        0|     0|             0|      1|                    0|      0|      0|           0|      0|    0|     0|      0|   0|      0|   0|      0|      0|        0|   0|         0|    0|    0|    0|      0|     0|   0|\n",
      "|6357|                 0|         0|        0|   0|       0|        0|                     0|      0|               0|     0|        0|      0|       0|       0|                   0|                   0|                       0|     0|     0|    0|      0|               0|       0|      0|                      0|        0|        0|      0|       0|      0|      0|    0|       0|    0|     0|   0|    0|               0|      1|        0|       0|  0|       0|      0|      0|     0|                   0|    0|       0|       0|     0|    0|      0|       0|      0|    0|       0|       0|     0|    0|        0|        0|         0|        0|    0|      0|       0|                     0|     0|      0|    0|          0|      0|      0|     0|     0|      0|    0|      0|      0|         0|         0|            0|         0|    0|        0|      0|       0|       0|    0|         0|      0|   0|             0|      0|     0|        0|   0|     0|     0|   0|                    0|        0|     0|      0|         0|      0|     0|         0|         0|      0|     0|      0|         0|       0|      0|    0|    0|              0|      0|             0|           0|       0|             0|        0|    0|     0|        0|     0|             0|      0|                    0|      0|      0|           0|      0|    0|     0|      0|   0|      0|   0|      0|      0|        0|   0|         0|    0|    0|    0|      0|     0|   0|\n",
      "|6620|                 0|         0|        0|   0|       0|        0|                     0|      0|               0|     0|        0|      0|       0|       0|                   0|                   0|                       0|     0|     0|    0|      0|               0|       0|      0|                      0|        0|        0|      0|       0|      1|      0|    0|       0|    0|     0|   0|    0|               0|      1|        0|       0|  0|       0|      0|      0|     0|                   0|    0|       0|       0|     0|    0|      0|       0|      0|    0|       0|       0|     0|    0|        0|        0|         0|        0|    0|      0|       0|                     0|     0|      0|    0|          0|      0|      0|     0|     0|      0|    0|      0|      0|         0|         0|            0|         0|    0|        0|      0|       1|       0|    0|         0|      0|   0|             0|      0|     0|        0|   0|     0|     0|   0|                    0|        0|     0|      0|         0|      0|     0|         0|         0|      0|     0|      0|         0|       0|      0|    0|    0|              0|      0|             0|           0|       0|             0|        0|    0|     0|        0|     0|             0|      0|                    0|      0|      0|           0|      0|    0|     0|      0|   0|      0|   0|      0|      0|        0|   0|         0|    0|    0|    0|      0|     0|   0|\n",
      "| 148|                 0|         0|        0|   0|       0|        0|                     0|      0|               0|     1|        0|      0|       0|       0|                   0|                   0|                       0|     0|     0|    0|      0|               1|       0|      0|                      0|        0|        0|      0|       0|      0|      0|    0|       0|    0|     0|   0|    0|               0|      1|        0|       0|  0|       0|      0|      0|     1|                   0|    0|       0|       0|     0|    0|      0|       0|      0|    0|       0|       0|     0|    0|        0|        0|         0|        0|    0|      0|       1|                     1|     0|      0|    0|          0|      0|      0|     0|     0|      0|    0|      0|      0|         0|         0|            0|         0|    0|        0|      0|       0|       0|    0|         0|      0|   0|             0|      0|     0|        0|   0|     0|     0|   0|                    0|        0|     0|      0|         0|      0|     0|         0|         0|      0|     0|      0|         0|       0|      1|    0|    0|              0|      0|             0|           0|       0|             0|        0|    0|     0|        0|     0|             0|      1|                    0|      0|      0|           0|      0|    0|     0|      0|   0|      0|   0|      0|      0|        0|   0|         0|    0|    0|    0|      0|     0|   0|\n",
      "|4935|                 0|         0|        0|   0|       0|        0|                     0|      0|               0|     0|        0|      0|       0|       0|                   0|                   0|                       0|     0|     0|    0|      0|               0|       0|      0|                      0|        0|        0|      0|       0|      0|      0|    0|       0|    0|     0|   0|    0|               0|      1|        0|       0|  0|       0|      0|      0|     0|                   0|    0|       0|       0|     0|    0|      0|       1|      0|    0|       0|       0|     0|    0|        0|        0|         0|        0|    0|      0|       0|                     0|     0|      0|    0|          0|      0|      0|     0|     0|      0|    0|      0|      0|         0|         0|            0|         0|    0|        0|      0|       0|       0|    0|         0|      0|   0|             0|      0|     0|        0|   0|     0|     0|   0|                    0|        0|     0|      0|         0|      0|     0|         0|         0|      0|     0|      0|         0|       0|      0|    0|    0|              0|      0|             0|           0|       0|             0|        0|    0|     0|        0|     0|             0|      0|                    0|      0|      0|           0|      0|    0|     0|      0|   0|      0|   0|      0|      0|        0|   0|         0|    0|    0|    0|      0|     0|   0|\n",
      "+----+------------------+----------+---------+----+--------+---------+----------------------+-------+----------------+------+---------+-------+--------+--------+--------------------+--------------------+------------------------+------+------+-----+-------+----------------+--------+-------+-----------------------+---------+---------+-------+--------+-------+-------+-----+--------+-----+------+----+-----+----------------+-------+---------+--------+---+--------+-------+-------+------+--------------------+-----+--------+--------+------+-----+-------+--------+-------+-----+--------+--------+------+-----+---------+---------+----------+---------+-----+-------+--------+----------------------+------+-------+-----+-----------+-------+-------+------+------+-------+-----+-------+-------+----------+----------+-------------+----------+-----+---------+-------+--------+--------+-----+----------+-------+----+--------------+-------+------+---------+----+------+------+----+---------------------+---------+------+-------+----------+-------+------+----------+----------+-------+------+-------+----------+--------+-------+-----+-----+---------------+-------+--------------+------------+--------+--------------+---------+-----+------+---------+------+--------------+-------+---------------------+-------+-------+------------+-------+-----+------+-------+----+-------+----+-------+-------+---------+----+----------+-----+-----+-----+-------+------+----+\n",
      "only showing top 5 rows\n",
      "\n"
     ]
    }
   ],
   "source": [
    "exploded_languages = movies_no_outliers_df.withColumn('exploded', explode(col('LanguagesArray'))).groupby('ID').pivot('exploded').count().na.fill(0)\n",
    "exploded_languages.show(5)"
   ]
  },
  {
   "cell_type": "code",
   "execution_count": 22,
   "metadata": {
    "colab": {
     "base_uri": "https://localhost:8080/"
    },
    "id": "MpOAxGekESqA",
    "outputId": "ff548649-4026-40af-f4f4-cf5ee67e0ee5"
   },
   "outputs": [
    {
     "name": "stdout",
     "output_type": "stream",
     "text": [
      "+-----+--------------------+----+----+-------+----+-----------+-------+-------+-----------------+--------------------+--------------------+--------------------+---------------------+--------------+------+---------+---------+---------+------+-----+-----------+-----+------+-------+---------+-------+------+-----+-------+-------+----+----------+-------+------+-----+-----+---------+--------+---+-------+-----------+-------+-------+---------+---------+-------+-------+-------+----------+-------+-------+-------+----------------------+------+--------+--------+------+--------------+----+-----+-----+--------+-----+----------+-------+----+------+--------------+--------------+-------+------------------+------------+-----+-------+--------+-------+------+-------+-------+-----+------+---------+-----+-----------------------------+---------+-------+-------+-----+---------+----+----+-------+------+-----+-------+-----+------+-----+----------+-------+-------+-----+---------+----------+------+--------+-----+------+------+----------+-------+-------+-----+-----------+-----------+-------+------+--------+---------+------+----------------+--------+----+-----------+------+--------+-----------+-----+---------------------------+-------+------+------+------------+-------+------+---------+--------+--------+------------+-----------+------------+-----+------+-----------+-----+------+--------+--------+--------------------------------+-------+------+------+-------+--------------------+--------------+-------------+-------+---------+-------+------------+----------+--------+------------------+----------+---------+----+--------+---------+----------------------+-------+----------------+------+---------+-------+--------+--------+--------------------+--------------------+------------------------+------+------+-----+-------+----------------+--------+-------+-----------------------+---------+---------+-------+--------+-------+-------+-----+--------+-----+------+----+-----+----------------+-------+---------+--------+---+--------+-------+-------+------+--------------------+-----+--------+--------+------+-----+-------+--------+-------+-----+--------+--------+------+-----+---------+---------+----------+---------+-----+-------+--------+----------------------+------+-------+-----+-----------+-------+-------+------+------+-------+-----+-------+-------+----------+----------+-------------+----------+-----+---------+-------+--------+--------+-----+----------+-------+----+--------------+-------+------+---------+----+------+------+----+---------------------+---------+------+-------+----------+-------+------+----------+----------+-------+------+-------+----------+--------+-------+-----+-----+---------------+-------+--------------+------------+--------+--------------+---------+-----+------+---------+------+--------------+-------+---------------------+-------+-------+------------+-------+-----+------+-------+----+-------+----+-------+-------+---------+----+----------+-----+-----+-----+-------+------+----+\n",
      "|   ID|               Title|Year|IMDb|Netflix|Hulu|Prime Video|Disney+|Runtime|   DirectorsArray|         GenresArray|      CountriesArray|      LanguagesArray|MinimumClassification|RottenTomatoes|Action|Adventure|Animation|Biography|Comedy|Crime|Documentary|Drama|Family|Fantasy|Film-Noir|History|Horror|Music|Musical|Mystery|News|Reality-TV|Romance|Sci-Fi|Short|Sport|Talk-Show|Thriller|War|Western|Afghanistan|Albania|Algeria|Argentina|Australia|Austria|Bahamas|Bahrain|Bangladesh|Belarus|Belgium|Bolivia|Bosnia and Herzegovina|Brazil|Bulgaria|Cambodia|Canada|Cayman Islands|Chad|Chile|China|Colombia|Congo|Costa Rica|Croatia|Cuba|Cyprus|Czech Republic|Czechoslovakia|Denmark|Dominican Republic|East Germany|Egypt|Estonia|Ethiopia|Finland|France|Georgia|Germany|Ghana|Greece|Guatemala|Haiti|Holy See (Vatican City State)|Hong Kong|Hungary|Iceland|India|Indonesia|Iran|Iraq|Ireland|Israel|Italy|Jamaica|Japan|Jordan|Kenya|Kyrgyzstan|Lebanon|Liberia|Libya|Lithuania|Luxembourg|Malawi|Malaysia|Malta|Mexico|Monaco|Montenegro|Morocco|Namibia|Nepal|Netherlands|New Zealand|Nigeria|Norway|Pakistan|Palestine|Panama|Papua New Guinea|Paraguay|Peru|Philippines|Poland|Portugal|Puerto Rico|Qatar|Republic of North Macedonia|Romania|Russia|Rwanda|Saudi Arabia|Senegal|Serbia|Singapore|Slovakia|Slovenia|South Africa|South Korea|Soviet Union|Spain|Sweden|Switzerland|Syria|Taiwan|Tanzania|Thailand|The Democratic Republic Of Congo|Tunisia|Turkey|Uganda|Ukraine|United Arab Emirates|United Kingdom|United States|Uruguay|Venezuela|Vietnam|West Germany|Yugoslavia|Zimbabwe| Ancient (to 1453)|Aboriginal|Afrikaans|Akan|Albanian|Algonquin|American Sign Language|Amharic|Apache languages|Arabic|Aragonese|Aramaic|Armenian|Assamese|Assyrian Neo-Aramaic|Athapascan languages|Australian Sign Language|Awadhi|Basque|Bemba|Bengali|Berber languages|Bhojpuri|Bosnian|Brazilian Sign Language|Bulgarian|Cantonese|Catalan|Cheyenne|Chinese|Cornish|Creek|Croatian|Czech|Danish|Dari|Dutch|East-Greenlandic|English|Esperanto|Estonian|Ewe|Filipino|Finnish|Flemish|French|French Sign Language|Fulah|Gallegan|Georgian|German|Greek|Guarani|Gujarati|Haitian|Hakka|Haryanvi|Hawaiian|Hebrew|Hindi|Hungarian|Icelandic|Indonesian|Inuktitut|Irish|Italian|Japanese|Japanese Sign Language|Kabyle|Kannada|Khmer|Kinyarwanda|Kirghiz|Klingon|Korean|Kriolu|Kurdish|Latin|Latvian|Lingala|Lithuanian|Low German|Luxembourgish|Macedonian|Malay|Malayalam|Maltese|Mandarin|Manipuri|Maori|Mapudungun|Marathi|Maya|Middle English|Min Nan|Mohawk|Mongolian|Nama|Navajo|Nepali|None|North American Indian|Norwegian|Nyanja|Occitan|Papiamento|Persian|Polish|Polynesian|Portuguese|Punjabi|Pushto|Quechua|Rajasthani|Romanian|Russian|Saami|Scots|Scottish Gaelic|Serbian|Serbo-Croatian|Shanghainese|Sicilian|Sign Languages|Sinhalese|Sioux|Slovak|Slovenian|Somali|Southern Sotho|Spanish|Spanish Sign Language|Swahili|Swedish|Swiss German|Tagalog|Tamil|Telugu|Teochew|Thai|Tibetan|Tupi|Turkish|Turkmen|Ukrainian|Urdu|Vietnamese|Welsh|Wolof|Xhosa|Yiddish|Yoruba|Zulu|\n",
      "+-----+--------------------+----+----+-------+----+-----------+-------+-------+-----------------+--------------------+--------------------+--------------------+---------------------+--------------+------+---------+---------+---------+------+-----+-----------+-----+------+-------+---------+-------+------+-----+-------+-------+----+----------+-------+------+-----+-----+---------+--------+---+-------+-----------+-------+-------+---------+---------+-------+-------+-------+----------+-------+-------+-------+----------------------+------+--------+--------+------+--------------+----+-----+-----+--------+-----+----------+-------+----+------+--------------+--------------+-------+------------------+------------+-----+-------+--------+-------+------+-------+-------+-----+------+---------+-----+-----------------------------+---------+-------+-------+-----+---------+----+----+-------+------+-----+-------+-----+------+-----+----------+-------+-------+-----+---------+----------+------+--------+-----+------+------+----------+-------+-------+-----+-----------+-----------+-------+------+--------+---------+------+----------------+--------+----+-----------+------+--------+-----------+-----+---------------------------+-------+------+------+------------+-------+------+---------+--------+--------+------------+-----------+------------+-----+------+-----------+-----+------+--------+--------+--------------------------------+-------+------+------+-------+--------------------+--------------+-------------+-------+---------+-------+------------+----------+--------+------------------+----------+---------+----+--------+---------+----------------------+-------+----------------+------+---------+-------+--------+--------+--------------------+--------------------+------------------------+------+------+-----+-------+----------------+--------+-------+-----------------------+---------+---------+-------+--------+-------+-------+-----+--------+-----+------+----+-----+----------------+-------+---------+--------+---+--------+-------+-------+------+--------------------+-----+--------+--------+------+-----+-------+--------+-------+-----+--------+--------+------+-----+---------+---------+----------+---------+-----+-------+--------+----------------------+------+-------+-----+-----------+-------+-------+------+------+-------+-----+-------+-------+----------+----------+-------------+----------+-----+---------+-------+--------+--------+-----+----------+-------+----+--------------+-------+------+---------+----+------+------+----+---------------------+---------+------+-------+----------+-------+------+----------+----------+-------+------+-------+----------+--------+-------+-----+-----+---------------+-------+--------------+------------+--------+--------------+---------+-----+------+---------+------+--------------+-------+---------------------+-------+-------+------------+-------+-----+------+-------+----+-------+----+-------+-------+---------+----+----------+-----+-----+-----+-------+------+----+\n",
      "| 3918|          Little Joe|2019| 5.9|      0|   1|          0|      0|    105|[Jessica Hausner]|[Drama, Horror, M...|[United Kingdom, ...|           [English]|                   -1|           6.8|     0|        0|        0|        0|     0|    0|          0|    1|     0|      0|        0|      0|     1|    0|      0|      1|   0|         0|      0|     1|    0|    0|        0|       0|  0|      0|          0|      0|      0|        0|        0|      1|      0|      0|         0|      0|      0|      0|                     0|     0|       0|       0|     0|             0|   0|    0|    0|       0|    0|         0|      0|   0|     0|             0|             0|      0|                 0|           0|    0|      0|       0|      0|     0|      0|      1|    0|     0|        0|    0|                            0|        0|      0|      0|    0|        0|   0|   0|      0|     0|    0|      0|    0|     0|    0|         0|      0|      0|    0|        0|         0|     0|       0|    0|     0|     0|         0|      0|      0|    0|          0|          0|      0|     0|       0|        0|     0|               0|       0|   0|          0|     0|       0|          0|    0|                          0|      0|     0|     0|           0|      0|     0|        0|       0|       0|           0|          0|           0|    0|     0|          0|    0|     0|       0|       0|                               0|      0|     0|     0|      0|                   0|             1|            0|      0|        0|      0|           0|         0|       0|                 0|         0|        0|   0|       0|        0|                     0|      0|               0|     0|        0|      0|       0|       0|                   0|                   0|                       0|     0|     0|    0|      0|               0|       0|      0|                      0|        0|        0|      0|       0|      0|      0|    0|       0|    0|     0|   0|    0|               0|      1|        0|       0|  0|       0|      0|      0|     0|                   0|    0|       0|       0|     0|    0|      0|       0|      0|    0|       0|       0|     0|    0|        0|        0|         0|        0|    0|      0|       0|                     0|     0|      0|    0|          0|      0|      0|     0|     0|      0|    0|      0|      0|         0|         0|            0|         0|    0|        0|      0|       0|       0|    0|         0|      0|   0|             0|      0|     0|        0|   0|     0|     0|   0|                    0|        0|     0|      0|         0|      0|     0|         0|         0|      0|     0|      0|         0|       0|      0|    0|    0|              0|      0|             0|           0|       0|             0|        0|    0|     0|        0|     0|             0|      0|                    0|      0|      0|           0|      0|    0|     0|      0|   0|      0|   0|      0|      0|        0|   0|         0|    0|    0|    0|      0|     0|   0|\n",
      "| 3997|      Righteous Kill|2008| 6.0|      0|   1|          0|      0|    101|      [Jon Avnet]|[Crime, Drama, My...|     [United States]|[English, Spanish...|                   18|           1.8|     0|        0|        0|        0|     0|    1|          0|    1|     0|      0|        0|      0|     0|    0|      0|      1|   0|         0|      0|     0|    0|    0|        0|       1|  0|      0|          0|      0|      0|        0|        0|      0|      0|      0|         0|      0|      0|      0|                     0|     0|       0|       0|     0|             0|   0|    0|    0|       0|    0|         0|      0|   0|     0|             0|             0|      0|                 0|           0|    0|      0|       0|      0|     0|      0|      0|    0|     0|        0|    0|                            0|        0|      0|      0|    0|        0|   0|   0|      0|     0|    0|      0|    0|     0|    0|         0|      0|      0|    0|        0|         0|     0|       0|    0|     0|     0|         0|      0|      0|    0|          0|          0|      0|     0|       0|        0|     0|               0|       0|   0|          0|     0|       0|          0|    0|                          0|      0|     0|     0|           0|      0|     0|        0|       0|       0|           0|          0|           0|    0|     0|          0|    0|     0|       0|       0|                               0|      0|     0|     0|      0|                   0|             0|            1|      0|        0|      0|           0|         0|       0|                 0|         0|        0|   0|       0|        0|                     0|      0|               0|     0|        0|      0|       0|       0|                   0|                   0|                       0|     0|     0|    0|      0|               0|       0|      0|                      0|        0|        0|      0|       0|      0|      0|    0|       0|    0|     0|   0|    0|               0|      1|        0|       0|  0|       0|      0|      0|     0|                   0|    0|       0|       0|     0|    0|      0|       0|      0|    0|       0|       0|     0|    0|        0|        0|         0|        0|    0|      0|       0|                     0|     0|      0|    0|          0|      0|      0|     0|     0|      0|    0|      0|      0|         0|         0|            0|         0|    0|        0|      0|       0|       0|    0|         0|      0|   0|             0|      0|     0|        0|   0|     0|     0|   0|                    0|        0|     0|      0|         0|      0|     0|         0|         0|      0|     0|      0|         0|       0|      1|    0|    0|              0|      0|             0|           0|       0|             0|        0|    0|     0|        0|     0|             0|      1|                    0|      0|      0|           0|      0|    0|     0|      0|   0|      0|   0|      0|      0|        0|   0|         0|    0|    0|    0|      0|     0|   0|\n",
      "|  471|              Neruda|2016| 6.9|      1|   0|          0|      0|    107|  [Pablo Larraín]|[Biography, Crime...|[Chile, Argentina...|[Spanish, French,...|                   18|           9.3|     0|        0|        0|        1|     0|    1|          0|    1|     0|      0|        0|      1|     0|    0|      0|      0|   0|         0|      0|     0|    0|    0|        0|       1|  0|      0|          0|      0|      0|        1|        0|      0|      0|      0|         0|      0|      0|      0|                     0|     0|       0|       0|     0|             0|   0|    1|    0|       0|    0|         0|      0|   0|     0|             0|             0|      0|                 0|           0|    0|      0|       0|      0|     1|      0|      0|    0|     0|        0|    0|                            0|        0|      0|      0|    0|        0|   0|   0|      0|     0|    0|      0|    0|     0|    0|         0|      0|      0|    0|        0|         0|     0|       0|    0|     0|     0|         0|      0|      0|    0|          0|          0|      0|     0|       0|        0|     0|               0|       0|   0|          0|     0|       0|          0|    0|                          0|      0|     0|     0|           0|      0|     0|        0|       0|       0|           0|          0|           0|    1|     0|          0|    0|     0|       0|       0|                               0|      0|     0|     0|      0|                   0|             0|            1|      0|        0|      0|           0|         0|       0|                 0|         0|        0|   0|       0|        0|                     0|      0|               0|     0|        0|      0|       0|       0|                   0|                   0|                       0|     0|     0|    0|      0|               0|       0|      0|                      0|        0|        0|      0|       0|      0|      0|    0|       0|    0|     0|   0|    1|               0|      0|        0|       0|  0|       0|      0|      0|     1|                   0|    0|       0|       0|     0|    0|      0|       0|      0|    0|       0|       0|     0|    0|        0|        0|         0|        0|    0|      0|       0|                     0|     0|      0|    0|          0|      0|      0|     0|     0|      0|    0|      0|      0|         0|         0|            0|         0|    0|        0|      0|       0|       0|    0|         1|      0|   0|             0|      0|     0|        0|   0|     0|     0|   0|                    0|        0|     0|      0|         0|      0|     0|         0|         0|      0|     0|      0|         0|       0|      0|    0|    0|              0|      0|             0|           0|       0|             0|        0|    0|     0|        0|     0|             0|      1|                    0|      0|      0|           0|      0|    0|     0|      0|   0|      0|   0|      0|      0|        0|   0|         0|    0|    0|    0|      0|     0|   0|\n",
      "|  496|             Bandits|2001| 6.5|      1|   0|          1|      0|    123| [Barry Levinson]|[Comedy, Crime, D...|     [United States]|           [English]|                   13|           6.4|     0|        0|        0|        0|     1|    1|          0|    1|     0|      0|        0|      0|     0|    0|      0|      0|   0|         0|      1|     0|    0|    0|        0|       0|  0|      0|          0|      0|      0|        0|        0|      0|      0|      0|         0|      0|      0|      0|                     0|     0|       0|       0|     0|             0|   0|    0|    0|       0|    0|         0|      0|   0|     0|             0|             0|      0|                 0|           0|    0|      0|       0|      0|     0|      0|      0|    0|     0|        0|    0|                            0|        0|      0|      0|    0|        0|   0|   0|      0|     0|    0|      0|    0|     0|    0|         0|      0|      0|    0|        0|         0|     0|       0|    0|     0|     0|         0|      0|      0|    0|          0|          0|      0|     0|       0|        0|     0|               0|       0|   0|          0|     0|       0|          0|    0|                          0|      0|     0|     0|           0|      0|     0|        0|       0|       0|           0|          0|           0|    0|     0|          0|    0|     0|       0|       0|                               0|      0|     0|     0|      0|                   0|             0|            1|      0|        0|      0|           0|         0|       0|                 0|         0|        0|   0|       0|        0|                     0|      0|               0|     0|        0|      0|       0|       0|                   0|                   0|                       0|     0|     0|    0|      0|               0|       0|      0|                      0|        0|        0|      0|       0|      0|      0|    0|       0|    0|     0|   0|    0|               0|      1|        0|       0|  0|       0|      0|      0|     0|                   0|    0|       0|       0|     0|    0|      0|       0|      0|    0|       0|       0|     0|    0|        0|        0|         0|        0|    0|      0|       0|                     0|     0|      0|    0|          0|      0|      0|     0|     0|      0|    0|      0|      0|         0|         0|            0|         0|    0|        0|      0|       0|       0|    0|         0|      0|   0|             0|      0|     0|        0|   0|     0|     0|   0|                    0|        0|     0|      0|         0|      0|     0|         0|         0|      0|     0|      0|         0|       0|      0|    0|    0|              0|      0|             0|           0|       0|             0|        0|    0|     0|        0|     0|             0|      0|                    0|      0|      0|           0|      0|    0|     0|      0|   0|      0|   0|      0|      0|        0|   0|         0|    0|    0|    0|      0|     0|   0|\n",
      "|16503|Honey I Blew Up t...|1992| 4.8|      0|   0|          0|      1|     89| [Randal Kleiser]|[Adventure, Comed...|     [United States]|           [English]|                    7|           4.0|     0|        1|        0|        0|     1|    0|          0|    0|     1|      0|        0|      0|     0|    0|      0|      0|   0|         0|      1|     1|    0|    0|        0|       0|  0|      0|          0|      0|      0|        0|        0|      0|      0|      0|         0|      0|      0|      0|                     0|     0|       0|       0|     0|             0|   0|    0|    0|       0|    0|         0|      0|   0|     0|             0|             0|      0|                 0|           0|    0|      0|       0|      0|     0|      0|      0|    0|     0|        0|    0|                            0|        0|      0|      0|    0|        0|   0|   0|      0|     0|    0|      0|    0|     0|    0|         0|      0|      0|    0|        0|         0|     0|       0|    0|     0|     0|         0|      0|      0|    0|          0|          0|      0|     0|       0|        0|     0|               0|       0|   0|          0|     0|       0|          0|    0|                          0|      0|     0|     0|           0|      0|     0|        0|       0|       0|           0|          0|           0|    0|     0|          0|    0|     0|       0|       0|                               0|      0|     0|     0|      0|                   0|             0|            1|      0|        0|      0|           0|         0|       0|                 0|         0|        0|   0|       0|        0|                     0|      0|               0|     0|        0|      0|       0|       0|                   0|                   0|                       0|     0|     0|    0|      0|               0|       0|      0|                      0|        0|        0|      0|       0|      0|      0|    0|       0|    0|     0|   0|    0|               0|      1|        0|       0|  0|       0|      0|      0|     0|                   0|    0|       0|       0|     0|    0|      0|       0|      0|    0|       0|       0|     0|    0|        0|        0|         0|        0|    0|      0|       0|                     0|     0|      0|    0|          0|      0|      0|     0|     0|      0|    0|      0|      0|         0|         0|            0|         0|    0|        0|      0|       0|       0|    0|         0|      0|   0|             0|      0|     0|        0|   0|     0|     0|   0|                    0|        0|     0|      0|         0|      0|     0|         0|         0|      0|     0|      0|         0|       0|      0|    0|    0|              0|      0|             0|           0|       0|             0|        0|    0|     0|        0|     0|             0|      0|                    0|      0|      0|           0|      0|    0|     0|      0|   0|      0|   0|      0|      0|        0|   0|         0|    0|    0|    0|      0|     0|   0|\n",
      "+-----+--------------------+----+----+-------+----+-----------+-------+-------+-----------------+--------------------+--------------------+--------------------+---------------------+--------------+------+---------+---------+---------+------+-----+-----------+-----+------+-------+---------+-------+------+-----+-------+-------+----+----------+-------+------+-----+-----+---------+--------+---+-------+-----------+-------+-------+---------+---------+-------+-------+-------+----------+-------+-------+-------+----------------------+------+--------+--------+------+--------------+----+-----+-----+--------+-----+----------+-------+----+------+--------------+--------------+-------+------------------+------------+-----+-------+--------+-------+------+-------+-------+-----+------+---------+-----+-----------------------------+---------+-------+-------+-----+---------+----+----+-------+------+-----+-------+-----+------+-----+----------+-------+-------+-----+---------+----------+------+--------+-----+------+------+----------+-------+-------+-----+-----------+-----------+-------+------+--------+---------+------+----------------+--------+----+-----------+------+--------+-----------+-----+---------------------------+-------+------+------+------------+-------+------+---------+--------+--------+------------+-----------+------------+-----+------+-----------+-----+------+--------+--------+--------------------------------+-------+------+------+-------+--------------------+--------------+-------------+-------+---------+-------+------------+----------+--------+------------------+----------+---------+----+--------+---------+----------------------+-------+----------------+------+---------+-------+--------+--------+--------------------+--------------------+------------------------+------+------+-----+-------+----------------+--------+-------+-----------------------+---------+---------+-------+--------+-------+-------+-----+--------+-----+------+----+-----+----------------+-------+---------+--------+---+--------+-------+-------+------+--------------------+-----+--------+--------+------+-----+-------+--------+-------+-----+--------+--------+------+-----+---------+---------+----------+---------+-----+-------+--------+----------------------+------+-------+-----+-----------+-------+-------+------+------+-------+-----+-------+-------+----------+----------+-------------+----------+-----+---------+-------+--------+--------+-----+----------+-------+----+--------------+-------+------+---------+----+------+------+----+---------------------+---------+------+-------+----------+-------+------+----------+----------+-------+------+-------+----------+--------+-------+-----+-----+---------------+-------+--------------+------------+--------+--------------+---------+-----+------+---------+------+--------------+-------+---------------------+-------+-------+------------+-------+-----+------+-------+----+-------+----+-------+-------+---------+----+----------+-----+-----+-----+-------+------+----+\n",
      "only showing top 5 rows\n",
      "\n"
     ]
    }
   ],
   "source": [
    "movies_exploded = movies_no_outliers_df.join(exploded_genres, 'ID')\n",
    "movies_exploded = movies_exploded.join(exploded_countries,'ID')\n",
    "movies_exploded = movies_exploded.join(exploded_languages,'ID')\n",
    "movies_exploded.show(5)"
   ]
  },
  {
   "cell_type": "markdown",
   "metadata": {
    "id": "LnE62TLWqT-j"
   },
   "source": [
    "Vamos dropar as colunas que não queremos que participem das regressões e as colunas com os arrays que acabamos de explodir."
   ]
  },
  {
   "cell_type": "code",
   "execution_count": 23,
   "metadata": {
    "colab": {
     "base_uri": "https://localhost:8080/",
     "height": 278
    },
    "id": "gx2_3JJl_GoH",
    "outputId": "8bc990e6-3b7d-42d4-dc15-a16b0ffe44f7"
   },
   "outputs": [
    {
     "data": {
      "text/html": [
       "<div>\n",
       "<style scoped>\n",
       "    .dataframe tbody tr th:only-of-type {\n",
       "        vertical-align: middle;\n",
       "    }\n",
       "\n",
       "    .dataframe tbody tr th {\n",
       "        vertical-align: top;\n",
       "    }\n",
       "\n",
       "    .dataframe thead th {\n",
       "        text-align: right;\n",
       "    }\n",
       "</style>\n",
       "<table border=\"1\" class=\"dataframe\">\n",
       "  <thead>\n",
       "    <tr style=\"text-align: right;\">\n",
       "      <th></th>\n",
       "      <th>Year</th>\n",
       "      <th>IMDb</th>\n",
       "      <th>Netflix</th>\n",
       "      <th>Hulu</th>\n",
       "      <th>Prime Video</th>\n",
       "      <th>Disney+</th>\n",
       "      <th>Runtime</th>\n",
       "      <th>MinimumClassification</th>\n",
       "      <th>RottenTomatoes</th>\n",
       "      <th>Action</th>\n",
       "      <th>...</th>\n",
       "      <th>Turkmen</th>\n",
       "      <th>Ukrainian</th>\n",
       "      <th>Urdu</th>\n",
       "      <th>Vietnamese</th>\n",
       "      <th>Welsh</th>\n",
       "      <th>Wolof</th>\n",
       "      <th>Xhosa</th>\n",
       "      <th>Yiddish</th>\n",
       "      <th>Yoruba</th>\n",
       "      <th>Zulu</th>\n",
       "    </tr>\n",
       "  </thead>\n",
       "  <tbody>\n",
       "    <tr>\n",
       "      <th>0</th>\n",
       "      <td>2019</td>\n",
       "      <td>5.9</td>\n",
       "      <td>0</td>\n",
       "      <td>1</td>\n",
       "      <td>0</td>\n",
       "      <td>0</td>\n",
       "      <td>105</td>\n",
       "      <td>-1</td>\n",
       "      <td>6.8</td>\n",
       "      <td>0</td>\n",
       "      <td>...</td>\n",
       "      <td>0</td>\n",
       "      <td>0</td>\n",
       "      <td>0</td>\n",
       "      <td>0</td>\n",
       "      <td>0</td>\n",
       "      <td>0</td>\n",
       "      <td>0</td>\n",
       "      <td>0</td>\n",
       "      <td>0</td>\n",
       "      <td>0</td>\n",
       "    </tr>\n",
       "    <tr>\n",
       "      <th>1</th>\n",
       "      <td>2008</td>\n",
       "      <td>6.0</td>\n",
       "      <td>0</td>\n",
       "      <td>1</td>\n",
       "      <td>0</td>\n",
       "      <td>0</td>\n",
       "      <td>101</td>\n",
       "      <td>18</td>\n",
       "      <td>1.8</td>\n",
       "      <td>0</td>\n",
       "      <td>...</td>\n",
       "      <td>0</td>\n",
       "      <td>0</td>\n",
       "      <td>0</td>\n",
       "      <td>0</td>\n",
       "      <td>0</td>\n",
       "      <td>0</td>\n",
       "      <td>0</td>\n",
       "      <td>0</td>\n",
       "      <td>0</td>\n",
       "      <td>0</td>\n",
       "    </tr>\n",
       "    <tr>\n",
       "      <th>2</th>\n",
       "      <td>2016</td>\n",
       "      <td>6.9</td>\n",
       "      <td>1</td>\n",
       "      <td>0</td>\n",
       "      <td>0</td>\n",
       "      <td>0</td>\n",
       "      <td>107</td>\n",
       "      <td>18</td>\n",
       "      <td>9.3</td>\n",
       "      <td>0</td>\n",
       "      <td>...</td>\n",
       "      <td>0</td>\n",
       "      <td>0</td>\n",
       "      <td>0</td>\n",
       "      <td>0</td>\n",
       "      <td>0</td>\n",
       "      <td>0</td>\n",
       "      <td>0</td>\n",
       "      <td>0</td>\n",
       "      <td>0</td>\n",
       "      <td>0</td>\n",
       "    </tr>\n",
       "    <tr>\n",
       "      <th>3</th>\n",
       "      <td>2001</td>\n",
       "      <td>6.5</td>\n",
       "      <td>1</td>\n",
       "      <td>0</td>\n",
       "      <td>1</td>\n",
       "      <td>0</td>\n",
       "      <td>123</td>\n",
       "      <td>13</td>\n",
       "      <td>6.4</td>\n",
       "      <td>0</td>\n",
       "      <td>...</td>\n",
       "      <td>0</td>\n",
       "      <td>0</td>\n",
       "      <td>0</td>\n",
       "      <td>0</td>\n",
       "      <td>0</td>\n",
       "      <td>0</td>\n",
       "      <td>0</td>\n",
       "      <td>0</td>\n",
       "      <td>0</td>\n",
       "      <td>0</td>\n",
       "    </tr>\n",
       "    <tr>\n",
       "      <th>4</th>\n",
       "      <td>1992</td>\n",
       "      <td>4.8</td>\n",
       "      <td>0</td>\n",
       "      <td>0</td>\n",
       "      <td>0</td>\n",
       "      <td>1</td>\n",
       "      <td>89</td>\n",
       "      <td>7</td>\n",
       "      <td>4.0</td>\n",
       "      <td>0</td>\n",
       "      <td>...</td>\n",
       "      <td>0</td>\n",
       "      <td>0</td>\n",
       "      <td>0</td>\n",
       "      <td>0</td>\n",
       "      <td>0</td>\n",
       "      <td>0</td>\n",
       "      <td>0</td>\n",
       "      <td>0</td>\n",
       "      <td>0</td>\n",
       "      <td>0</td>\n",
       "    </tr>\n",
       "  </tbody>\n",
       "</table>\n",
       "<p>5 rows × 310 columns</p>\n",
       "</div>"
      ],
      "text/plain": [
       "   Year  IMDb  Netflix  Hulu  Prime Video  Disney+  Runtime  \\\n",
       "0  2019   5.9        0     1            0        0      105   \n",
       "1  2008   6.0        0     1            0        0      101   \n",
       "2  2016   6.9        1     0            0        0      107   \n",
       "3  2001   6.5        1     0            1        0      123   \n",
       "4  1992   4.8        0     0            0        1       89   \n",
       "\n",
       "   MinimumClassification  RottenTomatoes  Action  ...  Turkmen  Ukrainian  \\\n",
       "0                     -1             6.8       0  ...        0          0   \n",
       "1                     18             1.8       0  ...        0          0   \n",
       "2                     18             9.3       0  ...        0          0   \n",
       "3                     13             6.4       0  ...        0          0   \n",
       "4                      7             4.0       0  ...        0          0   \n",
       "\n",
       "   Urdu  Vietnamese  Welsh  Wolof  Xhosa  Yiddish  Yoruba  Zulu  \n",
       "0     0           0      0      0      0        0       0     0  \n",
       "1     0           0      0      0      0        0       0     0  \n",
       "2     0           0      0      0      0        0       0     0  \n",
       "3     0           0      0      0      0        0       0     0  \n",
       "4     0           0      0      0      0        0       0     0  \n",
       "\n",
       "[5 rows x 310 columns]"
      ]
     },
     "execution_count": 23,
     "metadata": {},
     "output_type": "execute_result"
    }
   ],
   "source": [
    "movies_data = movies_exploded.toPandas()\n",
    "movies_data = movies_data.drop(['LanguagesArray', 'CountriesArray', 'DirectorsArray', 'GenresArray', 'ID', 'Title'], axis = 1)\n",
    "movies_data.head(5)"
   ]
  },
  {
   "cell_type": "markdown",
   "metadata": {
    "id": "Fbgq828v6B5F"
   },
   "source": [
    "Vamos separar o dataset com as variaveis independentes e target\n",
    "\n"
   ]
  },
  {
   "cell_type": "code",
   "execution_count": 24,
   "metadata": {
    "id": "HKvsKKdb6A4z"
   },
   "outputs": [],
   "source": [
    "X = movies_data.drop('IMDb', axis=1)\n",
    "y = movies_data['IMDb']"
   ]
  },
  {
   "cell_type": "markdown",
   "metadata": {
    "id": "2A_YnhAOTqRX"
   },
   "source": [
    "##### Análise de mutual information"
   ]
  },
  {
   "cell_type": "markdown",
   "metadata": {
    "id": "wXPTRHl56q2s"
   },
   "source": [
    "Analisaremos agora o mutual information entre as features e target e removeremos todas as features que possuem mutual information de 0."
   ]
  },
  {
   "cell_type": "code",
   "execution_count": 25,
   "metadata": {
    "colab": {
     "base_uri": "https://localhost:8080/"
    },
    "id": "4DnL5AX1574K",
    "outputId": "4a24114a-b611-4fd0-c01d-78891f9651b9"
   },
   "outputs": [
    {
     "data": {
      "text/plain": [
       "Index(['Disney+', 'Adventure', 'Animation', 'Music', 'Reality-TV', 'Sci-Fi',\n",
       "       'Short', 'Thriller', 'Afghanistan', 'Albania',\n",
       "       ...\n",
       "       'Tagalog', 'Tamil', 'Thai', 'Tupi', 'Turkmen', 'Urdu', 'Vietnamese',\n",
       "       'Welsh', 'Yiddish', 'Yoruba'],\n",
       "      dtype='object', length=162)"
      ]
     },
     "execution_count": 25,
     "metadata": {},
     "output_type": "execute_result"
    }
   ],
   "source": [
    "from sklearn.feature_selection import mutual_info_regression\n",
    "import pandas as pd\n",
    "import numpy as np\n",
    "\n",
    "mi = mutual_info_regression(X, y)\n",
    "mi = pd.Series(mi)\n",
    "mi.index = X.columns\n",
    "\n",
    "df = pd.DataFrame(mi, columns=['mutual_information_score'])\n",
    "no_mutual_information = df[(df['mutual_information_score'] == 0) | (df['mutual_information_score'] == None)]\n",
    "no_mutual_information_features = no_mutual_information.index\n",
    "no_mutual_information_features"
   ]
  },
  {
   "cell_type": "code",
   "execution_count": 26,
   "metadata": {
    "colab": {
     "base_uri": "https://localhost:8080/"
    },
    "id": "XadagdMC6-mS",
    "outputId": "065f9137-19d1-4533-f39e-0f8610d03263"
   },
   "outputs": [
    {
     "data": {
      "text/plain": [
       "(5014, 310)"
      ]
     },
     "execution_count": 26,
     "metadata": {},
     "output_type": "execute_result"
    }
   ],
   "source": [
    "movies_data.shape"
   ]
  },
  {
   "cell_type": "code",
   "execution_count": 27,
   "metadata": {
    "colab": {
     "base_uri": "https://localhost:8080/"
    },
    "id": "nwo6h8ZH582x",
    "outputId": "56943ff7-d19a-420e-8db4-e79a34b7ebf4"
   },
   "outputs": [
    {
     "data": {
      "text/plain": [
       "(5014, 148)"
      ]
     },
     "execution_count": 27,
     "metadata": {},
     "output_type": "execute_result"
    }
   ],
   "source": [
    "movies_data_no_mi = movies_data.drop(no_mutual_information_features, axis = 1)\n",
    "movies_data_no_mi.shape"
   ]
  },
  {
   "cell_type": "markdown",
   "metadata": {
    "id": "tlWAnL3V7qIX"
   },
   "source": [
    "Removemos entao mais de 150 features que não tinha dependência com nosso target (nota IMDb)."
   ]
  },
  {
   "cell_type": "code",
   "execution_count": 28,
   "metadata": {
    "id": "a91Z86Lr659x"
   },
   "outputs": [],
   "source": [
    "movies_data = movies_data_no_mi\n",
    "X = movies_data.drop('IMDb', axis=1)\n",
    "y = movies_data['IMDb']"
   ]
  },
  {
   "cell_type": "markdown",
   "metadata": {
    "id": "2xCuE4rKqyQg"
   },
   "source": [
    "#### Separando dados para treinamento e teste"
   ]
  },
  {
   "cell_type": "markdown",
   "metadata": {
    "id": "JXYRtZnEq-9u"
   },
   "source": [
    "Fazendo uso da função `train_test_split` do `sklean`, iremos separar o dataset para 1/3 de teste e o resto de treinamento."
   ]
  },
  {
   "cell_type": "code",
   "execution_count": 29,
   "metadata": {
    "id": "2_3hqB0iQ6m0"
   },
   "outputs": [],
   "source": [
    "from sklearn.model_selection import train_test_split\n",
    "\n",
    "X_train, X_test, y_train, y_test = train_test_split(X, y, test_size=0.33, random_state=0)"
   ]
  },
  {
   "cell_type": "code",
   "execution_count": 30,
   "metadata": {},
   "outputs": [
    {
     "data": {
      "text/plain": [
       "4308    6.4\n",
       "4216    6.6\n",
       "3230    5.4\n",
       "2758    7.0\n",
       "2986    6.6\n",
       "       ... \n",
       "2104    5.7\n",
       "3428    7.6\n",
       "2730    6.7\n",
       "1056    6.9\n",
       "1726    7.0\n",
       "Name: IMDb, Length: 1655, dtype: float64"
      ]
     },
     "execution_count": 30,
     "metadata": {},
     "output_type": "execute_result"
    }
   ],
   "source": [
    "y_test"
   ]
  },
  {
   "cell_type": "markdown",
   "metadata": {
    "id": "JTPIgyR8rVsQ"
   },
   "source": [
    "#### Algoritmos"
   ]
  },
  {
   "cell_type": "markdown",
   "metadata": {
    "id": "CHd_ubRoa7Zx"
   },
   "source": [
    "Decidimos utilizar esses regressores, porque pelo que pesquisamos são bastante utilizados e conhecidos. \n",
    "\n",
    "- Primeiramente, sobre o Linear Regression, por o R2 estar negativo, podemos interpretar que o modelo não se mostrou eficaz em predizer os valores das notas do IMDB. **Obs: Por causa da separação de dados ser randômica, aconteceram casos de o R2 do Linear Regression ser positivo com valor aproximadamente 0.5.**\n",
    "\n",
    "- O Decision Tree Regressor de todos os algoritmos é o que possui o R2 mais baixo, mostrando que o modelo não representa tão bem os dados. Além disso a média dos erros absolutos das notas (MAE) quanto a raiz quadrada do erro médio (RMSE) foram os mais altos. Este modelo não parece ser o melhor canditato para predizer a nota.\n",
    "\n",
    "- Sobre o MLP Regressor e o Random Forest Regressor, apresentaram métricas semelhantes sendo que o Random Forest possui um R2 score maior e menores erros em comparação com o MLP. Logo o Random Forest parece ser o melhor algoritmo para predizer as notas do IMDB com um R2 score de 53%."
   ]
  },
  {
   "cell_type": "markdown",
   "metadata": {
    "id": "0KfWVPJRrYWq"
   },
   "source": [
    "##### Linear Regression"
   ]
  },
  {
   "cell_type": "code",
   "execution_count": 31,
   "metadata": {
    "colab": {
     "base_uri": "https://localhost:8080/",
     "height": 313
    },
    "id": "WgbiM93GQdvo",
    "outputId": "3e3eaa51-96c5-4eaf-c9c6-abfb0aa5e1dd"
   },
   "outputs": [
    {
     "name": "stdout",
     "output_type": "stream",
     "text": [
      "LinearRegression\n",
      "  RMSE: 1465498034.0826197\n",
      "  MAE: 63208669.33692702\n",
      "  R2: -2.1387091749756526e+18\n"
     ]
    },
    {
     "data": {
      "image/png": "[encoded data removed]",
      "text/plain": [
       "<Figure size 432x288 with 1 Axes>"
      ]
     },
     "metadata": {
      "needs_background": "light"
     },
     "output_type": "display_data"
    },
    {
     "data": {
      "text/plain": [
       "-2.1387091749756526e+18"
      ]
     },
     "execution_count": 31,
     "metadata": {},
     "output_type": "execute_result"
    }
   ],
   "source": [
    "from sklearn.linear_model import LinearRegression\n",
    "\n",
    "linearRegression = LinearRegression()\n",
    "linearRegressionName = 'LinearRegression'\n",
    "\n",
    "run_experiment_with_model(linearRegression, linearRegressionName, X_train, y_train, X_test, y_test)"
   ]
  },
  {
   "cell_type": "markdown",
   "metadata": {
    "id": "DMwiVdUxtZtK"
   },
   "source": [
    "##### Decision Tree Regressor"
   ]
  },
  {
   "cell_type": "code",
   "execution_count": 32,
   "metadata": {
    "colab": {
     "base_uri": "https://localhost:8080/"
    },
    "id": "zA9OWXG7k6u8",
    "outputId": "c0e1e5c9-104b-48b4-b744-1a1643eab973"
   },
   "outputs": [
    {
     "name": "stdout",
     "output_type": "stream",
     "text": [
      "DecisionTreeRegressor\n",
      "  RMSE: 0.9419142301284279\n",
      "  MAE: 0.7233836858006043\n",
      "  R2: 0.1165052595880427\n"
     ]
    },
    {
     "data": {
      "image/png": "[encoded data removed]",
      "text/plain": [
       "<Figure size 432x288 with 1 Axes>"
      ]
     },
     "metadata": {
      "needs_background": "light"
     },
     "output_type": "display_data"
    },
    {
     "data": {
      "text/plain": [
       "0.1165052595880427"
      ]
     },
     "execution_count": 32,
     "metadata": {},
     "output_type": "execute_result"
    }
   ],
   "source": [
    "from sklearn.tree import DecisionTreeRegressor\n",
    "\n",
    "decisionTree = DecisionTreeRegressor()\n",
    "decisionTreeName = 'DecisionTreeRegressor'\n",
    "\n",
    "run_experiment_with_model(decisionTree, decisionTreeName, X_train, y_train, X_test, y_test)"
   ]
  },
  {
   "cell_type": "markdown",
   "metadata": {
    "id": "EOzogOFStosS"
   },
   "source": [
    "##### MLPRegressor"
   ]
  },
  {
   "cell_type": "code",
   "execution_count": 33,
   "metadata": {
    "id": "w696n-TYuyPE"
   },
   "outputs": [
    {
     "name": "stdout",
     "output_type": "stream",
     "text": [
      "MLPRegressor\n",
      "  RMSE: 0.7037839022198807\n",
      "  MAE: 0.5510377417870722\n",
      "  R2: 0.506758159069715\n"
     ]
    },
    {
     "data": {
      "image/png": "[encoded data removed]",
      "text/plain": [
       "<Figure size 432x288 with 1 Axes>"
      ]
     },
     "metadata": {
      "needs_background": "light"
     },
     "output_type": "display_data"
    },
    {
     "data": {
      "text/plain": [
       "0.506758159069715"
      ]
     },
     "execution_count": 33,
     "metadata": {},
     "output_type": "execute_result"
    }
   ],
   "source": [
    "from sklearn.neural_network import MLPRegressor\n",
    "\n",
    "mlpRegressor = MLPRegressor()  \n",
    "mlpRegressorName = 'MLPRegressor'\n",
    "\n",
    "\n",
    "run_experiment_with_model(mlpRegressor, mlpRegressorName, X_train, y_train, X_test, y_test)"
   ]
  },
  {
   "cell_type": "markdown",
   "metadata": {
    "id": "KGgYQhq5tz0S"
   },
   "source": [
    "##### RandomForest"
   ]
  },
  {
   "cell_type": "code",
   "execution_count": 34,
   "metadata": {
    "id": "ueFrVRPkRNVq"
   },
   "outputs": [
    {
     "name": "stdout",
     "output_type": "stream",
     "text": [
      "RandomForestRegressor\n",
      "  RMSE: 0.6835910251868526\n",
      "  MAE: 0.5212540181268881\n",
      "  R2: 0.5346561734919467\n"
     ]
    },
    {
     "data": {
      "image/png": "[encoded data removed]",
      "text/plain": [
       "<Figure size 432x288 with 1 Axes>"
      ]
     },
     "metadata": {
      "needs_background": "light"
     },
     "output_type": "display_data"
    },
    {
     "data": {
      "text/plain": [
       "0.5346561734919467"
      ]
     },
     "execution_count": 34,
     "metadata": {},
     "output_type": "execute_result"
    }
   ],
   "source": [
    "from sklearn.ensemble import RandomForestRegressor\n",
    "\n",
    "randomForest = RandomForestRegressor()\n",
    "randomForestName = 'RandomForestRegressor'\n",
    "\n",
    "\n",
    "run_experiment_with_model(randomForest, randomForestName, X_train, y_train, X_test, y_test)"
   ]
  },
  {
   "cell_type": "markdown",
   "metadata": {
    "id": "r_d6OiRoOrBx"
   },
   "source": [
    "### Seleção de Hiper Parâmetros"
   ]
  },
  {
   "cell_type": "markdown",
   "metadata": {
    "id": "pzK8VemJVuBm"
   },
   "source": [
    "Para seleção dos hiper parâmetros dos algortimos iremos utilizar a ferramenta `optuna`, ela nos permite escolher os hiper parâmetros assim como seus valores para cada iteração."
   ]
  },
  {
   "cell_type": "code",
   "execution_count": 35,
   "metadata": {
    "id": "njoyBvoeOrBx",
    "outputId": "e620d89b-c3b0-4135-a2c4-748bd6b6ca28"
   },
   "outputs": [
    {
     "name": "stdout",
     "output_type": "stream",
     "text": [
      "Defaulting to user installation because normal site-packages is not writeable\n",
      "Requirement already satisfied: optuna in /home/jonatas-clementino/.local/lib/python3.8/site-packages (2.3.0)\n",
      "Requirement already satisfied: sqlalchemy>=1.1.0 in /home/jonatas-clementino/.local/lib/python3.8/site-packages (from optuna) (1.3.20)\n",
      "Requirement already satisfied: cliff in /home/jonatas-clementino/.local/lib/python3.8/site-packages (from optuna) (3.5.0)\n",
      "Requirement already satisfied: cmaes>=0.6.0 in /home/jonatas-clementino/.local/lib/python3.8/site-packages (from optuna) (0.7.0)\n",
      "Requirement already satisfied: joblib in /home/jonatas-clementino/.local/lib/python3.8/site-packages (from optuna) (0.17.0)\n",
      "Requirement already satisfied: alembic in /home/jonatas-clementino/.local/lib/python3.8/site-packages (from optuna) (1.4.1)\n",
      "Requirement already satisfied: scipy!=1.4.0 in /home/jonatas-clementino/.local/lib/python3.8/site-packages (from optuna) (1.5.4)\n",
      "Requirement already satisfied: numpy in /home/jonatas-clementino/.local/lib/python3.8/site-packages (from optuna) (1.19.4)\n",
      "Requirement already satisfied: colorlog in /home/jonatas-clementino/.local/lib/python3.8/site-packages (from optuna) (4.6.2)\n",
      "Requirement already satisfied: packaging>=20.0 in /home/jonatas-clementino/.local/lib/python3.8/site-packages (from optuna) (20.4)\n",
      "Requirement already satisfied: tqdm in /home/jonatas-clementino/.local/lib/python3.8/site-packages (from optuna) (4.51.0)\n",
      "Requirement already satisfied: six>=1.10.0 in /usr/lib/python3/dist-packages (from cliff->optuna) (1.14.0)\n",
      "Requirement already satisfied: stevedore>=2.0.1 in /home/jonatas-clementino/.local/lib/python3.8/site-packages (from cliff->optuna) (3.2.2)\n",
      "Requirement already satisfied: pbr!=2.1.0,>=2.0.0 in /home/jonatas-clementino/.local/lib/python3.8/site-packages (from cliff->optuna) (5.5.1)\n",
      "Requirement already satisfied: pyparsing>=2.1.0 in /home/jonatas-clementino/.local/lib/python3.8/site-packages (from cliff->optuna) (2.4.7)\n",
      "Requirement already satisfied: PrettyTable<0.8,>=0.7.2 in /home/jonatas-clementino/.local/lib/python3.8/site-packages (from cliff->optuna) (0.7.2)\n",
      "Requirement already satisfied: cmd2!=0.8.3,>=0.8.0 in /home/jonatas-clementino/.local/lib/python3.8/site-packages (from cliff->optuna) (1.4.0)\n",
      "Requirement already satisfied: PyYAML>=3.12 in /usr/lib/python3/dist-packages (from cliff->optuna) (5.3.1)\n",
      "Requirement already satisfied: python-editor>=0.3 in /home/jonatas-clementino/.local/lib/python3.8/site-packages (from alembic->optuna) (1.0.4)\n",
      "Requirement already satisfied: Mako in /home/jonatas-clementino/.local/lib/python3.8/site-packages (from alembic->optuna) (1.1.3)\n",
      "Requirement already satisfied: python-dateutil in /usr/lib/python3/dist-packages (from alembic->optuna) (2.7.3)\n",
      "Requirement already satisfied: colorama>=0.3.7 in /usr/lib/python3/dist-packages (from cmd2!=0.8.3,>=0.8.0->cliff->optuna) (0.4.3)\n",
      "Requirement already satisfied: pyperclip>=1.6 in /home/jonatas-clementino/.local/lib/python3.8/site-packages (from cmd2!=0.8.3,>=0.8.0->cliff->optuna) (1.8.1)\n",
      "Requirement already satisfied: wcwidth>=0.1.7 in /home/jonatas-clementino/.local/lib/python3.8/site-packages (from cmd2!=0.8.3,>=0.8.0->cliff->optuna) (0.2.5)\n",
      "Requirement already satisfied: attrs>=16.3.0 in /home/jonatas-clementino/.local/lib/python3.8/site-packages (from cmd2!=0.8.3,>=0.8.0->cliff->optuna) (20.3.0)\n",
      "Requirement already satisfied: MarkupSafe>=0.9.2 in /home/jonatas-clementino/.local/lib/python3.8/site-packages (from Mako->alembic->optuna) (1.1.1)\n",
      "\u001b[33mWARNING: You are using pip version 20.2.3; however, version 20.2.4 is available.\n",
      "You should consider upgrading via the '/usr/bin/python3 -m pip install --upgrade pip' command.\u001b[0m\n"
     ]
    }
   ],
   "source": [
    "!pip install optuna"
   ]
  },
  {
   "cell_type": "markdown",
   "metadata": {
    "id": "7ZMVgUtwWFGm"
   },
   "source": [
    "Hiper parâmetros utilizados:\n",
    "\n",
    "1. Linear\n",
    "    * fit intercept\n",
    "    * normalize\n",
    "2. MLP\n",
    "    * função de ativação\n",
    "    * taxa de aprendizado\n",
    "    * número de épocas\n",
    "3.  Decision Tree\n",
    "    * profundidade max da árvore\n",
    "    * número de amostras para separar o nó interno\n",
    "4. Random Forest\n",
    "    * número de árvores\n",
    "    * profundidade max da árvore\n",
    "\n",
    "\n",
    "\n",
    "\n"
   ]
  },
  {
   "cell_type": "code",
   "execution_count": 36,
   "metadata": {
    "id": "2ZGoEFJZOrBz",
    "outputId": "ba58a715-7fa6-411e-820d-049ac585ffef",
    "scrolled": true
   },
   "outputs": [
    {
     "name": "stderr",
     "output_type": "stream",
     "text": [
      "\u001b[32m[I 2020-11-16 23:03:37,709]\u001b[0m A new study created in memory with name: no-name-afcb1771-43fe-4c6c-829f-4ebcc6381cec\u001b[0m\n",
      "\u001b[32m[I 2020-11-16 23:03:38,072]\u001b[0m Trial 0 finished with value: 0.5487921465777612 and parameters: {'regressor': 'RandomForestRegressor', 'n_estimators': 30, 'max_depth': 9}. Best is trial 0 with value: 0.5487921465777612.\u001b[0m\n",
      "\u001b[32m[I 2020-11-16 23:03:49,900]\u001b[0m Trial 1 finished with value: 0.515229076327334 and parameters: {'regressor': 'MLPRegressor', 'activation': 'logistic', 'learning_rate': 'invscaling', 'max_iter': 160}. Best is trial 0 with value: 0.5487921465777612.\u001b[0m\n",
      "\u001b[32m[I 2020-11-16 23:03:49,997]\u001b[0m Trial 2 finished with value: -3.216467808053605e+24 and parameters: {'regressor': 'LinearRegression', 'fit_intercept': True, 'normalize': True}. Best is trial 0 with value: 0.5487921465777612.\u001b[0m\n",
      "\u001b[32m[I 2020-11-16 23:03:50,081]\u001b[0m Trial 3 finished with value: 0.5008836724365376 and parameters: {'regressor': 'LinearRegression', 'fit_intercept': False, 'normalize': True}. Best is trial 0 with value: 0.5487921465777612.\u001b[0m\n",
      "\u001b[32m[I 2020-11-16 23:03:59,465]\u001b[0m Trial 4 finished with value: 0.4935883923194373 and parameters: {'regressor': 'MLPRegressor', 'activation': 'logistic', 'learning_rate': 'adaptive', 'max_iter': 170}. Best is trial 0 with value: 0.5487921465777612.\u001b[0m\n",
      "\u001b[32m[I 2020-11-16 23:04:04,125]\u001b[0m Trial 5 finished with value: 0.4989896746424257 and parameters: {'regressor': 'MLPRegressor', 'activation': 'relu', 'learning_rate': 'constant', 'max_iter': 150}. Best is trial 0 with value: 0.5487921465777612.\u001b[0m\n",
      "\u001b[32m[I 2020-11-16 23:04:04,152]\u001b[0m Trial 6 finished with value: 0.4258873917051459 and parameters: {'regressor': 'DecisionTreeRegressor', 'max_depth': 3, 'min_samples_split': 9}. Best is trial 0 with value: 0.5487921465777612.\u001b[0m\n",
      "\u001b[32m[I 2020-11-16 23:04:04,279]\u001b[0m Trial 7 finished with value: 0.5008836724365376 and parameters: {'regressor': 'LinearRegression', 'fit_intercept': False, 'normalize': False}. Best is trial 0 with value: 0.5487921465777612.\u001b[0m\n",
      "\u001b[32m[I 2020-11-16 23:04:04,407]\u001b[0m Trial 8 finished with value: 0.15835648128286572 and parameters: {'regressor': 'DecisionTreeRegressor', 'max_depth': 29, 'min_samples_split': 4}. Best is trial 0 with value: 0.5487921465777612.\u001b[0m\n",
      "\u001b[32m[I 2020-11-16 23:04:06,545]\u001b[0m Trial 9 finished with value: 0.5424264713647493 and parameters: {'regressor': 'RandomForestRegressor', 'n_estimators': 100, 'max_depth': 17}. Best is trial 0 with value: 0.5487921465777612.\u001b[0m\n",
      "\u001b[32m[I 2020-11-16 23:04:06,661]\u001b[0m Trial 10 finished with value: 0.5161608451501729 and parameters: {'regressor': 'RandomForestRegressor', 'n_estimators': 10, 'max_depth': 5}. Best is trial 0 with value: 0.5487921465777612.\u001b[0m\n",
      "\u001b[32m[I 2020-11-16 23:04:08,951]\u001b[0m Trial 11 finished with value: 0.5400268972979932 and parameters: {'regressor': 'RandomForestRegressor', 'n_estimators': 100, 'max_depth': 17}. Best is trial 0 with value: 0.5487921465777612.\u001b[0m\n",
      "\u001b[32m[I 2020-11-16 23:04:09,596]\u001b[0m Trial 12 finished with value: 0.5475542571977299 and parameters: {'regressor': 'RandomForestRegressor', 'n_estimators': 30, 'max_depth': 13}. Best is trial 0 with value: 0.5487921465777612.\u001b[0m\n",
      "\u001b[32m[I 2020-11-16 23:04:10,157]\u001b[0m Trial 13 finished with value: 0.5475572012139294 and parameters: {'regressor': 'RandomForestRegressor', 'n_estimators': 30, 'max_depth': 11}. Best is trial 0 with value: 0.5487921465777612.\u001b[0m\n",
      "\u001b[32m[I 2020-11-16 23:04:10,977]\u001b[0m Trial 14 finished with value: 0.5512441595832087 and parameters: {'regressor': 'RandomForestRegressor', 'n_estimators': 50, 'max_depth': 9}. Best is trial 14 with value: 0.5512441595832087.\u001b[0m\n",
      "\u001b[32m[I 2020-11-16 23:04:11,612]\u001b[0m Trial 15 finished with value: 0.543192459304514 and parameters: {'regressor': 'RandomForestRegressor', 'n_estimators': 60, 'max_depth': 7}. Best is trial 14 with value: 0.5512441595832087.\u001b[0m\n",
      "\u001b[32m[I 2020-11-16 23:04:12,973]\u001b[0m Trial 16 finished with value: 0.5372564801460942 and parameters: {'regressor': 'RandomForestRegressor', 'n_estimators': 60, 'max_depth': 23}. Best is trial 14 with value: 0.5512441595832087.\u001b[0m\n",
      "\u001b[32m[I 2020-11-16 23:04:13,098]\u001b[0m Trial 17 finished with value: 0.31877363896229916 and parameters: {'regressor': 'RandomForestRegressor', 'n_estimators': 40, 'max_depth': 1}. Best is trial 14 with value: 0.5512441595832087.\u001b[0m\n",
      "\u001b[32m[I 2020-11-16 23:04:13,129]\u001b[0m Trial 18 finished with value: 0.3975031824690026 and parameters: {'regressor': 'DecisionTreeRegressor', 'max_depth': 9, 'min_samples_split': 2}. Best is trial 14 with value: 0.5512441595832087.\u001b[0m\n",
      "\u001b[32m[I 2020-11-16 23:04:14,692]\u001b[0m Trial 19 finished with value: 0.5479994692984216 and parameters: {'regressor': 'RandomForestRegressor', 'n_estimators': 80, 'max_depth': 13}. Best is trial 14 with value: 0.5512441595832087.\u001b[0m\n",
      "\u001b[32m[I 2020-11-16 23:04:14,976]\u001b[0m Trial 20 finished with value: 0.4979299262512882 and parameters: {'regressor': 'RandomForestRegressor', 'n_estimators': 10, 'max_depth': 21}. Best is trial 14 with value: 0.5512441595832087.\u001b[0m\n",
      "\u001b[32m[I 2020-11-16 23:04:16,382]\u001b[0m Trial 21 finished with value: 0.5431700283210248 and parameters: {'regressor': 'RandomForestRegressor', 'n_estimators': 70, 'max_depth': 13}. Best is trial 14 with value: 0.5512441595832087.\u001b[0m\n",
      "\u001b[32m[I 2020-11-16 23:04:17,404]\u001b[0m Trial 22 finished with value: 0.5530426757022913 and parameters: {'regressor': 'RandomForestRegressor', 'n_estimators': 80, 'max_depth': 9}. Best is trial 22 with value: 0.5530426757022913.\u001b[0m\n",
      "\u001b[32m[I 2020-11-16 23:04:17,809]\u001b[0m Trial 23 finished with value: 0.5416447759949949 and parameters: {'regressor': 'RandomForestRegressor', 'n_estimators': 40, 'max_depth': 7}. Best is trial 22 with value: 0.5530426757022913.\u001b[0m\n",
      "\u001b[32m[I 2020-11-16 23:04:18,033]\u001b[0m Trial 24 finished with value: 0.3078712555859858 and parameters: {'regressor': 'RandomForestRegressor', 'n_estimators': 80, 'max_depth': 1}. Best is trial 22 with value: 0.5530426757022913.\u001b[0m\n",
      "\u001b[32m[I 2020-11-16 23:04:18,521]\u001b[0m Trial 25 finished with value: 0.5523427146763558 and parameters: {'regressor': 'RandomForestRegressor', 'n_estimators': 40, 'max_depth': 9}. Best is trial 22 with value: 0.5530426757022913.\u001b[0m\n",
      "\u001b[32m[I 2020-11-16 23:04:18,897]\u001b[0m Trial 26 finished with value: 0.5252402707911551 and parameters: {'regressor': 'RandomForestRegressor', 'n_estimators': 50, 'max_depth': 5}. Best is trial 22 with value: 0.5530426757022913.\u001b[0m\n",
      "\u001b[32m[I 2020-11-16 23:04:19,632]\u001b[0m Trial 27 finished with value: 0.550961425123244 and parameters: {'regressor': 'RandomForestRegressor', 'n_estimators': 50, 'max_depth': 9}. Best is trial 22 with value: 0.5530426757022913.\u001b[0m\n",
      "\u001b[32m[I 2020-11-16 23:04:19,676]\u001b[0m Trial 28 finished with value: -2.1387091749756526e+18 and parameters: {'regressor': 'LinearRegression', 'fit_intercept': True, 'normalize': False}. Best is trial 22 with value: 0.5530426757022913.\u001b[0m\n",
      "\u001b[32m[I 2020-11-16 23:04:19,729]\u001b[0m Trial 29 finished with value: 0.3584155522806095 and parameters: {'regressor': 'DecisionTreeRegressor', 'max_depth': 15, 'min_samples_split': 10}. Best is trial 22 with value: 0.5530426757022913.\u001b[0m\n",
      "\u001b[32m[I 2020-11-16 23:04:30,749]\u001b[0m Trial 30 finished with value: 0.4943288401856426 and parameters: {'regressor': 'MLPRegressor', 'activation': 'identity', 'learning_rate': 'adaptive', 'max_iter': 200}. Best is trial 22 with value: 0.5530426757022913.\u001b[0m\n",
      "\u001b[32m[I 2020-11-16 23:04:31,625]\u001b[0m Trial 31 finished with value: 0.5536494226298261 and parameters: {'regressor': 'RandomForestRegressor', 'n_estimators': 50, 'max_depth': 9}. Best is trial 31 with value: 0.5536494226298261.\u001b[0m\n",
      "\u001b[32m[I 2020-11-16 23:04:31,938]\u001b[0m Trial 32 finished with value: 0.5252485812619678 and parameters: {'regressor': 'RandomForestRegressor', 'n_estimators': 40, 'max_depth': 5}. Best is trial 31 with value: 0.5536494226298261.\u001b[0m\n",
      "\u001b[32m[I 2020-11-16 23:04:33,260]\u001b[0m Trial 33 finished with value: 0.5455749363265423 and parameters: {'regressor': 'RandomForestRegressor', 'n_estimators': 70, 'max_depth': 11}. Best is trial 31 with value: 0.5536494226298261.\u001b[0m\n",
      "\u001b[32m[I 2020-11-16 23:04:33,841]\u001b[0m Trial 34 finished with value: 0.5416730331149601 and parameters: {'regressor': 'RandomForestRegressor', 'n_estimators': 50, 'max_depth': 7}. Best is trial 31 with value: 0.5536494226298261.\u001b[0m\n"
     ]
    },
    {
     "name": "stderr",
     "output_type": "stream",
     "text": [
      "\u001b[32m[I 2020-11-16 23:04:34,841]\u001b[0m Trial 35 finished with value: 0.5453970027426096 and parameters: {'regressor': 'RandomForestRegressor', 'n_estimators': 60, 'max_depth': 11}. Best is trial 31 with value: 0.5536494226298261.\u001b[0m\n",
      "\u001b[32m[I 2020-11-16 23:04:43,629]\u001b[0m Trial 36 finished with value: 0.49730138507429156 and parameters: {'regressor': 'MLPRegressor', 'activation': 'tanh', 'learning_rate': 'invscaling', 'max_iter': 200}. Best is trial 31 with value: 0.5536494226298261.\u001b[0m\n",
      "\u001b[32m[I 2020-11-16 23:04:43,779]\u001b[0m Trial 37 finished with value: -3.216467808053605e+24 and parameters: {'regressor': 'LinearRegression', 'fit_intercept': True, 'normalize': True}. Best is trial 31 with value: 0.5536494226298261.\u001b[0m\n",
      "\u001b[32m[I 2020-11-16 23:04:44,145]\u001b[0m Trial 38 finished with value: 0.46344081117194236 and parameters: {'regressor': 'RandomForestRegressor', 'n_estimators': 40, 'max_depth': 3}. Best is trial 31 with value: 0.5536494226298261.\u001b[0m\n",
      "\u001b[32m[I 2020-11-16 23:04:53,884]\u001b[0m Trial 39 finished with value: 0.4852703854369411 and parameters: {'regressor': 'MLPRegressor', 'activation': 'identity', 'learning_rate': 'constant', 'max_iter': 180}. Best is trial 31 with value: 0.5536494226298261.\u001b[0m\n",
      "\u001b[32m[I 2020-11-16 23:04:54,279]\u001b[0m Trial 40 finished with value: 0.5379565364453843 and parameters: {'regressor': 'RandomForestRegressor', 'n_estimators': 20, 'max_depth': 7}. Best is trial 31 with value: 0.5536494226298261.\u001b[0m\n",
      "\u001b[32m[I 2020-11-16 23:04:55,266]\u001b[0m Trial 41 finished with value: 0.5505634104969459 and parameters: {'regressor': 'RandomForestRegressor', 'n_estimators': 50, 'max_depth': 9}. Best is trial 31 with value: 0.5536494226298261.\u001b[0m\n",
      "\u001b[32m[I 2020-11-16 23:04:56,182]\u001b[0m Trial 42 finished with value: 0.5453701664059107 and parameters: {'regressor': 'RandomForestRegressor', 'n_estimators': 50, 'max_depth': 9}. Best is trial 31 with value: 0.5536494226298261.\u001b[0m\n",
      "\u001b[32m[I 2020-11-16 23:04:57,787]\u001b[0m Trial 43 finished with value: 0.551840230230257 and parameters: {'regressor': 'RandomForestRegressor', 'n_estimators': 70, 'max_depth': 11}. Best is trial 31 with value: 0.5536494226298261.\u001b[0m\n",
      "\u001b[32m[I 2020-11-16 23:05:00,202]\u001b[0m Trial 44 finished with value: 0.5431443067492336 and parameters: {'regressor': 'RandomForestRegressor', 'n_estimators': 80, 'max_depth': 15}. Best is trial 31 with value: 0.5536494226298261.\u001b[0m\n",
      "\u001b[32m[I 2020-11-16 23:05:00,278]\u001b[0m Trial 45 finished with value: 0.5008836724365376 and parameters: {'regressor': 'LinearRegression', 'fit_intercept': False, 'normalize': False}. Best is trial 31 with value: 0.5536494226298261.\u001b[0m\n",
      "\u001b[32m[I 2020-11-16 23:05:02,856]\u001b[0m Trial 46 finished with value: 0.5539712785839854 and parameters: {'regressor': 'RandomForestRegressor', 'n_estimators': 90, 'max_depth': 11}. Best is trial 46 with value: 0.5539712785839854.\u001b[0m\n",
      "\u001b[32m[I 2020-11-16 23:05:02,912]\u001b[0m Trial 47 finished with value: 0.38215336355302054 and parameters: {'regressor': 'DecisionTreeRegressor', 'max_depth': 11, 'min_samples_split': 7}. Best is trial 46 with value: 0.5539712785839854.\u001b[0m\n",
      "\u001b[32m[I 2020-11-16 23:05:06,018]\u001b[0m Trial 48 finished with value: 0.5399578492567128 and parameters: {'regressor': 'RandomForestRegressor', 'n_estimators': 90, 'max_depth': 19}. Best is trial 46 with value: 0.5539712785839854.\u001b[0m\n",
      "\u001b[32m[I 2020-11-16 23:05:08,739]\u001b[0m Trial 49 finished with value: 0.54464694670015 and parameters: {'regressor': 'RandomForestRegressor', 'n_estimators': 90, 'max_depth': 13}. Best is trial 46 with value: 0.5539712785839854.\u001b[0m\n",
      "\u001b[32m[I 2020-11-16 23:05:10,920]\u001b[0m Trial 50 finished with value: 0.5446216071104172 and parameters: {'regressor': 'RandomForestRegressor', 'n_estimators': 70, 'max_depth': 15}. Best is trial 46 with value: 0.5539712785839854.\u001b[0m\n",
      "\u001b[32m[I 2020-11-16 23:05:12,829]\u001b[0m Trial 51 finished with value: 0.5520994766622075 and parameters: {'regressor': 'RandomForestRegressor', 'n_estimators': 90, 'max_depth': 9}. Best is trial 46 with value: 0.5539712785839854.\u001b[0m\n",
      "\u001b[32m[I 2020-11-16 23:05:15,006]\u001b[0m Trial 52 finished with value: 0.5493175805110262 and parameters: {'regressor': 'RandomForestRegressor', 'n_estimators': 90, 'max_depth': 11}. Best is trial 46 with value: 0.5539712785839854.\u001b[0m\n",
      "\u001b[32m[I 2020-11-16 23:05:16,247]\u001b[0m Trial 53 finished with value: 0.5256804351252733 and parameters: {'regressor': 'RandomForestRegressor', 'n_estimators': 100, 'max_depth': 5}. Best is trial 46 with value: 0.5539712785839854.\u001b[0m\n",
      "\u001b[32m[I 2020-11-16 23:05:17,790]\u001b[0m Trial 54 finished with value: 0.5465432666513117 and parameters: {'regressor': 'RandomForestRegressor', 'n_estimators': 90, 'max_depth': 7}. Best is trial 46 with value: 0.5539712785839854.\u001b[0m\n",
      "\u001b[32m[I 2020-11-16 23:05:19,807]\u001b[0m Trial 55 finished with value: 0.5477326265068265 and parameters: {'regressor': 'RandomForestRegressor', 'n_estimators': 80, 'max_depth': 11}. Best is trial 46 with value: 0.5539712785839854.\u001b[0m\n",
      "\u001b[32m[I 2020-11-16 23:05:22,705]\u001b[0m Trial 56 finished with value: 0.5457580286997794 and parameters: {'regressor': 'RandomForestRegressor', 'n_estimators': 100, 'max_depth': 13}. Best is trial 46 with value: 0.5539712785839854.\u001b[0m\n",
      "\u001b[32m[I 2020-11-16 23:05:23,529]\u001b[0m Trial 57 finished with value: 0.4648807635196094 and parameters: {'regressor': 'RandomForestRegressor', 'n_estimators': 90, 'max_depth': 3}. Best is trial 46 with value: 0.5539712785839854.\u001b[0m\n",
      "\u001b[32m[I 2020-11-16 23:05:25,014]\u001b[0m Trial 58 finished with value: 0.550011639013799 and parameters: {'regressor': 'RandomForestRegressor', 'n_estimators': 70, 'max_depth': 9}. Best is trial 46 with value: 0.5539712785839854.\u001b[0m\n",
      "\u001b[32m[I 2020-11-16 23:05:25,095]\u001b[0m Trial 59 finished with value: 0.13382833192681098 and parameters: {'regressor': 'DecisionTreeRegressor', 'max_depth': 31, 'min_samples_split': 2}. Best is trial 46 with value: 0.5539712785839854.\u001b[0m\n",
      "\u001b[32m[I 2020-11-16 23:05:26,405]\u001b[0m Trial 60 finished with value: 0.5468746949696095 and parameters: {'regressor': 'RandomForestRegressor', 'n_estimators': 80, 'max_depth': 7}. Best is trial 46 with value: 0.5539712785839854.\u001b[0m\n",
      "\u001b[32m[I 2020-11-16 23:05:27,696]\u001b[0m Trial 61 finished with value: 0.5484423984045522 and parameters: {'regressor': 'RandomForestRegressor', 'n_estimators': 60, 'max_depth': 9}. Best is trial 46 with value: 0.5539712785839854.\u001b[0m\n",
      "\u001b[32m[I 2020-11-16 23:05:28,480]\u001b[0m Trial 62 finished with value: 0.5441288333434426 and parameters: {'regressor': 'RandomForestRegressor', 'n_estimators': 30, 'max_depth': 11}. Best is trial 46 with value: 0.5539712785839854.\u001b[0m\n",
      "\u001b[32m[I 2020-11-16 23:05:29,350]\u001b[0m Trial 63 finished with value: 0.5499280864768736 and parameters: {'regressor': 'RandomForestRegressor', 'n_estimators': 40, 'max_depth': 9}. Best is trial 46 with value: 0.5539712785839854.\u001b[0m\n",
      "\u001b[32m[I 2020-11-16 23:05:31,186]\u001b[0m Trial 64 finished with value: 0.5438402611698564 and parameters: {'regressor': 'RandomForestRegressor', 'n_estimators': 60, 'max_depth': 13}. Best is trial 46 with value: 0.5539712785839854.\u001b[0m\n",
      "\u001b[32m[I 2020-11-16 23:05:32,860]\u001b[0m Trial 65 finished with value: 0.545508823113756 and parameters: {'regressor': 'RandomForestRegressor', 'n_estimators': 100, 'max_depth': 7}. Best is trial 46 with value: 0.5539712785839854.\u001b[0m\n",
      "\u001b[32m[I 2020-11-16 23:05:34,886]\u001b[0m Trial 66 finished with value: -0.0001263091830290275 and parameters: {'regressor': 'MLPRegressor', 'activation': 'tanh', 'learning_rate': 'constant', 'max_iter': 180}. Best is trial 46 with value: 0.5539712785839854.\u001b[0m\n",
      "\u001b[32m[I 2020-11-16 23:05:36,371]\u001b[0m Trial 67 finished with value: 0.5524391443644174 and parameters: {'regressor': 'RandomForestRegressor', 'n_estimators': 70, 'max_depth': 9}. Best is trial 46 with value: 0.5539712785839854.\u001b[0m\n",
      "\u001b[32m[I 2020-11-16 23:05:36,463]\u001b[0m Trial 68 finished with value: 0.5008836724365376 and parameters: {'regressor': 'LinearRegression', 'fit_intercept': False, 'normalize': False}. Best is trial 46 with value: 0.5539712785839854.\u001b[0m\n",
      "\u001b[32m[I 2020-11-16 23:05:37,529]\u001b[0m Trial 69 finished with value: 0.523470715998464 and parameters: {'regressor': 'RandomForestRegressor', 'n_estimators': 70, 'max_depth': 5}. Best is trial 46 with value: 0.5539712785839854.\u001b[0m\n"
     ]
    },
    {
     "name": "stderr",
     "output_type": "stream",
     "text": [
      "\u001b[32m[I 2020-11-16 23:05:39,515]\u001b[0m Trial 70 finished with value: 0.5465068139223569 and parameters: {'regressor': 'RandomForestRegressor', 'n_estimators': 80, 'max_depth': 11}. Best is trial 46 with value: 0.5539712785839854.\u001b[0m\n",
      "\u001b[32m[I 2020-11-16 23:05:41,094]\u001b[0m Trial 71 finished with value: 0.5508273721670961 and parameters: {'regressor': 'RandomForestRegressor', 'n_estimators': 70, 'max_depth': 9}. Best is trial 46 with value: 0.5539712785839854.\u001b[0m\n",
      "\u001b[32m[I 2020-11-16 23:05:41,617]\u001b[0m Trial 72 finished with value: 0.5483551608000491 and parameters: {'regressor': 'RandomForestRegressor', 'n_estimators': 30, 'max_depth': 7}. Best is trial 46 with value: 0.5539712785839854.\u001b[0m\n",
      "\u001b[32m[I 2020-11-16 23:05:43,493]\u001b[0m Trial 73 finished with value: 0.5386406666021162 and parameters: {'regressor': 'RandomForestRegressor', 'n_estimators': 60, 'max_depth': 13}. Best is trial 46 with value: 0.5539712785839854.\u001b[0m\n",
      "\u001b[32m[I 2020-11-16 23:05:45,169]\u001b[0m Trial 74 finished with value: 0.55074951641448 and parameters: {'regressor': 'RandomForestRegressor', 'n_estimators': 80, 'max_depth': 9}. Best is trial 46 with value: 0.5539712785839854.\u001b[0m\n",
      "\u001b[32m[I 2020-11-16 23:05:46,164]\u001b[0m Trial 75 finished with value: 0.5447324397297426 and parameters: {'regressor': 'RandomForestRegressor', 'n_estimators': 40, 'max_depth': 11}. Best is trial 46 with value: 0.5539712785839854.\u001b[0m\n",
      "\u001b[32m[I 2020-11-16 23:05:46,857]\u001b[0m Trial 76 finished with value: 0.522807098179729 and parameters: {'regressor': 'RandomForestRegressor', 'n_estimators': 50, 'max_depth': 5}. Best is trial 46 with value: 0.5539712785839854.\u001b[0m\n",
      "\u001b[32m[I 2020-11-16 23:05:48,489]\u001b[0m Trial 77 finished with value: 0.5436906034874046 and parameters: {'regressor': 'RandomForestRegressor', 'n_estimators': 90, 'max_depth': 7}. Best is trial 46 with value: 0.5539712785839854.\u001b[0m\n",
      "\u001b[32m[I 2020-11-16 23:05:48,565]\u001b[0m Trial 78 finished with value: 0.18828049924538703 and parameters: {'regressor': 'DecisionTreeRegressor', 'max_depth': 25, 'min_samples_split': 5}. Best is trial 46 with value: 0.5539712785839854.\u001b[0m\n",
      "\u001b[32m[I 2020-11-16 23:05:49,909]\u001b[0m Trial 79 finished with value: 0.5499359206602696 and parameters: {'regressor': 'RandomForestRegressor', 'n_estimators': 50, 'max_depth': 9}. Best is trial 46 with value: 0.5539712785839854.\u001b[0m\n",
      "\u001b[32m[I 2020-11-16 23:06:01,247]\u001b[0m Trial 80 finished with value: 0.5039899218831334 and parameters: {'regressor': 'MLPRegressor', 'activation': 'relu', 'learning_rate': 'invscaling', 'max_iter': 150}. Best is trial 46 with value: 0.5539712785839854.\u001b[0m\n",
      "\u001b[32m[I 2020-11-16 23:06:02,323]\u001b[0m Trial 81 finished with value: 0.5511496593824768 and parameters: {'regressor': 'RandomForestRegressor', 'n_estimators': 50, 'max_depth': 9}. Best is trial 46 with value: 0.5539712785839854.\u001b[0m\n",
      "\u001b[32m[I 2020-11-16 23:06:03,793]\u001b[0m Trial 82 finished with value: 0.5527046065360146 and parameters: {'regressor': 'RandomForestRegressor', 'n_estimators': 60, 'max_depth': 11}. Best is trial 46 with value: 0.5539712785839854.\u001b[0m\n",
      "\u001b[32m[I 2020-11-16 23:06:05,264]\u001b[0m Trial 83 finished with value: 0.5459757171198004 and parameters: {'regressor': 'RandomForestRegressor', 'n_estimators': 60, 'max_depth': 11}. Best is trial 46 with value: 0.5539712785839854.\u001b[0m\n",
      "\u001b[32m[I 2020-11-16 23:06:07,341]\u001b[0m Trial 84 finished with value: 0.5445385877731903 and parameters: {'regressor': 'RandomForestRegressor', 'n_estimators': 60, 'max_depth': 17}. Best is trial 46 with value: 0.5539712785839854.\u001b[0m\n",
      "\u001b[32m[I 2020-11-16 23:06:09,356]\u001b[0m Trial 85 finished with value: 0.5465268788296347 and parameters: {'regressor': 'RandomForestRegressor', 'n_estimators': 70, 'max_depth': 13}. Best is trial 46 with value: 0.5539712785839854.\u001b[0m\n",
      "\u001b[32m[I 2020-11-16 23:06:11,140]\u001b[0m Trial 86 finished with value: 0.5507112424210555 and parameters: {'regressor': 'RandomForestRegressor', 'n_estimators': 70, 'max_depth': 11}. Best is trial 46 with value: 0.5539712785839854.\u001b[0m\n",
      "\u001b[32m[I 2020-11-16 23:06:11,233]\u001b[0m Trial 87 finished with value: -3.216467808053605e+24 and parameters: {'regressor': 'LinearRegression', 'fit_intercept': True, 'normalize': True}. Best is trial 46 with value: 0.5539712785839854.\u001b[0m\n",
      "\u001b[32m[I 2020-11-16 23:06:12,686]\u001b[0m Trial 88 finished with value: 0.5443613632451155 and parameters: {'regressor': 'RandomForestRegressor', 'n_estimators': 80, 'max_depth': 7}. Best is trial 46 with value: 0.5539712785839854.\u001b[0m\n",
      "\u001b[32m[I 2020-11-16 23:06:13,977]\u001b[0m Trial 89 finished with value: 0.5500120531248822 and parameters: {'regressor': 'RandomForestRegressor', 'n_estimators': 60, 'max_depth': 9}. Best is trial 46 with value: 0.5539712785839854.\u001b[0m\n",
      "\u001b[32m[I 2020-11-16 23:06:14,667]\u001b[0m Trial 90 finished with value: 0.543712900300795 and parameters: {'regressor': 'RandomForestRegressor', 'n_estimators': 40, 'max_depth': 7}. Best is trial 46 with value: 0.5539712785839854.\u001b[0m\n",
      "\u001b[32m[I 2020-11-16 23:06:15,716]\u001b[0m Trial 91 finished with value: 0.5476863756208856 and parameters: {'regressor': 'RandomForestRegressor', 'n_estimators': 50, 'max_depth': 9}. Best is trial 46 with value: 0.5539712785839854.\u001b[0m\n",
      "\u001b[32m[I 2020-11-16 23:06:17,042]\u001b[0m Trial 92 finished with value: 0.5427874808556676 and parameters: {'regressor': 'RandomForestRegressor', 'n_estimators': 50, 'max_depth': 11}. Best is trial 46 with value: 0.5539712785839854.\u001b[0m\n",
      "\u001b[32m[I 2020-11-16 23:06:18,373]\u001b[0m Trial 93 finished with value: 0.5415871025772871 and parameters: {'regressor': 'RandomForestRegressor', 'n_estimators': 40, 'max_depth': 15}. Best is trial 46 with value: 0.5539712785839854.\u001b[0m\n",
      "\u001b[32m[I 2020-11-16 23:06:19,461]\u001b[0m Trial 94 finished with value: 0.5522346134547883 and parameters: {'regressor': 'RandomForestRegressor', 'n_estimators': 50, 'max_depth': 9}. Best is trial 46 with value: 0.5539712785839854.\u001b[0m\n",
      "\u001b[32m[I 2020-11-16 23:06:21,707]\u001b[0m Trial 95 finished with value: 0.5473531578036896 and parameters: {'regressor': 'RandomForestRegressor', 'n_estimators': 90, 'max_depth': 11}. Best is trial 46 with value: 0.5539712785839854.\u001b[0m\n",
      "\u001b[32m[I 2020-11-16 23:06:23,175]\u001b[0m Trial 96 finished with value: 0.5421353547283798 and parameters: {'regressor': 'RandomForestRegressor', 'n_estimators': 50, 'max_depth': 13}. Best is trial 46 with value: 0.5539712785839854.\u001b[0m\n",
      "\u001b[32m[I 2020-11-16 23:06:24,000]\u001b[0m Trial 97 finished with value: 0.5259804824482682 and parameters: {'regressor': 'RandomForestRegressor', 'n_estimators': 60, 'max_depth': 5}. Best is trial 46 with value: 0.5539712785839854.\u001b[0m\n",
      "\u001b[32m[I 2020-11-16 23:06:25,707]\u001b[0m Trial 98 finished with value: 0.5545461764362272 and parameters: {'regressor': 'RandomForestRegressor', 'n_estimators': 80, 'max_depth': 9}. Best is trial 98 with value: 0.5545461764362272.\u001b[0m\n",
      "\u001b[32m[I 2020-11-16 23:06:27,438]\u001b[0m Trial 99 finished with value: 0.5478529607396647 and parameters: {'regressor': 'RandomForestRegressor', 'n_estimators': 80, 'max_depth': 9}. Best is trial 98 with value: 0.5545461764362272.\u001b[0m\n",
      "\u001b[32m[I 2020-11-16 23:06:29,649]\u001b[0m Trial 100 finished with value: 0.5452112069255108 and parameters: {'regressor': 'RandomForestRegressor', 'n_estimators': 80, 'max_depth': 11}. Best is trial 98 with value: 0.5545461764362272.\u001b[0m\n",
      "\u001b[32m[I 2020-11-16 23:06:30,930]\u001b[0m Trial 101 finished with value: 0.5413617762373346 and parameters: {'regressor': 'RandomForestRegressor', 'n_estimators': 70, 'max_depth': 7}. Best is trial 98 with value: 0.5545461764362272.\u001b[0m\n",
      "\u001b[32m[I 2020-11-16 23:06:32,874]\u001b[0m Trial 102 finished with value: 0.5501451699252446 and parameters: {'regressor': 'RandomForestRegressor', 'n_estimators': 90, 'max_depth': 9}. Best is trial 98 with value: 0.5545461764362272.\u001b[0m\n",
      "\u001b[32m[I 2020-11-16 23:06:34,829]\u001b[0m Trial 103 finished with value: 0.5518405622847248 and parameters: {'regressor': 'RandomForestRegressor', 'n_estimators': 90, 'max_depth': 9}. Best is trial 98 with value: 0.5545461764362272.\u001b[0m\n",
      "\u001b[32m[I 2020-11-16 23:06:37,039]\u001b[0m Trial 104 finished with value: 0.5548677731973758 and parameters: {'regressor': 'RandomForestRegressor', 'n_estimators': 100, 'max_depth': 9}. Best is trial 104 with value: 0.5548677731973758.\u001b[0m\n",
      "\u001b[32m[I 2020-11-16 23:06:39,230]\u001b[0m Trial 105 finished with value: 0.5536328336515542 and parameters: {'regressor': 'RandomForestRegressor', 'n_estimators': 100, 'max_depth': 9}. Best is trial 104 with value: 0.5548677731973758.\u001b[0m\n"
     ]
    },
    {
     "name": "stderr",
     "output_type": "stream",
     "text": [
      "\u001b[32m[I 2020-11-16 23:06:40,971]\u001b[0m Trial 106 finished with value: 0.5447711927877104 and parameters: {'regressor': 'RandomForestRegressor', 'n_estimators': 100, 'max_depth': 7}. Best is trial 104 with value: 0.5548677731973758.\u001b[0m\n",
      "\u001b[32m[I 2020-11-16 23:06:43,122]\u001b[0m Trial 107 finished with value: 0.5528227850262915 and parameters: {'regressor': 'RandomForestRegressor', 'n_estimators': 100, 'max_depth': 9}. Best is trial 104 with value: 0.5548677731973758.\u001b[0m\n",
      "\u001b[32m[I 2020-11-16 23:06:43,179]\u001b[0m Trial 108 finished with value: 0.42094107630337096 and parameters: {'regressor': 'DecisionTreeRegressor', 'max_depth': 9, 'min_samples_split': 8}. Best is trial 104 with value: 0.5548677731973758.\u001b[0m\n",
      "\u001b[32m[I 2020-11-16 23:06:44,978]\u001b[0m Trial 109 finished with value: 0.5450740083036214 and parameters: {'regressor': 'RandomForestRegressor', 'n_estimators': 100, 'max_depth': 7}. Best is trial 104 with value: 0.5548677731973758.\u001b[0m\n",
      "\u001b[32m[I 2020-11-16 23:06:48,465]\u001b[0m Trial 110 finished with value: -0.00020190904442607405 and parameters: {'regressor': 'MLPRegressor', 'activation': 'logistic', 'learning_rate': 'adaptive', 'max_iter': 190}. Best is trial 104 with value: 0.5548677731973758.\u001b[0m\n",
      "\u001b[32m[I 2020-11-16 23:06:50,713]\u001b[0m Trial 111 finished with value: 0.5544002370352119 and parameters: {'regressor': 'RandomForestRegressor', 'n_estimators': 100, 'max_depth': 9}. Best is trial 104 with value: 0.5548677731973758.\u001b[0m\n",
      "\u001b[32m[I 2020-11-16 23:06:53,290]\u001b[0m Trial 112 finished with value: 0.5485659075664154 and parameters: {'regressor': 'RandomForestRegressor', 'n_estimators': 100, 'max_depth': 11}. Best is trial 104 with value: 0.5548677731973758.\u001b[0m\n",
      "\u001b[32m[I 2020-11-16 23:06:55,407]\u001b[0m Trial 113 finished with value: 0.5528083976244619 and parameters: {'regressor': 'RandomForestRegressor', 'n_estimators': 100, 'max_depth': 9}. Best is trial 104 with value: 0.5548677731973758.\u001b[0m\n",
      "\u001b[32m[I 2020-11-16 23:06:57,135]\u001b[0m Trial 114 finished with value: 0.5484489293868365 and parameters: {'regressor': 'RandomForestRegressor', 'n_estimators': 100, 'max_depth': 7}. Best is trial 104 with value: 0.5548677731973758.\u001b[0m\n",
      "\u001b[32m[I 2020-11-16 23:06:59,258]\u001b[0m Trial 115 finished with value: 0.5479740218994851 and parameters: {'regressor': 'RandomForestRegressor', 'n_estimators': 100, 'max_depth': 9}. Best is trial 104 with value: 0.5548677731973758.\u001b[0m\n",
      "\u001b[32m[I 2020-11-16 23:07:01,856]\u001b[0m Trial 116 finished with value: 0.5511908392530557 and parameters: {'regressor': 'RandomForestRegressor', 'n_estimators': 100, 'max_depth': 11}. Best is trial 104 with value: 0.5548677731973758.\u001b[0m\n",
      "\u001b[32m[I 2020-11-16 23:07:03,915]\u001b[0m Trial 117 finished with value: 0.5500976769042327 and parameters: {'regressor': 'RandomForestRegressor', 'n_estimators': 100, 'max_depth': 9}. Best is trial 104 with value: 0.5548677731973758.\u001b[0m\n",
      "\u001b[32m[I 2020-11-16 23:07:04,035]\u001b[0m Trial 118 finished with value: -2.1387091749756526e+18 and parameters: {'regressor': 'LinearRegression', 'fit_intercept': True, 'normalize': False}. Best is trial 104 with value: 0.5548677731973758.\u001b[0m\n",
      "\u001b[32m[I 2020-11-16 23:07:06,650]\u001b[0m Trial 119 finished with value: 0.5506055422159861 and parameters: {'regressor': 'RandomForestRegressor', 'n_estimators': 100, 'max_depth': 11}. Best is trial 104 with value: 0.5548677731973758.\u001b[0m\n",
      "\u001b[32m[I 2020-11-16 23:07:07,036]\u001b[0m Trial 120 finished with value: 0.5342382020837069 and parameters: {'regressor': 'RandomForestRegressor', 'n_estimators': 20, 'max_depth': 7}. Best is trial 104 with value: 0.5548677731973758.\u001b[0m\n",
      "\u001b[32m[I 2020-11-16 23:07:09,263]\u001b[0m Trial 121 finished with value: 0.5509444228158501 and parameters: {'regressor': 'RandomForestRegressor', 'n_estimators': 100, 'max_depth': 9}. Best is trial 104 with value: 0.5548677731973758.\u001b[0m\n",
      "\u001b[32m[I 2020-11-16 23:07:11,197]\u001b[0m Trial 122 finished with value: 0.5516019555748402 and parameters: {'regressor': 'RandomForestRegressor', 'n_estimators': 90, 'max_depth': 9}. Best is trial 104 with value: 0.5548677731973758.\u001b[0m\n",
      "\u001b[32m[I 2020-11-16 23:07:12,962]\u001b[0m Trial 123 finished with value: 0.5448039081111868 and parameters: {'regressor': 'RandomForestRegressor', 'n_estimators': 100, 'max_depth': 7}. Best is trial 104 with value: 0.5548677731973758.\u001b[0m\n",
      "\u001b[32m[I 2020-11-16 23:07:15,268]\u001b[0m Trial 124 finished with value: 0.5488617040535859 and parameters: {'regressor': 'RandomForestRegressor', 'n_estimators': 90, 'max_depth': 11}. Best is trial 104 with value: 0.5548677731973758.\u001b[0m\n",
      "\u001b[32m[I 2020-11-16 23:07:17,442]\u001b[0m Trial 125 finished with value: 0.5526875016590198 and parameters: {'regressor': 'RandomForestRegressor', 'n_estimators': 100, 'max_depth': 9}. Best is trial 104 with value: 0.5548677731973758.\u001b[0m\n",
      "\u001b[32m[I 2020-11-16 23:07:19,484]\u001b[0m Trial 126 finished with value: 0.5532325320126268 and parameters: {'regressor': 'RandomForestRegressor', 'n_estimators': 100, 'max_depth': 9}. Best is trial 104 with value: 0.5548677731973758.\u001b[0m\n",
      "\u001b[32m[I 2020-11-16 23:07:21,586]\u001b[0m Trial 127 finished with value: 0.5522951636906381 and parameters: {'regressor': 'RandomForestRegressor', 'n_estimators': 100, 'max_depth': 9}. Best is trial 104 with value: 0.5548677731973758.\u001b[0m\n",
      "\u001b[32m[I 2020-11-16 23:07:24,246]\u001b[0m Trial 128 finished with value: 0.5512742675972123 and parameters: {'regressor': 'RandomForestRegressor', 'n_estimators': 100, 'max_depth': 11}. Best is trial 104 with value: 0.5548677731973758.\u001b[0m\n",
      "\u001b[32m[I 2020-11-16 23:07:25,612]\u001b[0m Trial 129 finished with value: 0.5280795161272955 and parameters: {'regressor': 'RandomForestRegressor', 'n_estimators': 100, 'max_depth': 5}. Best is trial 104 with value: 0.5548677731973758.\u001b[0m\n",
      "\u001b[32m[I 2020-11-16 23:07:27,253]\u001b[0m Trial 130 finished with value: 0.5451127156048162 and parameters: {'regressor': 'RandomForestRegressor', 'n_estimators': 90, 'max_depth': 7}. Best is trial 104 with value: 0.5548677731973758.\u001b[0m\n",
      "\u001b[32m[I 2020-11-16 23:07:29,475]\u001b[0m Trial 131 finished with value: 0.552820306255444 and parameters: {'regressor': 'RandomForestRegressor', 'n_estimators': 100, 'max_depth': 9}. Best is trial 104 with value: 0.5548677731973758.\u001b[0m\n",
      "\u001b[32m[I 2020-11-16 23:07:31,556]\u001b[0m Trial 132 finished with value: 0.5533130910431084 and parameters: {'regressor': 'RandomForestRegressor', 'n_estimators': 100, 'max_depth': 9}. Best is trial 104 with value: 0.5548677731973758.\u001b[0m\n",
      "\u001b[32m[I 2020-11-16 23:07:33,694]\u001b[0m Trial 133 finished with value: 0.5491074143959451 and parameters: {'regressor': 'RandomForestRegressor', 'n_estimators': 100, 'max_depth': 9}. Best is trial 104 with value: 0.5548677731973758.\u001b[0m\n",
      "\u001b[32m[I 2020-11-16 23:07:35,818]\u001b[0m Trial 134 finished with value: 0.5513627717560254 and parameters: {'regressor': 'RandomForestRegressor', 'n_estimators': 100, 'max_depth': 9}. Best is trial 104 with value: 0.5548677731973758.\u001b[0m\n",
      "\u001b[32m[I 2020-11-16 23:07:38,365]\u001b[0m Trial 135 finished with value: 0.5541836340456934 and parameters: {'regressor': 'RandomForestRegressor', 'n_estimators': 100, 'max_depth': 11}. Best is trial 104 with value: 0.5548677731973758.\u001b[0m\n",
      "\u001b[32m[I 2020-11-16 23:07:41,298]\u001b[0m Trial 136 finished with value: 0.5468701427971324 and parameters: {'regressor': 'RandomForestRegressor', 'n_estimators': 100, 'max_depth': 13}. Best is trial 104 with value: 0.5548677731973758.\u001b[0m\n",
      "\u001b[32m[I 2020-11-16 23:07:43,483]\u001b[0m Trial 137 finished with value: 0.5515867028919186 and parameters: {'regressor': 'RandomForestRegressor', 'n_estimators': 90, 'max_depth': 11}. Best is trial 104 with value: 0.5548677731973758.\u001b[0m\n",
      "\u001b[32m[I 2020-11-16 23:07:45,987]\u001b[0m Trial 138 finished with value: 0.5480329372048307 and parameters: {'regressor': 'RandomForestRegressor', 'n_estimators': 100, 'max_depth': 11}. Best is trial 104 with value: 0.5548677731973758.\u001b[0m\n",
      "\u001b[32m[I 2020-11-16 23:07:48,378]\u001b[0m Trial 139 finished with value: 0.5483888371018497 and parameters: {'regressor': 'RandomForestRegressor', 'n_estimators': 90, 'max_depth': 11}. Best is trial 104 with value: 0.5548677731973758.\u001b[0m\n",
      "\u001b[32m[I 2020-11-16 23:07:48,425]\u001b[0m Trial 140 finished with value: 0.45056826851816467 and parameters: {'regressor': 'DecisionTreeRegressor', 'max_depth': 7, 'min_samples_split': 4}. Best is trial 104 with value: 0.5548677731973758.\u001b[0m\n"
     ]
    },
    {
     "name": "stderr",
     "output_type": "stream",
     "text": [
      "\u001b[32m[I 2020-11-16 23:07:50,531]\u001b[0m Trial 141 finished with value: 0.5509157967086391 and parameters: {'regressor': 'RandomForestRegressor', 'n_estimators': 100, 'max_depth': 9}. Best is trial 104 with value: 0.5548677731973758.\u001b[0m\n",
      "\u001b[32m[I 2020-11-16 23:07:52,672]\u001b[0m Trial 142 finished with value: 0.5527827662817755 and parameters: {'regressor': 'RandomForestRegressor', 'n_estimators': 100, 'max_depth': 9}. Best is trial 104 with value: 0.5548677731973758.\u001b[0m\n",
      "\u001b[32m[I 2020-11-16 23:07:54,803]\u001b[0m Trial 143 finished with value: 0.5519830401648222 and parameters: {'regressor': 'RandomForestRegressor', 'n_estimators': 100, 'max_depth': 9}. Best is trial 104 with value: 0.5548677731973758.\u001b[0m\n",
      "\u001b[32m[I 2020-11-16 23:07:57,742]\u001b[0m Trial 144 finished with value: 0.5491449338627932 and parameters: {'regressor': 'RandomForestRegressor', 'n_estimators': 100, 'max_depth': 13}. Best is trial 104 with value: 0.5548677731973758.\u001b[0m\n",
      "\u001b[32m[I 2020-11-16 23:08:00,301]\u001b[0m Trial 145 finished with value: 0.553755541113269 and parameters: {'regressor': 'RandomForestRegressor', 'n_estimators': 100, 'max_depth': 11}. Best is trial 104 with value: 0.5548677731973758.\u001b[0m\n",
      "\u001b[32m[I 2020-11-16 23:08:02,062]\u001b[0m Trial 146 finished with value: 0.5465596940103834 and parameters: {'regressor': 'RandomForestRegressor', 'n_estimators': 100, 'max_depth': 7}. Best is trial 104 with value: 0.5548677731973758.\u001b[0m\n",
      "\u001b[32m[I 2020-11-16 23:08:04,208]\u001b[0m Trial 147 finished with value: 0.5527259816920654 and parameters: {'regressor': 'RandomForestRegressor', 'n_estimators': 100, 'max_depth': 9}. Best is trial 104 with value: 0.5548677731973758.\u001b[0m\n",
      "\u001b[32m[I 2020-11-16 23:08:06,599]\u001b[0m Trial 148 finished with value: 0.5500924995196743 and parameters: {'regressor': 'RandomForestRegressor', 'n_estimators': 90, 'max_depth': 11}. Best is trial 104 with value: 0.5548677731973758.\u001b[0m\n",
      "\u001b[32m[I 2020-11-16 23:08:23,398]\u001b[0m Trial 149 finished with value: 0.5013585289652602 and parameters: {'regressor': 'MLPRegressor', 'activation': 'identity', 'learning_rate': 'adaptive', 'max_iter': 160}. Best is trial 104 with value: 0.5548677731973758.\u001b[0m\n",
      "\u001b[32m[I 2020-11-16 23:08:25,585]\u001b[0m Trial 150 finished with value: 0.5531369936742179 and parameters: {'regressor': 'RandomForestRegressor', 'n_estimators': 100, 'max_depth': 9}. Best is trial 104 with value: 0.5548677731973758.\u001b[0m\n",
      "\u001b[32m[I 2020-11-16 23:08:27,813]\u001b[0m Trial 151 finished with value: 0.5528705548222298 and parameters: {'regressor': 'RandomForestRegressor', 'n_estimators': 100, 'max_depth': 9}. Best is trial 104 with value: 0.5548677731973758.\u001b[0m\n",
      "\u001b[32m[I 2020-11-16 23:08:29,918]\u001b[0m Trial 152 finished with value: 0.551169704632928 and parameters: {'regressor': 'RandomForestRegressor', 'n_estimators': 100, 'max_depth': 9}. Best is trial 104 with value: 0.5548677731973758.\u001b[0m\n",
      "\u001b[32m[I 2020-11-16 23:08:31,687]\u001b[0m Trial 153 finished with value: 0.5455599175919082 and parameters: {'regressor': 'RandomForestRegressor', 'n_estimators': 100, 'max_depth': 7}. Best is trial 104 with value: 0.5548677731973758.\u001b[0m\n",
      "\u001b[32m[I 2020-11-16 23:08:34,375]\u001b[0m Trial 154 finished with value: 0.5525942355451139 and parameters: {'regressor': 'RandomForestRegressor', 'n_estimators': 100, 'max_depth': 11}. Best is trial 104 with value: 0.5548677731973758.\u001b[0m\n",
      "\u001b[32m[I 2020-11-16 23:08:36,448]\u001b[0m Trial 155 finished with value: 0.5533728403892322 and parameters: {'regressor': 'RandomForestRegressor', 'n_estimators': 100, 'max_depth': 9}. Best is trial 104 with value: 0.5548677731973758.\u001b[0m\n",
      "\u001b[32m[I 2020-11-16 23:08:38,384]\u001b[0m Trial 156 finished with value: 0.5471917875072088 and parameters: {'regressor': 'RandomForestRegressor', 'n_estimators': 90, 'max_depth': 9}. Best is trial 104 with value: 0.5548677731973758.\u001b[0m\n",
      "\u001b[32m[I 2020-11-16 23:08:40,811]\u001b[0m Trial 157 finished with value: 0.5538395443046142 and parameters: {'regressor': 'RandomForestRegressor', 'n_estimators': 100, 'max_depth': 11}. Best is trial 104 with value: 0.5548677731973758.\u001b[0m\n",
      "\u001b[32m[I 2020-11-16 23:08:40,897]\u001b[0m Trial 158 finished with value: 0.5008836724365376 and parameters: {'regressor': 'LinearRegression', 'fit_intercept': False, 'normalize': True}. Best is trial 104 with value: 0.5548677731973758.\u001b[0m\n",
      "\u001b[32m[I 2020-11-16 23:08:43,821]\u001b[0m Trial 159 finished with value: 0.5464401389688305 and parameters: {'regressor': 'RandomForestRegressor', 'n_estimators': 100, 'max_depth': 13}. Best is trial 104 with value: 0.5548677731973758.\u001b[0m\n",
      "\u001b[32m[I 2020-11-16 23:08:46,217]\u001b[0m Trial 160 finished with value: 0.5473341742512026 and parameters: {'regressor': 'RandomForestRegressor', 'n_estimators': 90, 'max_depth': 11}. Best is trial 104 with value: 0.5548677731973758.\u001b[0m\n",
      "\u001b[32m[I 2020-11-16 23:08:48,385]\u001b[0m Trial 161 finished with value: 0.552922975842126 and parameters: {'regressor': 'RandomForestRegressor', 'n_estimators': 100, 'max_depth': 9}. Best is trial 104 with value: 0.5548677731973758.\u001b[0m\n",
      "\u001b[32m[I 2020-11-16 23:08:50,896]\u001b[0m Trial 162 finished with value: 0.5513055956328611 and parameters: {'regressor': 'RandomForestRegressor', 'n_estimators': 100, 'max_depth': 11}. Best is trial 104 with value: 0.5548677731973758.\u001b[0m\n",
      "\u001b[32m[I 2020-11-16 23:08:52,904]\u001b[0m Trial 163 finished with value: 0.5520162540299949 and parameters: {'regressor': 'RandomForestRegressor', 'n_estimators': 100, 'max_depth': 9}. Best is trial 104 with value: 0.5548677731973758.\u001b[0m\n",
      "\u001b[32m[I 2020-11-16 23:08:54,578]\u001b[0m Trial 164 finished with value: 0.5444852186424969 and parameters: {'regressor': 'RandomForestRegressor', 'n_estimators': 100, 'max_depth': 7}. Best is trial 104 with value: 0.5548677731973758.\u001b[0m\n",
      "\u001b[32m[I 2020-11-16 23:08:57,129]\u001b[0m Trial 165 finished with value: 0.5475426818275999 and parameters: {'regressor': 'RandomForestRegressor', 'n_estimators': 100, 'max_depth': 11}. Best is trial 104 with value: 0.5548677731973758.\u001b[0m\n",
      "\u001b[32m[I 2020-11-16 23:08:59,315]\u001b[0m Trial 166 finished with value: 0.5518775986080245 and parameters: {'regressor': 'RandomForestRegressor', 'n_estimators': 100, 'max_depth': 9}. Best is trial 104 with value: 0.5548677731973758.\u001b[0m\n",
      "\u001b[32m[I 2020-11-16 23:09:00,833]\u001b[0m Trial 167 finished with value: 0.5450897937583634 and parameters: {'regressor': 'RandomForestRegressor', 'n_estimators': 90, 'max_depth': 7}. Best is trial 104 with value: 0.5548677731973758.\u001b[0m\n",
      "\u001b[32m[I 2020-11-16 23:09:03,776]\u001b[0m Trial 168 finished with value: 0.5495442307823695 and parameters: {'regressor': 'RandomForestRegressor', 'n_estimators': 100, 'max_depth': 13}. Best is trial 104 with value: 0.5548677731973758.\u001b[0m\n",
      "\u001b[32m[I 2020-11-16 23:09:06,073]\u001b[0m Trial 169 finished with value: 0.5531382728009822 and parameters: {'regressor': 'RandomForestRegressor', 'n_estimators': 100, 'max_depth': 9}. Best is trial 104 with value: 0.5548677731973758.\u001b[0m\n",
      "\u001b[32m[I 2020-11-16 23:09:08,795]\u001b[0m Trial 170 finished with value: 0.5484431940816369 and parameters: {'regressor': 'RandomForestRegressor', 'n_estimators': 100, 'max_depth': 11}. Best is trial 104 with value: 0.5548677731973758.\u001b[0m\n",
      "\u001b[32m[I 2020-11-16 23:09:11,407]\u001b[0m Trial 171 finished with value: 0.5549793829555751 and parameters: {'regressor': 'RandomForestRegressor', 'n_estimators': 100, 'max_depth': 9}. Best is trial 171 with value: 0.5549793829555751.\u001b[0m\n",
      "\u001b[32m[I 2020-11-16 23:09:13,487]\u001b[0m Trial 172 finished with value: 0.5524120401060979 and parameters: {'regressor': 'RandomForestRegressor', 'n_estimators': 100, 'max_depth': 9}. Best is trial 171 with value: 0.5549793829555751.\u001b[0m\n",
      "\u001b[32m[I 2020-11-16 23:09:15,474]\u001b[0m Trial 173 finished with value: 0.5511458874803712 and parameters: {'regressor': 'RandomForestRegressor', 'n_estimators': 100, 'max_depth': 9}. Best is trial 171 with value: 0.5549793829555751.\u001b[0m\n",
      "\u001b[32m[I 2020-11-16 23:09:17,599]\u001b[0m Trial 174 finished with value: 0.5513258731775734 and parameters: {'regressor': 'RandomForestRegressor', 'n_estimators': 100, 'max_depth': 9}. Best is trial 171 with value: 0.5549793829555751.\u001b[0m\n",
      "\u001b[32m[I 2020-11-16 23:09:19,253]\u001b[0m Trial 175 finished with value: 0.5483015073866837 and parameters: {'regressor': 'RandomForestRegressor', 'n_estimators': 100, 'max_depth': 7}. Best is trial 171 with value: 0.5549793829555751.\u001b[0m\n"
     ]
    },
    {
     "name": "stderr",
     "output_type": "stream",
     "text": [
      "\u001b[32m[I 2020-11-16 23:09:21,788]\u001b[0m Trial 176 finished with value: 0.5501800374343446 and parameters: {'regressor': 'RandomForestRegressor', 'n_estimators': 100, 'max_depth': 11}. Best is trial 171 with value: 0.5549793829555751.\u001b[0m\n",
      "\u001b[32m[I 2020-11-16 23:09:23,899]\u001b[0m Trial 177 finished with value: 0.5518964260389243 and parameters: {'regressor': 'RandomForestRegressor', 'n_estimators': 100, 'max_depth': 9}. Best is trial 171 with value: 0.5549793829555751.\u001b[0m\n",
      "\u001b[32m[I 2020-11-16 23:09:25,713]\u001b[0m Trial 178 finished with value: 0.5486548036054573 and parameters: {'regressor': 'RandomForestRegressor', 'n_estimators': 90, 'max_depth': 9}. Best is trial 171 with value: 0.5549793829555751.\u001b[0m\n",
      "\u001b[32m[I 2020-11-16 23:09:27,472]\u001b[0m Trial 179 finished with value: 0.5442155508374942 and parameters: {'regressor': 'RandomForestRegressor', 'n_estimators': 100, 'max_depth': 7}. Best is trial 171 with value: 0.5549793829555751.\u001b[0m\n",
      "\u001b[32m[I 2020-11-16 23:09:29,717]\u001b[0m Trial 180 finished with value: 0.5457057702810653 and parameters: {'regressor': 'RandomForestRegressor', 'n_estimators': 90, 'max_depth': 11}. Best is trial 171 with value: 0.5549793829555751.\u001b[0m\n",
      "\u001b[32m[I 2020-11-16 23:09:31,764]\u001b[0m Trial 181 finished with value: 0.5532556241149933 and parameters: {'regressor': 'RandomForestRegressor', 'n_estimators': 100, 'max_depth': 9}. Best is trial 171 with value: 0.5549793829555751.\u001b[0m\n",
      "\u001b[32m[I 2020-11-16 23:09:33,871]\u001b[0m Trial 182 finished with value: 0.5475110344656318 and parameters: {'regressor': 'RandomForestRegressor', 'n_estimators': 100, 'max_depth': 9}. Best is trial 171 with value: 0.5549793829555751.\u001b[0m\n",
      "\u001b[32m[I 2020-11-16 23:09:35,925]\u001b[0m Trial 183 finished with value: 0.5491157155894306 and parameters: {'regressor': 'RandomForestRegressor', 'n_estimators': 100, 'max_depth': 9}. Best is trial 171 with value: 0.5549793829555751.\u001b[0m\n",
      "\u001b[32m[I 2020-11-16 23:09:38,045]\u001b[0m Trial 184 finished with value: 0.5516050851261225 and parameters: {'regressor': 'RandomForestRegressor', 'n_estimators': 100, 'max_depth': 9}. Best is trial 171 with value: 0.5549793829555751.\u001b[0m\n",
      "\u001b[32m[I 2020-11-16 23:09:39,715]\u001b[0m Trial 185 finished with value: 0.5445929266920391 and parameters: {'regressor': 'RandomForestRegressor', 'n_estimators': 100, 'max_depth': 7}. Best is trial 171 with value: 0.5549793829555751.\u001b[0m\n",
      "\u001b[32m[I 2020-11-16 23:09:41,849]\u001b[0m Trial 186 finished with value: 0.5527198150901123 and parameters: {'regressor': 'RandomForestRegressor', 'n_estimators': 100, 'max_depth': 9}. Best is trial 171 with value: 0.5549793829555751.\u001b[0m\n",
      "\u001b[32m[I 2020-11-16 23:09:41,905]\u001b[0m Trial 187 finished with value: 0.37378909727951326 and parameters: {'regressor': 'DecisionTreeRegressor', 'max_depth': 11, 'min_samples_split': 6}. Best is trial 171 with value: 0.5549793829555751.\u001b[0m\n",
      "\u001b[32m[I 2020-11-16 23:09:44,049]\u001b[0m Trial 188 finished with value: 0.552879856264697 and parameters: {'regressor': 'RandomForestRegressor', 'n_estimators': 100, 'max_depth': 9}. Best is trial 171 with value: 0.5549793829555751.\u001b[0m\n",
      "\u001b[32m[I 2020-11-16 23:09:46,248]\u001b[0m Trial 189 finished with value: 0.5525712136531937 and parameters: {'regressor': 'RandomForestRegressor', 'n_estimators': 80, 'max_depth': 11}. Best is trial 171 with value: 0.5549793829555751.\u001b[0m\n",
      "\u001b[32m[I 2020-11-16 23:09:48,447]\u001b[0m Trial 190 finished with value: 0.5495152854703684 and parameters: {'regressor': 'RandomForestRegressor', 'n_estimators': 100, 'max_depth': 9}. Best is trial 171 with value: 0.5549793829555751.\u001b[0m\n",
      "\u001b[32m[I 2020-11-16 23:09:50,585]\u001b[0m Trial 191 finished with value: 0.5503252166445387 and parameters: {'regressor': 'RandomForestRegressor', 'n_estimators': 100, 'max_depth': 9}. Best is trial 171 with value: 0.5549793829555751.\u001b[0m\n",
      "\u001b[32m[I 2020-11-16 23:09:52,671]\u001b[0m Trial 192 finished with value: 0.550387276090397 and parameters: {'regressor': 'RandomForestRegressor', 'n_estimators': 100, 'max_depth': 9}. Best is trial 171 with value: 0.5549793829555751.\u001b[0m\n",
      "\u001b[32m[I 2020-11-16 23:09:54,871]\u001b[0m Trial 193 finished with value: 0.5545671196507074 and parameters: {'regressor': 'RandomForestRegressor', 'n_estimators': 100, 'max_depth': 9}. Best is trial 171 with value: 0.5549793829555751.\u001b[0m\n",
      "\u001b[32m[I 2020-11-16 23:09:56,562]\u001b[0m Trial 194 finished with value: 0.543998000861712 and parameters: {'regressor': 'RandomForestRegressor', 'n_estimators': 100, 'max_depth': 7}. Best is trial 171 with value: 0.5549793829555751.\u001b[0m\n",
      "\u001b[32m[I 2020-11-16 23:09:58,764]\u001b[0m Trial 195 finished with value: 0.5537782465663892 and parameters: {'regressor': 'RandomForestRegressor', 'n_estimators': 100, 'max_depth': 9}. Best is trial 171 with value: 0.5549793829555751.\u001b[0m\n",
      "\u001b[32m[I 2020-11-16 23:10:12,577]\u001b[0m Trial 196 finished with value: 0.4907674809139343 and parameters: {'regressor': 'MLPRegressor', 'activation': 'tanh', 'learning_rate': 'invscaling', 'max_iter': 190}. Best is trial 171 with value: 0.5549793829555751.\u001b[0m\n",
      "\u001b[32m[I 2020-11-16 23:10:14,627]\u001b[0m Trial 197 finished with value: 0.5518885118880632 and parameters: {'regressor': 'RandomForestRegressor', 'n_estimators': 100, 'max_depth': 9}. Best is trial 171 with value: 0.5549793829555751.\u001b[0m\n",
      "\u001b[32m[I 2020-11-16 23:10:16,894]\u001b[0m Trial 198 finished with value: 0.5512052112059551 and parameters: {'regressor': 'RandomForestRegressor', 'n_estimators': 90, 'max_depth': 11}. Best is trial 171 with value: 0.5549793829555751.\u001b[0m\n",
      "\u001b[32m[I 2020-11-16 23:10:19,500]\u001b[0m Trial 199 finished with value: 0.5502280059641774 and parameters: {'regressor': 'RandomForestRegressor', 'n_estimators': 100, 'max_depth': 11}. Best is trial 171 with value: 0.5549793829555751.\u001b[0m\n",
      "\u001b[32m[I 2020-11-16 23:10:21,231]\u001b[0m Trial 200 finished with value: 0.5473207837572861 and parameters: {'regressor': 'RandomForestRegressor', 'n_estimators': 100, 'max_depth': 7}. Best is trial 171 with value: 0.5549793829555751.\u001b[0m\n",
      "\u001b[32m[I 2020-11-16 23:10:23,377]\u001b[0m Trial 201 finished with value: 0.5490295190263041 and parameters: {'regressor': 'RandomForestRegressor', 'n_estimators': 100, 'max_depth': 9}. Best is trial 171 with value: 0.5549793829555751.\u001b[0m\n",
      "\u001b[32m[I 2020-11-16 23:10:25,484]\u001b[0m Trial 202 finished with value: 0.552882097545387 and parameters: {'regressor': 'RandomForestRegressor', 'n_estimators': 100, 'max_depth': 9}. Best is trial 171 with value: 0.5549793829555751.\u001b[0m\n",
      "\u001b[32m[I 2020-11-16 23:10:27,817]\u001b[0m Trial 203 finished with value: 0.5529206140572989 and parameters: {'regressor': 'RandomForestRegressor', 'n_estimators': 100, 'max_depth': 9}. Best is trial 171 with value: 0.5549793829555751.\u001b[0m\n",
      "\u001b[32m[I 2020-11-16 23:10:29,957]\u001b[0m Trial 204 finished with value: 0.5497817770380176 and parameters: {'regressor': 'RandomForestRegressor', 'n_estimators': 100, 'max_depth': 9}. Best is trial 171 with value: 0.5549793829555751.\u001b[0m\n",
      "\u001b[32m[I 2020-11-16 23:10:32,204]\u001b[0m Trial 205 finished with value: 0.5512496354204928 and parameters: {'regressor': 'RandomForestRegressor', 'n_estimators': 100, 'max_depth': 9}. Best is trial 171 with value: 0.5549793829555751.\u001b[0m\n",
      "\u001b[32m[I 2020-11-16 23:10:32,375]\u001b[0m Trial 206 finished with value: -2.1387091749756526e+18 and parameters: {'regressor': 'LinearRegression', 'fit_intercept': True, 'normalize': False}. Best is trial 171 with value: 0.5549793829555751.\u001b[0m\n",
      "\u001b[32m[I 2020-11-16 23:10:34,151]\u001b[0m Trial 207 finished with value: 0.5459140315108872 and parameters: {'regressor': 'RandomForestRegressor', 'n_estimators': 100, 'max_depth': 7}. Best is trial 171 with value: 0.5549793829555751.\u001b[0m\n",
      "\u001b[32m[I 2020-11-16 23:10:36,690]\u001b[0m Trial 208 finished with value: 0.5486062868402798 and parameters: {'regressor': 'RandomForestRegressor', 'n_estimators': 100, 'max_depth': 11}. Best is trial 171 with value: 0.5549793829555751.\u001b[0m\n",
      "\u001b[32m[I 2020-11-16 23:10:38,800]\u001b[0m Trial 209 finished with value: 0.5499760379054616 and parameters: {'regressor': 'RandomForestRegressor', 'n_estimators': 100, 'max_depth': 9}. Best is trial 171 with value: 0.5549793829555751.\u001b[0m\n",
      "\u001b[32m[I 2020-11-16 23:10:40,981]\u001b[0m Trial 210 finished with value: 0.5534654879774633 and parameters: {'regressor': 'RandomForestRegressor', 'n_estimators': 100, 'max_depth': 9}. Best is trial 171 with value: 0.5549793829555751.\u001b[0m\n"
     ]
    },
    {
     "name": "stderr",
     "output_type": "stream",
     "text": [
      "\u001b[32m[I 2020-11-16 23:10:43,276]\u001b[0m Trial 211 finished with value: 0.5496402660696367 and parameters: {'regressor': 'RandomForestRegressor', 'n_estimators': 100, 'max_depth': 9}. Best is trial 171 with value: 0.5549793829555751.\u001b[0m\n",
      "\u001b[32m[I 2020-11-16 23:10:45,437]\u001b[0m Trial 212 finished with value: 0.5529278874528385 and parameters: {'regressor': 'RandomForestRegressor', 'n_estimators': 100, 'max_depth': 9}. Best is trial 171 with value: 0.5549793829555751.\u001b[0m\n",
      "\u001b[32m[I 2020-11-16 23:10:47,578]\u001b[0m Trial 213 finished with value: 0.5473177440443373 and parameters: {'regressor': 'RandomForestRegressor', 'n_estimators': 100, 'max_depth': 9}. Best is trial 171 with value: 0.5549793829555751.\u001b[0m\n",
      "\u001b[32m[I 2020-11-16 23:10:49,985]\u001b[0m Trial 214 finished with value: 0.5490630153245561 and parameters: {'regressor': 'RandomForestRegressor', 'n_estimators': 100, 'max_depth': 11}. Best is trial 171 with value: 0.5549793829555751.\u001b[0m\n",
      "\u001b[32m[I 2020-11-16 23:10:51,798]\u001b[0m Trial 215 finished with value: 0.5530685692931427 and parameters: {'regressor': 'RandomForestRegressor', 'n_estimators': 90, 'max_depth': 9}. Best is trial 171 with value: 0.5549793829555751.\u001b[0m\n",
      "\u001b[32m[I 2020-11-16 23:10:55,088]\u001b[0m Trial 216 finished with value: 0.5360816006859334 and parameters: {'regressor': 'RandomForestRegressor', 'n_estimators': 90, 'max_depth': 21}. Best is trial 171 with value: 0.5549793829555751.\u001b[0m\n",
      "\u001b[32m[I 2020-11-16 23:10:57,164]\u001b[0m Trial 217 finished with value: 0.5478332511525525 and parameters: {'regressor': 'RandomForestRegressor', 'n_estimators': 80, 'max_depth': 11}. Best is trial 171 with value: 0.5549793829555751.\u001b[0m\n",
      "\u001b[32m[I 2020-11-16 23:10:59,059]\u001b[0m Trial 218 finished with value: 0.552693226476834 and parameters: {'regressor': 'RandomForestRegressor', 'n_estimators': 90, 'max_depth': 9}. Best is trial 171 with value: 0.5549793829555751.\u001b[0m\n",
      "\u001b[32m[I 2020-11-16 23:11:00,705]\u001b[0m Trial 219 finished with value: 0.5428978358097233 and parameters: {'regressor': 'RandomForestRegressor', 'n_estimators': 100, 'max_depth': 7}. Best is trial 171 with value: 0.5549793829555751.\u001b[0m\n",
      "\u001b[32m[I 2020-11-16 23:11:02,518]\u001b[0m Trial 220 finished with value: 0.5516232466627158 and parameters: {'regressor': 'RandomForestRegressor', 'n_estimators': 90, 'max_depth': 9}. Best is trial 171 with value: 0.5549793829555751.\u001b[0m\n",
      "\u001b[32m[I 2020-11-16 23:11:04,528]\u001b[0m Trial 221 finished with value: 0.5524372357165499 and parameters: {'regressor': 'RandomForestRegressor', 'n_estimators': 100, 'max_depth': 9}. Best is trial 171 with value: 0.5549793829555751.\u001b[0m\n",
      "\u001b[32m[I 2020-11-16 23:11:06,606]\u001b[0m Trial 222 finished with value: 0.5547459473462899 and parameters: {'regressor': 'RandomForestRegressor', 'n_estimators': 100, 'max_depth': 9}. Best is trial 171 with value: 0.5549793829555751.\u001b[0m\n",
      "\u001b[32m[I 2020-11-16 23:11:08,849]\u001b[0m Trial 223 finished with value: 0.5518472988884999 and parameters: {'regressor': 'RandomForestRegressor', 'n_estimators': 100, 'max_depth': 9}. Best is trial 171 with value: 0.5549793829555751.\u001b[0m\n",
      "\u001b[32m[I 2020-11-16 23:11:10,910]\u001b[0m Trial 224 finished with value: 0.5521105555537379 and parameters: {'regressor': 'RandomForestRegressor', 'n_estimators': 80, 'max_depth': 9}. Best is trial 171 with value: 0.5549793829555751.\u001b[0m\n",
      "\u001b[32m[I 2020-11-16 23:11:12,776]\u001b[0m Trial 225 finished with value: 0.54519520011551 and parameters: {'regressor': 'RandomForestRegressor', 'n_estimators': 100, 'max_depth': 7}. Best is trial 171 with value: 0.5549793829555751.\u001b[0m\n",
      "\u001b[32m[I 2020-11-16 23:11:15,357]\u001b[0m Trial 226 finished with value: 0.5508275813821016 and parameters: {'regressor': 'RandomForestRegressor', 'n_estimators': 100, 'max_depth': 11}. Best is trial 171 with value: 0.5549793829555751.\u001b[0m\n",
      "\u001b[32m[I 2020-11-16 23:11:17,604]\u001b[0m Trial 227 finished with value: 0.5526375651189999 and parameters: {'regressor': 'RandomForestRegressor', 'n_estimators': 100, 'max_depth': 9}. Best is trial 171 with value: 0.5549793829555751.\u001b[0m\n",
      "\u001b[32m[I 2020-11-16 23:11:19,738]\u001b[0m Trial 228 finished with value: 0.5490442585932653 and parameters: {'regressor': 'RandomForestRegressor', 'n_estimators': 100, 'max_depth': 9}. Best is trial 171 with value: 0.5549793829555751.\u001b[0m\n",
      "\u001b[32m[I 2020-11-16 23:11:22,572]\u001b[0m Trial 229 finished with value: 0.5544890856724205 and parameters: {'regressor': 'RandomForestRegressor', 'n_estimators': 100, 'max_depth': 11}. Best is trial 171 with value: 0.5549793829555751.\u001b[0m\n",
      "\u001b[32m[I 2020-11-16 23:11:25,113]\u001b[0m Trial 230 finished with value: 0.5474499832239266 and parameters: {'regressor': 'RandomForestRegressor', 'n_estimators': 100, 'max_depth': 11}. Best is trial 171 with value: 0.5549793829555751.\u001b[0m\n",
      "\u001b[32m[I 2020-11-16 23:11:27,803]\u001b[0m Trial 231 finished with value: 0.5478793391359214 and parameters: {'regressor': 'RandomForestRegressor', 'n_estimators': 100, 'max_depth': 11}. Best is trial 171 with value: 0.5549793829555751.\u001b[0m\n",
      "\u001b[32m[I 2020-11-16 23:11:30,011]\u001b[0m Trial 232 finished with value: 0.5489030416470992 and parameters: {'regressor': 'RandomForestRegressor', 'n_estimators': 100, 'max_depth': 9}. Best is trial 171 with value: 0.5549793829555751.\u001b[0m\n",
      "\u001b[32m[I 2020-11-16 23:11:32,280]\u001b[0m Trial 233 finished with value: 0.5513876006383043 and parameters: {'regressor': 'RandomForestRegressor', 'n_estimators': 100, 'max_depth': 9}. Best is trial 171 with value: 0.5549793829555751.\u001b[0m\n",
      "\u001b[32m[I 2020-11-16 23:11:35,071]\u001b[0m Trial 234 finished with value: 0.5463615894267826 and parameters: {'regressor': 'RandomForestRegressor', 'n_estimators': 100, 'max_depth': 11}. Best is trial 171 with value: 0.5549793829555751.\u001b[0m\n",
      "\u001b[32m[I 2020-11-16 23:11:37,312]\u001b[0m Trial 235 finished with value: 0.5522509864883729 and parameters: {'regressor': 'RandomForestRegressor', 'n_estimators': 100, 'max_depth': 9}. Best is trial 171 with value: 0.5549793829555751.\u001b[0m\n",
      "\u001b[32m[I 2020-11-16 23:11:38,638]\u001b[0m Trial 236 finished with value: 0.5499134483755481 and parameters: {'regressor': 'RandomForestRegressor', 'n_estimators': 50, 'max_depth': 11}. Best is trial 171 with value: 0.5549793829555751.\u001b[0m\n",
      "\u001b[32m[I 2020-11-16 23:11:40,811]\u001b[0m Trial 237 finished with value: 0.5503635496826562 and parameters: {'regressor': 'RandomForestRegressor', 'n_estimators': 100, 'max_depth': 9}. Best is trial 171 with value: 0.5549793829555751.\u001b[0m\n",
      "\u001b[32m[I 2020-11-16 23:11:43,795]\u001b[0m Trial 238 finished with value: 0.5490378861302194 and parameters: {'regressor': 'RandomForestRegressor', 'n_estimators': 100, 'max_depth': 13}. Best is trial 171 with value: 0.5549793829555751.\u001b[0m\n",
      "\u001b[32m[I 2020-11-16 23:11:43,847]\u001b[0m Trial 239 finished with value: 0.46986485628922336 and parameters: {'regressor': 'DecisionTreeRegressor', 'max_depth': 7, 'min_samples_split': 10}. Best is trial 171 with value: 0.5549793829555751.\u001b[0m\n",
      "\u001b[32m[I 2020-11-16 23:11:45,927]\u001b[0m Trial 240 finished with value: 0.552638171322418 and parameters: {'regressor': 'RandomForestRegressor', 'n_estimators': 100, 'max_depth': 9}. Best is trial 171 with value: 0.5549793829555751.\u001b[0m\n",
      "\u001b[32m[I 2020-11-16 23:11:48,316]\u001b[0m Trial 241 finished with value: 0.5494953815088413 and parameters: {'regressor': 'RandomForestRegressor', 'n_estimators': 100, 'max_depth': 9}. Best is trial 171 with value: 0.5549793829555751.\u001b[0m\n",
      "\u001b[32m[I 2020-11-16 23:11:50,453]\u001b[0m Trial 242 finished with value: 0.5550293872697112 and parameters: {'regressor': 'RandomForestRegressor', 'n_estimators': 100, 'max_depth': 9}. Best is trial 242 with value: 0.5550293872697112.\u001b[0m\n",
      "\u001b[32m[I 2020-11-16 23:11:52,555]\u001b[0m Trial 243 finished with value: 0.5523423521684947 and parameters: {'regressor': 'RandomForestRegressor', 'n_estimators': 100, 'max_depth': 9}. Best is trial 242 with value: 0.5550293872697112.\u001b[0m\n",
      "\u001b[32m[I 2020-11-16 23:11:54,830]\u001b[0m Trial 244 finished with value: 0.5500493251830869 and parameters: {'regressor': 'RandomForestRegressor', 'n_estimators': 100, 'max_depth': 9}. Best is trial 242 with value: 0.5550293872697112.\u001b[0m\n",
      "\u001b[32m[I 2020-11-16 23:11:57,471]\u001b[0m Trial 245 finished with value: 0.5478002607688428 and parameters: {'regressor': 'RandomForestRegressor', 'n_estimators': 100, 'max_depth': 11}. Best is trial 242 with value: 0.5550293872697112.\u001b[0m\n"
     ]
    },
    {
     "name": "stderr",
     "output_type": "stream",
     "text": [
      "\u001b[32m[I 2020-11-16 23:11:59,679]\u001b[0m Trial 246 finished with value: 0.5525612621682561 and parameters: {'regressor': 'RandomForestRegressor', 'n_estimators': 100, 'max_depth': 9}. Best is trial 242 with value: 0.5550293872697112.\u001b[0m\n",
      "\u001b[32m[I 2020-11-16 23:12:02,181]\u001b[0m Trial 247 finished with value: 0.5497680116641115 and parameters: {'regressor': 'RandomForestRegressor', 'n_estimators': 100, 'max_depth': 9}. Best is trial 242 with value: 0.5550293872697112.\u001b[0m\n",
      "\u001b[32m[I 2020-11-16 23:12:04,070]\u001b[0m Trial 248 finished with value: 0.5445775253283921 and parameters: {'regressor': 'RandomForestRegressor', 'n_estimators': 100, 'max_depth': 7}. Best is trial 242 with value: 0.5550293872697112.\u001b[0m\n",
      "\u001b[32m[I 2020-11-16 23:12:06,264]\u001b[0m Trial 249 finished with value: 0.5531892209861833 and parameters: {'regressor': 'RandomForestRegressor', 'n_estimators': 100, 'max_depth': 9}. Best is trial 242 with value: 0.5550293872697112.\u001b[0m\n",
      "\u001b[32m[I 2020-11-16 23:12:20,311]\u001b[0m Trial 250 finished with value: 0.49880043914291927 and parameters: {'regressor': 'MLPRegressor', 'activation': 'relu', 'learning_rate': 'constant', 'max_iter': 170}. Best is trial 242 with value: 0.5550293872697112.\u001b[0m\n",
      "\u001b[32m[I 2020-11-16 23:12:22,442]\u001b[0m Trial 251 finished with value: 0.5530317567385957 and parameters: {'regressor': 'RandomForestRegressor', 'n_estimators': 90, 'max_depth': 9}. Best is trial 242 with value: 0.5550293872697112.\u001b[0m\n",
      "\u001b[32m[I 2020-11-16 23:12:25,867]\u001b[0m Trial 252 finished with value: 0.5439029638252108 and parameters: {'regressor': 'RandomForestRegressor', 'n_estimators': 100, 'max_depth': 15}. Best is trial 242 with value: 0.5550293872697112.\u001b[0m\n",
      "\u001b[32m[I 2020-11-16 23:12:28,537]\u001b[0m Trial 253 finished with value: 0.5497192617932871 and parameters: {'regressor': 'RandomForestRegressor', 'n_estimators': 100, 'max_depth': 11}. Best is trial 242 with value: 0.5550293872697112.\u001b[0m\n",
      "\u001b[32m[I 2020-11-16 23:12:30,478]\u001b[0m Trial 254 finished with value: 0.5516216283307247 and parameters: {'regressor': 'RandomForestRegressor', 'n_estimators': 90, 'max_depth': 9}. Best is trial 242 with value: 0.5550293872697112.\u001b[0m\n",
      "\u001b[32m[I 2020-11-16 23:12:32,652]\u001b[0m Trial 255 finished with value: 0.5509335767841881 and parameters: {'regressor': 'RandomForestRegressor', 'n_estimators': 80, 'max_depth': 11}. Best is trial 242 with value: 0.5550293872697112.\u001b[0m\n",
      "\u001b[32m[I 2020-11-16 23:12:32,729]\u001b[0m Trial 256 finished with value: 0.5008836724365376 and parameters: {'regressor': 'LinearRegression', 'fit_intercept': False, 'normalize': True}. Best is trial 242 with value: 0.5550293872697112.\u001b[0m\n",
      "\u001b[32m[I 2020-11-16 23:12:34,525]\u001b[0m Trial 257 finished with value: 0.5463629301250886 and parameters: {'regressor': 'RandomForestRegressor', 'n_estimators': 100, 'max_depth': 7}. Best is trial 242 with value: 0.5550293872697112.\u001b[0m\n",
      "\u001b[32m[I 2020-11-16 23:12:37,164]\u001b[0m Trial 258 finished with value: 0.5438233497944529 and parameters: {'regressor': 'RandomForestRegressor', 'n_estimators': 100, 'max_depth': 11}. Best is trial 242 with value: 0.5550293872697112.\u001b[0m\n",
      "\u001b[32m[I 2020-11-16 23:12:39,373]\u001b[0m Trial 259 finished with value: 0.5532351654100724 and parameters: {'regressor': 'RandomForestRegressor', 'n_estimators': 100, 'max_depth': 9}. Best is trial 242 with value: 0.5550293872697112.\u001b[0m\n",
      "\u001b[32m[I 2020-11-16 23:12:41,529]\u001b[0m Trial 260 finished with value: 0.5517811524105487 and parameters: {'regressor': 'RandomForestRegressor', 'n_estimators': 100, 'max_depth': 9}. Best is trial 242 with value: 0.5550293872697112.\u001b[0m\n",
      "\u001b[32m[I 2020-11-16 23:12:43,688]\u001b[0m Trial 261 finished with value: 0.5511016609695187 and parameters: {'regressor': 'RandomForestRegressor', 'n_estimators': 100, 'max_depth': 9}. Best is trial 242 with value: 0.5550293872697112.\u001b[0m\n",
      "\u001b[32m[I 2020-11-16 23:12:45,887]\u001b[0m Trial 262 finished with value: 0.5511272106730523 and parameters: {'regressor': 'RandomForestRegressor', 'n_estimators': 100, 'max_depth': 9}. Best is trial 242 with value: 0.5550293872697112.\u001b[0m\n",
      "\u001b[32m[I 2020-11-16 23:12:47,687]\u001b[0m Trial 263 finished with value: 0.5430559096695599 and parameters: {'regressor': 'RandomForestRegressor', 'n_estimators': 100, 'max_depth': 7}. Best is trial 242 with value: 0.5550293872697112.\u001b[0m\n",
      "\u001b[32m[I 2020-11-16 23:12:50,719]\u001b[0m Trial 264 finished with value: 0.548847923546584 and parameters: {'regressor': 'RandomForestRegressor', 'n_estimators': 100, 'max_depth': 13}. Best is trial 242 with value: 0.5550293872697112.\u001b[0m\n",
      "\u001b[32m[I 2020-11-16 23:12:52,909]\u001b[0m Trial 265 finished with value: 0.5536393332607366 and parameters: {'regressor': 'RandomForestRegressor', 'n_estimators': 100, 'max_depth': 9}. Best is trial 242 with value: 0.5550293872697112.\u001b[0m\n",
      "\u001b[32m[I 2020-11-16 23:12:55,527]\u001b[0m Trial 266 finished with value: 0.5546961836161157 and parameters: {'regressor': 'RandomForestRegressor', 'n_estimators': 100, 'max_depth': 11}. Best is trial 242 with value: 0.5550293872697112.\u001b[0m\n",
      "\u001b[32m[I 2020-11-16 23:12:58,191]\u001b[0m Trial 267 finished with value: 0.550044286357248 and parameters: {'regressor': 'RandomForestRegressor', 'n_estimators': 100, 'max_depth': 11}. Best is trial 242 with value: 0.5550293872697112.\u001b[0m\n",
      "\u001b[32m[I 2020-11-16 23:13:00,764]\u001b[0m Trial 268 finished with value: 0.5527124232583627 and parameters: {'regressor': 'RandomForestRegressor', 'n_estimators': 100, 'max_depth': 11}. Best is trial 242 with value: 0.5550293872697112.\u001b[0m\n",
      "\u001b[32m[I 2020-11-16 23:13:03,325]\u001b[0m Trial 269 finished with value: 0.5481826423074377 and parameters: {'regressor': 'RandomForestRegressor', 'n_estimators': 100, 'max_depth': 11}. Best is trial 242 with value: 0.5550293872697112.\u001b[0m\n",
      "\u001b[32m[I 2020-11-16 23:13:05,928]\u001b[0m Trial 270 finished with value: 0.5459881814463148 and parameters: {'regressor': 'RandomForestRegressor', 'n_estimators': 100, 'max_depth': 11}. Best is trial 242 with value: 0.5550293872697112.\u001b[0m\n",
      "\u001b[32m[I 2020-11-16 23:13:08,975]\u001b[0m Trial 271 finished with value: 0.5495658338715276 and parameters: {'regressor': 'RandomForestRegressor', 'n_estimators': 100, 'max_depth': 13}. Best is trial 242 with value: 0.5550293872697112.\u001b[0m\n",
      "\u001b[32m[I 2020-11-16 23:13:12,780]\u001b[0m Trial 272 finished with value: 0.5387913609743776 and parameters: {'regressor': 'RandomForestRegressor', 'n_estimators': 100, 'max_depth': 27}. Best is trial 242 with value: 0.5550293872697112.\u001b[0m\n",
      "\u001b[32m[I 2020-11-16 23:13:14,932]\u001b[0m Trial 273 finished with value: 0.551281694918089 and parameters: {'regressor': 'RandomForestRegressor', 'n_estimators': 100, 'max_depth': 9}. Best is trial 242 with value: 0.5550293872697112.\u001b[0m\n",
      "\u001b[32m[I 2020-11-16 23:13:17,652]\u001b[0m Trial 274 finished with value: 0.5521097984123529 and parameters: {'regressor': 'RandomForestRegressor', 'n_estimators': 100, 'max_depth': 11}. Best is trial 242 with value: 0.5550293872697112.\u001b[0m\n",
      "\u001b[32m[I 2020-11-16 23:13:19,698]\u001b[0m Trial 275 finished with value: 0.5544719770160654 and parameters: {'regressor': 'RandomForestRegressor', 'n_estimators': 100, 'max_depth': 9}. Best is trial 242 with value: 0.5550293872697112.\u001b[0m\n",
      "\u001b[32m[I 2020-11-16 23:13:19,751]\u001b[0m Trial 276 finished with value: 0.45771856535561406 and parameters: {'regressor': 'DecisionTreeRegressor', 'max_depth': 7, 'min_samples_split': 3}. Best is trial 242 with value: 0.5550293872697112.\u001b[0m\n",
      "\u001b[32m[I 2020-11-16 23:13:21,932]\u001b[0m Trial 277 finished with value: 0.554393543124156 and parameters: {'regressor': 'RandomForestRegressor', 'n_estimators': 100, 'max_depth': 9}. Best is trial 242 with value: 0.5550293872697112.\u001b[0m\n",
      "\u001b[32m[I 2020-11-16 23:13:24,573]\u001b[0m Trial 278 finished with value: 0.5500869765881129 and parameters: {'regressor': 'RandomForestRegressor', 'n_estimators': 100, 'max_depth': 11}. Best is trial 242 with value: 0.5550293872697112.\u001b[0m\n",
      "\u001b[32m[I 2020-11-16 23:13:25,839]\u001b[0m Trial 279 finished with value: 0.5541498256713463 and parameters: {'regressor': 'RandomForestRegressor', 'n_estimators': 50, 'max_depth': 9}. Best is trial 242 with value: 0.5550293872697112.\u001b[0m\n",
      "\u001b[32m[I 2020-11-16 23:13:27,607]\u001b[0m Trial 280 finished with value: 0.5397812986513956 and parameters: {'regressor': 'RandomForestRegressor', 'n_estimators': 50, 'max_depth': 17}. Best is trial 242 with value: 0.5550293872697112.\u001b[0m\n"
     ]
    },
    {
     "name": "stderr",
     "output_type": "stream",
     "text": [
      "\u001b[32m[I 2020-11-16 23:13:28,622]\u001b[0m Trial 281 finished with value: 0.5482276560053606 and parameters: {'regressor': 'RandomForestRegressor', 'n_estimators': 50, 'max_depth': 9}. Best is trial 242 with value: 0.5550293872697112.\u001b[0m\n",
      "\u001b[32m[I 2020-11-16 23:13:32,868]\u001b[0m Trial 282 finished with value: 0.5033336680384521 and parameters: {'regressor': 'MLPRegressor', 'activation': 'relu', 'learning_rate': 'invscaling', 'max_iter': 160}. Best is trial 242 with value: 0.5550293872697112.\u001b[0m\n",
      "\u001b[32m[I 2020-11-16 23:13:34,119]\u001b[0m Trial 283 finished with value: 0.5488783427513874 and parameters: {'regressor': 'RandomForestRegressor', 'n_estimators': 50, 'max_depth': 11}. Best is trial 242 with value: 0.5550293872697112.\u001b[0m\n",
      "\u001b[32m[I 2020-11-16 23:13:35,319]\u001b[0m Trial 284 finished with value: 0.5510624364000081 and parameters: {'regressor': 'RandomForestRegressor', 'n_estimators': 50, 'max_depth': 9}. Best is trial 242 with value: 0.5550293872697112.\u001b[0m\n",
      "\u001b[32m[I 2020-11-16 23:13:37,219]\u001b[0m Trial 285 finished with value: 0.5465041460944301 and parameters: {'regressor': 'RandomForestRegressor', 'n_estimators': 100, 'max_depth': 7}. Best is trial 242 with value: 0.5550293872697112.\u001b[0m\n",
      "\u001b[32m[I 2020-11-16 23:13:38,057]\u001b[0m Trial 286 finished with value: 0.5523034603942707 and parameters: {'regressor': 'RandomForestRegressor', 'n_estimators': 40, 'max_depth': 9}. Best is trial 242 with value: 0.5550293872697112.\u001b[0m\n",
      "\u001b[32m[I 2020-11-16 23:13:40,111]\u001b[0m Trial 287 finished with value: 0.5517764644819401 and parameters: {'regressor': 'RandomForestRegressor', 'n_estimators': 100, 'max_depth': 9}. Best is trial 242 with value: 0.5550293872697112.\u001b[0m\n",
      "\u001b[32m[I 2020-11-16 23:13:40,963]\u001b[0m Trial 288 finished with value: 0.5426653361120877 and parameters: {'regressor': 'RandomForestRegressor', 'n_estimators': 50, 'max_depth': 7}. Best is trial 242 with value: 0.5550293872697112.\u001b[0m\n",
      "\u001b[32m[I 2020-11-16 23:13:41,071]\u001b[0m Trial 289 finished with value: -3.216467808053605e+24 and parameters: {'regressor': 'LinearRegression', 'fit_intercept': True, 'normalize': True}. Best is trial 242 with value: 0.5550293872697112.\u001b[0m\n",
      "\u001b[32m[I 2020-11-16 23:13:43,886]\u001b[0m Trial 290 finished with value: 0.5535917461944901 and parameters: {'regressor': 'RandomForestRegressor', 'n_estimators': 100, 'max_depth': 11}. Best is trial 242 with value: 0.5550293872697112.\u001b[0m\n",
      "\u001b[32m[I 2020-11-16 23:13:46,701]\u001b[0m Trial 291 finished with value: 0.5467567292159459 and parameters: {'regressor': 'RandomForestRegressor', 'n_estimators': 100, 'max_depth': 13}. Best is trial 242 with value: 0.5550293872697112.\u001b[0m\n",
      "\u001b[32m[I 2020-11-16 23:13:49,263]\u001b[0m Trial 292 finished with value: 0.5489725410196301 and parameters: {'regressor': 'RandomForestRegressor', 'n_estimators': 100, 'max_depth': 11}. Best is trial 242 with value: 0.5550293872697112.\u001b[0m\n",
      "\u001b[32m[I 2020-11-16 23:13:51,686]\u001b[0m Trial 293 finished with value: 0.5523146859485565 and parameters: {'regressor': 'RandomForestRegressor', 'n_estimators': 100, 'max_depth': 11}. Best is trial 242 with value: 0.5550293872697112.\u001b[0m\n",
      "\u001b[32m[I 2020-11-16 23:13:54,142]\u001b[0m Trial 294 finished with value: 0.5556994158635831 and parameters: {'regressor': 'RandomForestRegressor', 'n_estimators': 100, 'max_depth': 11}. Best is trial 294 with value: 0.5556994158635831.\u001b[0m\n",
      "\u001b[32m[I 2020-11-16 23:13:57,023]\u001b[0m Trial 295 finished with value: 0.5437097028781259 and parameters: {'regressor': 'RandomForestRegressor', 'n_estimators': 100, 'max_depth': 13}. Best is trial 294 with value: 0.5556994158635831.\u001b[0m\n",
      "\u001b[32m[I 2020-11-16 23:13:59,477]\u001b[0m Trial 296 finished with value: 0.5482109399568273 and parameters: {'regressor': 'RandomForestRegressor', 'n_estimators': 100, 'max_depth': 11}. Best is trial 294 with value: 0.5556994158635831.\u001b[0m\n",
      "\u001b[32m[I 2020-11-16 23:14:00,677]\u001b[0m Trial 297 finished with value: 0.5452538924240067 and parameters: {'regressor': 'RandomForestRegressor', 'n_estimators': 50, 'max_depth': 11}. Best is trial 294 with value: 0.5556994158635831.\u001b[0m\n",
      "\u001b[32m[I 2020-11-16 23:14:03,231]\u001b[0m Trial 298 finished with value: 0.5546796614995677 and parameters: {'regressor': 'RandomForestRegressor', 'n_estimators': 100, 'max_depth': 11}. Best is trial 294 with value: 0.5556994158635831.\u001b[0m\n",
      "\u001b[32m[I 2020-11-16 23:14:03,542]\u001b[0m Trial 299 finished with value: 0.5230745938524692 and parameters: {'regressor': 'RandomForestRegressor', 'n_estimators': 10, 'max_depth': 13}. Best is trial 294 with value: 0.5556994158635831.\u001b[0m\n",
      "\u001b[32m[I 2020-11-16 23:14:05,992]\u001b[0m Trial 300 finished with value: 0.5536035541592732 and parameters: {'regressor': 'RandomForestRegressor', 'n_estimators': 100, 'max_depth': 11}. Best is trial 294 with value: 0.5556994158635831.\u001b[0m\n",
      "\u001b[32m[I 2020-11-16 23:14:08,503]\u001b[0m Trial 301 finished with value: 0.5513748334592314 and parameters: {'regressor': 'RandomForestRegressor', 'n_estimators': 100, 'max_depth': 11}. Best is trial 294 with value: 0.5556994158635831.\u001b[0m\n",
      "\u001b[32m[I 2020-11-16 23:14:11,207]\u001b[0m Trial 302 finished with value: 0.5439310833801901 and parameters: {'regressor': 'RandomForestRegressor', 'n_estimators': 90, 'max_depth': 13}. Best is trial 294 with value: 0.5556994158635831.\u001b[0m\n",
      "\u001b[32m[I 2020-11-16 23:14:13,709]\u001b[0m Trial 303 finished with value: 0.5497472615589151 and parameters: {'regressor': 'RandomForestRegressor', 'n_estimators': 100, 'max_depth': 11}. Best is trial 294 with value: 0.5556994158635831.\u001b[0m\n",
      "\u001b[32m[I 2020-11-16 23:14:16,260]\u001b[0m Trial 304 finished with value: 0.5512805935203702 and parameters: {'regressor': 'RandomForestRegressor', 'n_estimators': 100, 'max_depth': 11}. Best is trial 294 with value: 0.5556994158635831.\u001b[0m\n",
      "\u001b[32m[I 2020-11-16 23:14:18,969]\u001b[0m Trial 305 finished with value: 0.5508710735403715 and parameters: {'regressor': 'RandomForestRegressor', 'n_estimators': 100, 'max_depth': 11}. Best is trial 294 with value: 0.5556994158635831.\u001b[0m\n",
      "\u001b[32m[I 2020-11-16 23:14:21,572]\u001b[0m Trial 306 finished with value: 0.5535503419632402 and parameters: {'regressor': 'RandomForestRegressor', 'n_estimators': 100, 'max_depth': 11}. Best is trial 294 with value: 0.5556994158635831.\u001b[0m\n",
      "\u001b[32m[I 2020-11-16 23:14:24,260]\u001b[0m Trial 307 finished with value: 0.5512250147815724 and parameters: {'regressor': 'RandomForestRegressor', 'n_estimators': 100, 'max_depth': 11}. Best is trial 294 with value: 0.5556994158635831.\u001b[0m\n",
      "\u001b[32m[I 2020-11-16 23:14:24,327]\u001b[0m Trial 308 finished with value: 0.3805990261817246 and parameters: {'regressor': 'DecisionTreeRegressor', 'max_depth': 11, 'min_samples_split': 7}. Best is trial 294 with value: 0.5556994158635831.\u001b[0m\n",
      "\u001b[32m[I 2020-11-16 23:14:26,948]\u001b[0m Trial 309 finished with value: 0.5480554024093947 and parameters: {'regressor': 'RandomForestRegressor', 'n_estimators': 100, 'max_depth': 11}. Best is trial 294 with value: 0.5556994158635831.\u001b[0m\n",
      "\u001b[32m[I 2020-11-16 23:14:30,015]\u001b[0m Trial 310 finished with value: 0.5434655891694543 and parameters: {'regressor': 'RandomForestRegressor', 'n_estimators': 100, 'max_depth': 13}. Best is trial 294 with value: 0.5556994158635831.\u001b[0m\n",
      "\u001b[32m[I 2020-11-16 23:14:32,787]\u001b[0m Trial 311 finished with value: 0.5417397340872894 and parameters: {'regressor': 'RandomForestRegressor', 'n_estimators': 90, 'max_depth': 13}. Best is trial 294 with value: 0.5556994158635831.\u001b[0m\n",
      "\u001b[32m[I 2020-11-16 23:14:35,286]\u001b[0m Trial 312 finished with value: 0.5483200145639759 and parameters: {'regressor': 'RandomForestRegressor', 'n_estimators': 100, 'max_depth': 11}. Best is trial 294 with value: 0.5556994158635831.\u001b[0m\n",
      "\u001b[32m[I 2020-11-16 23:14:37,921]\u001b[0m Trial 313 finished with value: 0.5511389885210651 and parameters: {'regressor': 'RandomForestRegressor', 'n_estimators': 100, 'max_depth': 11}. Best is trial 294 with value: 0.5556994158635831.\u001b[0m\n",
      "\u001b[32m[I 2020-11-16 23:14:39,494]\u001b[0m Trial 314 finished with value: 0.5499794806024012 and parameters: {'regressor': 'RandomForestRegressor', 'n_estimators': 60, 'max_depth': 11}. Best is trial 294 with value: 0.5556994158635831.\u001b[0m\n",
      "\u001b[32m[I 2020-11-16 23:15:06,377]\u001b[0m Trial 315 finished with value: 0.4904140017970998 and parameters: {'regressor': 'MLPRegressor', 'activation': 'tanh', 'learning_rate': 'constant', 'max_iter': 190}. Best is trial 294 with value: 0.5556994158635831.\u001b[0m\n"
     ]
    },
    {
     "name": "stderr",
     "output_type": "stream",
     "text": [
      "\u001b[32m[I 2020-11-16 23:15:09,014]\u001b[0m Trial 316 finished with value: 0.5521218098796656 and parameters: {'regressor': 'RandomForestRegressor', 'n_estimators': 100, 'max_depth': 11}. Best is trial 294 with value: 0.5556994158635831.\u001b[0m\n",
      "\u001b[32m[I 2020-11-16 23:15:10,289]\u001b[0m Trial 317 finished with value: 0.5447005955130921 and parameters: {'regressor': 'RandomForestRegressor', 'n_estimators': 50, 'max_depth': 11}. Best is trial 294 with value: 0.5556994158635831.\u001b[0m\n",
      "\u001b[32m[I 2020-11-16 23:15:13,284]\u001b[0m Trial 318 finished with value: 0.5466755640806011 and parameters: {'regressor': 'RandomForestRegressor', 'n_estimators': 100, 'max_depth': 13}. Best is trial 294 with value: 0.5556994158635831.\u001b[0m\n",
      "\u001b[32m[I 2020-11-16 23:15:15,881]\u001b[0m Trial 319 finished with value: 0.5527530888613693 and parameters: {'regressor': 'RandomForestRegressor', 'n_estimators': 100, 'max_depth': 11}. Best is trial 294 with value: 0.5556994158635831.\u001b[0m\n",
      "\u001b[32m[I 2020-11-16 23:15:19,518]\u001b[0m Trial 320 finished with value: 0.5401188433278362 and parameters: {'regressor': 'RandomForestRegressor', 'n_estimators': 100, 'max_depth': 19}. Best is trial 294 with value: 0.5556994158635831.\u001b[0m\n",
      "\u001b[32m[I 2020-11-16 23:15:19,582]\u001b[0m Trial 321 finished with value: 0.5008836724365376 and parameters: {'regressor': 'LinearRegression', 'fit_intercept': False, 'normalize': False}. Best is trial 294 with value: 0.5556994158635831.\u001b[0m\n",
      "\u001b[32m[I 2020-11-16 23:15:22,001]\u001b[0m Trial 322 finished with value: 0.5479226362246653 and parameters: {'regressor': 'RandomForestRegressor', 'n_estimators': 90, 'max_depth': 11}. Best is trial 294 with value: 0.5556994158635831.\u001b[0m\n",
      "\u001b[32m[I 2020-11-16 23:15:24,498]\u001b[0m Trial 323 finished with value: 0.5490460833453857 and parameters: {'regressor': 'RandomForestRegressor', 'n_estimators': 100, 'max_depth': 11}. Best is trial 294 with value: 0.5556994158635831.\u001b[0m\n",
      "\u001b[32m[I 2020-11-16 23:15:27,748]\u001b[0m Trial 324 finished with value: 0.545344085975973 and parameters: {'regressor': 'RandomForestRegressor', 'n_estimators': 100, 'max_depth': 13}. Best is trial 294 with value: 0.5556994158635831.\u001b[0m\n",
      "\u001b[32m[I 2020-11-16 23:15:30,453]\u001b[0m Trial 325 finished with value: 0.5497169741610881 and parameters: {'regressor': 'RandomForestRegressor', 'n_estimators': 100, 'max_depth': 11}. Best is trial 294 with value: 0.5556994158635831.\u001b[0m\n",
      "\u001b[32m[I 2020-11-16 23:15:32,738]\u001b[0m Trial 326 finished with value: 0.5512801889066861 and parameters: {'regressor': 'RandomForestRegressor', 'n_estimators': 100, 'max_depth': 9}. Best is trial 294 with value: 0.5556994158635831.\u001b[0m\n",
      "\u001b[32m[I 2020-11-16 23:15:35,452]\u001b[0m Trial 327 finished with value: 0.5523694762904656 and parameters: {'regressor': 'RandomForestRegressor', 'n_estimators': 100, 'max_depth': 11}. Best is trial 294 with value: 0.5556994158635831.\u001b[0m\n",
      "\u001b[32m[I 2020-11-16 23:15:37,675]\u001b[0m Trial 328 finished with value: 0.5510091165815014 and parameters: {'regressor': 'RandomForestRegressor', 'n_estimators': 100, 'max_depth': 9}. Best is trial 294 with value: 0.5556994158635831.\u001b[0m\n",
      "\u001b[32m[I 2020-11-16 23:15:38,833]\u001b[0m Trial 329 finished with value: 0.5517440157329717 and parameters: {'regressor': 'RandomForestRegressor', 'n_estimators': 50, 'max_depth': 9}. Best is trial 294 with value: 0.5556994158635831.\u001b[0m\n",
      "\u001b[32m[I 2020-11-16 23:15:41,300]\u001b[0m Trial 330 finished with value: 0.5459466537918352 and parameters: {'regressor': 'RandomForestRegressor', 'n_estimators': 90, 'max_depth': 11}. Best is trial 294 with value: 0.5556994158635831.\u001b[0m\n",
      "\u001b[32m[I 2020-11-16 23:15:41,809]\u001b[0m Trial 331 finished with value: 0.3159125746948924 and parameters: {'regressor': 'RandomForestRegressor', 'n_estimators': 100, 'max_depth': 1}. Best is trial 294 with value: 0.5556994158635831.\u001b[0m\n",
      "\u001b[32m[I 2020-11-16 23:15:44,399]\u001b[0m Trial 332 finished with value: 0.5526436890771687 and parameters: {'regressor': 'RandomForestRegressor', 'n_estimators': 100, 'max_depth': 11}. Best is trial 294 with value: 0.5556994158635831.\u001b[0m\n",
      "\u001b[32m[I 2020-11-16 23:15:47,837]\u001b[0m Trial 333 finished with value: 0.542835852025128 and parameters: {'regressor': 'RandomForestRegressor', 'n_estimators': 100, 'max_depth': 15}. Best is trial 294 with value: 0.5556994158635831.\u001b[0m\n",
      "\u001b[32m[I 2020-11-16 23:15:49,675]\u001b[0m Trial 334 finished with value: 0.5512600235372902 and parameters: {'regressor': 'RandomForestRegressor', 'n_estimators': 90, 'max_depth': 9}. Best is trial 294 with value: 0.5556994158635831.\u001b[0m\n",
      "\u001b[32m[I 2020-11-16 23:15:50,108]\u001b[0m Trial 335 finished with value: 0.5465819530336418 and parameters: {'regressor': 'RandomForestRegressor', 'n_estimators': 20, 'max_depth': 9}. Best is trial 294 with value: 0.5556994158635831.\u001b[0m\n",
      "\u001b[32m[I 2020-11-16 23:15:52,615]\u001b[0m Trial 336 finished with value: 0.5465395480170868 and parameters: {'regressor': 'RandomForestRegressor', 'n_estimators': 100, 'max_depth': 11}. Best is trial 294 with value: 0.5556994158635831.\u001b[0m\n",
      "\u001b[32m[I 2020-11-16 23:15:54,839]\u001b[0m Trial 337 finished with value: 0.5532403772705414 and parameters: {'regressor': 'RandomForestRegressor', 'n_estimators': 100, 'max_depth': 9}. Best is trial 294 with value: 0.5556994158635831.\u001b[0m\n",
      "\u001b[32m[I 2020-11-16 23:15:56,580]\u001b[0m Trial 338 finished with value: 0.545492998711145 and parameters: {'regressor': 'RandomForestRegressor', 'n_estimators': 100, 'max_depth': 7}. Best is trial 294 with value: 0.5556994158635831.\u001b[0m\n",
      "\u001b[32m[I 2020-11-16 23:15:57,549]\u001b[0m Trial 339 finished with value: 0.46707640913125414 and parameters: {'regressor': 'RandomForestRegressor', 'n_estimators': 100, 'max_depth': 3}. Best is trial 294 with value: 0.5556994158635831.\u001b[0m\n",
      "\u001b[32m[I 2020-11-16 23:16:00,175]\u001b[0m Trial 340 finished with value: 0.5493486556399789 and parameters: {'regressor': 'RandomForestRegressor', 'n_estimators': 100, 'max_depth': 11}. Best is trial 294 with value: 0.5556994158635831.\u001b[0m\n",
      "\u001b[32m[I 2020-11-16 23:16:00,241]\u001b[0m Trial 341 finished with value: 0.42877323840481296 and parameters: {'regressor': 'DecisionTreeRegressor', 'max_depth': 9, 'min_samples_split': 9}. Best is trial 294 with value: 0.5556994158635831.\u001b[0m\n",
      "\u001b[32m[I 2020-11-16 23:16:03,284]\u001b[0m Trial 342 finished with value: 0.5461988355225911 and parameters: {'regressor': 'RandomForestRegressor', 'n_estimators': 100, 'max_depth': 13}. Best is trial 294 with value: 0.5556994158635831.\u001b[0m\n",
      "\u001b[32m[I 2020-11-16 23:16:05,876]\u001b[0m Trial 343 finished with value: 0.550951679333322 and parameters: {'regressor': 'RandomForestRegressor', 'n_estimators': 100, 'max_depth': 11}. Best is trial 294 with value: 0.5556994158635831.\u001b[0m\n",
      "\u001b[32m[I 2020-11-16 23:16:08,074]\u001b[0m Trial 344 finished with value: 0.5558598336362998 and parameters: {'regressor': 'RandomForestRegressor', 'n_estimators': 100, 'max_depth': 9}. Best is trial 344 with value: 0.5558598336362998.\u001b[0m\n",
      "\u001b[32m[I 2020-11-16 23:16:09,143]\u001b[0m Trial 345 finished with value: 0.5482811965765206 and parameters: {'regressor': 'RandomForestRegressor', 'n_estimators': 50, 'max_depth': 9}. Best is trial 344 with value: 0.5558598336362998.\u001b[0m\n",
      "\u001b[32m[I 2020-11-16 23:16:10,812]\u001b[0m Trial 346 finished with value: 0.5442694335358917 and parameters: {'regressor': 'RandomForestRegressor', 'n_estimators': 100, 'max_depth': 7}. Best is trial 344 with value: 0.5558598336362998.\u001b[0m\n",
      "\u001b[32m[I 2020-11-16 23:16:14,618]\u001b[0m Trial 347 finished with value: 0.47919526628311404 and parameters: {'regressor': 'MLPRegressor', 'activation': 'identity', 'learning_rate': 'adaptive', 'max_iter': 150}. Best is trial 344 with value: 0.5558598336362998.\u001b[0m\n",
      "\u001b[32m[I 2020-11-16 23:16:16,747]\u001b[0m Trial 348 finished with value: 0.5523964392593903 and parameters: {'regressor': 'RandomForestRegressor', 'n_estimators': 100, 'max_depth': 9}. Best is trial 344 with value: 0.5558598336362998.\u001b[0m\n",
      "\u001b[32m[I 2020-11-16 23:16:18,830]\u001b[0m Trial 349 finished with value: 0.5502105108093394 and parameters: {'regressor': 'RandomForestRegressor', 'n_estimators': 100, 'max_depth': 9}. Best is trial 344 with value: 0.5558598336362998.\u001b[0m\n",
      "\u001b[32m[I 2020-11-16 23:16:20,627]\u001b[0m Trial 350 finished with value: 0.5537909019771508 and parameters: {'regressor': 'RandomForestRegressor', 'n_estimators': 90, 'max_depth': 9}. Best is trial 344 with value: 0.5558598336362998.\u001b[0m\n"
     ]
    },
    {
     "name": "stderr",
     "output_type": "stream",
     "text": [
      "\u001b[32m[I 2020-11-16 23:16:22,574]\u001b[0m Trial 351 finished with value: 0.553523975715422 and parameters: {'regressor': 'RandomForestRegressor', 'n_estimators': 90, 'max_depth': 9}. Best is trial 344 with value: 0.5558598336362998.\u001b[0m\n",
      "\u001b[32m[I 2020-11-16 23:16:23,878]\u001b[0m Trial 352 finished with value: 0.5463368176027791 and parameters: {'regressor': 'RandomForestRegressor', 'n_estimators': 80, 'max_depth': 7}. Best is trial 344 with value: 0.5558598336362998.\u001b[0m\n",
      "\u001b[32m[I 2020-11-16 23:16:23,965]\u001b[0m Trial 353 finished with value: -2.1387091749756526e+18 and parameters: {'regressor': 'LinearRegression', 'fit_intercept': True, 'normalize': False}. Best is trial 344 with value: 0.5558598336362998.\u001b[0m\n",
      "\u001b[32m[I 2020-11-16 23:16:25,226]\u001b[0m Trial 354 finished with value: 0.5245603348681271 and parameters: {'regressor': 'RandomForestRegressor', 'n_estimators': 90, 'max_depth': 5}. Best is trial 344 with value: 0.5558598336362998.\u001b[0m\n",
      "\u001b[32m[I 2020-11-16 23:16:26,103]\u001b[0m Trial 355 finished with value: 0.548877089660355 and parameters: {'regressor': 'RandomForestRegressor', 'n_estimators': 40, 'max_depth': 9}. Best is trial 344 with value: 0.5558598336362998.\u001b[0m\n",
      "\u001b[32m[I 2020-11-16 23:16:28,078]\u001b[0m Trial 356 finished with value: 0.549808161369504 and parameters: {'regressor': 'RandomForestRegressor', 'n_estimators': 90, 'max_depth': 9}. Best is trial 344 with value: 0.5558598336362998.\u001b[0m\n",
      "\u001b[32m[I 2020-11-16 23:16:29,804]\u001b[0m Trial 357 finished with value: 0.5472363124584587 and parameters: {'regressor': 'RandomForestRegressor', 'n_estimators': 100, 'max_depth': 7}. Best is trial 344 with value: 0.5558598336362998.\u001b[0m\n",
      "\u001b[32m[I 2020-11-16 23:16:31,897]\u001b[0m Trial 358 finished with value: 0.552307962229053 and parameters: {'regressor': 'RandomForestRegressor', 'n_estimators': 100, 'max_depth': 9}. Best is trial 344 with value: 0.5558598336362998.\u001b[0m\n",
      "\u001b[32m[I 2020-11-16 23:16:33,773]\u001b[0m Trial 359 finished with value: 0.5515520718446539 and parameters: {'regressor': 'RandomForestRegressor', 'n_estimators': 90, 'max_depth': 9}. Best is trial 344 with value: 0.5558598336362998.\u001b[0m\n",
      "\u001b[32m[I 2020-11-16 23:16:34,830]\u001b[0m Trial 360 finished with value: 0.5467524946568292 and parameters: {'regressor': 'RandomForestRegressor', 'n_estimators': 50, 'max_depth': 9}. Best is trial 344 with value: 0.5558598336362998.\u001b[0m\n",
      "\u001b[32m[I 2020-11-16 23:16:36,569]\u001b[0m Trial 361 finished with value: 0.5458907327723712 and parameters: {'regressor': 'RandomForestRegressor', 'n_estimators': 100, 'max_depth': 7}. Best is trial 344 with value: 0.5558598336362998.\u001b[0m\n",
      "\u001b[32m[I 2020-11-16 23:16:38,772]\u001b[0m Trial 362 finished with value: 0.5518064593669363 and parameters: {'regressor': 'RandomForestRegressor', 'n_estimators': 100, 'max_depth': 9}. Best is trial 344 with value: 0.5558598336362998.\u001b[0m\n",
      "\u001b[32m[I 2020-11-16 23:16:40,899]\u001b[0m Trial 363 finished with value: 0.5524330766728147 and parameters: {'regressor': 'RandomForestRegressor', 'n_estimators': 100, 'max_depth': 9}. Best is trial 344 with value: 0.5558598336362998.\u001b[0m\n",
      "\u001b[32m[I 2020-11-16 23:16:43,028]\u001b[0m Trial 364 finished with value: 0.5505778826433381 and parameters: {'regressor': 'RandomForestRegressor', 'n_estimators': 100, 'max_depth': 9}. Best is trial 344 with value: 0.5558598336362998.\u001b[0m\n",
      "\u001b[32m[I 2020-11-16 23:16:44,265]\u001b[0m Trial 365 finished with value: 0.5462349915597475 and parameters: {'regressor': 'RandomForestRegressor', 'n_estimators': 70, 'max_depth': 7}. Best is trial 344 with value: 0.5558598336362998.\u001b[0m\n",
      "\u001b[32m[I 2020-11-16 23:16:46,390]\u001b[0m Trial 366 finished with value: 0.5516065032783593 and parameters: {'regressor': 'RandomForestRegressor', 'n_estimators': 100, 'max_depth': 9}. Best is trial 344 with value: 0.5558598336362998.\u001b[0m\n",
      "\u001b[32m[I 2020-11-16 23:16:47,486]\u001b[0m Trial 367 finished with value: 0.552244962071498 and parameters: {'regressor': 'RandomForestRegressor', 'n_estimators': 90, 'max_depth': 9}. Best is trial 344 with value: 0.5558598336362998.\u001b[0m\n",
      "\u001b[32m[I 2020-11-16 23:16:49,348]\u001b[0m Trial 368 finished with value: 0.5361435052223664 and parameters: {'regressor': 'RandomForestRegressor', 'n_estimators': 100, 'max_depth': 31}. Best is trial 344 with value: 0.5558598336362998.\u001b[0m\n",
      "\u001b[32m[I 2020-11-16 23:16:49,382]\u001b[0m Trial 369 finished with value: 0.40336339144652744 and parameters: {'regressor': 'DecisionTreeRegressor', 'max_depth': 9, 'min_samples_split': 6}. Best is trial 344 with value: 0.5558598336362998.\u001b[0m\n",
      "\u001b[32m[I 2020-11-16 23:16:50,705]\u001b[0m Trial 370 finished with value: 0.5508047530799842 and parameters: {'regressor': 'RandomForestRegressor', 'n_estimators': 100, 'max_depth': 11}. Best is trial 344 with value: 0.5558598336362998.\u001b[0m\n",
      "\u001b[32m[I 2020-11-16 23:16:51,492]\u001b[0m Trial 371 finished with value: 0.547112159297898 and parameters: {'regressor': 'RandomForestRegressor', 'n_estimators': 80, 'max_depth': 7}. Best is trial 344 with value: 0.5558598336362998.\u001b[0m\n",
      "\u001b[32m[I 2020-11-16 23:16:52,064]\u001b[0m Trial 372 finished with value: 0.5507648408152512 and parameters: {'regressor': 'RandomForestRegressor', 'n_estimators': 50, 'max_depth': 9}. Best is trial 344 with value: 0.5558598336362998.\u001b[0m\n",
      "\u001b[32m[I 2020-11-16 23:16:53,384]\u001b[0m Trial 373 finished with value: 0.55285209797063 and parameters: {'regressor': 'RandomForestRegressor', 'n_estimators': 100, 'max_depth': 11}. Best is trial 344 with value: 0.5558598336362998.\u001b[0m\n",
      "\u001b[32m[I 2020-11-16 23:16:54,435]\u001b[0m Trial 374 finished with value: 0.5537863239330658 and parameters: {'regressor': 'RandomForestRegressor', 'n_estimators': 100, 'max_depth': 9}. Best is trial 344 with value: 0.5558598336362998.\u001b[0m\n",
      "\u001b[32m[I 2020-11-16 23:16:55,482]\u001b[0m Trial 375 finished with value: 0.5520778480182689 and parameters: {'regressor': 'RandomForestRegressor', 'n_estimators': 100, 'max_depth': 9}. Best is trial 344 with value: 0.5558598336362998.\u001b[0m\n",
      "\u001b[32m[I 2020-11-16 23:16:56,520]\u001b[0m Trial 376 finished with value: 0.5524385354421726 and parameters: {'regressor': 'RandomForestRegressor', 'n_estimators': 100, 'max_depth': 9}. Best is trial 344 with value: 0.5558598336362998.\u001b[0m\n",
      "\u001b[32m[I 2020-11-16 23:16:57,669]\u001b[0m Trial 377 finished with value: 0.5523947193825818 and parameters: {'regressor': 'RandomForestRegressor', 'n_estimators': 100, 'max_depth': 9}. Best is trial 344 with value: 0.5558598336362998.\u001b[0m\n",
      "\u001b[32m[I 2020-11-16 23:17:11,033]\u001b[0m Trial 378 finished with value: 0.4585898907009638 and parameters: {'regressor': 'MLPRegressor', 'activation': 'logistic', 'learning_rate': 'constant', 'max_iter': 200}. Best is trial 344 with value: 0.5558598336362998.\u001b[0m\n",
      "\u001b[32m[I 2020-11-16 23:17:12,065]\u001b[0m Trial 379 finished with value: 0.5460873456605485 and parameters: {'regressor': 'RandomForestRegressor', 'n_estimators': 90, 'max_depth': 7}. Best is trial 344 with value: 0.5558598336362998.\u001b[0m\n",
      "\u001b[32m[I 2020-11-16 23:17:12,789]\u001b[0m Trial 380 finished with value: 0.5508638830157935 and parameters: {'regressor': 'RandomForestRegressor', 'n_estimators': 60, 'max_depth': 9}. Best is trial 344 with value: 0.5558598336362998.\u001b[0m\n",
      "\u001b[32m[I 2020-11-16 23:17:13,937]\u001b[0m Trial 381 finished with value: 0.5529133590119973 and parameters: {'regressor': 'RandomForestRegressor', 'n_estimators': 100, 'max_depth': 9}. Best is trial 344 with value: 0.5558598336362998.\u001b[0m\n",
      "\u001b[32m[I 2020-11-16 23:17:14,883]\u001b[0m Trial 382 finished with value: 0.5462354690745376 and parameters: {'regressor': 'RandomForestRegressor', 'n_estimators': 100, 'max_depth': 7}. Best is trial 344 with value: 0.5558598336362998.\u001b[0m\n",
      "\u001b[32m[I 2020-11-16 23:17:14,922]\u001b[0m Trial 383 finished with value: 0.5008836724365376 and parameters: {'regressor': 'LinearRegression', 'fit_intercept': False, 'normalize': True}. Best is trial 344 with value: 0.5558598336362998.\u001b[0m\n",
      "\u001b[32m[I 2020-11-16 23:17:16,230]\u001b[0m Trial 384 finished with value: 0.5529933516543041 and parameters: {'regressor': 'RandomForestRegressor', 'n_estimators': 100, 'max_depth': 9}. Best is trial 344 with value: 0.5558598336362998.\u001b[0m\n",
      "\u001b[32m[I 2020-11-16 23:17:17,469]\u001b[0m Trial 385 finished with value: 0.5478125373980288 and parameters: {'regressor': 'RandomForestRegressor', 'n_estimators': 100, 'max_depth': 9}. Best is trial 344 with value: 0.5558598336362998.\u001b[0m\n"
     ]
    },
    {
     "name": "stderr",
     "output_type": "stream",
     "text": [
      "\u001b[32m[I 2020-11-16 23:17:18,931]\u001b[0m Trial 386 finished with value: 0.5499582194706277 and parameters: {'regressor': 'RandomForestRegressor', 'n_estimators': 100, 'max_depth': 9}. Best is trial 344 with value: 0.5558598336362998.\u001b[0m\n",
      "\u001b[32m[I 2020-11-16 23:17:20,195]\u001b[0m Trial 387 finished with value: 0.5484595692133716 and parameters: {'regressor': 'RandomForestRegressor', 'n_estimators': 90, 'max_depth': 9}. Best is trial 344 with value: 0.5558598336362998.\u001b[0m\n",
      "\u001b[32m[I 2020-11-16 23:17:20,653]\u001b[0m Trial 388 finished with value: 0.5426278692451577 and parameters: {'regressor': 'RandomForestRegressor', 'n_estimators': 30, 'max_depth': 11}. Best is trial 344 with value: 0.5558598336362998.\u001b[0m\n",
      "\u001b[32m[I 2020-11-16 23:17:21,849]\u001b[0m Trial 389 finished with value: 0.5517173139559728 and parameters: {'regressor': 'RandomForestRegressor', 'n_estimators': 100, 'max_depth': 9}. Best is trial 344 with value: 0.5558598336362998.\u001b[0m\n",
      "\u001b[32m[I 2020-11-16 23:17:23,071]\u001b[0m Trial 390 finished with value: 0.5528584357090569 and parameters: {'regressor': 'RandomForestRegressor', 'n_estimators': 100, 'max_depth': 9}. Best is trial 344 with value: 0.5558598336362998.\u001b[0m\n",
      "\u001b[32m[I 2020-11-16 23:17:24,094]\u001b[0m Trial 391 finished with value: 0.5441932164940844 and parameters: {'regressor': 'RandomForestRegressor', 'n_estimators': 100, 'max_depth': 7}. Best is trial 344 with value: 0.5558598336362998.\u001b[0m\n",
      "\u001b[32m[I 2020-11-16 23:17:25,588]\u001b[0m Trial 392 finished with value: 0.5507798514883802 and parameters: {'regressor': 'RandomForestRegressor', 'n_estimators': 100, 'max_depth': 11}. Best is trial 344 with value: 0.5558598336362998.\u001b[0m\n",
      "\u001b[32m[I 2020-11-16 23:17:26,966]\u001b[0m Trial 393 finished with value: 0.5485456646269666 and parameters: {'regressor': 'RandomForestRegressor', 'n_estimators': 90, 'max_depth': 9}. Best is trial 344 with value: 0.5558598336362998.\u001b[0m\n",
      "\u001b[32m[I 2020-11-16 23:17:27,605]\u001b[0m Trial 394 finished with value: 0.5409729126585989 and parameters: {'regressor': 'RandomForestRegressor', 'n_estimators': 50, 'max_depth': 7}. Best is trial 344 with value: 0.5558598336362998.\u001b[0m\n",
      "\u001b[32m[I 2020-11-16 23:17:29,095]\u001b[0m Trial 395 finished with value: 0.5474283321765882 and parameters: {'regressor': 'RandomForestRegressor', 'n_estimators': 100, 'max_depth': 11}. Best is trial 344 with value: 0.5558598336362998.\u001b[0m\n",
      "\u001b[32m[I 2020-11-16 23:17:30,255]\u001b[0m Trial 396 finished with value: 0.5525068224170653 and parameters: {'regressor': 'RandomForestRegressor', 'n_estimators': 100, 'max_depth': 9}. Best is trial 344 with value: 0.5558598336362998.\u001b[0m\n",
      "\u001b[32m[I 2020-11-16 23:17:31,444]\u001b[0m Trial 397 finished with value: 0.5539698797996545 and parameters: {'regressor': 'RandomForestRegressor', 'n_estimators': 100, 'max_depth': 9}. Best is trial 344 with value: 0.5558598336362998.\u001b[0m\n",
      "\u001b[32m[I 2020-11-16 23:17:32,833]\u001b[0m Trial 398 finished with value: 0.5475798194637234 and parameters: {'regressor': 'RandomForestRegressor', 'n_estimators': 100, 'max_depth': 11}. Best is trial 344 with value: 0.5558598336362998.\u001b[0m\n",
      "\u001b[32m[I 2020-11-16 23:17:33,760]\u001b[0m Trial 399 finished with value: 0.5449145765073244 and parameters: {'regressor': 'RandomForestRegressor', 'n_estimators': 100, 'max_depth': 7}. Best is trial 344 with value: 0.5558598336362998.\u001b[0m\n",
      "\u001b[32m[I 2020-11-16 23:17:34,992]\u001b[0m Trial 400 finished with value: 0.5536229298924105 and parameters: {'regressor': 'RandomForestRegressor', 'n_estimators': 100, 'max_depth': 9}. Best is trial 344 with value: 0.5558598336362998.\u001b[0m\n",
      "\u001b[32m[I 2020-11-16 23:17:35,024]\u001b[0m Trial 401 finished with value: 0.40570324059333673 and parameters: {'regressor': 'DecisionTreeRegressor', 'max_depth': 9, 'min_samples_split': 4}. Best is trial 344 with value: 0.5558598336362998.\u001b[0m\n",
      "\u001b[32m[I 2020-11-16 23:17:36,406]\u001b[0m Trial 402 finished with value: 0.5487539062738893 and parameters: {'regressor': 'RandomForestRegressor', 'n_estimators': 100, 'max_depth': 11}. Best is trial 344 with value: 0.5558598336362998.\u001b[0m\n",
      "\u001b[32m[I 2020-11-16 23:17:37,449]\u001b[0m Trial 403 finished with value: 0.5528303330973847 and parameters: {'regressor': 'RandomForestRegressor', 'n_estimators': 80, 'max_depth': 9}. Best is trial 344 with value: 0.5558598336362998.\u001b[0m\n",
      "\u001b[32m[I 2020-11-16 23:17:38,920]\u001b[0m Trial 404 finished with value: 0.5473328746199022 and parameters: {'regressor': 'RandomForestRegressor', 'n_estimators': 90, 'max_depth': 13}. Best is trial 344 with value: 0.5558598336362998.\u001b[0m\n",
      "\u001b[32m[I 2020-11-16 23:17:40,310]\u001b[0m Trial 405 finished with value: 0.549623070805004 and parameters: {'regressor': 'RandomForestRegressor', 'n_estimators': 100, 'max_depth': 11}. Best is trial 344 with value: 0.5558598336362998.\u001b[0m\n",
      "\u001b[32m[I 2020-11-16 23:17:42,962]\u001b[0m Trial 406 finished with value: 0.3965473482010846 and parameters: {'regressor': 'MLPRegressor', 'activation': 'relu', 'learning_rate': 'adaptive', 'max_iter': 180}. Best is trial 344 with value: 0.5558598336362998.\u001b[0m\n",
      "\u001b[32m[I 2020-11-16 23:17:43,493]\u001b[0m Trial 407 finished with value: 0.5433117415548374 and parameters: {'regressor': 'RandomForestRegressor', 'n_estimators': 40, 'max_depth': 7}. Best is trial 344 with value: 0.5558598336362998.\u001b[0m\n",
      "\u001b[32m[I 2020-11-16 23:17:44,659]\u001b[0m Trial 408 finished with value: 0.5522290456297992 and parameters: {'regressor': 'RandomForestRegressor', 'n_estimators': 100, 'max_depth': 9}. Best is trial 344 with value: 0.5558598336362998.\u001b[0m\n",
      "\u001b[32m[I 2020-11-16 23:17:45,250]\u001b[0m Trial 409 finished with value: 0.553178439786359 and parameters: {'regressor': 'RandomForestRegressor', 'n_estimators': 50, 'max_depth': 9}. Best is trial 344 with value: 0.5558598336362998.\u001b[0m\n",
      "\u001b[32m[I 2020-11-16 23:17:46,642]\u001b[0m Trial 410 finished with value: 0.5485982999506872 and parameters: {'regressor': 'RandomForestRegressor', 'n_estimators': 100, 'max_depth': 11}. Best is trial 344 with value: 0.5558598336362998.\u001b[0m\n",
      "\u001b[32m[I 2020-11-16 23:17:47,943]\u001b[0m Trial 411 finished with value: 0.5512129618749463 and parameters: {'regressor': 'RandomForestRegressor', 'n_estimators': 100, 'max_depth': 9}. Best is trial 344 with value: 0.5558598336362998.\u001b[0m\n",
      "\u001b[32m[I 2020-11-16 23:17:47,981]\u001b[0m Trial 412 finished with value: 0.5008836724365376 and parameters: {'regressor': 'LinearRegression', 'fit_intercept': False, 'normalize': True}. Best is trial 344 with value: 0.5558598336362998.\u001b[0m\n",
      "\u001b[32m[I 2020-11-16 23:17:49,542]\u001b[0m Trial 413 finished with value: 0.5471939082018206 and parameters: {'regressor': 'RandomForestRegressor', 'n_estimators': 100, 'max_depth': 11}. Best is trial 344 with value: 0.5558598336362998.\u001b[0m\n",
      "\u001b[32m[I 2020-11-16 23:17:50,730]\u001b[0m Trial 414 finished with value: 0.5552747027781985 and parameters: {'regressor': 'RandomForestRegressor', 'n_estimators': 100, 'max_depth': 9}. Best is trial 344 with value: 0.5558598336362998.\u001b[0m\n",
      "\u001b[32m[I 2020-11-16 23:17:51,928]\u001b[0m Trial 415 finished with value: 0.549761434356311 and parameters: {'regressor': 'RandomForestRegressor', 'n_estimators': 100, 'max_depth': 9}. Best is trial 344 with value: 0.5558598336362998.\u001b[0m\n",
      "\u001b[32m[I 2020-11-16 23:17:53,216]\u001b[0m Trial 416 finished with value: 0.5522558147903651 and parameters: {'regressor': 'RandomForestRegressor', 'n_estimators': 90, 'max_depth': 11}. Best is trial 344 with value: 0.5558598336362998.\u001b[0m\n",
      "\u001b[32m[I 2020-11-16 23:17:54,403]\u001b[0m Trial 417 finished with value: 0.5551324638137508 and parameters: {'regressor': 'RandomForestRegressor', 'n_estimators': 100, 'max_depth': 9}. Best is trial 344 with value: 0.5558598336362998.\u001b[0m\n",
      "\u001b[32m[I 2020-11-16 23:17:55,585]\u001b[0m Trial 418 finished with value: 0.5513345495808147 and parameters: {'regressor': 'RandomForestRegressor', 'n_estimators': 100, 'max_depth': 9}. Best is trial 344 with value: 0.5558598336362998.\u001b[0m\n",
      "\u001b[32m[I 2020-11-16 23:17:56,358]\u001b[0m Trial 419 finished with value: 0.5242157469710726 and parameters: {'regressor': 'RandomForestRegressor', 'n_estimators': 100, 'max_depth': 5}. Best is trial 344 with value: 0.5558598336362998.\u001b[0m\n",
      "\u001b[32m[I 2020-11-16 23:17:57,395]\u001b[0m Trial 420 finished with value: 0.5457427237463301 and parameters: {'regressor': 'RandomForestRegressor', 'n_estimators': 100, 'max_depth': 7}. Best is trial 344 with value: 0.5558598336362998.\u001b[0m\n"
     ]
    },
    {
     "name": "stderr",
     "output_type": "stream",
     "text": [
      "\u001b[32m[I 2020-11-16 23:17:58,556]\u001b[0m Trial 421 finished with value: 0.5536427576828762 and parameters: {'regressor': 'RandomForestRegressor', 'n_estimators': 100, 'max_depth': 9}. Best is trial 344 with value: 0.5558598336362998.\u001b[0m\n",
      "\u001b[32m[I 2020-11-16 23:18:00,185]\u001b[0m Trial 422 finished with value: 0.5476842554396495 and parameters: {'regressor': 'RandomForestRegressor', 'n_estimators': 100, 'max_depth': 13}. Best is trial 344 with value: 0.5558598336362998.\u001b[0m\n",
      "\u001b[32m[I 2020-11-16 23:18:01,595]\u001b[0m Trial 423 finished with value: 0.5468982676983343 and parameters: {'regressor': 'RandomForestRegressor', 'n_estimators': 100, 'max_depth': 11}. Best is trial 344 with value: 0.5558598336362998.\u001b[0m\n",
      "\u001b[32m[I 2020-11-16 23:18:02,806]\u001b[0m Trial 424 finished with value: 0.5493552448565728 and parameters: {'regressor': 'RandomForestRegressor', 'n_estimators': 100, 'max_depth': 9}. Best is trial 344 with value: 0.5558598336362998.\u001b[0m\n",
      "\u001b[32m[I 2020-11-16 23:18:04,312]\u001b[0m Trial 425 finished with value: 0.5496424710378021 and parameters: {'regressor': 'RandomForestRegressor', 'n_estimators': 100, 'max_depth': 11}. Best is trial 344 with value: 0.5558598336362998.\u001b[0m\n",
      "\u001b[32m[I 2020-11-16 23:18:05,465]\u001b[0m Trial 426 finished with value: 0.5528652731944429 and parameters: {'regressor': 'RandomForestRegressor', 'n_estimators': 90, 'max_depth': 9}. Best is trial 344 with value: 0.5558598336362998.\u001b[0m\n",
      "\u001b[32m[I 2020-11-16 23:18:06,409]\u001b[0m Trial 427 finished with value: 0.5467917991878976 and parameters: {'regressor': 'RandomForestRegressor', 'n_estimators': 100, 'max_depth': 7}. Best is trial 344 with value: 0.5558598336362998.\u001b[0m\n",
      "\u001b[32m[I 2020-11-16 23:18:07,647]\u001b[0m Trial 428 finished with value: 0.5526474716016043 and parameters: {'regressor': 'RandomForestRegressor', 'n_estimators': 100, 'max_depth': 9}. Best is trial 344 with value: 0.5558598336362998.\u001b[0m\n",
      "\u001b[32m[I 2020-11-16 23:18:08,676]\u001b[0m Trial 429 finished with value: 0.5498165020580279 and parameters: {'regressor': 'RandomForestRegressor', 'n_estimators': 70, 'max_depth': 11}. Best is trial 344 with value: 0.5558598336362998.\u001b[0m\n",
      "\u001b[32m[I 2020-11-16 23:18:09,857]\u001b[0m Trial 430 finished with value: 0.5523880712220821 and parameters: {'regressor': 'RandomForestRegressor', 'n_estimators': 100, 'max_depth': 9}. Best is trial 344 with value: 0.5558598336362998.\u001b[0m\n",
      "\u001b[32m[I 2020-11-16 23:18:09,896]\u001b[0m Trial 431 finished with value: 0.3634386663388096 and parameters: {'regressor': 'DecisionTreeRegressor', 'max_depth': 13, 'min_samples_split': 8}. Best is trial 344 with value: 0.5558598336362998.\u001b[0m\n",
      "\u001b[32m[I 2020-11-16 23:18:10,851]\u001b[0m Trial 432 finished with value: 0.5449478539290218 and parameters: {'regressor': 'RandomForestRegressor', 'n_estimators': 100, 'max_depth': 7}. Best is trial 344 with value: 0.5558598336362998.\u001b[0m\n",
      "\u001b[32m[I 2020-11-16 23:18:12,250]\u001b[0m Trial 433 finished with value: 0.5516080231945049 and parameters: {'regressor': 'RandomForestRegressor', 'n_estimators': 100, 'max_depth': 11}. Best is trial 344 with value: 0.5558598336362998.\u001b[0m\n",
      "\u001b[32m[I 2020-11-16 23:18:13,388]\u001b[0m Trial 434 finished with value: 0.5551387055756096 and parameters: {'regressor': 'RandomForestRegressor', 'n_estimators': 100, 'max_depth': 9}. Best is trial 344 with value: 0.5558598336362998.\u001b[0m\n",
      "\u001b[32m[I 2020-11-16 23:18:14,434]\u001b[0m Trial 435 finished with value: 0.5533136069055897 and parameters: {'regressor': 'RandomForestRegressor', 'n_estimators': 90, 'max_depth': 9}. Best is trial 344 with value: 0.5558598336362998.\u001b[0m\n",
      "\u001b[32m[I 2020-11-16 23:18:15,645]\u001b[0m Trial 436 finished with value: 0.5522414495368067 and parameters: {'regressor': 'RandomForestRegressor', 'n_estimators': 100, 'max_depth': 9}. Best is trial 344 with value: 0.5558598336362998.\u001b[0m\n",
      "\u001b[32m[I 2020-11-16 23:18:16,871]\u001b[0m Trial 437 finished with value: 0.5548526891395926 and parameters: {'regressor': 'RandomForestRegressor', 'n_estimators': 100, 'max_depth': 9}. Best is trial 344 with value: 0.5558598336362998.\u001b[0m\n",
      "\u001b[32m[I 2020-11-16 23:18:17,919]\u001b[0m Trial 438 finished with value: 0.5457841926848053 and parameters: {'regressor': 'RandomForestRegressor', 'n_estimators': 100, 'max_depth': 7}. Best is trial 344 with value: 0.5558598336362998.\u001b[0m\n",
      "\u001b[32m[I 2020-11-16 23:18:19,392]\u001b[0m Trial 439 finished with value: -0.00019405578300690784 and parameters: {'regressor': 'MLPRegressor', 'activation': 'tanh', 'learning_rate': 'invscaling', 'max_iter': 170}. Best is trial 344 with value: 0.5558598336362998.\u001b[0m\n",
      "\u001b[32m[I 2020-11-16 23:18:20,723]\u001b[0m Trial 440 finished with value: 0.5502276229300158 and parameters: {'regressor': 'RandomForestRegressor', 'n_estimators': 100, 'max_depth': 9}. Best is trial 344 with value: 0.5558598336362998.\u001b[0m\n",
      "\u001b[32m[I 2020-11-16 23:18:21,910]\u001b[0m Trial 441 finished with value: 0.5491998614264797 and parameters: {'regressor': 'RandomForestRegressor', 'n_estimators': 100, 'max_depth': 9}. Best is trial 344 with value: 0.5558598336362998.\u001b[0m\n",
      "\u001b[32m[I 2020-11-16 23:18:23,803]\u001b[0m Trial 442 finished with value: 0.5469263624184579 and parameters: {'regressor': 'RandomForestRegressor', 'n_estimators': 100, 'max_depth': 15}. Best is trial 344 with value: 0.5558598336362998.\u001b[0m\n",
      "\u001b[32m[I 2020-11-16 23:18:24,878]\u001b[0m Trial 443 finished with value: 0.554599280425093 and parameters: {'regressor': 'RandomForestRegressor', 'n_estimators': 90, 'max_depth': 9}. Best is trial 344 with value: 0.5558598336362998.\u001b[0m\n",
      "\u001b[32m[I 2020-11-16 23:18:25,951]\u001b[0m Trial 444 finished with value: 0.5508446039528185 and parameters: {'regressor': 'RandomForestRegressor', 'n_estimators': 90, 'max_depth': 9}. Best is trial 344 with value: 0.5558598336362998.\u001b[0m\n",
      "\u001b[32m[I 2020-11-16 23:18:26,005]\u001b[0m Trial 445 finished with value: -2.1387091749756526e+18 and parameters: {'regressor': 'LinearRegression', 'fit_intercept': True, 'normalize': False}. Best is trial 344 with value: 0.5558598336362998.\u001b[0m\n",
      "\u001b[32m[I 2020-11-16 23:18:27,090]\u001b[0m Trial 446 finished with value: 0.5483016279263591 and parameters: {'regressor': 'RandomForestRegressor', 'n_estimators': 90, 'max_depth': 7}. Best is trial 344 with value: 0.5558598336362998.\u001b[0m\n",
      "\u001b[32m[I 2020-11-16 23:18:28,238]\u001b[0m Trial 447 finished with value: 0.5511523540427947 and parameters: {'regressor': 'RandomForestRegressor', 'n_estimators': 90, 'max_depth': 9}. Best is trial 344 with value: 0.5558598336362998.\u001b[0m\n",
      "\u001b[32m[I 2020-11-16 23:18:29,381]\u001b[0m Trial 448 finished with value: 0.5533559609852743 and parameters: {'regressor': 'RandomForestRegressor', 'n_estimators': 90, 'max_depth': 9}. Best is trial 344 with value: 0.5558598336362998.\u001b[0m\n",
      "\u001b[32m[I 2020-11-16 23:18:30,255]\u001b[0m Trial 449 finished with value: 0.5441700390374864 and parameters: {'regressor': 'RandomForestRegressor', 'n_estimators': 90, 'max_depth': 7}. Best is trial 344 with value: 0.5558598336362998.\u001b[0m\n",
      "\u001b[32m[I 2020-11-16 23:18:31,381]\u001b[0m Trial 450 finished with value: 0.5543887835828469 and parameters: {'regressor': 'RandomForestRegressor', 'n_estimators': 90, 'max_depth': 9}. Best is trial 344 with value: 0.5558598336362998.\u001b[0m\n",
      "\u001b[32m[I 2020-11-16 23:18:32,531]\u001b[0m Trial 451 finished with value: 0.552372220242608 and parameters: {'regressor': 'RandomForestRegressor', 'n_estimators': 90, 'max_depth': 9}. Best is trial 344 with value: 0.5558598336362998.\u001b[0m\n",
      "\u001b[32m[I 2020-11-16 23:18:33,729]\u001b[0m Trial 452 finished with value: 0.5567668642621098 and parameters: {'regressor': 'RandomForestRegressor', 'n_estimators': 100, 'max_depth': 9}. Best is trial 452 with value: 0.5567668642621098.\u001b[0m\n",
      "\u001b[32m[I 2020-11-16 23:18:34,700]\u001b[0m Trial 453 finished with value: 0.5522968791326043 and parameters: {'regressor': 'RandomForestRegressor', 'n_estimators': 80, 'max_depth': 9}. Best is trial 452 with value: 0.5567668642621098.\u001b[0m\n",
      "\u001b[32m[I 2020-11-16 23:18:35,578]\u001b[0m Trial 454 finished with value: 0.5426996409809817 and parameters: {'regressor': 'RandomForestRegressor', 'n_estimators': 90, 'max_depth': 7}. Best is trial 452 with value: 0.5567668642621098.\u001b[0m\n",
      "\u001b[32m[I 2020-11-16 23:18:36,784]\u001b[0m Trial 455 finished with value: 0.5504422175578434 and parameters: {'regressor': 'RandomForestRegressor', 'n_estimators': 100, 'max_depth': 9}. Best is trial 452 with value: 0.5567668642621098.\u001b[0m\n"
     ]
    },
    {
     "name": "stderr",
     "output_type": "stream",
     "text": [
      "\u001b[32m[I 2020-11-16 23:18:38,055]\u001b[0m Trial 456 finished with value: 0.550284216464449 and parameters: {'regressor': 'RandomForestRegressor', 'n_estimators': 100, 'max_depth': 9}. Best is trial 452 with value: 0.5567668642621098.\u001b[0m\n",
      "\u001b[32m[I 2020-11-16 23:18:39,231]\u001b[0m Trial 457 finished with value: 0.5513822116388755 and parameters: {'regressor': 'RandomForestRegressor', 'n_estimators': 100, 'max_depth': 9}. Best is trial 452 with value: 0.5567668642621098.\u001b[0m\n",
      "\u001b[32m[I 2020-11-16 23:18:40,176]\u001b[0m Trial 458 finished with value: 0.5453014026305383 and parameters: {'regressor': 'RandomForestRegressor', 'n_estimators': 100, 'max_depth': 7}. Best is trial 452 with value: 0.5567668642621098.\u001b[0m\n",
      "\u001b[32m[I 2020-11-16 23:18:41,228]\u001b[0m Trial 459 finished with value: 0.5497109509361515 and parameters: {'regressor': 'RandomForestRegressor', 'n_estimators': 90, 'max_depth': 9}. Best is trial 452 with value: 0.5567668642621098.\u001b[0m\n",
      "\u001b[32m[I 2020-11-16 23:18:42,167]\u001b[0m Trial 460 finished with value: 0.5484262691867345 and parameters: {'regressor': 'RandomForestRegressor', 'n_estimators': 100, 'max_depth': 7}. Best is trial 452 with value: 0.5567668642621098.\u001b[0m\n",
      "\u001b[32m[I 2020-11-16 23:18:43,120]\u001b[0m Trial 461 finished with value: 0.5533083150531708 and parameters: {'regressor': 'RandomForestRegressor', 'n_estimators': 80, 'max_depth': 9}. Best is trial 452 with value: 0.5567668642621098.\u001b[0m\n",
      "\u001b[32m[I 2020-11-16 23:18:44,293]\u001b[0m Trial 462 finished with value: 0.5548371386973128 and parameters: {'regressor': 'RandomForestRegressor', 'n_estimators': 100, 'max_depth': 9}. Best is trial 452 with value: 0.5567668642621098.\u001b[0m\n",
      "\u001b[32m[I 2020-11-16 23:18:44,324]\u001b[0m Trial 463 finished with value: 0.4118521214284713 and parameters: {'regressor': 'DecisionTreeRegressor', 'max_depth': 9, 'min_samples_split': 3}. Best is trial 452 with value: 0.5567668642621098.\u001b[0m\n",
      "\u001b[32m[I 2020-11-16 23:18:45,637]\u001b[0m Trial 464 finished with value: 0.5526623138413613 and parameters: {'regressor': 'RandomForestRegressor', 'n_estimators': 100, 'max_depth': 9}. Best is trial 452 with value: 0.5567668642621098.\u001b[0m\n",
      "\u001b[32m[I 2020-11-16 23:18:46,773]\u001b[0m Trial 465 finished with value: 0.5538648667984422 and parameters: {'regressor': 'RandomForestRegressor', 'n_estimators': 90, 'max_depth': 9}. Best is trial 452 with value: 0.5567668642621098.\u001b[0m\n",
      "\u001b[32m[I 2020-11-16 23:18:48,362]\u001b[0m Trial 466 finished with value: 0.5490054891440173 and parameters: {'regressor': 'RandomForestRegressor', 'n_estimators': 100, 'max_depth': 11}. Best is trial 452 with value: 0.5567668642621098.\u001b[0m\n",
      "\u001b[32m[I 2020-11-16 23:18:49,635]\u001b[0m Trial 467 finished with value: 0.5527109304475359 and parameters: {'regressor': 'RandomForestRegressor', 'n_estimators': 100, 'max_depth': 9}. Best is trial 452 with value: 0.5567668642621098.\u001b[0m\n",
      "\u001b[32m[I 2020-11-16 23:18:51,102]\u001b[0m Trial 468 finished with value: 0.5490653596201178 and parameters: {'regressor': 'RandomForestRegressor', 'n_estimators': 100, 'max_depth': 11}. Best is trial 452 with value: 0.5567668642621098.\u001b[0m\n",
      "\u001b[32m[I 2020-11-16 23:18:52,075]\u001b[0m Trial 469 finished with value: 0.54756630135726 and parameters: {'regressor': 'RandomForestRegressor', 'n_estimators': 100, 'max_depth': 7}. Best is trial 452 with value: 0.5567668642621098.\u001b[0m\n",
      "\u001b[32m[I 2020-11-16 23:19:00,216]\u001b[0m Trial 470 finished with value: 0.5076426291529019 and parameters: {'regressor': 'MLPRegressor', 'activation': 'logistic', 'learning_rate': 'constant', 'max_iter': 190}. Best is trial 452 with value: 0.5567668642621098.\u001b[0m\n",
      "\u001b[32m[I 2020-11-16 23:19:01,563]\u001b[0m Trial 471 finished with value: 0.5508416557585505 and parameters: {'regressor': 'RandomForestRegressor', 'n_estimators': 100, 'max_depth': 9}. Best is trial 452 with value: 0.5567668642621098.\u001b[0m\n",
      "\u001b[32m[I 2020-11-16 23:19:02,755]\u001b[0m Trial 472 finished with value: 0.5562448516367026 and parameters: {'regressor': 'RandomForestRegressor', 'n_estimators': 100, 'max_depth': 9}. Best is trial 452 with value: 0.5567668642621098.\u001b[0m\n",
      "\u001b[32m[I 2020-11-16 23:19:03,772]\u001b[0m Trial 473 finished with value: 0.546912876300429 and parameters: {'regressor': 'RandomForestRegressor', 'n_estimators': 100, 'max_depth': 7}. Best is trial 452 with value: 0.5567668642621098.\u001b[0m\n",
      "\u001b[32m[I 2020-11-16 23:19:04,955]\u001b[0m Trial 474 finished with value: 0.5517766806568314 and parameters: {'regressor': 'RandomForestRegressor', 'n_estimators': 100, 'max_depth': 9}. Best is trial 452 with value: 0.5567668642621098.\u001b[0m\n",
      "\u001b[32m[I 2020-11-16 23:19:06,136]\u001b[0m Trial 475 finished with value: 0.5527037589111874 and parameters: {'regressor': 'RandomForestRegressor', 'n_estimators': 100, 'max_depth': 9}. Best is trial 452 with value: 0.5567668642621098.\u001b[0m\n",
      "\u001b[32m[I 2020-11-16 23:19:07,426]\u001b[0m Trial 476 finished with value: 0.5499646353310738 and parameters: {'regressor': 'RandomForestRegressor', 'n_estimators': 100, 'max_depth': 9}. Best is trial 452 with value: 0.5567668642621098.\u001b[0m\n",
      "\u001b[32m[I 2020-11-16 23:19:08,667]\u001b[0m Trial 477 finished with value: 0.5523115761526476 and parameters: {'regressor': 'RandomForestRegressor', 'n_estimators': 100, 'max_depth': 9}. Best is trial 452 with value: 0.5567668642621098.\u001b[0m\n",
      "\u001b[32m[I 2020-11-16 23:19:09,898]\u001b[0m Trial 478 finished with value: 0.5504131725985373 and parameters: {'regressor': 'RandomForestRegressor', 'n_estimators': 100, 'max_depth': 9}. Best is trial 452 with value: 0.5567668642621098.\u001b[0m\n",
      "\u001b[32m[I 2020-11-16 23:19:09,950]\u001b[0m Trial 479 finished with value: -3.216467808053605e+24 and parameters: {'regressor': 'LinearRegression', 'fit_intercept': True, 'normalize': True}. Best is trial 452 with value: 0.5567668642621098.\u001b[0m\n",
      "\u001b[32m[I 2020-11-16 23:19:10,611]\u001b[0m Trial 480 finished with value: 0.46547085934965293 and parameters: {'regressor': 'RandomForestRegressor', 'n_estimators': 100, 'max_depth': 3}. Best is trial 452 with value: 0.5567668642621098.\u001b[0m\n",
      "\u001b[32m[I 2020-11-16 23:19:11,571]\u001b[0m Trial 481 finished with value: 0.547553340461655 and parameters: {'regressor': 'RandomForestRegressor', 'n_estimators': 100, 'max_depth': 7}. Best is trial 452 with value: 0.5567668642621098.\u001b[0m\n",
      "\u001b[32m[I 2020-11-16 23:19:13,733]\u001b[0m Trial 482 finished with value: 0.5379472927733575 and parameters: {'regressor': 'RandomForestRegressor', 'n_estimators': 100, 'max_depth': 19}. Best is trial 452 with value: 0.5567668642621098.\u001b[0m\n",
      "\u001b[32m[I 2020-11-16 23:19:15,103]\u001b[0m Trial 483 finished with value: 0.5530919118424524 and parameters: {'regressor': 'RandomForestRegressor', 'n_estimators': 100, 'max_depth': 9}. Best is trial 452 with value: 0.5567668642621098.\u001b[0m\n",
      "\u001b[32m[I 2020-11-16 23:19:16,463]\u001b[0m Trial 484 finished with value: 0.5517597082489547 and parameters: {'regressor': 'RandomForestRegressor', 'n_estimators': 100, 'max_depth': 9}. Best is trial 452 with value: 0.5567668642621098.\u001b[0m\n",
      "\u001b[32m[I 2020-11-16 23:19:17,562]\u001b[0m Trial 485 finished with value: 0.5460416338682079 and parameters: {'regressor': 'RandomForestRegressor', 'n_estimators': 100, 'max_depth': 7}. Best is trial 452 with value: 0.5567668642621098.\u001b[0m\n",
      "\u001b[32m[I 2020-11-16 23:19:18,816]\u001b[0m Trial 486 finished with value: 0.5534720759377052 and parameters: {'regressor': 'RandomForestRegressor', 'n_estimators': 100, 'max_depth': 9}. Best is trial 452 with value: 0.5567668642621098.\u001b[0m\n",
      "\u001b[32m[I 2020-11-16 23:19:20,062]\u001b[0m Trial 487 finished with value: 0.5490884788998704 and parameters: {'regressor': 'RandomForestRegressor', 'n_estimators': 100, 'max_depth': 9}. Best is trial 452 with value: 0.5567668642621098.\u001b[0m\n",
      "\u001b[32m[I 2020-11-16 23:19:21,163]\u001b[0m Trial 488 finished with value: 0.5456693003421704 and parameters: {'regressor': 'RandomForestRegressor', 'n_estimators': 100, 'max_depth': 7}. Best is trial 452 with value: 0.5567668642621098.\u001b[0m\n",
      "\u001b[32m[I 2020-11-16 23:19:22,395]\u001b[0m Trial 489 finished with value: 0.5520034810490906 and parameters: {'regressor': 'RandomForestRegressor', 'n_estimators': 100, 'max_depth': 9}. Best is trial 452 with value: 0.5567668642621098.\u001b[0m\n",
      "\u001b[32m[I 2020-11-16 23:19:23,398]\u001b[0m Trial 490 finished with value: 0.5458334013921577 and parameters: {'regressor': 'RandomForestRegressor', 'n_estimators': 100, 'max_depth': 7}. Best is trial 452 with value: 0.5567668642621098.\u001b[0m\n"
     ]
    },
    {
     "name": "stderr",
     "output_type": "stream",
     "text": [
      "\u001b[32m[I 2020-11-16 23:19:24,657]\u001b[0m Trial 491 finished with value: 0.5530556340884998 and parameters: {'regressor': 'RandomForestRegressor', 'n_estimators': 100, 'max_depth': 9}. Best is trial 452 with value: 0.5567668642621098.\u001b[0m\n",
      "\u001b[32m[I 2020-11-16 23:19:26,592]\u001b[0m Trial 492 finished with value: 0.5460736717095978 and parameters: {'regressor': 'RandomForestRegressor', 'n_estimators': 100, 'max_depth': 17}. Best is trial 452 with value: 0.5567668642621098.\u001b[0m\n",
      "\u001b[32m[I 2020-11-16 23:19:27,703]\u001b[0m Trial 493 finished with value: 0.55195023974678 and parameters: {'regressor': 'RandomForestRegressor', 'n_estimators': 70, 'max_depth': 11}. Best is trial 452 with value: 0.5567668642621098.\u001b[0m\n",
      "\u001b[32m[I 2020-11-16 23:19:27,742]\u001b[0m Trial 494 finished with value: 0.40431239642927885 and parameters: {'regressor': 'DecisionTreeRegressor', 'max_depth': 9, 'min_samples_split': 5}. Best is trial 452 with value: 0.5567668642621098.\u001b[0m\n",
      "\u001b[32m[I 2020-11-16 23:19:28,930]\u001b[0m Trial 495 finished with value: 0.5529835756902522 and parameters: {'regressor': 'RandomForestRegressor', 'n_estimators': 100, 'max_depth': 9}. Best is trial 452 with value: 0.5567668642621098.\u001b[0m\n",
      "\u001b[32m[I 2020-11-16 23:19:30,101]\u001b[0m Trial 496 finished with value: 0.5527840992297728 and parameters: {'regressor': 'RandomForestRegressor', 'n_estimators': 100, 'max_depth': 9}. Best is trial 452 with value: 0.5567668642621098.\u001b[0m\n",
      "\u001b[32m[I 2020-11-16 23:19:31,573]\u001b[0m Trial 497 finished with value: 0.549636850451984 and parameters: {'regressor': 'RandomForestRegressor', 'n_estimators': 100, 'max_depth': 11}. Best is trial 452 with value: 0.5567668642621098.\u001b[0m\n",
      "\u001b[32m[I 2020-11-16 23:19:32,824]\u001b[0m Trial 498 finished with value: 0.5541339804667851 and parameters: {'regressor': 'RandomForestRegressor', 'n_estimators': 100, 'max_depth': 9}. Best is trial 452 with value: 0.5567668642621098.\u001b[0m\n",
      "\u001b[32m[I 2020-11-16 23:19:34,124]\u001b[0m Trial 499 finished with value: 0.5507065262406183 and parameters: {'regressor': 'RandomForestRegressor', 'n_estimators': 100, 'max_depth': 9}. Best is trial 452 with value: 0.5567668642621098.\u001b[0m\n",
      "\u001b[32m[I 2020-11-16 23:19:35,770]\u001b[0m Trial 500 finished with value: 0.5496256948328053 and parameters: {'regressor': 'RandomForestRegressor', 'n_estimators': 100, 'max_depth': 11}. Best is trial 452 with value: 0.5567668642621098.\u001b[0m\n",
      "\u001b[32m[I 2020-11-16 23:19:36,880]\u001b[0m Trial 501 finished with value: 0.5456780381642771 and parameters: {'regressor': 'RandomForestRegressor', 'n_estimators': 100, 'max_depth': 7}. Best is trial 452 with value: 0.5567668642621098.\u001b[0m\n",
      "\u001b[32m[I 2020-11-16 23:19:38,330]\u001b[0m Trial 502 finished with value: 0.5533194547006446 and parameters: {'regressor': 'RandomForestRegressor', 'n_estimators': 100, 'max_depth': 9}. Best is trial 452 with value: 0.5567668642621098.\u001b[0m\n",
      "\u001b[32m[I 2020-11-16 23:19:39,606]\u001b[0m Trial 503 finished with value: 0.5514639649863088 and parameters: {'regressor': 'RandomForestRegressor', 'n_estimators': 100, 'max_depth': 9}. Best is trial 452 with value: 0.5567668642621098.\u001b[0m\n",
      "\u001b[32m[I 2020-11-16 23:19:41,840]\u001b[0m Trial 504 finished with value: 0.5371388900320855 and parameters: {'regressor': 'RandomForestRegressor', 'n_estimators': 100, 'max_depth': 23}. Best is trial 452 with value: 0.5567668642621098.\u001b[0m\n",
      "\u001b[32m[I 2020-11-16 23:19:50,447]\u001b[0m Trial 505 finished with value: 0.4689875899840038 and parameters: {'regressor': 'MLPRegressor', 'activation': 'identity', 'learning_rate': 'invscaling', 'max_iter': 160}. Best is trial 452 with value: 0.5567668642621098.\u001b[0m\n",
      "\u001b[32m[I 2020-11-16 23:19:52,091]\u001b[0m Trial 506 finished with value: 0.5507731694496172 and parameters: {'regressor': 'RandomForestRegressor', 'n_estimators': 100, 'max_depth': 11}. Best is trial 452 with value: 0.5567668642621098.\u001b[0m\n",
      "\u001b[32m[I 2020-11-16 23:19:53,210]\u001b[0m Trial 507 finished with value: 0.5493729904258554 and parameters: {'regressor': 'RandomForestRegressor', 'n_estimators': 80, 'max_depth': 11}. Best is trial 452 with value: 0.5567668642621098.\u001b[0m\n",
      "\u001b[32m[I 2020-11-16 23:19:53,236]\u001b[0m Trial 508 finished with value: 0.5008836724365376 and parameters: {'regressor': 'LinearRegression', 'fit_intercept': False, 'normalize': False}. Best is trial 452 with value: 0.5567668642621098.\u001b[0m\n",
      "\u001b[32m[I 2020-11-16 23:19:54,570]\u001b[0m Trial 509 finished with value: 0.5533105154623796 and parameters: {'regressor': 'RandomForestRegressor', 'n_estimators': 100, 'max_depth': 9}. Best is trial 452 with value: 0.5567668642621098.\u001b[0m\n",
      "\u001b[32m[I 2020-11-16 23:19:55,148]\u001b[0m Trial 510 finished with value: 0.5428834175192033 and parameters: {'regressor': 'RandomForestRegressor', 'n_estimators': 60, 'max_depth': 7}. Best is trial 452 with value: 0.5567668642621098.\u001b[0m\n",
      "\u001b[32m[I 2020-11-16 23:19:56,364]\u001b[0m Trial 511 finished with value: 0.5533612377055412 and parameters: {'regressor': 'RandomForestRegressor', 'n_estimators': 100, 'max_depth': 9}. Best is trial 452 with value: 0.5567668642621098.\u001b[0m\n",
      "\u001b[32m[I 2020-11-16 23:19:57,632]\u001b[0m Trial 512 finished with value: 0.555072138031451 and parameters: {'regressor': 'RandomForestRegressor', 'n_estimators': 100, 'max_depth': 9}. Best is trial 452 with value: 0.5567668642621098.\u001b[0m\n",
      "\u001b[32m[I 2020-11-16 23:19:59,053]\u001b[0m Trial 513 finished with value: 0.5484252507448295 and parameters: {'regressor': 'RandomForestRegressor', 'n_estimators': 100, 'max_depth': 11}. Best is trial 452 with value: 0.5567668642621098.\u001b[0m\n",
      "\u001b[32m[I 2020-11-16 23:19:59,983]\u001b[0m Trial 514 finished with value: 0.5455551331231281 and parameters: {'regressor': 'RandomForestRegressor', 'n_estimators': 100, 'max_depth': 7}. Best is trial 452 with value: 0.5567668642621098.\u001b[0m\n",
      "\u001b[32m[I 2020-11-16 23:20:01,142]\u001b[0m Trial 515 finished with value: 0.5501712382260284 and parameters: {'regressor': 'RandomForestRegressor', 'n_estimators': 100, 'max_depth': 9}. Best is trial 452 with value: 0.5567668642621098.\u001b[0m\n",
      "\u001b[32m[I 2020-11-16 23:20:02,315]\u001b[0m Trial 516 finished with value: 0.5518269688111959 and parameters: {'regressor': 'RandomForestRegressor', 'n_estimators': 100, 'max_depth': 9}. Best is trial 452 with value: 0.5567668642621098.\u001b[0m\n",
      "\u001b[32m[I 2020-11-16 23:20:03,723]\u001b[0m Trial 517 finished with value: 0.5483749572115226 and parameters: {'regressor': 'RandomForestRegressor', 'n_estimators': 100, 'max_depth': 11}. Best is trial 452 with value: 0.5567668642621098.\u001b[0m\n",
      "\u001b[32m[I 2020-11-16 23:20:04,869]\u001b[0m Trial 518 finished with value: 0.5516137132946259 and parameters: {'regressor': 'RandomForestRegressor', 'n_estimators': 100, 'max_depth': 9}. Best is trial 452 with value: 0.5567668642621098.\u001b[0m\n",
      "\u001b[32m[I 2020-11-16 23:20:06,024]\u001b[0m Trial 519 finished with value: 0.5534340177433379 and parameters: {'regressor': 'RandomForestRegressor', 'n_estimators': 100, 'max_depth': 9}. Best is trial 452 with value: 0.5567668642621098.\u001b[0m\n",
      "\u001b[32m[I 2020-11-16 23:20:07,298]\u001b[0m Trial 520 finished with value: 0.5522296011693695 and parameters: {'regressor': 'RandomForestRegressor', 'n_estimators': 100, 'max_depth': 9}. Best is trial 452 with value: 0.5567668642621098.\u001b[0m\n",
      "\u001b[32m[I 2020-11-16 23:20:08,256]\u001b[0m Trial 521 finished with value: 0.5445871320707145 and parameters: {'regressor': 'RandomForestRegressor', 'n_estimators': 100, 'max_depth': 7}. Best is trial 452 with value: 0.5567668642621098.\u001b[0m\n",
      "\u001b[32m[I 2020-11-16 23:20:09,666]\u001b[0m Trial 522 finished with value: 0.5520801544840961 and parameters: {'regressor': 'RandomForestRegressor', 'n_estimators': 100, 'max_depth': 11}. Best is trial 452 with value: 0.5567668642621098.\u001b[0m\n",
      "\u001b[32m[I 2020-11-16 23:20:10,825]\u001b[0m Trial 523 finished with value: 0.5543232597920973 and parameters: {'regressor': 'RandomForestRegressor', 'n_estimators': 100, 'max_depth': 9}. Best is trial 452 with value: 0.5567668642621098.\u001b[0m\n",
      "\u001b[32m[I 2020-11-16 23:20:11,535]\u001b[0m Trial 524 finished with value: 0.525201075791563 and parameters: {'regressor': 'RandomForestRegressor', 'n_estimators': 100, 'max_depth': 5}. Best is trial 452 with value: 0.5567668642621098.\u001b[0m\n",
      "\u001b[32m[I 2020-11-16 23:20:12,703]\u001b[0m Trial 525 finished with value: 0.5508111956785177 and parameters: {'regressor': 'RandomForestRegressor', 'n_estimators': 100, 'max_depth': 9}. Best is trial 452 with value: 0.5567668642621098.\u001b[0m\n"
     ]
    },
    {
     "name": "stderr",
     "output_type": "stream",
     "text": [
      "\u001b[32m[I 2020-11-16 23:20:12,736]\u001b[0m Trial 526 finished with value: 0.46584167940086096 and parameters: {'regressor': 'DecisionTreeRegressor', 'max_depth': 7, 'min_samples_split': 9}. Best is trial 452 with value: 0.5567668642621098.\u001b[0m\n",
      "\u001b[32m[I 2020-11-16 23:20:13,893]\u001b[0m Trial 527 finished with value: 0.5497972076528026 and parameters: {'regressor': 'RandomForestRegressor', 'n_estimators': 100, 'max_depth': 9}. Best is trial 452 with value: 0.5567668642621098.\u001b[0m\n",
      "\u001b[32m[I 2020-11-16 23:20:15,047]\u001b[0m Trial 528 finished with value: 0.5502479903204807 and parameters: {'regressor': 'RandomForestRegressor', 'n_estimators': 100, 'max_depth': 9}. Best is trial 452 with value: 0.5567668642621098.\u001b[0m\n",
      "\u001b[32m[I 2020-11-16 23:20:16,089]\u001b[0m Trial 529 finished with value: 0.5489236441493923 and parameters: {'regressor': 'RandomForestRegressor', 'n_estimators': 90, 'max_depth': 9}. Best is trial 452 with value: 0.5567668642621098.\u001b[0m\n",
      "\u001b[32m[I 2020-11-16 23:20:17,078]\u001b[0m Trial 530 finished with value: 0.5448213319988566 and parameters: {'regressor': 'RandomForestRegressor', 'n_estimators': 100, 'max_depth': 7}. Best is trial 452 with value: 0.5567668642621098.\u001b[0m\n",
      "\u001b[32m[I 2020-11-16 23:20:21,813]\u001b[0m Trial 531 finished with value: 0.507164839837845 and parameters: {'regressor': 'MLPRegressor', 'activation': 'relu', 'learning_rate': 'adaptive', 'max_iter': 150}. Best is trial 452 with value: 0.5567668642621098.\u001b[0m\n",
      "\u001b[32m[I 2020-11-16 23:20:23,181]\u001b[0m Trial 532 finished with value: 0.5510166013345659 and parameters: {'regressor': 'RandomForestRegressor', 'n_estimators': 100, 'max_depth': 9}. Best is trial 452 with value: 0.5567668642621098.\u001b[0m\n",
      "\u001b[32m[I 2020-11-16 23:20:24,385]\u001b[0m Trial 533 finished with value: 0.5526001163102809 and parameters: {'regressor': 'RandomForestRegressor', 'n_estimators': 100, 'max_depth': 9}. Best is trial 452 with value: 0.5567668642621098.\u001b[0m\n",
      "\u001b[32m[I 2020-11-16 23:20:25,543]\u001b[0m Trial 534 finished with value: 0.5482181441537175 and parameters: {'regressor': 'RandomForestRegressor', 'n_estimators': 100, 'max_depth': 9}. Best is trial 452 with value: 0.5567668642621098.\u001b[0m\n",
      "\u001b[32m[I 2020-11-16 23:20:26,465]\u001b[0m Trial 535 finished with value: 0.5463036221466258 and parameters: {'regressor': 'RandomForestRegressor', 'n_estimators': 100, 'max_depth': 7}. Best is trial 452 with value: 0.5567668642621098.\u001b[0m\n",
      "\u001b[32m[I 2020-11-16 23:20:28,392]\u001b[0m Trial 536 finished with value: 0.5402235604488261 and parameters: {'regressor': 'RandomForestRegressor', 'n_estimators': 90, 'max_depth': 29}. Best is trial 452 with value: 0.5567668642621098.\u001b[0m\n",
      "\u001b[32m[I 2020-11-16 23:20:29,552]\u001b[0m Trial 537 finished with value: 0.5531820726126209 and parameters: {'regressor': 'RandomForestRegressor', 'n_estimators': 100, 'max_depth': 9}. Best is trial 452 with value: 0.5567668642621098.\u001b[0m\n",
      "\u001b[32m[I 2020-11-16 23:20:29,596]\u001b[0m Trial 538 finished with value: 0.5008836724365376 and parameters: {'regressor': 'LinearRegression', 'fit_intercept': False, 'normalize': True}. Best is trial 452 with value: 0.5567668642621098.\u001b[0m\n",
      "\u001b[32m[I 2020-11-16 23:20:30,448]\u001b[0m Trial 539 finished with value: 0.5251389133646671 and parameters: {'regressor': 'RandomForestRegressor', 'n_estimators': 100, 'max_depth': 5}. Best is trial 452 with value: 0.5567668642621098.\u001b[0m\n",
      "\u001b[32m[I 2020-11-16 23:20:31,597]\u001b[0m Trial 540 finished with value: 0.5547921404061098 and parameters: {'regressor': 'RandomForestRegressor', 'n_estimators': 100, 'max_depth': 9}. Best is trial 452 with value: 0.5567668642621098.\u001b[0m\n",
      "\u001b[32m[I 2020-11-16 23:20:32,755]\u001b[0m Trial 541 finished with value: 0.5497085180034543 and parameters: {'regressor': 'RandomForestRegressor', 'n_estimators': 100, 'max_depth': 9}. Best is trial 452 with value: 0.5567668642621098.\u001b[0m\n",
      "\u001b[32m[I 2020-11-16 23:20:33,494]\u001b[0m Trial 542 finished with value: 0.543756905835248 and parameters: {'regressor': 'RandomForestRegressor', 'n_estimators': 80, 'max_depth': 7}. Best is trial 452 with value: 0.5567668642621098.\u001b[0m\n",
      "\u001b[32m[I 2020-11-16 23:20:34,658]\u001b[0m Trial 543 finished with value: 0.5523890922925874 and parameters: {'regressor': 'RandomForestRegressor', 'n_estimators': 100, 'max_depth': 9}. Best is trial 452 with value: 0.5567668642621098.\u001b[0m\n",
      "\u001b[32m[I 2020-11-16 23:20:35,705]\u001b[0m Trial 544 finished with value: 0.5514373039164753 and parameters: {'regressor': 'RandomForestRegressor', 'n_estimators': 90, 'max_depth': 9}. Best is trial 452 with value: 0.5567668642621098.\u001b[0m\n",
      "\u001b[32m[I 2020-11-16 23:20:36,886]\u001b[0m Trial 545 finished with value: 0.5542750625210136 and parameters: {'regressor': 'RandomForestRegressor', 'n_estimators': 100, 'max_depth': 9}. Best is trial 452 with value: 0.5567668642621098.\u001b[0m\n",
      "\u001b[32m[I 2020-11-16 23:20:38,094]\u001b[0m Trial 546 finished with value: 0.5504469719326963 and parameters: {'regressor': 'RandomForestRegressor', 'n_estimators': 100, 'max_depth': 9}. Best is trial 452 with value: 0.5567668642621098.\u001b[0m\n",
      "\u001b[32m[I 2020-11-16 23:20:39,017]\u001b[0m Trial 547 finished with value: 0.5477893463487106 and parameters: {'regressor': 'RandomForestRegressor', 'n_estimators': 100, 'max_depth': 7}. Best is trial 452 with value: 0.5567668642621098.\u001b[0m\n",
      "\u001b[32m[I 2020-11-16 23:20:40,078]\u001b[0m Trial 548 finished with value: 0.5524725686331253 and parameters: {'regressor': 'RandomForestRegressor', 'n_estimators': 90, 'max_depth': 9}. Best is trial 452 with value: 0.5567668642621098.\u001b[0m\n",
      "\u001b[32m[I 2020-11-16 23:20:41,460]\u001b[0m Trial 549 finished with value: 0.5502618270662188 and parameters: {'regressor': 'RandomForestRegressor', 'n_estimators': 100, 'max_depth': 11}. Best is trial 452 with value: 0.5567668642621098.\u001b[0m\n",
      "\u001b[32m[I 2020-11-16 23:20:42,621]\u001b[0m Trial 550 finished with value: 0.5524908802305335 and parameters: {'regressor': 'RandomForestRegressor', 'n_estimators': 100, 'max_depth': 9}. Best is trial 452 with value: 0.5567668642621098.\u001b[0m\n",
      "\u001b[32m[I 2020-11-16 23:20:43,792]\u001b[0m Trial 551 finished with value: 0.5497739227521802 and parameters: {'regressor': 'RandomForestRegressor', 'n_estimators': 100, 'max_depth': 9}. Best is trial 452 with value: 0.5567668642621098.\u001b[0m\n",
      "\u001b[32m[I 2020-11-16 23:20:45,202]\u001b[0m Trial 552 finished with value: 0.5520074931544052 and parameters: {'regressor': 'RandomForestRegressor', 'n_estimators': 100, 'max_depth': 11}. Best is trial 452 with value: 0.5567668642621098.\u001b[0m\n",
      "\u001b[32m[I 2020-11-16 23:20:46,041]\u001b[0m Trial 553 finished with value: 0.5470739626935586 and parameters: {'regressor': 'RandomForestRegressor', 'n_estimators': 90, 'max_depth': 7}. Best is trial 452 with value: 0.5567668642621098.\u001b[0m\n",
      "\u001b[32m[I 2020-11-16 23:20:47,278]\u001b[0m Trial 554 finished with value: 0.5506686339932899 and parameters: {'regressor': 'RandomForestRegressor', 'n_estimators': 100, 'max_depth': 9}. Best is trial 452 with value: 0.5567668642621098.\u001b[0m\n",
      "\u001b[32m[I 2020-11-16 23:20:47,309]\u001b[0m Trial 555 finished with value: 0.456244561503356 and parameters: {'regressor': 'DecisionTreeRegressor', 'max_depth': 7, 'min_samples_split': 7}. Best is trial 452 with value: 0.5567668642621098.\u001b[0m\n",
      "\u001b[32m[I 2020-11-16 23:20:48,503]\u001b[0m Trial 556 finished with value: 0.5505971658447321 and parameters: {'regressor': 'RandomForestRegressor', 'n_estimators': 100, 'max_depth': 9}. Best is trial 452 with value: 0.5567668642621098.\u001b[0m\n",
      "\u001b[32m[I 2020-11-16 23:20:49,893]\u001b[0m Trial 557 finished with value: 0.550852215701308 and parameters: {'regressor': 'RandomForestRegressor', 'n_estimators': 100, 'max_depth': 11}. Best is trial 452 with value: 0.5567668642621098.\u001b[0m\n",
      "\u001b[32m[I 2020-11-16 23:20:51,072]\u001b[0m Trial 558 finished with value: 0.5502422374210825 and parameters: {'regressor': 'RandomForestRegressor', 'n_estimators': 100, 'max_depth': 9}. Best is trial 452 with value: 0.5567668642621098.\u001b[0m\n",
      "\u001b[32m[I 2020-11-16 23:20:52,240]\u001b[0m Trial 559 finished with value: 0.5512440248563186 and parameters: {'regressor': 'RandomForestRegressor', 'n_estimators': 100, 'max_depth': 9}. Best is trial 452 with value: 0.5567668642621098.\u001b[0m\n",
      "\u001b[32m[I 2020-11-16 23:20:53,668]\u001b[0m Trial 560 finished with value: 0.549218184335764 and parameters: {'regressor': 'RandomForestRegressor', 'n_estimators': 100, 'max_depth': 11}. Best is trial 452 with value: 0.5567668642621098.\u001b[0m\n"
     ]
    },
    {
     "name": "stderr",
     "output_type": "stream",
     "text": [
      "\u001b[32m[I 2020-11-16 23:20:54,834]\u001b[0m Trial 561 finished with value: 0.550596541958857 and parameters: {'regressor': 'RandomForestRegressor', 'n_estimators': 100, 'max_depth': 9}. Best is trial 452 with value: 0.5567668642621098.\u001b[0m\n",
      "\u001b[32m[I 2020-11-16 23:20:55,767]\u001b[0m Trial 562 finished with value: 0.5462435230615585 and parameters: {'regressor': 'RandomForestRegressor', 'n_estimators': 100, 'max_depth': 7}. Best is trial 452 with value: 0.5567668642621098.\u001b[0m\n",
      "\u001b[32m[I 2020-11-16 23:21:05,903]\u001b[0m Trial 563 finished with value: 0.4879637631089533 and parameters: {'regressor': 'MLPRegressor', 'activation': 'identity', 'learning_rate': 'constant', 'max_iter': 200}. Best is trial 452 with value: 0.5567668642621098.\u001b[0m\n",
      "\u001b[32m[I 2020-11-16 23:21:07,187]\u001b[0m Trial 564 finished with value: 0.5528122148419167 and parameters: {'regressor': 'RandomForestRegressor', 'n_estimators': 90, 'max_depth': 9}. Best is trial 452 with value: 0.5567668642621098.\u001b[0m\n",
      "\u001b[32m[I 2020-11-16 23:21:08,614]\u001b[0m Trial 565 finished with value: 0.5506189488312963 and parameters: {'regressor': 'RandomForestRegressor', 'n_estimators': 100, 'max_depth': 11}. Best is trial 452 with value: 0.5567668642621098.\u001b[0m\n",
      "\u001b[32m[I 2020-11-16 23:21:09,781]\u001b[0m Trial 566 finished with value: 0.5504336440139046 and parameters: {'regressor': 'RandomForestRegressor', 'n_estimators': 100, 'max_depth': 9}. Best is trial 452 with value: 0.5567668642621098.\u001b[0m\n",
      "\u001b[32m[I 2020-11-16 23:21:10,946]\u001b[0m Trial 567 finished with value: 0.5540157497685435 and parameters: {'regressor': 'RandomForestRegressor', 'n_estimators': 100, 'max_depth': 9}. Best is trial 452 with value: 0.5567668642621098.\u001b[0m\n",
      "\u001b[32m[I 2020-11-16 23:21:10,979]\u001b[0m Trial 568 finished with value: -2.1387091749756526e+18 and parameters: {'regressor': 'LinearRegression', 'fit_intercept': True, 'normalize': False}. Best is trial 452 with value: 0.5567668642621098.\u001b[0m\n",
      "\u001b[32m[I 2020-11-16 23:21:12,111]\u001b[0m Trial 569 finished with value: 0.550894988375321 and parameters: {'regressor': 'RandomForestRegressor', 'n_estimators': 70, 'max_depth': 11}. Best is trial 452 with value: 0.5567668642621098.\u001b[0m\n",
      "\u001b[32m[I 2020-11-16 23:21:13,037]\u001b[0m Trial 570 finished with value: 0.546817157727535 and parameters: {'regressor': 'RandomForestRegressor', 'n_estimators': 100, 'max_depth': 7}. Best is trial 452 with value: 0.5567668642621098.\u001b[0m\n",
      "\u001b[32m[I 2020-11-16 23:21:14,210]\u001b[0m Trial 571 finished with value: 0.5512026282971368 and parameters: {'regressor': 'RandomForestRegressor', 'n_estimators': 100, 'max_depth': 9}. Best is trial 452 with value: 0.5567668642621098.\u001b[0m\n",
      "\u001b[32m[I 2020-11-16 23:21:15,388]\u001b[0m Trial 572 finished with value: 0.5521077030590997 and parameters: {'regressor': 'RandomForestRegressor', 'n_estimators': 100, 'max_depth': 9}. Best is trial 452 with value: 0.5567668642621098.\u001b[0m\n",
      "\u001b[32m[I 2020-11-16 23:21:17,223]\u001b[0m Trial 573 finished with value: 0.5413920498788993 and parameters: {'regressor': 'RandomForestRegressor', 'n_estimators': 100, 'max_depth': 15}. Best is trial 452 with value: 0.5567668642621098.\u001b[0m\n",
      "\u001b[32m[I 2020-11-16 23:21:18,409]\u001b[0m Trial 574 finished with value: 0.5531126311740341 and parameters: {'regressor': 'RandomForestRegressor', 'n_estimators': 100, 'max_depth': 9}. Best is trial 452 with value: 0.5567668642621098.\u001b[0m\n",
      "\u001b[32m[I 2020-11-16 23:21:19,833]\u001b[0m Trial 575 finished with value: 0.5502847343485527 and parameters: {'regressor': 'RandomForestRegressor', 'n_estimators': 100, 'max_depth': 11}. Best is trial 452 with value: 0.5567668642621098.\u001b[0m\n",
      "\u001b[32m[I 2020-11-16 23:21:20,984]\u001b[0m Trial 576 finished with value: 0.5531011021878485 and parameters: {'regressor': 'RandomForestRegressor', 'n_estimators': 100, 'max_depth': 9}. Best is trial 452 with value: 0.5567668642621098.\u001b[0m\n",
      "\u001b[32m[I 2020-11-16 23:21:21,740]\u001b[0m Trial 577 finished with value: 0.5491191425937032 and parameters: {'regressor': 'RandomForestRegressor', 'n_estimators': 80, 'max_depth': 7}. Best is trial 452 with value: 0.5567668642621098.\u001b[0m\n",
      "\u001b[32m[I 2020-11-16 23:21:23,005]\u001b[0m Trial 578 finished with value: 0.5509146603892243 and parameters: {'regressor': 'RandomForestRegressor', 'n_estimators': 90, 'max_depth': 11}. Best is trial 452 with value: 0.5567668642621098.\u001b[0m\n",
      "\u001b[32m[I 2020-11-16 23:21:24,153]\u001b[0m Trial 579 finished with value: 0.5502305816200153 and parameters: {'regressor': 'RandomForestRegressor', 'n_estimators': 100, 'max_depth': 9}. Best is trial 452 with value: 0.5567668642621098.\u001b[0m\n",
      "\u001b[32m[I 2020-11-16 23:21:25,348]\u001b[0m Trial 580 finished with value: 0.5538137701653036 and parameters: {'regressor': 'RandomForestRegressor', 'n_estimators': 100, 'max_depth': 9}. Best is trial 452 with value: 0.5567668642621098.\u001b[0m\n",
      "\u001b[32m[I 2020-11-16 23:21:26,513]\u001b[0m Trial 581 finished with value: 0.5508290898658572 and parameters: {'regressor': 'RandomForestRegressor', 'n_estimators': 100, 'max_depth': 9}. Best is trial 452 with value: 0.5567668642621098.\u001b[0m\n",
      "\u001b[32m[I 2020-11-16 23:21:27,541]\u001b[0m Trial 582 finished with value: 0.5450774139539905 and parameters: {'regressor': 'RandomForestRegressor', 'n_estimators': 100, 'max_depth': 7}. Best is trial 452 with value: 0.5567668642621098.\u001b[0m\n",
      "\u001b[32m[I 2020-11-16 23:21:28,970]\u001b[0m Trial 583 finished with value: 0.5527943146961983 and parameters: {'regressor': 'RandomForestRegressor', 'n_estimators': 100, 'max_depth': 11}. Best is trial 452 with value: 0.5567668642621098.\u001b[0m\n",
      "\u001b[32m[I 2020-11-16 23:21:30,148]\u001b[0m Trial 584 finished with value: 0.5519477521406397 and parameters: {'regressor': 'RandomForestRegressor', 'n_estimators': 100, 'max_depth': 9}. Best is trial 452 with value: 0.5567668642621098.\u001b[0m\n",
      "\u001b[32m[I 2020-11-16 23:21:30,182]\u001b[0m Trial 585 finished with value: 0.40737008483436743 and parameters: {'regressor': 'DecisionTreeRegressor', 'max_depth': 9, 'min_samples_split': 3}. Best is trial 452 with value: 0.5567668642621098.\u001b[0m\n",
      "\u001b[32m[I 2020-11-16 23:21:31,457]\u001b[0m Trial 586 finished with value: 0.5432384633578009 and parameters: {'regressor': 'RandomForestRegressor', 'n_estimators': 90, 'max_depth': 11}. Best is trial 452 with value: 0.5567668642621098.\u001b[0m\n",
      "\u001b[32m[I 2020-11-16 23:21:32,399]\u001b[0m Trial 587 finished with value: 0.5481465448681908 and parameters: {'regressor': 'RandomForestRegressor', 'n_estimators': 100, 'max_depth': 7}. Best is trial 452 with value: 0.5567668642621098.\u001b[0m\n",
      "\u001b[32m[I 2020-11-16 23:21:33,588]\u001b[0m Trial 588 finished with value: 0.5538780569074246 and parameters: {'regressor': 'RandomForestRegressor', 'n_estimators': 100, 'max_depth': 9}. Best is trial 452 with value: 0.5567668642621098.\u001b[0m\n",
      "\u001b[32m[I 2020-11-16 23:21:35,038]\u001b[0m Trial 589 finished with value: 0.5499769215223614 and parameters: {'regressor': 'RandomForestRegressor', 'n_estimators': 100, 'max_depth': 11}. Best is trial 452 with value: 0.5567668642621098.\u001b[0m\n",
      "\u001b[32m[I 2020-11-16 23:21:36,361]\u001b[0m Trial 590 finished with value: 0.5508102695602795 and parameters: {'regressor': 'RandomForestRegressor', 'n_estimators': 100, 'max_depth': 9}. Best is trial 452 with value: 0.5567668642621098.\u001b[0m\n",
      "\u001b[32m[I 2020-11-16 23:21:49,841]\u001b[0m Trial 591 finished with value: 0.4815009978084429 and parameters: {'regressor': 'MLPRegressor', 'activation': 'logistic', 'learning_rate': 'invscaling', 'max_iter': 170}. Best is trial 452 with value: 0.5567668642621098.\u001b[0m\n",
      "\u001b[32m[I 2020-11-16 23:21:51,208]\u001b[0m Trial 592 finished with value: 0.5506057209558788 and parameters: {'regressor': 'RandomForestRegressor', 'n_estimators': 100, 'max_depth': 9}. Best is trial 452 with value: 0.5567668642621098.\u001b[0m\n",
      "\u001b[32m[I 2020-11-16 23:21:52,733]\u001b[0m Trial 593 finished with value: 0.5415741152972735 and parameters: {'regressor': 'RandomForestRegressor', 'n_estimators': 90, 'max_depth': 13}. Best is trial 452 with value: 0.5567668642621098.\u001b[0m\n",
      "\u001b[32m[I 2020-11-16 23:21:53,683]\u001b[0m Trial 594 finished with value: 0.5439297081304213 and parameters: {'regressor': 'RandomForestRegressor', 'n_estimators': 100, 'max_depth': 7}. Best is trial 452 with value: 0.5567668642621098.\u001b[0m\n",
      "\u001b[32m[I 2020-11-16 23:21:54,927]\u001b[0m Trial 595 finished with value: 0.5510309150681741 and parameters: {'regressor': 'RandomForestRegressor', 'n_estimators': 100, 'max_depth': 9}. Best is trial 452 with value: 0.5567668642621098.\u001b[0m\n"
     ]
    },
    {
     "name": "stderr",
     "output_type": "stream",
     "text": [
      "\u001b[32m[I 2020-11-16 23:21:56,314]\u001b[0m Trial 596 finished with value: 0.5491137117977847 and parameters: {'regressor': 'RandomForestRegressor', 'n_estimators': 100, 'max_depth': 11}. Best is trial 452 with value: 0.5567668642621098.\u001b[0m\n",
      "\u001b[32m[I 2020-11-16 23:21:56,383]\u001b[0m Trial 597 finished with value: 0.5008836724365376 and parameters: {'regressor': 'LinearRegression', 'fit_intercept': False, 'normalize': False}. Best is trial 452 with value: 0.5567668642621098.\u001b[0m\n",
      "\u001b[32m[I 2020-11-16 23:21:57,822]\u001b[0m Trial 598 finished with value: 0.5535760255080561 and parameters: {'regressor': 'RandomForestRegressor', 'n_estimators': 100, 'max_depth': 9}. Best is trial 452 with value: 0.5567668642621098.\u001b[0m\n",
      "\u001b[32m[I 2020-11-16 23:21:58,983]\u001b[0m Trial 599 finished with value: 0.5508669429117113 and parameters: {'regressor': 'RandomForestRegressor', 'n_estimators': 100, 'max_depth': 9}. Best is trial 452 with value: 0.5567668642621098.\u001b[0m\n"
     ]
    }
   ],
   "source": [
    "import optuna\n",
    "from sklearn.linear_model import LinearRegression\n",
    "from sklearn.neural_network import MLPRegressor\n",
    "from sklearn.tree import DecisionTreeRegressor\n",
    "from sklearn.ensemble import RandomForestRegressor\n",
    "\n",
    "from sklearn.metrics import mean_absolute_error, mean_squared_error, r2_score\n",
    "\n",
    "def objective(trial):\n",
    "    regressor_name = trial.suggest_categorical('regressor', ['LinearRegression', 'MLPRegressor', 'DecisionTreeRegressor', 'RandomForestRegressor'])\n",
    "    if regressor_name == 'LinearRegression':\n",
    "        fit_intercept = trial.suggest_categorical('fit_intercept', [True, False])\n",
    "        normalize = trial.suggest_categorical('normalize', [True, False])\n",
    "        regressor_obj = LinearRegression(fit_intercept=fit_intercept, normalize=normalize)\n",
    "    if regressor_name == 'MLPRegressor':\n",
    "        activation = trial.suggest_categorical('activation', ['identity', 'logistic', 'tanh', 'relu'])\n",
    "        learning_rate = trial.suggest_categorical('learning_rate', ['constant', 'invscaling', 'adaptive'])\n",
    "        max_iter = trial.suggest_int('max_iter', 150, 200, step=10)\n",
    "        regressor_obj = MLPRegressor(activation=activation, learning_rate=learning_rate, max_iter=max_iter)\n",
    "    if regressor_name == 'DecisionTreeRegressor':\n",
    "        dt_max_depth = trial.suggest_int('max_depth', 1, 32, step=2)\n",
    "        min_samples_split = trial.suggest_int('min_samples_split', 2, 10)\n",
    "        regressor_obj = DecisionTreeRegressor(max_depth=dt_max_depth, min_samples_split=min_samples_split)\n",
    "    if regressor_name == 'RandomForestRegressor':\n",
    "        n_estimators = trial.suggest_int('n_estimators', 10, 100, step=10)\n",
    "        rf_max_depth = trial.suggest_int('max_depth', 1, 32, step=2)\n",
    "        regressor_obj = RandomForestRegressor(n_estimators=n_estimators, max_depth=rf_max_depth)\n",
    "        \n",
    "    regressor_obj.fit(X_train, y_train)\n",
    "    y_pred = regressor_obj.predict(X_test)\n",
    "\n",
    "    r2 = r2_score(y_test, y_pred)\n",
    "\n",
    "    return r2\n",
    "\n",
    "study = optuna.create_study(direction='maximize')  # Create a new study.\n",
    "study.optimize(objective, n_trials=600)  # Invoke optimization of the objective function."
   ]
  },
  {
   "cell_type": "markdown",
   "metadata": {},
   "source": [
    "Utilizamos um valor de n_trials de 600 pois todas as vezes que rodamos, o algoritmo sempre retornava abaixo de 500, demos uma margem de segurança."
   ]
  },
  {
   "cell_type": "markdown",
   "metadata": {
    "id": "hcXNfElvYPye"
   },
   "source": [
    "Como podemos ver nos logs do optuna o algortimo que apresentou o melhor desempenho, com um `r2 score` de `0.5567668642621098`, foi o `random forest` com os hiper parâmetros `'n_estimators': 100` e  `max_depth': 9`. Sendo assim, utilizaremos ele para tentar melhorar o score e minimizar o erro."
   ]
  },
  {
   "cell_type": "markdown",
   "metadata": {
    "id": "dM7D9rK1OrB1"
   },
   "source": [
    "### Diagnóstico de Regressor"
   ]
  },
  {
   "cell_type": "markdown",
   "metadata": {
    "id": "x86CG_u_ZWKm"
   },
   "source": [
    "Agora iremos tentar melhorar o modelo ajustando a quantidade de features ordenadas pelo valor de seu mutual information com o target. Iremos iterar de 1 até a quantidade total de features para definir o melhor conjunto de features que predizem melhor o target no modelo retornado pelo optuna. Além disso, vamos reduzir o número de dados de treinamento para 60% do dataset utilizando o algoritmo `random forest` com os hiper parâmentros que foram definidos na etapa anterior."
   ]
  },
  {
   "cell_type": "markdown",
   "metadata": {
    "id": "nsm4-JyodjG_"
   },
   "source": [
    "Para isso, ordenamos todos os mutual information em ordem decrescente, para a cada iteração adicionarmos a próxima feature com maior valor de MI."
   ]
  },
  {
   "cell_type": "code",
   "execution_count": 37,
   "metadata": {
    "id": "7uutaZHYOrB2",
    "outputId": "ae6f7ade-2100-4544-fcf3-13337a32d567"
   },
   "outputs": [
    {
     "data": {
      "text/plain": [
       "147"
      ]
     },
     "execution_count": 37,
     "metadata": {},
     "output_type": "execute_result"
    }
   ],
   "source": [
    "with_mutual_information = df[(df['mutual_information_score'] != None) & (df['mutual_information_score'] != 0)]\n",
    "with_mutual_information = with_mutual_information.sort_values(by='mutual_information_score', ascending=False)\n",
    "total_features = with_mutual_information.shape[0]\n",
    "features_ordered = with_mutual_information.index\n",
    "total_features"
   ]
  },
  {
   "cell_type": "code",
   "execution_count": 42,
   "metadata": {
    "id": "np8fSB-qOrB4",
    "outputId": "f3cadfc0-61b2-4558-a408-751c821ac87d",
    "scrolled": true
   },
   "outputs": [
    {
     "name": "stdout",
     "output_type": "stream",
     "text": [
      "Running trial with 1 features\n",
      "RandomForestRegressor\n",
      "  RMSE: 0.7903209851484867\n",
      "  MAE: 0.6150528478107631\n",
      "  R2: 0.3829329683471303\n",
      "Running trial with 2 features\n",
      "RandomForestRegressor\n",
      "  RMSE: 0.77905667770092\n",
      "  MAE: 0.6083106188521783\n",
      "  R2: 0.40039751347551633\n",
      "Running trial with 3 features\n",
      "RandomForestRegressor\n",
      "  RMSE: 0.7574861948046685\n",
      "  MAE: 0.5909216843343685\n",
      "  R2: 0.4331413728402371\n",
      "Running trial with 4 features\n",
      "RandomForestRegressor\n",
      "  RMSE: 0.7111357536902014\n",
      "  MAE: 0.5524524049769859\n",
      "  R2: 0.5003908949200402\n",
      "Running trial with 5 features\n",
      "RandomForestRegressor\n",
      "  RMSE: 0.7128714578480723\n",
      "  MAE: 0.5525257089597698\n",
      "  R2: 0.4979490773817956\n",
      "Running trial with 6 features\n",
      "RandomForestRegressor\n",
      "  RMSE: 0.7102486949586072\n",
      "  MAE: 0.550954060335112\n",
      "  R2: 0.5016365254694506\n",
      "Running trial with 7 features\n",
      "RandomForestRegressor\n",
      "  RMSE: 0.7116342858110006\n",
      "  MAE: 0.5513879505594728\n",
      "  R2: 0.4996901609478561\n",
      "Running trial with 8 features\n",
      "RandomForestRegressor\n",
      "  RMSE: 0.7103707548129201\n",
      "  MAE: 0.5508252835344455\n",
      "  R2: 0.5014652181498727\n",
      "Running trial with 9 features\n",
      "RandomForestRegressor\n",
      "  RMSE: 0.7085082588807771\n",
      "  MAE: 0.5488457701774924\n",
      "  R2: 0.5040759725239634\n",
      "Running trial with 10 features\n",
      "RandomForestRegressor\n",
      "  RMSE: 0.7079101657788806\n",
      "  MAE: 0.548518190840995\n",
      "  R2: 0.5049128958592172\n",
      "Running trial with 11 features\n",
      "RandomForestRegressor\n",
      "  RMSE: 0.7101464363668313\n",
      "  MAE: 0.5501684122820313\n",
      "  R2: 0.5017800196534381\n",
      "Running trial with 12 features\n",
      "RandomForestRegressor\n",
      "  RMSE: 0.7086539708213329\n",
      "  MAE: 0.5474660023568445\n",
      "  R2: 0.5038719678924874\n",
      "Running trial with 13 features\n",
      "RandomForestRegressor\n",
      "  RMSE: 0.7086877302576307\n",
      "  MAE: 0.5472037990944489\n",
      "  R2: 0.5038246968622344\n",
      "Running trial with 14 features\n",
      "RandomForestRegressor\n",
      "  RMSE: 0.7074861398973472\n",
      "  MAE: 0.5466004859218844\n",
      "  R2: 0.505505815367314\n",
      "Running trial with 15 features\n",
      "RandomForestRegressor\n",
      "  RMSE: 0.7085327343430685\n",
      "  MAE: 0.5482028345237016\n",
      "  R2: 0.5040417084788087\n",
      "Running trial with 16 features\n",
      "RandomForestRegressor\n",
      "  RMSE: 0.7071423535686274\n",
      "  MAE: 0.5462885163554867\n",
      "  R2: 0.5059862743526724\n",
      "Running trial with 17 features\n",
      "RandomForestRegressor\n",
      "  RMSE: 0.6809915766858253\n",
      "  MAE: 0.5185871467951548\n",
      "  R2: 0.5418488338189216\n",
      "Running trial with 18 features\n",
      "RandomForestRegressor\n",
      "  RMSE: 0.6798792071288371\n",
      "  MAE: 0.5188959929348582\n",
      "  R2: 0.5433443506370399\n",
      "Running trial with 19 features\n",
      "RandomForestRegressor\n",
      "  RMSE: 0.6808238418230853\n",
      "  MAE: 0.5191161400413133\n",
      "  R2: 0.5420745002189417\n",
      "Running trial with 20 features\n",
      "RandomForestRegressor\n",
      "  RMSE: 0.6782190391347033\n",
      "  MAE: 0.5173794797938108\n",
      "  R2: 0.5455718035987791\n",
      "Running trial with 21 features\n",
      "RandomForestRegressor\n",
      "  RMSE: 0.6737757522567978\n",
      "  MAE: 0.5142913383569836\n",
      "  R2: 0.5515065844775482\n",
      "Running trial with 22 features\n",
      "RandomForestRegressor\n",
      "  RMSE: 0.676220030203548\n",
      "  MAE: 0.5152505321009208\n",
      "  R2: 0.5482466541570088\n",
      "Running trial with 23 features\n",
      "RandomForestRegressor\n",
      "  RMSE: 0.6756686583150948\n",
      "  MAE: 0.5163251528882603\n",
      "  R2: 0.548983049223724\n",
      "Running trial with 24 features\n",
      "RandomForestRegressor\n",
      "  RMSE: 0.675307261487691\n",
      "  MAE: 0.5152215492643248\n",
      "  R2: 0.549465393645111\n",
      "Running trial with 25 features\n",
      "RandomForestRegressor\n",
      "  RMSE: 0.6774154704477247\n",
      "  MAE: 0.5159648713851891\n",
      "  R2: 0.5466479985174142\n",
      "Running trial with 26 features\n",
      "RandomForestRegressor\n",
      "  RMSE: 0.6744005986595755\n",
      "  MAE: 0.5133468352255736\n",
      "  R2: 0.5506743507834053\n",
      "Running trial with 27 features\n",
      "RandomForestRegressor\n",
      "  RMSE: 0.6744010871816687\n",
      "  MAE: 0.5139406976700202\n",
      "  R2: 0.5506736998184252\n",
      "Running trial with 28 features\n",
      "RandomForestRegressor\n",
      "  RMSE: 0.6754383485583868\n",
      "  MAE: 0.5151245722028645\n",
      "  R2: 0.5492904658831923\n",
      "Running trial with 29 features\n",
      "RandomForestRegressor\n",
      "  RMSE: 0.674947346742324\n",
      "  MAE: 0.5156747933778691\n",
      "  R2: 0.5499455035038403\n",
      "Running trial with 30 features\n",
      "RandomForestRegressor\n",
      "  RMSE: 0.6745261385727778\n",
      "  MAE: 0.5132888793290599\n",
      "  R2: 0.5505070509520372\n",
      "Running trial with 31 features\n",
      "RandomForestRegressor\n",
      "  RMSE: 0.6751592051752016\n",
      "  MAE: 0.5162316327343903\n",
      "  R2: 0.5496629250031366\n",
      "Running trial with 32 features\n",
      "RandomForestRegressor\n",
      "  RMSE: 0.6773882325867194\n",
      "  MAE: 0.5158497017630439\n",
      "  R2: 0.5466844549937935\n",
      "Running trial with 33 features\n",
      "RandomForestRegressor\n",
      "  RMSE: 0.675584079351949\n",
      "  MAE: 0.5147318342119328\n",
      "  R2: 0.5490959571055123\n",
      "Running trial with 34 features\n",
      "RandomForestRegressor\n",
      "  RMSE: 0.6757286266473227\n",
      "  MAE: 0.5126634773064368\n",
      "  R2: 0.5489029865058065\n",
      "Running trial with 35 features\n",
      "RandomForestRegressor\n",
      "  RMSE: 0.6773406035266295\n",
      "  MAE: 0.5166484094872389\n",
      "  R2: 0.546748200518834\n",
      "Running trial with 36 features\n",
      "RandomForestRegressor\n",
      "  RMSE: 0.6733800215262611\n",
      "  MAE: 0.5130862164013388\n",
      "  R2: 0.5520332597271989\n",
      "Running trial with 37 features\n",
      "RandomForestRegressor\n",
      "  RMSE: 0.6763405494636894\n",
      "  MAE: 0.5144393143840064\n",
      "  R2: 0.5480856124004759\n",
      "Running trial with 38 features\n",
      "RandomForestRegressor\n",
      "  RMSE: 0.6765280177590122\n",
      "  MAE: 0.5137912948216691\n",
      "  R2: 0.5478350541240327\n",
      "Running trial with 39 features\n",
      "RandomForestRegressor\n",
      "  RMSE: 0.677463950354077\n",
      "  MAE: 0.5157270673540746\n",
      "  R2: 0.5465831070291309\n",
      "Running trial with 40 features\n",
      "RandomForestRegressor\n",
      "  RMSE: 0.6752063046546392\n",
      "  MAE: 0.5148190144542036\n",
      "  R2: 0.549600091284884\n",
      "Running trial with 41 features\n",
      "RandomForestRegressor\n",
      "  RMSE: 0.6770876537939188\n",
      "  MAE: 0.5152014084786896\n",
      "  R2: 0.5470866669069103\n",
      "Running trial with 42 features\n",
      "RandomForestRegressor\n",
      "  RMSE: 0.6743156363178981\n",
      "  MAE: 0.5135268998639475\n",
      "  R2: 0.5507875575470992\n",
      "Running trial with 43 features\n",
      "RandomForestRegressor\n",
      "  RMSE: 0.6731987683121504\n",
      "  MAE: 0.5136762211007561\n",
      "  R2: 0.5522743850390248\n",
      "Running trial with 44 features\n",
      "RandomForestRegressor\n",
      "  RMSE: 0.6749286316903879\n",
      "  MAE: 0.5146565426248149\n",
      "  R2: 0.5499704615292103\n",
      "Running trial with 45 features\n",
      "RandomForestRegressor\n",
      "  RMSE: 0.6762116795459633\n",
      "  MAE: 0.5143652226310498\n",
      "  R2: 0.5482578115142075\n",
      "Running trial with 46 features\n",
      "RandomForestRegressor\n",
      "  RMSE: 0.6782753090975833\n",
      "  MAE: 0.5161667688264195\n",
      "  R2: 0.5454963951627694\n",
      "Running trial with 47 features\n",
      "RandomForestRegressor\n",
      "  RMSE: 0.6744698193561633\n",
      "  MAE: 0.5128482447478577\n",
      "  R2: 0.550582108188462\n",
      "Running trial with 48 features\n",
      "RandomForestRegressor\n",
      "  RMSE: 0.6767973429635823\n",
      "  MAE: 0.5139085951874693\n",
      "  R2: 0.5474749695348093\n",
      "Running trial with 49 features\n",
      "RandomForestRegressor\n",
      "  RMSE: 0.6752085752708273\n",
      "  MAE: 0.5130804354065224\n",
      "  R2: 0.5495970620269033\n",
      "Running trial with 50 features\n",
      "RandomForestRegressor\n",
      "  RMSE: 0.6771871965150906\n",
      "  MAE: 0.5152017032911509\n",
      "  R2: 0.5469534861010581\n",
      "Running trial with 51 features\n",
      "RandomForestRegressor\n",
      "  RMSE: 0.6769886693554154\n",
      "  MAE: 0.5167768822075605\n",
      "  R2: 0.5472190813579305\n",
      "Running trial with 52 features\n",
      "RandomForestRegressor\n",
      "  RMSE: 0.6748667557310017\n",
      "  MAE: 0.5135536076402765\n",
      "  R2: 0.5500529731658704\n",
      "Running trial with 53 features\n",
      "RandomForestRegressor\n",
      "  RMSE: 0.6747731470808321\n",
      "  MAE: 0.5136448728941154\n",
      "  R2: 0.5501777859896746\n",
      "Running trial with 54 features\n",
      "RandomForestRegressor\n",
      "  RMSE: 0.6751771140542036\n",
      "  MAE: 0.5146292831099751\n",
      "  R2: 0.5496390339294799\n",
      "Running trial with 55 features\n",
      "RandomForestRegressor\n",
      "  RMSE: 0.6729109603926238\n",
      "  MAE: 0.5138860731598418\n",
      "  R2: 0.5526571291518786\n",
      "Running trial with 56 features\n",
      "RandomForestRegressor\n",
      "  RMSE: 0.674906116480485\n",
      "  MAE: 0.5136335136046376\n",
      "  R2: 0.5500004864534414\n",
      "Running trial with 57 features\n",
      "RandomForestRegressor\n",
      "  RMSE: 0.6735295594396389\n",
      "  MAE: 0.5138889506408849\n",
      "  R2: 0.5518342771393709\n",
      "Running trial with 58 features\n",
      "RandomForestRegressor\n",
      "  RMSE: 0.6724954630066359\n",
      "  MAE: 0.5127741865787988\n",
      "  R2: 0.5532093936284194\n",
      "Running trial with 59 features\n",
      "RandomForestRegressor\n",
      "  RMSE: 0.6725104729650407\n",
      "  MAE: 0.5130672444983678\n",
      "  R2: 0.5531894488596354\n",
      "Running trial with 60 features\n",
      "RandomForestRegressor\n",
      "  RMSE: 0.676294445674302\n",
      "  MAE: 0.5168397342940206\n",
      "  R2: 0.548147221173275\n",
      "Running trial with 61 features\n",
      "RandomForestRegressor\n",
      "  RMSE: 0.6737763664590823\n",
      "  MAE: 0.5148014774918618\n",
      "  R2: 0.5515057667995447\n",
      "Running trial with 62 features\n",
      "RandomForestRegressor\n",
      "  RMSE: 0.6714489274141315\n",
      "  MAE: 0.5123856184352116\n",
      "  R2: 0.5545989002423433\n",
      "Running trial with 63 features\n",
      "RandomForestRegressor\n",
      "  RMSE: 0.6730498889029426\n",
      "  MAE: 0.5136251736545046\n",
      "  R2: 0.5524723941783575\n",
      "Running trial with 64 features\n"
     ]
    },
    {
     "name": "stdout",
     "output_type": "stream",
     "text": [
      "RandomForestRegressor\n",
      "  RMSE: 0.6744132113000603\n",
      "  MAE: 0.514584362309589\n",
      "  R2: 0.5506575440490127\n",
      "Running trial with 65 features\n",
      "RandomForestRegressor\n",
      "  RMSE: 0.6740199410635712\n",
      "  MAE: 0.5146544993329719\n",
      "  R2: 0.5511814409349897\n",
      "Running trial with 66 features\n",
      "RandomForestRegressor\n",
      "  RMSE: 0.6745045930883191\n",
      "  MAE: 0.5153482177671133\n",
      "  R2: 0.5505357655951741\n",
      "Running trial with 67 features\n",
      "RandomForestRegressor\n",
      "  RMSE: 0.6712219261935024\n",
      "  MAE: 0.5116869601197541\n",
      "  R2: 0.5549000087803029\n",
      "Running trial with 68 features\n",
      "RandomForestRegressor\n",
      "  RMSE: 0.6739448685045414\n",
      "  MAE: 0.514032060557458\n",
      "  R2: 0.5512814144796714\n",
      "Running trial with 69 features\n",
      "RandomForestRegressor\n",
      "  RMSE: 0.6745652590577911\n",
      "  MAE: 0.5138264906702261\n",
      "  R2: 0.5504549109648913\n",
      "Running trial with 70 features\n",
      "RandomForestRegressor\n",
      "  RMSE: 0.6741399465782989\n",
      "  MAE: 0.5148359222666568\n",
      "  R2: 0.5510216073938198\n",
      "Running trial with 71 features\n",
      "RandomForestRegressor\n",
      "  RMSE: 0.6741989661590708\n",
      "  MAE: 0.5144871344525594\n",
      "  R2: 0.5509429896629245\n",
      "Running trial with 72 features\n",
      "RandomForestRegressor\n",
      "  RMSE: 0.671109909305714\n",
      "  MAE: 0.5114865019769709\n",
      "  R2: 0.5550485574301282\n",
      "Running trial with 73 features\n",
      "RandomForestRegressor\n",
      "  RMSE: 0.6764316105525707\n",
      "  MAE: 0.5164434459604215\n",
      "  R2: 0.5479639145766616\n",
      "Running trial with 74 features\n",
      "RandomForestRegressor\n",
      "  RMSE: 0.6745674244691091\n",
      "  MAE: 0.5141841207635471\n",
      "  R2: 0.5504520248050331\n",
      "Running trial with 75 features\n",
      "RandomForestRegressor\n",
      "  RMSE: 0.6723342484192277\n",
      "  MAE: 0.5126162692419811\n",
      "  R2: 0.5534235825221665\n",
      "Running trial with 76 features\n",
      "RandomForestRegressor\n",
      "  RMSE: 0.6755844030307302\n",
      "  MAE: 0.5153372767909751\n",
      "  R2: 0.5490955250405467\n",
      "Running trial with 77 features\n",
      "RandomForestRegressor\n",
      "  RMSE: 0.6763436775180444\n",
      "  MAE: 0.5147665221606849\n",
      "  R2: 0.5480814322103682\n",
      "Running trial with 78 features\n",
      "RandomForestRegressor\n",
      "  RMSE: 0.6767112672659414\n",
      "  MAE: 0.5158150185378237\n",
      "  R2: 0.5475900672997889\n",
      "Running trial with 79 features\n",
      "RandomForestRegressor\n",
      "  RMSE: 0.6754456340668282\n",
      "  MAE: 0.5157155109161476\n",
      "  R2: 0.5492807428171811\n",
      "Running trial with 80 features\n",
      "RandomForestRegressor\n",
      "  RMSE: 0.6725943919030329\n",
      "  MAE: 0.5132684019965705\n",
      "  R2: 0.5530779317669032\n",
      "Running trial with 81 features\n",
      "RandomForestRegressor\n",
      "  RMSE: 0.6729211700579149\n",
      "  MAE: 0.5135888333439078\n",
      "  R2: 0.5526435545308712\n",
      "Running trial with 82 features\n",
      "RandomForestRegressor\n",
      "  RMSE: 0.6742016108875032\n",
      "  MAE: 0.5139439909860302\n",
      "  R2: 0.5509394665600069\n",
      "Running trial with 83 features\n",
      "RandomForestRegressor\n",
      "  RMSE: 0.6730997112693877\n",
      "  MAE: 0.5128649609498518\n",
      "  R2: 0.5524061354655931\n",
      "Running trial with 84 features\n",
      "RandomForestRegressor\n",
      "  RMSE: 0.6715947894395453\n",
      "  MAE: 0.5119759909780286\n",
      "  R2: 0.5544053660495394\n",
      "Running trial with 85 features\n",
      "RandomForestRegressor\n",
      "  RMSE: 0.6737901317568925\n",
      "  MAE: 0.5137847813999148\n",
      "  R2: 0.5514874410758843\n",
      "Running trial with 86 features\n",
      "RandomForestRegressor\n",
      "  RMSE: 0.6732313164561161\n",
      "  MAE: 0.5136868762543111\n",
      "  R2: 0.5522310902775328\n",
      "Running trial with 87 features\n",
      "RandomForestRegressor\n",
      "  RMSE: 0.6740874486954463\n",
      "  MAE: 0.5138966911818503\n",
      "  R2: 0.5510915320360794\n",
      "Running trial with 88 features\n",
      "RandomForestRegressor\n",
      "  RMSE: 0.672438743259464\n",
      "  MAE: 0.5119987297217143\n",
      "  R2: 0.5532847570559292\n",
      "Running trial with 89 features\n",
      "RandomForestRegressor\n",
      "  RMSE: 0.6744457150539265\n",
      "  MAE: 0.5137508391025293\n",
      "  R2: 0.5506142303407364\n",
      "Running trial with 90 features\n",
      "RandomForestRegressor\n",
      "  RMSE: 0.6725594563925681\n",
      "  MAE: 0.5139333859867308\n",
      "  R2: 0.553124358098396\n",
      "Running trial with 91 features\n",
      "RandomForestRegressor\n",
      "  RMSE: 0.6720547072446518\n",
      "  MAE: 0.5124661264546702\n",
      "  R2: 0.5537948578052443\n",
      "Running trial with 92 features\n",
      "RandomForestRegressor\n",
      "  RMSE: 0.673449507279887\n",
      "  MAE: 0.5123266691255606\n",
      "  R2: 0.5519408040214819\n",
      "Running trial with 93 features\n",
      "RandomForestRegressor\n",
      "  RMSE: 0.6743873832991508\n",
      "  MAE: 0.5152735018934762\n",
      "  R2: 0.5506919603235942\n",
      "Running trial with 94 features\n",
      "RandomForestRegressor\n",
      "  RMSE: 0.673344618791668\n",
      "  MAE: 0.5130289808199578\n",
      "  R2: 0.5520803618989535\n",
      "Running trial with 95 features\n",
      "RandomForestRegressor\n",
      "  RMSE: 0.6724051153963508\n",
      "  MAE: 0.5128137698708427\n",
      "  R2: 0.5533294353365091\n",
      "Running trial with 96 features\n",
      "RandomForestRegressor\n",
      "  RMSE: 0.6724833128011344\n",
      "  MAE: 0.5128591498143716\n",
      "  R2: 0.5532255381199203\n",
      "Running trial with 97 features\n",
      "RandomForestRegressor\n",
      "  RMSE: 0.673293516380374\n",
      "  MAE: 0.5135525867410015\n",
      "  R2: 0.5521483476059532\n",
      "Running trial with 98 features\n",
      "RandomForestRegressor\n",
      "  RMSE: 0.6701813363880458\n",
      "  MAE: 0.5115575250386794\n",
      "  R2: 0.5562790087014992\n",
      "Running trial with 99 features\n",
      "RandomForestRegressor\n",
      "  RMSE: 0.6706245940298812\n",
      "  MAE: 0.5107943992061487\n",
      "  R2: 0.555691860858115\n",
      "Running trial with 100 features\n",
      "RandomForestRegressor\n",
      "  RMSE: 0.6709765539993008\n",
      "  MAE: 0.512187932986468\n",
      "  R2: 0.5552253712121644\n",
      "Running trial with 101 features\n",
      "RandomForestRegressor\n",
      "  RMSE: 0.6724941202460453\n",
      "  MAE: 0.5123066192286394\n",
      "  R2: 0.553211177825496\n",
      "Running trial with 102 features\n",
      "RandomForestRegressor\n",
      "  RMSE: 0.6726685787011936\n",
      "  MAE: 0.5141413061263126\n",
      "  R2: 0.5529793358041728\n",
      "Running trial with 103 features\n",
      "RandomForestRegressor\n",
      "  RMSE: 0.672262846708343\n",
      "  MAE: 0.5132481995909436\n",
      "  R2: 0.5535184300690956\n",
      "Running trial with 104 features\n",
      "RandomForestRegressor\n",
      "  RMSE: 0.674402402699021\n",
      "  MAE: 0.5152303328311872\n",
      "  R2: 0.5506719468641892\n",
      "Running trial with 105 features\n",
      "RandomForestRegressor\n",
      "  RMSE: 0.6701398776851988\n",
      "  MAE: 0.5116152119760102\n",
      "  R2: 0.5563339058665424\n",
      "Running trial with 106 features\n",
      "RandomForestRegressor\n",
      "  RMSE: 0.6720087379811621\n",
      "  MAE: 0.513088308972008\n",
      "  R2: 0.5538558975391201\n",
      "Running trial with 107 features\n",
      "RandomForestRegressor\n",
      "  RMSE: 0.6723376581736479\n",
      "  MAE: 0.5130922172085702\n",
      "  R2: 0.5534190528710942\n",
      "Running trial with 108 features\n",
      "RandomForestRegressor\n",
      "  RMSE: 0.6716789353788641\n",
      "  MAE: 0.5127507520741098\n",
      "  R2: 0.5542936995251923\n",
      "Running trial with 109 features\n",
      "RandomForestRegressor\n",
      "  RMSE: 0.6718828277924698\n",
      "  MAE: 0.5134921755178764\n",
      "  R2: 0.5540230644893445\n",
      "Running trial with 110 features\n",
      "RandomForestRegressor\n",
      "  RMSE: 0.6737373928870459\n",
      "  MAE: 0.5133854087853167\n",
      "  R2: 0.5515576502363653\n",
      "Running trial with 111 features\n",
      "RandomForestRegressor\n",
      "  RMSE: 0.6728463821495532\n",
      "  MAE: 0.5126411863061625\n",
      "  R2: 0.5527429866639462\n",
      "Running trial with 112 features\n",
      "RandomForestRegressor\n",
      "  RMSE: 0.6723443017867455\n",
      "  MAE: 0.5131365679280459\n",
      "  R2: 0.553410227169746\n",
      "Running trial with 113 features\n",
      "RandomForestRegressor\n",
      "  RMSE: 0.67248709634639\n",
      "  MAE: 0.5127600204287761\n",
      "  R2: 0.553220510794725\n",
      "Running trial with 114 features\n",
      "RandomForestRegressor\n",
      "  RMSE: 0.6740268424890328\n",
      "  MAE: 0.5154242531146318\n",
      "  R2: 0.5511722498013145\n",
      "Running trial with 115 features\n",
      "RandomForestRegressor\n",
      "  RMSE: 0.6733757733133342\n",
      "  MAE: 0.5137111294958797\n",
      "  R2: 0.5520389119652604\n",
      "Running trial with 116 features\n",
      "RandomForestRegressor\n",
      "  RMSE: 0.6710331945845406\n",
      "  MAE: 0.5127170884044792\n",
      "  R2: 0.555150276610334\n",
      "Running trial with 117 features\n",
      "RandomForestRegressor\n",
      "  RMSE: 0.6729364309273844\n",
      "  MAE: 0.5134721919923833\n",
      "  R2: 0.5526232635189721\n",
      "Running trial with 118 features\n",
      "RandomForestRegressor\n",
      "  RMSE: 0.6715102598743243\n",
      "  MAE: 0.512978795209425\n",
      "  R2: 0.5545175275816845\n",
      "Running trial with 119 features\n",
      "RandomForestRegressor\n",
      "  RMSE: 0.6712471108828737\n",
      "  MAE: 0.5123118862238638\n",
      "  R2: 0.5548666072632238\n",
      "Running trial with 120 features\n",
      "RandomForestRegressor\n",
      "  RMSE: 0.6744979083741813\n",
      "  MAE: 0.514561742482487\n",
      "  R2: 0.5505446744300867\n",
      "Running trial with 121 features\n",
      "RandomForestRegressor\n",
      "  RMSE: 0.674823663545276\n",
      "  MAE: 0.5148170566034395\n",
      "  R2: 0.5501104321580472\n",
      "Running trial with 122 features\n",
      "RandomForestRegressor\n",
      "  RMSE: 0.6700576906216373\n",
      "  MAE: 0.5110528548185751\n",
      "  R2: 0.5564427230813174\n",
      "Running trial with 123 features\n",
      "RandomForestRegressor\n",
      "  RMSE: 0.6718494065350593\n",
      "  MAE: 0.5129751462346357\n",
      "  R2: 0.5540674315683476\n",
      "Running trial with 124 features\n",
      "RandomForestRegressor\n",
      "  RMSE: 0.6715224350692811\n",
      "  MAE: 0.5125173597502688\n",
      "  R2: 0.5545013732935207\n",
      "Running trial with 125 features\n",
      "RandomForestRegressor\n",
      "  RMSE: 0.6726204662223005\n",
      "  MAE: 0.5134308571330088\n",
      "  R2: 0.5530432796356533\n",
      "Running trial with 126 features\n",
      "RandomForestRegressor\n",
      "  RMSE: 0.6730066779461217\n",
      "  MAE: 0.5134334542827221\n",
      "  R2: 0.5525298564128833\n",
      "Running trial with 127 features\n"
     ]
    },
    {
     "name": "stdout",
     "output_type": "stream",
     "text": [
      "RandomForestRegressor\n",
      "  RMSE: 0.6712122459989902\n",
      "  MAE: 0.5127102093677629\n",
      "  R2: 0.5549128469289244\n",
      "Running trial with 128 features\n",
      "RandomForestRegressor\n",
      "  RMSE: 0.6730235147793786\n",
      "  MAE: 0.5128765459659211\n",
      "  R2: 0.5525074671122063\n",
      "Running trial with 129 features\n",
      "RandomForestRegressor\n",
      "  RMSE: 0.672474400712525\n",
      "  MAE: 0.5121031695343014\n",
      "  R2: 0.5532373798032251\n",
      "Running trial with 130 features\n",
      "RandomForestRegressor\n",
      "  RMSE: 0.6721050729587914\n",
      "  MAE: 0.5125951911381679\n",
      "  R2: 0.5537279755038206\n",
      "Running trial with 131 features\n",
      "RandomForestRegressor\n",
      "  RMSE: 0.6721772284793268\n",
      "  MAE: 0.5127498143379161\n",
      "  R2: 0.553632149062294\n",
      "Running trial with 132 features\n",
      "RandomForestRegressor\n",
      "  RMSE: 0.6696789847068303\n",
      "  MAE: 0.5111069566793258\n",
      "  R2: 0.5569439643848624\n",
      "Running trial with 133 features\n",
      "RandomForestRegressor\n",
      "  RMSE: 0.670314201877075\n",
      "  MAE: 0.5106638074083066\n",
      "  R2: 0.5561030531881938\n",
      "Running trial with 134 features\n",
      "RandomForestRegressor\n",
      "  RMSE: 0.6706991979704147\n",
      "  MAE: 0.5124487567046179\n",
      "  R2: 0.5555930008341301\n",
      "Running trial with 135 features\n",
      "RandomForestRegressor\n",
      "  RMSE: 0.6719234128666142\n",
      "  MAE: 0.5132832059245244\n",
      "  R2: 0.5539691843992127\n",
      "Running trial with 136 features\n",
      "RandomForestRegressor\n",
      "  RMSE: 0.6705306327165662\n",
      "  MAE: 0.5114781483055806\n",
      "  R2: 0.5558163562971381\n",
      "Running trial with 137 features\n",
      "RandomForestRegressor\n",
      "  RMSE: 0.6720068840489725\n",
      "  MAE: 0.5114277580354216\n",
      "  R2: 0.5538583591730992\n",
      "Running trial with 138 features\n",
      "RandomForestRegressor\n",
      "  RMSE: 0.6699048170941618\n",
      "  MAE: 0.5113543428158048\n",
      "  R2: 0.5566450950003305\n",
      "Running trial with 139 features\n",
      "RandomForestRegressor\n",
      "  RMSE: 0.6732776471839644\n",
      "  MAE: 0.5132015408387018\n",
      "  R2: 0.5521694586426898\n",
      "Running trial with 140 features\n",
      "RandomForestRegressor\n",
      "  RMSE: 0.6746425397825725\n",
      "  MAE: 0.5152472712961775\n",
      "  R2: 0.5503519019235112\n",
      "Running trial with 141 features\n",
      "RandomForestRegressor\n",
      "  RMSE: 0.6710919998513935\n",
      "  MAE: 0.511674067529842\n",
      "  R2: 0.5550723053471104\n",
      "Running trial with 142 features\n",
      "RandomForestRegressor\n",
      "  RMSE: 0.6697782906725469\n",
      "  MAE: 0.5116903304191014\n",
      "  R2: 0.5568125540503474\n",
      "Running trial with 143 features\n",
      "RandomForestRegressor\n",
      "  RMSE: 0.6690558659338897\n",
      "  MAE: 0.5094463246184651\n",
      "  R2: 0.5577680848920392\n",
      "Running trial with 144 features\n",
      "RandomForestRegressor\n",
      "  RMSE: 0.6708694109817012\n",
      "  MAE: 0.512144472368681\n",
      "  R2: 0.5553674050606155\n",
      "Running trial with 145 features\n",
      "RandomForestRegressor\n",
      "  RMSE: 0.6716887877209397\n",
      "  MAE: 0.5129512936143795\n",
      "  R2: 0.5542806239829589\n",
      "Running trial with 146 features\n",
      "RandomForestRegressor\n",
      "  RMSE: 0.6679933838526114\n",
      "  MAE: 0.5105208465712406\n",
      "  R2: 0.5591715264590786\n",
      "Running trial with 147 features\n",
      "RandomForestRegressor\n",
      "  RMSE: 0.6706193181781698\n",
      "  MAE: 0.5113632227468043\n",
      "  R2: 0.5556988516385205\n"
     ]
    }
   ],
   "source": [
    "best_r2 = 0\n",
    "best_features_number = 1\n",
    "\n",
    "best_model_ever = RandomForestRegressor(n_estimators=100, max_depth=9)\n",
    "params = {'n_estimators': 100, 'max_depth': 9}\n",
    "\n",
    "for i in range(1,total_features+1):\n",
    "    print('Running trial with', i, 'features')\n",
    "    movies_data_trial = movies_data.drop(features_ordered[i:], axis = 1)\n",
    "    X_trial = movies_data_trial.drop('IMDb', axis=1)\n",
    "    y_trial = movies_data_trial['IMDb']\n",
    "    \n",
    "    X_train, X_test, y_train, y_test = train_test_split(X_trial, y_trial, test_size=0.4, random_state=0)\n",
    "\n",
    "    r2 = run_experiment_with_model(best_model_ever, randomForestName, X_train, y_train, X_test, y_test, params_dict=params, plot=False)\n",
    "    \n",
    "    if r2 > best_r2:\n",
    "        best_r2 = r2\n",
    "        best_features_number = i    "
   ]
  },
  {
   "cell_type": "code",
   "execution_count": 43,
   "metadata": {
    "id": "3fJNwmnFOrB-",
    "outputId": "aa01b890-f0e6-469d-badd-66a43bb9d38e"
   },
   "outputs": [
    {
     "name": "stdout",
     "output_type": "stream",
     "text": [
      "0.5591715264590786 146\n"
     ]
    }
   ],
   "source": [
    "print(best_r2, best_features_number)"
   ]
  },
  {
   "cell_type": "markdown",
   "metadata": {
    "id": "KRR4c9x0dFhH"
   },
   "source": [
    "Conseguimos obter um `r2 score` um pouquinho melhor com as 146 features com maior mutual information. Além disso houve uma pequena redução nos erros (MAE, RMSE)."
   ]
  },
  {
   "cell_type": "markdown",
   "metadata": {},
   "source": [
    "#### Conclusão"
   ]
  },
  {
   "cell_type": "markdown",
   "metadata": {},
   "source": [
    "Apesar de possuir um R2 score não tão alto, o MAE apresenta um erro de aproximadamente 0.5 na nota do IMDB, que para uma valor de 0 a 10, o modelo parece ter representado razoavelmente bem os dados."
   ]
  }
 ],
 "metadata": {
  "colab": {
   "collapsed_sections": [],
   "name": "MoveIt.ipynb",
   "provenance": []
  },
  "kernelspec": {
   "display_name": "Python 3",
   "language": "python",
   "name": "python3"
  },
  "language_info": {
   "codemirror_mode": {
    "name": "ipython",
    "version": 3
   },
   "file_extension": ".py",
   "mimetype": "text/x-python",
   "name": "python",
   "nbconvert_exporter": "python",
   "pygments_lexer": "ipython3",
   "version": "3.8.5"
  }
 },
 "nbformat": 4,
 "nbformat_minor": 1
}
