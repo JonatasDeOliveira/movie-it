{
 "cells": [
  {
   "cell_type": "markdown",
   "metadata": {
    "id": "lFxeRD2gAxEf"
   },
   "source": [
    "### Instalando PySpark"
   ]
  },
  {
   "cell_type": "code",
   "execution_count": 1,
   "metadata": {
    "colab": {
     "base_uri": "https://localhost:8080/"
    },
    "id": "RTdmD5l4BCct",
    "outputId": "b795f13c-1185-420e-ac48-8c35e5daf404",
    "scrolled": true
   },
   "outputs": [
    {
     "name": "stdout",
     "output_type": "stream",
     "text": [
      "Defaulting to user installation because normal site-packages is not writeable\n",
      "Requirement already satisfied: pyspark in /home/jonatas-clementino/.local/lib/python3.8/site-packages (3.0.1)\n",
      "Requirement already satisfied: py4j==0.10.9 in /home/jonatas-clementino/.local/lib/python3.8/site-packages (from pyspark) (0.10.9)\n",
      "\u001b[33mWARNING: You are using pip version 20.2.3; however, version 20.2.4 is available.\n",
      "You should consider upgrading via the '/usr/bin/python3 -m pip install --upgrade pip' command.\u001b[0m\n"
     ]
    }
   ],
   "source": [
    "!pip3 install pyspark"
   ]
  },
  {
   "cell_type": "markdown",
   "metadata": {
    "id": "_AcB-QsuAm8K"
   },
   "source": [
    "### Criando Spark Context"
   ]
  },
  {
   "cell_type": "code",
   "execution_count": 2,
   "metadata": {
    "id": "1udOWHIlCvbi"
   },
   "outputs": [],
   "source": [
    "from pyspark import SparkContext\n",
    "from pyspark.sql import Row\n",
    "from pyspark.sql import *\n",
    "from pyspark.sql import SQLContext\n",
    "from pyspark import SparkFiles\n",
    "from pyspark.sql.functions import col"
   ]
  },
  {
   "cell_type": "code",
   "execution_count": 3,
   "metadata": {
    "id": "eel4ff5OA6qe"
   },
   "outputs": [],
   "source": [
    "spark = SparkContext.getOrCreate()"
   ]
  },
  {
   "cell_type": "markdown",
   "metadata": {
    "id": "HWVV98rzl07M"
   },
   "source": [
    "### Carregando Dataset"
   ]
  },
  {
   "cell_type": "code",
   "execution_count": 4,
   "metadata": {
    "id": "SoH9WIshDvSJ"
   },
   "outputs": [],
   "source": [
    "spark.addFile('https://raw.githubusercontent.com/DouglasSL/teste/master/data/moviesOnStreamingPlatforms_updated.csv')"
   ]
  },
  {
   "cell_type": "code",
   "execution_count": 5,
   "metadata": {
    "id": "aiXf8Wm7BX98"
   },
   "outputs": [],
   "source": [
    "sql_context = SQLContext(spark)\n",
    "movies_df = sql_context.read.csv(SparkFiles.get(\"moviesOnStreamingPlatforms_updated.csv\"), header=True, inferSchema= True)"
   ]
  },
  {
   "cell_type": "code",
   "execution_count": 6,
   "metadata": {
    "colab": {
     "base_uri": "https://localhost:8080/"
    },
    "id": "xt0mKG56EWGI",
    "outputId": "de5b49af-ac44-4a80-a623-d796a2a11aee"
   },
   "outputs": [
    {
     "name": "stdout",
     "output_type": "stream",
     "text": [
      "+---+---+----------------------------------+----+---+----+---------------+-------+----+-----------+-------+----+-------------------------------------------+----------------------------------------+-------------------------------------------+-------------------------------------------+-------+\n",
      "|_c0|ID |Title                             |Year|Age|IMDb|Rotten Tomatoes|Netflix|Hulu|Prime Video|Disney+|Type|Directors                                  |Genres                                  |Country                                    |Language                                   |Runtime|\n",
      "+---+---+----------------------------------+----+---+----+---------------+-------+----+-----------+-------+----+-------------------------------------------+----------------------------------------+-------------------------------------------+-------------------------------------------+-------+\n",
      "|0  |1  |Inception                         |2010|13+|8.8 |87%            |1      |0   |0          |0      |0   |Christopher Nolan                          |Action,Adventure,Sci-Fi,Thriller        |United States,United Kingdom               |English,Japanese,French                    |148    |\n",
      "|1  |2  |The Matrix                        |1999|18+|8.7 |87%            |1      |0   |0          |0      |0   |Lana Wachowski,Lilly Wachowski             |Action,Sci-Fi                           |United States                              |English                                    |136    |\n",
      "|2  |3  |Avengers: Infinity War            |2018|13+|8.5 |84%            |1      |0   |0          |0      |0   |Anthony Russo,Joe Russo                    |Action,Adventure,Sci-Fi                 |United States                              |English                                    |149    |\n",
      "|3  |4  |Back to the Future                |1985|7+ |8.5 |96%            |1      |0   |0          |0      |0   |Robert Zemeckis                            |Adventure,Comedy,Sci-Fi                 |United States                              |English                                    |116    |\n",
      "|4  |5  |The Good, the Bad and the Ugly    |1966|18+|8.8 |97%            |1      |0   |1          |0      |0   |Sergio Leone                               |Western                                 |Italy,Spain,West Germany                   |Italian                                    |161    |\n",
      "|5  |6  |Spider-Man: Into the Spider-Verse |2018|7+ |8.4 |97%            |1      |0   |0          |0      |0   |Bob Persichetti,Peter Ramsey,Rodney Rothman|Animation,Action,Adventure,Family,Sci-Fi|United States                              |English,Spanish                            |117    |\n",
      "|6  |7  |The Pianist                       |2002|18+|8.5 |95%            |1      |0   |1          |0      |0   |Roman Polanski                             |Biography,Drama,Music,War               |United Kingdom,France,Poland,Germany       |English,German,Russian                     |150    |\n",
      "|7  |8  |Django Unchained                  |2012|18+|8.4 |87%            |1      |0   |0          |0      |0   |Quentin Tarantino                          |Drama,Western                           |United States                              |English,German,French,Italian              |165    |\n",
      "|8  |9  |Raiders of the Lost Ark           |1981|7+ |8.4 |95%            |1      |0   |0          |0      |0   |Steven Spielberg                           |Action,Adventure                        |United States                              |English,German,Hebrew,Spanish,Arabic,Nepali|115    |\n",
      "|9  |10 |Inglourious Basterds              |2009|18+|8.3 |89%            |1      |0   |0          |0      |0   |Quentin Tarantino                          |Adventure,Drama,War                     |Germany,United States                      |English,German,French,Italian              |153    |\n",
      "|10 |11 |Taxi Driver                       |1976|18+|8.3 |95%            |1      |0   |0          |0      |0   |Martin Scorsese                            |Crime,Drama                             |United States                              |English,Spanish                            |114    |\n",
      "|11 |12 |3 Idiots                          |2009|13+|8.4 |100%           |1      |0   |1          |0      |0   |Rajkumar Hirani                            |Comedy,Drama                            |India                                      |Hindi,English                              |170    |\n",
      "|12 |13 |Pan's Labyrinth                   |2006|18+|8.2 |95%            |1      |0   |0          |0      |0   |Guillermo del Toro                         |Drama,Fantasy,War                       |Mexico,Spain                               |Spanish                                    |118    |\n",
      "|13 |14 |Room                              |2015|18+|8.1 |93%            |1      |0   |0          |0      |0   |Lenny Abrahamson                           |Drama,Thriller                          |Ireland,Canada,United Kingdom,United States|English                                    |118    |\n",
      "|14 |15 |Monty Python and the Holy Grail   |1975|7+ |8.2 |97%            |1      |0   |0          |0      |0   |Terry Gilliam,Terry Jones                  |Adventure,Comedy,Fantasy                |United Kingdom                             |English,French,Latin                       |91     |\n",
      "|15 |16 |Once Upon a Time in the West      |1968|13+|8.5 |95%            |1      |0   |1          |0      |0   |Sergio Leone                               |Western                                 |Italy,United States                        |Italian,English,Spanish                    |165    |\n",
      "|16 |17 |Indiana Jones and the Last Crusade|1989|13+|8.2 |88%            |1      |0   |0          |0      |0   |Steven Spielberg                           |Action,Adventure                        |United States                              |English,German,Greek,Arabic                |127    |\n",
      "|17 |18 |Groundhog Day                     |1993|7+ |8.0 |96%            |1      |0   |0          |0      |0   |Harold Ramis                               |Comedy,Fantasy,Romance                  |United States                              |English,French,Italian                     |101    |\n",
      "|18 |19 |The King's Speech                 |2010|18+|8.0 |95%            |1      |0   |0          |0      |0   |Tom Hooper                                 |Biography,Drama,History                 |United Kingdom,United States,Australia     |English                                    |118    |\n",
      "|19 |20 |Her                               |2013|18+|8.0 |95%            |1      |0   |0          |0      |0   |Spike Jonze                                |Drama,Romance,Sci-Fi                    |United States                              |English                                    |126    |\n",
      "+---+---+----------------------------------+----+---+----+---------------+-------+----+-----------+-------+----+-------------------------------------------+----------------------------------------+-------------------------------------------+-------------------------------------------+-------+\n",
      "only showing top 20 rows\n",
      "\n"
     ]
    }
   ],
   "source": [
    "movies_df.show(20, False)"
   ]
  },
  {
   "cell_type": "code",
   "execution_count": 7,
   "metadata": {
    "colab": {
     "base_uri": "https://localhost:8080/"
    },
    "id": "8vDqAMflSdCA",
    "outputId": "d72b1d19-7a6c-4360-e5e0-418713136631"
   },
   "outputs": [
    {
     "data": {
      "text/plain": [
       "_c0                    0\n",
       "ID                     0\n",
       "Title                  0\n",
       "Year                   0\n",
       "Age                 9389\n",
       "IMDb                 571\n",
       "Rotten Tomatoes    11586\n",
       "Netflix                1\n",
       "Hulu                   0\n",
       "Prime Video            0\n",
       "Disney+                0\n",
       "Type                   0\n",
       "Directors            725\n",
       "Genres               275\n",
       "Country              435\n",
       "Language             599\n",
       "Runtime              592\n",
       "dtype: int64"
      ]
     },
     "execution_count": 7,
     "metadata": {},
     "output_type": "execute_result"
    }
   ],
   "source": [
    "movies_df.toPandas().isna().sum()"
   ]
  },
  {
   "cell_type": "markdown",
   "metadata": {
    "id": "33e7JpIHmFl9"
   },
   "source": [
    "### Pré Processamento"
   ]
  },
  {
   "cell_type": "code",
   "execution_count": 8,
   "metadata": {
    "colab": {
     "base_uri": "https://localhost:8080/"
    },
    "id": "P0RBQqh8SCsk",
    "outputId": "74768b72-65e6-4f5e-b5fd-c85c6b664292"
   },
   "outputs": [
    {
     "name": "stdout",
     "output_type": "stream",
     "text": [
      "root\n",
      " |-- _c0: integer (nullable = true)\n",
      " |-- ID: integer (nullable = true)\n",
      " |-- Title: string (nullable = true)\n",
      " |-- Year: string (nullable = true)\n",
      " |-- Age: string (nullable = true)\n",
      " |-- IMDb: double (nullable = true)\n",
      " |-- Rotten Tomatoes: string (nullable = true)\n",
      " |-- Netflix: integer (nullable = true)\n",
      " |-- Hulu: integer (nullable = true)\n",
      " |-- Prime Video: integer (nullable = true)\n",
      " |-- Disney+: integer (nullable = true)\n",
      " |-- Type: integer (nullable = true)\n",
      " |-- Directors: string (nullable = true)\n",
      " |-- Genres: string (nullable = true)\n",
      " |-- Country: string (nullable = true)\n",
      " |-- Language: string (nullable = true)\n",
      " |-- Runtime: integer (nullable = true)\n",
      "\n"
     ]
    }
   ],
   "source": [
    "movies_df.printSchema()"
   ]
  },
  {
   "cell_type": "markdown",
   "metadata": {
    "id": "QJhDiA6HQU46"
   },
   "source": [
    "Pontos notados:\n",
    "\n",
    "- Primeiramente, percebemos que temos duas colunas com \"ids\". Como pegamos esses dados do kaggle possivelmente esta primeira coluna não é necessária.\n",
    "- Há uma coluna Type que possui somente valores iguais a 0. Procuramos entender o que seria mas não encontramos, vamos dropar essa coluna.\n",
    "- Outra observação é que as colunas Directors, Genres, Country e Language são listas e estão como strings devemos processar também as mesmas.\n",
    "- Colunas Age e Year estão como string, devem ser transformadas para integer."
   ]
  },
  {
   "cell_type": "code",
   "execution_count": 9,
   "metadata": {
    "id": "KgTaLR7rH99C"
   },
   "outputs": [],
   "source": [
    "from pyspark.sql.functions import split"
   ]
  },
  {
   "cell_type": "code",
   "execution_count": 10,
   "metadata": {
    "id": "DOn1LPu2ePtP"
   },
   "outputs": [],
   "source": [
    "movies_df_drop_c0 = movies_df.drop('_c0')"
   ]
  },
  {
   "cell_type": "code",
   "execution_count": 11,
   "metadata": {
    "id": "V6o3brYnqdXK"
   },
   "outputs": [],
   "source": [
    "movies_df_drop_type = movies_df_drop_c0.drop('Type')"
   ]
  },
  {
   "cell_type": "code",
   "execution_count": 12,
   "metadata": {
    "id": "2ymxnLPZIEWk"
   },
   "outputs": [],
   "source": [
    "movies_df_split = (movies_df_drop_type.withColumn('DirectorsArray', split('Directors', ','))\n",
    ".withColumn('GenresArray', split('Genres', ','))\n",
    ".withColumn('CountriesArray', split('Country', ','))\n",
    ".withColumn('LanguagesArray', split('Language', ','))\n",
    ".drop('Directors')\n",
    ".drop('Genres')\n",
    ".drop('Country')\n",
    ".drop('Language'))"
   ]
  },
  {
   "cell_type": "code",
   "execution_count": 13,
   "metadata": {
    "colab": {
     "base_uri": "https://localhost:8080/"
    },
    "id": "XbdrU1-VeGOI",
    "outputId": "7ee545e0-6e40-4195-acb4-0cd2232d1930"
   },
   "outputs": [
    {
     "data": {
      "text/plain": [
       "False"
      ]
     },
     "execution_count": 13,
     "metadata": {},
     "output_type": "execute_result"
    }
   ],
   "source": [
    "# checando se todas as idades seguem o regex [0-9]+\\+\n",
    "df_filtered_age_pattern = movies_df_split.filter(col('Age').rlike('[0-9]+\\+'))\n",
    "df_filtered_age_pattern.count() == movies_df_split.count()"
   ]
  },
  {
   "cell_type": "code",
   "execution_count": 14,
   "metadata": {
    "colab": {
     "base_uri": "https://localhost:8080/"
    },
    "id": "2Hv27tusnUie",
    "outputId": "46e43d05-abca-4876-9b43-cabb7b3ba9b3"
   },
   "outputs": [
    {
     "name": "stdout",
     "output_type": "stream",
     "text": [
      "+---+-----------------------------------+----+---+----+---------------+-------+----+-----------+-------+-------+---------------------------+-----------------------------------------------------------------+----------------------------------------------------+----------------------------------+\n",
      "|ID |Title                              |Year|Age|IMDb|Rotten Tomatoes|Netflix|Hulu|Prime Video|Disney+|Runtime|DirectorsArray             |GenresArray                                                      |CountriesArray                                      |LanguagesArray                    |\n",
      "+---+-----------------------------------+----+---+----+---------------+-------+----+-----------+-------+-------+---------------------------+-----------------------------------------------------------------+----------------------------------------------------+----------------------------------+\n",
      "|55 |Willy Wonka & the Chocolate Factory|1971|all|7.8 |91%            |1      |0   |0          |0      |100    |[Mel Stuart]               |[Family, Fantasy, Musical]                                       |[United States, East Germany, West Germany, Belgium]|[English, French, German, Italian]|\n",
      "|92 |Tarzan                             |1999|all|7.3 |89%            |1      |0   |0          |0      |110    |[David Yates]              |[Action, Adventure, Drama, Fantasy, Romance]                     |[United Kingdom, Canada, United States]             |[English, Lingala, French]        |\n",
      "|126|The Princess and the Frog          |2009|all|7.1 |85%            |1      |0   |0          |1      |97     |[Ron Clements, John Musker]|[Animation, Adventure, Comedy, Family, Fantasy, Musical, Romance]|[United States]                                     |[English, French]                 |\n",
      "|134|Barfi!                             |2012|all|8.1 |86%            |1      |0   |0          |0      |151    |[Anurag Basu]              |[Comedy, Drama, Romance]                                         |[India]                                             |[Hindi]                           |\n",
      "|152|Swades                             |2004|all|8.2 |83%            |1      |0   |0          |0      |210    |[Ashutosh Gowariker]       |[Drama]                                                          |[India]                                             |[Hindi, English]                  |\n",
      "+---+-----------------------------------+----+---+----+---------------+-------+----+-----------+-------+-------+---------------------------+-----------------------------------------------------------------+----------------------------------------------------+----------------------------------+\n",
      "only showing top 5 rows\n",
      "\n"
     ]
    }
   ],
   "source": [
    "# verificar idades que não seguem o padrão\n",
    "df_filtered_not_age_pattern = movies_df_split.filter(~col('Age').rlike('[0-9]+\\+'))\n",
    "df_filtered_not_age_pattern.show(5, False)"
   ]
  },
  {
   "cell_type": "code",
   "execution_count": 15,
   "metadata": {
    "colab": {
     "base_uri": "https://localhost:8080/"
    },
    "id": "fhvJGi9uoqx7",
    "outputId": "54a74eff-2206-4076-96f6-1e25bd3366fa"
   },
   "outputs": [
    {
     "data": {
      "text/plain": [
       "False"
      ]
     },
     "execution_count": 15,
     "metadata": {},
     "output_type": "execute_result"
    }
   ],
   "source": [
    "# verficar que o padrão de idade em regex [0-9]+\\+ unido a o padrão com 'all' contemplam todo o dataframe\n",
    "df_filtered_pattern_all = movies_df_split.filter(col('Age').rlike('[0-9]+\\+') | (col('Age') == 'all'))\n",
    "movies_df_split.count() == df_filtered_pattern_all.count()"
   ]
  },
  {
   "cell_type": "code",
   "execution_count": 16,
   "metadata": {
    "colab": {
     "base_uri": "https://localhost:8080/"
    },
    "id": "fGTUiTjXpwtv",
    "outputId": "61de7f86-8e1b-482f-da61-a432e1dc2609"
   },
   "outputs": [
    {
     "name": "stdout",
     "output_type": "stream",
     "text": [
      "+-----+-----------------------------+-------------------------+----+----+---------------+-------+----+-----------+-------+-------+--------------+-----------+--------------+--------------+\n",
      "|ID   |Title                        |Year                     |Age |IMDb|Rotten Tomatoes|Netflix|Hulu|Prime Video|Disney+|Runtime|DirectorsArray|GenresArray|CountriesArray|LanguagesArray|\n",
      "+-----+-----------------------------+-------------------------+----+----+---------------+-------+----+-----------+-------+-------+--------------+-----------+--------------+--------------+\n",
      "|15902|\"\"\"22\"\" A film about Veterans| Healthcare and Suicide.\"|2018|null|null           |null   |0   |0          |1      |null   |[0]           |null       |null          |null          |\n",
      "+-----+-----------------------------+-------------------------+----+----+---------------+-------+----+-----------+-------+-------+--------------+-----------+--------------+--------------+\n",
      "\n"
     ]
    }
   ],
   "source": [
    "df_filtered_not_pattern_all = movies_df_split.filter(~(col('Age').rlike('[0-9]+\\+') | (col('Age') == 'all')))\n",
    "df_filtered_not_pattern_all.show(5, False)"
   ]
  },
  {
   "cell_type": "markdown",
   "metadata": {
    "id": "D-Fe1vDxqYzC"
   },
   "source": [
    "Claramente a linha apresentada acima é um erro pois a idade está como um ano, o ano está como um texto e a maioria das outras colunas estão vazias, vamos remover essa linha."
   ]
  },
  {
   "cell_type": "code",
   "execution_count": 17,
   "metadata": {
    "id": "79g8jIPdra00"
   },
   "outputs": [],
   "source": [
    "movies_df_filtered_age = movies_df_split.where(col('ID') != 15902)"
   ]
  },
  {
   "cell_type": "markdown",
   "metadata": {
    "id": "DP1WVvJPrwvu"
   },
   "source": [
    "Agora vamos processar Age para aparecer como um inteiro em todo dataframe. A idade (Age) possui dois formatos, a idade mínima pra assistir o filme acompanhada de um caracter '+' ou o texto escrito 'all'. Iremos seguir os seguintes passos:\n",
    "- remover o caracter '+' das idades mínimas;\n",
    "- tranformar todas linha com o valor 'all' para 0;\n",
    "- transformar para um inteiro renomeando a coluna para MinimumAge;"
   ]
  },
  {
   "cell_type": "code",
   "execution_count": 18,
   "metadata": {
    "colab": {
     "base_uri": "https://localhost:8080/"
    },
    "id": "3WhJu56-UouO",
    "outputId": "a485c08e-3f54-4005-d53b-3ab3a5513e30"
   },
   "outputs": [
    {
     "name": "stdout",
     "output_type": "stream",
     "text": [
      "+---+--------------------+----+----+----+---------------+-------+----+-----------+-------+-------+--------------------+--------------------+--------------------+--------------------+\n",
      "| ID|               Title|Year| Age|IMDb|Rotten Tomatoes|Netflix|Hulu|Prime Video|Disney+|Runtime|      DirectorsArray|         GenresArray|      CountriesArray|      LanguagesArray|\n",
      "+---+--------------------+----+----+----+---------------+-------+----+-----------+-------+-------+--------------------+--------------------+--------------------+--------------------+\n",
      "| 33|      Train to Busan|2016|null| 7.5|            94%|      1|   0|          1|      0|    118|      [Sang-ho Yeon]|[Action, Horror, ...|       [South Korea]|  [Korean, Hawaiian]|\n",
      "| 58|      A Silent Voice|2016|null| 8.2|            94%|      1|   0|          0|      0|    130|      [Naoko Yamada]|[Animation, Drama...|             [Japan]|[Japanese, Japane...|\n",
      "| 90|       The Dawn Wall|2018|null| 8.1|           100%|      1|   0|          0|      0|    100|[Josh Lowell, Pet...|[Documentary, Bio...|[Austria, United ...|           [English]|\n",
      "|111|Black Mirror: Ban...|2018|null| 7.2|            92%|      1|   0|          0|      0|     90|       [David Slade]|[Drama, Mystery, ...|[United States, U...|           [English]|\n",
      "|124|Neon Genesis Evan...|1997|null| 8.1|            88%|      1|   0|          0|      0|     87|[Hideaki Anno, Ka...|[Animation, Actio...|             [Japan]|          [Japanese]|\n",
      "|149|          The Square|2013|null| 8.1|           100%|      1|   1|          1|      0|    151|     [Ruben Östlund]|     [Comedy, Drama]|[Sweden, Germany,...|[Swedish, English...|\n",
      "|165|             Virunga|2014|null| 8.2|           100%|      1|   0|          0|      0|    100|[Orlando von Eins...|  [Documentary, War]|[United Kingdom, ...|[English, French,...|\n",
      "|172|          Article 15|2019|null| 8.3|            89%|      1|   0|          0|      0|    130|     [Anubhav Sinha]|[Crime, Drama, My...|             [India]|             [Hindi]|\n",
      "|178|Hannah Gadsby: Na...|2018|null| 8.2|           100%|      1|   0|          0|      0|     69|[Jon Olb, Madelei...|[Documentary, Com...|         [Australia]|           [English]|\n",
      "|184|Winter on Fire: U...|2015|null| 8.4|            88%|      1|   0|          0|      0|    102| [Evgeny Afineevsky]|       [Documentary]|[United Kingdom, ...|[Ukrainian, Russi...|\n",
      "|189|      The Invitation|2015|null| 6.6|            88%|      1|   0|          1|      0|    100|      [Karyn Kusama]|[Drama, Mystery, ...|     [United States]|           [English]|\n",
      "|193|    On Body and Soul|2017|null| 7.6|            89%|      1|   0|          0|      0|    116|     [Ildikó Enyedi]|[Drama, Fantasy, ...|           [Hungary]|         [Hungarian]|\n",
      "|204|              Sairat|2016|null| 8.3|           100%|      1|   0|          0|      0|    174|    [Nagraj Manjule]|    [Drama, Romance]|             [India]|           [Marathi]|\n",
      "|216| The Young Offenders|2016|null| 7.1|           100%|      1|   0|          0|      0|     30|                null|            [Comedy]|[United Kingdom, ...|           [English]|\n",
      "|221|The Guernsey Lite...|2018|null| 7.4|            81%|      1|   0|          0|      0|    124|       [Mike Newell]|[Drama, Romance, ...|[United Kingdom, ...|[English, German,...|\n",
      "|223|         The Endless|2018|null| 6.5|            94%|      1|   0|          0|      0|    111|[Justin Benson, A...|[Drama, Fantasy, ...|     [United States]|           [English]|\n",
      "|225|   The Game Changers|2019|null| 7.9|            70%|      1|   0|          0|      0|    108|    [Louie Psihoyos]|       [Documentary]|     [United States]|           [English]|\n",
      "|231|      The Fear of 13|2015|null| 7.7|            94%|      1|   0|          0|      0|     96|     [David Sington]|[Documentary, Cri...|    [United Kingdom]|           [English]|\n",
      "|236|              Code 8|2019|null| 6.1|            79%|      1|   0|          0|      0|     98|         [Jeff Chan]|[Action, Crime, D...|            [Canada]|           [English]|\n",
      "|239|The Distinguished...|2016|null| 7.5|           100%|      1|   0|          0|      0|    118|[Gastón Duprat, M...|     [Comedy, Drama]|  [Argentina, Spain]|           [Spanish]|\n",
      "+---+--------------------+----+----+----+---------------+-------+----+-----------+-------+-------+--------------------+--------------------+--------------------+--------------------+\n",
      "only showing top 20 rows\n",
      "\n"
     ]
    }
   ],
   "source": [
    "movies_df_filtered_age.where(col('Age').isNull()).show()"
   ]
  },
  {
   "cell_type": "code",
   "execution_count": 19,
   "metadata": {
    "id": "T_cXQa3LQgxk"
   },
   "outputs": [],
   "source": [
    "from pyspark.sql.functions import translate\n",
    "from pyspark.sql.types import IntegerType\n",
    "from pyspark.sql.functions import udf\n",
    "\n",
    "def transform_all_age_value(age):\n",
    "  if age == 'all':\n",
    "    return int(0)\n",
    "  if age is None:\n",
    "    return int(-1)\n",
    "  return int(age)\n",
    "\n",
    "transformAllAgeValue = udf(lambda x: transform_all_age_value(x), IntegerType())\n",
    "\n",
    "movies_df_age_processed = movies_df_filtered_age.withColumn(\"Age\", translate('Age', '+', ''))\n",
    "movies_df_classification = movies_df_age_processed.withColumn(\"MinimumClassification\", transformAllAgeValue(col('Age'))).drop('Age')"
   ]
  },
  {
   "cell_type": "code",
   "execution_count": 20,
   "metadata": {},
   "outputs": [
    {
     "name": "stdout",
     "output_type": "stream",
     "text": [
      "+---+--------------------+----+----+---------------+-------+----+-----------+-------+-------+--------------------+--------------------+--------------------+--------------------+---------------------+\n",
      "| ID|               Title|Year|IMDb|Rotten Tomatoes|Netflix|Hulu|Prime Video|Disney+|Runtime|      DirectorsArray|         GenresArray|      CountriesArray|      LanguagesArray|MinimumClassification|\n",
      "+---+--------------------+----+----+---------------+-------+----+-----------+-------+-------+--------------------+--------------------+--------------------+--------------------+---------------------+\n",
      "|  1|           Inception|2010| 8.8|            87%|      1|   0|          0|      0|    148| [Christopher Nolan]|[Action, Adventur...|[United States, U...|[English, Japanes...|                   13|\n",
      "|  2|          The Matrix|1999| 8.7|            87%|      1|   0|          0|      0|    136|[Lana Wachowski, ...|    [Action, Sci-Fi]|     [United States]|           [English]|                   18|\n",
      "|  3|Avengers: Infinit...|2018| 8.5|            84%|      1|   0|          0|      0|    149|[Anthony Russo, J...|[Action, Adventur...|     [United States]|           [English]|                   13|\n",
      "|  4|  Back to the Future|1985| 8.5|            96%|      1|   0|          0|      0|    116|   [Robert Zemeckis]|[Adventure, Comed...|     [United States]|           [English]|                    7|\n",
      "|  5|The Good, the Bad...|1966| 8.8|            97%|      1|   0|          1|      0|    161|      [Sergio Leone]|           [Western]|[Italy, Spain, We...|           [Italian]|                   18|\n",
      "|  6|Spider-Man: Into ...|2018| 8.4|            97%|      1|   0|          0|      0|    117|[Bob Persichetti,...|[Animation, Actio...|     [United States]|  [English, Spanish]|                    7|\n",
      "|  7|         The Pianist|2002| 8.5|            95%|      1|   0|          1|      0|    150|    [Roman Polanski]|[Biography, Drama...|[United Kingdom, ...|[English, German,...|                   18|\n",
      "|  8|    Django Unchained|2012| 8.4|            87%|      1|   0|          0|      0|    165| [Quentin Tarantino]|    [Drama, Western]|     [United States]|[English, German,...|                   18|\n",
      "|  9|Raiders of the Lo...|1981| 8.4|            95%|      1|   0|          0|      0|    115|  [Steven Spielberg]| [Action, Adventure]|     [United States]|[English, German,...|                    7|\n",
      "| 10|Inglourious Basterds|2009| 8.3|            89%|      1|   0|          0|      0|    153| [Quentin Tarantino]|[Adventure, Drama...|[Germany, United ...|[English, German,...|                   18|\n",
      "| 11|         Taxi Driver|1976| 8.3|            95%|      1|   0|          0|      0|    114|   [Martin Scorsese]|      [Crime, Drama]|     [United States]|  [English, Spanish]|                   18|\n",
      "| 12|            3 Idiots|2009| 8.4|           100%|      1|   0|          1|      0|    170|   [Rajkumar Hirani]|     [Comedy, Drama]|             [India]|    [Hindi, English]|                   13|\n",
      "| 13|     Pan's Labyrinth|2006| 8.2|            95%|      1|   0|          0|      0|    118|[Guillermo del Toro]|[Drama, Fantasy, ...|     [Mexico, Spain]|           [Spanish]|                   18|\n",
      "| 14|                Room|2015| 8.1|            93%|      1|   0|          0|      0|    118|  [Lenny Abrahamson]|   [Drama, Thriller]|[Ireland, Canada,...|           [English]|                   18|\n",
      "| 15|Monty Python and ...|1975| 8.2|            97%|      1|   0|          0|      0|     91|[Terry Gilliam, T...|[Adventure, Comed...|    [United Kingdom]|[English, French,...|                    7|\n",
      "| 16|Once Upon a Time ...|1968| 8.5|            95%|      1|   0|          1|      0|    165|      [Sergio Leone]|           [Western]|[Italy, United St...|[Italian, English...|                   13|\n",
      "| 17|Indiana Jones and...|1989| 8.2|            88%|      1|   0|          0|      0|    127|  [Steven Spielberg]| [Action, Adventure]|     [United States]|[English, German,...|                   13|\n",
      "| 18|       Groundhog Day|1993| 8.0|            96%|      1|   0|          0|      0|    101|      [Harold Ramis]|[Comedy, Fantasy,...|     [United States]|[English, French,...|                    7|\n",
      "| 19|   The King's Speech|2010| 8.0|            95%|      1|   0|          0|      0|    118|        [Tom Hooper]|[Biography, Drama...|[United Kingdom, ...|           [English]|                   18|\n",
      "| 20|                 Her|2013| 8.0|            95%|      1|   0|          0|      0|    126|       [Spike Jonze]|[Drama, Romance, ...|     [United States]|           [English]|                   18|\n",
      "+---+--------------------+----+----+---------------+-------+----+-----------+-------+-------+--------------------+--------------------+--------------------+--------------------+---------------------+\n",
      "only showing top 20 rows\n",
      "\n"
     ]
    }
   ],
   "source": [
    "movies_df_classification.show()"
   ]
  },
  {
   "cell_type": "markdown",
   "metadata": {
    "id": "uA2cBFSGhCEi"
   },
   "source": [
    "Note que existe idade indicativa nula, setamos esses valores como -1."
   ]
  },
  {
   "cell_type": "code",
   "execution_count": 21,
   "metadata": {
    "colab": {
     "base_uri": "https://localhost:8080/"
    },
    "id": "qDhJr90zgyAv",
    "outputId": "75a22189-57e1-40a3-f822-4de27c46b66b"
   },
   "outputs": [
    {
     "name": "stdout",
     "output_type": "stream",
     "text": [
      "root\n",
      " |-- ID: integer (nullable = true)\n",
      " |-- Title: string (nullable = true)\n",
      " |-- Year: string (nullable = true)\n",
      " |-- IMDb: double (nullable = true)\n",
      " |-- Rotten Tomatoes: string (nullable = true)\n",
      " |-- Netflix: integer (nullable = true)\n",
      " |-- Hulu: integer (nullable = true)\n",
      " |-- Prime Video: integer (nullable = true)\n",
      " |-- Disney+: integer (nullable = true)\n",
      " |-- Runtime: integer (nullable = true)\n",
      " |-- DirectorsArray: array (nullable = true)\n",
      " |    |-- element: string (containsNull = true)\n",
      " |-- GenresArray: array (nullable = true)\n",
      " |    |-- element: string (containsNull = true)\n",
      " |-- CountriesArray: array (nullable = true)\n",
      " |    |-- element: string (containsNull = true)\n",
      " |-- LanguagesArray: array (nullable = true)\n",
      " |    |-- element: string (containsNull = true)\n",
      " |-- MinimumClassification: integer (nullable = true)\n",
      "\n"
     ]
    }
   ],
   "source": [
    "movies_df_classification.printSchema()"
   ]
  },
  {
   "cell_type": "markdown",
   "metadata": {
    "id": "H3yQHisWq3gv"
   },
   "source": [
    "Analisando o schema novamente, podemos ver que assim como o campo Age, o campo Year deveria estar como Integer, vamos arrumar isso."
   ]
  },
  {
   "cell_type": "code",
   "execution_count": 22,
   "metadata": {
    "id": "lxIsJc9orTRT"
   },
   "outputs": [],
   "source": [
    "movies_df_year_processed = movies_df_classification.withColumn(\"Year\", col(\"Year\").cast(IntegerType()))"
   ]
  },
  {
   "cell_type": "code",
   "execution_count": 23,
   "metadata": {
    "colab": {
     "base_uri": "https://localhost:8080/"
    },
    "id": "i4lPBLH8WxkP",
    "outputId": "51b949db-1d50-45b7-e6fd-ada06c483263"
   },
   "outputs": [
    {
     "name": "stdout",
     "output_type": "stream",
     "text": [
      "root\n",
      " |-- ID: integer (nullable = true)\n",
      " |-- Title: string (nullable = true)\n",
      " |-- Year: integer (nullable = true)\n",
      " |-- IMDb: double (nullable = true)\n",
      " |-- Rotten Tomatoes: string (nullable = true)\n",
      " |-- Netflix: integer (nullable = true)\n",
      " |-- Hulu: integer (nullable = true)\n",
      " |-- Prime Video: integer (nullable = true)\n",
      " |-- Disney+: integer (nullable = true)\n",
      " |-- Runtime: integer (nullable = true)\n",
      " |-- DirectorsArray: array (nullable = true)\n",
      " |    |-- element: string (containsNull = true)\n",
      " |-- GenresArray: array (nullable = true)\n",
      " |    |-- element: string (containsNull = true)\n",
      " |-- CountriesArray: array (nullable = true)\n",
      " |    |-- element: string (containsNull = true)\n",
      " |-- LanguagesArray: array (nullable = true)\n",
      " |    |-- element: string (containsNull = true)\n",
      " |-- MinimumClassification: integer (nullable = true)\n",
      "\n"
     ]
    }
   ],
   "source": [
    "movies_df_year_processed.printSchema()"
   ]
  },
  {
   "cell_type": "markdown",
   "metadata": {
    "id": "qkqjcZhtic65"
   },
   "source": [
    "Agora precisamos modificar a coluna Rotten Tomatoes para ser um integer."
   ]
  },
  {
   "cell_type": "code",
   "execution_count": 24,
   "metadata": {
    "id": "hxNEA6ySibsD"
   },
   "outputs": [],
   "source": [
    "movies_df_rotten_char = movies_df_year_processed.withColumn(\"RottenTomatoes\", translate('Rotten Tomatoes', '%', '')).drop('Rotten Tomatoes')\n",
    "movies_df_rotten_int = movies_df_rotten_char.withColumn(\"RottenTomatoes\", col(\"RottenTomatoes\").cast(IntegerType()))\n",
    "movies_df_padronized_rotten = movies_df_rotten_int.withColumn(\"RottenTomatoes\", col(\"RottenTomatoes\") / 10)"
   ]
  },
  {
   "cell_type": "code",
   "execution_count": 25,
   "metadata": {
    "colab": {
     "base_uri": "https://localhost:8080/"
    },
    "id": "FBFkcESjkn5z",
    "outputId": "639c6e44-cdcd-4c16-ad0f-1f5382016509"
   },
   "outputs": [
    {
     "name": "stdout",
     "output_type": "stream",
     "text": [
      "root\n",
      " |-- ID: integer (nullable = true)\n",
      " |-- Title: string (nullable = true)\n",
      " |-- Year: integer (nullable = true)\n",
      " |-- IMDb: double (nullable = true)\n",
      " |-- Netflix: integer (nullable = true)\n",
      " |-- Hulu: integer (nullable = true)\n",
      " |-- Prime Video: integer (nullable = true)\n",
      " |-- Disney+: integer (nullable = true)\n",
      " |-- Runtime: integer (nullable = true)\n",
      " |-- DirectorsArray: array (nullable = true)\n",
      " |    |-- element: string (containsNull = true)\n",
      " |-- GenresArray: array (nullable = true)\n",
      " |    |-- element: string (containsNull = true)\n",
      " |-- CountriesArray: array (nullable = true)\n",
      " |    |-- element: string (containsNull = true)\n",
      " |-- LanguagesArray: array (nullable = true)\n",
      " |    |-- element: string (containsNull = true)\n",
      " |-- MinimumClassification: integer (nullable = true)\n",
      " |-- RottenTomatoes: double (nullable = true)\n",
      "\n"
     ]
    }
   ],
   "source": [
    "movies_df_padronized_rotten.printSchema()"
   ]
  },
  {
   "cell_type": "code",
   "execution_count": 26,
   "metadata": {
    "id": "Hi2LBBtDn0OG"
   },
   "outputs": [],
   "source": [
    "movies_df_processed = movies_df_padronized_rotten"
   ]
  },
  {
   "cell_type": "code",
   "execution_count": 27,
   "metadata": {
    "id": "YRHRwt1Wfw2F"
   },
   "outputs": [],
   "source": [
    "from pyspark.sql.functions import explode\n",
    "\n",
    "movie_director_df = movies_df_processed.select('ID', 'DirectorsArray').withColumn('Director', explode(col('DirectorsArray'))).select('ID', 'Director')\n",
    "movie_genre_df = movies_df_processed.select('ID', 'GenresArray').withColumn('Genre', explode(col('GenresArray'))).select('ID', 'Genre')\n",
    "movie_country_df = movies_df_processed.select('ID', 'CountriesArray').withColumn('Country', explode(col('CountriesArray'))).select('ID', 'Country')\n",
    "movie_language_df = movies_df_processed.select('ID', 'LanguagesArray').withColumn('Language', explode(col('LanguagesArray'))).select('ID', 'Language')"
   ]
  },
  {
   "cell_type": "markdown",
   "metadata": {
    "id": "zjph0XghngZJ"
   },
   "source": [
    "### Removendo Outliers "
   ]
  },
  {
   "cell_type": "code",
   "execution_count": 28,
   "metadata": {
    "id": "qxkUiVwlkg-k"
   },
   "outputs": [],
   "source": [
    "movies_df_pd = movies_df_processed.toPandas()"
   ]
  },
  {
   "cell_type": "code",
   "execution_count": 29,
   "metadata": {
    "colab": {
     "base_uri": "https://localhost:8080/",
     "height": 0
    },
    "id": "xNLqsM3aaaD0",
    "outputId": "6f3fbbaa-ebff-4051-f0aa-db3cae26622d"
   },
   "outputs": [
    {
     "data": {
      "text/html": [
       "<div>\n",
       "<style scoped>\n",
       "    .dataframe tbody tr th:only-of-type {\n",
       "        vertical-align: middle;\n",
       "    }\n",
       "\n",
       "    .dataframe tbody tr th {\n",
       "        vertical-align: top;\n",
       "    }\n",
       "\n",
       "    .dataframe thead th {\n",
       "        text-align: right;\n",
       "    }\n",
       "</style>\n",
       "<table border=\"1\" class=\"dataframe\">\n",
       "  <thead>\n",
       "    <tr style=\"text-align: right;\">\n",
       "      <th></th>\n",
       "      <th>ID</th>\n",
       "      <th>Year</th>\n",
       "      <th>IMDb</th>\n",
       "      <th>Netflix</th>\n",
       "      <th>Hulu</th>\n",
       "      <th>Prime Video</th>\n",
       "      <th>Disney+</th>\n",
       "      <th>Runtime</th>\n",
       "      <th>MinimumClassification</th>\n",
       "      <th>RottenTomatoes</th>\n",
       "    </tr>\n",
       "  </thead>\n",
       "  <tbody>\n",
       "    <tr>\n",
       "      <th>count</th>\n",
       "      <td>16743.000000</td>\n",
       "      <td>16743.000000</td>\n",
       "      <td>16173.000000</td>\n",
       "      <td>16743.000000</td>\n",
       "      <td>16743.000000</td>\n",
       "      <td>16743.000000</td>\n",
       "      <td>16743.000000</td>\n",
       "      <td>16152.000000</td>\n",
       "      <td>16743.000000</td>\n",
       "      <td>5158.000000</td>\n",
       "    </tr>\n",
       "    <tr>\n",
       "      <th>mean</th>\n",
       "      <td>8372.050290</td>\n",
       "      <td>2003.013140</td>\n",
       "      <td>5.902751</td>\n",
       "      <td>0.212626</td>\n",
       "      <td>0.053933</td>\n",
       "      <td>0.737801</td>\n",
       "      <td>0.033686</td>\n",
       "      <td>93.413447</td>\n",
       "      <td>5.065520</td>\n",
       "      <td>6.542846</td>\n",
       "    </tr>\n",
       "    <tr>\n",
       "      <th>std</th>\n",
       "      <td>4833.514844</td>\n",
       "      <td>20.674614</td>\n",
       "      <td>1.347867</td>\n",
       "      <td>0.409178</td>\n",
       "      <td>0.225892</td>\n",
       "      <td>0.439843</td>\n",
       "      <td>0.180424</td>\n",
       "      <td>28.219222</td>\n",
       "      <td>7.998182</td>\n",
       "      <td>2.661450</td>\n",
       "    </tr>\n",
       "    <tr>\n",
       "      <th>min</th>\n",
       "      <td>1.000000</td>\n",
       "      <td>1902.000000</td>\n",
       "      <td>0.000000</td>\n",
       "      <td>0.000000</td>\n",
       "      <td>0.000000</td>\n",
       "      <td>0.000000</td>\n",
       "      <td>0.000000</td>\n",
       "      <td>1.000000</td>\n",
       "      <td>-1.000000</td>\n",
       "      <td>0.200000</td>\n",
       "    </tr>\n",
       "    <tr>\n",
       "      <th>25%</th>\n",
       "      <td>4186.500000</td>\n",
       "      <td>2000.000000</td>\n",
       "      <td>5.100000</td>\n",
       "      <td>0.000000</td>\n",
       "      <td>0.000000</td>\n",
       "      <td>0.000000</td>\n",
       "      <td>0.000000</td>\n",
       "      <td>82.000000</td>\n",
       "      <td>-1.000000</td>\n",
       "      <td>4.400000</td>\n",
       "    </tr>\n",
       "    <tr>\n",
       "      <th>50%</th>\n",
       "      <td>8372.000000</td>\n",
       "      <td>2012.000000</td>\n",
       "      <td>6.100000</td>\n",
       "      <td>0.000000</td>\n",
       "      <td>0.000000</td>\n",
       "      <td>1.000000</td>\n",
       "      <td>0.000000</td>\n",
       "      <td>92.000000</td>\n",
       "      <td>-1.000000</td>\n",
       "      <td>7.100000</td>\n",
       "    </tr>\n",
       "    <tr>\n",
       "      <th>75%</th>\n",
       "      <td>12557.500000</td>\n",
       "      <td>2016.000000</td>\n",
       "      <td>6.900000</td>\n",
       "      <td>0.000000</td>\n",
       "      <td>0.000000</td>\n",
       "      <td>1.000000</td>\n",
       "      <td>0.000000</td>\n",
       "      <td>104.000000</td>\n",
       "      <td>13.000000</td>\n",
       "      <td>8.800000</td>\n",
       "    </tr>\n",
       "    <tr>\n",
       "      <th>max</th>\n",
       "      <td>16744.000000</td>\n",
       "      <td>2020.000000</td>\n",
       "      <td>9.300000</td>\n",
       "      <td>1.000000</td>\n",
       "      <td>1.000000</td>\n",
       "      <td>1.000000</td>\n",
       "      <td>1.000000</td>\n",
       "      <td>1256.000000</td>\n",
       "      <td>18.000000</td>\n",
       "      <td>10.000000</td>\n",
       "    </tr>\n",
       "  </tbody>\n",
       "</table>\n",
       "</div>"
      ],
      "text/plain": [
       "                 ID          Year          IMDb       Netflix          Hulu  \\\n",
       "count  16743.000000  16743.000000  16173.000000  16743.000000  16743.000000   \n",
       "mean    8372.050290   2003.013140      5.902751      0.212626      0.053933   \n",
       "std     4833.514844     20.674614      1.347867      0.409178      0.225892   \n",
       "min        1.000000   1902.000000      0.000000      0.000000      0.000000   \n",
       "25%     4186.500000   2000.000000      5.100000      0.000000      0.000000   \n",
       "50%     8372.000000   2012.000000      6.100000      0.000000      0.000000   \n",
       "75%    12557.500000   2016.000000      6.900000      0.000000      0.000000   \n",
       "max    16744.000000   2020.000000      9.300000      1.000000      1.000000   \n",
       "\n",
       "        Prime Video       Disney+       Runtime  MinimumClassification  \\\n",
       "count  16743.000000  16743.000000  16152.000000           16743.000000   \n",
       "mean       0.737801      0.033686     93.413447               5.065520   \n",
       "std        0.439843      0.180424     28.219222               7.998182   \n",
       "min        0.000000      0.000000      1.000000              -1.000000   \n",
       "25%        0.000000      0.000000     82.000000              -1.000000   \n",
       "50%        1.000000      0.000000     92.000000              -1.000000   \n",
       "75%        1.000000      0.000000    104.000000              13.000000   \n",
       "max        1.000000      1.000000   1256.000000              18.000000   \n",
       "\n",
       "       RottenTomatoes  \n",
       "count     5158.000000  \n",
       "mean         6.542846  \n",
       "std          2.661450  \n",
       "min          0.200000  \n",
       "25%          4.400000  \n",
       "50%          7.100000  \n",
       "75%          8.800000  \n",
       "max         10.000000  "
      ]
     },
     "execution_count": 29,
     "metadata": {},
     "output_type": "execute_result"
    }
   ],
   "source": [
    "movies_df_pd.describe()"
   ]
  },
  {
   "cell_type": "code",
   "execution_count": 31,
   "metadata": {},
   "outputs": [
    {
     "name": "stdout",
     "output_type": "stream",
     "text": [
      "Defaulting to user installation because normal site-packages is not writeable\n",
      "Requirement already satisfied: matplotlib in /home/jonatas-clementino/.local/lib/python3.8/site-packages (3.3.2)\n",
      "Requirement already satisfied: cycler>=0.10 in /home/jonatas-clementino/.local/lib/python3.8/site-packages (from matplotlib) (0.10.0)\n",
      "Requirement already satisfied: python-dateutil>=2.1 in /usr/lib/python3/dist-packages (from matplotlib) (2.7.3)\n",
      "Requirement already satisfied: pillow>=6.2.0 in /usr/lib/python3/dist-packages (from matplotlib) (7.0.0)\n",
      "Requirement already satisfied: kiwisolver>=1.0.1 in /home/jonatas-clementino/.local/lib/python3.8/site-packages (from matplotlib) (1.3.1)\n",
      "Requirement already satisfied: certifi>=2020.06.20 in /home/jonatas-clementino/.local/lib/python3.8/site-packages (from matplotlib) (2020.11.8)\n",
      "Requirement already satisfied: pyparsing!=2.0.4,!=2.1.2,!=2.1.6,>=2.0.3 in /home/jonatas-clementino/.local/lib/python3.8/site-packages (from matplotlib) (2.4.7)\n",
      "Requirement already satisfied: numpy>=1.15 in /home/jonatas-clementino/.local/lib/python3.8/site-packages (from matplotlib) (1.19.4)\n",
      "Requirement already satisfied: six in /usr/lib/python3/dist-packages (from cycler>=0.10->matplotlib) (1.14.0)\n",
      "\u001b[33mWARNING: You are using pip version 20.2.3; however, version 20.2.4 is available.\n",
      "You should consider upgrading via the '/usr/bin/python3 -m pip install --upgrade pip' command.\u001b[0m\n"
     ]
    }
   ],
   "source": [
    "!pip3 install matplotlib"
   ]
  },
  {
   "cell_type": "code",
   "execution_count": 78,
   "metadata": {},
   "outputs": [
    {
     "name": "stdout",
     "output_type": "stream",
     "text": [
      "Defaulting to user installation because normal site-packages is not writeable\n",
      "Collecting seaborn\n",
      "  Downloading seaborn-0.11.0-py3-none-any.whl (283 kB)\n",
      "\u001b[K     |████████████████████████████████| 283 kB 845 kB/s eta 0:00:01\n",
      "\u001b[?25hRequirement already satisfied: matplotlib>=2.2 in /home/jonatas-clementino/.local/lib/python3.8/site-packages (from seaborn) (3.3.2)\n",
      "Requirement already satisfied: numpy>=1.15 in /home/jonatas-clementino/.local/lib/python3.8/site-packages (from seaborn) (1.19.4)\n",
      "Requirement already satisfied: pandas>=0.23 in /home/jonatas-clementino/.local/lib/python3.8/site-packages (from seaborn) (1.1.4)\n",
      "Requirement already satisfied: scipy>=1.0 in /home/jonatas-clementino/.local/lib/python3.8/site-packages (from seaborn) (1.5.4)\n",
      "Requirement already satisfied: cycler>=0.10 in /home/jonatas-clementino/.local/lib/python3.8/site-packages (from matplotlib>=2.2->seaborn) (0.10.0)\n",
      "Requirement already satisfied: pyparsing!=2.0.4,!=2.1.2,!=2.1.6,>=2.0.3 in /home/jonatas-clementino/.local/lib/python3.8/site-packages (from matplotlib>=2.2->seaborn) (2.4.7)\n",
      "Requirement already satisfied: pillow>=6.2.0 in /usr/lib/python3/dist-packages (from matplotlib>=2.2->seaborn) (7.0.0)\n",
      "Requirement already satisfied: python-dateutil>=2.1 in /usr/lib/python3/dist-packages (from matplotlib>=2.2->seaborn) (2.7.3)\n",
      "Requirement already satisfied: kiwisolver>=1.0.1 in /home/jonatas-clementino/.local/lib/python3.8/site-packages (from matplotlib>=2.2->seaborn) (1.3.1)\n",
      "Requirement already satisfied: certifi>=2020.06.20 in /home/jonatas-clementino/.local/lib/python3.8/site-packages (from matplotlib>=2.2->seaborn) (2020.11.8)\n",
      "Requirement already satisfied: pytz>=2017.2 in /usr/lib/python3/dist-packages (from pandas>=0.23->seaborn) (2019.3)\n",
      "Requirement already satisfied: six in /usr/lib/python3/dist-packages (from cycler>=0.10->matplotlib>=2.2->seaborn) (1.14.0)\n",
      "Installing collected packages: seaborn\n",
      "Successfully installed seaborn-0.11.0\n",
      "\u001b[33mWARNING: You are using pip version 20.2.3; however, version 20.2.4 is available.\n",
      "You should consider upgrading via the '/usr/bin/python3 -m pip install --upgrade pip' command.\u001b[0m\n"
     ]
    }
   ],
   "source": [
    "!pip3 install seaborn"
   ]
  },
  {
   "cell_type": "markdown",
   "metadata": {
    "id": "N5yRCcjwbO6f"
   },
   "source": [
    "#### Univariado"
   ]
  },
  {
   "cell_type": "markdown",
   "metadata": {
    "id": "g43oozGTaLN-"
   },
   "source": [
    "Percebemos que as métricas do runtime estão um pouco estranhas o mínimo e o máximo estão muito distantes dos valores dos quartis, isso pode indicar que existem outliers. Analisando os quartis as durações dos filmes possuem valores esperados devido ao nosso conhecimento do problema (filmes), porém os mínimos e máximo tem valores muito díspares, o que indica que há outliers no dataset.\n",
    "\n",
    "Vamos visualizar o runtime em forma de gráfico."
   ]
  },
  {
   "cell_type": "code",
   "execution_count": 32,
   "metadata": {
    "colab": {
     "base_uri": "https://localhost:8080/",
     "height": 0
    },
    "id": "eL8d5n_JcTmd",
    "outputId": "d1d26c28-cade-4160-fc0c-b23cad12ad2e"
   },
   "outputs": [
    {
     "data": {
      "text/plain": [
       "<AxesSubplot:>"
      ]
     },
     "execution_count": 32,
     "metadata": {},
     "output_type": "execute_result"
    },
    {
     "data": {
      "image/png": "[encoded data removed]",
      "text/plain": [
       "<Figure size 432x288 with 1 Axes>"
      ]
     },
     "metadata": {
      "needs_background": "light"
     },
     "output_type": "display_data"
    }
   ],
   "source": [
    "movies_df_pd['Runtime'].hist()"
   ]
  },
  {
   "cell_type": "markdown",
   "metadata": {
    "id": "5vlKihS_cjQt"
   },
   "source": [
    "A distribuição de runtime dos filmes ficou ruim de ser visualizada no histograma possivelmente por causa de outliers. Iremos utiliza o log10 para visualizar melhor."
   ]
  },
  {
   "cell_type": "code",
   "execution_count": 33,
   "metadata": {
    "colab": {
     "base_uri": "https://localhost:8080/",
     "height": 0
    },
    "id": "cnUWbbX0oerA",
    "outputId": "b19ceb2a-8e90-4ce2-c5ea-1ea65255f6ca"
   },
   "outputs": [
    {
     "data": {
      "text/plain": [
       "<AxesSubplot:>"
      ]
     },
     "execution_count": 33,
     "metadata": {},
     "output_type": "execute_result"
    },
    {
     "data": {
      "image/png": "[encoded data removed]",
      "text/plain": [
       "<Figure size 432x288 with 1 Axes>"
      ]
     },
     "metadata": {
      "needs_background": "light"
     },
     "output_type": "display_data"
    }
   ],
   "source": [
    "from numpy import log10\n",
    "movies_df_pd['runtime_log'] = log10(movies_df_pd['Runtime'])\n",
    "movies_df_pd['runtime_log'].hist()"
   ]
  },
  {
   "cell_type": "code",
   "execution_count": 34,
   "metadata": {
    "colab": {
     "base_uri": "https://localhost:8080/",
     "height": 0
    },
    "id": "JQjoIVyW5nyg",
    "outputId": "6181ee10-559a-48a8-c9c8-10962a77d9ce"
   },
   "outputs": [
    {
     "data": {
      "text/plain": [
       "<AxesSubplot:>"
      ]
     },
     "execution_count": 34,
     "metadata": {},
     "output_type": "execute_result"
    },
    {
     "data": {
      "image/png": "[encoded data removed]",
      "text/plain": [
       "<Figure size 432x288 with 1 Axes>"
      ]
     },
     "metadata": {
      "needs_background": "light"
     },
     "output_type": "display_data"
    }
   ],
   "source": [
    "movies_df_pd.boxplot(column='Runtime')"
   ]
  },
  {
   "cell_type": "markdown",
   "metadata": {
    "id": "KLrnuEQcdiZl"
   },
   "source": [
    "Analisando o boxplot, fica claro que existem outliers. Vamos Fazer o processo de remoção utilizando o Z-Score Robusto (MAD). "
   ]
  },
  {
   "cell_type": "code",
   "execution_count": 35,
   "metadata": {
    "colab": {
     "base_uri": "https://localhost:8080/"
    },
    "id": "r8Y9jaU95wap",
    "outputId": "62014a2c-f638-41c6-d3bd-e5c2fcf239c1"
   },
   "outputs": [
    {
     "name": "stdout",
     "output_type": "stream",
     "text": [
      "0.07409040023993868\n"
     ]
    }
   ],
   "source": [
    "from numpy import abs\n",
    "mad = abs(movies_df_pd['runtime_log'] - movies_df_pd['runtime_log'].median()).median()*(1/0.6745)\n",
    "print(mad)"
   ]
  },
  {
   "cell_type": "code",
   "execution_count": 36,
   "metadata": {
    "colab": {
     "base_uri": "https://localhost:8080/",
     "height": 0
    },
    "id": "GGKgC26p86o9",
    "outputId": "b1fef27b-10fc-4477-fef2-5a285024ce0e"
   },
   "outputs": [
    {
     "data": {
      "text/plain": [
       "<AxesSubplot:>"
      ]
     },
     "execution_count": 36,
     "metadata": {},
     "output_type": "execute_result"
    },
    {
     "data": {
      "image/png": "[encoded data removed]",
      "text/plain": [
       "<Figure size 432x288 with 1 Axes>"
      ]
     },
     "metadata": {
      "needs_background": "light"
     },
     "output_type": "display_data"
    }
   ],
   "source": [
    "(abs(movies_df_pd['runtime_log']-movies_df_pd['runtime_log'].median())/mad).hist()"
   ]
  },
  {
   "cell_type": "markdown",
   "metadata": {
    "id": "Q5P2Igoh9Edz"
   },
   "source": [
    "Analisamos os dados que iriam sair (outliers) e os que iriam ficar e notamos que ainda existiam muitos filmes outliers iriam continuar no dataset, por isso escolhemos um valor de MAD maior."
   ]
  },
  {
   "cell_type": "code",
   "execution_count": 37,
   "metadata": {
    "colab": {
     "base_uri": "https://localhost:8080/",
     "height": 0
    },
    "id": "HuQeDW3Q9F_r",
    "outputId": "6fcdbd9d-e1a3-414f-fb22-597b967e8c85"
   },
   "outputs": [
    {
     "data": {
      "text/html": [
       "<div>\n",
       "<style scoped>\n",
       "    .dataframe tbody tr th:only-of-type {\n",
       "        vertical-align: middle;\n",
       "    }\n",
       "\n",
       "    .dataframe tbody tr th {\n",
       "        vertical-align: top;\n",
       "    }\n",
       "\n",
       "    .dataframe thead th {\n",
       "        text-align: right;\n",
       "    }\n",
       "</style>\n",
       "<table border=\"1\" class=\"dataframe\">\n",
       "  <thead>\n",
       "    <tr style=\"text-align: right;\">\n",
       "      <th></th>\n",
       "      <th>ID</th>\n",
       "      <th>Title</th>\n",
       "      <th>Year</th>\n",
       "      <th>IMDb</th>\n",
       "      <th>Netflix</th>\n",
       "      <th>Hulu</th>\n",
       "      <th>Prime Video</th>\n",
       "      <th>Disney+</th>\n",
       "      <th>Runtime</th>\n",
       "      <th>DirectorsArray</th>\n",
       "      <th>GenresArray</th>\n",
       "      <th>CountriesArray</th>\n",
       "      <th>LanguagesArray</th>\n",
       "      <th>MinimumClassification</th>\n",
       "      <th>RottenTomatoes</th>\n",
       "      <th>runtime_log</th>\n",
       "    </tr>\n",
       "  </thead>\n",
       "  <tbody>\n",
       "    <tr>\n",
       "      <th>0</th>\n",
       "      <td>1</td>\n",
       "      <td>Inception</td>\n",
       "      <td>2010</td>\n",
       "      <td>8.8</td>\n",
       "      <td>1</td>\n",
       "      <td>0</td>\n",
       "      <td>0</td>\n",
       "      <td>0</td>\n",
       "      <td>148.0</td>\n",
       "      <td>[Christopher Nolan]</td>\n",
       "      <td>[Action, Adventure, Sci-Fi, Thriller]</td>\n",
       "      <td>[United States, United Kingdom]</td>\n",
       "      <td>[English, Japanese, French]</td>\n",
       "      <td>13</td>\n",
       "      <td>8.7</td>\n",
       "      <td>2.170262</td>\n",
       "    </tr>\n",
       "    <tr>\n",
       "      <th>1</th>\n",
       "      <td>2</td>\n",
       "      <td>The Matrix</td>\n",
       "      <td>1999</td>\n",
       "      <td>8.7</td>\n",
       "      <td>1</td>\n",
       "      <td>0</td>\n",
       "      <td>0</td>\n",
       "      <td>0</td>\n",
       "      <td>136.0</td>\n",
       "      <td>[Lana Wachowski, Lilly Wachowski]</td>\n",
       "      <td>[Action, Sci-Fi]</td>\n",
       "      <td>[United States]</td>\n",
       "      <td>[English]</td>\n",
       "      <td>18</td>\n",
       "      <td>8.7</td>\n",
       "      <td>2.133539</td>\n",
       "    </tr>\n",
       "    <tr>\n",
       "      <th>2</th>\n",
       "      <td>3</td>\n",
       "      <td>Avengers: Infinity War</td>\n",
       "      <td>2018</td>\n",
       "      <td>8.5</td>\n",
       "      <td>1</td>\n",
       "      <td>0</td>\n",
       "      <td>0</td>\n",
       "      <td>0</td>\n",
       "      <td>149.0</td>\n",
       "      <td>[Anthony Russo, Joe Russo]</td>\n",
       "      <td>[Action, Adventure, Sci-Fi]</td>\n",
       "      <td>[United States]</td>\n",
       "      <td>[English]</td>\n",
       "      <td>13</td>\n",
       "      <td>8.4</td>\n",
       "      <td>2.173186</td>\n",
       "    </tr>\n",
       "    <tr>\n",
       "      <th>3</th>\n",
       "      <td>4</td>\n",
       "      <td>Back to the Future</td>\n",
       "      <td>1985</td>\n",
       "      <td>8.5</td>\n",
       "      <td>1</td>\n",
       "      <td>0</td>\n",
       "      <td>0</td>\n",
       "      <td>0</td>\n",
       "      <td>116.0</td>\n",
       "      <td>[Robert Zemeckis]</td>\n",
       "      <td>[Adventure, Comedy, Sci-Fi]</td>\n",
       "      <td>[United States]</td>\n",
       "      <td>[English]</td>\n",
       "      <td>7</td>\n",
       "      <td>9.6</td>\n",
       "      <td>2.064458</td>\n",
       "    </tr>\n",
       "    <tr>\n",
       "      <th>4</th>\n",
       "      <td>5</td>\n",
       "      <td>The Good, the Bad and the Ugly</td>\n",
       "      <td>1966</td>\n",
       "      <td>8.8</td>\n",
       "      <td>1</td>\n",
       "      <td>0</td>\n",
       "      <td>1</td>\n",
       "      <td>0</td>\n",
       "      <td>161.0</td>\n",
       "      <td>[Sergio Leone]</td>\n",
       "      <td>[Western]</td>\n",
       "      <td>[Italy, Spain, West Germany]</td>\n",
       "      <td>[Italian]</td>\n",
       "      <td>18</td>\n",
       "      <td>9.7</td>\n",
       "      <td>2.206826</td>\n",
       "    </tr>\n",
       "    <tr>\n",
       "      <th>...</th>\n",
       "      <td>...</td>\n",
       "      <td>...</td>\n",
       "      <td>...</td>\n",
       "      <td>...</td>\n",
       "      <td>...</td>\n",
       "      <td>...</td>\n",
       "      <td>...</td>\n",
       "      <td>...</td>\n",
       "      <td>...</td>\n",
       "      <td>...</td>\n",
       "      <td>...</td>\n",
       "      <td>...</td>\n",
       "      <td>...</td>\n",
       "      <td>...</td>\n",
       "      <td>...</td>\n",
       "      <td>...</td>\n",
       "    </tr>\n",
       "    <tr>\n",
       "      <th>16733</th>\n",
       "      <td>16735</td>\n",
       "      <td>Sultan And The Rock Star</td>\n",
       "      <td>1980</td>\n",
       "      <td>5.9</td>\n",
       "      <td>0</td>\n",
       "      <td>0</td>\n",
       "      <td>0</td>\n",
       "      <td>1</td>\n",
       "      <td>60.0</td>\n",
       "      <td>[Edward M. Abroms]</td>\n",
       "      <td>[Adventure, Drama, Family]</td>\n",
       "      <td>[United States]</td>\n",
       "      <td>[English]</td>\n",
       "      <td>-1</td>\n",
       "      <td>NaN</td>\n",
       "      <td>1.778151</td>\n",
       "    </tr>\n",
       "    <tr>\n",
       "      <th>16736</th>\n",
       "      <td>16738</td>\n",
       "      <td>The Bears and I</td>\n",
       "      <td>1974</td>\n",
       "      <td>6.2</td>\n",
       "      <td>0</td>\n",
       "      <td>0</td>\n",
       "      <td>0</td>\n",
       "      <td>1</td>\n",
       "      <td>89.0</td>\n",
       "      <td>[Bernard McEveety]</td>\n",
       "      <td>[Drama, Family]</td>\n",
       "      <td>[United States]</td>\n",
       "      <td>[English]</td>\n",
       "      <td>0</td>\n",
       "      <td>NaN</td>\n",
       "      <td>1.949390</td>\n",
       "    </tr>\n",
       "    <tr>\n",
       "      <th>16737</th>\n",
       "      <td>16739</td>\n",
       "      <td>Whispers: An Elephant's Tale</td>\n",
       "      <td>2000</td>\n",
       "      <td>5.0</td>\n",
       "      <td>0</td>\n",
       "      <td>0</td>\n",
       "      <td>0</td>\n",
       "      <td>1</td>\n",
       "      <td>72.0</td>\n",
       "      <td>[Dereck Joubert]</td>\n",
       "      <td>[Adventure, Family]</td>\n",
       "      <td>[United States]</td>\n",
       "      <td>[English]</td>\n",
       "      <td>0</td>\n",
       "      <td>NaN</td>\n",
       "      <td>1.857332</td>\n",
       "    </tr>\n",
       "    <tr>\n",
       "      <th>16738</th>\n",
       "      <td>16740</td>\n",
       "      <td>The Ghosts of Buxley Hall</td>\n",
       "      <td>1980</td>\n",
       "      <td>6.2</td>\n",
       "      <td>0</td>\n",
       "      <td>0</td>\n",
       "      <td>0</td>\n",
       "      <td>1</td>\n",
       "      <td>120.0</td>\n",
       "      <td>[Bruce Bilson]</td>\n",
       "      <td>[Comedy, Family, Fantasy, Horror]</td>\n",
       "      <td>[United States]</td>\n",
       "      <td>[English]</td>\n",
       "      <td>-1</td>\n",
       "      <td>NaN</td>\n",
       "      <td>2.079181</td>\n",
       "    </tr>\n",
       "    <tr>\n",
       "      <th>16739</th>\n",
       "      <td>16741</td>\n",
       "      <td>The Poof Point</td>\n",
       "      <td>2001</td>\n",
       "      <td>4.7</td>\n",
       "      <td>0</td>\n",
       "      <td>0</td>\n",
       "      <td>0</td>\n",
       "      <td>1</td>\n",
       "      <td>90.0</td>\n",
       "      <td>[Neal Israel]</td>\n",
       "      <td>[Comedy, Family, Sci-Fi]</td>\n",
       "      <td>[United States]</td>\n",
       "      <td>[English]</td>\n",
       "      <td>7</td>\n",
       "      <td>NaN</td>\n",
       "      <td>1.954243</td>\n",
       "    </tr>\n",
       "  </tbody>\n",
       "</table>\n",
       "<p>15764 rows × 16 columns</p>\n",
       "</div>"
      ],
      "text/plain": [
       "          ID                           Title  Year  IMDb  Netflix  Hulu  \\\n",
       "0          1                       Inception  2010   8.8        1     0   \n",
       "1          2                      The Matrix  1999   8.7        1     0   \n",
       "2          3          Avengers: Infinity War  2018   8.5        1     0   \n",
       "3          4              Back to the Future  1985   8.5        1     0   \n",
       "4          5  The Good, the Bad and the Ugly  1966   8.8        1     0   \n",
       "...      ...                             ...   ...   ...      ...   ...   \n",
       "16733  16735        Sultan And The Rock Star  1980   5.9        0     0   \n",
       "16736  16738                 The Bears and I  1974   6.2        0     0   \n",
       "16737  16739    Whispers: An Elephant's Tale  2000   5.0        0     0   \n",
       "16738  16740       The Ghosts of Buxley Hall  1980   6.2        0     0   \n",
       "16739  16741                  The Poof Point  2001   4.7        0     0   \n",
       "\n",
       "       Prime Video  Disney+  Runtime                     DirectorsArray  \\\n",
       "0                0        0    148.0                [Christopher Nolan]   \n",
       "1                0        0    136.0  [Lana Wachowski, Lilly Wachowski]   \n",
       "2                0        0    149.0         [Anthony Russo, Joe Russo]   \n",
       "3                0        0    116.0                  [Robert Zemeckis]   \n",
       "4                1        0    161.0                     [Sergio Leone]   \n",
       "...            ...      ...      ...                                ...   \n",
       "16733            0        1     60.0                 [Edward M. Abroms]   \n",
       "16736            0        1     89.0                 [Bernard McEveety]   \n",
       "16737            0        1     72.0                   [Dereck Joubert]   \n",
       "16738            0        1    120.0                     [Bruce Bilson]   \n",
       "16739            0        1     90.0                      [Neal Israel]   \n",
       "\n",
       "                                 GenresArray                   CountriesArray  \\\n",
       "0      [Action, Adventure, Sci-Fi, Thriller]  [United States, United Kingdom]   \n",
       "1                           [Action, Sci-Fi]                  [United States]   \n",
       "2                [Action, Adventure, Sci-Fi]                  [United States]   \n",
       "3                [Adventure, Comedy, Sci-Fi]                  [United States]   \n",
       "4                                  [Western]     [Italy, Spain, West Germany]   \n",
       "...                                      ...                              ...   \n",
       "16733             [Adventure, Drama, Family]                  [United States]   \n",
       "16736                        [Drama, Family]                  [United States]   \n",
       "16737                    [Adventure, Family]                  [United States]   \n",
       "16738      [Comedy, Family, Fantasy, Horror]                  [United States]   \n",
       "16739               [Comedy, Family, Sci-Fi]                  [United States]   \n",
       "\n",
       "                    LanguagesArray  MinimumClassification  RottenTomatoes  \\\n",
       "0      [English, Japanese, French]                     13             8.7   \n",
       "1                        [English]                     18             8.7   \n",
       "2                        [English]                     13             8.4   \n",
       "3                        [English]                      7             9.6   \n",
       "4                        [Italian]                     18             9.7   \n",
       "...                            ...                    ...             ...   \n",
       "16733                    [English]                     -1             NaN   \n",
       "16736                    [English]                      0             NaN   \n",
       "16737                    [English]                      0             NaN   \n",
       "16738                    [English]                     -1             NaN   \n",
       "16739                    [English]                      7             NaN   \n",
       "\n",
       "       runtime_log  \n",
       "0         2.170262  \n",
       "1         2.133539  \n",
       "2         2.173186  \n",
       "3         2.064458  \n",
       "4         2.206826  \n",
       "...            ...  \n",
       "16733     1.778151  \n",
       "16736     1.949390  \n",
       "16737     1.857332  \n",
       "16738     2.079181  \n",
       "16739     1.954243  \n",
       "\n",
       "[15764 rows x 16 columns]"
      ]
     },
     "execution_count": 37,
     "metadata": {},
     "output_type": "execute_result"
    }
   ],
   "source": [
    "movies_df_mad = movies_df_pd[abs(movies_df_pd['runtime_log']-movies_df_pd['runtime_log'].median())/mad < 6]\n",
    "movies_df_mad"
   ]
  },
  {
   "cell_type": "code",
   "execution_count": 38,
   "metadata": {
    "colab": {
     "base_uri": "https://localhost:8080/",
     "height": 0
    },
    "id": "zrg269Uc92oA",
    "outputId": "0efb074d-74fe-4b44-b3fb-64bfb67b025c"
   },
   "outputs": [
    {
     "data": {
      "text/plain": [
       "<AxesSubplot:>"
      ]
     },
     "execution_count": 38,
     "metadata": {},
     "output_type": "execute_result"
    },
    {
     "data": {
      "image/png": "[encoded data removed]",
      "text/plain": [
       "<Figure size 432x288 with 1 Axes>"
      ]
     },
     "metadata": {
      "needs_background": "light"
     },
     "output_type": "display_data"
    }
   ],
   "source": [
    "movies_df_mad.boxplot(column='Runtime')"
   ]
  },
  {
   "cell_type": "code",
   "execution_count": 39,
   "metadata": {
    "id": "PbJN_urKj6UI"
   },
   "outputs": [],
   "source": [
    "movies_no_outliers = movies_df_mad"
   ]
  },
  {
   "cell_type": "markdown",
   "metadata": {
    "id": "ttLVMkfubSoa"
   },
   "source": [
    "#### Bivariado"
   ]
  },
  {
   "cell_type": "markdown",
   "metadata": {
    "id": "ESxfCw9JbgZs"
   },
   "source": [
    "Vamos detectar outliers agora a partir das colunas de notas, IMDb e Rotten Tomatoes."
   ]
  },
  {
   "cell_type": "code",
   "execution_count": 40,
   "metadata": {
    "colab": {
     "base_uri": "https://localhost:8080/",
     "height": 0
    },
    "id": "HMuvQY3mbVf6",
    "outputId": "bbbafc93-a5c1-46c5-b40c-c945885df18a"
   },
   "outputs": [
    {
     "data": {
      "text/plain": [
       "<AxesSubplot:xlabel='IMDb', ylabel='RottenTomatoes'>"
      ]
     },
     "execution_count": 40,
     "metadata": {},
     "output_type": "execute_result"
    },
    {
     "data": {
      "image/png": "[encoded data removed]",
      "text/plain": [
       "<Figure size 432x288 with 1 Axes>"
      ]
     },
     "metadata": {
      "needs_background": "light"
     },
     "output_type": "display_data"
    }
   ],
   "source": [
    "movies_no_outliers.plot.scatter(x='IMDb', y='RottenTomatoes')"
   ]
  },
  {
   "cell_type": "code",
   "execution_count": 41,
   "metadata": {
    "colab": {
     "base_uri": "https://localhost:8080/"
    },
    "id": "E6groq7ucXki",
    "outputId": "91442fdc-d767-40eb-c449-c3b0c0dca6ab"
   },
   "outputs": [
    {
     "name": "stderr",
     "output_type": "stream",
     "text": [
      "<ipython-input-41-acc2afd09ce0>:1: SettingWithCopyWarning: \n",
      "A value is trying to be set on a copy of a slice from a DataFrame.\n",
      "Try using .loc[row_indexer,col_indexer] = value instead\n",
      "\n",
      "See the caveats in the documentation: https://pandas.pydata.org/pandas-docs/stable/user_guide/indexing.html#returning-a-view-versus-a-copy\n",
      "  movies_no_outliers['rating_rate'] = movies_no_outliers['RottenTomatoes'] / movies_no_outliers['IMDb']\n"
     ]
    },
    {
     "data": {
      "text/plain": [
       "count    5070.000000\n",
       "mean        1.008390\n",
       "std         0.373930\n",
       "min         0.037037\n",
       "25%         0.757576\n",
       "50%         1.094595\n",
       "75%         1.272727\n",
       "max         3.041667\n",
       "Name: rating_rate, dtype: float64"
      ]
     },
     "execution_count": 41,
     "metadata": {},
     "output_type": "execute_result"
    }
   ],
   "source": [
    "movies_no_outliers['rating_rate'] = movies_no_outliers['RottenTomatoes'] / movies_no_outliers['IMDb']\n",
    "movies_no_outliers['rating_rate'].describe()"
   ]
  },
  {
   "cell_type": "code",
   "execution_count": 42,
   "metadata": {
    "colab": {
     "base_uri": "https://localhost:8080/",
     "height": 0
    },
    "id": "A-05NtozczM3",
    "outputId": "280facde-a2ca-41c2-ff6f-14e0dae45692"
   },
   "outputs": [
    {
     "data": {
      "text/plain": [
       "<AxesSubplot:>"
      ]
     },
     "execution_count": 42,
     "metadata": {},
     "output_type": "execute_result"
    },
    {
     "data": {
      "image/png": "[encoded data removed]",
      "text/plain": [
       "<Figure size 432x288 with 1 Axes>"
      ]
     },
     "metadata": {
      "needs_background": "light"
     },
     "output_type": "display_data"
    }
   ],
   "source": [
    "movies_no_outliers['rating_rate'].plot.box()"
   ]
  },
  {
   "cell_type": "code",
   "execution_count": 43,
   "metadata": {
    "colab": {
     "base_uri": "https://localhost:8080/",
     "height": 0
    },
    "id": "PfSxD_p6dXLG",
    "outputId": "5109028e-2720-4a4b-ab6b-390c99dce12b"
   },
   "outputs": [
    {
     "data": {
      "text/plain": [
       "<AxesSubplot:>"
      ]
     },
     "execution_count": 43,
     "metadata": {},
     "output_type": "execute_result"
    },
    {
     "data": {
      "image/png": "[encoded data removed]",
      "text/plain": [
       "<Figure size 432x288 with 1 Axes>"
      ]
     },
     "metadata": {
      "needs_background": "light"
     },
     "output_type": "display_data"
    }
   ],
   "source": [
    "movies_no_outliers['rating_rate'].hist()"
   ]
  },
  {
   "cell_type": "code",
   "execution_count": 44,
   "metadata": {
    "colab": {
     "base_uri": "https://localhost:8080/"
    },
    "id": "cojmIg-KdvRd",
    "outputId": "467a4d88-f241-405e-bcf6-9042fa302689"
   },
   "outputs": [
    {
     "name": "stdout",
     "output_type": "stream",
     "text": [
      "0.3405926311782501\n"
     ]
    }
   ],
   "source": [
    "mad = abs(movies_no_outliers['rating_rate'] - movies_no_outliers['rating_rate'].median()).median()*(1/0.6745)\n",
    "print(mad)"
   ]
  },
  {
   "cell_type": "code",
   "execution_count": 45,
   "metadata": {
    "colab": {
     "base_uri": "https://localhost:8080/",
     "height": 0
    },
    "id": "QkKiNxVxddN5",
    "outputId": "31967497-d4ec-4a5b-f86a-6104bf194ab1"
   },
   "outputs": [
    {
     "data": {
      "text/plain": [
       "<AxesSubplot:>"
      ]
     },
     "execution_count": 45,
     "metadata": {},
     "output_type": "execute_result"
    },
    {
     "data": {
      "image/png": "[encoded data removed]",
      "text/plain": [
       "<Figure size 432x288 with 1 Axes>"
      ]
     },
     "metadata": {
      "needs_background": "light"
     },
     "output_type": "display_data"
    }
   ],
   "source": [
    "(abs(movies_no_outliers['rating_rate']-movies_no_outliers['rating_rate'].median())/mad).hist()"
   ]
  },
  {
   "cell_type": "code",
   "execution_count": 46,
   "metadata": {
    "colab": {
     "base_uri": "https://localhost:8080/",
     "height": 0
    },
    "id": "2_Qi9FTOfU-9",
    "outputId": "5e77626e-8cad-455e-ddde-1b7c6fa90eb2"
   },
   "outputs": [
    {
     "data": {
      "text/html": [
       "<div>\n",
       "<style scoped>\n",
       "    .dataframe tbody tr th:only-of-type {\n",
       "        vertical-align: middle;\n",
       "    }\n",
       "\n",
       "    .dataframe tbody tr th {\n",
       "        vertical-align: top;\n",
       "    }\n",
       "\n",
       "    .dataframe thead th {\n",
       "        text-align: right;\n",
       "    }\n",
       "</style>\n",
       "<table border=\"1\" class=\"dataframe\">\n",
       "  <thead>\n",
       "    <tr style=\"text-align: right;\">\n",
       "      <th></th>\n",
       "      <th>IMDb</th>\n",
       "      <th>RottenTomatoes</th>\n",
       "      <th>rating_rate</th>\n",
       "    </tr>\n",
       "  </thead>\n",
       "  <tbody>\n",
       "    <tr>\n",
       "      <th>1368</th>\n",
       "      <td>4.7</td>\n",
       "      <td>10.0</td>\n",
       "      <td>2.127660</td>\n",
       "    </tr>\n",
       "    <tr>\n",
       "      <th>2043</th>\n",
       "      <td>4.4</td>\n",
       "      <td>0.3</td>\n",
       "      <td>0.068182</td>\n",
       "    </tr>\n",
       "    <tr>\n",
       "      <th>4208</th>\n",
       "      <td>4.4</td>\n",
       "      <td>0.2</td>\n",
       "      <td>0.045455</td>\n",
       "    </tr>\n",
       "    <tr>\n",
       "      <th>4257</th>\n",
       "      <td>5.4</td>\n",
       "      <td>0.2</td>\n",
       "      <td>0.037037</td>\n",
       "    </tr>\n",
       "    <tr>\n",
       "      <th>5342</th>\n",
       "      <td>4.6</td>\n",
       "      <td>10.0</td>\n",
       "      <td>2.173913</td>\n",
       "    </tr>\n",
       "    <tr>\n",
       "      <th>5466</th>\n",
       "      <td>4.1</td>\n",
       "      <td>8.8</td>\n",
       "      <td>2.146341</td>\n",
       "    </tr>\n",
       "    <tr>\n",
       "      <th>5563</th>\n",
       "      <td>4.5</td>\n",
       "      <td>10.0</td>\n",
       "      <td>2.222222</td>\n",
       "    </tr>\n",
       "    <tr>\n",
       "      <th>5888</th>\n",
       "      <td>4.2</td>\n",
       "      <td>10.0</td>\n",
       "      <td>2.380952</td>\n",
       "    </tr>\n",
       "    <tr>\n",
       "      <th>6041</th>\n",
       "      <td>4.6</td>\n",
       "      <td>10.0</td>\n",
       "      <td>2.173913</td>\n",
       "    </tr>\n",
       "    <tr>\n",
       "      <th>6158</th>\n",
       "      <td>4.1</td>\n",
       "      <td>10.0</td>\n",
       "      <td>2.439024</td>\n",
       "    </tr>\n",
       "    <tr>\n",
       "      <th>6159</th>\n",
       "      <td>3.3</td>\n",
       "      <td>7.8</td>\n",
       "      <td>2.363636</td>\n",
       "    </tr>\n",
       "    <tr>\n",
       "      <th>6298</th>\n",
       "      <td>3.8</td>\n",
       "      <td>8.3</td>\n",
       "      <td>2.184211</td>\n",
       "    </tr>\n",
       "    <tr>\n",
       "      <th>6308</th>\n",
       "      <td>6.3</td>\n",
       "      <td>0.4</td>\n",
       "      <td>0.063492</td>\n",
       "    </tr>\n",
       "    <tr>\n",
       "      <th>6507</th>\n",
       "      <td>3.6</td>\n",
       "      <td>10.0</td>\n",
       "      <td>2.777778</td>\n",
       "    </tr>\n",
       "    <tr>\n",
       "      <th>6938</th>\n",
       "      <td>5.3</td>\n",
       "      <td>0.2</td>\n",
       "      <td>0.037736</td>\n",
       "    </tr>\n",
       "    <tr>\n",
       "      <th>7160</th>\n",
       "      <td>3.4</td>\n",
       "      <td>8.0</td>\n",
       "      <td>2.352941</td>\n",
       "    </tr>\n",
       "    <tr>\n",
       "      <th>7339</th>\n",
       "      <td>5.1</td>\n",
       "      <td>0.3</td>\n",
       "      <td>0.058824</td>\n",
       "    </tr>\n",
       "    <tr>\n",
       "      <th>7495</th>\n",
       "      <td>4.4</td>\n",
       "      <td>0.3</td>\n",
       "      <td>0.068182</td>\n",
       "    </tr>\n",
       "    <tr>\n",
       "      <th>8133</th>\n",
       "      <td>4.6</td>\n",
       "      <td>0.2</td>\n",
       "      <td>0.043478</td>\n",
       "    </tr>\n",
       "    <tr>\n",
       "      <th>8622</th>\n",
       "      <td>4.5</td>\n",
       "      <td>10.0</td>\n",
       "      <td>2.222222</td>\n",
       "    </tr>\n",
       "    <tr>\n",
       "      <th>9787</th>\n",
       "      <td>4.6</td>\n",
       "      <td>0.3</td>\n",
       "      <td>0.065217</td>\n",
       "    </tr>\n",
       "    <tr>\n",
       "      <th>16524</th>\n",
       "      <td>2.4</td>\n",
       "      <td>7.3</td>\n",
       "      <td>3.041667</td>\n",
       "    </tr>\n",
       "  </tbody>\n",
       "</table>\n",
       "</div>"
      ],
      "text/plain": [
       "       IMDb  RottenTomatoes  rating_rate\n",
       "1368    4.7            10.0     2.127660\n",
       "2043    4.4             0.3     0.068182\n",
       "4208    4.4             0.2     0.045455\n",
       "4257    5.4             0.2     0.037037\n",
       "5342    4.6            10.0     2.173913\n",
       "5466    4.1             8.8     2.146341\n",
       "5563    4.5            10.0     2.222222\n",
       "5888    4.2            10.0     2.380952\n",
       "6041    4.6            10.0     2.173913\n",
       "6158    4.1            10.0     2.439024\n",
       "6159    3.3             7.8     2.363636\n",
       "6298    3.8             8.3     2.184211\n",
       "6308    6.3             0.4     0.063492\n",
       "6507    3.6            10.0     2.777778\n",
       "6938    5.3             0.2     0.037736\n",
       "7160    3.4             8.0     2.352941\n",
       "7339    5.1             0.3     0.058824\n",
       "7495    4.4             0.3     0.068182\n",
       "8133    4.6             0.2     0.043478\n",
       "8622    4.5            10.0     2.222222\n",
       "9787    4.6             0.3     0.065217\n",
       "16524   2.4             7.3     3.041667"
      ]
     },
     "execution_count": 46,
     "metadata": {},
     "output_type": "execute_result"
    }
   ],
   "source": [
    "movies_no_outliers[abs(movies_no_outliers['rating_rate']-movies_no_outliers['rating_rate'].median())/mad >= 3][['IMDb', 'RottenTomatoes', 'rating_rate']]"
   ]
  },
  {
   "cell_type": "code",
   "execution_count": 47,
   "metadata": {
    "id": "4iqgJTi1eWsd"
   },
   "outputs": [],
   "source": [
    "movies_df_mad_bi = movies_no_outliers[abs(movies_no_outliers['rating_rate']-movies_no_outliers['rating_rate'].median())/mad < 3]"
   ]
  },
  {
   "cell_type": "code",
   "execution_count": 48,
   "metadata": {
    "colab": {
     "base_uri": "https://localhost:8080/",
     "height": 0
    },
    "id": "gUw7mtiLfAmD",
    "outputId": "c08674a2-145c-4262-f561-f87f7c06bed5"
   },
   "outputs": [
    {
     "data": {
      "text/plain": [
       "<AxesSubplot:>"
      ]
     },
     "execution_count": 48,
     "metadata": {},
     "output_type": "execute_result"
    },
    {
     "data": {
      "image/png": "[encoded data removed]",
      "text/plain": [
       "<Figure size 432x288 with 1 Axes>"
      ]
     },
     "metadata": {
      "needs_background": "light"
     },
     "output_type": "display_data"
    }
   ],
   "source": [
    "movies_df_mad_bi['rating_rate'].plot.box()"
   ]
  },
  {
   "cell_type": "code",
   "execution_count": 49,
   "metadata": {
    "id": "K_gJeVKw9L7V"
   },
   "outputs": [],
   "source": [
    "movies_no_outliers = movies_df_mad_bi"
   ]
  },
  {
   "cell_type": "markdown",
   "metadata": {
    "id": "tIA6B9pbvn5f"
   },
   "source": [
    "Vamos transformar o dataframe de Pandas em Pyspark para utilizar futuramente, a fim de fazer queries, etc."
   ]
  },
  {
   "cell_type": "code",
   "execution_count": 50,
   "metadata": {
    "colab": {
     "base_uri": "https://localhost:8080/"
    },
    "id": "adC4S__RlNj2",
    "outputId": "e2e458e5-8761-41c7-d0b5-13392cec9f50"
   },
   "outputs": [
    {
     "name": "stdout",
     "output_type": "stream",
     "text": [
      "+---+--------------------+----+----+-------+----+-----------+-------+-------+--------------------+--------------------+--------------------+--------------------+---------------------+--------------+------------------+------------------+\n",
      "| ID|               Title|Year|IMDb|Netflix|Hulu|Prime Video|Disney+|Runtime|      DirectorsArray|         GenresArray|      CountriesArray|      LanguagesArray|MinimumClassification|RottenTomatoes|       runtime_log|       rating_rate|\n",
      "+---+--------------------+----+----+-------+----+-----------+-------+-------+--------------------+--------------------+--------------------+--------------------+---------------------+--------------+------------------+------------------+\n",
      "|  1|           Inception|2010| 8.8|      1|   0|          0|      0|  148.0| [Christopher Nolan]|[Action, Adventur...|[United States, U...|[English, Japanes...|                   13|           8.7|2.1702617153949575|0.9886363636363634|\n",
      "|  2|          The Matrix|1999| 8.7|      1|   0|          0|      0|  136.0|[Lana Wachowski, ...|    [Action, Sci-Fi]|     [United States]|           [English]|                   18|           8.7|2.1335389083702174|               1.0|\n",
      "|  3|Avengers: Infinit...|2018| 8.5|      1|   0|          0|      0|  149.0|[Anthony Russo, J...|[Action, Adventur...|     [United States]|           [English]|                   13|           8.4| 2.173186268412274|0.9882352941176471|\n",
      "|  4|  Back to the Future|1985| 8.5|      1|   0|          0|      0|  116.0|   [Robert Zemeckis]|[Adventure, Comed...|     [United States]|           [English]|                    7|           9.6|2.0644579892269186|1.1294117647058823|\n",
      "|  5|The Good, the Bad...|1966| 8.8|      1|   0|          1|      0|  161.0|      [Sergio Leone]|           [Western]|[Italy, Spain, We...|           [Italian]|                   18|           9.7|2.2068258760318495| 1.102272727272727|\n",
      "+---+--------------------+----+----+-------+----+-----------+-------+-------+--------------------+--------------------+--------------------+--------------------+---------------------+--------------+------------------+------------------+\n",
      "only showing top 5 rows\n",
      "\n"
     ]
    }
   ],
   "source": [
    "movies_no_outliers_py = sql_context.createDataFrame(movies_no_outliers)\n",
    "movies_no_outliers_py.show(5)"
   ]
  },
  {
   "cell_type": "markdown",
   "metadata": {
    "id": "SFopajQ0vx7s"
   },
   "source": [
    "Como removemos vários outliers, vamos atualizar as tabelas que explodimos anteriormente, para ter as informacoes dos arrays separadamente."
   ]
  },
  {
   "cell_type": "code",
   "execution_count": 51,
   "metadata": {
    "id": "i-irKXJZn7nQ"
   },
   "outputs": [],
   "source": [
    "movie_director_df = movies_no_outliers_py.select('ID', 'DirectorsArray').withColumn('Director', explode(col('DirectorsArray'))).select('ID', 'Director')\n",
    "movie_genre_df = movies_no_outliers_py.select('ID', 'GenresArray').withColumn('Genre', explode(col('GenresArray'))).select('ID', 'Genre')\n",
    "movie_country_df = movies_no_outliers_py.select('ID', 'CountriesArray').withColumn('Country', explode(col('CountriesArray'))).select('ID', 'Country')\n",
    "movie_language_df = movies_no_outliers_py.select('ID', 'LanguagesArray').withColumn('Language', explode(col('LanguagesArray'))).select('ID', 'Language')"
   ]
  },
  {
   "cell_type": "markdown",
   "metadata": {
    "id": "jPMV5zICZwAV"
   },
   "source": [
    "### Análises Descritivas"
   ]
  },
  {
   "cell_type": "markdown",
   "metadata": {
    "id": "MKbBDsX4epjM"
   },
   "source": [
    "Iremos rodar a correlação de spearman sobre o dataset para verificar se há algum tipo de correlação entre as colunas."
   ]
  },
  {
   "cell_type": "markdown",
   "metadata": {
    "id": "3ELs_mNNh9Rk"
   },
   "source": [
    "Podemos perceber que há uma correlação alta e positiva entre as colunas RottenTomatoes e IMDb, que é esperado porque ambos representam a opinião sobre o filme."
   ]
  },
  {
   "cell_type": "code",
   "execution_count": 52,
   "metadata": {
    "colab": {
     "base_uri": "https://localhost:8080/",
     "height": 0
    },
    "id": "HHy2GlcTz6m4",
    "outputId": "6393e892-8181-47a5-c04a-74d3ca26d5c4"
   },
   "outputs": [
    {
     "data": {
      "text/html": [
       "<div>\n",
       "<style scoped>\n",
       "    .dataframe tbody tr th:only-of-type {\n",
       "        vertical-align: middle;\n",
       "    }\n",
       "\n",
       "    .dataframe tbody tr th {\n",
       "        vertical-align: top;\n",
       "    }\n",
       "\n",
       "    .dataframe thead th {\n",
       "        text-align: right;\n",
       "    }\n",
       "</style>\n",
       "<table border=\"1\" class=\"dataframe\">\n",
       "  <thead>\n",
       "    <tr style=\"text-align: right;\">\n",
       "      <th></th>\n",
       "      <th>ID</th>\n",
       "      <th>Year</th>\n",
       "      <th>IMDb</th>\n",
       "      <th>Netflix</th>\n",
       "      <th>Hulu</th>\n",
       "      <th>Prime Video</th>\n",
       "      <th>Disney+</th>\n",
       "      <th>Runtime</th>\n",
       "      <th>MinimumClassification</th>\n",
       "      <th>RottenTomatoes</th>\n",
       "      <th>runtime_log</th>\n",
       "      <th>rating_rate</th>\n",
       "    </tr>\n",
       "  </thead>\n",
       "  <tbody>\n",
       "    <tr>\n",
       "      <th>ID</th>\n",
       "      <td>1.000000</td>\n",
       "      <td>-0.332790</td>\n",
       "      <td>-0.290336</td>\n",
       "      <td>-0.776263</td>\n",
       "      <td>-0.217045</td>\n",
       "      <td>0.539221</td>\n",
       "      <td>0.398049</td>\n",
       "      <td>-0.198961</td>\n",
       "      <td>-0.141576</td>\n",
       "      <td>-0.280370</td>\n",
       "      <td>-0.198961</td>\n",
       "      <td>-0.194900</td>\n",
       "    </tr>\n",
       "    <tr>\n",
       "      <th>Year</th>\n",
       "      <td>-0.332790</td>\n",
       "      <td>1.000000</td>\n",
       "      <td>-0.119711</td>\n",
       "      <td>0.322111</td>\n",
       "      <td>0.152627</td>\n",
       "      <td>-0.280248</td>\n",
       "      <td>-0.186697</td>\n",
       "      <td>0.022597</td>\n",
       "      <td>-0.037418</td>\n",
       "      <td>0.076419</td>\n",
       "      <td>0.022597</td>\n",
       "      <td>0.156005</td>\n",
       "    </tr>\n",
       "    <tr>\n",
       "      <th>IMDb</th>\n",
       "      <td>-0.290336</td>\n",
       "      <td>-0.119711</td>\n",
       "      <td>1.000000</td>\n",
       "      <td>0.032672</td>\n",
       "      <td>-0.013310</td>\n",
       "      <td>-0.049930</td>\n",
       "      <td>0.036764</td>\n",
       "      <td>0.205563</td>\n",
       "      <td>-0.098058</td>\n",
       "      <td>0.630890</td>\n",
       "      <td>0.205563</td>\n",
       "      <td>0.288594</td>\n",
       "    </tr>\n",
       "    <tr>\n",
       "      <th>Netflix</th>\n",
       "      <td>-0.776263</td>\n",
       "      <td>0.322111</td>\n",
       "      <td>0.032672</td>\n",
       "      <td>1.000000</td>\n",
       "      <td>-0.212864</td>\n",
       "      <td>-0.644810</td>\n",
       "      <td>-0.153063</td>\n",
       "      <td>0.107200</td>\n",
       "      <td>0.097192</td>\n",
       "      <td>0.020211</td>\n",
       "      <td>0.107200</td>\n",
       "      <td>-0.004528</td>\n",
       "    </tr>\n",
       "    <tr>\n",
       "      <th>Hulu</th>\n",
       "      <td>-0.217045</td>\n",
       "      <td>0.152627</td>\n",
       "      <td>-0.013310</td>\n",
       "      <td>-0.212864</td>\n",
       "      <td>1.000000</td>\n",
       "      <td>-0.244559</td>\n",
       "      <td>-0.086595</td>\n",
       "      <td>0.019192</td>\n",
       "      <td>0.047335</td>\n",
       "      <td>0.020343</td>\n",
       "      <td>0.019192</td>\n",
       "      <td>0.033851</td>\n",
       "    </tr>\n",
       "    <tr>\n",
       "      <th>Prime Video</th>\n",
       "      <td>0.539221</td>\n",
       "      <td>-0.280248</td>\n",
       "      <td>-0.049930</td>\n",
       "      <td>-0.644810</td>\n",
       "      <td>-0.244559</td>\n",
       "      <td>1.000000</td>\n",
       "      <td>-0.309820</td>\n",
       "      <td>-0.063600</td>\n",
       "      <td>-0.039630</td>\n",
       "      <td>-0.047219</td>\n",
       "      <td>-0.063600</td>\n",
       "      <td>-0.022291</td>\n",
       "    </tr>\n",
       "    <tr>\n",
       "      <th>Disney+</th>\n",
       "      <td>0.398049</td>\n",
       "      <td>-0.186697</td>\n",
       "      <td>0.036764</td>\n",
       "      <td>-0.153063</td>\n",
       "      <td>-0.086595</td>\n",
       "      <td>-0.309820</td>\n",
       "      <td>1.000000</td>\n",
       "      <td>-0.028815</td>\n",
       "      <td>-0.073778</td>\n",
       "      <td>-0.015980</td>\n",
       "      <td>-0.028815</td>\n",
       "      <td>-0.045844</td>\n",
       "    </tr>\n",
       "    <tr>\n",
       "      <th>Runtime</th>\n",
       "      <td>-0.198961</td>\n",
       "      <td>0.022597</td>\n",
       "      <td>0.205563</td>\n",
       "      <td>0.107200</td>\n",
       "      <td>0.019192</td>\n",
       "      <td>-0.063600</td>\n",
       "      <td>-0.028815</td>\n",
       "      <td>1.000000</td>\n",
       "      <td>0.162155</td>\n",
       "      <td>-0.007897</td>\n",
       "      <td>1.000000</td>\n",
       "      <td>-0.105624</td>\n",
       "    </tr>\n",
       "    <tr>\n",
       "      <th>MinimumClassification</th>\n",
       "      <td>-0.141576</td>\n",
       "      <td>-0.037418</td>\n",
       "      <td>-0.098058</td>\n",
       "      <td>0.097192</td>\n",
       "      <td>0.047335</td>\n",
       "      <td>-0.039630</td>\n",
       "      <td>-0.073778</td>\n",
       "      <td>0.162155</td>\n",
       "      <td>1.000000</td>\n",
       "      <td>-0.210626</td>\n",
       "      <td>0.162155</td>\n",
       "      <td>-0.214077</td>\n",
       "    </tr>\n",
       "    <tr>\n",
       "      <th>RottenTomatoes</th>\n",
       "      <td>-0.280370</td>\n",
       "      <td>0.076419</td>\n",
       "      <td>0.630890</td>\n",
       "      <td>0.020211</td>\n",
       "      <td>0.020343</td>\n",
       "      <td>-0.047219</td>\n",
       "      <td>-0.015980</td>\n",
       "      <td>-0.007897</td>\n",
       "      <td>-0.210626</td>\n",
       "      <td>1.000000</td>\n",
       "      <td>-0.007897</td>\n",
       "      <td>0.897601</td>\n",
       "    </tr>\n",
       "    <tr>\n",
       "      <th>runtime_log</th>\n",
       "      <td>-0.198961</td>\n",
       "      <td>0.022597</td>\n",
       "      <td>0.205563</td>\n",
       "      <td>0.107200</td>\n",
       "      <td>0.019192</td>\n",
       "      <td>-0.063600</td>\n",
       "      <td>-0.028815</td>\n",
       "      <td>1.000000</td>\n",
       "      <td>0.162155</td>\n",
       "      <td>-0.007897</td>\n",
       "      <td>1.000000</td>\n",
       "      <td>-0.105624</td>\n",
       "    </tr>\n",
       "    <tr>\n",
       "      <th>rating_rate</th>\n",
       "      <td>-0.194900</td>\n",
       "      <td>0.156005</td>\n",
       "      <td>0.288594</td>\n",
       "      <td>-0.004528</td>\n",
       "      <td>0.033851</td>\n",
       "      <td>-0.022291</td>\n",
       "      <td>-0.045844</td>\n",
       "      <td>-0.105624</td>\n",
       "      <td>-0.214077</td>\n",
       "      <td>0.897601</td>\n",
       "      <td>-0.105624</td>\n",
       "      <td>1.000000</td>\n",
       "    </tr>\n",
       "  </tbody>\n",
       "</table>\n",
       "</div>"
      ],
      "text/plain": [
       "                             ID      Year      IMDb   Netflix      Hulu  \\\n",
       "ID                     1.000000 -0.332790 -0.290336 -0.776263 -0.217045   \n",
       "Year                  -0.332790  1.000000 -0.119711  0.322111  0.152627   \n",
       "IMDb                  -0.290336 -0.119711  1.000000  0.032672 -0.013310   \n",
       "Netflix               -0.776263  0.322111  0.032672  1.000000 -0.212864   \n",
       "Hulu                  -0.217045  0.152627 -0.013310 -0.212864  1.000000   \n",
       "Prime Video            0.539221 -0.280248 -0.049930 -0.644810 -0.244559   \n",
       "Disney+                0.398049 -0.186697  0.036764 -0.153063 -0.086595   \n",
       "Runtime               -0.198961  0.022597  0.205563  0.107200  0.019192   \n",
       "MinimumClassification -0.141576 -0.037418 -0.098058  0.097192  0.047335   \n",
       "RottenTomatoes        -0.280370  0.076419  0.630890  0.020211  0.020343   \n",
       "runtime_log           -0.198961  0.022597  0.205563  0.107200  0.019192   \n",
       "rating_rate           -0.194900  0.156005  0.288594 -0.004528  0.033851   \n",
       "\n",
       "                       Prime Video   Disney+   Runtime  MinimumClassification  \\\n",
       "ID                        0.539221  0.398049 -0.198961              -0.141576   \n",
       "Year                     -0.280248 -0.186697  0.022597              -0.037418   \n",
       "IMDb                     -0.049930  0.036764  0.205563              -0.098058   \n",
       "Netflix                  -0.644810 -0.153063  0.107200               0.097192   \n",
       "Hulu                     -0.244559 -0.086595  0.019192               0.047335   \n",
       "Prime Video               1.000000 -0.309820 -0.063600              -0.039630   \n",
       "Disney+                  -0.309820  1.000000 -0.028815              -0.073778   \n",
       "Runtime                  -0.063600 -0.028815  1.000000               0.162155   \n",
       "MinimumClassification    -0.039630 -0.073778  0.162155               1.000000   \n",
       "RottenTomatoes           -0.047219 -0.015980 -0.007897              -0.210626   \n",
       "runtime_log              -0.063600 -0.028815  1.000000               0.162155   \n",
       "rating_rate              -0.022291 -0.045844 -0.105624              -0.214077   \n",
       "\n",
       "                       RottenTomatoes  runtime_log  rating_rate  \n",
       "ID                          -0.280370    -0.198961    -0.194900  \n",
       "Year                         0.076419     0.022597     0.156005  \n",
       "IMDb                         0.630890     0.205563     0.288594  \n",
       "Netflix                      0.020211     0.107200    -0.004528  \n",
       "Hulu                         0.020343     0.019192     0.033851  \n",
       "Prime Video                 -0.047219    -0.063600    -0.022291  \n",
       "Disney+                     -0.015980    -0.028815    -0.045844  \n",
       "Runtime                     -0.007897     1.000000    -0.105624  \n",
       "MinimumClassification       -0.210626     0.162155    -0.214077  \n",
       "RottenTomatoes               1.000000    -0.007897     0.897601  \n",
       "runtime_log                 -0.007897     1.000000    -0.105624  \n",
       "rating_rate                  0.897601    -0.105624     1.000000  "
      ]
     },
     "execution_count": 52,
     "metadata": {},
     "output_type": "execute_result"
    }
   ],
   "source": [
    "movies_no_outliers.corr(method='spearman')"
   ]
  },
  {
   "cell_type": "markdown",
   "metadata": {
    "id": "v2arJzBy7-jt"
   },
   "source": [
    "#### Análise Plataformas de streaming"
   ]
  },
  {
   "cell_type": "markdown",
   "metadata": {
    "id": "y9DLg5JJjikK"
   },
   "source": [
    "Agora ao analisar a quantidade de filmes por plataforma de streaming, percebemos que a maior parte dos dados é composta por filmes que estão no Prime Video."
   ]
  },
  {
   "cell_type": "code",
   "execution_count": 53,
   "metadata": {
    "colab": {
     "base_uri": "https://localhost:8080/",
     "height": 0
    },
    "id": "fNFZy8gk13HM",
    "outputId": "ee8b5239-eb29-4456-a0dd-35158dabb07c"
   },
   "outputs": [
    {
     "data": {
      "text/plain": [
       "<AxesSubplot:>"
      ]
     },
     "execution_count": 53,
     "metadata": {},
     "output_type": "execute_result"
    },
    {
     "data": {
      "image/png": "[encoded data removed]",
      "text/plain": [
       "<Figure size 432x288 with 1 Axes>"
      ]
     },
     "metadata": {
      "needs_background": "light"
     },
     "output_type": "display_data"
    }
   ],
   "source": [
    "movies_no_outliers[['Netflix', 'Prime Video', 'Disney+', 'Hulu']].sum(skipna=True).plot.bar()"
   ]
  },
  {
   "cell_type": "markdown",
   "metadata": {
    "id": "5DXsJUD08IZi"
   },
   "source": [
    "#### Análise de número de filmes por década e ano"
   ]
  },
  {
   "cell_type": "markdown",
   "metadata": {
    "id": "Pgft5iFToozr"
   },
   "source": [
    "Agora vamos analisar a criação de filmes ao longo das décadas."
   ]
  },
  {
   "cell_type": "code",
   "execution_count": 54,
   "metadata": {
    "colab": {
     "base_uri": "https://localhost:8080/",
     "height": 0
    },
    "id": "0A1WiQKoCYzv",
    "outputId": "72100e7f-a9c3-42ec-f663-f3b42fb72786"
   },
   "outputs": [
    {
     "name": "stderr",
     "output_type": "stream",
     "text": [
      "<ipython-input-54-b6ddb7c57b59>:1: SettingWithCopyWarning: \n",
      "A value is trying to be set on a copy of a slice from a DataFrame.\n",
      "Try using .loc[row_indexer,col_indexer] = value instead\n",
      "\n",
      "See the caveats in the documentation: https://pandas.pydata.org/pandas-docs/stable/user_guide/indexing.html#returning-a-view-versus-a-copy\n",
      "  movies_no_outliers['decade'] = movies_no_outliers['Year'].floordiv(10) * 10\n"
     ]
    },
    {
     "data": {
      "text/plain": [
       "<AxesSubplot:title={'center':'Quantidade de filmes por década'}>"
      ]
     },
     "execution_count": 54,
     "metadata": {},
     "output_type": "execute_result"
    },
    {
     "data": {
      "image/png": "[encoded data removed]",
      "text/plain": [
       "<Figure size 432x288 with 1 Axes>"
      ]
     },
     "metadata": {
      "needs_background": "light"
     },
     "output_type": "display_data"
    }
   ],
   "source": [
    "movies_no_outliers['decade'] = movies_no_outliers['Year'].floordiv(10) * 10\n",
    "quantity_movies_by_decade = movies_no_outliers['decade'].value_counts().sort_index()\n",
    "quantity_movies_by_decade.plot.bar(color=(0,0,1), title='Quantidade de filmes por década')"
   ]
  },
  {
   "cell_type": "markdown",
   "metadata": {
    "id": "zPtZGoHO9gIl"
   },
   "source": [
    "Percebemos que a produção de filmes segue uma função exponencial."
   ]
  },
  {
   "cell_type": "markdown",
   "metadata": {
    "id": "lGcNtyv47r34"
   },
   "source": [
    "Vamos analisar a década de 2010, que é o que possui mais filmes."
   ]
  },
  {
   "cell_type": "code",
   "execution_count": 55,
   "metadata": {
    "colab": {
     "base_uri": "https://localhost:8080/",
     "height": 0
    },
    "id": "7CLYbtwGGG4w",
    "outputId": "9904c9cc-03b0-4208-bcf0-824cff618cc4"
   },
   "outputs": [
    {
     "data": {
      "text/plain": [
       "<AxesSubplot:title={'center':'Quantidade de filmes produzidos em 2010+'}>"
      ]
     },
     "execution_count": 55,
     "metadata": {},
     "output_type": "execute_result"
    },
    {
     "data": {
      "image/png": "[encoded data removed]",
      "text/plain": [
       "<Figure size 432x288 with 1 Axes>"
      ]
     },
     "metadata": {
      "needs_background": "light"
     },
     "output_type": "display_data"
    }
   ],
   "source": [
    "movies_df_2010 = movies_no_outliers[movies_no_outliers['Year'] >= 2010]\n",
    "movies_df_2010 = movies_df_2010.sort_values(['Year'])\n",
    "quantity_movies_2010 = movies_df_2010['Year'].value_counts().sort_index()\n",
    "quantity_movies_2010.plot.bar(color=(0,0,1), title='Quantidade de filmes produzidos em 2010+')"
   ]
  },
  {
   "cell_type": "markdown",
   "metadata": {
    "id": "N6LdRCPR7HXD"
   },
   "source": [
    "Houve uma queda de quantidade de filmes feitos em 2018 e 2019, porém não sabemos o motivo (procuramos na internet, porém não achamos nada) ou se foi falta de dados no dataset."
   ]
  },
  {
   "cell_type": "markdown",
   "metadata": {
    "id": "faXnAzZL8UCg"
   },
   "source": [
    "#### Análise de notas (IMBd e Rotten Tomatoes)"
   ]
  },
  {
   "cell_type": "markdown",
   "metadata": {
    "id": "NeaWoZZR6APe"
   },
   "source": [
    "Vamos analisar a média de notas durante a década de 2010."
   ]
  },
  {
   "cell_type": "code",
   "execution_count": 56,
   "metadata": {
    "colab": {
     "base_uri": "https://localhost:8080/",
     "height": 0
    },
    "id": "MR50BocmVRCa",
    "outputId": "fc32894d-0f25-4ee7-cdbd-eec4c6ce3ff4"
   },
   "outputs": [
    {
     "name": "stderr",
     "output_type": "stream",
     "text": [
      "<ipython-input-56-f120dc3e58e5>:1: FutureWarning: Indexing with multiple keys (implicitly converted to a tuple of keys) will be deprecated, use a list instead.\n",
      "  movies_plataform_rate_mean = movies_no_outliers.groupby('decade')['IMDb', 'RottenTomatoes'].mean()\n"
     ]
    },
    {
     "data": {
      "text/plain": [
       "<AxesSubplot:xlabel='decade'>"
      ]
     },
     "execution_count": 56,
     "metadata": {},
     "output_type": "execute_result"
    },
    {
     "data": {
      "image/png": "[encoded data removed]",
      "text/plain": [
       "<Figure size 432x288 with 1 Axes>"
      ]
     },
     "metadata": {
      "needs_background": "light"
     },
     "output_type": "display_data"
    }
   ],
   "source": [
    "movies_plataform_rate_mean = movies_no_outliers.groupby('decade')['IMDb', 'RottenTomatoes'].mean()\n",
    "movies_plataform_rate_mean.sort_index().plot.bar()"
   ]
  },
  {
   "cell_type": "markdown",
   "metadata": {
    "id": "bCWV61vY6NRK"
   },
   "source": [
    "Analisando o grafico acima, comparado ao Rotten Tomatoes, o IMDb parece ser mais crítico em relação as notas."
   ]
  },
  {
   "cell_type": "code",
   "execution_count": 57,
   "metadata": {
    "colab": {
     "base_uri": "https://localhost:8080/"
    },
    "id": "fd8zeM-KJLA5",
    "outputId": "2ca9f996-52de-4c00-c21b-8dfb6ebcd898"
   },
   "outputs": [
    {
     "name": "stdout",
     "output_type": "stream",
     "text": [
      "+----------+--------------------+\n",
      "|IMDb Count|RottenTomatoes Count|\n",
      "+----------+--------------------+\n",
      "|         1|                1097|\n",
      "+----------+--------------------+\n",
      "\n"
     ]
    }
   ],
   "source": [
    "from pyspark.sql.functions import when,count,countDistinct\n",
    "\n",
    "movies_df_aval = movies_no_outliers_py.where(col('IMDb').isNotNull() & col('RottenTomatoes').isNotNull())\n",
    "\n",
    "movies_df_aval.agg(\n",
    "    count(when(col(\"IMDb\") >= 9, True)).alias('IMDb Count'),\n",
    "    count(when(col(\"RottenTomatoes\") >= 9, True)).alias('RottenTomatoes Count')\n",
    ").show()"
   ]
  },
  {
   "cell_type": "markdown",
   "metadata": {
    "id": "mfgw9bcM8dWD"
   },
   "source": [
    "#### Análise linguagem"
   ]
  },
  {
   "cell_type": "code",
   "execution_count": 58,
   "metadata": {
    "colab": {
     "base_uri": "https://localhost:8080/",
     "height": 0
    },
    "id": "NO9M-VcDqr5_",
    "outputId": "0833fe04-0da7-4174-d8fa-9f0e6ea90ef6"
   },
   "outputs": [
    {
     "data": {
      "text/plain": [
       "<AxesSubplot:ylabel='Language'>"
      ]
     },
     "execution_count": 58,
     "metadata": {},
     "output_type": "execute_result"
    },
    {
     "data": {
      "image/png": "[encoded data removed]",
      "text/plain": [
       "<Figure size 432x288 with 1 Axes>"
      ]
     },
     "metadata": {
      "needs_background": "light"
     },
     "output_type": "display_data"
    }
   ],
   "source": [
    "movies_count_by_language = movie_language_df.groupBy('Language').agg(countDistinct('ID').alias('count')).toPandas()\n",
    "movies_count_by_language.nlargest(15, 'count').plot.barh(x='Language')"
   ]
  },
  {
   "cell_type": "markdown",
   "metadata": {
    "id": "eVWGehia9vEo"
   },
   "source": [
    "Podemos perceber que a linguagem predominante é inglês, o que é esperado."
   ]
  },
  {
   "cell_type": "markdown",
   "metadata": {
    "id": "9ZLK01_38jgk"
   },
   "source": [
    "#### Análise gênero"
   ]
  },
  {
   "cell_type": "code",
   "execution_count": 59,
   "metadata": {
    "colab": {
     "base_uri": "https://localhost:8080/",
     "height": 0
    },
    "id": "jufgM5yWu0Lx",
    "outputId": "4a339ad7-3c14-4a87-f212-6512b87a2359"
   },
   "outputs": [
    {
     "data": {
      "text/plain": [
       "<AxesSubplot:ylabel='Genre'>"
      ]
     },
     "execution_count": 59,
     "metadata": {},
     "output_type": "execute_result"
    },
    {
     "data": {
      "image/png": "[encoded data removed]",
      "text/plain": [
       "<Figure size 432x288 with 1 Axes>"
      ]
     },
     "metadata": {
      "needs_background": "light"
     },
     "output_type": "display_data"
    }
   ],
   "source": [
    "movies_count_by_genre = movie_genre_df.groupBy('Genre').agg(countDistinct('ID').alias('count')).toPandas()\n",
    "movies_count_by_genre.nlargest(20, 'count').plot.barh(x='Genre')"
   ]
  },
  {
   "cell_type": "markdown",
   "metadata": {
    "id": "ueEUp0-W-V-f"
   },
   "source": [
    "Drama é o gênero que possui a maior quantidade de filmes."
   ]
  },
  {
   "cell_type": "markdown",
   "metadata": {
    "id": "pLiBb1hw8qPw"
   },
   "source": [
    "#### Análise país"
   ]
  },
  {
   "cell_type": "code",
   "execution_count": 60,
   "metadata": {
    "colab": {
     "base_uri": "https://localhost:8080/",
     "height": 0
    },
    "id": "Zzrh8l0tvZC4",
    "outputId": "c89ad850-ab85-48d0-acfd-1ad02dd1fbcd"
   },
   "outputs": [
    {
     "data": {
      "text/plain": [
       "<AxesSubplot:ylabel='Country'>"
      ]
     },
     "execution_count": 60,
     "metadata": {},
     "output_type": "execute_result"
    },
    {
     "data": {
      "image/png": "[encoded data removed]",
      "text/plain": [
       "<Figure size 432x288 with 1 Axes>"
      ]
     },
     "metadata": {
      "needs_background": "light"
     },
     "output_type": "display_data"
    }
   ],
   "source": [
    "movies_count_by_country = movie_country_df.groupBy('Country').agg(countDistinct('ID').alias('count')).toPandas()\n",
    "movies_count_by_country.nlargest(30, 'count').plot.barh(x='Country')"
   ]
  },
  {
   "cell_type": "markdown",
   "metadata": {
    "id": "6JlMdzjG-mTk"
   },
   "source": [
    "Estatos Unidos é o maior produtor de filmes, o que explica a grande quantidade de filmes em inglês. "
   ]
  },
  {
   "cell_type": "markdown",
   "metadata": {
    "id": "sP2QkSXNVvFc"
   },
   "source": [
    "#### Análise Diretores\n",
    "\n",
    "\n",
    "\n"
   ]
  },
  {
   "cell_type": "markdown",
   "metadata": {
    "id": "yo_76ShUjALN"
   },
   "source": [
    "Inicialmente, vamos ver os top 20 diretores que fizeram mais filmes"
   ]
  },
  {
   "cell_type": "code",
   "execution_count": 61,
   "metadata": {
    "colab": {
     "base_uri": "https://localhost:8080/",
     "height": 0
    },
    "id": "kmHKvpBAv1UA",
    "outputId": "299c10d9-1f87-45fd-a44d-7ab7d5eac2bf"
   },
   "outputs": [
    {
     "data": {
      "text/plain": [
       "<AxesSubplot:ylabel='Director'>"
      ]
     },
     "execution_count": 61,
     "metadata": {},
     "output_type": "execute_result"
    },
    {
     "data": {
      "image/png": "[encoded data removed]",
      "text/plain": [
       "<Figure size 432x288 with 1 Axes>"
      ]
     },
     "metadata": {
      "needs_background": "light"
     },
     "output_type": "display_data"
    }
   ],
   "source": [
    "movies_count_by_directors = movie_director_df.groupBy('Director').agg(countDistinct('ID').alias('count')).toPandas()\n",
    "movies_count_by_directors.nlargest(20, 'count').plot.barh(x='Director')"
   ]
  },
  {
   "cell_type": "code",
   "execution_count": 62,
   "metadata": {
    "colab": {
     "base_uri": "https://localhost:8080/",
     "height": 0
    },
    "id": "qti07AC00b5R",
    "outputId": "1a65e6c8-fd94-4409-daec-4ed2cbb84461"
   },
   "outputs": [
    {
     "data": {
      "text/html": [
       "<div>\n",
       "<style scoped>\n",
       "    .dataframe tbody tr th:only-of-type {\n",
       "        vertical-align: middle;\n",
       "    }\n",
       "\n",
       "    .dataframe tbody tr th {\n",
       "        vertical-align: top;\n",
       "    }\n",
       "\n",
       "    .dataframe thead th {\n",
       "        text-align: right;\n",
       "    }\n",
       "</style>\n",
       "<table border=\"1\" class=\"dataframe\">\n",
       "  <thead>\n",
       "    <tr style=\"text-align: right;\">\n",
       "      <th></th>\n",
       "      <th>Director</th>\n",
       "      <th>movies_count</th>\n",
       "      <th>IMDb_mean</th>\n",
       "      <th>RottenTomatoes_mean</th>\n",
       "    </tr>\n",
       "  </thead>\n",
       "  <tbody>\n",
       "    <tr>\n",
       "      <th>0</th>\n",
       "      <td>Perry Moore</td>\n",
       "      <td>1</td>\n",
       "      <td>5.9</td>\n",
       "      <td>1.2</td>\n",
       "    </tr>\n",
       "    <tr>\n",
       "      <th>1</th>\n",
       "      <td>John Wells</td>\n",
       "      <td>1</td>\n",
       "      <td>6.7</td>\n",
       "      <td>6.7</td>\n",
       "    </tr>\n",
       "    <tr>\n",
       "      <th>2</th>\n",
       "      <td>April Mullen</td>\n",
       "      <td>1</td>\n",
       "      <td>5.5</td>\n",
       "      <td>2.2</td>\n",
       "    </tr>\n",
       "    <tr>\n",
       "      <th>3</th>\n",
       "      <td>Jim Jarmusch</td>\n",
       "      <td>2</td>\n",
       "      <td>7.3</td>\n",
       "      <td>9.5</td>\n",
       "    </tr>\n",
       "    <tr>\n",
       "      <th>4</th>\n",
       "      <td>Dino Athanassiou</td>\n",
       "      <td>1</td>\n",
       "      <td>4.5</td>\n",
       "      <td>0.4</td>\n",
       "    </tr>\n",
       "    <tr>\n",
       "      <th>...</th>\n",
       "      <td>...</td>\n",
       "      <td>...</td>\n",
       "      <td>...</td>\n",
       "      <td>...</td>\n",
       "    </tr>\n",
       "    <tr>\n",
       "      <th>4285</th>\n",
       "      <td>Jay Alaimo</td>\n",
       "      <td>1</td>\n",
       "      <td>6.7</td>\n",
       "      <td>7.0</td>\n",
       "    </tr>\n",
       "    <tr>\n",
       "      <th>4286</th>\n",
       "      <td>Fab 5 Freddy</td>\n",
       "      <td>1</td>\n",
       "      <td>7.2</td>\n",
       "      <td>10.0</td>\n",
       "    </tr>\n",
       "    <tr>\n",
       "      <th>4287</th>\n",
       "      <td>Bernardo Ruiz</td>\n",
       "      <td>1</td>\n",
       "      <td>6.7</td>\n",
       "      <td>7.9</td>\n",
       "    </tr>\n",
       "    <tr>\n",
       "      <th>4288</th>\n",
       "      <td>Xavier Manrique</td>\n",
       "      <td>1</td>\n",
       "      <td>5.1</td>\n",
       "      <td>4.0</td>\n",
       "    </tr>\n",
       "    <tr>\n",
       "      <th>4289</th>\n",
       "      <td>Ramesh Sippy</td>\n",
       "      <td>2</td>\n",
       "      <td>6.8</td>\n",
       "      <td>8.8</td>\n",
       "    </tr>\n",
       "  </tbody>\n",
       "</table>\n",
       "<p>4290 rows × 4 columns</p>\n",
       "</div>"
      ],
      "text/plain": [
       "              Director  movies_count  IMDb_mean  RottenTomatoes_mean\n",
       "0          Perry Moore             1        5.9                  1.2\n",
       "1           John Wells             1        6.7                  6.7\n",
       "2         April Mullen             1        5.5                  2.2\n",
       "3         Jim Jarmusch             2        7.3                  9.5\n",
       "4     Dino Athanassiou             1        4.5                  0.4\n",
       "...                ...           ...        ...                  ...\n",
       "4285        Jay Alaimo             1        6.7                  7.0\n",
       "4286      Fab 5 Freddy             1        7.2                 10.0\n",
       "4287     Bernardo Ruiz             1        6.7                  7.9\n",
       "4288   Xavier Manrique             1        5.1                  4.0\n",
       "4289      Ramesh Sippy             2        6.8                  8.8\n",
       "\n",
       "[4290 rows x 4 columns]"
      ]
     },
     "execution_count": 62,
     "metadata": {},
     "output_type": "execute_result"
    }
   ],
   "source": [
    "from pyspark.sql.functions import mean\n",
    "\n",
    "directors_stats_pyspark = movie_director_df.distinct()\\\n",
    "                            .join(movies_no_outliers_py, movies_no_outliers_py['ID'] == movie_director_df['ID'])\\\n",
    "                            .select('Director', 'IMDb', 'RottenTomatoes', movie_director_df['ID'])\\\n",
    "                            .groupBy('Director')\\\n",
    "                            .agg(count('ID').alias('movies_count'), mean('IMDb').alias('IMDb_mean'), mean('RottenTomatoes').alias('RottenTomatoes_mean'))\\\n",
    "                            \n",
    "directors_stats = directors_stats_pyspark.toPandas()\n",
    "directors_stats"
   ]
  },
  {
   "cell_type": "code",
   "execution_count": 63,
   "metadata": {
    "colab": {
     "base_uri": "https://localhost:8080/",
     "height": 0
    },
    "id": "joLqUGVTXNE-",
    "outputId": "b8600442-fdf8-4109-ba0f-e681fa683369"
   },
   "outputs": [
    {
     "data": {
      "text/plain": [
       "<AxesSubplot:title={'center':'RottenTomatoes TOP20 Diretores com maior média'}, ylabel='Director'>"
      ]
     },
     "execution_count": 63,
     "metadata": {},
     "output_type": "execute_result"
    },
    {
     "data": {
      "image/png": "[encoded data removed]",
      "text/plain": [
       "<Figure size 1440x576 with 2 Axes>"
      ]
     },
     "metadata": {
      "needs_background": "light"
     },
     "output_type": "display_data"
    }
   ],
   "source": [
    "import matplotlib.pyplot as plt\n",
    "\n",
    "sorted_imdb = directors_stats.sort_values(by='IMDb_mean', ascending=False).head(20) \n",
    "sorted_rotten = directors_stats.sort_values(by='RottenTomatoes_mean', ascending=False).head(20) \n",
    "\n",
    "fig, axes = plt.subplots(1, 2)\n",
    "fig.tight_layout(pad=3.0)\n",
    "sorted_imdb[['Director', 'IMDb_mean']].plot.barh(x='Director', ax=axes[0], figsize=(20, 8), title='IMDB TOP20 Diretores com maior média')\n",
    "sorted_rotten[['Director', 'RottenTomatoes_mean']].plot.barh(x='Director', ax=axes[1], figsize=(20, 8), title='RottenTomatoes TOP20 Diretores com maior média')"
   ]
  },
  {
   "cell_type": "markdown",
   "metadata": {
    "id": "X_Cc2anGWCcr"
   },
   "source": [
    "Esses diretores estão com uma média muito alta, principalmente os do Rotten Tomatoes, no qual todos os Top 20 possuem média 10. Analisando Irvin Kershner, por exemplo, podemos notar que só existe uma nota relacionada a ele"
   ]
  },
  {
   "cell_type": "code",
   "execution_count": 64,
   "metadata": {
    "colab": {
     "base_uri": "https://localhost:8080/"
    },
    "id": "VB0KocRpgJ7B",
    "outputId": "f208ab28-b500-4c83-a415-3521e4177d29"
   },
   "outputs": [
    {
     "name": "stdout",
     "output_type": "stream",
     "text": [
      "+--------------+----+\n",
      "|      Director|IMDb|\n",
      "+--------------+----+\n",
      "|Irvin Kershner| 8.7|\n",
      "+--------------+----+\n",
      "\n"
     ]
    }
   ],
   "source": [
    "movie_director_df.distinct()\\\n",
    ".join(movies_no_outliers_py, movies_no_outliers_py['ID'] == movie_director_df['ID'])\\\n",
    ".select('Director', 'IMDb').where(col('Director') == 'Irvin Kershner').show()"
   ]
  },
  {
   "cell_type": "markdown",
   "metadata": {
    "id": "dpEBK2QCgcXX"
   },
   "source": [
    "Vamos ver a quantidade de diretores por filmes feitos:"
   ]
  },
  {
   "cell_type": "code",
   "execution_count": 65,
   "metadata": {
    "colab": {
     "base_uri": "https://localhost:8080/",
     "height": 0
    },
    "id": "SwBBaYoWShel",
    "outputId": "110e33a2-1356-444d-887f-d1bb7c20dcb1"
   },
   "outputs": [
    {
     "data": {
      "text/html": [
       "<div>\n",
       "<style scoped>\n",
       "    .dataframe tbody tr th:only-of-type {\n",
       "        vertical-align: middle;\n",
       "    }\n",
       "\n",
       "    .dataframe tbody tr th {\n",
       "        vertical-align: top;\n",
       "    }\n",
       "\n",
       "    .dataframe thead th {\n",
       "        text-align: right;\n",
       "    }\n",
       "</style>\n",
       "<table border=\"1\" class=\"dataframe\">\n",
       "  <thead>\n",
       "    <tr style=\"text-align: right;\">\n",
       "      <th></th>\n",
       "      <th>Total Movies</th>\n",
       "      <th>Total Director</th>\n",
       "    </tr>\n",
       "  </thead>\n",
       "  <tbody>\n",
       "    <tr>\n",
       "      <th>0</th>\n",
       "      <td>1</td>\n",
       "      <td>3384</td>\n",
       "    </tr>\n",
       "    <tr>\n",
       "      <th>1</th>\n",
       "      <td>2</td>\n",
       "      <td>599</td>\n",
       "    </tr>\n",
       "    <tr>\n",
       "      <th>2</th>\n",
       "      <td>3</td>\n",
       "      <td>179</td>\n",
       "    </tr>\n",
       "    <tr>\n",
       "      <th>3</th>\n",
       "      <td>4</td>\n",
       "      <td>67</td>\n",
       "    </tr>\n",
       "    <tr>\n",
       "      <th>4</th>\n",
       "      <td>5</td>\n",
       "      <td>34</td>\n",
       "    </tr>\n",
       "    <tr>\n",
       "      <th>5</th>\n",
       "      <td>6</td>\n",
       "      <td>14</td>\n",
       "    </tr>\n",
       "    <tr>\n",
       "      <th>6</th>\n",
       "      <td>7</td>\n",
       "      <td>7</td>\n",
       "    </tr>\n",
       "    <tr>\n",
       "      <th>7</th>\n",
       "      <td>8</td>\n",
       "      <td>3</td>\n",
       "    </tr>\n",
       "    <tr>\n",
       "      <th>8</th>\n",
       "      <td>9</td>\n",
       "      <td>2</td>\n",
       "    </tr>\n",
       "    <tr>\n",
       "      <th>9</th>\n",
       "      <td>11</td>\n",
       "      <td>1</td>\n",
       "    </tr>\n",
       "  </tbody>\n",
       "</table>\n",
       "</div>"
      ],
      "text/plain": [
       "   Total Movies  Total Director\n",
       "0             1            3384\n",
       "1             2             599\n",
       "2             3             179\n",
       "3             4              67\n",
       "4             5              34\n",
       "5             6              14\n",
       "6             7               7\n",
       "7             8               3\n",
       "8             9               2\n",
       "9            11               1"
      ]
     },
     "execution_count": 65,
     "metadata": {},
     "output_type": "execute_result"
    }
   ],
   "source": [
    "directors_movie_count = movie_director_df.distinct()\\\n",
    "                            .groupBy('Director')\\\n",
    "                            .agg(count('ID').alias('Total Movies'))\\\n",
    "                            .groupBy('Total Movies').agg(count('Director').alias('Total Director')).orderBy(col('Total Movies')).toPandas()\n",
    "directors_movie_count"
   ]
  },
  {
   "cell_type": "markdown",
   "metadata": {
    "id": "PGP74-C8g6J2"
   },
   "source": [
    "Com isso iremos pegar a média de filmes feitos por diretor e fazer nossas analises baseado nos diretores que fizeram pelo menos a media de filmes."
   ]
  },
  {
   "cell_type": "code",
   "execution_count": 66,
   "metadata": {
    "colab": {
     "base_uri": "https://localhost:8080/"
    },
    "id": "lXkfjCMThPvF",
    "outputId": "27baccc5-443e-4e3a-85c3-e34f631ecada"
   },
   "outputs": [
    {
     "data": {
      "text/plain": [
       "1.3386946386946388"
      ]
     },
     "execution_count": 66,
     "metadata": {},
     "output_type": "execute_result"
    }
   ],
   "source": [
    "directors_movies_mean = movie_director_df.distinct()\\\n",
    "                            .groupBy('Director')\\\n",
    "                            .agg(count('ID').alias('Total Movies'))\\\n",
    "                            .select(mean('Total Movies').alias('mean'))\\\n",
    "                            .collect()[0][0]\n",
    "directors_movies_mean"
   ]
  },
  {
   "cell_type": "markdown",
   "metadata": {
    "id": "w-IGoaRI_YsJ"
   },
   "source": [
    "Vamos agora analisar quais diretores produziram mais filmes."
   ]
  },
  {
   "cell_type": "code",
   "execution_count": 67,
   "metadata": {
    "colab": {
     "base_uri": "https://localhost:8080/",
     "height": 0
    },
    "id": "dUWkWVn2jXwj",
    "outputId": "8a0e6bc0-74f8-4c1e-b425-ce90ffc69ae2"
   },
   "outputs": [
    {
     "data": {
      "text/plain": [
       "<AxesSubplot:ylabel='Director'>"
      ]
     },
     "execution_count": 67,
     "metadata": {},
     "output_type": "execute_result"
    },
    {
     "data": {
      "image/png": "[encoded data removed]",
      "text/plain": [
       "<Figure size 432x288 with 1 Axes>"
      ]
     },
     "metadata": {
      "needs_background": "light"
     },
     "output_type": "display_data"
    }
   ],
   "source": [
    "directors_filtered = directors_stats_pyspark.distinct()\\\n",
    "                            .where(col('movies_count') >= directors_movies_mean)\\\n",
    "                            .toPandas()\n",
    "directors_filtered.nlargest(20, 'movies_count')[['Director', 'movies_count']].plot.barh(x='Director')"
   ]
  },
  {
   "cell_type": "markdown",
   "metadata": {
    "id": "w3w9lI7k_eaS"
   },
   "source": [
    "Vamos analisar o diretor que possui maior média."
   ]
  },
  {
   "cell_type": "code",
   "execution_count": 68,
   "metadata": {
    "colab": {
     "base_uri": "https://localhost:8080/",
     "height": 0
    },
    "id": "7FYuznxswzEe",
    "outputId": "3306d358-20c7-493e-c9c5-6df5d342dcfa"
   },
   "outputs": [
    {
     "data": {
      "text/plain": [
       "<AxesSubplot:ylabel='Director'>"
      ]
     },
     "execution_count": 68,
     "metadata": {},
     "output_type": "execute_result"
    },
    {
     "data": {
      "image/png": "[encoded data removed]",
      "text/plain": [
       "<Figure size 432x288 with 1 Axes>"
      ]
     },
     "metadata": {
      "needs_background": "light"
     },
     "output_type": "display_data"
    }
   ],
   "source": [
    "directors_high_grade_count = directors_stats_pyspark.distinct()\\\n",
    "                            .where(col('movies_count') >= directors_movies_mean).toPandas()\n",
    "directors_high_grade_count.nlargest(20, 'IMDb_mean')[['Director', 'IMDb_mean']].plot.barh(x='Director')"
   ]
  },
  {
   "cell_type": "markdown",
   "metadata": {
    "id": "lqvAs5ykjaOz"
   },
   "source": [
    "### Hipóteses"
   ]
  },
  {
   "cell_type": "markdown",
   "metadata": {
    "id": "Rs5TFIcZjeU4"
   },
   "source": [
    "HIPOTESES\n",
    "1. Notas dos filmes seguem uma distribuição normal\n",
    "2. IMDb é mais rígido em relação a notas do que o Rotten Tomatoes\n",
    "3. Filmes de terror e ação tem uma classificacao indicativa maior\n",
    "4. Filmes de drama tem maiores notas\n",
    "5. Filmes na Plataforma da Netflix possuem notas mais altas"
   ]
  },
  {
   "cell_type": "code",
   "execution_count": 69,
   "metadata": {
    "id": "Xtnt9LsMmwgZ"
   },
   "outputs": [],
   "source": [
    "from scipy import stats"
   ]
  },
  {
   "cell_type": "markdown",
   "metadata": {
    "id": "jTGVpYiFjo6y"
   },
   "source": [
    "#### Hipótese 1"
   ]
  },
  {
   "cell_type": "markdown",
   "metadata": {
    "id": "8HSgwY5qN-MR"
   },
   "source": [
    "Acreditamos que as notas dos filmes seguem uma distribuição normal, pelo fato de que as pessoas geralmente tendem a não avaliar muitos filmes com nota máxima nem mínima, mas sim com notas medianas, fazendo com que notas medianas tenham uma maior quantidade do que notas muito boas ou notas muito ruins."
   ]
  },
  {
   "cell_type": "code",
   "execution_count": 70,
   "metadata": {
    "id": "EU2xLJ0xMhjL"
   },
   "outputs": [],
   "source": [
    "# vamos dropar os nan porque não nos interessa nos cálculos\n",
    "movies_processed_pd = movies_no_outliers.dropna()"
   ]
  },
  {
   "cell_type": "markdown",
   "metadata": {
    "id": "I6khgTlqqdpm"
   },
   "source": [
    "Vamos checar agora se as notas do imdb e rotten tomatoes seguem uma distribuição normal"
   ]
  },
  {
   "cell_type": "code",
   "execution_count": 71,
   "metadata": {
    "colab": {
     "base_uri": "https://localhost:8080/",
     "height": 0
    },
    "id": "mi0ilb6Tleek",
    "outputId": "a79e9e5c-9990-4a50-ae82-18f91d1ce3fb"
   },
   "outputs": [
    {
     "data": {
      "text/plain": [
       "<AxesSubplot:ylabel='Frequency'>"
      ]
     },
     "execution_count": 71,
     "metadata": {},
     "output_type": "execute_result"
    },
    {
     "data": {
      "image/png": "[encoded data removed]",
      "text/plain": [
       "<Figure size 864x360 with 2 Axes>"
      ]
     },
     "metadata": {
      "needs_background": "light"
     },
     "output_type": "display_data"
    }
   ],
   "source": [
    "fig, axes = plt.subplots(1, 2)\n",
    "\n",
    "movies_processed_pd[['RottenTomatoes']].plot(kind='hist', ax=axes[0], figsize=(12, 5))\n",
    "movies_processed_pd[['IMDb']].plot(kind='hist', ax=axes[1], figsize=(12, 5))"
   ]
  },
  {
   "cell_type": "code",
   "execution_count": 72,
   "metadata": {
    "colab": {
     "base_uri": "https://localhost:8080/"
    },
    "id": "MknwleMfmZfM",
    "outputId": "ffc8d8bf-0129-45f3-d5d3-988105a1dc10"
   },
   "outputs": [
    {
     "name": "stdout",
     "output_type": "stream",
     "text": [
      "p-value rotten tomatoes  4.3860641933366774e-43\n",
      "p-value imdb  7.0553333058729e-25\n"
     ]
    }
   ],
   "source": [
    "stat_rotten, p_rotten = stats.shapiro(movies_processed_pd['RottenTomatoes'])\n",
    "stat_imdb, p_imdb = stats.shapiro(movies_processed_pd['IMDb'])\n",
    "\n",
    "print(\"p-value rotten tomatoes \", p_rotten)\n",
    "print(\"p-value imdb \", p_imdb)"
   ]
  },
  {
   "cell_type": "markdown",
   "metadata": {
    "id": "PDfYi-_OrDVh"
   },
   "source": [
    "Utilizando a função shapiro percebemos que o p value deu muito baixo rejeitando assim a hipótese nula de que as distribuições são normais. Desse modo, rejeitamos nossa hipótese 1."
   ]
  },
  {
   "cell_type": "markdown",
   "metadata": {
    "id": "xB7OkyA6Ledz"
   },
   "source": [
    "#### Hipótese 2"
   ]
  },
  {
   "cell_type": "markdown",
   "metadata": {
    "id": "lN639-aIOo9R"
   },
   "source": [
    "Acreditamos que o IMDb é mais crítico em relação a notas do que o Rotten Tomatoes. Acreditamos nisso porque ao olhar os dados na etapa de análise percebemos algumas notas do Rotten tomatoes maiores que as do IMDb. "
   ]
  },
  {
   "cell_type": "markdown",
   "metadata": {
    "id": "VNhrzhJNKF0x"
   },
   "source": [
    "Vamos utilizar a função do Wilcoxon para realizar esse teste. Colocaremos a hipótese nula como a distribuição das notas do Rotten tomatoes serem maiores que a dos IMDb, e assim utilizaremos o parametro alternative para configurar a hipotese alternativa como sendo menor.\\\n",
    "H0 - RottenTomatoes > IMDb\\\n",
    "HA - RottenTomatoes < IMDb (alternative = 'less')"
   ]
  },
  {
   "cell_type": "code",
   "execution_count": 73,
   "metadata": {
    "colab": {
     "base_uri": "https://localhost:8080/"
    },
    "id": "1Qk34HCTE2mv",
    "outputId": "ac2fe8a0-6da9-4c2f-d53c-219e0febba7c"
   },
   "outputs": [
    {
     "data": {
      "text/plain": [
       "WilcoxonResult(statistic=6680944.0, pvalue=0.9999999999899049)"
      ]
     },
     "execution_count": 73,
     "metadata": {},
     "output_type": "execute_result"
    }
   ],
   "source": [
    "stats.wilcoxon(movies_processed_pd['RottenTomatoes'], movies_processed_pd['IMDb'], alternative='less')"
   ]
  },
  {
   "cell_type": "markdown",
   "metadata": {
    "id": "axcF-a6vKv4-"
   },
   "source": [
    "Como o p-value foi muito alto provamos a hipótese nula de que a distribuição de notas no Rotten Tomatoes são maiores do que a do IMDb, logo o IMDb é mais rígido em relação a notas."
   ]
  },
  {
   "cell_type": "markdown",
   "metadata": {
    "id": "CaRp1wrijzGv"
   },
   "source": [
    "#### Hipótese 3"
   ]
  },
  {
   "cell_type": "markdown",
   "metadata": {
    "id": "m_2lJFQSyHad"
   },
   "source": [
    "Vamos agora verificar as idades classificativas de acordo com os gêneros dos filmes, queremos mostrar que filmes de terror e ação são mais propensos a ter classificações mais altas."
   ]
  },
  {
   "cell_type": "code",
   "execution_count": 74,
   "metadata": {
    "colab": {
     "base_uri": "https://localhost:8080/",
     "height": 0
    },
    "id": "MT1s3tp0s0Hw",
    "outputId": "0975fca6-6ca8-46cf-f913-de8eb1edf2e5"
   },
   "outputs": [
    {
     "data": {
      "text/html": [
       "<div>\n",
       "<style scoped>\n",
       "    .dataframe tbody tr th:only-of-type {\n",
       "        vertical-align: middle;\n",
       "    }\n",
       "\n",
       "    .dataframe tbody tr th {\n",
       "        vertical-align: top;\n",
       "    }\n",
       "\n",
       "    .dataframe thead th {\n",
       "        text-align: right;\n",
       "    }\n",
       "</style>\n",
       "<table border=\"1\" class=\"dataframe\">\n",
       "  <thead>\n",
       "    <tr style=\"text-align: right;\">\n",
       "      <th></th>\n",
       "      <th>Genre</th>\n",
       "      <th>MinimumClassification</th>\n",
       "    </tr>\n",
       "  </thead>\n",
       "  <tbody>\n",
       "    <tr>\n",
       "      <th>0</th>\n",
       "      <td>Drama</td>\n",
       "      <td>18</td>\n",
       "    </tr>\n",
       "    <tr>\n",
       "      <th>1</th>\n",
       "      <td>Mystery</td>\n",
       "      <td>18</td>\n",
       "    </tr>\n",
       "    <tr>\n",
       "      <th>2</th>\n",
       "      <td>Sci-Fi</td>\n",
       "      <td>18</td>\n",
       "    </tr>\n",
       "    <tr>\n",
       "      <th>3</th>\n",
       "      <td>Thriller</td>\n",
       "      <td>18</td>\n",
       "    </tr>\n",
       "    <tr>\n",
       "      <th>4</th>\n",
       "      <td>Biography</td>\n",
       "      <td>18</td>\n",
       "    </tr>\n",
       "    <tr>\n",
       "      <th>...</th>\n",
       "      <td>...</td>\n",
       "      <td>...</td>\n",
       "    </tr>\n",
       "    <tr>\n",
       "      <th>9490</th>\n",
       "      <td>Fantasy</td>\n",
       "      <td>0</td>\n",
       "    </tr>\n",
       "    <tr>\n",
       "      <th>9491</th>\n",
       "      <td>Action</td>\n",
       "      <td>13</td>\n",
       "    </tr>\n",
       "    <tr>\n",
       "      <th>9492</th>\n",
       "      <td>Drama</td>\n",
       "      <td>13</td>\n",
       "    </tr>\n",
       "    <tr>\n",
       "      <th>9493</th>\n",
       "      <td>History</td>\n",
       "      <td>13</td>\n",
       "    </tr>\n",
       "    <tr>\n",
       "      <th>9494</th>\n",
       "      <td>War</td>\n",
       "      <td>13</td>\n",
       "    </tr>\n",
       "  </tbody>\n",
       "</table>\n",
       "<p>9495 rows × 2 columns</p>\n",
       "</div>"
      ],
      "text/plain": [
       "          Genre  MinimumClassification\n",
       "0         Drama                     18\n",
       "1       Mystery                     18\n",
       "2        Sci-Fi                     18\n",
       "3      Thriller                     18\n",
       "4     Biography                     18\n",
       "...         ...                    ...\n",
       "9490    Fantasy                      0\n",
       "9491     Action                     13\n",
       "9492      Drama                     13\n",
       "9493    History                     13\n",
       "9494        War                     13\n",
       "\n",
       "[9495 rows x 2 columns]"
      ]
     },
     "execution_count": 74,
     "metadata": {},
     "output_type": "execute_result"
    }
   ],
   "source": [
    "# primeiro vamos cruzar os dados de gênero com os de filme\n",
    "movies_genre_by_minimum_class = movie_genre_df.join(movies_no_outliers_py, movies_no_outliers_py['ID'] == movie_genre_df['ID'])\\\n",
    "                                              .select('Genre', 'MinimumClassification')\\\n",
    "                                              .where(col('MinimumClassification') >= 0)\n",
    "movies_genre_by_minimum_class_pd = movies_genre_by_minimum_class.toPandas()\n",
    "movies_genre_by_minimum_class_pd"
   ]
  },
  {
   "cell_type": "code",
   "execution_count": 75,
   "metadata": {
    "id": "U3fz8ZkQ1Mlw"
   },
   "outputs": [],
   "source": [
    "genres = movies_genre_by_minimum_class_pd.Genre.unique()"
   ]
  },
  {
   "cell_type": "code",
   "execution_count": 76,
   "metadata": {
    "colab": {
     "base_uri": "https://localhost:8080/"
    },
    "id": "NFsbnMcM6Uof",
    "outputId": "b662872b-cfbf-410f-bd26-91abc833823f"
   },
   "outputs": [
    {
     "data": {
      "text/plain": [
       "Genre                    object\n",
       "MinimumClassification     int64\n",
       "dtype: object"
      ]
     },
     "execution_count": 76,
     "metadata": {},
     "output_type": "execute_result"
    }
   ],
   "source": [
    "movies_genre_by_minimum_class_pd.dtypes"
   ]
  },
  {
   "cell_type": "code",
   "execution_count": 79,
   "metadata": {
    "colab": {
     "base_uri": "https://localhost:8080/",
     "height": 0
    },
    "id": "Mlr7Pzel0KgO",
    "outputId": "10b861da-22b2-4f1b-c437-ed6f92820502"
   },
   "outputs": [
    {
     "data": {
      "text/plain": [
       "<AxesSubplot:xlabel='Genre', ylabel='MinimumClassification'>"
      ]
     },
     "execution_count": 79,
     "metadata": {},
     "output_type": "execute_result"
    },
    {
     "data": {
      "image/png": "[encoded data removed]",
      "text/plain": [
       "<Figure size 1080x288 with 1 Axes>"
      ]
     },
     "metadata": {
      "needs_background": "light"
     },
     "output_type": "display_data"
    }
   ],
   "source": [
    "import seaborn as sns\n",
    "fig, axes = plt.subplots(figsize=(15, 4))\n",
    "for tick in axes.get_xticklabels():\n",
    "    tick.set_rotation(55)\n",
    "sns.boxplot(x='Genre', y='MinimumClassification', data=movies_genre_by_minimum_class_pd, ax=axes)"
   ]
  },
  {
   "cell_type": "markdown",
   "metadata": {
    "id": "xZuM9Lza6jG7"
   },
   "source": [
    "Como podemos ver através do gráfico acima, genêros como: Ação (Action), Suspense (Thriller), Guerra (War), Crime (Crime), Mistério (Mystery) e Terror (Horror), são genêros que possuem uma variação de classificação bem alta, com foco em Ação, Gerra, Crime que tem o primeiro quartil em 13 anos e o terceiro em 18, com a mediana em 18 anos nos casos de Ação e Crime. Destaca-se o gênero de terror que possui o primeiro quartil em 16 anos e com mediana e terceiro quartil em 18 anos. Os dados mostraram o que já era esperado."
   ]
  },
  {
   "cell_type": "markdown",
   "metadata": {
    "id": "CFwzz6jXj_Jt"
   },
   "source": [
    "#### Hipótese 4"
   ]
  },
  {
   "cell_type": "markdown",
   "metadata": {
    "id": "EvO68MMK2Nga"
   },
   "source": [
    "Como drama é o gênero de filme que [possui mais Oscars](https://www.bbc.com/portuguese/curiosidades-51390633#:~:text=Drama%20%C3%A9%20o%20g%C3%AAnero%20mais,distribu%C3%ADdas%20entre%20diversos%20g%C3%AAneros%20diferentes), supomos que as suas notas são as maiores."
   ]
  },
  {
   "cell_type": "code",
   "execution_count": 80,
   "metadata": {
    "id": "3cyLpKW60258"
   },
   "outputs": [],
   "source": [
    "movies_without_missing_rating = movies_no_outliers_py.where(col('IMDb').isNotNull() & col('RottenTomatoes').isNotNull())\\\n",
    "                                                   .join(movie_genre_df, movies_no_outliers_py['ID'] == movie_genre_df['ID'])\\\n",
    "                                                   .select(movies_no_outliers_py['ID'], col('Genre'), col('IMDb'), col('RottenTomatoes'))\n",
    "movies_without_missing_rating_pd = movies_without_missing_rating.toPandas()"
   ]
  },
  {
   "cell_type": "code",
   "execution_count": 81,
   "metadata": {
    "id": "YSsUCUUWwccz"
   },
   "outputs": [],
   "source": [
    "# vamos remover os outliers (gêneros que possuem poucos filmes)\n",
    "genres_count = movies_without_missing_rating.groupBy('Genre').agg(count('ID').alias('total')).select('Genre', 'total')\n",
    "non_outliers_genres = genres_count.where(col('total') >= genres_count.approxQuantile('total',[0.25], 0)[0]).select('Genre').rdd.map(lambda row : row[0]).collect()"
   ]
  },
  {
   "cell_type": "code",
   "execution_count": 82,
   "metadata": {
    "colab": {
     "base_uri": "https://localhost:8080/",
     "height": 0
    },
    "id": "2y-g58kNu9t1",
    "outputId": "94905a80-f422-4c21-b4b4-5c31e9cf8325"
   },
   "outputs": [
    {
     "data": {
      "text/plain": [
       "<AxesSubplot:xlabel='Genre', ylabel='IMDb'>"
      ]
     },
     "execution_count": 82,
     "metadata": {},
     "output_type": "execute_result"
    },
    {
     "data": {
      "image/png": "[encoded data removed]",
      "text/plain": [
       "<Figure size 1080x288 with 1 Axes>"
      ]
     },
     "metadata": {
      "needs_background": "light"
     },
     "output_type": "display_data"
    }
   ],
   "source": [
    "non_outliers_genre_movies = movies_without_missing_rating_pd[movies_without_missing_rating_pd['Genre'].isin(non_outliers_genres)]\n",
    "fig, axes = plt.subplots(figsize=(15, 4))\n",
    "for tick in axes.get_xticklabels():\n",
    "    tick.set_rotation(55)\n",
    "sns.boxplot(x='Genre', y='IMDb', data=non_outliers_genre_movies, ax=axes)"
   ]
  },
  {
   "cell_type": "markdown",
   "metadata": {
    "id": "j_N_iM5O1CZH"
   },
   "source": [
    "Para provarmos que `drama` não é o gênero com melhores notas, vamos comparar sua distribuição com `documentary`, pois é a que parece ter as melhores notas, analisando o box plot. Logo vamos definir as hipóteses:\n",
    "\n",
    "H0 - Drama > Documentary\\\n",
    "HA - Drama < Documentary (alternative = 'less')"
   ]
  },
  {
   "cell_type": "code",
   "execution_count": 83,
   "metadata": {
    "colab": {
     "base_uri": "https://localhost:8080/"
    },
    "id": "ExeBK6bzpzHY",
    "outputId": "dbacd772-abd9-4a1a-b4f7-7f8a1feb1396"
   },
   "outputs": [
    {
     "data": {
      "text/plain": [
       "MannwhitneyuResult(statistic=540041.5, pvalue=1.8686355017804276e-81)"
      ]
     },
     "execution_count": 83,
     "metadata": {},
     "output_type": "execute_result"
    }
   ],
   "source": [
    "documentary_genre = non_outliers_genre_movies[non_outliers_genre_movies['Genre'] == 'Documentary']\n",
    "drama_genre = non_outliers_genre_movies[non_outliers_genre_movies['Genre'] == 'Drama']\n",
    "stats.mannwhitneyu(drama_genre['IMDb'], documentary_genre['IMDb'], alternative='less')"
   ]
  },
  {
   "cell_type": "code",
   "execution_count": 84,
   "metadata": {
    "colab": {
     "base_uri": "https://localhost:8080/"
    },
    "id": "Lc8XMTY21pRN",
    "outputId": "aadc6ccd-d902-4a59-9b2b-162e404665dc"
   },
   "outputs": [
    {
     "data": {
      "text/plain": [
       "MannwhitneyuResult(statistic=568227.0, pvalue=5.543028229005309e-72)"
      ]
     },
     "execution_count": 84,
     "metadata": {},
     "output_type": "execute_result"
    }
   ],
   "source": [
    "documentary_genre = non_outliers_genre_movies[non_outliers_genre_movies['Genre'] == 'Documentary']\n",
    "drama_genre = non_outliers_genre_movies[non_outliers_genre_movies['Genre'] == 'Drama']\n",
    "stats.mannwhitneyu(drama_genre['RottenTomatoes'], documentary_genre['RottenTomatoes'], alternative='less')"
   ]
  },
  {
   "cell_type": "markdown",
   "metadata": {
    "id": "CrAw-4e909hb"
   },
   "source": [
    "Como para as duas plataformas de avaliação o p-value deu muito baixo, a hipótese nula foi refutada. Portanto drama não é o gênero mais bem avaliado"
   ]
  },
  {
   "cell_type": "markdown",
   "metadata": {
    "id": "C0DDdueSmH9r"
   },
   "source": [
    "#### Hipótese 5"
   ]
  },
  {
   "cell_type": "markdown",
   "metadata": {
    "id": "Cfik8heNjjsI"
   },
   "source": [
    "Por ser a plataforma de streaming mais popular, supomos que as notas dos filmes da `Netflix` são maiores que as outras plataformas."
   ]
  },
  {
   "cell_type": "code",
   "execution_count": 85,
   "metadata": {
    "colab": {
     "base_uri": "https://localhost:8080/",
     "height": 0
    },
    "id": "3bHNeaKfeGG6",
    "outputId": "2ee58a88-84bd-4662-f244-6241a06c581b"
   },
   "outputs": [
    {
     "data": {
      "text/plain": [
       "Text(0.5, 1.0, 'Rotten Tomatoes')"
      ]
     },
     "execution_count": 85,
     "metadata": {},
     "output_type": "execute_result"
    },
    {
     "data": {
      "image/png": "[encoded data removed]",
      "text/plain": [
       "<Figure size 1800x720 with 2 Axes>"
      ]
     },
     "metadata": {
      "needs_background": "light"
     },
     "output_type": "display_data"
    }
   ],
   "source": [
    "# Vamos utilizar a função melt para transformar em valores de uma coluna (Platform) as colunas das plataformas, para todos os casos que a plataforma tenha o filme \n",
    "plataform_rating = movies_no_outliers.melt(id_vars=['IMDb', 'RottenTomatoes'], value_vars=['Netflix', 'Prime Video', 'Hulu', 'Disney+'], var_name='Platform', value_name='Has')\n",
    "plataform_rating = plataform_rating[plataform_rating['Has'] == 1]\n",
    "fig, axes = plt.subplots(1,2, figsize=(25, 10))\n",
    "sns.boxplot(x='Platform', y='IMDb', data=plataform_rating, ax=axes[0]).set_title('IMDb')\n",
    "sns.boxplot(x='Platform', y='RottenTomatoes', data=plataform_rating, ax=axes[1]).set_title('Rotten Tomatoes')"
   ]
  },
  {
   "cell_type": "markdown",
   "metadata": {
    "id": "t2isqVD5lSpc"
   },
   "source": [
    "Analisando os boxes plots pode-se perceber que no caso do `IMDB`, `Netflix` e `Disney+` são os mais bem avaliados. Já para o caso do `Rotten Tomatoes`, são `Netflix`e `Hulu`. Vamos fazer um teste de hipótese para estes dois casos."
   ]
  },
  {
   "cell_type": "markdown",
   "metadata": {
    "id": "m0Gf6EHbmE8M"
   },
   "source": [
    "Vamos utilizar a função do Mannwhitneyu para realizar esse teste. Colocaremos a hipótese nula como a distribuição das notas do IMDb da Netflix serem maiores que a dos IMDb da Disney+.\n",
    "\n",
    "H0 - IMDb - Netflix > IMDb - Disney+\\\n",
    "HA - IMDb - Netflix < IMDb - Disney+ (alternative = 'less')"
   ]
  },
  {
   "cell_type": "code",
   "execution_count": 86,
   "metadata": {
    "colab": {
     "base_uri": "https://localhost:8080/"
    },
    "id": "_1FlU0kGmKSh",
    "outputId": "e0efeae4-923b-4e01-8ae6-a5c3a2d23090"
   },
   "outputs": [
    {
     "data": {
      "text/plain": [
       "MannwhitneyuResult(statistic=228203.0, pvalue=0.08698543336883019)"
      ]
     },
     "execution_count": 86,
     "metadata": {},
     "output_type": "execute_result"
    }
   ],
   "source": [
    "netflix_rating = plataform_rating[plataform_rating['Platform'] == 'Netflix']\n",
    "disney_rating = plataform_rating[plataform_rating['Platform'] == 'Disney+']\n",
    "stats.mannwhitneyu(netflix_rating['IMDb'], disney_rating['IMDb'], alternative='less')"
   ]
  },
  {
   "cell_type": "markdown",
   "metadata": {
    "id": "cKw0bYr4sO1p"
   },
   "source": [
    "Como o p-value está próximo do intervalo de confiança, vamos ver se suas notas são parecidos.\n",
    "\n",
    "H0 - IMDb - Netflix == IMDb - Disney+\\\n",
    "HA - IMDb - Netflix != IMDb - Disney+ (alternative = 'two-sided')"
   ]
  },
  {
   "cell_type": "code",
   "execution_count": 87,
   "metadata": {
    "colab": {
     "base_uri": "https://localhost:8080/"
    },
    "id": "Wo-b5DaxsOmT",
    "outputId": "6f062ef2-7f19-46c9-c29a-657d31b91aab"
   },
   "outputs": [
    {
     "data": {
      "text/plain": [
       "MannwhitneyuResult(statistic=228203.0, pvalue=0.17397086673766038)"
      ]
     },
     "execution_count": 87,
     "metadata": {},
     "output_type": "execute_result"
    }
   ],
   "source": [
    "stats.mannwhitneyu(netflix_rating['IMDb'], disney_rating['IMDb'], alternative='two-sided')"
   ]
  },
  {
   "cell_type": "code",
   "execution_count": 88,
   "metadata": {
    "colab": {
     "base_uri": "https://localhost:8080/",
     "height": 0
    },
    "id": "FXtBQReLhE3y",
    "outputId": "62bcc583-e826-47e5-c743-5565a4de6b75"
   },
   "outputs": [
    {
     "data": {
      "text/plain": [
       "<AxesSubplot:>"
      ]
     },
     "execution_count": 88,
     "metadata": {},
     "output_type": "execute_result"
    },
    {
     "data": {
      "image/png": "[encoded data removed]",
      "text/plain": [
       "<Figure size 432x288 with 1 Axes>"
      ]
     },
     "metadata": {
      "needs_background": "light"
     },
     "output_type": "display_data"
    }
   ],
   "source": [
    "sns.boxplot(data=[netflix_rating['IMDb'], disney_rating['IMDb']])"
   ]
  },
  {
   "cell_type": "markdown",
   "metadata": {
    "id": "5pjsAAkynZXA"
   },
   "source": [
    "Pelo segundo teste de hipósese (two-sided) foi provado que existe uma maior evidência que Netflix e Disney+ possuem notas semelhantes do que Netflix ser maior (primeiro teste de hipotese), logo podemos dizer que Netflix é uma das melhores plataformas pelo IMDb."
   ]
  },
  {
   "cell_type": "markdown",
   "metadata": {
    "id": "7XVxd99no3eI"
   },
   "source": [
    "Agora iremos fazer o mesmo teste entre `Rotten Tomatoes - Neflix` e `Rotten Tomatoes - Hulu`\n",
    "\n",
    "H0 - Rotten Tomatoes - Netflix > Rotten Tomatoes - Hulu\\\n",
    "HA - Rotten Tomatoes - Netflix < Rotten Tomatoes - Hulu (alternative = 'less')"
   ]
  },
  {
   "cell_type": "code",
   "execution_count": 89,
   "metadata": {
    "colab": {
     "base_uri": "https://localhost:8080/"
    },
    "id": "gpGmAMPUmsqc",
    "outputId": "67979555-34e3-4cee-f635-95c765c1026a"
   },
   "outputs": [
    {
     "data": {
      "text/plain": [
       "MannwhitneyuResult(statistic=433040.5, pvalue=0.35212913725358935)"
      ]
     },
     "execution_count": 89,
     "metadata": {},
     "output_type": "execute_result"
    }
   ],
   "source": [
    "hulu_rating = plataform_rating[plataform_rating['Platform'] == 'Hulu']\n",
    "stats.mannwhitneyu(netflix_rating['RottenTomatoes'], hulu_rating['RottenTomatoes'], alternative='less')"
   ]
  },
  {
   "cell_type": "code",
   "execution_count": 90,
   "metadata": {
    "colab": {
     "base_uri": "https://localhost:8080/",
     "height": 0
    },
    "id": "7wcJKf18pp_J",
    "outputId": "20a4fd77-bb9b-4df2-ef1f-9939f94d1de7"
   },
   "outputs": [
    {
     "data": {
      "text/plain": [
       "<AxesSubplot:>"
      ]
     },
     "execution_count": 90,
     "metadata": {},
     "output_type": "execute_result"
    },
    {
     "data": {
      "image/png": "[encoded data removed]",
      "text/plain": [
       "<Figure size 432x288 with 1 Axes>"
      ]
     },
     "metadata": {
      "needs_background": "light"
     },
     "output_type": "display_data"
    }
   ],
   "source": [
    "sns.boxplot(data=[netflix_rating['RottenTomatoes'], hulu_rating['RottenTomatoes']])"
   ]
  },
  {
   "cell_type": "markdown",
   "metadata": {
    "id": "Xk84wa_wr9E2"
   },
   "source": [
    "Como o p-value foi alto provamos a hipótese nula de que a distribuição de notas da Netflix no Rotten Tomatoes são maiores do que a do Hulu no Rotten Tomatoes."
   ]
  },
  {
   "cell_type": "markdown",
   "metadata": {},
   "source": [
    "### MLFlow"
   ]
  },
  {
   "cell_type": "code",
   "execution_count": 91,
   "metadata": {},
   "outputs": [
    {
     "name": "stdout",
     "output_type": "stream",
     "text": [
      "Defaulting to user installation because normal site-packages is not writeable\n",
      "Requirement already satisfied: sklearn in /home/jonatas-clementino/.local/lib/python3.8/site-packages (0.0)\n",
      "Requirement already satisfied: scikit-learn in /home/jonatas-clementino/.local/lib/python3.8/site-packages (from sklearn) (0.23.2)\n",
      "Requirement already satisfied: scipy>=0.19.1 in /home/jonatas-clementino/.local/lib/python3.8/site-packages (from scikit-learn->sklearn) (1.5.4)\n",
      "Requirement already satisfied: joblib>=0.11 in /home/jonatas-clementino/.local/lib/python3.8/site-packages (from scikit-learn->sklearn) (0.17.0)\n",
      "Requirement already satisfied: threadpoolctl>=2.0.0 in /home/jonatas-clementino/.local/lib/python3.8/site-packages (from scikit-learn->sklearn) (2.1.0)\n",
      "Requirement already satisfied: numpy>=1.13.3 in /home/jonatas-clementino/.local/lib/python3.8/site-packages (from scikit-learn->sklearn) (1.19.4)\n",
      "\u001b[33mWARNING: You are using pip version 20.2.3; however, version 20.2.4 is available.\n",
      "You should consider upgrading via the '/usr/bin/python3 -m pip install --upgrade pip' command.\u001b[0m\n"
     ]
    }
   ],
   "source": [
    "!pip3 install sklearn"
   ]
  },
  {
   "cell_type": "code",
   "execution_count": 92,
   "metadata": {},
   "outputs": [
    {
     "name": "stdout",
     "output_type": "stream",
     "text": [
      "Defaulting to user installation because normal site-packages is not writeable\n",
      "Requirement already satisfied: mlflow in /home/jonatas-clementino/.local/lib/python3.8/site-packages (1.12.0)\n",
      "Requirement already satisfied: cloudpickle in /home/jonatas-clementino/.local/lib/python3.8/site-packages (from mlflow) (1.6.0)\n",
      "Requirement already satisfied: docker>=4.0.0 in /home/jonatas-clementino/.local/lib/python3.8/site-packages (from mlflow) (4.3.1)\n",
      "Requirement already satisfied: click>=7.0 in /usr/lib/python3/dist-packages (from mlflow) (7.0)\n",
      "Requirement already satisfied: requests>=2.17.3 in /usr/lib/python3/dist-packages (from mlflow) (2.22.0)\n",
      "Requirement already satisfied: entrypoints in /usr/lib/python3/dist-packages (from mlflow) (0.3)\n",
      "Requirement already satisfied: databricks-cli>=0.8.7 in /home/jonatas-clementino/.local/lib/python3.8/site-packages (from mlflow) (0.14.0)\n",
      "Requirement already satisfied: azure-storage-blob in /home/jonatas-clementino/.local/lib/python3.8/site-packages (from mlflow) (12.6.0)\n",
      "Requirement already satisfied: querystring-parser in /home/jonatas-clementino/.local/lib/python3.8/site-packages (from mlflow) (1.2.4)\n",
      "Requirement already satisfied: gitpython>=2.1.0 in /home/jonatas-clementino/.local/lib/python3.8/site-packages (from mlflow) (3.1.11)\n",
      "Requirement already satisfied: six>=1.10.0 in /usr/lib/python3/dist-packages (from mlflow) (1.14.0)\n",
      "Requirement already satisfied: protobuf>=3.6.0 in /home/jonatas-clementino/.local/lib/python3.8/site-packages (from mlflow) (3.13.0)\n",
      "Requirement already satisfied: numpy in /home/jonatas-clementino/.local/lib/python3.8/site-packages (from mlflow) (1.19.4)\n",
      "Requirement already satisfied: prometheus-flask-exporter in /home/jonatas-clementino/.local/lib/python3.8/site-packages (from mlflow) (0.18.1)\n",
      "Requirement already satisfied: pandas in /home/jonatas-clementino/.local/lib/python3.8/site-packages (from mlflow) (1.1.4)\n",
      "Requirement already satisfied: sqlparse>=0.3.1 in /home/jonatas-clementino/.local/lib/python3.8/site-packages (from mlflow) (0.4.1)\n",
      "Requirement already satisfied: python-dateutil in /usr/lib/python3/dist-packages (from mlflow) (2.7.3)\n",
      "Requirement already satisfied: alembic<=1.4.1 in /home/jonatas-clementino/.local/lib/python3.8/site-packages (from mlflow) (1.4.1)\n",
      "Requirement already satisfied: sqlalchemy in /home/jonatas-clementino/.local/lib/python3.8/site-packages (from mlflow) (1.3.20)\n",
      "Requirement already satisfied: pyyaml in /usr/lib/python3/dist-packages (from mlflow) (5.3.1)\n",
      "Requirement already satisfied: gunicorn; platform_system != \"Windows\" in /home/jonatas-clementino/.local/lib/python3.8/site-packages (from mlflow) (20.0.4)\n",
      "Requirement already satisfied: Flask in /home/jonatas-clementino/.local/lib/python3.8/site-packages (from mlflow) (1.1.2)\n",
      "Requirement already satisfied: websocket-client>=0.32.0 in /home/jonatas-clementino/.local/lib/python3.8/site-packages (from docker>=4.0.0->mlflow) (0.57.0)\n",
      "Requirement already satisfied: tabulate>=0.7.7 in /home/jonatas-clementino/.local/lib/python3.8/site-packages (from databricks-cli>=0.8.7->mlflow) (0.8.7)\n",
      "Requirement already satisfied: msrest>=0.6.10 in /home/jonatas-clementino/.local/lib/python3.8/site-packages (from azure-storage-blob->mlflow) (0.6.19)\n",
      "Requirement already satisfied: cryptography>=2.1.4 in /usr/lib/python3/dist-packages (from azure-storage-blob->mlflow) (2.8)\n",
      "Requirement already satisfied: azure-core<2.0.0,>=1.9.0 in /home/jonatas-clementino/.local/lib/python3.8/site-packages (from azure-storage-blob->mlflow) (1.9.0)\n",
      "Requirement already satisfied: gitdb<5,>=4.0.1 in /home/jonatas-clementino/.local/lib/python3.8/site-packages (from gitpython>=2.1.0->mlflow) (4.0.5)\n",
      "Requirement already satisfied: setuptools in /usr/local/lib/python3.8/dist-packages (from protobuf>=3.6.0->mlflow) (50.3.0)\n",
      "Requirement already satisfied: prometheus-client in /home/jonatas-clementino/.local/lib/python3.8/site-packages (from prometheus-flask-exporter->mlflow) (0.8.0)\n",
      "Requirement already satisfied: pytz>=2017.2 in /usr/lib/python3/dist-packages (from pandas->mlflow) (2019.3)\n",
      "Requirement already satisfied: python-editor>=0.3 in /home/jonatas-clementino/.local/lib/python3.8/site-packages (from alembic<=1.4.1->mlflow) (1.0.4)\n",
      "Requirement already satisfied: Mako in /home/jonatas-clementino/.local/lib/python3.8/site-packages (from alembic<=1.4.1->mlflow) (1.1.3)\n",
      "Requirement already satisfied: Jinja2>=2.10.1 in /home/jonatas-clementino/.local/lib/python3.8/site-packages (from Flask->mlflow) (2.11.2)\n",
      "Requirement already satisfied: Werkzeug>=0.15 in /home/jonatas-clementino/.local/lib/python3.8/site-packages (from Flask->mlflow) (1.0.1)\n",
      "Requirement already satisfied: itsdangerous>=0.24 in /home/jonatas-clementino/.local/lib/python3.8/site-packages (from Flask->mlflow) (1.1.0)\n",
      "Requirement already satisfied: isodate>=0.6.0 in /home/jonatas-clementino/.local/lib/python3.8/site-packages (from msrest>=0.6.10->azure-storage-blob->mlflow) (0.6.0)\n",
      "Requirement already satisfied: requests-oauthlib>=0.5.0 in /home/jonatas-clementino/.local/lib/python3.8/site-packages (from msrest>=0.6.10->azure-storage-blob->mlflow) (1.3.0)\n",
      "Requirement already satisfied: certifi>=2017.4.17 in /home/jonatas-clementino/.local/lib/python3.8/site-packages (from msrest>=0.6.10->azure-storage-blob->mlflow) (2020.11.8)\n",
      "Requirement already satisfied: smmap<4,>=3.0.1 in /home/jonatas-clementino/.local/lib/python3.8/site-packages (from gitdb<5,>=4.0.1->gitpython>=2.1.0->mlflow) (3.0.4)\n",
      "Requirement already satisfied: MarkupSafe>=0.9.2 in /home/jonatas-clementino/.local/lib/python3.8/site-packages (from Mako->alembic<=1.4.1->mlflow) (1.1.1)\n",
      "Requirement already satisfied: oauthlib>=3.0.0 in /usr/lib/python3/dist-packages (from requests-oauthlib>=0.5.0->msrest>=0.6.10->azure-storage-blob->mlflow) (3.1.0)\n",
      "\u001b[33mWARNING: You are using pip version 20.2.3; however, version 20.2.4 is available.\n",
      "You should consider upgrading via the '/usr/bin/python3 -m pip install --upgrade pip' command.\u001b[0m\n"
     ]
    }
   ],
   "source": [
    "!pip3 install mlflow"
   ]
  },
  {
   "cell_type": "code",
   "execution_count": 93,
   "metadata": {},
   "outputs": [],
   "source": [
    "import os\n",
    "import warnings\n",
    "import sys\n",
    "\n",
    "import pandas as pd\n",
    "import numpy as np\n",
    "from sklearn.metrics import mean_squared_error, mean_absolute_error, r2_score\n",
    "from sklearn.model_selection import train_test_split\n",
    "from sklearn.linear_model import ElasticNet\n",
    "from urllib.parse import urlparse\n",
    "import mlflow\n",
    "import mlflow.sklearn\n",
    "\n",
    "import logging"
   ]
  },
  {
   "cell_type": "code",
   "execution_count": 94,
   "metadata": {},
   "outputs": [
    {
     "name": "stderr",
     "output_type": "stream",
     "text": [
      "/home/jonatas-clementino/.local/lib/python3.8/site-packages/ipykernel/ipkernel.py:287: DeprecationWarning: `should_run_async` will not call `transform_cell` automatically in the future. Please pass the result to `transformed_cell` argument and any exception that happen during thetransform in `preprocessing_exc_tuple` in IPython 7.17 and above.\n",
      "  and should_run_async(code)\n"
     ]
    }
   ],
   "source": [
    "logging.basicConfig(level=logging.WARN)\n",
    "logger = logging.getLogger(__name__)"
   ]
  },
  {
   "cell_type": "code",
   "execution_count": 95,
   "metadata": {},
   "outputs": [],
   "source": [
    "import matplotlib.pyplot as plt\n",
    "\n",
    "def plotComparissionResult(y_true, y_pred):\n",
    "  plt.scatter(y_true, y_pred)\n",
    "  range = [y_true.min(), y_pred.max()]\n",
    "  plt.plot(range, range, 'red')\n",
    "  plt.xlabel('Nota real')\n",
    "  plt.ylabel('Nota predita')\n",
    "  plt.show()"
   ]
  },
  {
   "cell_type": "code",
   "execution_count": 96,
   "metadata": {},
   "outputs": [],
   "source": [
    "def eval_metrics(actual, pred):\n",
    "    rmse = np.sqrt(mean_squared_error(actual, pred))\n",
    "    mae = mean_absolute_error(actual, pred)\n",
    "    r2 = r2_score(actual, pred)\n",
    "    return rmse, mae, r2"
   ]
  },
  {
   "cell_type": "code",
   "execution_count": 97,
   "metadata": {},
   "outputs": [],
   "source": [
    "warnings.filterwarnings(\"ignore\")\n",
    "np.random.seed(40)"
   ]
  },
  {
   "cell_type": "code",
   "execution_count": 115,
   "metadata": {},
   "outputs": [],
   "source": [
    "def run_experiment_with_model(model, model_name, train_x, train_y, test_x, test_y, params_dict={}):\n",
    "    experiment_name='MovieIt-'+model_name\n",
    "    mlflow.set_experiment(experiment_name=experiment_name)\n",
    "    with mlflow.start_run():\n",
    "        model.fit(train_x, train_y)\n",
    "\n",
    "        predicted_qualities = model.predict(test_x)\n",
    "\n",
    "        (rmse, mae, r2) = eval_metrics(test_y, predicted_qualities)\n",
    "\n",
    "        print(model_name)\n",
    "        print(\"  RMSE: %s\" % rmse)\n",
    "        print(\"  MAE: %s\" % mae)\n",
    "        print(\"  R2: %s\" % r2)\n",
    "        \n",
    "        for param_name, param_value in params_dict.items():\n",
    "            mlflow.log_param(param_name, param_value)\n",
    "        \n",
    "        mlflow.log_metric(\"rmse\", rmse)\n",
    "        mlflow.log_metric(\"r2\", r2)\n",
    "        mlflow.log_metric(\"mae\", mae)\n",
    "\n",
    "        tracking_url_type_store = urlparse(mlflow.get_tracking_uri()).scheme\n",
    "\n",
    "        if tracking_url_type_store != \"file\":\n",
    "            mlflow.sklearn.log_model(model, model_name, registered_model_name=model_name)\n",
    "        else:\n",
    "            mlflow.sklearn.log_model(model, model_name)\n",
    "            \n",
    "        plotComparissionResult(test_y, predicted_qualities)"
   ]
  },
  {
   "cell_type": "markdown",
   "metadata": {
    "id": "yfCC2BnjnREo"
   },
   "source": [
    "### Regressão"
   ]
  },
  {
   "cell_type": "markdown",
   "metadata": {
    "id": "eiJFnS4MsZ0C"
   },
   "source": [
    "Escolhemos a nota do IMDb como target de predição, já que é o dado que é mais relevante no dataset, a opinião da população."
   ]
  },
  {
   "cell_type": "markdown",
   "metadata": {
    "id": "IajjZIPCOutX"
   },
   "source": [
    "#### Preparacao dos dataset para classificacao"
   ]
  },
  {
   "cell_type": "code",
   "execution_count": 100,
   "metadata": {
    "colab": {
     "base_uri": "https://localhost:8080/"
    },
    "id": "6WZm9JXMDQdx",
    "outputId": "f921f5ed-06fb-4622-b000-3dc18582c73b"
   },
   "outputs": [
    {
     "name": "stdout",
     "output_type": "stream",
     "text": [
      "+---+--------------------+----+----+-------+----+-----------+-------+-------+--------------------+--------------------+--------------------+--------------------+---------------------+--------------+------------------+------------------+\n",
      "| ID|               Title|Year|IMDb|Netflix|Hulu|Prime Video|Disney+|Runtime|      DirectorsArray|         GenresArray|      CountriesArray|      LanguagesArray|MinimumClassification|RottenTomatoes|       runtime_log|       rating_rate|\n",
      "+---+--------------------+----+----+-------+----+-----------+-------+-------+--------------------+--------------------+--------------------+--------------------+---------------------+--------------+------------------+------------------+\n",
      "|  1|           Inception|2010| 8.8|      1|   0|          0|      0|  148.0| [Christopher Nolan]|[Action, Adventur...|[United States, U...|[English, Japanes...|                   13|           8.7|2.1702617153949575|0.9886363636363634|\n",
      "|  2|          The Matrix|1999| 8.7|      1|   0|          0|      0|  136.0|[Lana Wachowski, ...|    [Action, Sci-Fi]|     [United States]|           [English]|                   18|           8.7|2.1335389083702174|               1.0|\n",
      "|  3|Avengers: Infinit...|2018| 8.5|      1|   0|          0|      0|  149.0|[Anthony Russo, J...|[Action, Adventur...|     [United States]|           [English]|                   13|           8.4| 2.173186268412274|0.9882352941176471|\n",
      "|  4|  Back to the Future|1985| 8.5|      1|   0|          0|      0|  116.0|   [Robert Zemeckis]|[Adventure, Comed...|     [United States]|           [English]|                    7|           9.6|2.0644579892269186|1.1294117647058823|\n",
      "|  5|The Good, the Bad...|1966| 8.8|      1|   0|          1|      0|  161.0|      [Sergio Leone]|           [Western]|[Italy, Spain, We...|           [Italian]|                   18|           9.7|2.2068258760318495| 1.102272727272727|\n",
      "+---+--------------------+----+----+-------+----+-----------+-------+-------+--------------------+--------------------+--------------------+--------------------+---------------------+--------------+------------------+------------------+\n",
      "only showing top 5 rows\n",
      "\n"
     ]
    }
   ],
   "source": [
    "movies_no_outliers_py.show(5)"
   ]
  },
  {
   "cell_type": "markdown",
   "metadata": {
    "id": "5f8eYjfFpUHI"
   },
   "source": [
    "**One hot enconding**\n",
    "\n",
    "Vamos explodir o array de gênero, países e línguas e transformá-los em diversas colunas com valores binários para cada filme e juntar essas novas informações a tabela original."
   ]
  },
  {
   "cell_type": "code",
   "execution_count": 101,
   "metadata": {
    "colab": {
     "base_uri": "https://localhost:8080/"
    },
    "id": "DlDSDwgoCsLi",
    "outputId": "47d32ed8-bf8f-4dd5-e227-cbb548471566"
   },
   "outputs": [
    {
     "name": "stdout",
     "output_type": "stream",
     "text": [
      "+----+------+---------+---------+---------+------+-----+-----------+-----+------+-------+---------+-------+------+-----+-------+-------+----+----------+-------+------+-----+-----+---------+--------+---+-------+\n",
      "|  ID|Action|Adventure|Animation|Biography|Comedy|Crime|Documentary|Drama|Family|Fantasy|Film-Noir|History|Horror|Music|Musical|Mystery|News|Reality-TV|Romance|Sci-Fi|Short|Sport|Talk-Show|Thriller|War|Western|\n",
      "+----+------+---------+---------+---------+------+-----+-----------+-----+------+-------+---------+-------+------+-----+-------+-------+----+----------+-------+------+-----+-----+---------+--------+---+-------+\n",
      "|  26|     0|        0|        0|        0|     0|    0|          0|    1|     0|      0|        0|      0|     0|    0|      0|      1|   0|         0|      0|     1|    0|    0|        0|       1|  0|      0|\n",
      "|4894|     0|        0|        0|        0|     0|    0|          0|    0|     0|      0|        0|      0|     0|    0|      0|      0|   0|         0|      1|     0|    0|    0|        0|       1|  1|      0|\n",
      "|4823|     0|        0|        0|        0|     0|    0|          0|    1|     0|      0|        0|      0|     0|    0|      0|      0|   0|         0|      0|     0|    0|    0|        0|       1|  0|      0|\n",
      "|  29|     0|        0|        0|        1|     0|    1|          0|    1|     0|      0|        0|      0|     0|    0|      0|      0|   0|         0|      0|     0|    0|    0|        0|       0|  0|      0|\n",
      "|2214|     0|        0|        1|        0|     1|    0|          0|    0|     1|      0|        0|      0|     1|    0|      0|      0|   0|         0|      0|     0|    0|    0|        0|       0|  0|      0|\n",
      "+----+------+---------+---------+---------+------+-----+-----------+-----+------+-------+---------+-------+------+-----+-------+-------+----+----------+-------+------+-----+-----+---------+--------+---+-------+\n",
      "only showing top 5 rows\n",
      "\n"
     ]
    }
   ],
   "source": [
    "exploded_genres = movies_no_outliers_py.withColumn('exploded', explode(col('GenresArray'))).groupby('ID').pivot('exploded').count().na.fill(0)\n",
    "exploded_genres.show(5)"
   ]
  },
  {
   "cell_type": "code",
   "execution_count": 102,
   "metadata": {
    "colab": {
     "base_uri": "https://localhost:8080/"
    },
    "id": "zmmX798FuWH-",
    "outputId": "336ec53f-4086-4001-ad67-b6b4f1585381",
    "scrolled": true
   },
   "outputs": [
    {
     "name": "stdout",
     "output_type": "stream",
     "text": [
      "+----+-----------+-------+-------+---------+---------+-------+-------+-------+----------+-------+-------+-------+----------------------+------+--------+--------+------+--------------+----+-----+-----+--------+-----+----------+-------+----+------+--------------+--------------+-------+------------------+------------+-----+-------+--------+-------+------+-------+-------+-----+------+---------+-----+-----------------------------+---------+-------+-------+-----+---------+----+----+-------+------+-----+-------+-----+------+-----+----------+-------+-------+-----+---------+----------+------+--------+-----+------+------+----------+-------+-------+-----+-----------+-----------+-------+------+--------+---------+------+----------------+--------+----+-----------+------+--------+-----------+-----+---------------------------+-------+------+------+------------+-------+------+---------+--------+--------+------------+-----------+------------+-----+------+-----------+-----+------+--------+--------+--------------------------------+-------+------+------+-------+--------------------+--------------+-------------+-------+---------+-------+------------+----------+--------+\n",
      "|  ID|Afghanistan|Albania|Algeria|Argentina|Australia|Austria|Bahamas|Bahrain|Bangladesh|Belarus|Belgium|Bolivia|Bosnia and Herzegovina|Brazil|Bulgaria|Cambodia|Canada|Cayman Islands|Chad|Chile|China|Colombia|Congo|Costa Rica|Croatia|Cuba|Cyprus|Czech Republic|Czechoslovakia|Denmark|Dominican Republic|East Germany|Egypt|Estonia|Ethiopia|Finland|France|Georgia|Germany|Ghana|Greece|Guatemala|Haiti|Holy See (Vatican City State)|Hong Kong|Hungary|Iceland|India|Indonesia|Iran|Iraq|Ireland|Israel|Italy|Jamaica|Japan|Jordan|Kenya|Kyrgyzstan|Lebanon|Liberia|Libya|Lithuania|Luxembourg|Malawi|Malaysia|Malta|Mexico|Monaco|Montenegro|Morocco|Namibia|Nepal|Netherlands|New Zealand|Nigeria|Norway|Pakistan|Palestine|Panama|Papua New Guinea|Paraguay|Peru|Philippines|Poland|Portugal|Puerto Rico|Qatar|Republic of North Macedonia|Romania|Russia|Rwanda|Saudi Arabia|Senegal|Serbia|Singapore|Slovakia|Slovenia|South Africa|South Korea|Soviet Union|Spain|Sweden|Switzerland|Syria|Taiwan|Tanzania|Thailand|The Democratic Republic Of Congo|Tunisia|Turkey|Uganda|Ukraine|United Arab Emirates|United Kingdom|United States|Uruguay|Venezuela|Vietnam|West Germany|Yugoslavia|Zimbabwe|\n",
      "+----+-----------+-------+-------+---------+---------+-------+-------+-------+----------+-------+-------+-------+----------------------+------+--------+--------+------+--------------+----+-----+-----+--------+-----+----------+-------+----+------+--------------+--------------+-------+------------------+------------+-----+-------+--------+-------+------+-------+-------+-----+------+---------+-----+-----------------------------+---------+-------+-------+-----+---------+----+----+-------+------+-----+-------+-----+------+-----+----------+-------+-------+-----+---------+----------+------+--------+-----+------+------+----------+-------+-------+-----+-----------+-----------+-------+------+--------+---------+------+----------------+--------+----+-----------+------+--------+-----------+-----+---------------------------+-------+------+------+------------+-------+------+---------+--------+--------+------------+-----------+------------+-----+------+-----------+-----+------+--------+--------+--------------------------------+-------+------+------+-------+--------------------+--------------+-------------+-------+---------+-------+------------+----------+--------+\n",
      "|4894|          0|      0|      0|        0|        0|      0|      0|      0|         0|      0|      0|      0|                     0|     0|       0|       0|     0|             0|   0|    0|    0|       0|    0|         0|      0|   0|     0|             0|             0|      0|                 0|           0|    0|      0|       0|      0|     0|      0|      0|    0|     0|        0|    0|                            0|        0|      0|      0|    0|        0|   0|   0|      0|     0|    0|      0|    0|     0|    0|         0|      0|      0|    0|        0|         0|     0|       0|    0|     0|     0|         0|      0|      0|    0|          0|          0|      0|     0|       0|        0|     0|               0|       0|   0|          0|     0|       0|          0|    0|                          0|      0|     0|     0|           0|      0|     0|        0|       0|       0|           0|          0|           0|    0|     0|          0|    0|     0|       0|       0|                               0|      0|     0|     0|      0|                   0|             1|            0|      0|        0|      0|           0|         0|       0|\n",
      "|5409|          0|      0|      0|        0|        0|      0|      0|      0|         0|      0|      0|      0|                     0|     0|       0|       0|     0|             0|   0|    0|    0|       0|    0|         0|      0|   0|     0|             0|             0|      0|                 0|           0|    0|      0|       0|      0|     1|      0|      0|    0|     0|        0|    0|                            0|        0|      0|      0|    0|        0|   0|   0|      0|     0|    1|      0|    0|     0|    0|         0|      0|      0|    0|        0|         0|     0|       0|    0|     0|     0|         0|      0|      0|    0|          0|          0|      0|     0|       0|        0|     0|               0|       0|   0|          0|     0|       0|          0|    0|                          0|      0|     0|     0|           0|      0|     0|        0|       0|       0|           0|          0|           0|    0|     0|          0|    0|     0|       0|       0|                               0|      0|     0|     0|      0|                   0|             0|            0|      0|        0|      0|           0|         0|       0|\n",
      "|6721|          0|      0|      0|        0|        1|      0|      0|      0|         0|      0|      0|      0|                     0|     0|       0|       0|     0|             0|   0|    0|    0|       0|    0|         0|      0|   0|     0|             0|             0|      0|                 0|           0|    0|      0|       0|      0|     0|      0|      0|    0|     0|        0|    0|                            0|        0|      0|      0|    0|        0|   0|   0|      0|     0|    0|      0|    0|     0|    0|         0|      0|      0|    0|        0|         0|     0|       0|    0|     0|     0|         0|      0|      0|    0|          0|          0|      0|     0|       0|        0|     0|               0|       0|   0|          0|     0|       0|          0|    0|                          0|      0|     0|     0|           0|      0|     0|        0|       0|       0|           0|          0|           0|    0|     0|          0|    0|     0|       0|       0|                               0|      0|     0|     0|      0|                   0|             0|            0|      0|        0|      0|           0|         0|       0|\n",
      "|3764|          0|      0|      0|        0|        0|      0|      0|      0|         0|      0|      0|      0|                     0|     0|       0|       0|     1|             0|   0|    0|    0|       0|    0|         0|      0|   0|     0|             0|             0|      0|                 0|           0|    0|      0|       0|      0|     0|      0|      0|    0|     0|        0|    0|                            0|        0|      0|      0|    0|        0|   0|   0|      0|     0|    0|      0|    0|     0|    0|         0|      0|      0|    0|        0|         0|     0|       0|    0|     0|     0|         0|      0|      0|    0|          0|          0|      0|     0|       0|        0|     0|               0|       0|   0|          0|     0|       0|          0|    0|                          0|      0|     0|     0|           0|      0|     0|        0|       0|       0|           0|          0|           0|    0|     0|          0|    0|     0|       0|       0|                               0|      0|     0|     0|      0|                   0|             1|            1|      0|        0|      0|           0|         0|       0|\n",
      "|2214|          0|      0|      0|        0|        0|      0|      0|      0|         0|      0|      0|      0|                     0|     0|       0|       0|     0|             0|   0|    0|    0|       0|    0|         0|      0|   0|     0|             0|             0|      0|                 0|           0|    0|      0|       0|      0|     0|      0|      1|    0|     0|        0|    0|                            0|        0|      0|      0|    0|        0|   0|   0|      0|     0|    0|      0|    0|     0|    0|         0|      0|      0|    0|        0|         0|     0|       0|    0|     0|     0|         0|      0|      0|    0|          0|          0|      0|     0|       0|        0|     0|               0|       0|   0|          0|     0|       0|          0|    0|                          0|      0|     0|     0|           0|      0|     0|        0|       0|       0|           0|          0|           0|    0|     0|          0|    0|     0|       0|       0|                               0|      0|     0|     0|      0|                   0|             1|            0|      0|        0|      0|           0|         0|       0|\n",
      "+----+-----------+-------+-------+---------+---------+-------+-------+-------+----------+-------+-------+-------+----------------------+------+--------+--------+------+--------------+----+-----+-----+--------+-----+----------+-------+----+------+--------------+--------------+-------+------------------+------------+-----+-------+--------+-------+------+-------+-------+-----+------+---------+-----+-----------------------------+---------+-------+-------+-----+---------+----+----+-------+------+-----+-------+-----+------+-----+----------+-------+-------+-----+---------+----------+------+--------+-----+------+------+----------+-------+-------+-----+-----------+-----------+-------+------+--------+---------+------+----------------+--------+----+-----------+------+--------+-----------+-----+---------------------------+-------+------+------+------------+-------+------+---------+--------+--------+------------+-----------+------------+-----+------+-----------+-----+------+--------+--------+--------------------------------+-------+------+------+-------+--------------------+--------------+-------------+-------+---------+-------+------------+----------+--------+\n",
      "only showing top 5 rows\n",
      "\n"
     ]
    }
   ],
   "source": [
    "exploded_countries = movies_no_outliers_py.withColumn('exploded', explode(col('CountriesArray'))).groupby('ID').pivot('exploded').count().na.fill(0)\n",
    "exploded_countries.show(5)"
   ]
  },
  {
   "cell_type": "code",
   "execution_count": 103,
   "metadata": {
    "colab": {
     "base_uri": "https://localhost:8080/"
    },
    "id": "P_OFQSrtwX6E",
    "outputId": "94e78c0a-076a-4865-bcc5-6c62e335a292"
   },
   "outputs": [
    {
     "name": "stdout",
     "output_type": "stream",
     "text": [
      "+----+------------------+----------+---------+----+--------+---------+----------------------+-------+----------------+------+---------+-------+--------+--------+--------------------+--------------------+------------------------+------+------+-----+-------+----------------+--------+-------+-----------------------+---------+---------+-------+--------+-------+-------+-----+--------+-----+------+----+-----+----------------+-------+---------+--------+---+--------+-------+-------+------+--------------------+-----+--------+--------+------+-----+-------+--------+-------+-----+--------+--------+------+-----+---------+---------+----------+---------+-----+-------+--------+----------------------+------+-------+-----+-----------+-------+-------+------+------+-------+-----+-------+-------+----------+----------+-------------+----------+-----+---------+-------+--------+--------+-----+----------+-------+----+--------------+-------+------+---------+----+------+------+----+---------------------+---------+------+-------+----------+-------+------+----------+----------+-------+------+-------+----------+--------+-------+-----+-----+---------------+-------+--------------+------------+--------+--------------+---------+-----+------+---------+------+--------------+-------+---------------------+-------+-------+------------+-------+-----+------+-------+----+-------+----+-------+-------+---------+----+----------+-----+-----+-----+-------+------+----+\n",
      "|  ID| Ancient (to 1453)|Aboriginal|Afrikaans|Akan|Albanian|Algonquin|American Sign Language|Amharic|Apache languages|Arabic|Aragonese|Aramaic|Armenian|Assamese|Assyrian Neo-Aramaic|Athapascan languages|Australian Sign Language|Awadhi|Basque|Bemba|Bengali|Berber languages|Bhojpuri|Bosnian|Brazilian Sign Language|Bulgarian|Cantonese|Catalan|Cheyenne|Chinese|Cornish|Creek|Croatian|Czech|Danish|Dari|Dutch|East-Greenlandic|English|Esperanto|Estonian|Ewe|Filipino|Finnish|Flemish|French|French Sign Language|Fulah|Gallegan|Georgian|German|Greek|Guarani|Gujarati|Haitian|Hakka|Haryanvi|Hawaiian|Hebrew|Hindi|Hungarian|Icelandic|Indonesian|Inuktitut|Irish|Italian|Japanese|Japanese Sign Language|Kabyle|Kannada|Khmer|Kinyarwanda|Kirghiz|Klingon|Korean|Kriolu|Kurdish|Latin|Latvian|Lingala|Lithuanian|Low German|Luxembourgish|Macedonian|Malay|Malayalam|Maltese|Mandarin|Manipuri|Maori|Mapudungun|Marathi|Maya|Middle English|Min Nan|Mohawk|Mongolian|Nama|Navajo|Nepali|None|North American Indian|Norwegian|Nyanja|Occitan|Papiamento|Persian|Polish|Polynesian|Portuguese|Punjabi|Pushto|Quechua|Rajasthani|Romanian|Russian|Saami|Scots|Scottish Gaelic|Serbian|Serbo-Croatian|Shanghainese|Sicilian|Sign Languages|Sinhalese|Sioux|Slovak|Slovenian|Somali|Southern Sotho|Spanish|Spanish Sign Language|Swahili|Swedish|Swiss German|Tagalog|Tamil|Telugu|Teochew|Thai|Tibetan|Tupi|Turkish|Turkmen|Ukrainian|Urdu|Vietnamese|Welsh|Wolof|Xhosa|Yiddish|Yoruba|Zulu|\n",
      "+----+------------------+----------+---------+----+--------+---------+----------------------+-------+----------------+------+---------+-------+--------+--------+--------------------+--------------------+------------------------+------+------+-----+-------+----------------+--------+-------+-----------------------+---------+---------+-------+--------+-------+-------+-----+--------+-----+------+----+-----+----------------+-------+---------+--------+---+--------+-------+-------+------+--------------------+-----+--------+--------+------+-----+-------+--------+-------+-----+--------+--------+------+-----+---------+---------+----------+---------+-----+-------+--------+----------------------+------+-------+-----+-----------+-------+-------+------+------+-------+-----+-------+-------+----------+----------+-------------+----------+-----+---------+-------+--------+--------+-----+----------+-------+----+--------------+-------+------+---------+----+------+------+----+---------------------+---------+------+-------+----------+-------+------+----------+----------+-------+------+-------+----------+--------+-------+-----+-----+---------------+-------+--------------+------------+--------+--------------+---------+-----+------+---------+------+--------------+-------+---------------------+-------+-------+------------+-------+-----+------+-------+----+-------+----+-------+-------+---------+----+----------+-----+-----+-----+-------+------+----+\n",
      "|3764|                 0|         0|        0|   0|       0|        0|                     0|      0|               0|     0|        0|      0|       0|       0|                   0|                   0|                       0|     0|     0|    0|      0|               0|       0|      0|                      0|        0|        0|      0|       0|      0|      0|    0|       0|    0|     0|   0|    0|               0|      1|        0|       0|  0|       0|      0|      0|     0|                   0|    0|       0|       0|     0|    0|      0|       0|      0|    0|       0|       0|     0|    0|        0|        0|         0|        0|    0|      0|       0|                     0|     0|      0|    0|          0|      0|      0|     0|     0|      0|    0|      0|      0|         0|         0|            0|         0|    0|        0|      0|       0|       0|    0|         0|      0|   0|             0|      0|     0|        0|   0|     0|     0|   0|                    0|        0|     0|      0|         0|      0|     0|         0|         0|      0|     0|      0|         0|       0|      0|    0|    0|              0|      0|             0|           0|       0|             0|        0|    0|     0|        0|     0|             0|      0|                    0|      0|      0|           0|      0|    0|     0|      0|   0|      0|   0|      0|      0|        0|   0|         0|    0|    0|    0|      0|     0|   0|\n",
      "|4823|                 0|         0|        0|   0|       0|        0|                     0|      0|               0|     0|        0|      0|       0|       0|                   0|                   0|                       0|     0|     0|    0|      0|               0|       0|      0|                      0|        0|        0|      0|       0|      0|      0|    0|       0|    0|     0|   0|    0|               0|      1|        0|       0|  0|       0|      0|      0|     0|                   0|    0|       0|       0|     0|    0|      0|       0|      0|    0|       0|       0|     0|    0|        0|        0|         0|        0|    0|      0|       0|                     0|     0|      0|    0|          0|      0|      0|     0|     0|      0|    0|      0|      0|         0|         0|            0|         0|    0|        0|      0|       0|       0|    0|         0|      0|   0|             0|      0|     0|        0|   0|     0|     0|   0|                    0|        0|     0|      0|         0|      0|     0|         0|         0|      0|     0|      0|         0|       0|      0|    0|    0|              0|      0|             0|           0|       0|             0|        0|    0|     0|        0|     0|             0|      0|                    0|      0|      0|           0|      0|    0|     0|      0|   0|      0|   0|      0|      0|        0|   0|         0|    0|    0|    0|      0|     0|   0|\n",
      "|  29|                 0|         0|        0|   0|       0|        0|                     0|      0|               0|     0|        0|      0|       0|       0|                   0|                   0|                       0|     0|     0|    0|      0|               0|       0|      0|                      0|        0|        0|      0|       0|      0|      0|    0|       0|    0|     0|   0|    0|               0|      1|        0|       0|  0|       0|      0|      0|     0|                   0|    0|       0|       0|     1|    0|      0|       0|      0|    0|       0|       0|     0|    0|        0|        0|         0|        0|    0|      1|       0|                     0|     0|      0|    0|          0|      0|      0|     0|     0|      0|    1|      0|      0|         0|         0|            0|         0|    0|        0|      0|       0|       0|    0|         0|      0|   0|             0|      0|     0|        0|   0|     0|     0|   0|                    0|        0|     0|      0|         0|      0|     0|         0|         0|      0|     0|      0|         0|       0|      0|    0|    0|              0|      0|             0|           0|       0|             0|        0|    0|     0|        0|     0|             0|      1|                    0|      0|      0|           0|      0|    0|     0|      0|   0|      0|   0|      0|      0|        0|   0|         0|    0|    0|    0|      0|     0|   0|\n",
      "|4894|                 0|         0|        0|   0|       0|        0|                     0|      0|               0|     0|        0|      0|       0|       0|                   0|                   0|                       0|     0|     0|    0|      0|               0|       0|      0|                      0|        0|        0|      0|       0|      0|      0|    0|       0|    0|     0|   0|    0|               0|      1|        0|       0|  0|       0|      0|      0|     0|                   0|    0|       0|       0|     1|    0|      0|       0|      0|    0|       0|       0|     0|    0|        0|        0|         0|        0|    0|      0|       0|                     0|     0|      0|    0|          0|      0|      0|     0|     0|      0|    0|      0|      0|         0|         0|            0|         0|    0|        0|      0|       0|       0|    0|         0|      0|   0|             0|      0|     0|        0|   0|     0|     0|   0|                    0|        0|     0|      0|         0|      0|     0|         0|         0|      0|     0|      0|         0|       0|      0|    0|    0|              0|      0|             0|           0|       0|             0|        0|    0|     0|        0|     0|             0|      0|                    0|      0|      0|           0|      0|    0|     0|      0|   0|      0|   0|      0|      0|        0|   0|         0|    0|    0|    0|      0|     0|   0|\n",
      "|2214|                 0|         0|        0|   0|       0|        0|                     0|      0|               0|     0|        0|      0|       0|       0|                   0|                   0|                       0|     0|     0|    0|      0|               0|       0|      0|                      0|        0|        0|      0|       0|      0|      0|    0|       0|    0|     0|   0|    0|               0|      1|        0|       0|  0|       0|      0|      0|     0|                   0|    0|       0|       0|     1|    0|      0|       0|      0|    0|       0|       0|     0|    0|        0|        0|         0|        0|    0|      0|       0|                     0|     0|      0|    0|          0|      0|      0|     0|     0|      0|    0|      0|      0|         0|         0|            0|         0|    0|        0|      0|       0|       0|    0|         0|      0|   0|             0|      0|     0|        0|   0|     0|     0|   0|                    0|        0|     0|      0|         0|      0|     0|         0|         0|      0|     0|      0|         0|       0|      0|    0|    0|              0|      0|             0|           0|       0|             0|        0|    0|     0|        0|     0|             0|      0|                    0|      0|      0|           0|      0|    0|     0|      0|   0|      0|   0|      0|      0|        0|   0|         0|    0|    0|    0|      0|     0|   0|\n",
      "+----+------------------+----------+---------+----+--------+---------+----------------------+-------+----------------+------+---------+-------+--------+--------+--------------------+--------------------+------------------------+------+------+-----+-------+----------------+--------+-------+-----------------------+---------+---------+-------+--------+-------+-------+-----+--------+-----+------+----+-----+----------------+-------+---------+--------+---+--------+-------+-------+------+--------------------+-----+--------+--------+------+-----+-------+--------+-------+-----+--------+--------+------+-----+---------+---------+----------+---------+-----+-------+--------+----------------------+------+-------+-----+-----------+-------+-------+------+------+-------+-----+-------+-------+----------+----------+-------------+----------+-----+---------+-------+--------+--------+-----+----------+-------+----+--------------+-------+------+---------+----+------+------+----+---------------------+---------+------+-------+----------+-------+------+----------+----------+-------+------+-------+----------+--------+-------+-----+-----+---------------+-------+--------------+------------+--------+--------------+---------+-----+------+---------+------+--------------+-------+---------------------+-------+-------+------------+-------+-----+------+-------+----+-------+----+-------+-------+---------+----+----------+-----+-----+-----+-------+------+----+\n",
      "only showing top 5 rows\n",
      "\n"
     ]
    }
   ],
   "source": [
    "exploded_languages = movies_no_outliers_py.withColumn('exploded', explode(col('LanguagesArray'))).groupby('ID').pivot('exploded').count().na.fill(0)\n",
    "exploded_languages.show(5)"
   ]
  },
  {
   "cell_type": "code",
   "execution_count": 104,
   "metadata": {
    "colab": {
     "base_uri": "https://localhost:8080/"
    },
    "id": "MpOAxGekESqA",
    "outputId": "ff548649-4026-40af-f4f4-cf5ee67e0ee5"
   },
   "outputs": [
    {
     "name": "stdout",
     "output_type": "stream",
     "text": [
      "+----+-----------------+----+----+-------+----+-----------+-------+-------+-----------------+--------------------+--------------------+--------------------+---------------------+--------------+------------------+-------------------+------+---------+---------+---------+------+-----+-----------+-----+------+-------+---------+-------+------+-----+-------+-------+----+----------+-------+------+-----+-----+---------+--------+---+-------+-----------+-------+-------+---------+---------+-------+-------+-------+----------+-------+-------+-------+----------------------+------+--------+--------+------+--------------+----+-----+-----+--------+-----+----------+-------+----+------+--------------+--------------+-------+------------------+------------+-----+-------+--------+-------+------+-------+-------+-----+------+---------+-----+-----------------------------+---------+-------+-------+-----+---------+----+----+-------+------+-----+-------+-----+------+-----+----------+-------+-------+-----+---------+----------+------+--------+-----+------+------+----------+-------+-------+-----+-----------+-----------+-------+------+--------+---------+------+----------------+--------+----+-----------+------+--------+-----------+-----+---------------------------+-------+------+------+------------+-------+------+---------+--------+--------+------------+-----------+------------+-----+------+-----------+-----+------+--------+--------+--------------------------------+-------+------+------+-------+--------------------+--------------+-------------+-------+---------+-------+------------+----------+--------+------------------+----------+---------+----+--------+---------+----------------------+-------+----------------+------+---------+-------+--------+--------+--------------------+--------------------+------------------------+------+------+-----+-------+----------------+--------+-------+-----------------------+---------+---------+-------+--------+-------+-------+-----+--------+-----+------+----+-----+----------------+-------+---------+--------+---+--------+-------+-------+------+--------------------+-----+--------+--------+------+-----+-------+--------+-------+-----+--------+--------+------+-----+---------+---------+----------+---------+-----+-------+--------+----------------------+------+-------+-----+-----------+-------+-------+------+------+-------+-----+-------+-------+----------+----------+-------------+----------+-----+---------+-------+--------+--------+-----+----------+-------+----+--------------+-------+------+---------+----+------+------+----+---------------------+---------+------+-------+----------+-------+------+----------+----------+-------+------+-------+----------+--------+-------+-----+-----+---------------+-------+--------------+------------+--------+--------------+---------+-----+------+---------+------+--------------+-------+---------------------+-------+-------+------------+-------+-----+------+-------+----+-------+----+-------+-------+---------+----+----------+-----+-----+-----+-------+------+----+\n",
      "|  ID|            Title|Year|IMDb|Netflix|Hulu|Prime Video|Disney+|Runtime|   DirectorsArray|         GenresArray|      CountriesArray|      LanguagesArray|MinimumClassification|RottenTomatoes|       runtime_log|        rating_rate|Action|Adventure|Animation|Biography|Comedy|Crime|Documentary|Drama|Family|Fantasy|Film-Noir|History|Horror|Music|Musical|Mystery|News|Reality-TV|Romance|Sci-Fi|Short|Sport|Talk-Show|Thriller|War|Western|Afghanistan|Albania|Algeria|Argentina|Australia|Austria|Bahamas|Bahrain|Bangladesh|Belarus|Belgium|Bolivia|Bosnia and Herzegovina|Brazil|Bulgaria|Cambodia|Canada|Cayman Islands|Chad|Chile|China|Colombia|Congo|Costa Rica|Croatia|Cuba|Cyprus|Czech Republic|Czechoslovakia|Denmark|Dominican Republic|East Germany|Egypt|Estonia|Ethiopia|Finland|France|Georgia|Germany|Ghana|Greece|Guatemala|Haiti|Holy See (Vatican City State)|Hong Kong|Hungary|Iceland|India|Indonesia|Iran|Iraq|Ireland|Israel|Italy|Jamaica|Japan|Jordan|Kenya|Kyrgyzstan|Lebanon|Liberia|Libya|Lithuania|Luxembourg|Malawi|Malaysia|Malta|Mexico|Monaco|Montenegro|Morocco|Namibia|Nepal|Netherlands|New Zealand|Nigeria|Norway|Pakistan|Palestine|Panama|Papua New Guinea|Paraguay|Peru|Philippines|Poland|Portugal|Puerto Rico|Qatar|Republic of North Macedonia|Romania|Russia|Rwanda|Saudi Arabia|Senegal|Serbia|Singapore|Slovakia|Slovenia|South Africa|South Korea|Soviet Union|Spain|Sweden|Switzerland|Syria|Taiwan|Tanzania|Thailand|The Democratic Republic Of Congo|Tunisia|Turkey|Uganda|Ukraine|United Arab Emirates|United Kingdom|United States|Uruguay|Venezuela|Vietnam|West Germany|Yugoslavia|Zimbabwe| Ancient (to 1453)|Aboriginal|Afrikaans|Akan|Albanian|Algonquin|American Sign Language|Amharic|Apache languages|Arabic|Aragonese|Aramaic|Armenian|Assamese|Assyrian Neo-Aramaic|Athapascan languages|Australian Sign Language|Awadhi|Basque|Bemba|Bengali|Berber languages|Bhojpuri|Bosnian|Brazilian Sign Language|Bulgarian|Cantonese|Catalan|Cheyenne|Chinese|Cornish|Creek|Croatian|Czech|Danish|Dari|Dutch|East-Greenlandic|English|Esperanto|Estonian|Ewe|Filipino|Finnish|Flemish|French|French Sign Language|Fulah|Gallegan|Georgian|German|Greek|Guarani|Gujarati|Haitian|Hakka|Haryanvi|Hawaiian|Hebrew|Hindi|Hungarian|Icelandic|Indonesian|Inuktitut|Irish|Italian|Japanese|Japanese Sign Language|Kabyle|Kannada|Khmer|Kinyarwanda|Kirghiz|Klingon|Korean|Kriolu|Kurdish|Latin|Latvian|Lingala|Lithuanian|Low German|Luxembourgish|Macedonian|Malay|Malayalam|Maltese|Mandarin|Manipuri|Maori|Mapudungun|Marathi|Maya|Middle English|Min Nan|Mohawk|Mongolian|Nama|Navajo|Nepali|None|North American Indian|Norwegian|Nyanja|Occitan|Papiamento|Persian|Polish|Polynesian|Portuguese|Punjabi|Pushto|Quechua|Rajasthani|Romanian|Russian|Saami|Scots|Scottish Gaelic|Serbian|Serbo-Croatian|Shanghainese|Sicilian|Sign Languages|Sinhalese|Sioux|Slovak|Slovenian|Somali|Southern Sotho|Spanish|Spanish Sign Language|Swahili|Swedish|Swiss German|Tagalog|Tamil|Telugu|Teochew|Thai|Tibetan|Tupi|Turkish|Turkmen|Ukrainian|Urdu|Vietnamese|Welsh|Wolof|Xhosa|Yiddish|Yoruba|Zulu|\n",
      "+----+-----------------+----+----+-------+----+-----------+-------+-------+-----------------+--------------------+--------------------+--------------------+---------------------+--------------+------------------+-------------------+------+---------+---------+---------+------+-----+-----------+-----+------+-------+---------+-------+------+-----+-------+-------+----+----------+-------+------+-----+-----+---------+--------+---+-------+-----------+-------+-------+---------+---------+-------+-------+-------+----------+-------+-------+-------+----------------------+------+--------+--------+------+--------------+----+-----+-----+--------+-----+----------+-------+----+------+--------------+--------------+-------+------------------+------------+-----+-------+--------+-------+------+-------+-------+-----+------+---------+-----+-----------------------------+---------+-------+-------+-----+---------+----+----+-------+------+-----+-------+-----+------+-----+----------+-------+-------+-----+---------+----------+------+--------+-----+------+------+----------+-------+-------+-----+-----------+-----------+-------+------+--------+---------+------+----------------+--------+----+-----------+------+--------+-----------+-----+---------------------------+-------+------+------+------------+-------+------+---------+--------+--------+------------+-----------+------------+-----+------+-----------+-----+------+--------+--------+--------------------------------+-------+------+------+-------+--------------------+--------------+-------------+-------+---------+-------+------------+----------+--------+------------------+----------+---------+----+--------+---------+----------------------+-------+----------------+------+---------+-------+--------+--------+--------------------+--------------------+------------------------+------+------+-----+-------+----------------+--------+-------+-----------------------+---------+---------+-------+--------+-------+-------+-----+--------+-----+------+----+-----+----------------+-------+---------+--------+---+--------+-------+-------+------+--------------------+-----+--------+--------+------+-----+-------+--------+-------+-----+--------+--------+------+-----+---------+---------+----------+---------+-----+-------+--------+----------------------+------+-------+-----+-----------+-------+-------+------+------+-------+-----+-------+-------+----------+----------+-------------+----------+-----+---------+-------+--------+--------+-----+----------+-------+----+--------------+-------+------+---------+----+------+------+----+---------------------+---------+------+-------+----------+-------+------+----------+----------+-------+------+-------+----------+--------+-------+-----+-----+---------------+-------+--------------+------------+--------+--------------+---------+-----+------+---------+------+--------------+-------+---------------------+-------+-------+------------+-------+-----+------+-------+----+-------+----+-------+-------+---------+----+----------+-----+-----+-----+-------+------+----+\n",
      "|  26|       Ex Machina|2015| 7.7|      1|   0|          0|      0|  108.0|   [Alex Garland]|[Drama, Mystery, ...|[United Kingdom, ...|           [English]|                   18|           9.2|  2.03342375548695| 1.1948051948051948|     0|        0|        0|        0|     0|    0|          0|    1|     0|      0|        0|      0|     0|    0|      0|      1|   0|         0|      0|     1|    0|    0|        0|       1|  0|      0|          0|      0|      0|        0|        0|      0|      0|      0|         0|      0|      0|      0|                     0|     0|       0|       0|     0|             0|   0|    0|    0|       0|    0|         0|      0|   0|     0|             0|             0|      0|                 0|           0|    0|      0|       0|      0|     0|      0|      0|    0|     0|        0|    0|                            0|        0|      0|      0|    0|        0|   0|   0|      0|     0|    0|      0|    0|     0|    0|         0|      0|      0|    0|        0|         0|     0|       0|    0|     0|     0|         0|      0|      0|    0|          0|          0|      0|     0|       0|        0|     0|               0|       0|   0|          0|     0|       0|          0|    0|                          0|      0|     0|     0|           0|      0|     0|        0|       0|       0|           0|          0|           0|    0|     0|          0|    0|     0|       0|       0|                               0|      0|     0|     0|      0|                   0|             1|            1|      0|        0|      0|           0|         0|       0|                 0|         0|        0|   0|       0|        0|                     0|      0|               0|     0|        0|      0|       0|       0|                   0|                   0|                       0|     0|     0|    0|      0|               0|       0|      0|                      0|        0|        0|      0|       0|      0|      0|    0|       0|    0|     0|   0|    0|               0|      1|        0|       0|  0|       0|      0|      0|     0|                   0|    0|       0|       0|     0|    0|      0|       0|      0|    0|       0|       0|     0|    0|        0|        0|         0|        0|    0|      0|       0|                     0|     0|      0|    0|          0|      0|      0|     0|     0|      0|    0|      0|      0|         0|         0|            0|         0|    0|        0|      0|       0|       0|    0|         0|      0|   0|             0|      0|     0|        0|   0|     0|     0|   0|                    0|        0|     0|      0|         0|      0|     0|         0|         0|      0|     0|      0|         0|       0|      0|    0|    0|              0|      0|             0|           0|       0|             0|        0|    0|     0|        0|     0|             0|      0|                    0|      0|      0|           0|      0|    0|     0|      0|   0|      0|   0|      0|      0|        0|   0|         0|    0|    0|    0|      0|     0|   0|\n",
      "|  29|     The Irishman|2019| 7.9|      1|   0|          0|      0|  209.0|[Martin Scorsese]|[Biography, Crime...|     [United States]|[English, Italian...|                   18|           9.6| 2.320146286111054| 1.2151898734177213|     0|        0|        0|        1|     0|    1|          0|    1|     0|      0|        0|      0|     0|    0|      0|      0|   0|         0|      0|     0|    0|    0|        0|       0|  0|      0|          0|      0|      0|        0|        0|      0|      0|      0|         0|      0|      0|      0|                     0|     0|       0|       0|     0|             0|   0|    0|    0|       0|    0|         0|      0|   0|     0|             0|             0|      0|                 0|           0|    0|      0|       0|      0|     0|      0|      0|    0|     0|        0|    0|                            0|        0|      0|      0|    0|        0|   0|   0|      0|     0|    0|      0|    0|     0|    0|         0|      0|      0|    0|        0|         0|     0|       0|    0|     0|     0|         0|      0|      0|    0|          0|          0|      0|     0|       0|        0|     0|               0|       0|   0|          0|     0|       0|          0|    0|                          0|      0|     0|     0|           0|      0|     0|        0|       0|       0|           0|          0|           0|    0|     0|          0|    0|     0|       0|       0|                               0|      0|     0|     0|      0|                   0|             0|            1|      0|        0|      0|           0|         0|       0|                 0|         0|        0|   0|       0|        0|                     0|      0|               0|     0|        0|      0|       0|       0|                   0|                   0|                       0|     0|     0|    0|      0|               0|       0|      0|                      0|        0|        0|      0|       0|      0|      0|    0|       0|    0|     0|   0|    0|               0|      1|        0|       0|  0|       0|      0|      0|     0|                   0|    0|       0|       0|     1|    0|      0|       0|      0|    0|       0|       0|     0|    0|        0|        0|         0|        0|    0|      1|       0|                     0|     0|      0|    0|          0|      0|      0|     0|     0|      0|    1|      0|      0|         0|         0|            0|         0|    0|        0|      0|       0|       0|    0|         0|      0|   0|             0|      0|     0|        0|   0|     0|     0|   0|                    0|        0|     0|      0|         0|      0|     0|         0|         0|      0|     0|      0|         0|       0|      0|    0|    0|              0|      0|             0|           0|       0|             0|        0|    0|     0|        0|     0|             0|      1|                    0|      0|      0|           0|      0|    0|     0|      0|   0|      0|   0|      0|      0|        0|   0|         0|    0|    0|    0|      0|     0|   0|\n",
      "| 964|Happy Anniversary|2018| 5.7|      1|   0|          0|      0|   78.0|    [Jared Stern]|            [Comedy]|     [United States]|           [English]|                   -1|           8.3|1.8920946026904804|  1.456140350877193|     0|        0|        0|        0|     1|    0|          0|    0|     0|      0|        0|      0|     0|    0|      0|      0|   0|         0|      0|     0|    0|    0|        0|       0|  0|      0|          0|      0|      0|        0|        0|      0|      0|      0|         0|      0|      0|      0|                     0|     0|       0|       0|     0|             0|   0|    0|    0|       0|    0|         0|      0|   0|     0|             0|             0|      0|                 0|           0|    0|      0|       0|      0|     0|      0|      0|    0|     0|        0|    0|                            0|        0|      0|      0|    0|        0|   0|   0|      0|     0|    0|      0|    0|     0|    0|         0|      0|      0|    0|        0|         0|     0|       0|    0|     0|     0|         0|      0|      0|    0|          0|          0|      0|     0|       0|        0|     0|               0|       0|   0|          0|     0|       0|          0|    0|                          0|      0|     0|     0|           0|      0|     0|        0|       0|       0|           0|          0|           0|    0|     0|          0|    0|     0|       0|       0|                               0|      0|     0|     0|      0|                   0|             0|            1|      0|        0|      0|           0|         0|       0|                 0|         0|        0|   0|       0|        0|                     0|      0|               0|     0|        0|      0|       0|       0|                   0|                   0|                       0|     0|     0|    0|      0|               0|       0|      0|                      0|        0|        0|      0|       0|      0|      0|    0|       0|    0|     0|   0|    0|               0|      1|        0|       0|  0|       0|      0|      0|     0|                   0|    0|       0|       0|     0|    0|      0|       0|      0|    0|       0|       0|     0|    0|        0|        0|         0|        0|    0|      0|       0|                     0|     0|      0|    0|          0|      0|      0|     0|     0|      0|    0|      0|      0|         0|         0|            0|         0|    0|        0|      0|       0|       0|    0|         0|      0|   0|             0|      0|     0|        0|   0|     0|     0|   0|                    0|        0|     0|      0|         0|      0|     0|         0|         0|      0|     0|      0|         0|       0|      0|    0|    0|              0|      0|             0|           0|       0|             0|        0|    0|     0|        0|     0|             0|      0|                    0|      0|      0|           0|      0|    0|     0|      0|   0|      0|   0|      0|      0|        0|   0|         0|    0|    0|    0|      0|     0|   0|\n",
      "|2214|     Happy Family|2017| 4.8|      1|   0|          0|      0|   93.0|   [Holger Tappe]|[Animation, Comed...|[Germany, United ...|   [English, German]|                    7|           1.0| 1.968482948553935|0.20833333333333334|     0|        0|        1|        0|     1|    0|          0|    0|     1|      0|        0|      0|     1|    0|      0|      0|   0|         0|      0|     0|    0|    0|        0|       0|  0|      0|          0|      0|      0|        0|        0|      0|      0|      0|         0|      0|      0|      0|                     0|     0|       0|       0|     0|             0|   0|    0|    0|       0|    0|         0|      0|   0|     0|             0|             0|      0|                 0|           0|    0|      0|       0|      0|     0|      0|      1|    0|     0|        0|    0|                            0|        0|      0|      0|    0|        0|   0|   0|      0|     0|    0|      0|    0|     0|    0|         0|      0|      0|    0|        0|         0|     0|       0|    0|     0|     0|         0|      0|      0|    0|          0|          0|      0|     0|       0|        0|     0|               0|       0|   0|          0|     0|       0|          0|    0|                          0|      0|     0|     0|           0|      0|     0|        0|       0|       0|           0|          0|           0|    0|     0|          0|    0|     0|       0|       0|                               0|      0|     0|     0|      0|                   0|             1|            0|      0|        0|      0|           0|         0|       0|                 0|         0|        0|   0|       0|        0|                     0|      0|               0|     0|        0|      0|       0|       0|                   0|                   0|                       0|     0|     0|    0|      0|               0|       0|      0|                      0|        0|        0|      0|       0|      0|      0|    0|       0|    0|     0|   0|    0|               0|      1|        0|       0|  0|       0|      0|      0|     0|                   0|    0|       0|       0|     1|    0|      0|       0|      0|    0|       0|       0|     0|    0|        0|        0|         0|        0|    0|      0|       0|                     0|     0|      0|    0|          0|      0|      0|     0|     0|      0|    0|      0|      0|         0|         0|            0|         0|    0|        0|      0|       0|       0|    0|         0|      0|   0|             0|      0|     0|        0|   0|     0|     0|   0|                    0|        0|     0|      0|         0|      0|     0|         0|         0|      0|     0|      0|         0|       0|      0|    0|    0|              0|      0|             0|           0|       0|             0|        0|    0|     0|        0|     0|             0|      0|                    0|      0|      0|           0|      0|    0|     0|      0|   0|      0|   0|      0|      0|        0|   0|         0|    0|    0|    0|      0|     0|   0|\n",
      "|3764|        Every Day|2018| 6.4|      0|   1|          1|      0|   97.0|  [Michael Sucsy]|[Drama, Fantasy, ...|[Canada, United K...|           [English]|                   13|           6.3|1.9867717342662448| 0.9843749999999999|     0|        0|        0|        0|     0|    0|          0|    1|     0|      1|        0|      0|     0|    0|      0|      0|   0|         0|      1|     0|    0|    0|        0|       0|  0|      0|          0|      0|      0|        0|        0|      0|      0|      0|         0|      0|      0|      0|                     0|     0|       0|       0|     1|             0|   0|    0|    0|       0|    0|         0|      0|   0|     0|             0|             0|      0|                 0|           0|    0|      0|       0|      0|     0|      0|      0|    0|     0|        0|    0|                            0|        0|      0|      0|    0|        0|   0|   0|      0|     0|    0|      0|    0|     0|    0|         0|      0|      0|    0|        0|         0|     0|       0|    0|     0|     0|         0|      0|      0|    0|          0|          0|      0|     0|       0|        0|     0|               0|       0|   0|          0|     0|       0|          0|    0|                          0|      0|     0|     0|           0|      0|     0|        0|       0|       0|           0|          0|           0|    0|     0|          0|    0|     0|       0|       0|                               0|      0|     0|     0|      0|                   0|             1|            1|      0|        0|      0|           0|         0|       0|                 0|         0|        0|   0|       0|        0|                     0|      0|               0|     0|        0|      0|       0|       0|                   0|                   0|                       0|     0|     0|    0|      0|               0|       0|      0|                      0|        0|        0|      0|       0|      0|      0|    0|       0|    0|     0|   0|    0|               0|      1|        0|       0|  0|       0|      0|      0|     0|                   0|    0|       0|       0|     0|    0|      0|       0|      0|    0|       0|       0|     0|    0|        0|        0|         0|        0|    0|      0|       0|                     0|     0|      0|    0|          0|      0|      0|     0|     0|      0|    0|      0|      0|         0|         0|            0|         0|    0|        0|      0|       0|       0|    0|         0|      0|   0|             0|      0|     0|        0|   0|     0|     0|   0|                    0|        0|     0|      0|         0|      0|     0|         0|         0|      0|     0|      0|         0|       0|      0|    0|    0|              0|      0|             0|           0|       0|             0|        0|    0|     0|        0|     0|             0|      0|                    0|      0|      0|           0|      0|    0|     0|      0|   0|      0|   0|      0|      0|        0|   0|         0|    0|    0|    0|      0|     0|   0|\n",
      "+----+-----------------+----+----+-------+----+-----------+-------+-------+-----------------+--------------------+--------------------+--------------------+---------------------+--------------+------------------+-------------------+------+---------+---------+---------+------+-----+-----------+-----+------+-------+---------+-------+------+-----+-------+-------+----+----------+-------+------+-----+-----+---------+--------+---+-------+-----------+-------+-------+---------+---------+-------+-------+-------+----------+-------+-------+-------+----------------------+------+--------+--------+------+--------------+----+-----+-----+--------+-----+----------+-------+----+------+--------------+--------------+-------+------------------+------------+-----+-------+--------+-------+------+-------+-------+-----+------+---------+-----+-----------------------------+---------+-------+-------+-----+---------+----+----+-------+------+-----+-------+-----+------+-----+----------+-------+-------+-----+---------+----------+------+--------+-----+------+------+----------+-------+-------+-----+-----------+-----------+-------+------+--------+---------+------+----------------+--------+----+-----------+------+--------+-----------+-----+---------------------------+-------+------+------+------------+-------+------+---------+--------+--------+------------+-----------+------------+-----+------+-----------+-----+------+--------+--------+--------------------------------+-------+------+------+-------+--------------------+--------------+-------------+-------+---------+-------+------------+----------+--------+------------------+----------+---------+----+--------+---------+----------------------+-------+----------------+------+---------+-------+--------+--------+--------------------+--------------------+------------------------+------+------+-----+-------+----------------+--------+-------+-----------------------+---------+---------+-------+--------+-------+-------+-----+--------+-----+------+----+-----+----------------+-------+---------+--------+---+--------+-------+-------+------+--------------------+-----+--------+--------+------+-----+-------+--------+-------+-----+--------+--------+------+-----+---------+---------+----------+---------+-----+-------+--------+----------------------+------+-------+-----+-----------+-------+-------+------+------+-------+-----+-------+-------+----------+----------+-------------+----------+-----+---------+-------+--------+--------+-----+----------+-------+----+--------------+-------+------+---------+----+------+------+----+---------------------+---------+------+-------+----------+-------+------+----------+----------+-------+------+-------+----------+--------+-------+-----+-----+---------------+-------+--------------+------------+--------+--------------+---------+-----+------+---------+------+--------------+-------+---------------------+-------+-------+------------+-------+-----+------+-------+----+-------+----+-------+-------+---------+----+----------+-----+-----+-----+-------+------+----+\n",
      "only showing top 5 rows\n",
      "\n"
     ]
    }
   ],
   "source": [
    "movies_exploded = movies_no_outliers_py.join(exploded_genres, 'ID')\n",
    "movies_exploded = movies_exploded.join(exploded_countries,'ID')\n",
    "movies_exploded = movies_exploded.join(exploded_languages,'ID')\n",
    "movies_exploded.show(5)"
   ]
  },
  {
   "cell_type": "markdown",
   "metadata": {
    "id": "LnE62TLWqT-j"
   },
   "source": [
    "Vamos dropar as colunas que não queremos que participem das regressões, no caso iremos remover as colunas que geramos na parte de análises e a coluna 'ID' que não tem informação relevante."
   ]
  },
  {
   "cell_type": "code",
   "execution_count": 105,
   "metadata": {
    "colab": {
     "base_uri": "https://localhost:8080/",
     "height": 278
    },
    "id": "gx2_3JJl_GoH",
    "outputId": "8bc990e6-3b7d-42d4-dc15-a16b0ffe44f7"
   },
   "outputs": [
    {
     "data": {
      "text/html": [
       "<div>\n",
       "<style scoped>\n",
       "    .dataframe tbody tr th:only-of-type {\n",
       "        vertical-align: middle;\n",
       "    }\n",
       "\n",
       "    .dataframe tbody tr th {\n",
       "        vertical-align: top;\n",
       "    }\n",
       "\n",
       "    .dataframe thead th {\n",
       "        text-align: right;\n",
       "    }\n",
       "</style>\n",
       "<table border=\"1\" class=\"dataframe\">\n",
       "  <thead>\n",
       "    <tr style=\"text-align: right;\">\n",
       "      <th></th>\n",
       "      <th>Year</th>\n",
       "      <th>IMDb</th>\n",
       "      <th>Netflix</th>\n",
       "      <th>Hulu</th>\n",
       "      <th>Prime Video</th>\n",
       "      <th>Disney+</th>\n",
       "      <th>Runtime</th>\n",
       "      <th>MinimumClassification</th>\n",
       "      <th>RottenTomatoes</th>\n",
       "      <th>Action</th>\n",
       "      <th>...</th>\n",
       "      <th>Turkmen</th>\n",
       "      <th>Ukrainian</th>\n",
       "      <th>Urdu</th>\n",
       "      <th>Vietnamese</th>\n",
       "      <th>Welsh</th>\n",
       "      <th>Wolof</th>\n",
       "      <th>Xhosa</th>\n",
       "      <th>Yiddish</th>\n",
       "      <th>Yoruba</th>\n",
       "      <th>Zulu</th>\n",
       "    </tr>\n",
       "  </thead>\n",
       "  <tbody>\n",
       "    <tr>\n",
       "      <th>0</th>\n",
       "      <td>2015</td>\n",
       "      <td>7.7</td>\n",
       "      <td>1</td>\n",
       "      <td>0</td>\n",
       "      <td>0</td>\n",
       "      <td>0</td>\n",
       "      <td>108.0</td>\n",
       "      <td>18</td>\n",
       "      <td>9.2</td>\n",
       "      <td>0</td>\n",
       "      <td>...</td>\n",
       "      <td>0</td>\n",
       "      <td>0</td>\n",
       "      <td>0</td>\n",
       "      <td>0</td>\n",
       "      <td>0</td>\n",
       "      <td>0</td>\n",
       "      <td>0</td>\n",
       "      <td>0</td>\n",
       "      <td>0</td>\n",
       "      <td>0</td>\n",
       "    </tr>\n",
       "    <tr>\n",
       "      <th>1</th>\n",
       "      <td>2019</td>\n",
       "      <td>7.9</td>\n",
       "      <td>1</td>\n",
       "      <td>0</td>\n",
       "      <td>0</td>\n",
       "      <td>0</td>\n",
       "      <td>209.0</td>\n",
       "      <td>18</td>\n",
       "      <td>9.6</td>\n",
       "      <td>0</td>\n",
       "      <td>...</td>\n",
       "      <td>0</td>\n",
       "      <td>0</td>\n",
       "      <td>0</td>\n",
       "      <td>0</td>\n",
       "      <td>0</td>\n",
       "      <td>0</td>\n",
       "      <td>0</td>\n",
       "      <td>0</td>\n",
       "      <td>0</td>\n",
       "      <td>0</td>\n",
       "    </tr>\n",
       "    <tr>\n",
       "      <th>2</th>\n",
       "      <td>2018</td>\n",
       "      <td>5.7</td>\n",
       "      <td>1</td>\n",
       "      <td>0</td>\n",
       "      <td>0</td>\n",
       "      <td>0</td>\n",
       "      <td>78.0</td>\n",
       "      <td>-1</td>\n",
       "      <td>8.3</td>\n",
       "      <td>0</td>\n",
       "      <td>...</td>\n",
       "      <td>0</td>\n",
       "      <td>0</td>\n",
       "      <td>0</td>\n",
       "      <td>0</td>\n",
       "      <td>0</td>\n",
       "      <td>0</td>\n",
       "      <td>0</td>\n",
       "      <td>0</td>\n",
       "      <td>0</td>\n",
       "      <td>0</td>\n",
       "    </tr>\n",
       "    <tr>\n",
       "      <th>3</th>\n",
       "      <td>2017</td>\n",
       "      <td>4.8</td>\n",
       "      <td>1</td>\n",
       "      <td>0</td>\n",
       "      <td>0</td>\n",
       "      <td>0</td>\n",
       "      <td>93.0</td>\n",
       "      <td>7</td>\n",
       "      <td>1.0</td>\n",
       "      <td>0</td>\n",
       "      <td>...</td>\n",
       "      <td>0</td>\n",
       "      <td>0</td>\n",
       "      <td>0</td>\n",
       "      <td>0</td>\n",
       "      <td>0</td>\n",
       "      <td>0</td>\n",
       "      <td>0</td>\n",
       "      <td>0</td>\n",
       "      <td>0</td>\n",
       "      <td>0</td>\n",
       "    </tr>\n",
       "    <tr>\n",
       "      <th>4</th>\n",
       "      <td>2018</td>\n",
       "      <td>6.4</td>\n",
       "      <td>0</td>\n",
       "      <td>1</td>\n",
       "      <td>1</td>\n",
       "      <td>0</td>\n",
       "      <td>97.0</td>\n",
       "      <td>13</td>\n",
       "      <td>6.3</td>\n",
       "      <td>0</td>\n",
       "      <td>...</td>\n",
       "      <td>0</td>\n",
       "      <td>0</td>\n",
       "      <td>0</td>\n",
       "      <td>0</td>\n",
       "      <td>0</td>\n",
       "      <td>0</td>\n",
       "      <td>0</td>\n",
       "      <td>0</td>\n",
       "      <td>0</td>\n",
       "      <td>0</td>\n",
       "    </tr>\n",
       "  </tbody>\n",
       "</table>\n",
       "<p>5 rows × 310 columns</p>\n",
       "</div>"
      ],
      "text/plain": [
       "   Year  IMDb  Netflix  Hulu  Prime Video  Disney+  Runtime  \\\n",
       "0  2015   7.7        1     0            0        0    108.0   \n",
       "1  2019   7.9        1     0            0        0    209.0   \n",
       "2  2018   5.7        1     0            0        0     78.0   \n",
       "3  2017   4.8        1     0            0        0     93.0   \n",
       "4  2018   6.4        0     1            1        0     97.0   \n",
       "\n",
       "   MinimumClassification  RottenTomatoes  Action  ...  Turkmen  Ukrainian  \\\n",
       "0                     18             9.2       0  ...        0          0   \n",
       "1                     18             9.6       0  ...        0          0   \n",
       "2                     -1             8.3       0  ...        0          0   \n",
       "3                      7             1.0       0  ...        0          0   \n",
       "4                     13             6.3       0  ...        0          0   \n",
       "\n",
       "   Urdu  Vietnamese  Welsh  Wolof  Xhosa  Yiddish  Yoruba  Zulu  \n",
       "0     0           0      0      0      0        0       0     0  \n",
       "1     0           0      0      0      0        0       0     0  \n",
       "2     0           0      0      0      0        0       0     0  \n",
       "3     0           0      0      0      0        0       0     0  \n",
       "4     0           0      0      0      0        0       0     0  \n",
       "\n",
       "[5 rows x 310 columns]"
      ]
     },
     "execution_count": 105,
     "metadata": {},
     "output_type": "execute_result"
    }
   ],
   "source": [
    "movies_data = movies_exploded.toPandas()\n",
    "movies_data = movies_data.drop(['rating_rate', 'runtime_log', 'LanguagesArray', 'CountriesArray', 'DirectorsArray', 'Title', 'GenresArray', 'ID'], axis = 1)\n",
    "movies_data.head(5)"
   ]
  },
  {
   "cell_type": "markdown",
   "metadata": {
    "id": "Fbgq828v6B5F"
   },
   "source": [
    "Vamos separar o dataset com as variaveis dependentes e target"
   ]
  },
  {
   "cell_type": "code",
   "execution_count": 106,
   "metadata": {
    "id": "HKvsKKdb6A4z"
   },
   "outputs": [],
   "source": [
    "X = movies_data.drop('IMDb', axis=1)\n",
    "y = movies_data['IMDb']"
   ]
  },
  {
   "cell_type": "markdown",
   "metadata": {
    "id": "wXPTRHl56q2s"
   },
   "source": [
    "Analisaremos agora quais variaveis são dependentes e remover as independentes para nossas regressões."
   ]
  },
  {
   "cell_type": "code",
   "execution_count": 107,
   "metadata": {
    "colab": {
     "base_uri": "https://localhost:8080/"
    },
    "id": "4DnL5AX1574K",
    "outputId": "4a24114a-b611-4fd0-c01d-78891f9651b9"
   },
   "outputs": [
    {
     "data": {
      "text/plain": [
       "Index(['Netflix', 'Prime Video', 'Family', 'Fantasy', 'Film-Noir', 'Music',\n",
       "       'Sci-Fi', 'Sport', 'Talk-Show', 'Afghanistan',\n",
       "       ...\n",
       "       'Teochew', 'Thai', 'Tupi', 'Turkish', 'Ukrainian', 'Vietnamese',\n",
       "       'Wolof', 'Xhosa', 'Yoruba', 'Zulu'],\n",
       "      dtype='object', length=159)"
      ]
     },
     "execution_count": 107,
     "metadata": {},
     "output_type": "execute_result"
    }
   ],
   "source": [
    "from sklearn.feature_selection import mutual_info_regression\n",
    "import pandas as pd\n",
    "import numpy as np\n",
    "\n",
    "mi = mutual_info_regression(X, y)\n",
    "mi = pd.Series(mi)\n",
    "mi.index = X.columns\n",
    "\n",
    "df = pd.DataFrame(mi, columns=['mutual_information_score'])\n",
    "no_mutual_information = df[(df['mutual_information_score'] == 0) | (df['mutual_information_score'] == None)]\n",
    "no_mutual_information_features = no_mutual_information.index\n",
    "no_mutual_information_features"
   ]
  },
  {
   "cell_type": "code",
   "execution_count": 108,
   "metadata": {
    "colab": {
     "base_uri": "https://localhost:8080/"
    },
    "id": "XadagdMC6-mS",
    "outputId": "065f9137-19d1-4533-f39e-0f8610d03263"
   },
   "outputs": [
    {
     "data": {
      "text/plain": [
       "(5014, 310)"
      ]
     },
     "execution_count": 108,
     "metadata": {},
     "output_type": "execute_result"
    }
   ],
   "source": [
    "movies_data.shape"
   ]
  },
  {
   "cell_type": "code",
   "execution_count": 109,
   "metadata": {
    "colab": {
     "base_uri": "https://localhost:8080/"
    },
    "id": "nwo6h8ZH582x",
    "outputId": "56943ff7-d19a-420e-8db4-e79a34b7ebf4"
   },
   "outputs": [
    {
     "data": {
      "text/plain": [
       "(5014, 151)"
      ]
     },
     "execution_count": 109,
     "metadata": {},
     "output_type": "execute_result"
    }
   ],
   "source": [
    "movies_data_no_mi = movies_data.drop(no_mutual_information_features, axis = 1)\n",
    "movies_data_no_mi.shape"
   ]
  },
  {
   "cell_type": "markdown",
   "metadata": {
    "id": "tlWAnL3V7qIX"
   },
   "source": [
    "Removemos entao 155 variáveis independentes"
   ]
  },
  {
   "cell_type": "code",
   "execution_count": 110,
   "metadata": {
    "id": "a91Z86Lr659x"
   },
   "outputs": [],
   "source": [
    "movies_data = movies_data_no_mi\n",
    "X = movies_data.drop('IMDb', axis=1)\n",
    "y = movies_data['IMDb']"
   ]
  },
  {
   "cell_type": "markdown",
   "metadata": {
    "id": "2xCuE4rKqyQg"
   },
   "source": [
    "#### Separando dados para treinamento e teste"
   ]
  },
  {
   "cell_type": "markdown",
   "metadata": {
    "id": "JXYRtZnEq-9u"
   },
   "source": [
    "Fazendo uso da função `train_test_split` do `sklean`, iremos separar o dataset para 1/3 de teste e o resto de treinamento."
   ]
  },
  {
   "cell_type": "code",
   "execution_count": 111,
   "metadata": {
    "id": "2_3hqB0iQ6m0"
   },
   "outputs": [],
   "source": [
    "from sklearn.model_selection import train_test_split\n",
    "\n",
    "X_train, X_test, y_train, y_test = train_test_split(X, y, test_size=0.33, random_state=0)"
   ]
  },
  {
   "cell_type": "markdown",
   "metadata": {
    "id": "JTPIgyR8rVsQ"
   },
   "source": [
    "#### Algoritmos"
   ]
  },
  {
   "cell_type": "markdown",
   "metadata": {
    "id": "n3HicgYKsqsz"
   },
   "source": [
    "Utilizaremos essa função para plotar gráficos básicos com a finalidade de ter uma ideia da qualidade do algortimo em predizer as notas."
   ]
  },
  {
   "cell_type": "code",
   "execution_count": 134,
   "metadata": {},
   "outputs": [],
   "source": [
    "from sklearn.linear_model import LinearRegression\n",
    "from sklearn.neural_network import MLPRegressor\n",
    "from sklearn.tree import DecisionTreeRegressor\n",
    "from sklearn.ensemble import RandomForestRegressor"
   ]
  },
  {
   "cell_type": "markdown",
   "metadata": {
    "id": "0KfWVPJRrYWq"
   },
   "source": [
    "##### Linear Regression"
   ]
  },
  {
   "cell_type": "code",
   "execution_count": 116,
   "metadata": {
    "colab": {
     "base_uri": "https://localhost:8080/",
     "height": 313
    },
    "id": "WgbiM93GQdvo",
    "outputId": "3e3eaa51-96c5-4eaf-c9c6-abfb0aa5e1dd"
   },
   "outputs": [
    {
     "name": "stdout",
     "output_type": "stream",
     "text": [
      "INFO: 'MovieIt-LinearRegression' does not exist. Creating a new experiment\n",
      "LinearRegression\n",
      "  RMSE: 0.6771644035855332\n",
      "  MAE: 0.5238937448605483\n",
      "  R2: 0.5200421477992665\n"
     ]
    },
    {
     "data": {
      "image/png": "[encoded data removed]",
      "text/plain": [
       "<Figure size 432x288 with 1 Axes>"
      ]
     },
     "metadata": {
      "needs_background": "light"
     },
     "output_type": "display_data"
    }
   ],
   "source": [
    "linearRegression = LinearRegression()\n",
    "linearRegressionName = 'LinearRegression'\n",
    "\n",
    "run_experiment_with_model(linearRegression, linearRegressionName, X_train, y_train, X_test, y_test)"
   ]
  },
  {
   "cell_type": "markdown",
   "metadata": {
    "id": "DMwiVdUxtZtK"
   },
   "source": [
    "##### Decision Tree Regressor"
   ]
  },
  {
   "cell_type": "code",
   "execution_count": 117,
   "metadata": {
    "colab": {
     "base_uri": "https://localhost:8080/",
     "height": 0
    },
    "id": "zA9OWXG7k6u8",
    "outputId": "c0e1e5c9-104b-48b4-b744-1a1643eab973"
   },
   "outputs": [
    {
     "name": "stdout",
     "output_type": "stream",
     "text": [
      "INFO: 'MovieIt-DecisionTreeRegressor' does not exist. Creating a new experiment\n",
      "DecisionTreeRegressor\n",
      "  RMSE: 0.9753704076012195\n",
      "  MAE: 0.7376435045317221\n",
      "  R2: 0.004241527425251301\n"
     ]
    },
    {
     "data": {
      "image/png": "[encoded data removed]",
      "text/plain": [
       "<Figure size 432x288 with 1 Axes>"
      ]
     },
     "metadata": {
      "needs_background": "light"
     },
     "output_type": "display_data"
    }
   ],
   "source": [
    "decisionTree = DecisionTreeRegressor()\n",
    "decisionTreeName = 'DecisionTreeRegressor'\n",
    "\n",
    "\n",
    "run_experiment_with_model(decisionTree, decisionTreeName, X_train, y_train, X_test, y_test)"
   ]
  },
  {
   "cell_type": "markdown",
   "metadata": {
    "id": "EOzogOFStosS"
   },
   "source": [
    "##### MLPRegressor"
   ]
  },
  {
   "cell_type": "code",
   "execution_count": 128,
   "metadata": {
    "colab": {
     "base_uri": "https://localhost:8080/",
     "height": 0
    },
    "id": "w696n-TYuyPE",
    "outputId": "22eeb3a3-b163-43d4-e70d-48aef0d37cf2"
   },
   "outputs": [
    {
     "name": "stdout",
     "output_type": "stream",
     "text": [
      "INFO: 'MovieIt-MLPRegressor' does not exist. Creating a new experiment\n",
      "MLPRegressor\n",
      "  RMSE: 0.7435703438075231\n",
      "  MAE: 0.5929414657236275\n",
      "  R2: 0.4212926734455241\n"
     ]
    },
    {
     "data": {
      "image/png": "[encoded data removed]",
      "text/plain": [
       "<Figure size 432x288 with 1 Axes>"
      ]
     },
     "metadata": {
      "needs_background": "light"
     },
     "output_type": "display_data"
    }
   ],
   "source": [
    "mlpRegressor = MLPRegressor()  \n",
    "mlpRegressorName = 'MLPRegressor'\n",
    "\n",
    "\n",
    "run_experiment_with_model(mlpRegressor, mlpRegressorName, X_train, y_train, X_test, y_test)"
   ]
  },
  {
   "cell_type": "markdown",
   "metadata": {
    "id": "KGgYQhq5tz0S"
   },
   "source": [
    "##### RandomForest"
   ]
  },
  {
   "cell_type": "code",
   "execution_count": 119,
   "metadata": {
    "colab": {
     "base_uri": "https://localhost:8080/",
     "height": 330
    },
    "id": "ueFrVRPkRNVq",
    "outputId": "5bb2a8b1-14cc-46fb-87ca-9039482f3182"
   },
   "outputs": [
    {
     "name": "stdout",
     "output_type": "stream",
     "text": [
      "INFO: 'MovieIt-RandomForestRegressor' does not exist. Creating a new experiment\n",
      "RandomForestRegressor\n",
      "  RMSE: 0.673909736037612\n",
      "  MAE: 0.5135383685800603\n",
      "  R2: 0.5246447206902891\n"
     ]
    },
    {
     "data": {
      "image/png": "[encoded data removed]",
      "text/plain": [
       "<Figure size 432x288 with 1 Axes>"
      ]
     },
     "metadata": {
      "needs_background": "light"
     },
     "output_type": "display_data"
    }
   ],
   "source": [
    "randomForest = RandomForestRegressor()\n",
    "randomForestName = 'RandomForestRegressor'\n",
    "\n",
    "\n",
    "run_experiment_with_model(randomForest, randomForestName, X_train, y_train, X_test, y_test)"
   ]
  },
  {
   "cell_type": "markdown",
   "metadata": {},
   "source": [
    "#### Hiperparametrizando algoritmos"
   ]
  },
  {
   "cell_type": "code",
   "execution_count": 152,
   "metadata": {},
   "outputs": [],
   "source": [
    "from sklearn.model_selection import RepeatedStratifiedKFold, GridSearchCV\n",
    "from sklearn.feature_selection import SelectKBest\n",
    "from sklearn.feature_selection import f_regression\n",
    "from sklearn.pipeline import Pipeline\n",
    "from sklearn.model_selection import RepeatedKFold"
   ]
  },
  {
   "cell_type": "code",
   "execution_count": 182,
   "metadata": {},
   "outputs": [],
   "source": [
    "def search_best_hiper_paremeters(grid, model, X, y):\n",
    "    cv = RepeatedKFold(n_splits=10, n_repeats=3, random_state=1)\n",
    "    \n",
    "    search = GridSearchCV(estimator=model, param_grid=grid, scoring='r2', n_jobs=-1, cv=cv)\n",
    "    grid_result = search.fit(X, y)\n",
    "    \n",
    "    print('Best R2: %.3f' % grid_result.best_score_)\n",
    "    print('Best Config: %s' % grid_result.best_params_)\n",
    "    \n",
    "    means = grid_result.cv_results_['mean_test_score']\n",
    "    stds = grid_result.cv_results_['std_test_score']\n",
    "    params = grid_result.cv_results_['params']\n",
    "    for mean, stdev, param in zip(means, stds, params):\n",
    "        print(\"%f (%f) with: %r\" % (mean, stdev, param))\n",
    "    \n",
    "    return grid_result.best_params_"
   ]
  },
  {
   "cell_type": "markdown",
   "metadata": {},
   "source": [
    "##### Grid Linear Regression"
   ]
  },
  {
   "cell_type": "code",
   "execution_count": 181,
   "metadata": {},
   "outputs": [
    {
     "name": "stdout",
     "output_type": "stream",
     "text": [
      "Best R2: 0.524\n",
      "Best Config: {'fit_intercept': True, 'normalize': False}\n",
      "-228306256513984547885416448.000000 (757945502816200457524871168.000000) with: {'fit_intercept': True, 'normalize': True}\n",
      "0.523723 (0.023306) with: {'fit_intercept': True, 'normalize': False}\n",
      "0.492111 (0.027004) with: {'fit_intercept': False, 'normalize': True}\n",
      "0.492111 (0.027004) with: {'fit_intercept': False, 'normalize': False}\n"
     ]
    },
    {
     "data": {
      "text/plain": [
       "{'fit_intercept': True, 'normalize': False}"
      ]
     },
     "execution_count": 181,
     "metadata": {},
     "output_type": "execute_result"
    }
   ],
   "source": [
    "gridLinearRegression = dict(fit_intercept=[True, False],normalize=[True, False])\n",
    "\n",
    "search_best_hiper_paremeters(gridLinearRegression, linearRegression, X, y)"
   ]
  },
  {
   "cell_type": "code",
   "execution_count": null,
   "metadata": {},
   "outputs": [],
   "source": []
  },
  {
   "cell_type": "code",
   "execution_count": null,
   "metadata": {},
   "outputs": [],
   "source": []
  }
 ],
 "metadata": {
  "colab": {
   "collapsed_sections": [],
   "name": "MoveIt.ipynb",
   "provenance": []
  },
  "kernelspec": {
   "display_name": "Python 3",
   "language": "python",
   "name": "python3"
  },
  "language_info": {
   "codemirror_mode": {
    "name": "ipython",
    "version": 3
   },
   "file_extension": ".py",
   "mimetype": "text/x-python",
   "name": "python",
   "nbconvert_exporter": "python",
   "pygments_lexer": "ipython3",
   "version": "3.8.5"
  }
 },
 "nbformat": 4,
 "nbformat_minor": 1
}
